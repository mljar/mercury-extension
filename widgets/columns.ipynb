{
 "cells": [
  {
   "cell_type": "code",
   "execution_count": 5,
   "id": "5aa8e1d7-9621-4633-9e96-5f6ccbb01315",
   "metadata": {},
   "outputs": [],
   "source": [
    "from columns import Columns\n"
   ]
  },
  {
   "cell_type": "code",
   "execution_count": 6,
   "id": "17be45d4-dd4a-45e4-b454-ced7ff44f1fc",
   "metadata": {},
   "outputs": [
    {
     "data": {
      "application/vnd.jupyter.widget-view+json": {
       "model_id": "a9b1fe538b78417983a621ba70fc4355",
       "version_major": 2,
       "version_minor": 0
      },
      "text/plain": [
       "HBox(children=(Output(layout=Layout(flex='1 1 0px', min_width='240px')), Output(layout=Layout(flex='1 1 0px', …"
      ]
     },
     "metadata": {},
     "output_type": "display_data"
    }
   ],
   "source": [
    "import matplotlib.pyplot as plt\n",
    "import numpy as np\n",
    "\n",
    "col1, col2, col3 = Columns(3)\n",
    "\n",
    "with col1:\n",
    "    x = np.linspace(0, 2*np.pi, 100)\n",
    "    y = np.sin(x)\n",
    "    plt.figure(figsize=(3,2))\n",
    "    plt.plot(x, y)\n",
    "    plt.title('Sine Wave')\n",
    "    plt.tight_layout()\n",
    "    plt.show()\n",
    "\n",
    "with col2:\n",
    "    x = np.linspace(0, 2*np.pi, 100)\n",
    "    y = np.cos(x)\n",
    "    plt.figure(figsize=(3,2))\n",
    "    plt.plot(x, y, color='orange')\n",
    "    plt.title('Cosine Wave')\n",
    "    plt.tight_layout()\n",
    "    plt.show()\n",
    "\n",
    "with col3:\n",
    "    x = np.linspace(0, 2*np.pi, 100)\n",
    "    y = np.sin(x) * np.cos(x)\n",
    "    plt.figure(figsize=(3,2))\n",
    "    plt.plot(x, y, color='green')\n",
    "    plt.title('Sin(x)*Cos(x)')\n",
    "    plt.tight_layout()\n",
    "    plt.show()\n"
   ]
  },
  {
   "cell_type": "code",
   "execution_count": 7,
   "id": "a6d6de5b-a5e5-4265-921d-27e63957527c",
   "metadata": {},
   "outputs": [],
   "source": [
    "col1.clear_output(wait=True)"
   ]
  },
  {
   "cell_type": "code",
   "execution_count": 8,
   "id": "3f2b9f43-9308-4a93-bfba-3dd188eb9ca3",
   "metadata": {},
   "outputs": [],
   "source": [
    "with col1:\n",
    "    x = np.linspace(0, 2*np.pi, 100)\n",
    "    y = np.sin(x) * np.cos(x)\n",
    "    plt.figure(figsize=(3,2))\n",
    "    plt.plot(x, y, color='green')\n",
    "    plt.title('Sin(x)*Cos(x)')\n",
    "    plt.tight_layout()\n",
    "    plt.show()"
   ]
  }
 ],
 "metadata": {
  "kernelspec": {
   "display_name": "Python 3 (ipykernel)",
   "language": "python",
   "name": "python3"
  },
  "language_info": {
   "codemirror_mode": {
    "name": "ipython",
    "version": 3
   },
   "file_extension": ".py",
   "mimetype": "text/x-python",
   "name": "python",
   "nbconvert_exporter": "python",
   "pygments_lexer": "ipython3",
   "version": "3.11.5"
  }
 },
 "nbformat": 4,
 "nbformat_minor": 5
}
