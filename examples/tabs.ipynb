{
 "cells": [
  {
   "cell_type": "code",
   "execution_count": 1,
   "id": "eb82852d-8fb9-4f41-8042-24bd23baea97",
   "metadata": {},
   "outputs": [],
   "source": [
    "from widgets.tabs import Tabs\n",
    "from widgets import display"
   ]
  },
  {
   "cell_type": "code",
   "execution_count": 2,
   "id": "a77f8592-75c3-4309-a326-b5a93b8d1430",
   "metadata": {},
   "outputs": [
    {
     "data": {
      "application/vnd.jupyter.widget-view+json": {
       "model_id": "ed4120a4d55e44c485a075dbc9355a47",
       "version_major": 2,
       "version_minor": 0
      },
      "text/plain": [
       "HTML(value='\\n    <style>\\n      .mljar-tabs {\\n        width: 100%;\\n        border: 1px solid #ddd;\\n       …"
      ]
     },
     "metadata": {},
     "output_type": "display_data"
    },
    {
     "data": {
      "application/vnd.jupyter.widget-view+json": {
       "model_id": "8f890808d46d4c01832e7147c70fda9b",
       "version_major": 2,
       "version_minor": 0
      },
      "text/plain": [
       "VBox(children=(_TabsHeaderWidget(active=1, labels=['Overview', 'Charts', 'Logs']), VBox(children=(Box(children…"
      ]
     },
     "metadata": {},
     "output_type": "display_data"
    }
   ],
   "source": [
    "outs = Tabs(labels=[\"Overview\", \"Charts\", \"Logs\"], active=1, key=\"demo-tabs\")\n",
    "\n",
    "with outs[0]:\n",
    "    print(\"Overview content\")\n",
    "\n",
    "with outs[1]:\n",
    "    print(\"Charts content\")\n",
    "\n",
    "with outs[2]:\n",
    "    print(\"Logs content\")"
   ]
  },
  {
   "cell_type": "code",
   "execution_count": null,
   "id": "b1fd5c25-9f82-4565-b2fe-bfeeeeced6a2",
   "metadata": {},
   "outputs": [],
   "source": []
  },
  {
   "cell_type": "code",
   "execution_count": 3,
   "id": "27c2c973-1274-4919-8516-333ce87b3126",
   "metadata": {},
   "outputs": [],
   "source": [
    "import pandas as pd\n",
    "df = pd.DataFrame({\"a\": [1,2,3]})\n",
    "with outs[2]:\n",
    "    display(df)"
   ]
  },
  {
   "cell_type": "code",
   "execution_count": null,
   "id": "58bbd10b-af51-4ed0-9df5-e2cdcd0489b4",
   "metadata": {},
   "outputs": [],
   "source": []
  },
  {
   "cell_type": "code",
   "execution_count": null,
   "id": "8ad077e7-8a1a-4dfe-953f-33f62f53306f",
   "metadata": {},
   "outputs": [],
   "source": []
  },
  {
   "cell_type": "code",
   "execution_count": null,
   "id": "a464b495-8e9a-464b-aecf-d32d397694d4",
   "metadata": {},
   "outputs": [],
   "source": []
  }
 ],
 "metadata": {
  "kernelspec": {
   "display_name": "Python 3 (ipykernel)",
   "language": "python",
   "name": "python3"
  },
  "language_info": {
   "codemirror_mode": {
    "name": "ipython",
    "version": 3
   },
   "file_extension": ".py",
   "mimetype": "text/x-python",
   "name": "python",
   "nbconvert_exporter": "python",
   "pygments_lexer": "ipython3",
   "version": "3.11.5"
  },
  "widgets": {
   "application/vnd.jupyter.widget-state+json": {
    "state": {
     "114c328d34d7461aa15dbe8d8a511b83": {
      "model_module": "@jupyter-widgets/base",
      "model_module_version": "2.0.0",
      "model_name": "LayoutModel",
      "state": {}
     },
     "2ce91b4d263f42b087e843ea4b137b99": {
      "model_module": "@jupyter-widgets/controls",
      "model_module_version": "2.0.0",
      "model_name": "HTMLStyleModel",
      "state": {
       "description_width": "",
       "font_size": null,
       "text_color": null
      }
     },
     "310978be8c234741a86318d37e2cc527": {
      "model_module": "@jupyter-widgets/base",
      "model_module_version": "2.0.0",
      "model_name": "LayoutModel",
      "state": {
       "width": "100%"
      }
     },
     "4ce642c721f3479fa738491641cdf84e": {
      "model_module": "@jupyter-widgets/output",
      "model_module_version": "1.0.0",
      "model_name": "OutputModel",
      "state": {
       "layout": "IPY_MODEL_6aa6e6b233874b9893d2ef1a96b1bba2",
       "outputs": [
        {
         "name": "stdout",
         "output_type": "stream",
         "text": "Logs content\n"
        },
        {
         "data": {
          "text/html": "<div>\n<style scoped>\n    .dataframe tbody tr th:only-of-type {\n        vertical-align: middle;\n    }\n\n    .dataframe tbody tr th {\n        vertical-align: top;\n    }\n\n    .dataframe thead th {\n        text-align: right;\n    }\n</style>\n<table border=\"1\" class=\"dataframe\">\n  <thead>\n    <tr style=\"text-align: right;\">\n      <th></th>\n      <th>a</th>\n    </tr>\n  </thead>\n  <tbody>\n    <tr>\n      <th>0</th>\n      <td>1</td>\n    </tr>\n    <tr>\n      <th>1</th>\n      <td>2</td>\n    </tr>\n    <tr>\n      <th>2</th>\n      <td>3</td>\n    </tr>\n  </tbody>\n</table>\n</div>",
          "text/plain": "   a\n0  1\n1  2\n2  3"
         },
         "metadata": {},
         "output_type": "display_data"
        }
       ]
      }
     },
     "5cec2e9680da4656a186c8af7b53ce54": {
      "model_module": "@jupyter-widgets/output",
      "model_module_version": "1.0.0",
      "model_name": "OutputModel",
      "state": {
       "layout": "IPY_MODEL_91a59e43185a4bbba30be2994fae751a",
       "outputs": [
        {
         "name": "stdout",
         "output_type": "stream",
         "text": "Overview content\n"
        }
       ]
      }
     },
     "5dd7a7824f7847428026c5e2ced74767": {
      "model_module": "@jupyter-widgets/base",
      "model_module_version": "2.0.0",
      "model_name": "LayoutModel",
      "state": {
       "width": "100%"
      }
     },
     "633a73a7d99f4c8b99621ac7dbc5ed70": {
      "model_module": "@jupyter-widgets/controls",
      "model_module_version": "2.0.0",
      "model_name": "BoxModel",
      "state": {
       "_dom_classes": [
        "mljar-tab-panel"
       ],
       "children": [
        "IPY_MODEL_ab8ed7455383484bb9dbd438b48f11ef"
       ],
       "layout": "IPY_MODEL_816c8f85945640d3b0dd920e46f9726f"
      }
     },
     "6820d1d5e5d54a7da5a45fe2a7aebcdf": {
      "model_module": "@jupyter-widgets/controls",
      "model_module_version": "2.0.0",
      "model_name": "BoxModel",
      "state": {
       "_dom_classes": [
        "mljar-tab-panel",
        "is-active"
       ],
       "children": [
        "IPY_MODEL_4ce642c721f3479fa738491641cdf84e"
       ],
       "layout": "IPY_MODEL_6daddfe6150d40c6abfe3e2420593146"
      }
     },
     "6aa6e6b233874b9893d2ef1a96b1bba2": {
      "model_module": "@jupyter-widgets/base",
      "model_module_version": "2.0.0",
      "model_name": "LayoutModel",
      "state": {
       "width": "100%"
      }
     },
     "6daddfe6150d40c6abfe3e2420593146": {
      "model_module": "@jupyter-widgets/base",
      "model_module_version": "2.0.0",
      "model_name": "LayoutModel",
      "state": {
       "width": "100%"
      }
     },
     "816c8f85945640d3b0dd920e46f9726f": {
      "model_module": "@jupyter-widgets/base",
      "model_module_version": "2.0.0",
      "model_name": "LayoutModel",
      "state": {
       "width": "100%"
      }
     },
     "8f890808d46d4c01832e7147c70fda9b": {
      "model_module": "@jupyter-widgets/controls",
      "model_module_version": "2.0.0",
      "model_name": "VBoxModel",
      "state": {
       "_dom_classes": [
        "mljar-tabs"
       ],
       "children": [
        "IPY_MODEL_b451817654034106a8e8f1d66f4e3ed6",
        "IPY_MODEL_e8255338634b4cef93198bb5c6869bd3"
       ],
       "layout": "IPY_MODEL_5dd7a7824f7847428026c5e2ced74767"
      }
     },
     "91a59e43185a4bbba30be2994fae751a": {
      "model_module": "@jupyter-widgets/base",
      "model_module_version": "2.0.0",
      "model_name": "LayoutModel",
      "state": {
       "width": "100%"
      }
     },
     "95d728dd20364bdaa0eeed9416cfaa8d": {
      "model_module": "@jupyter-widgets/controls",
      "model_module_version": "2.0.0",
      "model_name": "BoxModel",
      "state": {
       "_dom_classes": [
        "mljar-tab-panel"
       ],
       "children": [
        "IPY_MODEL_5cec2e9680da4656a186c8af7b53ce54"
       ],
       "layout": "IPY_MODEL_9dd9f1ad3689419d8612528316cab918"
      }
     },
     "9dd9f1ad3689419d8612528316cab918": {
      "model_module": "@jupyter-widgets/base",
      "model_module_version": "2.0.0",
      "model_name": "LayoutModel",
      "state": {
       "width": "100%"
      }
     },
     "9e86ea924407427792fb7010a324e2bb": {
      "model_module": "@jupyter-widgets/base",
      "model_module_version": "2.0.0",
      "model_name": "LayoutModel",
      "state": {
       "width": "100%"
      }
     },
     "ab8ed7455383484bb9dbd438b48f11ef": {
      "model_module": "@jupyter-widgets/output",
      "model_module_version": "1.0.0",
      "model_name": "OutputModel",
      "state": {
       "layout": "IPY_MODEL_310978be8c234741a86318d37e2cc527",
       "outputs": [
        {
         "name": "stdout",
         "output_type": "stream",
         "text": "Charts content\n"
        }
       ]
      }
     },
     "b451817654034106a8e8f1d66f4e3ed6": {
      "model_module": "anywidget",
      "model_module_version": "~0.9.*",
      "model_name": "AnyModel",
      "state": {
       "_anywidget_id": "widgets.tabs._TabsHeaderWidget",
       "_css": "\n    .mljar-tab {\n      font-family: Arial, sans-serif;\n      font-size: 14px;\n      font-weight: 600;\n      color: #222;\n    }\n    ",
       "_esm": "\n    function render({ model, el }) {\n      const tablist = document.createElement(\"div\");\n      tablist.classList.add(\"mljar-tablist\");\n      tablist.setAttribute(\"role\", \"tablist\");\n\n      const buttons = [];\n\n      function makeButton(label, index) {\n        const btn = document.createElement(\"button\");\n        btn.type = \"button\";\n        btn.classList.add(\"mljar-tab\");\n        btn.setAttribute(\"role\", \"tab\");\n        btn.setAttribute(\"aria-selected\", \"false\");\n        btn.setAttribute(\"tabindex\", \"-1\");\n        btn.textContent = label || `Tab ${index + 1}`;\n\n        btn.addEventListener(\"click\", () => {\n          model.set(\"active\", index);\n          model.save_changes();\n        });\n\n        btn.addEventListener(\"keydown\", (e) => {\n          const len = buttons.length;\n          let i = model.get(\"active\") || 0;\n          if (e.key === \"ArrowRight\") {\n            i = (i + 1) % len;\n            model.set(\"active\", i);\n            model.save_changes();\n            buttons[i].focus();\n          } else if (e.key === \"ArrowLeft\") {\n            i = (i - 1 + len) % len;\n            model.set(\"active\", i);\n            model.save_changes();\n            buttons[i].focus();\n          } else if (e.key === \"Home\") {\n            i = 0;\n            model.set(\"active\", i);\n            model.save_changes();\n            buttons[i].focus();\n          } else if (e.key === \"End\") {\n            i = len - 1;\n            model.set(\"active\", i);\n            model.save_changes();\n            buttons[i].focus();\n          }\n        });\n\n        return btn;\n      }\n\n      function syncButtons() {\n        const labels = model.get(\"labels\") || [];\n        const active = model.get(\"active\") || 0;\n\n        // Rebuild if labels length changed\n        if (buttons.length !== labels.length) {\n          tablist.replaceChildren();\n          buttons.length = 0;\n          labels.forEach((lab, i) => {\n            const b = makeButton(lab, i);\n            buttons.push(b);\n            tablist.appendChild(b);\n          });\n        }\n\n        // Update states\n        buttons.forEach((b, i) => {\n          const selected = (i === active);\n          b.setAttribute(\"aria-selected\", String(selected));\n          b.setAttribute(\"tabindex\", selected ? \"0\" : \"-1\");\n        });\n      }\n\n      // Initial build\n      syncButtons();\n      el.appendChild(tablist);\n\n      // React to model changes\n      model.on(\"change:labels\", syncButtons);\n      model.on(\"change:active\", syncButtons);\n\n      // Custom CSS injection if provided\n      const css = model.get(\"custom_css\");\n      if (css && css.trim().length > 0) {\n        const styleTag = document.createElement(\"style\");\n        styleTag.textContent = css;\n        el.appendChild(styleTag);\n      }\n    }\n    export default { render };\n    ",
       "_model_module": "anywidget",
       "_model_module_version": "~0.9.*",
       "_model_name": "AnyModel",
       "_view_module": "anywidget",
       "_view_module_version": "~0.9.*",
       "_view_name": "AnyView",
       "active": 2,
       "custom_css": "",
       "labels": [
        "Overview",
        "Charts",
        "Logs"
       ],
       "layout": "IPY_MODEL_c696b18486fe448bb9af56774ca38ee1",
       "position": "inline"
      }
     },
     "c696b18486fe448bb9af56774ca38ee1": {
      "model_module": "@jupyter-widgets/base",
      "model_module_version": "2.0.0",
      "model_name": "LayoutModel",
      "state": {}
     },
     "e8255338634b4cef93198bb5c6869bd3": {
      "model_module": "@jupyter-widgets/controls",
      "model_module_version": "2.0.0",
      "model_name": "VBoxModel",
      "state": {
       "_dom_classes": [
        "mljar-tabpanels"
       ],
       "children": [
        "IPY_MODEL_95d728dd20364bdaa0eeed9416cfaa8d",
        "IPY_MODEL_633a73a7d99f4c8b99621ac7dbc5ed70",
        "IPY_MODEL_6820d1d5e5d54a7da5a45fe2a7aebcdf"
       ],
       "layout": "IPY_MODEL_9e86ea924407427792fb7010a324e2bb"
      }
     },
     "ed4120a4d55e44c485a075dbc9355a47": {
      "model_module": "@jupyter-widgets/controls",
      "model_module_version": "2.0.0",
      "model_name": "HTMLModel",
      "state": {
       "layout": "IPY_MODEL_114c328d34d7461aa15dbe8d8a511b83",
       "style": "IPY_MODEL_2ce91b4d263f42b087e843ea4b137b99",
       "value": "\n    <style>\n      .mljar-tabs {\n        width: 100%;\n        border: 1px solid #ddd;\n        border-radius: 8px;\n        background: #fff;\n        overflow: hidden;\n      }\n\n      /* Tablist (header) */\n      .mljar-tablist {\n        display: flex;\n        gap: 4px;\n        align-items: stretch;\n        border-bottom: 1px solid #ddd;\n        background: #f7f7f9;\n        flex-wrap: wrap; /* allow wrapping if many tabs */\n      }\n      .mljar-tablist button {\n        appearance: none;\n        border: 0;\n        background: transparent;\n        font-family: Arial, sans-serif;\n        font-size: 14px;\n        font-weight: 600;\n        color: #222;\n        padding: 10px 14px;\n        cursor: pointer;\n        position: relative;\n        transition: background 0.15s ease;\n        border-radius: 0;\n      }\n      .mljar-tablist button:hover {\n        background: #efefef;\n      }\n      .mljar-tablist button[aria-selected=\"true\"] {\n        color: #007bff;\n      }\n      .mljar-tablist button[aria-selected=\"true\"]::after {\n        content: \"\";\n        position: absolute;\n        left: 8px; right: 8px; bottom: 0;\n        height: 3px;\n        background: #007bff;\n        border-radius: 2px;\n      }\n\n      /* Panels */\n      .mljar-tabpanels {\n        width: 100%;\n        box-sizing: border-box;\n        padding: 8px;\n      }\n      .mljar-tab-panel {\n        display: none;\n        width: 100%;\n        box-sizing: border-box;\n      }\n      .mljar-tab-panel.is-active {\n        display: block;\n      }\n\n      /* --- IMPORTANT: neutralize ipywidgets' default margins that cause overflow --- */\n      .mljar-tab-panel :is(.jupyter-widgets, .widget-box, .widget-hbox, .widget-vbox) {\n        margin-left: 0 !important;\n        margin-right: 0 !important;\n        max-width: 100%;          /* prevent width+margin from exceeding container */\n        box-sizing: border-box;   /* be safe if padding gets applied */\n      }\n\n      /* Wrap long lines to avoid horizontal scrollbars */\n      .mljar-tab-panel .jp-RenderedText pre,\n      .mljar-tab-panel pre,\n      .mljar-tab-panel code {\n        white-space: pre-wrap !important;\n        word-break: break-word !important;\n      }\n\n      /* Scale media to container width */\n      .mljar-tab-panel img,\n      .mljar-tab-panel canvas,\n      .mljar-tab-panel svg,\n      .mljar-tab-panel video {\n        max-width: 100%;\n        height: auto;\n      }\n\n      /* Wide tables scroll inside themselves, not the whole panel */\n      .mljar-tab-panel table {\n        display: block;\n        max-width: 100%;\n        overflow-x: auto;\n      }\n\n      /* Reduced motion */\n      @media (prefers-reduced-motion: reduce) {\n        .mljar-tablist button {\n          transition: none;\n        }\n      }\n    </style>\n    "
      }
     }
    },
    "version_major": 2,
    "version_minor": 0
   }
  }
 },
 "nbformat": 4,
 "nbformat_minor": 5
}
