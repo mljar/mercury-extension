{
 "cells": [
  {
   "cell_type": "code",
   "execution_count": 1,
   "id": "eb82852d-8fb9-4f41-8042-24bd23baea97",
   "metadata": {},
   "outputs": [],
   "source": [
    "from widgets.tabs import Tabs\n",
    "from widgets import display"
   ]
  },
  {
   "cell_type": "code",
   "execution_count": 2,
   "id": "a77f8592-75c3-4309-a326-b5a93b8d1430",
   "metadata": {},
   "outputs": [
    {
     "data": {
      "application/vnd.jupyter.widget-view+json": {
       "model_id": "be8b466446a14a269669d723415e9745",
       "version_major": 2,
       "version_minor": 0
      },
      "text/plain": [
       "HTML(value='\\n    <style>\\n      .mljar-tabs {\\n        width: 100%;\\n        border: 1px solid #cccccc;\\n    …"
      ]
     },
     "metadata": {},
     "output_type": "display_data"
    },
    {
     "data": {
      "application/vnd.jupyter.widget-view+json": {
       "model_id": "008e450c7ec5458fa3c21be545fa85e8",
       "version_major": 2,
       "version_minor": 0
      },
      "text/plain": [
       "VBox(children=(_TabsHeaderWidget(active=1, labels=['Overview', 'Charts', 'Logs']), VBox(children=(Box(children…"
      ]
     },
     "metadata": {},
     "output_type": "display_data"
    }
   ],
   "source": [
    "outs = Tabs(labels=[\"Overview\", \"Charts\", \"Logs\"], active=1, key=\"demo-tabs\")\n",
    "\n",
    "with outs[0]:\n",
    "    print(\"Overview content\")\n",
    "\n",
    "with outs[1]:\n",
    "    print(\"Charts content\")\n",
    "\n",
    "with outs[2]:\n",
    "    print(\"Logs content\")"
   ]
  },
  {
   "cell_type": "code",
   "execution_count": null,
   "id": "b1fd5c25-9f82-4565-b2fe-bfeeeeced6a2",
   "metadata": {},
   "outputs": [],
   "source": []
  },
  {
   "cell_type": "code",
   "execution_count": 3,
   "id": "27c2c973-1274-4919-8516-333ce87b3126",
   "metadata": {},
   "outputs": [],
   "source": [
    "import pandas as pd\n",
    "df = pd.DataFrame({\"a\": [1,2,3]})\n",
    "with outs[2]:\n",
    "    display(df)"
   ]
  },
  {
   "cell_type": "code",
   "execution_count": null,
   "id": "58bbd10b-af51-4ed0-9df5-e2cdcd0489b4",
   "metadata": {},
   "outputs": [],
   "source": []
  },
  {
   "cell_type": "code",
   "execution_count": null,
   "id": "8ad077e7-8a1a-4dfe-953f-33f62f53306f",
   "metadata": {},
   "outputs": [],
   "source": []
  },
  {
   "cell_type": "code",
   "execution_count": null,
   "id": "a464b495-8e9a-464b-aecf-d32d397694d4",
   "metadata": {},
   "outputs": [],
   "source": []
  }
 ],
 "metadata": {
  "kernelspec": {
   "display_name": "Python 3 (ipykernel)",
   "language": "python",
   "name": "python3"
  },
  "language_info": {
   "codemirror_mode": {
    "name": "ipython",
    "version": 3
   },
   "file_extension": ".py",
   "mimetype": "text/x-python",
   "name": "python",
   "nbconvert_exporter": "python",
   "pygments_lexer": "ipython3",
   "version": "3.11.5"
  },
  "widgets": {
   "application/vnd.jupyter.widget-state+json": {
    "state": {
     "008e450c7ec5458fa3c21be545fa85e8": {
      "model_module": "@jupyter-widgets/controls",
      "model_module_version": "2.0.0",
      "model_name": "VBoxModel",
      "state": {
       "_dom_classes": [
        "mljar-tabs"
       ],
       "children": [
        "IPY_MODEL_b8754c1aba794fd786d91589d4a20efd",
        "IPY_MODEL_2c28f67726b442b5bf3245d0ea4de7a1"
       ],
       "layout": "IPY_MODEL_980d4776a3804586ac1134b54e246137"
      }
     },
     "0fc9b347f04d4d72946feaf6b7753207": {
      "model_module": "@jupyter-widgets/base",
      "model_module_version": "2.0.0",
      "model_name": "LayoutModel",
      "state": {
       "width": "100%"
      }
     },
     "1da51a39752149a48fa470cbc79f4feb": {
      "model_module": "@jupyter-widgets/controls",
      "model_module_version": "2.0.0",
      "model_name": "BoxModel",
      "state": {
       "_dom_classes": [
        "mljar-tab-panel"
       ],
       "children": [
        "IPY_MODEL_eccba59d9a9a4980bce0a068dd50d3eb"
       ],
       "layout": "IPY_MODEL_f16b36524d7b491d851b4392943b94d5"
      }
     },
     "2c28f67726b442b5bf3245d0ea4de7a1": {
      "model_module": "@jupyter-widgets/controls",
      "model_module_version": "2.0.0",
      "model_name": "VBoxModel",
      "state": {
       "_dom_classes": [
        "mljar-tabpanels"
       ],
       "children": [
        "IPY_MODEL_95446aaca8d34c6287ffca42667f429c",
        "IPY_MODEL_1da51a39752149a48fa470cbc79f4feb",
        "IPY_MODEL_ce1a317be7f74291bfe8a8ce9d835686"
       ],
       "layout": "IPY_MODEL_458f627bb17347ad8fcdfb2e47bfc40a"
      }
     },
     "458f627bb17347ad8fcdfb2e47bfc40a": {
      "model_module": "@jupyter-widgets/base",
      "model_module_version": "2.0.0",
      "model_name": "LayoutModel",
      "state": {
       "width": "100%"
      }
     },
     "4815fc9d490d4e929894cc3a0473bccc": {
      "model_module": "@jupyter-widgets/base",
      "model_module_version": "2.0.0",
      "model_name": "LayoutModel",
      "state": {}
     },
     "6b47454384c74b56be82cb3ccf713d36": {
      "model_module": "@jupyter-widgets/base",
      "model_module_version": "2.0.0",
      "model_name": "LayoutModel",
      "state": {
       "width": "100%"
      }
     },
     "71e16384c0fd41f5b1a90ae96d745bac": {
      "model_module": "@jupyter-widgets/controls",
      "model_module_version": "2.0.0",
      "model_name": "HTMLStyleModel",
      "state": {
       "description_width": "",
       "font_size": null,
       "text_color": null
      }
     },
     "7286feea8bf2427494b836931d2d9fc3": {
      "model_module": "@jupyter-widgets/base",
      "model_module_version": "2.0.0",
      "model_name": "LayoutModel",
      "state": {}
     },
     "777c9aae385e44b5b5daa3c670303b1c": {
      "model_module": "@jupyter-widgets/base",
      "model_module_version": "2.0.0",
      "model_name": "LayoutModel",
      "state": {
       "width": "100%"
      }
     },
     "7d260d4c08ed420897f35445d32e94bf": {
      "model_module": "@jupyter-widgets/base",
      "model_module_version": "2.0.0",
      "model_name": "LayoutModel",
      "state": {
       "width": "100%"
      }
     },
     "95446aaca8d34c6287ffca42667f429c": {
      "model_module": "@jupyter-widgets/controls",
      "model_module_version": "2.0.0",
      "model_name": "BoxModel",
      "state": {
       "_dom_classes": [
        "mljar-tab-panel",
        "is-active"
       ],
       "children": [
        "IPY_MODEL_c7c86c5a79dc4cbd98bba70c69e67875"
       ],
       "layout": "IPY_MODEL_6b47454384c74b56be82cb3ccf713d36"
      }
     },
     "980d4776a3804586ac1134b54e246137": {
      "model_module": "@jupyter-widgets/base",
      "model_module_version": "2.0.0",
      "model_name": "LayoutModel",
      "state": {
       "width": "100%"
      }
     },
     "ac9f43eeb27f47efb2f931690c166788": {
      "model_module": "@jupyter-widgets/base",
      "model_module_version": "2.0.0",
      "model_name": "LayoutModel",
      "state": {
       "width": "100%"
      }
     },
     "b8754c1aba794fd786d91589d4a20efd": {
      "model_module": "anywidget",
      "model_module_version": "~0.9.*",
      "model_name": "AnyModel",
      "state": {
       "_anywidget_id": "widgets.tabs._TabsHeaderWidget",
       "_css": "\n    .mljar-tab {\n      font-family: Arial, sans-serif;\n      font-size: 12px;\n      font-weight: normal;\n      color: #222222;\n    }\n    ",
       "_esm": "\n    function render({ model, el }) {\n      const tablist = document.createElement(\"div\");\n      tablist.classList.add(\"mljar-tablist\");\n      tablist.setAttribute(\"role\", \"tablist\");\n\n      const buttons = [];\n\n      function makeButton(label, index) {\n        const btn = document.createElement(\"button\");\n        btn.type = \"button\";\n        btn.classList.add(\"mljar-tab\");\n        btn.setAttribute(\"role\", \"tab\");\n        btn.setAttribute(\"aria-selected\", \"false\");\n        btn.setAttribute(\"tabindex\", \"-1\");\n        btn.textContent = label || `Tab ${index + 1}`;\n\n        btn.addEventListener(\"click\", () => {\n          model.set(\"active\", index);\n          model.save_changes();\n        });\n\n        btn.addEventListener(\"keydown\", (e) => {\n          const len = buttons.length;\n          let i = model.get(\"active\") || 0;\n          if (e.key === \"ArrowRight\") {\n            i = (i + 1) % len;\n            model.set(\"active\", i);\n            model.save_changes();\n            buttons[i].focus();\n          } else if (e.key === \"ArrowLeft\") {\n            i = (i - 1 + len) % len;\n            model.set(\"active\", i);\n            model.save_changes();\n            buttons[i].focus();\n          } else if (e.key === \"Home\") {\n            i = 0;\n            model.set(\"active\", i);\n            model.save_changes();\n            buttons[i].focus();\n          } else if (e.key === \"End\") {\n            i = len - 1;\n            model.set(\"active\", i);\n            model.save_changes();\n            buttons[i].focus();\n          }\n        });\n\n        return btn;\n      }\n\n      function syncButtons() {\n        const labels = model.get(\"labels\") || [];\n        const active = model.get(\"active\") || 0;\n\n        // Rebuild if labels length changed\n        if (buttons.length !== labels.length) {\n          tablist.replaceChildren();\n          buttons.length = 0;\n          labels.forEach((lab, i) => {\n            const b = makeButton(lab, i);\n            buttons.push(b);\n            tablist.appendChild(b);\n          });\n        }\n\n        // Update states\n        buttons.forEach((b, i) => {\n          const selected = (i === active);\n          b.setAttribute(\"aria-selected\", String(selected));\n          b.setAttribute(\"tabindex\", selected ? \"0\" : \"-1\");\n        });\n      }\n\n      // Initial build\n      syncButtons();\n      el.appendChild(tablist);\n\n      // React to model changes\n      model.on(\"change:labels\", syncButtons);\n      model.on(\"change:active\", syncButtons);\n\n      // Custom CSS injection if provided\n      const css = model.get(\"custom_css\");\n      if (css && css.trim().length > 0) {\n        const styleTag = document.createElement(\"style\");\n        styleTag.textContent = css;\n        el.appendChild(styleTag);\n      }\n    }\n    export default { render };\n    ",
       "_model_module": "anywidget",
       "_model_module_version": "~0.9.*",
       "_model_name": "AnyModel",
       "_view_module": "anywidget",
       "_view_module_version": "~0.9.*",
       "_view_name": "AnyView",
       "active": 0,
       "custom_css": "",
       "labels": [
        "Overview",
        "Charts",
        "Logs"
       ],
       "layout": "IPY_MODEL_7286feea8bf2427494b836931d2d9fc3",
       "position": "inline"
      }
     },
     "be8b466446a14a269669d723415e9745": {
      "model_module": "@jupyter-widgets/controls",
      "model_module_version": "2.0.0",
      "model_name": "HTMLModel",
      "state": {
       "layout": "IPY_MODEL_4815fc9d490d4e929894cc3a0473bccc",
       "style": "IPY_MODEL_71e16384c0fd41f5b1a90ae96d745bac",
       "value": "\n    <style>\n      .mljar-tabs {\n        width: 100%;\n        border: 1px solid #cccccc;\n        border-radius: 4px;\n        background: #fff;\n        overflow: hidden;\n      }\n\n      /* Tablist (header) */\n      .mljar-tablist {\n        display: flex;\n        gap: 4px;\n        align-items: stretch;\n        border-bottom: 1px solid #cccccc;\n        background: #f7f7f9;\n        flex-wrap: wrap; /* allow wrapping if many tabs */\n      }\n      .mljar-tablist button {\n        appearance: none;\n        border: 0;\n        background: transparent;\n        font-family: Arial, sans-serif;\n        font-size: 12px;\n        font-weight: normal;\n        color: #222222;\n        padding: 10px 14px;\n        cursor: pointer;\n        position: relative;\n        transition: background 0.15s ease;\n        border-radius: 0;\n      }\n      .mljar-tablist button:hover {\n        background: #efefef;\n      }\n      .mljar-tablist button[aria-selected=\"true\"] {\n        color: #007bff;\n      }\n      .mljar-tablist button[aria-selected=\"true\"]::after {\n        content: \"\";\n        position: absolute;\n        left: 8px; right: 8px; bottom: 0;\n        height: 3px;\n        background: #007bff;\n        border-radius: 2px;\n      }\n\n      /* Panels */\n      .mljar-tabpanels {\n        width: 100%;\n        box-sizing: border-box;\n        padding: 8px;\n      }\n      .mljar-tab-panel {\n        display: none;\n        width: 100%;\n        box-sizing: border-box;\n      }\n      .mljar-tab-panel.is-active {\n        display: block;\n      }\n\n      /* --- IMPORTANT: neutralize ipywidgets' default margins that cause overflow --- */\n      .mljar-tab-panel :is(.jupyter-widgets, .widget-box, .widget-hbox, .widget-vbox) {\n        margin-left: 0 !important;\n        margin-right: 0 !important;\n        max-width: 100%;          /* prevent width+margin from exceeding container */\n        box-sizing: border-box;   /* be safe if padding gets applied */\n      }\n\n      /* Wrap long lines to avoid horizontal scrollbars */\n      .mljar-tab-panel .jp-RenderedText pre,\n      .mljar-tab-panel pre,\n      .mljar-tab-panel code {\n        white-space: pre-wrap !important;\n        word-break: break-word !important;\n      }\n\n      /* Scale media to container width */\n      .mljar-tab-panel img,\n      .mljar-tab-panel canvas,\n      .mljar-tab-panel svg,\n      .mljar-tab-panel video {\n        max-width: 100%;\n        height: auto;\n      }\n\n      /* Wide tables scroll inside themselves, not the whole panel */\n      .mljar-tab-panel table {\n        display: block;\n        max-width: 100%;\n        overflow-x: auto;\n      }\n\n      /* Reduced motion */\n      @media (prefers-reduced-motion: reduce) {\n        .mljar-tablist button {\n          transition: none;\n        }\n      }\n    </style>\n    "
      }
     },
     "c7c86c5a79dc4cbd98bba70c69e67875": {
      "model_module": "@jupyter-widgets/output",
      "model_module_version": "1.0.0",
      "model_name": "OutputModel",
      "state": {
       "layout": "IPY_MODEL_0fc9b347f04d4d72946feaf6b7753207",
       "outputs": [
        {
         "name": "stdout",
         "output_type": "stream",
         "text": "Overview content\n"
        }
       ]
      }
     },
     "ce1a317be7f74291bfe8a8ce9d835686": {
      "model_module": "@jupyter-widgets/controls",
      "model_module_version": "2.0.0",
      "model_name": "BoxModel",
      "state": {
       "_dom_classes": [
        "mljar-tab-panel"
       ],
       "children": [
        "IPY_MODEL_f41a2f56827a4aa0808502163aebd69f"
       ],
       "layout": "IPY_MODEL_7d260d4c08ed420897f35445d32e94bf"
      }
     },
     "eccba59d9a9a4980bce0a068dd50d3eb": {
      "model_module": "@jupyter-widgets/output",
      "model_module_version": "1.0.0",
      "model_name": "OutputModel",
      "state": {
       "layout": "IPY_MODEL_777c9aae385e44b5b5daa3c670303b1c",
       "outputs": [
        {
         "name": "stdout",
         "output_type": "stream",
         "text": "Charts content\n"
        }
       ]
      }
     },
     "f16b36524d7b491d851b4392943b94d5": {
      "model_module": "@jupyter-widgets/base",
      "model_module_version": "2.0.0",
      "model_name": "LayoutModel",
      "state": {
       "width": "100%"
      }
     },
     "f41a2f56827a4aa0808502163aebd69f": {
      "model_module": "@jupyter-widgets/output",
      "model_module_version": "1.0.0",
      "model_name": "OutputModel",
      "state": {
       "layout": "IPY_MODEL_ac9f43eeb27f47efb2f931690c166788",
       "outputs": [
        {
         "name": "stdout",
         "output_type": "stream",
         "text": "Logs content\n"
        },
        {
         "data": {
          "text/html": "<div>\n<style scoped>\n    .dataframe tbody tr th:only-of-type {\n        vertical-align: middle;\n    }\n\n    .dataframe tbody tr th {\n        vertical-align: top;\n    }\n\n    .dataframe thead th {\n        text-align: right;\n    }\n</style>\n<table border=\"1\" class=\"dataframe\">\n  <thead>\n    <tr style=\"text-align: right;\">\n      <th></th>\n      <th>a</th>\n    </tr>\n  </thead>\n  <tbody>\n    <tr>\n      <th>0</th>\n      <td>1</td>\n    </tr>\n    <tr>\n      <th>1</th>\n      <td>2</td>\n    </tr>\n    <tr>\n      <th>2</th>\n      <td>3</td>\n    </tr>\n  </tbody>\n</table>\n</div>",
          "text/plain": "   a\n0  1\n1  2\n2  3"
         },
         "metadata": {},
         "output_type": "display_data"
        }
       ]
      }
     }
    },
    "version_major": 2,
    "version_minor": 0
   }
  }
 },
 "nbformat": 4,
 "nbformat_minor": 5
}
