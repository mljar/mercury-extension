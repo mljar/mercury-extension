{
 "cells": [
  {
   "cell_type": "code",
   "execution_count": 1,
   "id": "ec1a47df-3b61-49a2-a7bb-4139c2b6ccc3",
   "metadata": {},
   "outputs": [],
   "source": [
    "import pandas as pd\n",
    "import matplotlib.pyplot as plt\n",
    "from widgets import Chat, ChatInput, Message\n"
   ]
  },
  {
   "cell_type": "code",
   "execution_count": 2,
   "id": "a0baec0e-b22e-406d-a875-65298ad52455",
   "metadata": {},
   "outputs": [],
   "source": [
    "# pip install altair vega_datasets\n",
    "import altair as alt\n",
    "from vega_datasets import data\n",
    "\n",
    "source = data.barley()"
   ]
  },
  {
   "cell_type": "code",
   "execution_count": null,
   "id": "abe0aaf9-0009-490e-aeba-48ca297348c9",
   "metadata": {},
   "outputs": [],
   "source": []
  },
  {
   "cell_type": "code",
   "execution_count": 3,
   "id": "9f040a71-31d3-453f-9bb0-6cb46e4e02a4",
   "metadata": {},
   "outputs": [
    {
     "data": {
      "application/vnd.jupyter.widget-view+json": {
       "model_id": "9eabe5814c0b4e429637deef75b95d55",
       "version_major": 2,
       "version_minor": 0
      },
      "text/plain": [
       "VBox(children=(HTML(value='\\n            <div style=\"\\n              color:#b5b5b5;\\n              text-align:…"
      ]
     },
     "metadata": {},
     "output_type": "display_data"
    },
    {
     "data": {
      "application/vnd.jupyter.widget-view+json": {
       "model_id": "cbaaab8ae95f48a7b30d17248d082fb7",
       "version_major": 2,
       "version_minor": 0
      },
      "text/plain": [
       "Output()"
      ]
     },
     "metadata": {},
     "output_type": "display_data"
    }
   ],
   "source": [
    "chat = Chat()"
   ]
  },
  {
   "cell_type": "code",
   "execution_count": 4,
   "id": "a085c253-3f15-4556-8523-3b56f78c04b4",
   "metadata": {},
   "outputs": [
    {
     "data": {
      "application/mercury+json": "{\n    \"widget\": \"ChatInputWidget\",\n    \"model_id\": \"d9a71d6aa6564a199c0b8df6206327ea\",\n    \"position\": \"bottom\"\n}",
      "application/vnd.jupyter.widget-view+json": {
       "model_id": "d9a71d6aa6564a199c0b8df6206327ea",
       "version_major": 2,
       "version_minor": 1
      },
      "text/plain": [
       "ChatInputWidget()"
      ]
     },
     "metadata": {},
     "output_type": "display_data"
    }
   ],
   "source": [
    "chat_input = ChatInput()"
   ]
  },
  {
   "cell_type": "code",
   "execution_count": 35,
   "id": "e944cdc8-a488-4b1f-9c5f-a8eca23c092a",
   "metadata": {},
   "outputs": [],
   "source": [
    "import time\n",
    "def responder(user_text: str):\n",
    "    \"\"\"Simulate response\"\"\"\n",
    "    # simulate wainting for response\n",
    "    time.sleep(2)\n",
    "    # response chunks\n",
    "    text = f\"Echo: {user_text}\"\n",
    "    for ch in text:\n",
    "        yield ch\n",
    "        time.sleep(0.05)"
   ]
  },
  {
   "cell_type": "code",
   "execution_count": 36,
   "id": "8bdec364-72a7-4b7b-afa5-0ea5a991de65",
   "metadata": {},
   "outputs": [],
   "source": [
    "def make_plot(output_msg):\n",
    "    with output_msg:\n",
    "        fig, ax = plt.subplots()\n",
    "        ax.plot([1,2], [4,5])\n",
    "        display(fig)\n",
    "        plt.close(fig)"
   ]
  },
  {
   "cell_type": "code",
   "execution_count": 37,
   "id": "0aaec3d4-ac03-4660-85f7-95c086567863",
   "metadata": {},
   "outputs": [],
   "source": [
    "def make_df(output_msg):\n",
    "    df = pd.DataFrame({\"a\": [1,2,3], \"b\": [4,5,6]})\n",
    "    with output_msg:\n",
    "        display(df)"
   ]
  },
  {
   "cell_type": "code",
   "execution_count": 38,
   "id": "ece405ac-3f15-487b-aba0-c60067f3afdd",
   "metadata": {},
   "outputs": [],
   "source": [
    "def make_altair(output_msg):\n",
    "    with output_msg:\n",
    "        chart = (\n",
    "            alt.Chart(source)\n",
    "            .mark_bar()\n",
    "            .encode(\n",
    "                x='sum(yield):Q',\n",
    "                y=alt.Y('variety:N', sort='-x'),\n",
    "                color='site:N',\n",
    "                tooltip=['variety','site','sum(yield)']\n",
    "            )\n",
    "            .properties(width=600, height=300, title='Barley Yield by Variety & Site')\n",
    "        )\n",
    "        display(chart) "
   ]
  },
  {
   "cell_type": "code",
   "execution_count": 39,
   "id": "1fecb4f6-e5d3-4ef1-a55d-0b456a36b98b",
   "metadata": {},
   "outputs": [],
   "source": [
    "msg = chat_input.submitted.strip()\n",
    "\n",
    "if msg:\n",
    "    # User prompt\n",
    "    user_msg = Message(role=\"user\", emoji=\"👤\")\n",
    "    user_msg.set_message(markdown=msg)\n",
    "    chat.add(user_msg)\n",
    "\n",
    "    # AI response\n",
    "    bot_msg = Message(role=\"assistant\", emoji=\"🤖\")\n",
    "    # waiting for response ...\n",
    "    bot_msg.set_gradient_text(\"Thinking hard 🤔\")\n",
    "    chat.add(bot_msg)\n",
    "    if msg == \"dataframe\":\n",
    "        bot_msg.clear() # clear thinking text\n",
    "        bot_msg.set_message(markdown=\"DataFrame response created for you 🤔\")\n",
    "        make_df(bot_msg)\n",
    "    elif msg == \"plot\":\n",
    "        bot_msg.set_message(markdown=\"Plot response is below:\")\n",
    "        make_plot(bot_msg)\n",
    "    elif msg == \"altair\":\n",
    "        bot_msg.set_message(markdown=\"Altair response is below:\")\n",
    "        make_altair(bot_msg)\n",
    "    else:\n",
    "        # stream response\n",
    "        for chunk in responder(msg):\n",
    "            bot_msg.append_markdown(chunk)\n",
    "    \n",
    "    # clear the submitted prompt\n",
    "    chat_input.submitted = \"\""
   ]
  },
  {
   "cell_type": "code",
   "execution_count": 39,
   "id": "7a66ec9c-3e6f-4849-84ee-b0536505987d",
   "metadata": {},
   "outputs": [],
   "source": []
  }
 ],
 "metadata": {
  "kernelspec": {
   "display_name": "Python 3 (ipykernel)",
   "language": "python",
   "name": "python3"
  },
  "language_info": {
   "codemirror_mode": {
    "name": "ipython",
    "version": 3
   },
   "file_extension": ".py",
   "mimetype": "text/x-python",
   "name": "python",
   "nbconvert_exporter": "python",
   "pygments_lexer": "ipython3",
   "version": "3.11.5"
  },
  "widgets": {
   "application/vnd.jupyter.widget-state+json": {
    "state": {
     "1a003af37ad44df7a2a2015ab9f78cdf": {
      "model_module": "@jupyter-widgets/controls",
      "model_module_version": "2.0.0",
      "model_name": "HTMLModel",
      "state": {
       "layout": "IPY_MODEL_536715d06f8c4ae98be283721ef2f570",
       "style": "IPY_MODEL_681b6caa249b40fba375c0e88d981a2e",
       "value": "\n            <div style=\"\n              color:#b5b5b5;\n              text-align:center;\n              padding:40px 0;\n              font-size:1.1em;\n              background:#fff;\n            \">💬 No messages yet. Start the conversation!</div>\n            "
      }
     },
     "1ce997568452450285410793e5b97188": {
      "model_module": "@jupyter-widgets/base",
      "model_module_version": "2.0.0",
      "model_name": "LayoutModel",
      "state": {}
     },
     "536715d06f8c4ae98be283721ef2f570": {
      "model_module": "@jupyter-widgets/base",
      "model_module_version": "2.0.0",
      "model_name": "LayoutModel",
      "state": {}
     },
     "6014087889d745ed975e5934afe5a70a": {
      "model_module": "@jupyter-widgets/base",
      "model_module_version": "2.0.0",
      "model_name": "LayoutModel",
      "state": {}
     },
     "681b6caa249b40fba375c0e88d981a2e": {
      "model_module": "@jupyter-widgets/controls",
      "model_module_version": "2.0.0",
      "model_name": "HTMLStyleModel",
      "state": {
       "description_width": "",
       "font_size": null,
       "text_color": null
      }
     },
     "6b287c1f3f384d439198fd1117f72f95": {
      "model_module": "@jupyter-widgets/base",
      "model_module_version": "2.0.0",
      "model_name": "LayoutModel",
      "state": {
       "padding": "4px",
       "width": "100%"
      }
     },
     "9eabe5814c0b4e429637deef75b95d55": {
      "model_module": "@jupyter-widgets/controls",
      "model_module_version": "2.0.0",
      "model_name": "VBoxModel",
      "state": {
       "_dom_classes": [
        "mljar-chat-f6eb5a40"
       ],
       "children": [
        "IPY_MODEL_1a003af37ad44df7a2a2015ab9f78cdf"
       ],
       "layout": "IPY_MODEL_6b287c1f3f384d439198fd1117f72f95"
      }
     },
     "cbaaab8ae95f48a7b30d17248d082fb7": {
      "model_module": "@jupyter-widgets/output",
      "model_module_version": "1.0.0",
      "model_name": "OutputModel",
      "state": {
       "layout": "IPY_MODEL_1ce997568452450285410793e5b97188"
      }
     },
     "d9a71d6aa6564a199c0b8df6206327ea": {
      "model_module": "anywidget",
      "model_module_version": "~0.9.*",
      "model_name": "AnyModel",
      "state": {
       "_anywidget_id": "widgets.chat.chatinput.ChatInputWidget",
       "_css": "\n    .mljar-chatinput-container {\n        display: flex;\n        flex-direction: row;\n        align-items: center;\n        width: 100%;\n        min-width: 160px;\n        box-sizing: border-box;\n        gap: 8px;\n        font-family: Arial, sans-serif;\n        font-size: 14px;\n        color: #222;\n    }\n\n    .mljar-chatinput-input {\n        flex: 1 1 auto;\n        width: 100%;\n        border: 1px solid #ccc;\n        border-radius: 6px;\n        padding: 6px 10px;\n        min-height: 1.6em;\n        background: #fff;\n        color: #222;\n        box-sizing: border-box;\n    }\n    .mljar-chatinput-input:focus {\n        outline: none;\n        border-color: #007bff;\n    }\n\n    .mljar-chatinput-button {\n        flex: 0 0 auto;\n        border: none;\n        border-radius: 6px;\n        padding: 6px 12px;\n        min-height: 1.6em;\n        cursor: pointer;\n        background: #007bff;\n        color: #fff;\n        font-weight: bold;\n    }\n    .mljar-chatinput-button:hover {\n        filter: brightness(0.95);\n    }\n    ",
       "_esm": "\n    function render({ model, el }) {\n      const container = document.createElement(\"div\");\n      container.classList.add(\"mljar-chatinput-container\");\n\n      const input = document.createElement(\"input\");\n      input.type = \"text\";\n      input.placeholder = model.get(\"placeholder\") || \"Type a message...\";\n      input.value = model.get(\"value\") || \"\";\n      input.classList.add(\"mljar-chatinput-input\");\n\n      const btn = document.createElement(\"button\");\n      btn.type = \"button\";\n      btn.classList.add(\"mljar-chatinput-button\");\n      btn.textContent = model.get(\"button_icon\") || \"➤\";\n      btn.setAttribute(\"aria-label\", \"Send message\");\n\n      container.appendChild(input);\n      container.appendChild(btn);\n      el.appendChild(container);\n\n      // Keep input in sync if Python changes 'value' (e.g., programmatic set/restore)\n      model.on(\"change:value\", () => {\n        const newVal = model.get(\"value\") ?? \"\";\n        if (input.value !== newVal) input.value = newVal;\n      });\n\n      // Submit logic: update submitted and value ONLY here\n      const sendMessage = () => {\n        const msg = (input.value || \"\").trim();\n        if (!msg) return;\n\n        // Signal to kernel\n        model.set(\"submitted\", msg);\n\n        // Update public 'value' ONLY at submit time\n        model.set(\"value\", msg);\n\n        // Clear visible input (does NOT touch model 'value')\n        input.value = \"\";\n\n        // Persist once\n        model.save_changes();\n      };\n\n      btn.addEventListener(\"click\", sendMessage);\n\n      input.addEventListener(\"keydown\", (ev) => {\n        const sendOnEnter = !!model.get(\"send_on_enter\");\n        if (!sendOnEnter) return;\n        if (ev.key === \"Enter\" && !ev.shiftKey) {\n          ev.preventDefault();\n          sendMessage();\n        }\n      });\n\n      // Custom CSS hook\n      const css = model.get(\"custom_css\");\n      if (css && css.trim().length > 0) {\n        const styleTag = document.createElement(\"style\");\n        styleTag.textContent = css;\n        el.appendChild(styleTag);\n      }\n    }\n    export default { render };\n    ",
       "_model_module": "anywidget",
       "_model_module_version": "~0.9.*",
       "_model_name": "AnyModel",
       "_view_module": "anywidget",
       "_view_module_version": "~0.9.*",
       "_view_name": "AnyView",
       "button_icon": "➤",
       "custom_css": "",
       "layout": "IPY_MODEL_6014087889d745ed975e5934afe5a70a",
       "placeholder": "Type a message...",
       "position": "bottom",
       "send_on_enter": true,
       "submitted": "",
       "value": ""
      }
     }
    },
    "version_major": 2,
    "version_minor": 0
   }
  }
 },
 "nbformat": 4,
 "nbformat_minor": 5
}
