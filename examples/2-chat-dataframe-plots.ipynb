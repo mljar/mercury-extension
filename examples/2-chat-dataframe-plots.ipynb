{
 "cells": [
  {
   "cell_type": "code",
   "execution_count": 32,
   "id": "ec1a47df-3b61-49a2-a7bb-4139c2b6ccc3",
   "metadata": {},
   "outputs": [],
   "source": [
    "import pandas as pd\n",
    "import matplotlib.pyplot as plt\n",
    "from widgets import Chat, ChatInput, Message\n"
   ]
  },
  {
   "cell_type": "code",
   "execution_count": 45,
   "id": "a0baec0e-b22e-406d-a875-65298ad52455",
   "metadata": {},
   "outputs": [],
   "source": [
    "# pip install altair vega_datasets\n",
    "import altair as alt\n",
    "from vega_datasets import data\n",
    "\n",
    "source = data.barley()"
   ]
  },
  {
   "cell_type": "code",
   "execution_count": null,
   "id": "abe0aaf9-0009-490e-aeba-48ca297348c9",
   "metadata": {},
   "outputs": [],
   "source": []
  },
  {
   "cell_type": "code",
   "execution_count": 69,
   "id": "9f040a71-31d3-453f-9bb0-6cb46e4e02a4",
   "metadata": {},
   "outputs": [
    {
     "data": {
      "application/vnd.jupyter.widget-view+json": {
       "model_id": "aa6487d61148468fb5a3df9e4b764e80",
       "version_major": 2,
       "version_minor": 0
      },
      "text/plain": [
       "VBox(children=(HTML(value='\\n            <div style=\"\\n              color:#b5b5b5;\\n              text-align:…"
      ]
     },
     "metadata": {},
     "output_type": "display_data"
    },
    {
     "data": {
      "application/vnd.jupyter.widget-view+json": {
       "model_id": "dbcce17ac4d64ceda1267685640a7b9e",
       "version_major": 2,
       "version_minor": 0
      },
      "text/plain": [
       "Output()"
      ]
     },
     "metadata": {},
     "output_type": "display_data"
    }
   ],
   "source": [
    "chat = Chat()"
   ]
  },
  {
   "cell_type": "code",
   "execution_count": 47,
   "id": "a085c253-3f15-4556-8523-3b56f78c04b4",
   "metadata": {},
   "outputs": [
    {
     "data": {
      "application/mercury+json": "{\n    \"widget\": \"ChatInputWidget\",\n    \"model_id\": \"1ad5666efe0b4620a08ab92988a7cb5a\",\n    \"position\": \"bottom\"\n}",
      "application/vnd.jupyter.widget-view+json": {
       "model_id": "1ad5666efe0b4620a08ab92988a7cb5a",
       "version_major": 2,
       "version_minor": 1
      },
      "text/plain": [
       "ChatInputWidget(value='plot')"
      ]
     },
     "metadata": {},
     "output_type": "display_data"
    }
   ],
   "source": [
    "chat_input = ChatInput()"
   ]
  },
  {
   "cell_type": "code",
   "execution_count": 64,
   "id": "e944cdc8-a488-4b1f-9c5f-a8eca23c092a",
   "metadata": {},
   "outputs": [],
   "source": [
    "import time\n",
    "def responder(user_text: str):\n",
    "    \"\"\"Simulate response\"\"\"\n",
    "    # simulate wainting for response\n",
    "    time.sleep(2)\n",
    "    # response chunks\n",
    "    text = f\"Echo: {user_text}\"\n",
    "    for ch in text:\n",
    "        yield ch\n",
    "        time.sleep(0.05)"
   ]
  },
  {
   "cell_type": "code",
   "execution_count": 65,
   "id": "8bdec364-72a7-4b7b-afa5-0ea5a991de65",
   "metadata": {},
   "outputs": [],
   "source": [
    "def make_plot(output_msg):\n",
    "    with output_msg:\n",
    "        fig, ax = plt.subplots()\n",
    "        ax.plot([1,2], [4,5])\n",
    "        display(fig)\n",
    "        plt.close(fig)"
   ]
  },
  {
   "cell_type": "code",
   "execution_count": 66,
   "id": "0aaec3d4-ac03-4660-85f7-95c086567863",
   "metadata": {},
   "outputs": [],
   "source": [
    "def make_df(output_msg):\n",
    "    df = pd.DataFrame({\"a\": [1,2,3], \"b\": [4,5,6]})\n",
    "    with output_msg:\n",
    "        display(df)"
   ]
  },
  {
   "cell_type": "code",
   "execution_count": 67,
   "id": "ece405ac-3f15-487b-aba0-c60067f3afdd",
   "metadata": {},
   "outputs": [],
   "source": [
    "def make_altair(output_msg):\n",
    "    with output_msg:\n",
    "        chart = (\n",
    "            alt.Chart(source)\n",
    "            .mark_bar()\n",
    "            .encode(\n",
    "                x='sum(yield):Q',\n",
    "                y=alt.Y('variety:N', sort='-x'),\n",
    "                color='site:N',\n",
    "                tooltip=['variety','site','sum(yield)']\n",
    "            )\n",
    "            .properties(width=600, height=300, title='Barley Yield by Variety & Site')\n",
    "        )\n",
    "        display(chart) "
   ]
  },
  {
   "cell_type": "code",
   "execution_count": 68,
   "id": "1fecb4f6-e5d3-4ef1-a55d-0b456a36b98b",
   "metadata": {},
   "outputs": [],
   "source": [
    "msg = chat_input.submitted.strip()\n",
    "\n",
    "if msg:\n",
    "    # User prompt\n",
    "    user_msg = Message(role=\"user\", emoji=\"👤\")\n",
    "    user_msg.set_message(markdown=msg)\n",
    "    chat.add(user_msg)\n",
    "\n",
    "    # AI response\n",
    "    bot_msg = Message(role=\"assistant\", emoji=\"🤖\")\n",
    "    # waiting for response ...\n",
    "    bot_msg.set_gradient_text(\"Thinking hard 🤔\")\n",
    "    chat.add(bot_msg)\n",
    "    if msg == \"dataframe\":\n",
    "        bot_msg.clear() # clear thinking text\n",
    "        bot_msg.set_message(markdown=\"DataFrame response created for you 🤔\")\n",
    "        make_df(bot_msg)\n",
    "    elif msg == \"plot\":\n",
    "        bot_msg.set_message(markdown=\"Plot response is below:\")\n",
    "        make_plot(bot_msg)\n",
    "    elif msg == \"altair\":\n",
    "        bot_msg.set_message(markdown=\"Altair response is below:\")\n",
    "        make_altair(bot_msg)\n",
    "    else:\n",
    "        # stream response\n",
    "        for chunk in responder(msg):\n",
    "            bot_msg.append_markdown(chunk)\n",
    "    \n",
    "    # clear the submitted prompt\n",
    "    chat_input.submitted = \"\""
   ]
  },
  {
   "cell_type": "code",
   "execution_count": 68,
   "id": "7a66ec9c-3e6f-4849-84ee-b0536505987d",
   "metadata": {},
   "outputs": [],
   "source": []
  }
 ],
 "metadata": {
  "kernelspec": {
   "display_name": "Python 3 (ipykernel)",
   "language": "python",
   "name": "python3"
  },
  "language_info": {
   "codemirror_mode": {
    "name": "ipython",
    "version": 3
   },
   "file_extension": ".py",
   "mimetype": "text/x-python",
   "name": "python",
   "nbconvert_exporter": "python",
   "pygments_lexer": "ipython3",
   "version": "3.11.5"
  },
  "widgets": {
   "application/vnd.jupyter.widget-state+json": {
    "state": {
     "01cb17c4bb9948f097734dd3e5b929e2": {
      "model_module": "@jupyter-widgets/base",
      "model_module_version": "2.0.0",
      "model_name": "LayoutModel",
      "state": {
       "align_self": "flex-start",
       "margin": "0 8px 8px 0"
      }
     },
     "0335fcb70d584e338358066be980e877": {
      "model_module": "@jupyter-widgets/output",
      "model_module_version": "1.0.0",
      "model_name": "OutputModel",
      "state": {
       "_dom_classes": [
        "mljar-chat-msg"
       ],
       "layout": "IPY_MODEL_16b83f75bce54f2d805942087f5da108",
       "outputs": [
        {
         "data": {
          "text/markdown": "plot",
          "text/plain": "<IPython.core.display.Markdown object>"
         },
         "metadata": {},
         "output_type": "display_data"
        }
       ]
      }
     },
     "0526e383833c4cf987cab50a03ef3d90": {
      "model_module": "@jupyter-widgets/base",
      "model_module_version": "2.0.0",
      "model_name": "LayoutModel",
      "state": {
       "align_items": "flex-start"
      }
     },
     "0554d0c856ed47d6bc177d82920d0574": {
      "model_module": "@jupyter-widgets/base",
      "model_module_version": "2.0.0",
      "model_name": "LayoutModel",
      "state": {
       "align_items": "flex-start"
      }
     },
     "07ae3e4017b44b74bd71de754328d2ad": {
      "model_module": "@jupyter-widgets/base",
      "model_module_version": "2.0.0",
      "model_name": "LayoutModel",
      "state": {
       "align_self": "flex-start",
       "margin": "8px 0 0 0"
      }
     },
     "08df08fa954847f2b68a14e7fbc82d5d": {
      "model_module": "@jupyter-widgets/output",
      "model_module_version": "1.0.0",
      "model_name": "OutputModel",
      "state": {
       "_dom_classes": [
        "mljar-chat-msg"
       ],
       "layout": "IPY_MODEL_6caff60875e844c5bd505b751f4a8866",
       "outputs": [
        {
         "data": {
          "text/markdown": "dataframe",
          "text/plain": "<IPython.core.display.Markdown object>"
         },
         "metadata": {},
         "output_type": "display_data"
        }
       ]
      }
     },
     "0a07bc2197d944de8732c6768e20ef5a": {
      "model_module": "@jupyter-widgets/base",
      "model_module_version": "2.0.0",
      "model_name": "LayoutModel",
      "state": {
       "align_self": "flex-start",
       "margin": "0 8px 8px 0"
      }
     },
     "0afa379a1a874cfbbcf3e82ebc7bbc3a": {
      "model_module": "@jupyter-widgets/controls",
      "model_module_version": "2.0.0",
      "model_name": "HTMLModel",
      "state": {
       "layout": "IPY_MODEL_c54058de4a3e488888faa245044d1e44",
       "style": "IPY_MODEL_a2fc841830e74bde9d90547fb7bd4d43",
       "value": "\n            <div style=\"\n              color:#b5b5b5;\n              text-align:center;\n              padding:40px 0;\n              font-size:1.1em;\n              background:#fff;\n            \">💬 No messages yet. Start the conversation!</div>\n            "
      }
     },
     "0ca0a1c494154eb3a8847734fe28f75e": {
      "model_module": "@jupyter-widgets/base",
      "model_module_version": "2.0.0",
      "model_name": "LayoutModel",
      "state": {
       "align_self": "flex-start",
       "margin": "0 8px 8px 0"
      }
     },
     "0d35197102d148c7afe2e40a0e871bb6": {
      "model_module": "@jupyter-widgets/controls",
      "model_module_version": "2.0.0",
      "model_name": "HTMLModel",
      "state": {
       "layout": "IPY_MODEL_f66dbb58781f431bbd83e23ec328481c",
       "style": "IPY_MODEL_5e284ddd88864d1085582159b7e0e005",
       "value": "<div style=\"width:36px;height:36px;background:#84c4ff;border-radius:12px;display:flex;align-items:center;justify-content:center;box-shadow:0 1px 4px rgba(60,60,60,0.10);\"><span style=\"font-size:18px;line-height:1;\">👤</span></div>"
      }
     },
     "0dda9d3d2e4149aeb51c3bd730cc6639": {
      "model_module": "@jupyter-widgets/controls",
      "model_module_version": "2.0.0",
      "model_name": "HTMLStyleModel",
      "state": {
       "description_width": "",
       "font_size": null,
       "text_color": null
      }
     },
     "0f98e191e6fd4dd19c13d92a7d46739f": {
      "model_module": "@jupyter-widgets/output",
      "model_module_version": "1.0.0",
      "model_name": "OutputModel",
      "state": {
       "_dom_classes": [
        "mljar-chat-msg"
       ],
       "layout": "IPY_MODEL_f1632b5daa874d0a813afa8cef8676ad",
       "outputs": [
        {
         "data": {
          "text/markdown": "Altair response is below:",
          "text/plain": "<IPython.core.display.Markdown object>"
         },
         "metadata": {},
         "output_type": "display_data"
        }
       ]
      }
     },
     "115b67e970424da59fb702e10d1a20bc": {
      "model_module": "@jupyter-widgets/base",
      "model_module_version": "2.0.0",
      "model_name": "LayoutModel",
      "state": {
       "align_self": "flex-start",
       "margin": "8px 0 0 0"
      }
     },
     "13336cc5a7e448b19b311a1bddb4f483": {
      "model_module": "@jupyter-widgets/base",
      "model_module_version": "2.0.0",
      "model_name": "LayoutModel",
      "state": {}
     },
     "13fcc8ce0c2c4ea48f51266fc752296f": {
      "model_module": "@jupyter-widgets/controls",
      "model_module_version": "2.0.0",
      "model_name": "HTMLModel",
      "state": {
       "layout": "IPY_MODEL_680ca0f17f6e40819bd5ed57aa5be642",
       "style": "IPY_MODEL_5c894465b5b54b7c9dd96fbea0a8af85",
       "value": "<div style=\"width:36px;height:36px;background:#eeeeee;border-radius:12px;display:flex;align-items:center;justify-content:center;box-shadow:0 1px 4px rgba(60,60,60,0.10);\"><span style=\"font-size:18px;line-height:1;\">🤖</span></div>"
      }
     },
     "15cb5576f433481b8c9a8971c3618f50": {
      "model_module": "@jupyter-widgets/controls",
      "model_module_version": "2.0.0",
      "model_name": "HBoxModel",
      "state": {
       "children": [
        "IPY_MODEL_64c203ca625e447d8a34600fb6911a57",
        "IPY_MODEL_c746afe7baf4462a9a3da8b86355836b"
       ],
       "layout": "IPY_MODEL_5bbe1e86cf8541eaa657eb5015136576"
      }
     },
     "16b83f75bce54f2d805942087f5da108": {
      "model_module": "@jupyter-widgets/base",
      "model_module_version": "2.0.0",
      "model_name": "LayoutModel",
      "state": {
       "align_self": "flex-start",
       "margin": "8px 0 0 0"
      }
     },
     "1896621632694ab7a9c3eaf69d40e3bd": {
      "model_module": "@jupyter-widgets/base",
      "model_module_version": "2.0.0",
      "model_name": "LayoutModel",
      "state": {
       "align_self": "flex-start",
       "margin": "0 8px 8px 0"
      }
     },
     "18bac498349c45308e270a3bb916370d": {
      "model_module": "@jupyter-widgets/controls",
      "model_module_version": "2.0.0",
      "model_name": "HTMLStyleModel",
      "state": {
       "description_width": "",
       "font_size": null,
       "text_color": null
      }
     },
     "19f309009fab4e789a331cfc5f92f811": {
      "model_module": "@jupyter-widgets/output",
      "model_module_version": "1.0.0",
      "model_name": "OutputModel",
      "state": {
       "_dom_classes": [
        "mljar-chat-msg"
       ],
       "layout": "IPY_MODEL_39f56af965ca4c1aa33f1c3a7124eb76",
       "outputs": [
        {
         "data": {
          "text/markdown": "plot",
          "text/plain": "<IPython.core.display.Markdown object>"
         },
         "metadata": {},
         "output_type": "display_data"
        }
       ]
      }
     },
     "1ad5666efe0b4620a08ab92988a7cb5a": {
      "model_module": "anywidget",
      "model_module_version": "~0.9.*",
      "model_name": "AnyModel",
      "state": {
       "_anywidget_id": "widgets.chat.chatinput.ChatInputWidget",
       "_css": "\n    .mljar-chatinput-container {\n        display: flex;\n        flex-direction: row;\n        align-items: center;\n        width: 100%;\n        min-width: 160px;\n        box-sizing: border-box;\n        gap: 8px;\n        font-family: Arial, sans-serif;\n        font-size: 14px;\n        color: #222;\n    }\n\n    .mljar-chatinput-input {\n        flex: 1 1 auto;\n        width: 100%;\n        border: 1px solid #ccc;\n        border-radius: 6px;\n        padding: 6px 10px;\n        min-height: 1.6em;\n        background: #fff;\n        color: #222;\n        box-sizing: border-box;\n    }\n    .mljar-chatinput-input:focus {\n        outline: none;\n        border-color: #007bff;\n    }\n\n    .mljar-chatinput-button {\n        flex: 0 0 auto;\n        border: none;\n        border-radius: 6px;\n        padding: 6px 12px;\n        min-height: 1.6em;\n        cursor: pointer;\n        background: #007bff;\n        color: #fff;\n        font-weight: bold;\n    }\n    .mljar-chatinput-button:hover {\n        filter: brightness(0.95);\n    }\n    ",
       "_esm": "\n    function render({ model, el }) {\n      const container = document.createElement(\"div\");\n      container.classList.add(\"mljar-chatinput-container\");\n\n      const input = document.createElement(\"input\");\n      input.type = \"text\";\n      input.placeholder = model.get(\"placeholder\") || \"Type a message...\";\n      input.value = model.get(\"value\") || \"\";\n      input.classList.add(\"mljar-chatinput-input\");\n\n      const btn = document.createElement(\"button\");\n      btn.type = \"button\";\n      btn.classList.add(\"mljar-chatinput-button\");\n      btn.textContent = model.get(\"button_icon\") || \"➤\";\n      btn.setAttribute(\"aria-label\", \"Send message\");\n\n      container.appendChild(input);\n      container.appendChild(btn);\n      el.appendChild(container);\n\n      // Keep input in sync if Python changes 'value' (e.g., programmatic set/restore)\n      model.on(\"change:value\", () => {\n        const newVal = model.get(\"value\") ?? \"\";\n        if (input.value !== newVal) input.value = newVal;\n      });\n\n      // Submit logic: update submitted and value ONLY here\n      const sendMessage = () => {\n        const msg = (input.value || \"\").trim();\n        if (!msg) return;\n\n        // Signal to kernel\n        model.set(\"submitted\", msg);\n\n        // Update public 'value' ONLY at submit time\n        model.set(\"value\", msg);\n\n        // Clear visible input (does NOT touch model 'value')\n        input.value = \"\";\n\n        // Persist once\n        model.save_changes();\n      };\n\n      btn.addEventListener(\"click\", sendMessage);\n\n      input.addEventListener(\"keydown\", (ev) => {\n        const sendOnEnter = !!model.get(\"send_on_enter\");\n        if (!sendOnEnter) return;\n        if (ev.key === \"Enter\" && !ev.shiftKey) {\n          ev.preventDefault();\n          sendMessage();\n        }\n      });\n\n      // Custom CSS hook\n      const css = model.get(\"custom_css\");\n      if (css && css.trim().length > 0) {\n        const styleTag = document.createElement(\"style\");\n        styleTag.textContent = css;\n        el.appendChild(styleTag);\n      }\n    }\n    export default { render };\n    ",
       "_model_module": "anywidget",
       "_model_module_version": "~0.9.*",
       "_model_name": "AnyModel",
       "_view_module": "anywidget",
       "_view_module_version": "~0.9.*",
       "_view_name": "AnyView",
       "button_icon": "➤",
       "custom_css": "",
       "layout": "IPY_MODEL_484d9b443fb747a18f84ba24dd120a9c",
       "placeholder": "Type a message...",
       "position": "bottom",
       "send_on_enter": true,
       "submitted": "",
       "value": "plot"
      }
     },
     "1f05b6dd0eaa459fbcfd108106a14631": {
      "model_module": "@jupyter-widgets/controls",
      "model_module_version": "2.0.0",
      "model_name": "HTMLStyleModel",
      "state": {
       "description_width": "",
       "font_size": null,
       "text_color": null
      }
     },
     "20105dcd64bf4b82a5dafc586a81cf7a": {
      "model_module": "@jupyter-widgets/controls",
      "model_module_version": "2.0.0",
      "model_name": "HTMLModel",
      "state": {
       "layout": "IPY_MODEL_26c66d1e6a484d1d9c6ba74942159071",
       "style": "IPY_MODEL_5a261cb3101a45009913010844c40535",
       "value": "<div style=\"width:36px;height:36px;background:#84c4ff;border-radius:12px;display:flex;align-items:center;justify-content:center;box-shadow:0 1px 4px rgba(60,60,60,0.10);\"><span style=\"font-size:18px;line-height:1;\">👤</span></div>"
      }
     },
     "25b935436779468f885a8ec9118e1f2a": {
      "model_module": "@jupyter-widgets/output",
      "model_module_version": "1.0.0",
      "model_name": "OutputModel",
      "state": {
       "layout": "IPY_MODEL_a1ced8e07f2a40b2a0c875623d993962",
       "outputs": [
        {
         "data": {
          "application/javascript": "(function(){\n  function isScrollable(el){\n    if(!el) return false;\n    const cs = getComputedStyle(el);\n    const oy = cs.overflowY, o = cs.overflow;\n    const can = el.scrollHeight > (el.clientHeight + 2);\n    return can && (oy==='auto'||oy==='scroll'||o==='auto'||o==='scroll');\n  }\n  function findScrollableWithin(root){\n    if(!root) return null;\n    if(isScrollable(root)) return root;\n    const walker = document.createTreeWalker(root, NodeFilter.SHOW_ELEMENT, null);\n    let n = walker.currentNode;\n    while((n = walker.nextNode())){ if(isScrollable(n)) return n; }\n    return null;\n  }\n  function getScrollableAncestor(node){\n    let cur = node && node.parentElement;\n    while(cur){ if(isScrollable(cur)) return cur; cur = cur.parentElement; }\n    return null;\n  }\n  function scrollIntoContainer(el, container){\n    if(!el||!container) return;\n    let y = 0, n = el;\n    while(n && n !== container){ y += n.offsetTop || 0; n = n.offsetParent; }\n    const target = Math.max(0, y - (container.clientHeight - el.clientHeight) + 16);\n    container.scrollTop = target;\n  }\n  function scrollPageFallback(el){\n    try { el.scrollIntoView({behavior:'smooth', block:'end'}); } catch(e) {}\n  }\n\n  const chats = document.getElementsByClassName(\"mljar-chat-86c457f6\");\n  if(!chats || !chats.length) return;\n  const chat = chats[0];\n  const msgs = chat.getElementsByClassName('mljar-chat-msg');\n  if(!msgs || !msgs.length) return;\n  const last = msgs[msgs.length - 1];\n\n  function tick(){\n    const pref = document.querySelector(\"#mercury-main-panel, .mercury-main-panel\");\n    const scroller = findScrollableWithin(pref) || getScrollableAncestor(last) || document.scrollingElement;\n    if(scroller) scrollIntoContainer(last, scroller);\n    else scrollPageFallback(last);\n  }\n\n  // Give big outputs (plots) a moment to layout\n  requestAnimationFrame(()=>setTimeout(tick, 100));\n})();",
          "text/plain": "<IPython.core.display.Javascript object>"
         },
         "metadata": {},
         "output_type": "display_data"
        }
       ]
      }
     },
     "26c66d1e6a484d1d9c6ba74942159071": {
      "model_module": "@jupyter-widgets/base",
      "model_module_version": "2.0.0",
      "model_name": "LayoutModel",
      "state": {
       "align_self": "flex-start",
       "margin": "0 8px 8px 0"
      }
     },
     "276215dded58435bad3e82057ee93b08": {
      "model_module": "@jupyter-widgets/controls",
      "model_module_version": "2.0.0",
      "model_name": "HTMLModel",
      "state": {
       "layout": "IPY_MODEL_b25518cb240e43c3befbee3c0c8e88db",
       "style": "IPY_MODEL_91c2d53e41e64090a194574f7f9572c8",
       "value": "<div style=\"width:36px;height:36px;background:#84c4ff;border-radius:12px;display:flex;align-items:center;justify-content:center;box-shadow:0 1px 4px rgba(60,60,60,0.10);\"><span style=\"font-size:18px;line-height:1;\">👤</span></div>"
      }
     },
     "277af572163c43f99e7e2a5907e4a732": {
      "model_module": "@jupyter-widgets/controls",
      "model_module_version": "2.0.0",
      "model_name": "HBoxModel",
      "state": {
       "children": [
        "IPY_MODEL_ee86cb1a5cc24ec58db536916b7f9e9c",
        "IPY_MODEL_63e0abe86bca47a9bc7c0f05f044c776"
       ],
       "layout": "IPY_MODEL_b2baa091435f4323bcb8e3b71a3e1b95"
      }
     },
     "28ac2b9f79494bd085f0a8f078503a3c": {
      "model_module": "@jupyter-widgets/controls",
      "model_module_version": "2.0.0",
      "model_name": "HTMLStyleModel",
      "state": {
       "description_width": "",
       "font_size": null,
       "text_color": null
      }
     },
     "28fa76809a17471798b97c387b346db5": {
      "model_module": "@jupyter-widgets/base",
      "model_module_version": "2.0.0",
      "model_name": "LayoutModel",
      "state": {
       "align_self": "flex-start",
       "margin": "8px 0 0 0"
      }
     },
     "2db59117d0c54e0ca481b57f07912ac2": {
      "model_module": "@jupyter-widgets/base",
      "model_module_version": "2.0.0",
      "model_name": "LayoutModel",
      "state": {
       "padding": "4px",
       "width": "100%"
      }
     },
     "302160ed46084dccb8ac8aabde62b4c9": {
      "model_module": "@jupyter-widgets/controls",
      "model_module_version": "2.0.0",
      "model_name": "HBoxModel",
      "state": {
       "children": [
        "IPY_MODEL_276215dded58435bad3e82057ee93b08",
        "IPY_MODEL_506e18ea447e49e3be730303b1d52762"
       ],
       "layout": "IPY_MODEL_9ccb6d4a33e944868a4a3e4857872c5d"
      }
     },
     "3039d307a2ae46c5a88113932eb64df5": {
      "model_module": "@jupyter-widgets/base",
      "model_module_version": "2.0.0",
      "model_name": "LayoutModel",
      "state": {
       "align_self": "flex-start",
       "margin": "0 8px 8px 0"
      }
     },
     "3061881af2f648d294bd1e0be6b4e39c": {
      "model_module": "@jupyter-widgets/controls",
      "model_module_version": "2.0.0",
      "model_name": "HTMLModel",
      "state": {
       "layout": "IPY_MODEL_99b30787904d4537b0a958ea5d6820f0",
       "style": "IPY_MODEL_96cb98ba9c9b48afa3701c28ca4c5699",
       "value": "<div style=\"width:36px;height:36px;background:#84c4ff;border-radius:12px;display:flex;align-items:center;justify-content:center;box-shadow:0 1px 4px rgba(60,60,60,0.10);\"><span style=\"font-size:18px;line-height:1;\">👤</span></div>"
      }
     },
     "32812e5127484fc4a551e6f73ac51e80": {
      "model_module": "@jupyter-widgets/controls",
      "model_module_version": "2.0.0",
      "model_name": "HBoxModel",
      "state": {
       "children": [
        "IPY_MODEL_822f149b0d5749b1834989981fa0c4af",
        "IPY_MODEL_779667d534274eb1b39ee38976bc9a79"
       ],
       "layout": "IPY_MODEL_56755b22dfb94f9b949ec88dec4fdbe8"
      }
     },
     "32912201d96844f7b0b684a2dde2a68c": {
      "model_module": "@jupyter-widgets/output",
      "model_module_version": "1.0.0",
      "model_name": "OutputModel",
      "state": {
       "_dom_classes": [
        "mljar-chat-msg"
       ],
       "layout": "IPY_MODEL_6f0fdf1095f1464789113c02c6b9aaf0",
       "outputs": [
        {
         "data": {
          "text/markdown": "Plot response",
          "text/plain": "<IPython.core.display.Markdown object>"
         },
         "metadata": {},
         "output_type": "display_data"
        },
        {
         "data": {
          "image/png": "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",
          "text/plain": "<Figure size 640x480 with 1 Axes>"
         },
         "metadata": {},
         "output_type": "display_data"
        }
       ]
      }
     },
     "348787f338d94170aac40aa9900cd048": {
      "model_module": "@jupyter-widgets/base",
      "model_module_version": "2.0.0",
      "model_name": "LayoutModel",
      "state": {
       "align_items": "flex-start"
      }
     },
     "3721328605ed45ff8199a83b85de2e93": {
      "model_module": "@jupyter-widgets/base",
      "model_module_version": "2.0.0",
      "model_name": "LayoutModel",
      "state": {
       "align_self": "flex-start",
       "margin": "8px 0 0 0"
      }
     },
     "373f8011fe64481a89e9c643ed38d747": {
      "model_module": "@jupyter-widgets/base",
      "model_module_version": "2.0.0",
      "model_name": "LayoutModel",
      "state": {
       "align_self": "flex-start",
       "margin": "8px 0 0 0"
      }
     },
     "39f56af965ca4c1aa33f1c3a7124eb76": {
      "model_module": "@jupyter-widgets/base",
      "model_module_version": "2.0.0",
      "model_name": "LayoutModel",
      "state": {
       "align_self": "flex-start",
       "margin": "8px 0 0 0"
      }
     },
     "3ee03a52f7294ef59344eeb4354a8e1f": {
      "model_module": "@jupyter-widgets/controls",
      "model_module_version": "2.0.0",
      "model_name": "HTMLModel",
      "state": {
       "layout": "IPY_MODEL_70c6b9584f364ef091c0715e0126d9fd",
       "style": "IPY_MODEL_89525d2403e14f6b9dfe0bb0416f78f4",
       "value": "\n            <div style=\"\n              color:#b5b5b5;\n              text-align:center;\n              padding:40px 0;\n              font-size:1.1em;\n              background:#fff;\n            \">💬 No messages yet. Start the conversation!</div>\n            "
      }
     },
     "3fa68341e6bc484d8a36fb17eaf81d82": {
      "model_module": "@jupyter-widgets/controls",
      "model_module_version": "2.0.0",
      "model_name": "HTMLModel",
      "state": {
       "layout": "IPY_MODEL_edc7545450ad4193b352b3a64670e3f0",
       "style": "IPY_MODEL_0dda9d3d2e4149aeb51c3bd730cc6639",
       "value": "<div style=\"width:36px;height:36px;background:#eeeeee;border-radius:12px;display:flex;align-items:center;justify-content:center;box-shadow:0 1px 4px rgba(60,60,60,0.10);\"><span style=\"font-size:18px;line-height:1;\">🤖</span></div>"
      }
     },
     "41ecb1562212496d8c52c52f2b6f9dbe": {
      "model_module": "@jupyter-widgets/controls",
      "model_module_version": "2.0.0",
      "model_name": "HBoxModel",
      "state": {
       "children": [
        "IPY_MODEL_20105dcd64bf4b82a5dafc586a81cf7a",
        "IPY_MODEL_0335fcb70d584e338358066be980e877"
       ],
       "layout": "IPY_MODEL_4fcd4d63cbb2487cbb757abb280fe752"
      }
     },
     "424a4bfbb95746ff81a529df0cd3f952": {
      "model_module": "@jupyter-widgets/base",
      "model_module_version": "2.0.0",
      "model_name": "LayoutModel",
      "state": {
       "align_self": "flex-start",
       "margin": "8px 0 0 0"
      }
     },
     "4279005ed8fd40d289c7b2c9b5098181": {
      "model_module": "@jupyter-widgets/controls",
      "model_module_version": "2.0.0",
      "model_name": "HTMLModel",
      "state": {
       "layout": "IPY_MODEL_0ca0a1c494154eb3a8847734fe28f75e",
       "style": "IPY_MODEL_6c0b3b58db724ab2af7f5ad50dcb5162",
       "value": "<div style=\"width:36px;height:36px;background:#eeeeee;border-radius:12px;display:flex;align-items:center;justify-content:center;box-shadow:0 1px 4px rgba(60,60,60,0.10);\"><span style=\"font-size:18px;line-height:1;\">🤖</span></div>"
      }
     },
     "4601e0ca24a64feda395ea4a6016a462": {
      "model_module": "@jupyter-widgets/controls",
      "model_module_version": "2.0.0",
      "model_name": "HTMLModel",
      "state": {
       "layout": "IPY_MODEL_01cb17c4bb9948f097734dd3e5b929e2",
       "style": "IPY_MODEL_67712ba56b5744dbb038c23404d111a9",
       "value": "<div style=\"width:36px;height:36px;background:#eeeeee;border-radius:12px;display:flex;align-items:center;justify-content:center;box-shadow:0 1px 4px rgba(60,60,60,0.10);\"><span style=\"font-size:18px;line-height:1;\">🤖</span></div>"
      }
     },
     "484d9b443fb747a18f84ba24dd120a9c": {
      "model_module": "@jupyter-widgets/base",
      "model_module_version": "2.0.0",
      "model_name": "LayoutModel",
      "state": {}
     },
     "4b81e549cb944d9b80b2fb602acb3a93": {
      "model_module": "@jupyter-widgets/controls",
      "model_module_version": "2.0.0",
      "model_name": "HBoxModel",
      "state": {
       "children": [
        "IPY_MODEL_da794347aac6481682055fc6653ad5fd",
        "IPY_MODEL_f7bab56ce3a0418a927c8b2d5b058cdb"
       ],
       "layout": "IPY_MODEL_0526e383833c4cf987cab50a03ef3d90"
      }
     },
     "4bfb61524e9444dc8b0110f73bd0590c": {
      "model_module": "@jupyter-widgets/controls",
      "model_module_version": "2.0.0",
      "model_name": "HTMLModel",
      "state": {
       "layout": "IPY_MODEL_7e9a9731f06d4a86bda665029da267e4",
       "style": "IPY_MODEL_9931b0cedb36493ca98196943ed5d24b",
       "value": "<div style=\"width:36px;height:36px;background:#84c4ff;border-radius:12px;display:flex;align-items:center;justify-content:center;box-shadow:0 1px 4px rgba(60,60,60,0.10);\"><span style=\"font-size:18px;line-height:1;\">👤</span></div>"
      }
     },
     "4e590943759b43638fcecd69efd426ec": {
      "model_module": "@jupyter-widgets/controls",
      "model_module_version": "2.0.0",
      "model_name": "VBoxModel",
      "state": {
       "_dom_classes": [
        "mljar-chat-86c457f6"
       ],
       "children": [
        "IPY_MODEL_4b81e549cb944d9b80b2fb602acb3a93",
        "IPY_MODEL_c789e77c78af40e5b6616bf157d0cc42",
        "IPY_MODEL_863af8487d744f329a4173af7496e7d3",
        "IPY_MODEL_7a7c9b7b6b0c41d9ae2e8fed3a018ba4",
        "IPY_MODEL_794bed786acd4e908a74a1d4a772a203",
        "IPY_MODEL_b935ceb3afa94e2881fce994b4f553b3",
        "IPY_MODEL_41ecb1562212496d8c52c52f2b6f9dbe",
        "IPY_MODEL_d9226cfe8f0c4949ba388ac403c8da2b"
       ],
       "layout": "IPY_MODEL_fc2fb02021f94af08268dc72d07074cb"
      }
     },
     "4fcd4d63cbb2487cbb757abb280fe752": {
      "model_module": "@jupyter-widgets/base",
      "model_module_version": "2.0.0",
      "model_name": "LayoutModel",
      "state": {
       "align_items": "flex-start"
      }
     },
     "506e18ea447e49e3be730303b1d52762": {
      "model_module": "@jupyter-widgets/output",
      "model_module_version": "1.0.0",
      "model_name": "OutputModel",
      "state": {
       "_dom_classes": [
        "mljar-chat-msg"
       ],
       "layout": "IPY_MODEL_b8cbeb75455542d98b992258e8d54262",
       "outputs": [
        {
         "data": {
          "text/markdown": "plot",
          "text/plain": "<IPython.core.display.Markdown object>"
         },
         "metadata": {},
         "output_type": "display_data"
        }
       ]
      }
     },
     "5107666f22f449bd89e55b356de6fcff": {
      "model_module": "@jupyter-widgets/base",
      "model_module_version": "2.0.0",
      "model_name": "LayoutModel",
      "state": {
       "align_self": "flex-start",
       "margin": "0 8px 8px 0"
      }
     },
     "5207640cb0f54ad5a9bfed3aa122855d": {
      "model_module": "@jupyter-widgets/output",
      "model_module_version": "1.0.0",
      "model_name": "OutputModel",
      "state": {
       "_dom_classes": [
        "mljar-chat-msg"
       ],
       "layout": "IPY_MODEL_373f8011fe64481a89e9c643ed38d747",
       "outputs": [
        {
         "data": {
          "text/markdown": "dataframe",
          "text/plain": "<IPython.core.display.Markdown object>"
         },
         "metadata": {},
         "output_type": "display_data"
        }
       ]
      }
     },
     "54919254636b436f92921f861825d12d": {
      "model_module": "@jupyter-widgets/base",
      "model_module_version": "2.0.0",
      "model_name": "LayoutModel",
      "state": {
       "align_self": "flex-start",
       "margin": "8px 0 0 0"
      }
     },
     "56755b22dfb94f9b949ec88dec4fdbe8": {
      "model_module": "@jupyter-widgets/base",
      "model_module_version": "2.0.0",
      "model_name": "LayoutModel",
      "state": {
       "align_items": "flex-start"
      }
     },
     "587b406d19e643fe8dda471309ff22b4": {
      "model_module": "@jupyter-widgets/base",
      "model_module_version": "2.0.0",
      "model_name": "LayoutModel",
      "state": {
       "align_items": "flex-start"
      }
     },
     "59c4b2cacb694119bed3db7199f95055": {
      "model_module": "@jupyter-widgets/base",
      "model_module_version": "2.0.0",
      "model_name": "LayoutModel",
      "state": {
       "align_self": "flex-start",
       "margin": "0 8px 8px 0"
      }
     },
     "5a261cb3101a45009913010844c40535": {
      "model_module": "@jupyter-widgets/controls",
      "model_module_version": "2.0.0",
      "model_name": "HTMLStyleModel",
      "state": {
       "description_width": "",
       "font_size": null,
       "text_color": null
      }
     },
     "5bbe1e86cf8541eaa657eb5015136576": {
      "model_module": "@jupyter-widgets/base",
      "model_module_version": "2.0.0",
      "model_name": "LayoutModel",
      "state": {
       "align_items": "flex-start"
      }
     },
     "5c894465b5b54b7c9dd96fbea0a8af85": {
      "model_module": "@jupyter-widgets/controls",
      "model_module_version": "2.0.0",
      "model_name": "HTMLStyleModel",
      "state": {
       "description_width": "",
       "font_size": null,
       "text_color": null
      }
     },
     "5d06a4ff69a64eb9bb5a1fd643f3be8c": {
      "model_module": "@jupyter-widgets/output",
      "model_module_version": "1.0.0",
      "model_name": "OutputModel",
      "state": {
       "_dom_classes": [
        "mljar-chat-msg"
       ],
       "layout": "IPY_MODEL_28fa76809a17471798b97c387b346db5",
       "outputs": [
        {
         "data": {
          "text/markdown": "dataframe",
          "text/plain": "<IPython.core.display.Markdown object>"
         },
         "metadata": {},
         "output_type": "display_data"
        }
       ]
      }
     },
     "5e284ddd88864d1085582159b7e0e005": {
      "model_module": "@jupyter-widgets/controls",
      "model_module_version": "2.0.0",
      "model_name": "HTMLStyleModel",
      "state": {
       "description_width": "",
       "font_size": null,
       "text_color": null
      }
     },
     "5f1a0f610edd473fa3f1b6397ccfd177": {
      "model_module": "@jupyter-widgets/base",
      "model_module_version": "2.0.0",
      "model_name": "LayoutModel",
      "state": {
       "align_self": "flex-start",
       "margin": "8px 0 0 0"
      }
     },
     "63e0abe86bca47a9bc7c0f05f044c776": {
      "model_module": "@jupyter-widgets/output",
      "model_module_version": "1.0.0",
      "model_name": "OutputModel",
      "state": {
       "_dom_classes": [
        "mljar-chat-msg"
       ],
       "layout": "IPY_MODEL_424a4bfbb95746ff81a529df0cd3f952",
       "outputs": [
        {
         "data": {
          "text/markdown": "DataFrame response",
          "text/plain": "<IPython.core.display.Markdown object>"
         },
         "metadata": {},
         "output_type": "display_data"
        },
        {
         "data": {
          "text/html": "<div>\n<style scoped>\n    .dataframe tbody tr th:only-of-type {\n        vertical-align: middle;\n    }\n\n    .dataframe tbody tr th {\n        vertical-align: top;\n    }\n\n    .dataframe thead th {\n        text-align: right;\n    }\n</style>\n<table border=\"1\" class=\"dataframe\">\n  <thead>\n    <tr style=\"text-align: right;\">\n      <th></th>\n      <th>a</th>\n      <th>b</th>\n    </tr>\n  </thead>\n  <tbody>\n    <tr>\n      <th>0</th>\n      <td>1</td>\n      <td>4</td>\n    </tr>\n    <tr>\n      <th>1</th>\n      <td>2</td>\n      <td>5</td>\n    </tr>\n    <tr>\n      <th>2</th>\n      <td>3</td>\n      <td>6</td>\n    </tr>\n  </tbody>\n</table>\n</div>",
          "text/plain": "   a  b\n0  1  4\n1  2  5\n2  3  6"
         },
         "metadata": {},
         "output_type": "display_data"
        }
       ]
      }
     },
     "64c203ca625e447d8a34600fb6911a57": {
      "model_module": "@jupyter-widgets/controls",
      "model_module_version": "2.0.0",
      "model_name": "HTMLModel",
      "state": {
       "layout": "IPY_MODEL_3039d307a2ae46c5a88113932eb64df5",
       "style": "IPY_MODEL_7891d9393cfe4e5eb82b036f3ab1d588",
       "value": "<div style=\"width:36px;height:36px;background:#84c4ff;border-radius:12px;display:flex;align-items:center;justify-content:center;box-shadow:0 1px 4px rgba(60,60,60,0.10);\"><span style=\"font-size:18px;line-height:1;\">👤</span></div>"
      }
     },
     "67712ba56b5744dbb038c23404d111a9": {
      "model_module": "@jupyter-widgets/controls",
      "model_module_version": "2.0.0",
      "model_name": "HTMLStyleModel",
      "state": {
       "description_width": "",
       "font_size": null,
       "text_color": null
      }
     },
     "67d8aee336764bdfa7a0fe76c21fa4d4": {
      "model_module": "@jupyter-widgets/output",
      "model_module_version": "1.0.0",
      "model_name": "OutputModel",
      "state": {
       "_dom_classes": [
        "mljar-chat-msg"
       ],
       "layout": "IPY_MODEL_ea3daabd876243ea99fab3095e238209",
       "outputs": [
        {
         "data": {
          "text/markdown": "Plot response is below:",
          "text/plain": "<IPython.core.display.Markdown object>"
         },
         "metadata": {},
         "output_type": "display_data"
        },
        {
         "data": {
          "image/png": "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",
          "text/plain": "<Figure size 640x480 with 1 Axes>"
         },
         "metadata": {},
         "output_type": "display_data"
        }
       ]
      }
     },
     "680ca0f17f6e40819bd5ed57aa5be642": {
      "model_module": "@jupyter-widgets/base",
      "model_module_version": "2.0.0",
      "model_name": "LayoutModel",
      "state": {
       "align_self": "flex-start",
       "margin": "0 8px 8px 0"
      }
     },
     "68452ec67d5e45deae0dc101b3dd766c": {
      "model_module": "@jupyter-widgets/controls",
      "model_module_version": "2.0.0",
      "model_name": "HTMLStyleModel",
      "state": {
       "description_width": "",
       "font_size": null,
       "text_color": null
      }
     },
     "6c0b3b58db724ab2af7f5ad50dcb5162": {
      "model_module": "@jupyter-widgets/controls",
      "model_module_version": "2.0.0",
      "model_name": "HTMLStyleModel",
      "state": {
       "description_width": "",
       "font_size": null,
       "text_color": null
      }
     },
     "6caff60875e844c5bd505b751f4a8866": {
      "model_module": "@jupyter-widgets/base",
      "model_module_version": "2.0.0",
      "model_name": "LayoutModel",
      "state": {
       "align_self": "flex-start",
       "margin": "8px 0 0 0"
      }
     },
     "6d65f26ffaaa45c28d412c3015fabe99": {
      "model_module": "@jupyter-widgets/controls",
      "model_module_version": "2.0.0",
      "model_name": "HTMLStyleModel",
      "state": {
       "description_width": "",
       "font_size": null,
       "text_color": null
      }
     },
     "6d9edeccd8fd443190f686fea74d9b40": {
      "model_module": "@jupyter-widgets/base",
      "model_module_version": "2.0.0",
      "model_name": "LayoutModel",
      "state": {}
     },
     "6e52c3b1097b4b89bc03d56279a264d0": {
      "model_module": "@jupyter-widgets/output",
      "model_module_version": "1.0.0",
      "model_name": "OutputModel",
      "state": {
       "_dom_classes": [
        "mljar-chat-msg"
       ],
       "layout": "IPY_MODEL_73e59b132df444c4a838cf1ab1583bf8",
       "outputs": [
        {
         "data": {
          "image/png": "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",
          "text/plain": "<Figure size 640x480 with 1 Axes>"
         },
         "metadata": {},
         "output_type": "display_data"
        }
       ]
      }
     },
     "6f0fdf1095f1464789113c02c6b9aaf0": {
      "model_module": "@jupyter-widgets/base",
      "model_module_version": "2.0.0",
      "model_name": "LayoutModel",
      "state": {
       "align_self": "flex-start",
       "margin": "8px 0 0 0"
      }
     },
     "709adf1d29344ee5a10f6de3fa5e19bb": {
      "model_module": "@jupyter-widgets/controls",
      "model_module_version": "2.0.0",
      "model_name": "HBoxModel",
      "state": {
       "children": [
        "IPY_MODEL_3061881af2f648d294bd1e0be6b4e39c",
        "IPY_MODEL_5207640cb0f54ad5a9bfed3aa122855d"
       ],
       "layout": "IPY_MODEL_7aee610c1ab843fa8f1f5cb07db1d5ee"
      }
     },
     "70c6b9584f364ef091c0715e0126d9fd": {
      "model_module": "@jupyter-widgets/base",
      "model_module_version": "2.0.0",
      "model_name": "LayoutModel",
      "state": {}
     },
     "7372094b2e454c67bbf6a0a406481632": {
      "model_module": "@jupyter-widgets/controls",
      "model_module_version": "2.0.0",
      "model_name": "HBoxModel",
      "state": {
       "children": [
        "IPY_MODEL_e4368cbb5eb34f13b3dcf55b04d0e61c",
        "IPY_MODEL_f47fcb9450f447a0833f13d12bb74006"
       ],
       "layout": "IPY_MODEL_587b406d19e643fe8dda471309ff22b4"
      }
     },
     "73e59b132df444c4a838cf1ab1583bf8": {
      "model_module": "@jupyter-widgets/base",
      "model_module_version": "2.0.0",
      "model_name": "LayoutModel",
      "state": {
       "align_self": "flex-start",
       "margin": "8px 0 0 0"
      }
     },
     "75c1aae4b046460c878b70e7b273875c": {
      "model_module": "@jupyter-widgets/output",
      "model_module_version": "1.0.0",
      "model_name": "OutputModel",
      "state": {
       "_dom_classes": [
        "mljar-chat-msg"
       ],
       "layout": "IPY_MODEL_97a45e624c084e8ea8a5466666fe6bc4",
       "outputs": [
        {
         "data": {
          "text/html": "<div>\n<style scoped>\n    .dataframe tbody tr th:only-of-type {\n        vertical-align: middle;\n    }\n\n    .dataframe tbody tr th {\n        vertical-align: top;\n    }\n\n    .dataframe thead th {\n        text-align: right;\n    }\n</style>\n<table border=\"1\" class=\"dataframe\">\n  <thead>\n    <tr style=\"text-align: right;\">\n      <th></th>\n      <th>a</th>\n      <th>b</th>\n    </tr>\n  </thead>\n  <tbody>\n    <tr>\n      <th>0</th>\n      <td>1</td>\n      <td>4</td>\n    </tr>\n    <tr>\n      <th>1</th>\n      <td>2</td>\n      <td>5</td>\n    </tr>\n    <tr>\n      <th>2</th>\n      <td>3</td>\n      <td>6</td>\n    </tr>\n  </tbody>\n</table>\n</div>",
          "text/plain": "   a  b\n0  1  4\n1  2  5\n2  3  6"
         },
         "metadata": {},
         "output_type": "display_data"
        }
       ]
      }
     },
     "779667d534274eb1b39ee38976bc9a79": {
      "model_module": "@jupyter-widgets/output",
      "model_module_version": "1.0.0",
      "model_name": "OutputModel",
      "state": {
       "_dom_classes": [
        "mljar-chat-msg"
       ],
       "layout": "IPY_MODEL_df7e3bdc8baa486c896dcd27b541bded",
       "outputs": [
        {
         "data": {
          "text/markdown": "Echo: asdf asdf asdf",
          "text/plain": "<IPython.core.display.Markdown object>"
         },
         "metadata": {},
         "output_type": "display_data"
        }
       ]
      }
     },
     "77bfe9c6cf96473f90a3d73757db930a": {
      "model_module": "@jupyter-widgets/controls",
      "model_module_version": "2.0.0",
      "model_name": "HBoxModel",
      "state": {
       "children": [
        "IPY_MODEL_13fcc8ce0c2c4ea48f51266fc752296f",
        "IPY_MODEL_f14b067d681848098ea618cf681d9a03"
       ],
       "layout": "IPY_MODEL_8b5d4f525a9b4a7597d9cff809319f34"
      }
     },
     "7891d9393cfe4e5eb82b036f3ab1d588": {
      "model_module": "@jupyter-widgets/controls",
      "model_module_version": "2.0.0",
      "model_name": "HTMLStyleModel",
      "state": {
       "description_width": "",
       "font_size": null,
       "text_color": null
      }
     },
     "794bed786acd4e908a74a1d4a772a203": {
      "model_module": "@jupyter-widgets/controls",
      "model_module_version": "2.0.0",
      "model_name": "HBoxModel",
      "state": {
       "children": [
        "IPY_MODEL_0d35197102d148c7afe2e40a0e871bb6",
        "IPY_MODEL_08df08fa954847f2b68a14e7fbc82d5d"
       ],
       "layout": "IPY_MODEL_aa21947d192d488c92bbcb777afcff92"
      }
     },
     "7a7c9b7b6b0c41d9ae2e8fed3a018ba4": {
      "model_module": "@jupyter-widgets/controls",
      "model_module_version": "2.0.0",
      "model_name": "HBoxModel",
      "state": {
       "children": [
        "IPY_MODEL_bbf61024ff6f49399da0ddde4e6aa206",
        "IPY_MODEL_b907637351e44fc68e23ebea8a41751a"
       ],
       "layout": "IPY_MODEL_0554d0c856ed47d6bc177d82920d0574"
      }
     },
     "7aee610c1ab843fa8f1f5cb07db1d5ee": {
      "model_module": "@jupyter-widgets/base",
      "model_module_version": "2.0.0",
      "model_name": "LayoutModel",
      "state": {
       "align_items": "flex-start"
      }
     },
     "7e9a9731f06d4a86bda665029da267e4": {
      "model_module": "@jupyter-widgets/base",
      "model_module_version": "2.0.0",
      "model_name": "LayoutModel",
      "state": {
       "align_self": "flex-start",
       "margin": "0 8px 8px 0"
      }
     },
     "822f149b0d5749b1834989981fa0c4af": {
      "model_module": "@jupyter-widgets/controls",
      "model_module_version": "2.0.0",
      "model_name": "HTMLModel",
      "state": {
       "layout": "IPY_MODEL_acc9a17188f4408ea65b532ac9922345",
       "style": "IPY_MODEL_8c1c7b4fa3984301be62cb482b3f5605",
       "value": "<div style=\"width:36px;height:36px;background:#eeeeee;border-radius:12px;display:flex;align-items:center;justify-content:center;box-shadow:0 1px 4px rgba(60,60,60,0.10);\"><span style=\"font-size:18px;line-height:1;\">🤖</span></div>"
      }
     },
     "832112bc281946f598ae277a24f8e051": {
      "model_module": "@jupyter-widgets/controls",
      "model_module_version": "2.0.0",
      "model_name": "HBoxModel",
      "state": {
       "children": [
        "IPY_MODEL_acfcac526d7a4c25bdca8ab89c027316",
        "IPY_MODEL_75c1aae4b046460c878b70e7b273875c"
       ],
       "layout": "IPY_MODEL_f6a3a78fbd4d4f149770a7d96d461b77"
      }
     },
     "837d943faa2c4c8c995f8b2a3acee356": {
      "model_module": "@jupyter-widgets/controls",
      "model_module_version": "2.0.0",
      "model_name": "HTMLStyleModel",
      "state": {
       "description_width": "",
       "font_size": null,
       "text_color": null
      }
     },
     "83d6e4035258459d8698ccd10642a77f": {
      "model_module": "@jupyter-widgets/base",
      "model_module_version": "2.0.0",
      "model_name": "LayoutModel",
      "state": {
       "align_self": "flex-start",
       "margin": "0 8px 8px 0"
      }
     },
     "84ce3f036f70484eb475746cc6ccf8da": {
      "model_module": "@jupyter-widgets/controls",
      "model_module_version": "2.0.0",
      "model_name": "HTMLStyleModel",
      "state": {
       "description_width": "",
       "font_size": null,
       "text_color": null
      }
     },
     "863af8487d744f329a4173af7496e7d3": {
      "model_module": "@jupyter-widgets/controls",
      "model_module_version": "2.0.0",
      "model_name": "HBoxModel",
      "state": {
       "children": [
        "IPY_MODEL_ad21a8f55b884a5aad788d8215a03f7a",
        "IPY_MODEL_e518e90a08594d1c98a45d9ff746cb63"
       ],
       "layout": "IPY_MODEL_91614aa70e8b46778b6aa84fa728d3ef"
      }
     },
     "86e2e8a957f345718f9b870101728997": {
      "model_module": "@jupyter-widgets/base",
      "model_module_version": "2.0.0",
      "model_name": "LayoutModel",
      "state": {
       "align_items": "flex-start"
      }
     },
     "89525d2403e14f6b9dfe0bb0416f78f4": {
      "model_module": "@jupyter-widgets/controls",
      "model_module_version": "2.0.0",
      "model_name": "HTMLStyleModel",
      "state": {
       "description_width": "",
       "font_size": null,
       "text_color": null
      }
     },
     "8b5d4f525a9b4a7597d9cff809319f34": {
      "model_module": "@jupyter-widgets/base",
      "model_module_version": "2.0.0",
      "model_name": "LayoutModel",
      "state": {
       "align_items": "flex-start"
      }
     },
     "8c1c7b4fa3984301be62cb482b3f5605": {
      "model_module": "@jupyter-widgets/controls",
      "model_module_version": "2.0.0",
      "model_name": "HTMLStyleModel",
      "state": {
       "description_width": "",
       "font_size": null,
       "text_color": null
      }
     },
     "915b81e65f3343b58ba3584f54c3843d": {
      "model_module": "@jupyter-widgets/controls",
      "model_module_version": "2.0.0",
      "model_name": "HTMLModel",
      "state": {
       "layout": "IPY_MODEL_0a07bc2197d944de8732c6768e20ef5a",
       "style": "IPY_MODEL_6d65f26ffaaa45c28d412c3015fabe99",
       "value": "<div style=\"width:36px;height:36px;background:#84c4ff;border-radius:12px;display:flex;align-items:center;justify-content:center;box-shadow:0 1px 4px rgba(60,60,60,0.10);\"><span style=\"font-size:18px;line-height:1;\">👤</span></div>"
      }
     },
     "9160715a32e9443e866a7fae6d3b1828": {
      "model_module": "@jupyter-widgets/base",
      "model_module_version": "2.0.0",
      "model_name": "LayoutModel",
      "state": {
       "align_self": "flex-start",
       "margin": "8px 0 0 0"
      }
     },
     "91614aa70e8b46778b6aa84fa728d3ef": {
      "model_module": "@jupyter-widgets/base",
      "model_module_version": "2.0.0",
      "model_name": "LayoutModel",
      "state": {
       "align_items": "flex-start"
      }
     },
     "91c2d53e41e64090a194574f7f9572c8": {
      "model_module": "@jupyter-widgets/controls",
      "model_module_version": "2.0.0",
      "model_name": "HTMLStyleModel",
      "state": {
       "description_width": "",
       "font_size": null,
       "text_color": null
      }
     },
     "92e022edcbd049498b482a143cff89d2": {
      "model_module": "@jupyter-widgets/base",
      "model_module_version": "2.0.0",
      "model_name": "LayoutModel",
      "state": {}
     },
     "93306e18fe7d4139b70286922245056e": {
      "model_module": "@jupyter-widgets/controls",
      "model_module_version": "2.0.0",
      "model_name": "HBoxModel",
      "state": {
       "children": [
        "IPY_MODEL_4bfb61524e9444dc8b0110f73bd0590c",
        "IPY_MODEL_19f309009fab4e789a331cfc5f92f811"
       ],
       "layout": "IPY_MODEL_348787f338d94170aac40aa9900cd048"
      }
     },
     "96cb98ba9c9b48afa3701c28ca4c5699": {
      "model_module": "@jupyter-widgets/controls",
      "model_module_version": "2.0.0",
      "model_name": "HTMLStyleModel",
      "state": {
       "description_width": "",
       "font_size": null,
       "text_color": null
      }
     },
     "97a45e624c084e8ea8a5466666fe6bc4": {
      "model_module": "@jupyter-widgets/base",
      "model_module_version": "2.0.0",
      "model_name": "LayoutModel",
      "state": {
       "align_self": "flex-start",
       "margin": "8px 0 0 0"
      }
     },
     "9931b0cedb36493ca98196943ed5d24b": {
      "model_module": "@jupyter-widgets/controls",
      "model_module_version": "2.0.0",
      "model_name": "HTMLStyleModel",
      "state": {
       "description_width": "",
       "font_size": null,
       "text_color": null
      }
     },
     "9953b5fe5d3a43c3af0ada8afd3c13e3": {
      "model_module": "@jupyter-widgets/base",
      "model_module_version": "2.0.0",
      "model_name": "LayoutModel",
      "state": {
       "padding": "4px",
       "width": "100%"
      }
     },
     "99b30787904d4537b0a958ea5d6820f0": {
      "model_module": "@jupyter-widgets/base",
      "model_module_version": "2.0.0",
      "model_name": "LayoutModel",
      "state": {
       "align_self": "flex-start",
       "margin": "0 8px 8px 0"
      }
     },
     "9a197e2e9a4d4b2da8a138850db6972c": {
      "model_module": "@jupyter-widgets/controls",
      "model_module_version": "2.0.0",
      "model_name": "HTMLModel",
      "state": {
       "layout": "IPY_MODEL_59c4b2cacb694119bed3db7199f95055",
       "style": "IPY_MODEL_1f05b6dd0eaa459fbcfd108106a14631",
       "value": "<div style=\"width:36px;height:36px;background:#eeeeee;border-radius:12px;display:flex;align-items:center;justify-content:center;box-shadow:0 1px 4px rgba(60,60,60,0.10);\"><span style=\"font-size:18px;line-height:1;\">🤖</span></div>"
      }
     },
     "9c238aa25d404a17a2405ba32103fbd5": {
      "model_module": "@jupyter-widgets/base",
      "model_module_version": "2.0.0",
      "model_name": "LayoutModel",
      "state": {
       "align_items": "flex-start"
      }
     },
     "9c269cc55c2346e2b16950608162d055": {
      "model_module": "@jupyter-widgets/base",
      "model_module_version": "2.0.0",
      "model_name": "LayoutModel",
      "state": {
       "align_items": "flex-start"
      }
     },
     "9ccb6d4a33e944868a4a3e4857872c5d": {
      "model_module": "@jupyter-widgets/base",
      "model_module_version": "2.0.0",
      "model_name": "LayoutModel",
      "state": {
       "align_items": "flex-start"
      }
     },
     "a1ced8e07f2a40b2a0c875623d993962": {
      "model_module": "@jupyter-widgets/base",
      "model_module_version": "2.0.0",
      "model_name": "LayoutModel",
      "state": {}
     },
     "a2fc841830e74bde9d90547fb7bd4d43": {
      "model_module": "@jupyter-widgets/controls",
      "model_module_version": "2.0.0",
      "model_name": "HTMLStyleModel",
      "state": {
       "description_width": "",
       "font_size": null,
       "text_color": null
      }
     },
     "a3602b96a26c451eacf5bc2b069d18a8": {
      "model_module": "@jupyter-widgets/controls",
      "model_module_version": "2.0.0",
      "model_name": "HTMLModel",
      "state": {
       "layout": "IPY_MODEL_13336cc5a7e448b19b311a1bddb4f483",
       "style": "IPY_MODEL_f7026e3d81764c1086e47051ba60f399",
       "value": "\n            <div style=\"\n              color:#b5b5b5;\n              text-align:center;\n              padding:40px 0;\n              font-size:1.1em;\n              background:#fff;\n            \">💬 No messages yet. Start the conversation!</div>\n            "
      }
     },
     "a73eae4d2e104a4ab36fa3d5df003c60": {
      "model_module": "@jupyter-widgets/base",
      "model_module_version": "2.0.0",
      "model_name": "LayoutModel",
      "state": {
       "align_items": "flex-start"
      }
     },
     "a80f96934d034c12b7dde7b1722fda19": {
      "model_module": "@jupyter-widgets/base",
      "model_module_version": "2.0.0",
      "model_name": "LayoutModel",
      "state": {
       "align_items": "flex-start"
      }
     },
     "aa21947d192d488c92bbcb777afcff92": {
      "model_module": "@jupyter-widgets/base",
      "model_module_version": "2.0.0",
      "model_name": "LayoutModel",
      "state": {
       "align_items": "flex-start"
      }
     },
     "aa6487d61148468fb5a3df9e4b764e80": {
      "model_module": "@jupyter-widgets/controls",
      "model_module_version": "2.0.0",
      "model_name": "VBoxModel",
      "state": {
       "_dom_classes": [
        "mljar-chat-28345d82"
       ],
       "children": [
        "IPY_MODEL_a3602b96a26c451eacf5bc2b069d18a8"
       ],
       "layout": "IPY_MODEL_9953b5fe5d3a43c3af0ada8afd3c13e3"
      }
     },
     "aaf47717a631404ab4a22796aebd3d9b": {
      "model_module": "@jupyter-widgets/base",
      "model_module_version": "2.0.0",
      "model_name": "LayoutModel",
      "state": {
       "align_self": "flex-start",
       "margin": "0 8px 8px 0"
      }
     },
     "acc9a17188f4408ea65b532ac9922345": {
      "model_module": "@jupyter-widgets/base",
      "model_module_version": "2.0.0",
      "model_name": "LayoutModel",
      "state": {
       "align_self": "flex-start",
       "margin": "0 8px 8px 0"
      }
     },
     "acfcac526d7a4c25bdca8ab89c027316": {
      "model_module": "@jupyter-widgets/controls",
      "model_module_version": "2.0.0",
      "model_name": "HTMLModel",
      "state": {
       "layout": "IPY_MODEL_5107666f22f449bd89e55b356de6fcff",
       "style": "IPY_MODEL_68452ec67d5e45deae0dc101b3dd766c",
       "value": "<div style=\"width:36px;height:36px;background:#eeeeee;border-radius:12px;display:flex;align-items:center;justify-content:center;box-shadow:0 1px 4px rgba(60,60,60,0.10);\"><span style=\"font-size:18px;line-height:1;\">🤖</span></div>"
      }
     },
     "ad21a8f55b884a5aad788d8215a03f7a": {
      "model_module": "@jupyter-widgets/controls",
      "model_module_version": "2.0.0",
      "model_name": "HTMLModel",
      "state": {
       "layout": "IPY_MODEL_83d6e4035258459d8698ccd10642a77f",
       "style": "IPY_MODEL_28ac2b9f79494bd085f0a8f078503a3c",
       "value": "<div style=\"width:36px;height:36px;background:#84c4ff;border-radius:12px;display:flex;align-items:center;justify-content:center;box-shadow:0 1px 4px rgba(60,60,60,0.10);\"><span style=\"font-size:18px;line-height:1;\">👤</span></div>"
      }
     },
     "b25518cb240e43c3befbee3c0c8e88db": {
      "model_module": "@jupyter-widgets/base",
      "model_module_version": "2.0.0",
      "model_name": "LayoutModel",
      "state": {
       "align_self": "flex-start",
       "margin": "0 8px 8px 0"
      }
     },
     "b2baa091435f4323bcb8e3b71a3e1b95": {
      "model_module": "@jupyter-widgets/base",
      "model_module_version": "2.0.0",
      "model_name": "LayoutModel",
      "state": {
       "align_items": "flex-start"
      }
     },
     "b2f067f4f17e4a20b2036bd4ae2829f5": {
      "model_module": "@jupyter-widgets/controls",
      "model_module_version": "2.0.0",
      "model_name": "HBoxModel",
      "state": {
       "children": [
        "IPY_MODEL_915b81e65f3343b58ba3584f54c3843d",
        "IPY_MODEL_5d06a4ff69a64eb9bb5a1fd643f3be8c"
       ],
       "layout": "IPY_MODEL_a73eae4d2e104a4ab36fa3d5df003c60"
      }
     },
     "b66d56d9872a4652bf58f25d579d06e0": {
      "model_module": "@jupyter-widgets/base",
      "model_module_version": "2.0.0",
      "model_name": "LayoutModel",
      "state": {
       "align_self": "flex-start",
       "margin": "8px 0 0 0"
      }
     },
     "b768ca8c9ed14b57aee90afd56f59319": {
      "model_module": "@jupyter-widgets/base",
      "model_module_version": "2.0.0",
      "model_name": "LayoutModel",
      "state": {
       "align_self": "flex-start",
       "margin": "0 8px 8px 0"
      }
     },
     "b7fc0d1b29b348c4a314acd9fd5bbfd6": {
      "model_module": "@jupyter-widgets/base",
      "model_module_version": "2.0.0",
      "model_name": "LayoutModel",
      "state": {
       "align_self": "flex-start",
       "margin": "0 8px 8px 0"
      }
     },
     "b8cbeb75455542d98b992258e8d54262": {
      "model_module": "@jupyter-widgets/base",
      "model_module_version": "2.0.0",
      "model_name": "LayoutModel",
      "state": {
       "align_self": "flex-start",
       "margin": "8px 0 0 0"
      }
     },
     "b907637351e44fc68e23ebea8a41751a": {
      "model_module": "@jupyter-widgets/output",
      "model_module_version": "1.0.0",
      "model_name": "OutputModel",
      "state": {
       "_dom_classes": [
        "mljar-chat-msg"
       ],
       "layout": "IPY_MODEL_115b67e970424da59fb702e10d1a20bc",
       "outputs": [
        {
         "data": {
          "text/markdown": "Altair response is below:",
          "text/plain": "<IPython.core.display.Markdown object>"
         },
         "metadata": {},
         "output_type": "display_data"
        },
        {
         "data": {
          "text/html": "\n<style>\n  #altair-viz-b578d5745a294085827682a15a922375.vega-embed {\n    width: 100%;\n    display: flex;\n  }\n\n  #altair-viz-b578d5745a294085827682a15a922375.vega-embed details,\n  #altair-viz-b578d5745a294085827682a15a922375.vega-embed details summary {\n    position: relative;\n  }\n</style>\n<div id=\"altair-viz-b578d5745a294085827682a15a922375\"></div>\n<script type=\"text/javascript\">\n  var VEGA_DEBUG = (typeof VEGA_DEBUG == \"undefined\") ? {} : VEGA_DEBUG;\n  (function(spec, embedOpt){\n    let outputDiv = document.currentScript.previousElementSibling;\n    if (outputDiv.id !== \"altair-viz-b578d5745a294085827682a15a922375\") {\n      outputDiv = document.getElementById(\"altair-viz-b578d5745a294085827682a15a922375\");\n    }\n\n    const paths = {\n      \"vega\": \"https://cdn.jsdelivr.net/npm/vega@5?noext\",\n      \"vega-lib\": \"https://cdn.jsdelivr.net/npm/vega-lib?noext\",\n      \"vega-lite\": \"https://cdn.jsdelivr.net/npm/vega-lite@5.20.1?noext\",\n      \"vega-embed\": \"https://cdn.jsdelivr.net/npm/vega-embed@6?noext\",\n    };\n\n    function maybeLoadScript(lib, version) {\n      var key = `${lib.replace(\"-\", \"\")}_version`;\n      return (VEGA_DEBUG[key] == version) ?\n        Promise.resolve(paths[lib]) :\n        new Promise(function(resolve, reject) {\n          var s = document.createElement('script');\n          document.getElementsByTagName(\"head\")[0].appendChild(s);\n          s.async = true;\n          s.onload = () => {\n            VEGA_DEBUG[key] = version;\n            return resolve(paths[lib]);\n          };\n          s.onerror = () => reject(`Error loading script: ${paths[lib]}`);\n          s.src = paths[lib];\n        });\n    }\n\n    function showError(err) {\n      outputDiv.innerHTML = `<div class=\"error\" style=\"color:red;\">${err}</div>`;\n      throw err;\n    }\n\n    function displayChart(vegaEmbed) {\n      vegaEmbed(outputDiv, spec, embedOpt)\n        .catch(err => showError(`Javascript Error: ${err.message}<br>This usually means there's a typo in your chart specification. See the javascript console for the full traceback.`));\n    }\n\n    if(typeof define === \"function\" && define.amd) {\n      requirejs.config({paths});\n      let deps = [\"vega-embed\"];\n      require(deps, displayChart, err => showError(`Error loading script: ${err.message}`));\n    } else {\n      maybeLoadScript(\"vega\", \"5\")\n        .then(() => maybeLoadScript(\"vega-lite\", \"5.20.1\"))\n        .then(() => maybeLoadScript(\"vega-embed\", \"6\"))\n        .catch(showError)\n        .then(() => displayChart(vegaEmbed));\n    }\n  })({\"config\": {\"view\": {\"continuousWidth\": 300, \"continuousHeight\": 300}}, \"data\": {\"name\": \"data-9cc0564cb5591205eeeca8d2429dd11b\"}, \"mark\": {\"type\": \"bar\"}, \"encoding\": {\"color\": {\"field\": \"site\", \"type\": \"nominal\"}, \"tooltip\": [{\"field\": \"variety\", \"type\": \"nominal\"}, {\"field\": \"site\", \"type\": \"nominal\"}, {\"aggregate\": \"sum\", \"field\": \"yield\", \"type\": \"quantitative\"}], \"x\": {\"aggregate\": \"sum\", \"field\": \"yield\", \"type\": \"quantitative\"}, \"y\": {\"field\": \"variety\", \"sort\": \"-x\", \"type\": \"nominal\"}}, \"height\": 300, \"title\": \"Barley Yield by Variety & Site\", \"width\": 600, \"$schema\": \"https://vega.github.io/schema/vega-lite/v5.20.1.json\", \"datasets\": {\"data-9cc0564cb5591205eeeca8d2429dd11b\": [{\"yield\": 27.0, \"variety\": \"Manchuria\", \"year\": 1931, \"site\": \"University Farm\"}, {\"yield\": 48.86667, \"variety\": \"Manchuria\", \"year\": 1931, \"site\": \"Waseca\"}, {\"yield\": 27.43334, \"variety\": \"Manchuria\", \"year\": 1931, \"site\": \"Morris\"}, {\"yield\": 39.93333, \"variety\": \"Manchuria\", \"year\": 1931, \"site\": \"Crookston\"}, {\"yield\": 32.96667, \"variety\": \"Manchuria\", \"year\": 1931, \"site\": \"Grand Rapids\"}, {\"yield\": 28.96667, \"variety\": \"Manchuria\", \"year\": 1931, \"site\": \"Duluth\"}, {\"yield\": 43.06666, \"variety\": \"Glabron\", \"year\": 1931, \"site\": \"University Farm\"}, {\"yield\": 55.2, \"variety\": \"Glabron\", \"year\": 1931, \"site\": \"Waseca\"}, {\"yield\": 28.76667, \"variety\": \"Glabron\", \"year\": 1931, \"site\": \"Morris\"}, {\"yield\": 38.13333, \"variety\": \"Glabron\", \"year\": 1931, \"site\": \"Crookston\"}, {\"yield\": 29.13333, \"variety\": \"Glabron\", \"year\": 1931, \"site\": \"Grand Rapids\"}, {\"yield\": 29.66667, \"variety\": \"Glabron\", \"year\": 1931, \"site\": \"Duluth\"}, {\"yield\": 35.13333, \"variety\": \"Svansota\", \"year\": 1931, \"site\": \"University Farm\"}, {\"yield\": 47.33333, \"variety\": \"Svansota\", \"year\": 1931, \"site\": \"Waseca\"}, {\"yield\": 25.76667, \"variety\": \"Svansota\", \"year\": 1931, \"site\": \"Morris\"}, {\"yield\": 40.46667, \"variety\": \"Svansota\", \"year\": 1931, \"site\": \"Crookston\"}, {\"yield\": 29.66667, \"variety\": \"Svansota\", \"year\": 1931, \"site\": \"Grand Rapids\"}, {\"yield\": 25.7, \"variety\": \"Svansota\", \"year\": 1931, \"site\": \"Duluth\"}, {\"yield\": 39.9, \"variety\": \"Velvet\", \"year\": 1931, \"site\": \"University Farm\"}, {\"yield\": 50.23333, \"variety\": \"Velvet\", \"year\": 1931, \"site\": \"Waseca\"}, {\"yield\": 26.13333, \"variety\": \"Velvet\", \"year\": 1931, \"site\": \"Morris\"}, {\"yield\": 41.33333, \"variety\": \"Velvet\", \"year\": 1931, \"site\": \"Crookston\"}, {\"yield\": 23.03333, \"variety\": \"Velvet\", \"year\": 1931, \"site\": \"Grand Rapids\"}, {\"yield\": 26.3, \"variety\": \"Velvet\", \"year\": 1931, \"site\": \"Duluth\"}, {\"yield\": 36.56666, \"variety\": \"Trebi\", \"year\": 1931, \"site\": \"University Farm\"}, {\"yield\": 63.8333, \"variety\": \"Trebi\", \"year\": 1931, \"site\": \"Waseca\"}, {\"yield\": 43.76667, \"variety\": \"Trebi\", \"year\": 1931, \"site\": \"Morris\"}, {\"yield\": 46.93333, \"variety\": \"Trebi\", \"year\": 1931, \"site\": \"Crookston\"}, {\"yield\": 29.76667, \"variety\": \"Trebi\", \"year\": 1931, \"site\": \"Grand Rapids\"}, {\"yield\": 33.93333, \"variety\": \"Trebi\", \"year\": 1931, \"site\": \"Duluth\"}, {\"yield\": 43.26667, \"variety\": \"No. 457\", \"year\": 1931, \"site\": \"University Farm\"}, {\"yield\": 58.1, \"variety\": \"No. 457\", \"year\": 1931, \"site\": \"Waseca\"}, {\"yield\": 28.7, \"variety\": \"No. 457\", \"year\": 1931, \"site\": \"Morris\"}, {\"yield\": 45.66667, \"variety\": \"No. 457\", \"year\": 1931, \"site\": \"Crookston\"}, {\"yield\": 32.16667, \"variety\": \"No. 457\", \"year\": 1931, \"site\": \"Grand Rapids\"}, {\"yield\": 33.6, \"variety\": \"No. 457\", \"year\": 1931, \"site\": \"Duluth\"}, {\"yield\": 36.6, \"variety\": \"No. 462\", \"year\": 1931, \"site\": \"University Farm\"}, {\"yield\": 65.7667, \"variety\": \"No. 462\", \"year\": 1931, \"site\": \"Waseca\"}, {\"yield\": 30.36667, \"variety\": \"No. 462\", \"year\": 1931, \"site\": \"Morris\"}, {\"yield\": 48.56666, \"variety\": \"No. 462\", \"year\": 1931, \"site\": \"Crookston\"}, {\"yield\": 24.93334, \"variety\": \"No. 462\", \"year\": 1931, \"site\": \"Grand Rapids\"}, {\"yield\": 28.1, \"variety\": \"No. 462\", \"year\": 1931, \"site\": \"Duluth\"}, {\"yield\": 32.76667, \"variety\": \"Peatland\", \"year\": 1931, \"site\": \"University Farm\"}, {\"yield\": 48.56666, \"variety\": \"Peatland\", \"year\": 1931, \"site\": \"Waseca\"}, {\"yield\": 29.86667, \"variety\": \"Peatland\", \"year\": 1931, \"site\": \"Morris\"}, {\"yield\": 41.6, \"variety\": \"Peatland\", \"year\": 1931, \"site\": \"Crookston\"}, {\"yield\": 34.7, \"variety\": \"Peatland\", \"year\": 1931, \"site\": \"Grand Rapids\"}, {\"yield\": 32.0, \"variety\": \"Peatland\", \"year\": 1931, \"site\": \"Duluth\"}, {\"yield\": 24.66667, \"variety\": \"No. 475\", \"year\": 1931, \"site\": \"University Farm\"}, {\"yield\": 46.76667, \"variety\": \"No. 475\", \"year\": 1931, \"site\": \"Waseca\"}, {\"yield\": 22.6, \"variety\": \"No. 475\", \"year\": 1931, \"site\": \"Morris\"}, {\"yield\": 44.1, \"variety\": \"No. 475\", \"year\": 1931, \"site\": \"Crookston\"}, {\"yield\": 19.7, \"variety\": \"No. 475\", \"year\": 1931, \"site\": \"Grand Rapids\"}, {\"yield\": 33.06666, \"variety\": \"No. 475\", \"year\": 1931, \"site\": \"Duluth\"}, {\"yield\": 39.3, \"variety\": \"Wisconsin No. 38\", \"year\": 1931, \"site\": \"University Farm\"}, {\"yield\": 58.8, \"variety\": \"Wisconsin No. 38\", \"year\": 1931, \"site\": \"Waseca\"}, {\"yield\": 29.46667, \"variety\": \"Wisconsin No. 38\", \"year\": 1931, \"site\": \"Morris\"}, {\"yield\": 49.86667, \"variety\": \"Wisconsin No. 38\", \"year\": 1931, \"site\": \"Crookston\"}, {\"yield\": 34.46667, \"variety\": \"Wisconsin No. 38\", \"year\": 1931, \"site\": \"Grand Rapids\"}, {\"yield\": 31.6, \"variety\": \"Wisconsin No. 38\", \"year\": 1931, \"site\": \"Duluth\"}, {\"yield\": 26.9, \"variety\": \"Manchuria\", \"year\": 1932, \"site\": \"University Farm\"}, {\"yield\": 33.46667, \"variety\": \"Manchuria\", \"year\": 1932, \"site\": \"Waseca\"}, {\"yield\": 34.36666, \"variety\": \"Manchuria\", \"year\": 1932, \"site\": \"Morris\"}, {\"yield\": 32.96667, \"variety\": \"Manchuria\", \"year\": 1932, \"site\": \"Crookston\"}, {\"yield\": 22.13333, \"variety\": \"Manchuria\", \"year\": 1932, \"site\": \"Grand Rapids\"}, {\"yield\": 22.56667, \"variety\": \"Manchuria\", \"year\": 1932, \"site\": \"Duluth\"}, {\"yield\": 36.8, \"variety\": \"Glabron\", \"year\": 1932, \"site\": \"University Farm\"}, {\"yield\": 37.73333, \"variety\": \"Glabron\", \"year\": 1932, \"site\": \"Waseca\"}, {\"yield\": 35.13333, \"variety\": \"Glabron\", \"year\": 1932, \"site\": \"Morris\"}, {\"yield\": 26.16667, \"variety\": \"Glabron\", \"year\": 1932, \"site\": \"Crookston\"}, {\"yield\": 14.43333, \"variety\": \"Glabron\", \"year\": 1932, \"site\": \"Grand Rapids\"}, {\"yield\": 25.86667, \"variety\": \"Glabron\", \"year\": 1932, \"site\": \"Duluth\"}, {\"yield\": 27.43334, \"variety\": \"Svansota\", \"year\": 1932, \"site\": \"University Farm\"}, {\"yield\": 38.5, \"variety\": \"Svansota\", \"year\": 1932, \"site\": \"Waseca\"}, {\"yield\": 35.03333, \"variety\": \"Svansota\", \"year\": 1932, \"site\": \"Morris\"}, {\"yield\": 20.63333, \"variety\": \"Svansota\", \"year\": 1932, \"site\": \"Crookston\"}, {\"yield\": 16.63333, \"variety\": \"Svansota\", \"year\": 1932, \"site\": \"Grand Rapids\"}, {\"yield\": 22.23333, \"variety\": \"Svansota\", \"year\": 1932, \"site\": \"Duluth\"}, {\"yield\": 26.8, \"variety\": \"Velvet\", \"year\": 1932, \"site\": \"University Farm\"}, {\"yield\": 37.4, \"variety\": \"Velvet\", \"year\": 1932, \"site\": \"Waseca\"}, {\"yield\": 38.83333, \"variety\": \"Velvet\", \"year\": 1932, \"site\": \"Morris\"}, {\"yield\": 32.06666, \"variety\": \"Velvet\", \"year\": 1932, \"site\": \"Crookston\"}, {\"yield\": 32.23333, \"variety\": \"Velvet\", \"year\": 1932, \"site\": \"Grand Rapids\"}, {\"yield\": 22.46667, \"variety\": \"Velvet\", \"year\": 1932, \"site\": \"Duluth\"}, {\"yield\": 29.06667, \"variety\": \"Trebi\", \"year\": 1932, \"site\": \"University Farm\"}, {\"yield\": 49.2333, \"variety\": \"Trebi\", \"year\": 1932, \"site\": \"Waseca\"}, {\"yield\": 46.63333, \"variety\": \"Trebi\", \"year\": 1932, \"site\": \"Morris\"}, {\"yield\": 41.83333, \"variety\": \"Trebi\", \"year\": 1932, \"site\": \"Crookston\"}, {\"yield\": 20.63333, \"variety\": \"Trebi\", \"year\": 1932, \"site\": \"Grand Rapids\"}, {\"yield\": 30.6, \"variety\": \"Trebi\", \"year\": 1932, \"site\": \"Duluth\"}, {\"yield\": 26.43334, \"variety\": \"No. 457\", \"year\": 1932, \"site\": \"University Farm\"}, {\"yield\": 42.2, \"variety\": \"No. 457\", \"year\": 1932, \"site\": \"Waseca\"}, {\"yield\": 43.53334, \"variety\": \"No. 457\", \"year\": 1932, \"site\": \"Morris\"}, {\"yield\": 34.33333, \"variety\": \"No. 457\", \"year\": 1932, \"site\": \"Crookston\"}, {\"yield\": 19.46667, \"variety\": \"No. 457\", \"year\": 1932, \"site\": \"Grand Rapids\"}, {\"yield\": 22.7, \"variety\": \"No. 457\", \"year\": 1932, \"site\": \"Duluth\"}, {\"yield\": 25.56667, \"variety\": \"No. 462\", \"year\": 1932, \"site\": \"University Farm\"}, {\"yield\": 44.7, \"variety\": \"No. 462\", \"year\": 1932, \"site\": \"Waseca\"}, {\"yield\": 47.0, \"variety\": \"No. 462\", \"year\": 1932, \"site\": \"Morris\"}, {\"yield\": 30.53333, \"variety\": \"No. 462\", \"year\": 1932, \"site\": \"Crookston\"}, {\"yield\": 19.9, \"variety\": \"No. 462\", \"year\": 1932, \"site\": \"Grand Rapids\"}, {\"yield\": 22.5, \"variety\": \"No. 462\", \"year\": 1932, \"site\": \"Duluth\"}, {\"yield\": 28.06667, \"variety\": \"Peatland\", \"year\": 1932, \"site\": \"University Farm\"}, {\"yield\": 36.03333, \"variety\": \"Peatland\", \"year\": 1932, \"site\": \"Waseca\"}, {\"yield\": 43.2, \"variety\": \"Peatland\", \"year\": 1932, \"site\": \"Morris\"}, {\"yield\": 25.23333, \"variety\": \"Peatland\", \"year\": 1932, \"site\": \"Crookston\"}, {\"yield\": 26.76667, \"variety\": \"Peatland\", \"year\": 1932, \"site\": \"Grand Rapids\"}, {\"yield\": 31.36667, \"variety\": \"Peatland\", \"year\": 1932, \"site\": \"Duluth\"}, {\"yield\": 30.0, \"variety\": \"No. 475\", \"year\": 1932, \"site\": \"University Farm\"}, {\"yield\": 41.26667, \"variety\": \"No. 475\", \"year\": 1932, \"site\": \"Waseca\"}, {\"yield\": 44.23333, \"variety\": \"No. 475\", \"year\": 1932, \"site\": \"Morris\"}, {\"yield\": 32.13333, \"variety\": \"No. 475\", \"year\": 1932, \"site\": \"Crookston\"}, {\"yield\": 15.23333, \"variety\": \"No. 475\", \"year\": 1932, \"site\": \"Grand Rapids\"}, {\"yield\": 27.36667, \"variety\": \"No. 475\", \"year\": 1932, \"site\": \"Duluth\"}, {\"yield\": 38.0, \"variety\": \"Wisconsin No. 38\", \"year\": 1932, \"site\": \"University Farm\"}, {\"yield\": 58.16667, \"variety\": \"Wisconsin No. 38\", \"year\": 1932, \"site\": \"Waseca\"}, {\"yield\": 47.16667, \"variety\": \"Wisconsin No. 38\", \"year\": 1932, \"site\": \"Morris\"}, {\"yield\": 35.9, \"variety\": \"Wisconsin No. 38\", \"year\": 1932, \"site\": \"Crookston\"}, {\"yield\": 20.66667, \"variety\": \"Wisconsin No. 38\", \"year\": 1932, \"site\": \"Grand Rapids\"}, {\"yield\": 29.33333, \"variety\": \"Wisconsin No. 38\", \"year\": 1932, \"site\": \"Duluth\"}]}}, {\"mode\": \"vega-lite\"});\n</script>",
          "text/plain": "alt.Chart(...)"
         },
         "metadata": {},
         "output_type": "display_data"
        }
       ]
      }
     },
     "b935ceb3afa94e2881fce994b4f553b3": {
      "model_module": "@jupyter-widgets/controls",
      "model_module_version": "2.0.0",
      "model_name": "HBoxModel",
      "state": {
       "children": [
        "IPY_MODEL_9a197e2e9a4d4b2da8a138850db6972c",
        "IPY_MODEL_e2c482372b594d0c8ee9fc9c11fa71cf"
       ],
       "layout": "IPY_MODEL_86e2e8a957f345718f9b870101728997"
      }
     },
     "bbe1ab75f769444e923675d9acdc5a58": {
      "model_module": "@jupyter-widgets/controls",
      "model_module_version": "2.0.0",
      "model_name": "HTMLStyleModel",
      "state": {
       "description_width": "",
       "font_size": null,
       "text_color": null
      }
     },
     "bbf61024ff6f49399da0ddde4e6aa206": {
      "model_module": "@jupyter-widgets/controls",
      "model_module_version": "2.0.0",
      "model_name": "HTMLModel",
      "state": {
       "layout": "IPY_MODEL_1896621632694ab7a9c3eaf69d40e3bd",
       "style": "IPY_MODEL_84ce3f036f70484eb475746cc6ccf8da",
       "value": "<div style=\"width:36px;height:36px;background:#eeeeee;border-radius:12px;display:flex;align-items:center;justify-content:center;box-shadow:0 1px 4px rgba(60,60,60,0.10);\"><span style=\"font-size:18px;line-height:1;\">🤖</span></div>"
      }
     },
     "c4e9973a0a0947a1ac6c1d678347ab5b": {
      "model_module": "@jupyter-widgets/controls",
      "model_module_version": "2.0.0",
      "model_name": "VBoxModel",
      "state": {
       "_dom_classes": [
        "mljar-chat-2715dac7"
       ],
       "children": [
        "IPY_MODEL_15cb5576f433481b8c9a8971c3618f50",
        "IPY_MODEL_32812e5127484fc4a551e6f73ac51e80",
        "IPY_MODEL_302160ed46084dccb8ac8aabde62b4c9",
        "IPY_MODEL_d50d546de09d45b6a8f3efaa5373106e",
        "IPY_MODEL_b2f067f4f17e4a20b2036bd4ae2829f5",
        "IPY_MODEL_832112bc281946f598ae277a24f8e051",
        "IPY_MODEL_709adf1d29344ee5a10f6de3fa5e19bb",
        "IPY_MODEL_277af572163c43f99e7e2a5907e4a732",
        "IPY_MODEL_93306e18fe7d4139b70286922245056e",
        "IPY_MODEL_d053af1dc1ac4d6a84cc0cf9e4c7e3e2",
        "IPY_MODEL_7372094b2e454c67bbf6a0a406481632",
        "IPY_MODEL_77bfe9c6cf96473f90a3d73757db930a"
       ],
       "layout": "IPY_MODEL_2db59117d0c54e0ca481b57f07912ac2"
      }
     },
     "c54058de4a3e488888faa245044d1e44": {
      "model_module": "@jupyter-widgets/base",
      "model_module_version": "2.0.0",
      "model_name": "LayoutModel",
      "state": {}
     },
     "c746afe7baf4462a9a3da8b86355836b": {
      "model_module": "@jupyter-widgets/output",
      "model_module_version": "1.0.0",
      "model_name": "OutputModel",
      "state": {
       "_dom_classes": [
        "mljar-chat-msg"
       ],
       "layout": "IPY_MODEL_b66d56d9872a4652bf58f25d579d06e0",
       "outputs": [
        {
         "data": {
          "text/markdown": "asdf asdf asdf",
          "text/plain": "<IPython.core.display.Markdown object>"
         },
         "metadata": {},
         "output_type": "display_data"
        }
       ]
      }
     },
     "c7503968939e44c3a3708f56ab78c058": {
      "model_module": "@jupyter-widgets/base",
      "model_module_version": "2.0.0",
      "model_name": "LayoutModel",
      "state": {
       "align_self": "flex-start",
       "margin": "0 8px 8px 0"
      }
     },
     "c789e77c78af40e5b6616bf157d0cc42": {
      "model_module": "@jupyter-widgets/controls",
      "model_module_version": "2.0.0",
      "model_name": "HBoxModel",
      "state": {
       "children": [
        "IPY_MODEL_3fa68341e6bc484d8a36fb17eaf81d82",
        "IPY_MODEL_0f98e191e6fd4dd19c13d92a7d46739f"
       ],
       "layout": "IPY_MODEL_9c238aa25d404a17a2405ba32103fbd5"
      }
     },
     "cb9e15a61ba14c6eb956e7cce843ed03": {
      "model_module": "@jupyter-widgets/controls",
      "model_module_version": "2.0.0",
      "model_name": "HTMLModel",
      "state": {
       "layout": "IPY_MODEL_b768ca8c9ed14b57aee90afd56f59319",
       "style": "IPY_MODEL_bbe1ab75f769444e923675d9acdc5a58",
       "value": "<div style=\"width:36px;height:36px;background:#eeeeee;border-radius:12px;display:flex;align-items:center;justify-content:center;box-shadow:0 1px 4px rgba(60,60,60,0.10);\"><span style=\"font-size:18px;line-height:1;\">🤖</span></div>"
      }
     },
     "d053af1dc1ac4d6a84cc0cf9e4c7e3e2": {
      "model_module": "@jupyter-widgets/controls",
      "model_module_version": "2.0.0",
      "model_name": "HBoxModel",
      "state": {
       "children": [
        "IPY_MODEL_4601e0ca24a64feda395ea4a6016a462",
        "IPY_MODEL_32912201d96844f7b0b684a2dde2a68c"
       ],
       "layout": "IPY_MODEL_a80f96934d034c12b7dde7b1722fda19"
      }
     },
     "d50d546de09d45b6a8f3efaa5373106e": {
      "model_module": "@jupyter-widgets/controls",
      "model_module_version": "2.0.0",
      "model_name": "HBoxModel",
      "state": {
       "children": [
        "IPY_MODEL_4279005ed8fd40d289c7b2c9b5098181",
        "IPY_MODEL_6e52c3b1097b4b89bc03d56279a264d0"
       ],
       "layout": "IPY_MODEL_fec61dfab2c44bca84f39629fd58c8e9"
      }
     },
     "d9226cfe8f0c4949ba388ac403c8da2b": {
      "model_module": "@jupyter-widgets/controls",
      "model_module_version": "2.0.0",
      "model_name": "HBoxModel",
      "state": {
       "children": [
        "IPY_MODEL_cb9e15a61ba14c6eb956e7cce843ed03",
        "IPY_MODEL_67d8aee336764bdfa7a0fe76c21fa4d4"
       ],
       "layout": "IPY_MODEL_9c269cc55c2346e2b16950608162d055"
      }
     },
     "da794347aac6481682055fc6653ad5fd": {
      "model_module": "@jupyter-widgets/controls",
      "model_module_version": "2.0.0",
      "model_name": "HTMLModel",
      "state": {
       "layout": "IPY_MODEL_aaf47717a631404ab4a22796aebd3d9b",
       "style": "IPY_MODEL_837d943faa2c4c8c995f8b2a3acee356",
       "value": "<div style=\"width:36px;height:36px;background:#84c4ff;border-radius:12px;display:flex;align-items:center;justify-content:center;box-shadow:0 1px 4px rgba(60,60,60,0.10);\"><span style=\"font-size:18px;line-height:1;\">👤</span></div>"
      }
     },
     "dbcce17ac4d64ceda1267685640a7b9e": {
      "model_module": "@jupyter-widgets/output",
      "model_module_version": "1.0.0",
      "model_name": "OutputModel",
      "state": {
       "layout": "IPY_MODEL_92e022edcbd049498b482a143cff89d2"
      }
     },
     "df52a955781b4f5282bac8bcbba548c1": {
      "model_module": "@jupyter-widgets/output",
      "model_module_version": "1.0.0",
      "model_name": "OutputModel",
      "state": {
       "layout": "IPY_MODEL_6d9edeccd8fd443190f686fea74d9b40",
       "outputs": [
        {
         "data": {
          "application/javascript": "(function(){\n  function isScrollable(el){\n    if(!el) return false;\n    const cs = getComputedStyle(el);\n    const oy = cs.overflowY, o = cs.overflow;\n    const can = el.scrollHeight > (el.clientHeight + 2);\n    return can && (oy==='auto'||oy==='scroll'||o==='auto'||o==='scroll');\n  }\n  function findScrollableWithin(root){\n    if(!root) return null;\n    if(isScrollable(root)) return root;\n    const walker = document.createTreeWalker(root, NodeFilter.SHOW_ELEMENT, null);\n    let n = walker.currentNode;\n    while((n = walker.nextNode())){ if(isScrollable(n)) return n; }\n    return null;\n  }\n  function getScrollableAncestor(node){\n    let cur = node && node.parentElement;\n    while(cur){ if(isScrollable(cur)) return cur; cur = cur.parentElement; }\n    return null;\n  }\n  function scrollIntoContainer(el, container){\n    if(!el||!container) return;\n    let y = 0, n = el;\n    while(n && n !== container){ y += n.offsetTop || 0; n = n.offsetParent; }\n    const target = Math.max(0, y - (container.clientHeight - el.clientHeight) + 16);\n    container.scrollTop = target;\n  }\n  function scrollPageFallback(el){\n    try { el.scrollIntoView({behavior:'smooth', block:'end'}); } catch(e) {}\n  }\n\n  const chats = document.getElementsByClassName(\"mljar-chat-2715dac7\");\n  if(!chats || !chats.length) return;\n  const chat = chats[0];\n  const msgs = chat.getElementsByClassName('mljar-chat-msg');\n  if(!msgs || !msgs.length) return;\n  const last = msgs[msgs.length - 1];\n\n  function tick(){\n    const pref = document.querySelector(\"#mercury-main-panel, .mercury-main-panel\");\n    const scroller = findScrollableWithin(pref) || getScrollableAncestor(last) || document.scrollingElement;\n    if(scroller) scrollIntoContainer(last, scroller);\n    else scrollPageFallback(last);\n  }\n\n  // Give big outputs (plots) a moment to layout\n  requestAnimationFrame(()=>setTimeout(tick, 100));\n})();",
          "text/plain": "<IPython.core.display.Javascript object>"
         },
         "metadata": {},
         "output_type": "display_data"
        }
       ]
      }
     },
     "df7e3bdc8baa486c896dcd27b541bded": {
      "model_module": "@jupyter-widgets/base",
      "model_module_version": "2.0.0",
      "model_name": "LayoutModel",
      "state": {
       "align_self": "flex-start",
       "margin": "8px 0 0 0"
      }
     },
     "e2c482372b594d0c8ee9fc9c11fa71cf": {
      "model_module": "@jupyter-widgets/output",
      "model_module_version": "1.0.0",
      "model_name": "OutputModel",
      "state": {
       "_dom_classes": [
        "mljar-chat-msg"
       ],
       "layout": "IPY_MODEL_3721328605ed45ff8199a83b85de2e93",
       "outputs": [
        {
         "data": {
          "text/markdown": "DataFrame response created for you 🤔",
          "text/plain": "<IPython.core.display.Markdown object>"
         },
         "metadata": {},
         "output_type": "display_data"
        },
        {
         "data": {
          "text/html": "<div>\n<style scoped>\n    .dataframe tbody tr th:only-of-type {\n        vertical-align: middle;\n    }\n\n    .dataframe tbody tr th {\n        vertical-align: top;\n    }\n\n    .dataframe thead th {\n        text-align: right;\n    }\n</style>\n<table border=\"1\" class=\"dataframe\">\n  <thead>\n    <tr style=\"text-align: right;\">\n      <th></th>\n      <th>a</th>\n      <th>b</th>\n    </tr>\n  </thead>\n  <tbody>\n    <tr>\n      <th>0</th>\n      <td>1</td>\n      <td>4</td>\n    </tr>\n    <tr>\n      <th>1</th>\n      <td>2</td>\n      <td>5</td>\n    </tr>\n    <tr>\n      <th>2</th>\n      <td>3</td>\n      <td>6</td>\n    </tr>\n  </tbody>\n</table>\n</div>",
          "text/plain": "   a  b\n0  1  4\n1  2  5\n2  3  6"
         },
         "metadata": {},
         "output_type": "display_data"
        }
       ]
      }
     },
     "e4368cbb5eb34f13b3dcf55b04d0e61c": {
      "model_module": "@jupyter-widgets/controls",
      "model_module_version": "2.0.0",
      "model_name": "HTMLModel",
      "state": {
       "layout": "IPY_MODEL_b7fc0d1b29b348c4a314acd9fd5bbfd6",
       "style": "IPY_MODEL_18bac498349c45308e270a3bb916370d",
       "value": "<div style=\"width:36px;height:36px;background:#84c4ff;border-radius:12px;display:flex;align-items:center;justify-content:center;box-shadow:0 1px 4px rgba(60,60,60,0.10);\"><span style=\"font-size:18px;line-height:1;\">👤</span></div>"
      }
     },
     "e518e90a08594d1c98a45d9ff746cb63": {
      "model_module": "@jupyter-widgets/output",
      "model_module_version": "1.0.0",
      "model_name": "OutputModel",
      "state": {
       "_dom_classes": [
        "mljar-chat-msg"
       ],
       "layout": "IPY_MODEL_9160715a32e9443e866a7fae6d3b1828",
       "outputs": [
        {
         "data": {
          "text/markdown": "altair",
          "text/plain": "<IPython.core.display.Markdown object>"
         },
         "metadata": {},
         "output_type": "display_data"
        }
       ]
      }
     },
     "ea3daabd876243ea99fab3095e238209": {
      "model_module": "@jupyter-widgets/base",
      "model_module_version": "2.0.0",
      "model_name": "LayoutModel",
      "state": {
       "align_self": "flex-start",
       "margin": "8px 0 0 0"
      }
     },
     "edc7545450ad4193b352b3a64670e3f0": {
      "model_module": "@jupyter-widgets/base",
      "model_module_version": "2.0.0",
      "model_name": "LayoutModel",
      "state": {
       "align_self": "flex-start",
       "margin": "0 8px 8px 0"
      }
     },
     "ee86cb1a5cc24ec58db536916b7f9e9c": {
      "model_module": "@jupyter-widgets/controls",
      "model_module_version": "2.0.0",
      "model_name": "HTMLModel",
      "state": {
       "layout": "IPY_MODEL_c7503968939e44c3a3708f56ab78c058",
       "style": "IPY_MODEL_f0c83c341d594d33b91b2aa65419c1e3",
       "value": "<div style=\"width:36px;height:36px;background:#eeeeee;border-radius:12px;display:flex;align-items:center;justify-content:center;box-shadow:0 1px 4px rgba(60,60,60,0.10);\"><span style=\"font-size:18px;line-height:1;\">🤖</span></div>"
      }
     },
     "f0c83c341d594d33b91b2aa65419c1e3": {
      "model_module": "@jupyter-widgets/controls",
      "model_module_version": "2.0.0",
      "model_name": "HTMLStyleModel",
      "state": {
       "description_width": "",
       "font_size": null,
       "text_color": null
      }
     },
     "f14b067d681848098ea618cf681d9a03": {
      "model_module": "@jupyter-widgets/output",
      "model_module_version": "1.0.0",
      "model_name": "OutputModel",
      "state": {
       "_dom_classes": [
        "mljar-chat-msg"
       ],
       "layout": "IPY_MODEL_07ae3e4017b44b74bd71de754328d2ad",
       "outputs": [
        {
         "data": {
          "text/markdown": "Plot response",
          "text/plain": "<IPython.core.display.Markdown object>"
         },
         "metadata": {},
         "output_type": "display_data"
        },
        {
         "data": {
          "image/png": "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",
          "text/plain": "<Figure size 640x480 with 1 Axes>"
         },
         "metadata": {},
         "output_type": "display_data"
        }
       ]
      }
     },
     "f1632b5daa874d0a813afa8cef8676ad": {
      "model_module": "@jupyter-widgets/base",
      "model_module_version": "2.0.0",
      "model_name": "LayoutModel",
      "state": {
       "align_self": "flex-start",
       "margin": "8px 0 0 0"
      }
     },
     "f47fcb9450f447a0833f13d12bb74006": {
      "model_module": "@jupyter-widgets/output",
      "model_module_version": "1.0.0",
      "model_name": "OutputModel",
      "state": {
       "_dom_classes": [
        "mljar-chat-msg"
       ],
       "layout": "IPY_MODEL_5f1a0f610edd473fa3f1b6397ccfd177",
       "outputs": [
        {
         "data": {
          "text/markdown": "plot",
          "text/plain": "<IPython.core.display.Markdown object>"
         },
         "metadata": {},
         "output_type": "display_data"
        }
       ]
      }
     },
     "f66dbb58781f431bbd83e23ec328481c": {
      "model_module": "@jupyter-widgets/base",
      "model_module_version": "2.0.0",
      "model_name": "LayoutModel",
      "state": {
       "align_self": "flex-start",
       "margin": "0 8px 8px 0"
      }
     },
     "f6a3a78fbd4d4f149770a7d96d461b77": {
      "model_module": "@jupyter-widgets/base",
      "model_module_version": "2.0.0",
      "model_name": "LayoutModel",
      "state": {
       "align_items": "flex-start"
      }
     },
     "f7026e3d81764c1086e47051ba60f399": {
      "model_module": "@jupyter-widgets/controls",
      "model_module_version": "2.0.0",
      "model_name": "HTMLStyleModel",
      "state": {
       "description_width": "",
       "font_size": null,
       "text_color": null
      }
     },
     "f7bab56ce3a0418a927c8b2d5b058cdb": {
      "model_module": "@jupyter-widgets/output",
      "model_module_version": "1.0.0",
      "model_name": "OutputModel",
      "state": {
       "_dom_classes": [
        "mljar-chat-msg"
       ],
       "layout": "IPY_MODEL_54919254636b436f92921f861825d12d",
       "outputs": [
        {
         "data": {
          "text/markdown": "altair",
          "text/plain": "<IPython.core.display.Markdown object>"
         },
         "metadata": {},
         "output_type": "display_data"
        }
       ]
      }
     },
     "fc2fb02021f94af08268dc72d07074cb": {
      "model_module": "@jupyter-widgets/base",
      "model_module_version": "2.0.0",
      "model_name": "LayoutModel",
      "state": {
       "padding": "4px",
       "width": "100%"
      }
     },
     "fec61dfab2c44bca84f39629fd58c8e9": {
      "model_module": "@jupyter-widgets/base",
      "model_module_version": "2.0.0",
      "model_name": "LayoutModel",
      "state": {
       "align_items": "flex-start"
      }
     }
    },
    "version_major": 2,
    "version_minor": 0
   }
  }
 },
 "nbformat": 4,
 "nbformat_minor": 5
}
