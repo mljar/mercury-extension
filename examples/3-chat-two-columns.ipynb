{
 "cells": [
  {
   "cell_type": "code",
   "execution_count": 1,
   "id": "ec1a47df-3b61-49a2-a7bb-4139c2b6ccc3",
   "metadata": {},
   "outputs": [],
   "source": [
    "from widgets import Chat, ChatInput, Message, Columns"
   ]
  },
  {
   "cell_type": "code",
   "execution_count": 2,
   "id": "a0baec0e-b22e-406d-a875-65298ad52455",
   "metadata": {},
   "outputs": [
    {
     "data": {
      "text/html": [
       "\n",
       "    <style>\n",
       "    .mljar-column {\n",
       "        border-radius: 4px !important;\n",
       "    }\n",
       "    </style>\n",
       "    "
      ],
      "text/plain": [
       "<IPython.core.display.HTML object>"
      ]
     },
     "metadata": {},
     "output_type": "display_data"
    },
    {
     "data": {
      "application/vnd.jupyter.widget-view+json": {
       "model_id": "988a8ecacb514af6b6ae00eb8d77d826",
       "version_major": 2,
       "version_minor": 0
      },
      "text/plain": [
       "HBox(children=(Output(layout=Layout(border_bottom='1px solid lightgray', border_left='1px solid lightgray', bo…"
      ]
     },
     "metadata": {},
     "output_type": "display_data"
    }
   ],
   "source": [
    "left, right = Columns(2)"
   ]
  },
  {
   "cell_type": "code",
   "execution_count": null,
   "id": "abe0aaf9-0009-490e-aeba-48ca297348c9",
   "metadata": {},
   "outputs": [],
   "source": []
  },
  {
   "cell_type": "code",
   "execution_count": 3,
   "id": "9f040a71-31d3-453f-9bb0-6cb46e4e02a4",
   "metadata": {},
   "outputs": [],
   "source": [
    "with left:\n",
    "    left_chat = Chat()\n",
    "with right:\n",
    "    right_chat = Chat()"
   ]
  },
  {
   "cell_type": "code",
   "execution_count": null,
   "id": "30b162b7-cf2f-40a9-a8b6-362de51bcbb5",
   "metadata": {},
   "outputs": [],
   "source": []
  },
  {
   "cell_type": "code",
   "execution_count": 4,
   "id": "a085c253-3f15-4556-8523-3b56f78c04b4",
   "metadata": {},
   "outputs": [
    {
     "data": {
      "application/mercury+json": "{\n    \"widget\": \"ChatInputWidget\",\n    \"model_id\": \"e318832889d043ccade6f1eea6f5fde6\",\n    \"position\": \"bottom\"\n}",
      "application/vnd.jupyter.widget-view+json": {
       "model_id": "e318832889d043ccade6f1eea6f5fde6",
       "version_major": 2,
       "version_minor": 1
      },
      "text/plain": [
       "ChatInputWidget()"
      ]
     },
     "metadata": {},
     "output_type": "display_data"
    }
   ],
   "source": [
    "chat_input = ChatInput()"
   ]
  },
  {
   "cell_type": "code",
   "execution_count": null,
   "id": "027ece4a-38bd-47ee-a41b-acaf582f11e6",
   "metadata": {},
   "outputs": [],
   "source": []
  },
  {
   "cell_type": "code",
   "execution_count": 5,
   "id": "e0eb4a9c-2d56-4138-aa53-87f7c05af114",
   "metadata": {},
   "outputs": [],
   "source": [
    "import asyncio\n",
    "\n",
    "msg = chat_input.submitted.strip()\n",
    "\n",
    "async def left_responder(user_text: str):\n",
    "    await asyncio.sleep(1)  # simulate wait\n",
    "    text = f\"No: {user_text}\"\n",
    "    for ch in text:\n",
    "        yield ch\n",
    "        await asyncio.sleep(0.09)\n",
    "\n",
    "async def right_responder(user_text: str):\n",
    "    await asyncio.sleep(2)  # simulate wait\n",
    "    text = f\"Yes: {user_text}\"\n",
    "    for ch in text:\n",
    "        yield ch\n",
    "        await asyncio.sleep(0.05)\n",
    "\n",
    "async def stream_responder(responder, user_text, bot_msg):\n",
    "    async for chunk in responder(user_text):\n",
    "        bot_msg.append_markdown(chunk)\n",
    "\n",
    "async def handle_submit():\n",
    "    if not msg:\n",
    "        return\n",
    "\n",
    "    # User prompt\n",
    "    user_msg = Message(role=\"user\", emoji=\"👤\")\n",
    "    user_msg.set_message(markdown=msg)\n",
    "    left_chat.add(user_msg)\n",
    "    right_chat.add(user_msg)\n",
    "\n",
    "    # Left AI response shell\n",
    "    left_bot_msg = Message(role=\"assistant\", emoji=\"🤖\")\n",
    "    left_bot_msg.set_gradient_text(\"Thinking hard 🤔\")\n",
    "    left_chat.add(left_bot_msg)\n",
    "\n",
    "    # Right AI response shell\n",
    "    right_bot_msg = Message(role=\"assistant\", emoji=\"🤖\")\n",
    "    right_bot_msg.set_bouncing_text(\"Thinking hard 🤔\")\n",
    "    right_chat.add(right_bot_msg)\n",
    "\n",
    "    # Start both streams in parallel\n",
    "    await asyncio.gather(\n",
    "        stream_responder(left_responder, msg, left_bot_msg),\n",
    "        stream_responder(right_responder, msg, right_bot_msg),\n",
    "    )\n",
    "\n",
    "    chat_input.submitted = \"\"\n"
   ]
  },
  {
   "cell_type": "code",
   "execution_count": 6,
   "id": "ce2eee62-353d-477b-ba44-d1b6a0445662",
   "metadata": {},
   "outputs": [],
   "source": [
    "await handle_submit()"
   ]
  },
  {
   "cell_type": "code",
   "execution_count": null,
   "id": "393966e7-092b-4e47-9ab2-ea9a7c3e049b",
   "metadata": {},
   "outputs": [],
   "source": []
  },
  {
   "cell_type": "code",
   "execution_count": 8,
   "id": "e944cdc8-a488-4b1f-9c5f-a8eca23c092a",
   "metadata": {},
   "outputs": [],
   "source": []
  },
  {
   "cell_type": "code",
   "execution_count": 8,
   "id": "1fecb4f6-e5d3-4ef1-a55d-0b456a36b98b",
   "metadata": {},
   "outputs": [],
   "source": []
  },
  {
   "cell_type": "code",
   "execution_count": 8,
   "id": "7a66ec9c-3e6f-4849-84ee-b0536505987d",
   "metadata": {},
   "outputs": [],
   "source": []
  }
 ],
 "metadata": {
  "kernelspec": {
   "display_name": "Python 3 (ipykernel)",
   "language": "python",
   "name": "python3"
  },
  "language_info": {
   "codemirror_mode": {
    "name": "ipython",
    "version": 3
   },
   "file_extension": ".py",
   "mimetype": "text/x-python",
   "name": "python",
   "nbconvert_exporter": "python",
   "pygments_lexer": "ipython3",
   "version": "3.11.5"
  },
  "widgets": {
   "application/vnd.jupyter.widget-state+json": {
    "state": {
     "3165e2fb0e6149658521ab77a8afc3b5": {
      "model_module": "@jupyter-widgets/controls",
      "model_module_version": "2.0.0",
      "model_name": "HTMLStyleModel",
      "state": {
       "description_width": "",
       "font_size": null,
       "text_color": null
      }
     },
     "3170d38049bd47c8a8c71f253e322f83": {
      "model_module": "@jupyter-widgets/controls",
      "model_module_version": "2.0.0",
      "model_name": "VBoxModel",
      "state": {
       "_dom_classes": [
        "mljar-chat-e61f33e4"
       ],
       "children": [
        "IPY_MODEL_5c3b9878921f4121a6ca59a804f9f828"
       ],
       "layout": "IPY_MODEL_3f7fd37bd6644349a95683f550c39ec8"
      }
     },
     "3f7fd37bd6644349a95683f550c39ec8": {
      "model_module": "@jupyter-widgets/base",
      "model_module_version": "2.0.0",
      "model_name": "LayoutModel",
      "state": {
       "padding": "4px",
       "width": "100%"
      }
     },
     "4b2ca9d4cc614c169f614b930151f43a": {
      "model_module": "@jupyter-widgets/base",
      "model_module_version": "2.0.0",
      "model_name": "LayoutModel",
      "state": {
       "border_bottom": "1px solid lightgray",
       "border_left": "1px solid lightgray",
       "border_right": "1px solid lightgray",
       "border_top": "1px solid lightgray",
       "flex": "1 1 0px",
       "min_width": "240px",
       "padding": "4px"
      }
     },
     "4d5cf13a7ea343719ba2897da24ebbd8": {
      "model_module": "@jupyter-widgets/base",
      "model_module_version": "2.0.0",
      "model_name": "LayoutModel",
      "state": {}
     },
     "5c3b9878921f4121a6ca59a804f9f828": {
      "model_module": "@jupyter-widgets/controls",
      "model_module_version": "2.0.0",
      "model_name": "HTMLModel",
      "state": {
       "layout": "IPY_MODEL_4d5cf13a7ea343719ba2897da24ebbd8",
       "style": "IPY_MODEL_3165e2fb0e6149658521ab77a8afc3b5",
       "value": "\n            <div style=\"\n              color:#b5b5b5;\n              text-align:center;\n              padding:40px 0;\n              font-size:1.1em;\n              background:#fff;\n            \">💬 No messages yet. Start the conversation!</div>\n            "
      }
     },
     "61fda53b135c4aeea7be1b758185cb32": {
      "model_module": "@jupyter-widgets/output",
      "model_module_version": "1.0.0",
      "model_name": "OutputModel",
      "state": {
       "_dom_classes": [
        "mljar-column"
       ],
       "layout": "IPY_MODEL_4b2ca9d4cc614c169f614b930151f43a",
       "outputs": [
        {
         "data": {
          "application/vnd.jupyter.widget-view+json": {
           "model_id": "75f3b15f9c48498cbea3c150efc6003b",
           "version_major": 2,
           "version_minor": 0
          },
          "text/plain": "VBox(children=(HTML(value='\\n            <div style=\"\\n              color:#b5b5b5;\\n              text-align:…"
         },
         "metadata": {},
         "output_type": "display_data"
        },
        {
         "data": {
          "application/vnd.jupyter.widget-view+json": {
           "model_id": "a8e357c984e9499fb5a211c83a8512c7",
           "version_major": 2,
           "version_minor": 0
          },
          "text/plain": "Output()"
         },
         "metadata": {},
         "output_type": "display_data"
        }
       ]
      }
     },
     "6d7523e4a47e48e6ba99f751e917d416": {
      "model_module": "@jupyter-widgets/base",
      "model_module_version": "2.0.0",
      "model_name": "LayoutModel",
      "state": {}
     },
     "6e587e3ba6b54968af00bf583ae0d715": {
      "model_module": "@jupyter-widgets/base",
      "model_module_version": "2.0.0",
      "model_name": "LayoutModel",
      "state": {
       "border_bottom": "1px solid lightgray",
       "border_left": "1px solid lightgray",
       "border_right": "1px solid lightgray",
       "border_top": "1px solid lightgray",
       "flex": "1 1 0px",
       "min_width": "240px",
       "padding": "4px"
      }
     },
     "72eccc91e5d74cc3a0c1bd13191ac33f": {
      "model_module": "@jupyter-widgets/controls",
      "model_module_version": "2.0.0",
      "model_name": "HTMLModel",
      "state": {
       "layout": "IPY_MODEL_6d7523e4a47e48e6ba99f751e917d416",
       "style": "IPY_MODEL_de9df9c83d93459ea1faff0289a76dfb",
       "value": "\n            <div style=\"\n              color:#b5b5b5;\n              text-align:center;\n              padding:40px 0;\n              font-size:1.1em;\n              background:#fff;\n            \">💬 No messages yet. Start the conversation!</div>\n            "
      }
     },
     "75f3b15f9c48498cbea3c150efc6003b": {
      "model_module": "@jupyter-widgets/controls",
      "model_module_version": "2.0.0",
      "model_name": "VBoxModel",
      "state": {
       "_dom_classes": [
        "mljar-chat-dd32aea4"
       ],
       "children": [
        "IPY_MODEL_72eccc91e5d74cc3a0c1bd13191ac33f"
       ],
       "layout": "IPY_MODEL_7fd0d7bdc8a047cca243482200535fa1"
      }
     },
     "7dc5b43c7a964cd3a6da76bbb478cf61": {
      "model_module": "@jupyter-widgets/base",
      "model_module_version": "2.0.0",
      "model_name": "LayoutModel",
      "state": {}
     },
     "7fd0d7bdc8a047cca243482200535fa1": {
      "model_module": "@jupyter-widgets/base",
      "model_module_version": "2.0.0",
      "model_name": "LayoutModel",
      "state": {
       "padding": "4px",
       "width": "100%"
      }
     },
     "96150baf40a741df972bccf5498718bb": {
      "model_module": "@jupyter-widgets/output",
      "model_module_version": "1.0.0",
      "model_name": "OutputModel",
      "state": {
       "layout": "IPY_MODEL_fb2c4d3b9ca947e0872303456b090a70"
      }
     },
     "988a8ecacb514af6b6ae00eb8d77d826": {
      "model_module": "@jupyter-widgets/controls",
      "model_module_version": "2.0.0",
      "model_name": "HBoxModel",
      "state": {
       "children": [
        "IPY_MODEL_61fda53b135c4aeea7be1b758185cb32",
        "IPY_MODEL_bae7716ed9a247b89754791039b772cc"
       ],
       "layout": "IPY_MODEL_e6e4a02266e946d89c05b87925995c3a"
      }
     },
     "a8e357c984e9499fb5a211c83a8512c7": {
      "model_module": "@jupyter-widgets/output",
      "model_module_version": "1.0.0",
      "model_name": "OutputModel",
      "state": {
       "layout": "IPY_MODEL_ab1bf1e011834a00a41fad80358bc8fe"
      }
     },
     "ab1bf1e011834a00a41fad80358bc8fe": {
      "model_module": "@jupyter-widgets/base",
      "model_module_version": "2.0.0",
      "model_name": "LayoutModel",
      "state": {}
     },
     "bae7716ed9a247b89754791039b772cc": {
      "model_module": "@jupyter-widgets/output",
      "model_module_version": "1.0.0",
      "model_name": "OutputModel",
      "state": {
       "_dom_classes": [
        "mljar-column"
       ],
       "layout": "IPY_MODEL_6e587e3ba6b54968af00bf583ae0d715",
       "outputs": [
        {
         "data": {
          "application/vnd.jupyter.widget-view+json": {
           "model_id": "3170d38049bd47c8a8c71f253e322f83",
           "version_major": 2,
           "version_minor": 0
          },
          "text/plain": "VBox(children=(HTML(value='\\n            <div style=\"\\n              color:#b5b5b5;\\n              text-align:…"
         },
         "metadata": {},
         "output_type": "display_data"
        },
        {
         "data": {
          "application/vnd.jupyter.widget-view+json": {
           "model_id": "96150baf40a741df972bccf5498718bb",
           "version_major": 2,
           "version_minor": 0
          },
          "text/plain": "Output()"
         },
         "metadata": {},
         "output_type": "display_data"
        }
       ]
      }
     },
     "de9df9c83d93459ea1faff0289a76dfb": {
      "model_module": "@jupyter-widgets/controls",
      "model_module_version": "2.0.0",
      "model_name": "HTMLStyleModel",
      "state": {
       "description_width": "",
       "font_size": null,
       "text_color": null
      }
     },
     "e318832889d043ccade6f1eea6f5fde6": {
      "model_module": "anywidget",
      "model_module_version": "~0.9.*",
      "model_name": "AnyModel",
      "state": {
       "_anywidget_id": "widgets.chat.chatinput.ChatInputWidget",
       "_css": "\n    .mljar-chatinput-container {\n        display: flex;\n        flex-direction: row;\n        align-items: center;\n        width: 100%;\n        min-width: 160px;\n        box-sizing: border-box;\n        gap: 8px;\n        font-family: Arial, sans-serif;\n        font-size: 14px;\n        color: #222;\n    }\n\n    .mljar-chatinput-input {\n        flex: 1 1 auto;\n        width: 100%;\n        border: 1px solid #ccc;\n        border-radius: 6px;\n        padding: 6px 10px;\n        min-height: 1.6em;\n        background: #fff;\n        color: #222;\n        box-sizing: border-box;\n    }\n    .mljar-chatinput-input:focus {\n        outline: none;\n        border-color: #007bff;\n    }\n\n    .mljar-chatinput-button {\n        flex: 0 0 auto;\n        border: none;\n        border-radius: 6px;\n        padding: 6px 12px;\n        min-height: 1.6em;\n        cursor: pointer;\n        background: #007bff;\n        color: #fff;\n        font-weight: bold;\n    }\n    .mljar-chatinput-button:hover {\n        filter: brightness(0.95);\n    }\n    ",
       "_esm": "\n    function render({ model, el }) {\n      const container = document.createElement(\"div\");\n      container.classList.add(\"mljar-chatinput-container\");\n\n      const input = document.createElement(\"input\");\n      input.type = \"text\";\n      input.placeholder = model.get(\"placeholder\") || \"Type a message...\";\n      input.value = model.get(\"value\") || \"\";\n      input.classList.add(\"mljar-chatinput-input\");\n\n      const btn = document.createElement(\"button\");\n      btn.type = \"button\";\n      btn.classList.add(\"mljar-chatinput-button\");\n      btn.textContent = model.get(\"button_icon\") || \"➤\";\n      btn.setAttribute(\"aria-label\", \"Send message\");\n\n      container.appendChild(input);\n      container.appendChild(btn);\n      el.appendChild(container);\n\n      // Keep input in sync if Python changes 'value' (e.g., programmatic set/restore)\n      model.on(\"change:value\", () => {\n        const newVal = model.get(\"value\") ?? \"\";\n        if (input.value !== newVal) input.value = newVal;\n      });\n\n      // Submit logic: update submitted and value ONLY here\n      const sendMessage = () => {\n        const msg = (input.value || \"\").trim();\n        if (!msg) return;\n\n        // Signal to kernel\n        model.set(\"submitted\", msg);\n\n        // Update public 'value' ONLY at submit time\n        model.set(\"value\", msg);\n\n        // Clear visible input (does NOT touch model 'value')\n        input.value = \"\";\n\n        // Persist once\n        model.save_changes();\n      };\n\n      btn.addEventListener(\"click\", sendMessage);\n\n      input.addEventListener(\"keydown\", (ev) => {\n        const sendOnEnter = !!model.get(\"send_on_enter\");\n        if (!sendOnEnter) return;\n        if (ev.key === \"Enter\" && !ev.shiftKey) {\n          ev.preventDefault();\n          sendMessage();\n        }\n      });\n\n      // Custom CSS hook\n      const css = model.get(\"custom_css\");\n      if (css && css.trim().length > 0) {\n        const styleTag = document.createElement(\"style\");\n        styleTag.textContent = css;\n        el.appendChild(styleTag);\n      }\n    }\n    export default { render };\n    ",
       "_model_module": "anywidget",
       "_model_module_version": "~0.9.*",
       "_model_name": "AnyModel",
       "_view_module": "anywidget",
       "_view_module_version": "~0.9.*",
       "_view_name": "AnyView",
       "button_icon": "➤",
       "custom_css": "",
       "layout": "IPY_MODEL_7dc5b43c7a964cd3a6da76bbb478cf61",
       "placeholder": "Type a message...",
       "position": "bottom",
       "send_on_enter": true,
       "submitted": "",
       "value": ""
      }
     },
     "e6e4a02266e946d89c05b87925995c3a": {
      "model_module": "@jupyter-widgets/base",
      "model_module_version": "2.0.0",
      "model_name": "LayoutModel",
      "state": {
       "align_items": "stretch",
       "display": "flex",
       "flex_flow": "row wrap",
       "width": "100%"
      }
     },
     "fb2c4d3b9ca947e0872303456b090a70": {
      "model_module": "@jupyter-widgets/base",
      "model_module_version": "2.0.0",
      "model_name": "LayoutModel",
      "state": {}
     }
    },
    "version_major": 2,
    "version_minor": 0
   }
  }
 },
 "nbformat": 4,
 "nbformat_minor": 5
}
