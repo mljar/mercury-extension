{
 "cells": [
  {
   "cell_type": "code",
   "execution_count": 1,
   "id": "ec1a47df-3b61-49a2-a7bb-4139c2b6ccc3",
   "metadata": {},
   "outputs": [],
   "source": [
    "from widgets import Chat, ChatInput, Message, Columns"
   ]
  },
  {
   "cell_type": "code",
   "execution_count": 2,
   "id": "a0baec0e-b22e-406d-a875-65298ad52455",
   "metadata": {},
   "outputs": [
    {
     "data": {
      "application/vnd.jupyter.widget-view+json": {
       "model_id": "d39944c752d44091b519b5c383402db1",
       "version_major": 2,
       "version_minor": 0
      },
      "text/plain": [
       "HBox(children=(Output(layout=Layout(flex='1 1 0px', min_width='240px')), Output(layout=Layout(flex='1 1 0px', …"
      ]
     },
     "metadata": {},
     "output_type": "display_data"
    }
   ],
   "source": [
    "left, right = Columns(2)"
   ]
  },
  {
   "cell_type": "code",
   "execution_count": 2,
   "id": "abe0aaf9-0009-490e-aeba-48ca297348c9",
   "metadata": {},
   "outputs": [],
   "source": []
  },
  {
   "cell_type": "code",
   "execution_count": 3,
   "id": "9f040a71-31d3-453f-9bb0-6cb46e4e02a4",
   "metadata": {},
   "outputs": [],
   "source": [
    "with left:\n",
    "    left_chat = Chat()\n",
    "with right:\n",
    "    right_chat = Chat()"
   ]
  },
  {
   "cell_type": "code",
   "execution_count": 3,
   "id": "30b162b7-cf2f-40a9-a8b6-362de51bcbb5",
   "metadata": {},
   "outputs": [],
   "source": []
  },
  {
   "cell_type": "code",
   "execution_count": 4,
   "id": "a085c253-3f15-4556-8523-3b56f78c04b4",
   "metadata": {},
   "outputs": [
    {
     "data": {
      "application/mercury+json": "{\n    \"widget\": \"ChatInputWidget\",\n    \"model_id\": \"485f8bd9908a438ca894de033117f999\",\n    \"position\": \"bottom\"\n}",
      "application/vnd.jupyter.widget-view+json": {
       "model_id": "485f8bd9908a438ca894de033117f999",
       "version_major": 2,
       "version_minor": 1
      },
      "text/plain": [
       "ChatInputWidget()"
      ]
     },
     "metadata": {},
     "output_type": "display_data"
    }
   ],
   "source": [
    "chat_input = ChatInput()"
   ]
  },
  {
   "cell_type": "code",
   "execution_count": 8,
   "id": "027ece4a-38bd-47ee-a41b-acaf582f11e6",
   "metadata": {},
   "outputs": [],
   "source": []
  },
  {
   "cell_type": "code",
   "execution_count": 9,
   "id": "e0eb4a9c-2d56-4138-aa53-87f7c05af114",
   "metadata": {},
   "outputs": [],
   "source": [
    "import asyncio\n",
    "\n",
    "msg = chat_input.submitted.strip()\n",
    "\n",
    "async def left_responder(user_text: str):\n",
    "    await asyncio.sleep(1)  # simulate wait\n",
    "    text = f\"No: {user_text}\"\n",
    "    for ch in text:\n",
    "        yield ch\n",
    "        await asyncio.sleep(0.09)\n",
    "\n",
    "async def right_responder(user_text: str):\n",
    "    await asyncio.sleep(2)  # simulate wait\n",
    "    text = f\"Yes: {user_text}\"\n",
    "    for ch in text:\n",
    "        yield ch\n",
    "        await asyncio.sleep(0.05)\n",
    "\n",
    "async def stream_responder(responder, user_text, bot_msg):\n",
    "    async for chunk in responder(user_text):\n",
    "        bot_msg.append_markdown(chunk)\n",
    "\n",
    "async def handle_submit():\n",
    "    if not msg:\n",
    "        return\n",
    "\n",
    "    # User prompt\n",
    "    user_msg = Message(role=\"user\", emoji=\"👤\")\n",
    "    user_msg.set_message(markdown=msg)\n",
    "    left_chat.add(user_msg)\n",
    "    right_chat.add(user_msg)\n",
    "\n",
    "    # Left AI response shell\n",
    "    left_bot_msg = Message(role=\"assistant\", emoji=\"🤖\")\n",
    "    left_bot_msg.set_gradient_text(\"Thinking hard 🤔\")\n",
    "    left_chat.add(left_bot_msg)\n",
    "\n",
    "    # Right AI response shell\n",
    "    right_bot_msg = Message(role=\"assistant\", emoji=\"🤖\")\n",
    "    right_bot_msg.set_bouncing_text(\"Thinking hard 🤔\")\n",
    "    right_chat.add(right_bot_msg)\n",
    "\n",
    "    # Start both streams in parallel\n",
    "    await asyncio.gather(\n",
    "        stream_responder(left_responder, msg, left_bot_msg),\n",
    "        stream_responder(right_responder, msg, right_bot_msg),\n",
    "    )\n",
    "\n",
    "    chat_input.submitted = \"\"\n"
   ]
  },
  {
   "cell_type": "code",
   "execution_count": 10,
   "id": "ce2eee62-353d-477b-ba44-d1b6a0445662",
   "metadata": {},
   "outputs": [],
   "source": [
    "await handle_submit()"
   ]
  },
  {
   "cell_type": "code",
   "execution_count": 10,
   "id": "393966e7-092b-4e47-9ab2-ea9a7c3e049b",
   "metadata": {},
   "outputs": [],
   "source": []
  },
  {
   "cell_type": "code",
   "execution_count": 10,
   "id": "e944cdc8-a488-4b1f-9c5f-a8eca23c092a",
   "metadata": {},
   "outputs": [],
   "source": []
  },
  {
   "cell_type": "code",
   "execution_count": 10,
   "id": "1fecb4f6-e5d3-4ef1-a55d-0b456a36b98b",
   "metadata": {},
   "outputs": [],
   "source": []
  },
  {
   "cell_type": "code",
   "execution_count": 10,
   "id": "7a66ec9c-3e6f-4849-84ee-b0536505987d",
   "metadata": {},
   "outputs": [],
   "source": []
  }
 ],
 "metadata": {
  "kernelspec": {
   "display_name": "Python 3 (ipykernel)",
   "language": "python",
   "name": "python3"
  },
  "language_info": {
   "codemirror_mode": {
    "name": "ipython",
    "version": 3
   },
   "file_extension": ".py",
   "mimetype": "text/x-python",
   "name": "python",
   "nbconvert_exporter": "python",
   "pygments_lexer": "ipython3",
   "version": "3.11.5"
  },
  "widgets": {
   "application/vnd.jupyter.widget-state+json": {
    "state": {},
    "version_major": 2,
    "version_minor": 0
   }
  }
 },
 "nbformat": 4,
 "nbformat_minor": 5
}
