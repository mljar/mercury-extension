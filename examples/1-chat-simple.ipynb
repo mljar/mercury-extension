{
 "cells": [
  {
   "cell_type": "code",
   "execution_count": 2,
   "id": "ec1a47df-3b61-49a2-a7bb-4139c2b6ccc3",
   "metadata": {},
   "outputs": [],
   "source": [
    "from widgets import Chat, ChatInput, Message"
   ]
  },
  {
   "cell_type": "code",
   "execution_count": 3,
   "id": "9f040a71-31d3-453f-9bb0-6cb46e4e02a4",
   "metadata": {},
   "outputs": [
    {
     "data": {
      "application/vnd.jupyter.widget-view+json": {
       "model_id": "6e97c25216e641e1bd9d36dec88b73a0",
       "version_major": 2,
       "version_minor": 0
      },
      "text/plain": [
       "VBox(children=(HTML(value='\\n            <div style=\"\\n              color:#b5b5b5;\\n              text-align:…"
      ]
     },
     "metadata": {},
     "output_type": "display_data"
    },
    {
     "data": {
      "application/vnd.jupyter.widget-view+json": {
       "model_id": "840aeb8356a1452998b1a4e5b637ff3b",
       "version_major": 2,
       "version_minor": 0
      },
      "text/plain": [
       "Output()"
      ]
     },
     "metadata": {},
     "output_type": "display_data"
    }
   ],
   "source": [
    "chat = Chat()"
   ]
  },
  {
   "cell_type": "code",
   "execution_count": 4,
   "id": "a085c253-3f15-4556-8523-3b56f78c04b4",
   "metadata": {},
   "outputs": [
    {
     "data": {
      "application/mercury+json": "{\n    \"widget\": \"ChatInputWidget\",\n    \"model_id\": \"c49eed8ec7b148ada43a48bd77fd73e5\",\n    \"position\": \"bottom\"\n}",
      "application/vnd.jupyter.widget-view+json": {
       "model_id": "c49eed8ec7b148ada43a48bd77fd73e5",
       "version_major": 2,
       "version_minor": 1
      },
      "text/plain": [
       "ChatInputWidget()"
      ]
     },
     "metadata": {},
     "output_type": "display_data"
    }
   ],
   "source": [
    "chat_input = ChatInput()"
   ]
  },
  {
   "cell_type": "code",
   "execution_count": 8,
   "id": "e944cdc8-a488-4b1f-9c5f-a8eca23c092a",
   "metadata": {},
   "outputs": [],
   "source": [
    "import time\n",
    "def responder(user_text: str):\n",
    "    \"\"\"Simulate response\"\"\"\n",
    "    text = f\"Echo: {user_text}\"\n",
    "    for ch in text:\n",
    "        yield ch\n",
    "        time.sleep(0.05)"
   ]
  },
  {
   "cell_type": "code",
   "execution_count": 9,
   "id": "1fecb4f6-e5d3-4ef1-a55d-0b456a36b98b",
   "metadata": {},
   "outputs": [],
   "source": [
    "msg = chat_input.submitted.strip()\n",
    "\n",
    "if msg:\n",
    "    # User prompt\n",
    "    user_msg = Message(role=\"user\", emoji=\"👤\")\n",
    "    user_msg.set_message(markdown=msg)\n",
    "    chat.add(user_msg)\n",
    "\n",
    "    # AI response\n",
    "    bot_msg = Message(role=\"assistant\", emoji=\"🤖\")\n",
    "    chat.add(bot_msg)\n",
    "    # stream response\n",
    "    for chunk in responder(msg):\n",
    "        bot_msg.append_markdown(chunk)\n",
    "    \n",
    "    # clear the submitted prompt\n",
    "    chat_input.submitted = \"\""
   ]
  },
  {
   "cell_type": "code",
   "execution_count": 9,
   "id": "7a66ec9c-3e6f-4849-84ee-b0536505987d",
   "metadata": {},
   "outputs": [],
   "source": []
  }
 ],
 "metadata": {
  "kernelspec": {
   "display_name": "Python 3 (ipykernel)",
   "language": "python",
   "name": "python3"
  },
  "language_info": {
   "codemirror_mode": {
    "name": "ipython",
    "version": 3
   },
   "file_extension": ".py",
   "mimetype": "text/x-python",
   "name": "python",
   "nbconvert_exporter": "python",
   "pygments_lexer": "ipython3",
   "version": "3.11.5"
  },
  "widgets": {
   "application/vnd.jupyter.widget-state+json": {
    "state": {
     "116c4c1debe24b9da365b1d6042fccc7": {
      "model_module": "@jupyter-widgets/base",
      "model_module_version": "2.0.0",
      "model_name": "LayoutModel",
      "state": {}
     },
     "16338b51eaf14dc18a29230c40301c9e": {
      "model_module": "@jupyter-widgets/output",
      "model_module_version": "1.0.0",
      "model_name": "OutputModel",
      "state": {
       "_dom_classes": [
        "mljar-chat-msg"
       ],
       "layout": "IPY_MODEL_99a45fb7388b4a9f8322df8e1e042e4a",
       "outputs": [
        {
         "data": {
          "text/markdown": "Echo: test",
          "text/plain": "<IPython.core.display.Markdown object>"
         },
         "metadata": {},
         "output_type": "display_data"
        }
       ]
      }
     },
     "21ff54550f56441b893a9d5031e24a1b": {
      "model_module": "@jupyter-widgets/base",
      "model_module_version": "2.0.0",
      "model_name": "LayoutModel",
      "state": {
       "align_items": "flex-start"
      }
     },
     "2cd3ff216514432cbead7018b035e7e2": {
      "model_module": "@jupyter-widgets/base",
      "model_module_version": "2.0.0",
      "model_name": "LayoutModel",
      "state": {
       "align_self": "flex-start",
       "margin": "8px 0 0 0"
      }
     },
     "2f8a4fd48ec84de88aeddf311539ede5": {
      "model_module": "@jupyter-widgets/base",
      "model_module_version": "2.0.0",
      "model_name": "LayoutModel",
      "state": {
       "align_self": "flex-start",
       "margin": "0 8px 8px 0"
      }
     },
     "359db5845ae34391833e5ffb73b01fa7": {
      "model_module": "@jupyter-widgets/controls",
      "model_module_version": "2.0.0",
      "model_name": "HTMLModel",
      "state": {
       "layout": "IPY_MODEL_3a6bc7bd62ba45e69d7de6bcd56adc61",
       "style": "IPY_MODEL_7f3d1d8764b94e188a210b458bda07c3",
       "value": "\n            <div style=\"\n              color:#b5b5b5;\n              text-align:center;\n              padding:40px 0;\n              font-size:1.1em;\n              background:#fff;\n            \">💬 No messages yet. Start the conversation!</div>\n            "
      }
     },
     "3a6bc7bd62ba45e69d7de6bcd56adc61": {
      "model_module": "@jupyter-widgets/base",
      "model_module_version": "2.0.0",
      "model_name": "LayoutModel",
      "state": {}
     },
     "3cc65b9515af4f5f928ed6c16ed553ce": {
      "model_module": "@jupyter-widgets/controls",
      "model_module_version": "2.0.0",
      "model_name": "HTMLModel",
      "state": {
       "layout": "IPY_MODEL_9e4e6b80dcaa421281085043d4c72090",
       "style": "IPY_MODEL_71ebde2b7d9c41268f90622ac5c40ca0",
       "value": "<div style=\"width:36px;height:36px;background:#eeeeee;border-radius:12px;display:flex;align-items:center;justify-content:center;box-shadow:0 1px 4px rgba(60,60,60,0.10);\"><span style=\"font-size:18px;line-height:1;\">🤖</span></div>"
      }
     },
     "546db67f086e427c833982458e2490e3": {
      "model_module": "@jupyter-widgets/base",
      "model_module_version": "2.0.0",
      "model_name": "LayoutModel",
      "state": {
       "align_self": "flex-start",
       "margin": "0 8px 8px 0"
      }
     },
     "55c7aa0bd066448aafeaf5c3e5c6da2f": {
      "model_module": "@jupyter-widgets/controls",
      "model_module_version": "2.0.0",
      "model_name": "HTMLStyleModel",
      "state": {
       "description_width": "",
       "font_size": null,
       "text_color": null
      }
     },
     "5e43c08011f945e5a8f32bb4feaf3f8c": {
      "model_module": "@jupyter-widgets/controls",
      "model_module_version": "2.0.0",
      "model_name": "HTMLStyleModel",
      "state": {
       "description_width": "",
       "font_size": null,
       "text_color": null
      }
     },
     "6b3c7fce9df34dfbb130e428803d40ac": {
      "model_module": "@jupyter-widgets/controls",
      "model_module_version": "2.0.0",
      "model_name": "HBoxModel",
      "state": {
       "children": [
        "IPY_MODEL_6f85a3d8251848fcbb855436e5d623ef",
        "IPY_MODEL_85024b9df6c5466eb661c342588e3a00"
       ],
       "layout": "IPY_MODEL_21ff54550f56441b893a9d5031e24a1b"
      }
     },
     "6d96b31b9d0e456a8ba0592065be8fa3": {
      "model_module": "@jupyter-widgets/base",
      "model_module_version": "2.0.0",
      "model_name": "LayoutModel",
      "state": {
       "align_items": "flex-start"
      }
     },
     "6e97c25216e641e1bd9d36dec88b73a0": {
      "model_module": "@jupyter-widgets/controls",
      "model_module_version": "2.0.0",
      "model_name": "VBoxModel",
      "state": {
       "_dom_classes": [
        "mljar-chat-3a973c81"
       ],
       "children": [
        "IPY_MODEL_6b3c7fce9df34dfbb130e428803d40ac",
        "IPY_MODEL_89a84cbab5aa492e9bfd04f7511a0b40",
        "IPY_MODEL_c8d1a9efbf534ae08cd90408765a56c7",
        "IPY_MODEL_f287f42373424cc79259133de4bc40b1"
       ],
       "layout": "IPY_MODEL_fd694dd7315247e7863ad029387b15af"
      }
     },
     "6f85a3d8251848fcbb855436e5d623ef": {
      "model_module": "@jupyter-widgets/controls",
      "model_module_version": "2.0.0",
      "model_name": "HTMLModel",
      "state": {
       "layout": "IPY_MODEL_546db67f086e427c833982458e2490e3",
       "style": "IPY_MODEL_dc4bede62b694ccaa9406ee3e2f048ed",
       "value": "<div style=\"width:36px;height:36px;background:#84c4ff;border-radius:12px;display:flex;align-items:center;justify-content:center;box-shadow:0 1px 4px rgba(60,60,60,0.10);\"><span style=\"font-size:18px;line-height:1;\">👤</span></div>"
      }
     },
     "71ebde2b7d9c41268f90622ac5c40ca0": {
      "model_module": "@jupyter-widgets/controls",
      "model_module_version": "2.0.0",
      "model_name": "HTMLStyleModel",
      "state": {
       "description_width": "",
       "font_size": null,
       "text_color": null
      }
     },
     "7f3d1d8764b94e188a210b458bda07c3": {
      "model_module": "@jupyter-widgets/controls",
      "model_module_version": "2.0.0",
      "model_name": "HTMLStyleModel",
      "state": {
       "description_width": "",
       "font_size": null,
       "text_color": null
      }
     },
     "827478a41c0a44ce8d2c3f8f458e7b47": {
      "model_module": "@jupyter-widgets/base",
      "model_module_version": "2.0.0",
      "model_name": "LayoutModel",
      "state": {
       "align_items": "flex-start"
      }
     },
     "840aeb8356a1452998b1a4e5b637ff3b": {
      "model_module": "@jupyter-widgets/output",
      "model_module_version": "1.0.0",
      "model_name": "OutputModel",
      "state": {
       "layout": "IPY_MODEL_bbb7629f68d94fa4a171c841d04a834c",
       "outputs": [
        {
         "data": {
          "application/javascript": "(function(){\n  function isScrollable(el){\n    if(!el) return false;\n    const cs = getComputedStyle(el);\n    const oy = cs.overflowY, o = cs.overflow;\n    const can = el.scrollHeight > (el.clientHeight + 2);\n    return can && (oy==='auto'||oy==='scroll'||o==='auto'||o==='scroll');\n  }\n  function findScrollableWithin(root){\n    if(!root) return null;\n    if(isScrollable(root)) return root;\n    const walker = document.createTreeWalker(root, NodeFilter.SHOW_ELEMENT, null);\n    let n = walker.currentNode;\n    while((n = walker.nextNode())){ if(isScrollable(n)) return n; }\n    return null;\n  }\n  function getScrollableAncestor(node){\n    let cur = node && node.parentElement;\n    while(cur){ if(isScrollable(cur)) return cur; cur = cur.parentElement; }\n    return null;\n  }\n  function scrollIntoContainer(el, container){\n    if(!el||!container) return;\n    let y = 0, n = el;\n    while(n && n !== container){ y += n.offsetTop || 0; n = n.offsetParent; }\n    const target = Math.max(0, y - (container.clientHeight - el.clientHeight) + 16);\n    container.scrollTop = target;\n  }\n  function scrollPageFallback(el){\n    try { el.scrollIntoView({behavior:'smooth', block:'end'}); } catch(e) {}\n  }\n\n  const chats = document.getElementsByClassName(\"mljar-chat-3a973c81\");\n  if(!chats || !chats.length) return;\n  const chat = chats[0];\n  const msgs = chat.getElementsByClassName('mljar-chat-msg');\n  if(!msgs || !msgs.length) return;\n  const last = msgs[msgs.length - 1];\n\n  function tick(){\n    const pref = document.querySelector(\"#mercury-main-panel, .mercury-main-panel\");\n    const scroller = findScrollableWithin(pref) || getScrollableAncestor(last) || document.scrollingElement;\n    if(scroller) scrollIntoContainer(last, scroller);\n    else scrollPageFallback(last);\n  }\n\n  // Give big outputs (plots) a moment to layout\n  requestAnimationFrame(()=>setTimeout(tick, 100));\n})();",
          "text/plain": "<IPython.core.display.Javascript object>"
         },
         "metadata": {},
         "output_type": "display_data"
        }
       ]
      }
     },
     "85024b9df6c5466eb661c342588e3a00": {
      "model_module": "@jupyter-widgets/output",
      "model_module_version": "1.0.0",
      "model_name": "OutputModel",
      "state": {
       "_dom_classes": [
        "mljar-chat-msg"
       ],
       "layout": "IPY_MODEL_bef552f76af54ec9929f710ce121a52a",
       "outputs": [
        {
         "data": {
          "text/markdown": "test",
          "text/plain": "<IPython.core.display.Markdown object>"
         },
         "metadata": {},
         "output_type": "display_data"
        }
       ]
      }
     },
     "89a84cbab5aa492e9bfd04f7511a0b40": {
      "model_module": "@jupyter-widgets/controls",
      "model_module_version": "2.0.0",
      "model_name": "HBoxModel",
      "state": {
       "children": [
        "IPY_MODEL_3cc65b9515af4f5f928ed6c16ed553ce",
        "IPY_MODEL_16338b51eaf14dc18a29230c40301c9e"
       ],
       "layout": "IPY_MODEL_e247c901d3fe4f149b5f2bdd2fd5ab45"
      }
     },
     "99a45fb7388b4a9f8322df8e1e042e4a": {
      "model_module": "@jupyter-widgets/base",
      "model_module_version": "2.0.0",
      "model_name": "LayoutModel",
      "state": {
       "align_self": "flex-start",
       "margin": "8px 0 0 0"
      }
     },
     "9e4e6b80dcaa421281085043d4c72090": {
      "model_module": "@jupyter-widgets/base",
      "model_module_version": "2.0.0",
      "model_name": "LayoutModel",
      "state": {
       "align_self": "flex-start",
       "margin": "0 8px 8px 0"
      }
     },
     "b5cb3c5a8874418fb86495f129143d2d": {
      "model_module": "@jupyter-widgets/controls",
      "model_module_version": "2.0.0",
      "model_name": "HTMLModel",
      "state": {
       "layout": "IPY_MODEL_2f8a4fd48ec84de88aeddf311539ede5",
       "style": "IPY_MODEL_55c7aa0bd066448aafeaf5c3e5c6da2f",
       "value": "<div style=\"width:36px;height:36px;background:#84c4ff;border-radius:12px;display:flex;align-items:center;justify-content:center;box-shadow:0 1px 4px rgba(60,60,60,0.10);\"><span style=\"font-size:18px;line-height:1;\">👤</span></div>"
      }
     },
     "b77c7c9f4dfd42259fde44ca214d0c1d": {
      "model_module": "@jupyter-widgets/output",
      "model_module_version": "1.0.0",
      "model_name": "OutputModel",
      "state": {
       "_dom_classes": [
        "mljar-chat-msg"
       ],
       "layout": "IPY_MODEL_2cd3ff216514432cbead7018b035e7e2",
       "outputs": [
        {
         "data": {
          "text/markdown": "Echo: yes yest",
          "text/plain": "<IPython.core.display.Markdown object>"
         },
         "metadata": {},
         "output_type": "display_data"
        }
       ]
      }
     },
     "b9d10332c10b4ecd845a923cdc3028ed": {
      "model_module": "@jupyter-widgets/controls",
      "model_module_version": "2.0.0",
      "model_name": "HTMLModel",
      "state": {
       "layout": "IPY_MODEL_cae800a26192459baef43162cafcf71e",
       "style": "IPY_MODEL_5e43c08011f945e5a8f32bb4feaf3f8c",
       "value": "<div style=\"width:36px;height:36px;background:#eeeeee;border-radius:12px;display:flex;align-items:center;justify-content:center;box-shadow:0 1px 4px rgba(60,60,60,0.10);\"><span style=\"font-size:18px;line-height:1;\">🤖</span></div>"
      }
     },
     "bbb7629f68d94fa4a171c841d04a834c": {
      "model_module": "@jupyter-widgets/base",
      "model_module_version": "2.0.0",
      "model_name": "LayoutModel",
      "state": {}
     },
     "bef552f76af54ec9929f710ce121a52a": {
      "model_module": "@jupyter-widgets/base",
      "model_module_version": "2.0.0",
      "model_name": "LayoutModel",
      "state": {
       "align_self": "flex-start",
       "margin": "8px 0 0 0"
      }
     },
     "c49eed8ec7b148ada43a48bd77fd73e5": {
      "model_module": "anywidget",
      "model_module_version": "~0.9.*",
      "model_name": "AnyModel",
      "state": {
       "_anywidget_id": "widgets.chat.chatinput.ChatInputWidget",
       "_css": "\n    .mljar-chatinput-container {\n        display: flex;\n        flex-direction: row;\n        align-items: center;\n        width: 100%;\n        min-width: 160px;\n        box-sizing: border-box;\n        gap: 8px;\n        font-family: Arial, sans-serif;\n        font-size: 14px;\n        color: #222;\n    }\n\n    .mljar-chatinput-input {\n        flex: 1 1 auto;\n        width: 100%;\n        border: 1px solid #ccc;\n        border-radius: 6px;\n        padding: 6px 10px;\n        min-height: 1.6em;\n        background: #fff;\n        color: #222;\n        box-sizing: border-box;\n    }\n    .mljar-chatinput-input:focus {\n        outline: none;\n        border-color: #007bff;\n    }\n\n    .mljar-chatinput-button {\n        flex: 0 0 auto;\n        border: none;\n        border-radius: 6px;\n        padding: 6px 12px;\n        min-height: 1.6em;\n        cursor: pointer;\n        background: #007bff;\n        color: #fff;\n        font-weight: bold;\n    }\n    .mljar-chatinput-button:hover {\n        filter: brightness(0.95);\n    }\n    ",
       "_esm": "\n    function render({ model, el }) {\n      const container = document.createElement(\"div\");\n      container.classList.add(\"mljar-chatinput-container\");\n\n      const input = document.createElement(\"input\");\n      input.type = \"text\";\n      input.placeholder = model.get(\"placeholder\") || \"Type a message...\";\n      input.value = model.get(\"value\") || \"\";\n      input.classList.add(\"mljar-chatinput-input\");\n\n      const btn = document.createElement(\"button\");\n      btn.type = \"button\";\n      btn.classList.add(\"mljar-chatinput-button\");\n      btn.textContent = model.get(\"button_icon\") || \"➤\";\n      btn.setAttribute(\"aria-label\", \"Send message\");\n\n      container.appendChild(input);\n      container.appendChild(btn);\n      el.appendChild(container);\n\n      // Keep input in sync if Python changes 'value' (e.g., programmatic set/restore)\n      model.on(\"change:value\", () => {\n        const newVal = model.get(\"value\") ?? \"\";\n        if (input.value !== newVal) input.value = newVal;\n      });\n\n      // Submit logic: update submitted and value ONLY here\n      const sendMessage = () => {\n        const msg = (input.value || \"\").trim();\n        if (!msg) return;\n\n        // Signal to kernel\n        model.set(\"submitted\", msg);\n\n        // Update public 'value' ONLY at submit time\n        model.set(\"value\", msg);\n\n        // Clear visible input (does NOT touch model 'value')\n        input.value = \"\";\n\n        // Persist once\n        model.save_changes();\n      };\n\n      btn.addEventListener(\"click\", sendMessage);\n\n      input.addEventListener(\"keydown\", (ev) => {\n        const sendOnEnter = !!model.get(\"send_on_enter\");\n        if (!sendOnEnter) return;\n        if (ev.key === \"Enter\" && !ev.shiftKey) {\n          ev.preventDefault();\n          sendMessage();\n        }\n      });\n\n      // Custom CSS hook\n      const css = model.get(\"custom_css\");\n      if (css && css.trim().length > 0) {\n        const styleTag = document.createElement(\"style\");\n        styleTag.textContent = css;\n        el.appendChild(styleTag);\n      }\n    }\n    export default { render };\n    ",
       "_model_module": "anywidget",
       "_model_module_version": "~0.9.*",
       "_model_name": "AnyModel",
       "_view_module": "anywidget",
       "_view_module_version": "~0.9.*",
       "_view_name": "AnyView",
       "button_icon": "➤",
       "custom_css": "",
       "layout": "IPY_MODEL_116c4c1debe24b9da365b1d6042fccc7",
       "placeholder": "Type a message...",
       "position": "bottom",
       "send_on_enter": true,
       "submitted": "",
       "value": "yes yest"
      }
     },
     "c8d1a9efbf534ae08cd90408765a56c7": {
      "model_module": "@jupyter-widgets/controls",
      "model_module_version": "2.0.0",
      "model_name": "HBoxModel",
      "state": {
       "children": [
        "IPY_MODEL_b5cb3c5a8874418fb86495f129143d2d",
        "IPY_MODEL_d8de797e334042229257a71abb07b175"
       ],
       "layout": "IPY_MODEL_6d96b31b9d0e456a8ba0592065be8fa3"
      }
     },
     "cae800a26192459baef43162cafcf71e": {
      "model_module": "@jupyter-widgets/base",
      "model_module_version": "2.0.0",
      "model_name": "LayoutModel",
      "state": {
       "align_self": "flex-start",
       "margin": "0 8px 8px 0"
      }
     },
     "d8de797e334042229257a71abb07b175": {
      "model_module": "@jupyter-widgets/output",
      "model_module_version": "1.0.0",
      "model_name": "OutputModel",
      "state": {
       "_dom_classes": [
        "mljar-chat-msg"
       ],
       "layout": "IPY_MODEL_fc89efaa74174eeab457b2924ccd36f4",
       "outputs": [
        {
         "data": {
          "text/markdown": "yes yest",
          "text/plain": "<IPython.core.display.Markdown object>"
         },
         "metadata": {},
         "output_type": "display_data"
        }
       ]
      }
     },
     "dc4bede62b694ccaa9406ee3e2f048ed": {
      "model_module": "@jupyter-widgets/controls",
      "model_module_version": "2.0.0",
      "model_name": "HTMLStyleModel",
      "state": {
       "description_width": "",
       "font_size": null,
       "text_color": null
      }
     },
     "e247c901d3fe4f149b5f2bdd2fd5ab45": {
      "model_module": "@jupyter-widgets/base",
      "model_module_version": "2.0.0",
      "model_name": "LayoutModel",
      "state": {
       "align_items": "flex-start"
      }
     },
     "f287f42373424cc79259133de4bc40b1": {
      "model_module": "@jupyter-widgets/controls",
      "model_module_version": "2.0.0",
      "model_name": "HBoxModel",
      "state": {
       "children": [
        "IPY_MODEL_b9d10332c10b4ecd845a923cdc3028ed",
        "IPY_MODEL_b77c7c9f4dfd42259fde44ca214d0c1d"
       ],
       "layout": "IPY_MODEL_827478a41c0a44ce8d2c3f8f458e7b47"
      }
     },
     "fc89efaa74174eeab457b2924ccd36f4": {
      "model_module": "@jupyter-widgets/base",
      "model_module_version": "2.0.0",
      "model_name": "LayoutModel",
      "state": {
       "align_self": "flex-start",
       "margin": "8px 0 0 0"
      }
     },
     "fd694dd7315247e7863ad029387b15af": {
      "model_module": "@jupyter-widgets/base",
      "model_module_version": "2.0.0",
      "model_name": "LayoutModel",
      "state": {
       "padding": "4px",
       "width": "100%"
      }
     }
    },
    "version_major": 2,
    "version_minor": 0
   }
  }
 },
 "nbformat": 4,
 "nbformat_minor": 5
}
