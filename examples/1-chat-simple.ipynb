{
 "cells": [
  {
   "cell_type": "code",
   "execution_count": 1,
   "id": "ec1a47df-3b61-49a2-a7bb-4139c2b6ccc3",
   "metadata": {},
   "outputs": [],
   "source": [
    "from widgets import Chat, ChatInput, Message"
   ]
  },
  {
   "cell_type": "code",
   "execution_count": 2,
   "id": "9f040a71-31d3-453f-9bb0-6cb46e4e02a4",
   "metadata": {},
   "outputs": [
    {
     "data": {
      "application/vnd.jupyter.widget-view+json": {
       "model_id": "dc18a56e75984d71a12d2e2b0c1e12a4",
       "version_major": 2,
       "version_minor": 0
      },
      "text/plain": [
       "VBox(children=(HTML(value='\\n            <div style=\"\\n              color:#b5b5b5;\\n              text-align:…"
      ]
     },
     "metadata": {},
     "output_type": "display_data"
    },
    {
     "data": {
      "application/vnd.jupyter.widget-view+json": {
       "model_id": "73b6b2e416b14a3bafa9d454ac8490a3",
       "version_major": 2,
       "version_minor": 0
      },
      "text/plain": [
       "Output()"
      ]
     },
     "metadata": {},
     "output_type": "display_data"
    }
   ],
   "source": [
    "chat = Chat()"
   ]
  },
  {
   "cell_type": "code",
   "execution_count": 3,
   "id": "a085c253-3f15-4556-8523-3b56f78c04b4",
   "metadata": {},
   "outputs": [
    {
     "data": {
      "application/mercury+json": {
       "model_id": "3d90b1d4c00247e689d5704ec5c5e228",
       "position": "bottom",
       "widget": "ChatInputWidget"
      },
      "application/vnd.jupyter.widget-view+json": {
       "model_id": "3d90b1d4c00247e689d5704ec5c5e228",
       "version_major": 2,
       "version_minor": 1
      },
      "text/plain": [
       "ChatInputWidget()"
      ]
     },
     "metadata": {},
     "output_type": "display_data"
    }
   ],
   "source": [
    "chat_input = ChatInput()"
   ]
  },
  {
   "cell_type": "code",
   "execution_count": 4,
   "id": "e944cdc8-a488-4b1f-9c5f-a8eca23c092a",
   "metadata": {},
   "outputs": [],
   "source": [
    "import time\n",
    "def responder(user_text: str):\n",
    "    \"\"\"Simulate response\"\"\"\n",
    "    text = f\"Echo: {user_text}\"\n",
    "    for ch in text:\n",
    "        yield ch\n",
    "        time.sleep(0.05)"
   ]
  },
  {
   "cell_type": "code",
   "execution_count": 5,
   "id": "1fecb4f6-e5d3-4ef1-a55d-0b456a36b98b",
   "metadata": {},
   "outputs": [],
   "source": [
    "msg = chat_input.value.strip()\n",
    "\n",
    "if msg:\n",
    "    # User prompt\n",
    "    user_msg = Message(role=\"user\", emoji=\"👤\")\n",
    "    user_msg.set_message(markdown=msg)\n",
    "    chat.add(user_msg)\n",
    "\n",
    "    # AI response\n",
    "    bot_msg = Message(role=\"assistant\", emoji=\"🤖\")\n",
    "    chat.add(bot_msg)\n",
    "    # stream response\n",
    "    for chunk in responder(msg):\n",
    "        bot_msg.append_markdown(chunk)"
   ]
  },
  {
   "cell_type": "code",
   "execution_count": 5,
   "id": "d9981f8c-00b8-4518-b09e-626b3f385cb7",
   "metadata": {},
   "outputs": [],
   "source": []
  }
 ],
 "metadata": {
  "kernelspec": {
   "display_name": "Python 3 (ipykernel)",
   "language": "python",
   "name": "python3"
  },
  "language_info": {
   "codemirror_mode": {
    "name": "ipython",
    "version": 3
   },
   "file_extension": ".py",
   "mimetype": "text/x-python",
   "name": "python",
   "nbconvert_exporter": "python",
   "pygments_lexer": "ipython3",
   "version": "3.11.5"
  },
  "mercury": {
   "autoRerun": true,
   "title": ""
  },
  "widgets": {
   "application/vnd.jupyter.widget-state+json": {
    "state": {
     "3d90b1d4c00247e689d5704ec5c5e228": {
      "model_module": "anywidget",
      "model_module_version": "~0.9.*",
      "model_name": "AnyModel",
      "state": {
       "_anywidget_id": "widgets.chat.chatinput.ChatInputWidget",
       "_css": "\n    .mljar-chatinput-container {\n        display: flex;\n        flex-direction: row;\n        align-items: center;\n        width: 100%;\n        min-width: 160px;\n        box-sizing: border-box;\n        gap: 8px;\n        font-family: Arial, sans-serif;\n        font-size: 14px;\n        color: #222;\n    }\n\n    .mljar-chatinput-input {\n        flex: 1 1 auto;\n        width: 100%;\n        border: 1px solid #ccc;\n        border-radius: 6px;\n        padding: 6px 10px;\n        min-height: 1.6em;\n        background: #fff;\n        color: #222;\n        box-sizing: border-box;\n    }\n    .mljar-chatinput-input:focus {\n        outline: none;\n        border-color: #007bff;\n    }\n\n    .mljar-chatinput-button {\n        flex: 0 0 auto;\n        border: none;\n        border-radius: 6px;\n        padding: 6px 12px;\n        min-height: 1.6em;\n        cursor: pointer;\n        background: #007bff;\n        color: #fff;\n        font-weight: bold;\n    }\n    .mljar-chatinput-button:hover {\n        filter: brightness(0.95);\n    }\n    ",
       "_esm": "\n    function render({ model, el }) {\n      const container = document.createElement(\"div\");\n      container.classList.add(\"mljar-chatinput-container\");\n\n      const input = document.createElement(\"input\");\n      input.type = \"text\";\n      input.placeholder = model.get(\"placeholder\") || \"Type a message...\";\n      input.value = model.get(\"value\") || \"\";\n      input.classList.add(\"mljar-chatinput-input\");\n\n      const btn = document.createElement(\"button\");\n      btn.type = \"button\";\n      btn.classList.add(\"mljar-chatinput-button\");\n      btn.textContent = model.get(\"button_icon\") || \"➤\";\n      btn.setAttribute(\"aria-label\", \"Send message\");\n\n      container.appendChild(input);\n      container.appendChild(btn);\n      el.appendChild(container);\n\n      // Keep input in sync if Python changes 'value' (e.g., programmatic set/restore)\n      model.on(\"change:value\", () => {\n        const newVal = model.get(\"value\") ?? \"\";\n        if (input.value !== newVal) input.value = newVal;\n      });\n\n      // Submit logic: update submitted and value ONLY here\n      const sendMessage = () => {\n        const msg = (input.value || \"\").trim();\n        if (!msg) return;\n\n        // Signal to kernel\n        model.set(\"submitted\", msg);\n\n        // Update public 'value' ONLY at submit time\n        model.set(\"value\", msg);\n\n        // Clear visible input (does NOT touch model 'value')\n        input.value = \"\";\n\n        // Persist once\n        model.save_changes();\n      };\n\n      btn.addEventListener(\"click\", sendMessage);\n\n      input.addEventListener(\"keydown\", (ev) => {\n        const sendOnEnter = !!model.get(\"send_on_enter\");\n        if (!sendOnEnter) return;\n        if (ev.key === \"Enter\" && !ev.shiftKey) {\n          ev.preventDefault();\n          sendMessage();\n        }\n      });\n\n      // Custom CSS hook\n      const css = model.get(\"custom_css\");\n      if (css && css.trim().length > 0) {\n        const styleTag = document.createElement(\"style\");\n        styleTag.textContent = css;\n        el.appendChild(styleTag);\n      }\n\n      // ---- read cell id (no DOM modifications) ----\n      const ID_ATTR = 'data-cell-id';\n      const hostWithId = el.closest(`[${ID_ATTR}]`);\n      const cellId = hostWithId ? hostWithId.getAttribute(ID_ATTR) : null;\n\n      if (cellId) {\n        model.set('cell_id', cellId);\n        model.save_changes();\n        model.send({ type: 'cell_id_detected', value: cellId });\n      } else {\n        // handle case where the attribute appears slightly later\n        const mo = new MutationObserver(() => {\n          const host = el.closest(`[${ID_ATTR}]`);\n          const newId = host?.getAttribute(ID_ATTR);\n          if (newId) {\n            model.set('cell_id', newId);\n            model.save_changes();\n            model.send({ type: 'cell_id_detected', value: newId });\n            mo.disconnect();\n          }\n        });\n        mo.observe(document.body, { attributes: true, subtree: true, attributeFilter: [ID_ATTR] });\n      }\n    }\n    export default { render };\n    ",
       "_model_module": "anywidget",
       "_model_module_version": "~0.9.*",
       "_model_name": "AnyModel",
       "_view_module": "anywidget",
       "_view_module_version": "~0.9.*",
       "_view_name": "AnyView",
       "button_icon": "➤",
       "cell_id": "a085c253-3f15-4556-8523-3b56f78c04b4",
       "custom_css": "",
       "layout": "IPY_MODEL_ddc48dedba924710a53050ad7589283e",
       "placeholder": "Type a message...",
       "position": "bottom",
       "send_on_enter": true,
       "submitted": "",
       "value": ""
      }
     },
     "56260f0177f14ca3a7607c5eafafa095": {
      "model_module": "@jupyter-widgets/base",
      "model_module_version": "2.0.0",
      "model_name": "LayoutModel",
      "state": {}
     },
     "73b6b2e416b14a3bafa9d454ac8490a3": {
      "model_module": "@jupyter-widgets/output",
      "model_module_version": "1.0.0",
      "model_name": "OutputModel",
      "state": {
       "layout": "IPY_MODEL_ec2b0a81445943aa81aab97644b0f62a"
      }
     },
     "7a6c1ccf10c640ce8cb830343411b8f1": {
      "model_module": "@jupyter-widgets/controls",
      "model_module_version": "2.0.0",
      "model_name": "HTMLModel",
      "state": {
       "layout": "IPY_MODEL_56260f0177f14ca3a7607c5eafafa095",
       "style": "IPY_MODEL_aa934bcefeb24dcd83b908db35c9b753",
       "value": "\n            <div style=\"\n              color:#b5b5b5;\n              text-align:center;\n              padding:40px 0;\n              font-size:1.1em;\n              background:#fff;\n            \">💬 No messages yet. Start the conversation!</div>\n            "
      }
     },
     "926670f702ab418e9013057b8d6a1a86": {
      "model_module": "@jupyter-widgets/base",
      "model_module_version": "2.0.0",
      "model_name": "LayoutModel",
      "state": {
       "padding": "4px",
       "width": "100%"
      }
     },
     "aa934bcefeb24dcd83b908db35c9b753": {
      "model_module": "@jupyter-widgets/controls",
      "model_module_version": "2.0.0",
      "model_name": "HTMLStyleModel",
      "state": {
       "description_width": "",
       "font_size": null,
       "text_color": null
      }
     },
     "dc18a56e75984d71a12d2e2b0c1e12a4": {
      "model_module": "@jupyter-widgets/controls",
      "model_module_version": "2.0.0",
      "model_name": "VBoxModel",
      "state": {
       "_dom_classes": [
        "mljar-chat-5021e62d"
       ],
       "children": [
        "IPY_MODEL_7a6c1ccf10c640ce8cb830343411b8f1"
       ],
       "layout": "IPY_MODEL_926670f702ab418e9013057b8d6a1a86"
      }
     },
     "ddc48dedba924710a53050ad7589283e": {
      "model_module": "@jupyter-widgets/base",
      "model_module_version": "2.0.0",
      "model_name": "LayoutModel",
      "state": {}
     },
     "ec2b0a81445943aa81aab97644b0f62a": {
      "model_module": "@jupyter-widgets/base",
      "model_module_version": "2.0.0",
      "model_name": "LayoutModel",
      "state": {}
     }
    },
    "version_major": 2,
    "version_minor": 0
   }
  }
 },
 "nbformat": 4,
 "nbformat_minor": 5
}
