{
 "cells": [
  {
   "cell_type": "code",
   "execution_count": 1,
   "id": "ec1a47df-3b61-49a2-a7bb-4139c2b6ccc3",
   "metadata": {},
   "outputs": [],
   "source": [
    "from widgets import Chat, ChatInput, Message"
   ]
  },
  {
   "cell_type": "code",
   "execution_count": 2,
   "id": "9f040a71-31d3-453f-9bb0-6cb46e4e02a4",
   "metadata": {},
   "outputs": [
    {
     "data": {
      "application/vnd.jupyter.widget-view+json": {
       "model_id": "72dcf9defca440e3ac9d1334ab03e92f",
       "version_major": 2,
       "version_minor": 0
      },
      "text/plain": [
       "VBox(children=(HTML(value='\\n            <div style=\"\\n              color:#b5b5b5;\\n              text-align:…"
      ]
     },
     "metadata": {},
     "output_type": "display_data"
    },
    {
     "data": {
      "application/vnd.jupyter.widget-view+json": {
       "model_id": "b9ab9ed333fa462a91ace3bfd2e38dd1",
       "version_major": 2,
       "version_minor": 0
      },
      "text/plain": [
       "Output()"
      ]
     },
     "metadata": {},
     "output_type": "display_data"
    }
   ],
   "source": [
    "chat = Chat()"
   ]
  },
  {
   "cell_type": "code",
   "execution_count": 3,
   "id": "a085c253-3f15-4556-8523-3b56f78c04b4",
   "metadata": {},
   "outputs": [
    {
     "data": {
      "application/mercury+json": "{\n    \"widget\": \"ChatInputWidget\",\n    \"model_id\": \"2c6128c6347c42cead2f9179be561da0\",\n    \"position\": \"bottom\"\n}",
      "application/vnd.jupyter.widget-view+json": {
       "model_id": "2c6128c6347c42cead2f9179be561da0",
       "version_major": 2,
       "version_minor": 1
      },
      "text/plain": [
       "ChatInputWidget()"
      ]
     },
     "metadata": {},
     "output_type": "display_data"
    }
   ],
   "source": [
    "chat_input = ChatInput()"
   ]
  },
  {
   "cell_type": "code",
   "execution_count": 32,
   "id": "e944cdc8-a488-4b1f-9c5f-a8eca23c092a",
   "metadata": {},
   "outputs": [],
   "source": [
    "import time\n",
    "def responder(user_text: str):\n",
    "    \"\"\"Simulate response\"\"\"\n",
    "    text = f\"Echo: {user_text}\"\n",
    "    for ch in text:\n",
    "        yield ch\n",
    "        time.sleep(0.05)"
   ]
  },
  {
   "cell_type": "code",
   "execution_count": 33,
   "id": "1fecb4f6-e5d3-4ef1-a55d-0b456a36b98b",
   "metadata": {},
   "outputs": [],
   "source": [
    "msg = chat_input.value.strip()\n",
    "\n",
    "if msg:\n",
    "    # User prompt\n",
    "    user_msg = Message(role=\"user\", emoji=\"👤\")\n",
    "    user_msg.set_message(markdown=msg)\n",
    "    chat.add(user_msg)\n",
    "\n",
    "    # AI response\n",
    "    bot_msg = Message(role=\"assistant\", emoji=\"🤖\")\n",
    "    chat.add(bot_msg)\n",
    "    # stream response\n",
    "    for chunk in responder(msg):\n",
    "        bot_msg.append_markdown(chunk)"
   ]
  },
  {
   "cell_type": "code",
   "execution_count": 33,
   "id": "d9981f8c-00b8-4518-b09e-626b3f385cb7",
   "metadata": {},
   "outputs": [],
   "source": []
  }
 ],
 "metadata": {
  "kernelspec": {
   "display_name": "Python 3 (ipykernel)",
   "language": "python",
   "name": "python3"
  },
  "language_info": {
   "codemirror_mode": {
    "name": "ipython",
    "version": 3
   },
   "file_extension": ".py",
   "mimetype": "text/x-python",
   "name": "python",
   "nbconvert_exporter": "python",
   "pygments_lexer": "ipython3",
   "version": "3.11.5"
  },
  "widgets": {
   "application/vnd.jupyter.widget-state+json": {
    "state": {
     "0c70c1f405f6426cb8b8f534b9081423": {
      "model_module": "@jupyter-widgets/controls",
      "model_module_version": "2.0.0",
      "model_name": "HTMLModel",
      "state": {
       "layout": "IPY_MODEL_960ada8e9a6b4270ac0ac71428d159bb",
       "style": "IPY_MODEL_5274f1934f03484a958e2a0c8f7808df",
       "value": "<div style=\"width:36px;height:36px;background:#84c4ff;border-radius:12px;display:flex;align-items:center;justify-content:center;box-shadow:0 1px 4px rgba(60,60,60,0.10);\"><span style=\"font-size:18px;line-height:1;\">👤</span></div>"
      }
     },
     "1048f827dd4d4b7ca2efd27c8cbf835a": {
      "model_module": "@jupyter-widgets/output",
      "model_module_version": "1.0.0",
      "model_name": "OutputModel",
      "state": {
       "_dom_classes": [
        "mljar-chat-msg"
       ],
       "layout": "IPY_MODEL_96b221b9ae5140819b0a27bed6f0cca0",
       "outputs": [
        {
         "data": {
          "text/markdown": "sdfasdfasdfa1",
          "text/plain": "<IPython.core.display.Markdown object>"
         },
         "metadata": {},
         "output_type": "display_data"
        }
       ]
      }
     },
     "15311c348f594bb0bfb62ca2e587fc44": {
      "model_module": "@jupyter-widgets/controls",
      "model_module_version": "2.0.0",
      "model_name": "HTMLStyleModel",
      "state": {
       "description_width": "",
       "font_size": null,
       "text_color": null
      }
     },
     "1621c2cf3d0743eea57d5ce0294925f4": {
      "model_module": "@jupyter-widgets/controls",
      "model_module_version": "2.0.0",
      "model_name": "HTMLModel",
      "state": {
       "layout": "IPY_MODEL_cd6980a584c64189b11ccb0e5a83e8b7",
       "style": "IPY_MODEL_99aef21855c94ed28bdaf5eaa0697489",
       "value": "<div style=\"width:36px;height:36px;background:#eeeeee;border-radius:12px;display:flex;align-items:center;justify-content:center;box-shadow:0 1px 4px rgba(60,60,60,0.10);\"><span style=\"font-size:18px;line-height:1;\">🤖</span></div>"
      }
     },
     "16d226ab6d704629a899da68e7d27e4f": {
      "model_module": "@jupyter-widgets/output",
      "model_module_version": "1.0.0",
      "model_name": "OutputModel",
      "state": {
       "_dom_classes": [
        "mljar-chat-msg"
       ],
       "layout": "IPY_MODEL_a750cef967764c9cb28ad70a96ef5c29",
       "outputs": [
        {
         "data": {
          "text/markdown": "asdf asdf asdf",
          "text/plain": "<IPython.core.display.Markdown object>"
         },
         "metadata": {},
         "output_type": "display_data"
        }
       ]
      }
     },
     "17bd2c231d464990a6a42920ae90fe21": {
      "model_module": "@jupyter-widgets/base",
      "model_module_version": "2.0.0",
      "model_name": "LayoutModel",
      "state": {}
     },
     "2c0de57dc27e46669f64b7505d56722c": {
      "model_module": "@jupyter-widgets/controls",
      "model_module_version": "2.0.0",
      "model_name": "HTMLModel",
      "state": {
       "layout": "IPY_MODEL_5cc4d47b68ec4d41b64c1a783a825a6b",
       "style": "IPY_MODEL_43813dc25bab4f0dadb23ce9796d17f6",
       "value": "<div style=\"width:36px;height:36px;background:#84c4ff;border-radius:12px;display:flex;align-items:center;justify-content:center;box-shadow:0 1px 4px rgba(60,60,60,0.10);\"><span style=\"font-size:18px;line-height:1;\">👤</span></div>"
      }
     },
     "2c6128c6347c42cead2f9179be561da0": {
      "model_module": "anywidget",
      "model_module_version": "~0.9.*",
      "model_name": "AnyModel",
      "state": {
       "_anywidget_id": "widgets.chat.chatinput.ChatInputWidget",
       "_css": "\n    .mljar-chatinput-container {\n        display: flex;\n        flex-direction: row;\n        align-items: center;\n        width: 100%;\n        min-width: 160px;\n        box-sizing: border-box;\n        gap: 8px;\n        font-family: Arial, sans-serif;\n        font-size: 14px;\n        color: #222;\n    }\n\n    .mljar-chatinput-input {\n        flex: 1 1 auto;\n        width: 100%;\n        border: 1px solid #ccc;\n        border-radius: 6px;\n        padding: 6px 10px;\n        min-height: 1.6em;\n        background: #fff;\n        color: #222;\n        box-sizing: border-box;\n    }\n    .mljar-chatinput-input:focus {\n        outline: none;\n        border-color: #007bff;\n    }\n\n    .mljar-chatinput-button {\n        flex: 0 0 auto;\n        border: none;\n        border-radius: 6px;\n        padding: 6px 12px;\n        min-height: 1.6em;\n        cursor: pointer;\n        background: #007bff;\n        color: #fff;\n        font-weight: bold;\n    }\n    .mljar-chatinput-button:hover {\n        filter: brightness(0.95);\n    }\n    ",
       "_esm": "\n    function render({ model, el }) {\n      const container = document.createElement(\"div\");\n      container.classList.add(\"mljar-chatinput-container\");\n\n      const input = document.createElement(\"input\");\n      input.type = \"text\";\n      input.placeholder = model.get(\"placeholder\") || \"Type a message...\";\n      input.value = model.get(\"value\") || \"\";\n      input.classList.add(\"mljar-chatinput-input\");\n\n      const btn = document.createElement(\"button\");\n      btn.type = \"button\";\n      btn.classList.add(\"mljar-chatinput-button\");\n      btn.textContent = model.get(\"button_icon\") || \"➤\";\n      btn.setAttribute(\"aria-label\", \"Send message\");\n\n      container.appendChild(input);\n      container.appendChild(btn);\n      el.appendChild(container);\n\n      // Keep input in sync if Python changes 'value' (e.g., programmatic set/restore)\n      model.on(\"change:value\", () => {\n        const newVal = model.get(\"value\") ?? \"\";\n        if (input.value !== newVal) input.value = newVal;\n      });\n\n      // Submit logic: update submitted and value ONLY here\n      const sendMessage = () => {\n        const msg = (input.value || \"\").trim();\n        if (!msg) return;\n\n        // Signal to kernel\n        model.set(\"submitted\", msg);\n\n        // Update public 'value' ONLY at submit time\n        model.set(\"value\", msg);\n\n        // Clear visible input (does NOT touch model 'value')\n        input.value = \"\";\n\n        // Persist once\n        model.save_changes();\n      };\n\n      btn.addEventListener(\"click\", sendMessage);\n\n      input.addEventListener(\"keydown\", (ev) => {\n        const sendOnEnter = !!model.get(\"send_on_enter\");\n        if (!sendOnEnter) return;\n        if (ev.key === \"Enter\" && !ev.shiftKey) {\n          ev.preventDefault();\n          sendMessage();\n        }\n      });\n\n      // Custom CSS hook\n      const css = model.get(\"custom_css\");\n      if (css && css.trim().length > 0) {\n        const styleTag = document.createElement(\"style\");\n        styleTag.textContent = css;\n        el.appendChild(styleTag);\n      }\n\n      // ---- read cell id (no DOM modifications) ----\n      const ID_ATTR = 'data-cell-id';\n      const hostWithId = el.closest(`[${ID_ATTR}]`);\n      const cellId = hostWithId ? hostWithId.getAttribute(ID_ATTR) : null;\n\n      if (cellId) {\n        model.set('cell_id', cellId);\n        model.save_changes();\n        model.send({ type: 'cell_id_detected', value: cellId });\n      } else {\n        // handle case where the attribute appears slightly later\n        const mo = new MutationObserver(() => {\n          const host = el.closest(`[${ID_ATTR}]`);\n          const newId = host?.getAttribute(ID_ATTR);\n          if (newId) {\n            model.set('cell_id', newId);\n            model.save_changes();\n            model.send({ type: 'cell_id_detected', value: newId });\n            mo.disconnect();\n          }\n        });\n        mo.observe(document.body, { attributes: true, subtree: true, attributeFilter: [ID_ATTR] });\n      }\n    }\n    export default { render };\n    ",
       "_model_module": "anywidget",
       "_model_module_version": "~0.9.*",
       "_model_name": "AnyModel",
       "_view_module": "anywidget",
       "_view_module_version": "~0.9.*",
       "_view_name": "AnyView",
       "button_icon": "➤",
       "cell_id": "a085c253-3f15-4556-8523-3b56f78c04b4",
       "custom_css": "",
       "layout": "IPY_MODEL_17bd2c231d464990a6a42920ae90fe21",
       "placeholder": "Type a message...",
       "position": "bottom",
       "send_on_enter": true,
       "submitted": "asdf asdf asdf",
       "value": ""
      }
     },
     "2ca0155483d640bbad8dd679db6aee94": {
      "model_module": "@jupyter-widgets/output",
      "model_module_version": "1.0.0",
      "model_name": "OutputModel",
      "state": {
       "_dom_classes": [
        "mljar-chat-msg"
       ],
       "layout": "IPY_MODEL_5a022bee0bfe4611a292c4a003915fc9",
       "outputs": [
        {
         "data": {
          "text/markdown": "Echo: sdfasdfasdfa1",
          "text/plain": "<IPython.core.display.Markdown object>"
         },
         "metadata": {},
         "output_type": "display_data"
        }
       ]
      }
     },
     "305b99fab5a74843aa28b18a10c709ed": {
      "model_module": "@jupyter-widgets/base",
      "model_module_version": "2.0.0",
      "model_name": "LayoutModel",
      "state": {
       "align_items": "flex-start"
      }
     },
     "33791d229e5044108eec3fbfb52d5ea3": {
      "model_module": "@jupyter-widgets/output",
      "model_module_version": "1.0.0",
      "model_name": "OutputModel",
      "state": {
       "_dom_classes": [
        "mljar-chat-msg"
       ],
       "layout": "IPY_MODEL_d58519f1b7684e19a268410e87c6d6ba",
       "outputs": [
        {
         "data": {
          "text/markdown": "asdfasd asdf",
          "text/plain": "<IPython.core.display.Markdown object>"
         },
         "metadata": {},
         "output_type": "display_data"
        }
       ]
      }
     },
     "43813dc25bab4f0dadb23ce9796d17f6": {
      "model_module": "@jupyter-widgets/controls",
      "model_module_version": "2.0.0",
      "model_name": "HTMLStyleModel",
      "state": {
       "description_width": "",
       "font_size": null,
       "text_color": null
      }
     },
     "4573a4cb5c3245508c7b3b9a2bc13841": {
      "model_module": "@jupyter-widgets/controls",
      "model_module_version": "2.0.0",
      "model_name": "HBoxModel",
      "state": {
       "children": [
        "IPY_MODEL_4c4f03000ea444a9901c1bcb2a460868",
        "IPY_MODEL_e7634453b3584c63a028397eead15754"
       ],
       "layout": "IPY_MODEL_d63bac8d6eff428d87963656231c3bfb"
      }
     },
     "4bc363ea5ed845f38583c0e398c40210": {
      "model_module": "@jupyter-widgets/base",
      "model_module_version": "2.0.0",
      "model_name": "LayoutModel",
      "state": {
       "align_self": "flex-start",
       "margin": "0 8px 8px 0"
      }
     },
     "4c4f03000ea444a9901c1bcb2a460868": {
      "model_module": "@jupyter-widgets/controls",
      "model_module_version": "2.0.0",
      "model_name": "HTMLModel",
      "state": {
       "layout": "IPY_MODEL_4bc363ea5ed845f38583c0e398c40210",
       "style": "IPY_MODEL_e755ba76f96d4ec78af78cb2a9793cda",
       "value": "<div style=\"width:36px;height:36px;background:#eeeeee;border-radius:12px;display:flex;align-items:center;justify-content:center;box-shadow:0 1px 4px rgba(60,60,60,0.10);\"><span style=\"font-size:18px;line-height:1;\">🤖</span></div>"
      }
     },
     "4f9f056f6c8341358078cdf7ee37c186": {
      "model_module": "@jupyter-widgets/controls",
      "model_module_version": "2.0.0",
      "model_name": "HTMLStyleModel",
      "state": {
       "description_width": "",
       "font_size": null,
       "text_color": null
      }
     },
     "5274f1934f03484a958e2a0c8f7808df": {
      "model_module": "@jupyter-widgets/controls",
      "model_module_version": "2.0.0",
      "model_name": "HTMLStyleModel",
      "state": {
       "description_width": "",
       "font_size": null,
       "text_color": null
      }
     },
     "555ce860c1aa4655b805cd7c7061bc82": {
      "model_module": "@jupyter-widgets/controls",
      "model_module_version": "2.0.0",
      "model_name": "HBoxModel",
      "state": {
       "children": [
        "IPY_MODEL_c2c98cf24a484e17b20662e3a9e5d303",
        "IPY_MODEL_1048f827dd4d4b7ca2efd27c8cbf835a"
       ],
       "layout": "IPY_MODEL_a0ba69fcec41485faaa2844c24f9f262"
      }
     },
     "5a022bee0bfe4611a292c4a003915fc9": {
      "model_module": "@jupyter-widgets/base",
      "model_module_version": "2.0.0",
      "model_name": "LayoutModel",
      "state": {
       "align_self": "flex-start",
       "margin": "8px 0 0 0"
      }
     },
     "5cc4d47b68ec4d41b64c1a783a825a6b": {
      "model_module": "@jupyter-widgets/base",
      "model_module_version": "2.0.0",
      "model_name": "LayoutModel",
      "state": {
       "align_self": "flex-start",
       "margin": "0 8px 8px 0"
      }
     },
     "5f574a448cce475e978e6374d0bbcba8": {
      "model_module": "@jupyter-widgets/base",
      "model_module_version": "2.0.0",
      "model_name": "LayoutModel",
      "state": {
       "align_items": "flex-start"
      }
     },
     "629815bdd8d9443aabc114783e07a2d7": {
      "model_module": "@jupyter-widgets/base",
      "model_module_version": "2.0.0",
      "model_name": "LayoutModel",
      "state": {
       "align_self": "flex-start",
       "margin": "8px 0 0 0"
      }
     },
     "6d9b1d9663504735aed9bdf51afc5fbf": {
      "model_module": "@jupyter-widgets/controls",
      "model_module_version": "2.0.0",
      "model_name": "HBoxModel",
      "state": {
       "children": [
        "IPY_MODEL_8dcb748886614edf89e8010b3a918ee6",
        "IPY_MODEL_2ca0155483d640bbad8dd679db6aee94"
       ],
       "layout": "IPY_MODEL_305b99fab5a74843aa28b18a10c709ed"
      }
     },
     "72dcf9defca440e3ac9d1334ab03e92f": {
      "model_module": "@jupyter-widgets/controls",
      "model_module_version": "2.0.0",
      "model_name": "VBoxModel",
      "state": {
       "_dom_classes": [
        "mljar-chat-fd738bdc"
       ],
       "children": [
        "IPY_MODEL_555ce860c1aa4655b805cd7c7061bc82",
        "IPY_MODEL_6d9b1d9663504735aed9bdf51afc5fbf",
        "IPY_MODEL_f02e3f8dbb3a4d1eb4c695ce0fa1a12e",
        "IPY_MODEL_4573a4cb5c3245508c7b3b9a2bc13841",
        "IPY_MODEL_b50357cff0a448868e929aebca7a5bbf",
        "IPY_MODEL_843717c4ae82404fbdbd08490c795339"
       ],
       "layout": "IPY_MODEL_eeea3ab9767f4370a4d98f4fc1b5af92"
      }
     },
     "843717c4ae82404fbdbd08490c795339": {
      "model_module": "@jupyter-widgets/controls",
      "model_module_version": "2.0.0",
      "model_name": "HBoxModel",
      "state": {
       "children": [
        "IPY_MODEL_1621c2cf3d0743eea57d5ce0294925f4",
        "IPY_MODEL_d5c0e49ddc314a3a897b85da30c84b2a"
       ],
       "layout": "IPY_MODEL_e353a81eaedd4780978b7b2f01208545"
      }
     },
     "86cd30a4608b4515ac2fe1aaac725719": {
      "model_module": "@jupyter-widgets/base",
      "model_module_version": "2.0.0",
      "model_name": "LayoutModel",
      "state": {
       "align_items": "flex-start"
      }
     },
     "8dcb748886614edf89e8010b3a918ee6": {
      "model_module": "@jupyter-widgets/controls",
      "model_module_version": "2.0.0",
      "model_name": "HTMLModel",
      "state": {
       "layout": "IPY_MODEL_e066663d3e464099bdfe8fb3c6931860",
       "style": "IPY_MODEL_4f9f056f6c8341358078cdf7ee37c186",
       "value": "<div style=\"width:36px;height:36px;background:#eeeeee;border-radius:12px;display:flex;align-items:center;justify-content:center;box-shadow:0 1px 4px rgba(60,60,60,0.10);\"><span style=\"font-size:18px;line-height:1;\">🤖</span></div>"
      }
     },
     "960ada8e9a6b4270ac0ac71428d159bb": {
      "model_module": "@jupyter-widgets/base",
      "model_module_version": "2.0.0",
      "model_name": "LayoutModel",
      "state": {
       "align_self": "flex-start",
       "margin": "0 8px 8px 0"
      }
     },
     "96b221b9ae5140819b0a27bed6f0cca0": {
      "model_module": "@jupyter-widgets/base",
      "model_module_version": "2.0.0",
      "model_name": "LayoutModel",
      "state": {
       "align_self": "flex-start",
       "margin": "8px 0 0 0"
      }
     },
     "99aef21855c94ed28bdaf5eaa0697489": {
      "model_module": "@jupyter-widgets/controls",
      "model_module_version": "2.0.0",
      "model_name": "HTMLStyleModel",
      "state": {
       "description_width": "",
       "font_size": null,
       "text_color": null
      }
     },
     "a0ba69fcec41485faaa2844c24f9f262": {
      "model_module": "@jupyter-widgets/base",
      "model_module_version": "2.0.0",
      "model_name": "LayoutModel",
      "state": {
       "align_items": "flex-start"
      }
     },
     "a750cef967764c9cb28ad70a96ef5c29": {
      "model_module": "@jupyter-widgets/base",
      "model_module_version": "2.0.0",
      "model_name": "LayoutModel",
      "state": {
       "align_self": "flex-start",
       "margin": "8px 0 0 0"
      }
     },
     "b319f66b4f7e453b90ae1ca4aebdbb8c": {
      "model_module": "@jupyter-widgets/base",
      "model_module_version": "2.0.0",
      "model_name": "LayoutModel",
      "state": {
       "align_self": "flex-start",
       "margin": "0 8px 8px 0"
      }
     },
     "b50357cff0a448868e929aebca7a5bbf": {
      "model_module": "@jupyter-widgets/controls",
      "model_module_version": "2.0.0",
      "model_name": "HBoxModel",
      "state": {
       "children": [
        "IPY_MODEL_0c70c1f405f6426cb8b8f534b9081423",
        "IPY_MODEL_16d226ab6d704629a899da68e7d27e4f"
       ],
       "layout": "IPY_MODEL_86cd30a4608b4515ac2fe1aaac725719"
      }
     },
     "b9ab9ed333fa462a91ace3bfd2e38dd1": {
      "model_module": "@jupyter-widgets/output",
      "model_module_version": "1.0.0",
      "model_name": "OutputModel",
      "state": {
       "layout": "IPY_MODEL_bacf76d2d0d34d0fa7d24ff9935201d9",
       "outputs": [
        {
         "data": {
          "application/javascript": "(function(){\n  function isScrollable(el){\n    if(!el) return false;\n    const cs = getComputedStyle(el);\n    const oy = cs.overflowY, o = cs.overflow;\n    const can = el.scrollHeight > (el.clientHeight + 2);\n    return can && (oy==='auto'||oy==='scroll'||o==='auto'||o==='scroll');\n  }\n  function findScrollableWithin(root){\n    if(!root) return null;\n    if(isScrollable(root)) return root;\n    const walker = document.createTreeWalker(root, NodeFilter.SHOW_ELEMENT, null);\n    let n = walker.currentNode;\n    while((n = walker.nextNode())){ if(isScrollable(n)) return n; }\n    return null;\n  }\n  function getScrollableAncestor(node){\n    let cur = node && node.parentElement;\n    while(cur){ if(isScrollable(cur)) return cur; cur = cur.parentElement; }\n    return null;\n  }\n  function scrollIntoContainer(el, container){\n    if(!el||!container) return;\n    let y = 0, n = el;\n    while(n && n !== container){ y += n.offsetTop || 0; n = n.offsetParent; }\n    const target = Math.max(0, y - (container.clientHeight - el.clientHeight) + 16);\n    container.scrollTop = target;\n  }\n  function scrollPageFallback(el){\n    try { el.scrollIntoView({behavior:'smooth', block:'end'}); } catch(e) {}\n  }\n\n  const chats = document.getElementsByClassName(\"mljar-chat-fd738bdc\");\n  if(!chats || !chats.length) return;\n  const chat = chats[0];\n  const msgs = chat.getElementsByClassName('mljar-chat-msg');\n  if(!msgs || !msgs.length) return;\n  const last = msgs[msgs.length - 1];\n\n  function tick(){\n    const pref = document.querySelector(\"#mercury-main-panel, .mercury-main-panel\");\n    const scroller = findScrollableWithin(pref) || getScrollableAncestor(last) || document.scrollingElement;\n    if(scroller) scrollIntoContainer(last, scroller);\n    else scrollPageFallback(last);\n  }\n\n  // Give big outputs (plots) a moment to layout\n  requestAnimationFrame(()=>setTimeout(tick, 100));\n})();",
          "text/plain": "<IPython.core.display.Javascript object>"
         },
         "metadata": {},
         "output_type": "display_data"
        }
       ]
      }
     },
     "bacf76d2d0d34d0fa7d24ff9935201d9": {
      "model_module": "@jupyter-widgets/base",
      "model_module_version": "2.0.0",
      "model_name": "LayoutModel",
      "state": {}
     },
     "be53ab2c64484616a3fda752361ea325": {
      "model_module": "@jupyter-widgets/controls",
      "model_module_version": "2.0.0",
      "model_name": "HTMLStyleModel",
      "state": {
       "description_width": "",
       "font_size": null,
       "text_color": null
      }
     },
     "c2c98cf24a484e17b20662e3a9e5d303": {
      "model_module": "@jupyter-widgets/controls",
      "model_module_version": "2.0.0",
      "model_name": "HTMLModel",
      "state": {
       "layout": "IPY_MODEL_b319f66b4f7e453b90ae1ca4aebdbb8c",
       "style": "IPY_MODEL_15311c348f594bb0bfb62ca2e587fc44",
       "value": "<div style=\"width:36px;height:36px;background:#84c4ff;border-radius:12px;display:flex;align-items:center;justify-content:center;box-shadow:0 1px 4px rgba(60,60,60,0.10);\"><span style=\"font-size:18px;line-height:1;\">👤</span></div>"
      }
     },
     "cd6980a584c64189b11ccb0e5a83e8b7": {
      "model_module": "@jupyter-widgets/base",
      "model_module_version": "2.0.0",
      "model_name": "LayoutModel",
      "state": {
       "align_self": "flex-start",
       "margin": "0 8px 8px 0"
      }
     },
     "d49de3789d364b7792442a53bedfa6df": {
      "model_module": "@jupyter-widgets/base",
      "model_module_version": "2.0.0",
      "model_name": "LayoutModel",
      "state": {}
     },
     "d58519f1b7684e19a268410e87c6d6ba": {
      "model_module": "@jupyter-widgets/base",
      "model_module_version": "2.0.0",
      "model_name": "LayoutModel",
      "state": {
       "align_self": "flex-start",
       "margin": "8px 0 0 0"
      }
     },
     "d5c0e49ddc314a3a897b85da30c84b2a": {
      "model_module": "@jupyter-widgets/output",
      "model_module_version": "1.0.0",
      "model_name": "OutputModel",
      "state": {
       "_dom_classes": [
        "mljar-chat-msg"
       ],
       "layout": "IPY_MODEL_e9ff5e3468564d29a52a80f43156fe09",
       "outputs": [
        {
         "data": {
          "text/markdown": "Echo: asdf asdf asdf",
          "text/plain": "<IPython.core.display.Markdown object>"
         },
         "metadata": {},
         "output_type": "display_data"
        }
       ]
      }
     },
     "d63bac8d6eff428d87963656231c3bfb": {
      "model_module": "@jupyter-widgets/base",
      "model_module_version": "2.0.0",
      "model_name": "LayoutModel",
      "state": {
       "align_items": "flex-start"
      }
     },
     "e066663d3e464099bdfe8fb3c6931860": {
      "model_module": "@jupyter-widgets/base",
      "model_module_version": "2.0.0",
      "model_name": "LayoutModel",
      "state": {
       "align_self": "flex-start",
       "margin": "0 8px 8px 0"
      }
     },
     "e353a81eaedd4780978b7b2f01208545": {
      "model_module": "@jupyter-widgets/base",
      "model_module_version": "2.0.0",
      "model_name": "LayoutModel",
      "state": {
       "align_items": "flex-start"
      }
     },
     "e755ba76f96d4ec78af78cb2a9793cda": {
      "model_module": "@jupyter-widgets/controls",
      "model_module_version": "2.0.0",
      "model_name": "HTMLStyleModel",
      "state": {
       "description_width": "",
       "font_size": null,
       "text_color": null
      }
     },
     "e7634453b3584c63a028397eead15754": {
      "model_module": "@jupyter-widgets/output",
      "model_module_version": "1.0.0",
      "model_name": "OutputModel",
      "state": {
       "_dom_classes": [
        "mljar-chat-msg"
       ],
       "layout": "IPY_MODEL_629815bdd8d9443aabc114783e07a2d7",
       "outputs": [
        {
         "data": {
          "text/markdown": "Echo: asdfasd asdf",
          "text/plain": "<IPython.core.display.Markdown object>"
         },
         "metadata": {},
         "output_type": "display_data"
        }
       ]
      }
     },
     "e9ff5e3468564d29a52a80f43156fe09": {
      "model_module": "@jupyter-widgets/base",
      "model_module_version": "2.0.0",
      "model_name": "LayoutModel",
      "state": {
       "align_self": "flex-start",
       "margin": "8px 0 0 0"
      }
     },
     "eeea3ab9767f4370a4d98f4fc1b5af92": {
      "model_module": "@jupyter-widgets/base",
      "model_module_version": "2.0.0",
      "model_name": "LayoutModel",
      "state": {
       "padding": "4px",
       "width": "100%"
      }
     },
     "f02e3f8dbb3a4d1eb4c695ce0fa1a12e": {
      "model_module": "@jupyter-widgets/controls",
      "model_module_version": "2.0.0",
      "model_name": "HBoxModel",
      "state": {
       "children": [
        "IPY_MODEL_2c0de57dc27e46669f64b7505d56722c",
        "IPY_MODEL_33791d229e5044108eec3fbfb52d5ea3"
       ],
       "layout": "IPY_MODEL_5f574a448cce475e978e6374d0bbcba8"
      }
     },
     "f447bbf19f8947659a98f03a5cfefc44": {
      "model_module": "@jupyter-widgets/controls",
      "model_module_version": "2.0.0",
      "model_name": "HTMLModel",
      "state": {
       "layout": "IPY_MODEL_d49de3789d364b7792442a53bedfa6df",
       "style": "IPY_MODEL_be53ab2c64484616a3fda752361ea325",
       "value": "\n            <div style=\"\n              color:#b5b5b5;\n              text-align:center;\n              padding:40px 0;\n              font-size:1.1em;\n              background:#fff;\n            \">💬 No messages yet. Start the conversation!</div>\n            "
      }
     }
    },
    "version_major": 2,
    "version_minor": 0
   }
  }
 },
 "nbformat": 4,
 "nbformat_minor": 5
}
