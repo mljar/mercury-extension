{
 "cells": [
  {
   "cell_type": "code",
   "execution_count": 1,
   "id": "ec1a47df-3b61-49a2-a7bb-4139c2b6ccc3",
   "metadata": {},
   "outputs": [],
   "source": [
    "from widgets import Chat, ChatInput, Message"
   ]
  },
  {
   "cell_type": "code",
   "execution_count": 2,
   "id": "9f040a71-31d3-453f-9bb0-6cb46e4e02a4",
   "metadata": {},
   "outputs": [
    {
     "data": {
      "application/vnd.jupyter.widget-view+json": {
       "model_id": "42609352673e479dbc07b9fe8e01e57f",
       "version_major": 2,
       "version_minor": 0
      },
      "text/plain": [
       "VBox(children=(HTML(value='\\n            <div style=\"\\n              color:#b5b5b5;\\n              text-align:…"
      ]
     },
     "metadata": {},
     "output_type": "display_data"
    },
    {
     "data": {
      "application/vnd.jupyter.widget-view+json": {
       "model_id": "8ead9cf060a8461b835a8e2b3a7e4e32",
       "version_major": 2,
       "version_minor": 0
      },
      "text/plain": [
       "Output()"
      ]
     },
     "metadata": {},
     "output_type": "display_data"
    }
   ],
   "source": [
    "chat = Chat()"
   ]
  },
  {
   "cell_type": "code",
   "execution_count": 3,
   "id": "a085c253-3f15-4556-8523-3b56f78c04b4",
   "metadata": {},
   "outputs": [
    {
     "data": {
      "application/mercury+json": "{\n    \"widget\": \"ChatInputWidget\",\n    \"model_id\": \"6df5fa48e5154ee78af0335fc22da976\",\n    \"position\": \"bottom\"\n}",
      "application/vnd.jupyter.widget-view+json": {
       "model_id": "6df5fa48e5154ee78af0335fc22da976",
       "version_major": 2,
       "version_minor": 1
      },
      "text/plain": [
       "ChatInputWidget()"
      ]
     },
     "metadata": {},
     "output_type": "display_data"
    }
   ],
   "source": [
    "chat_input = ChatInput()"
   ]
  },
  {
   "cell_type": "code",
   "execution_count": 8,
   "id": "e944cdc8-a488-4b1f-9c5f-a8eca23c092a",
   "metadata": {},
   "outputs": [],
   "source": [
    "import time\n",
    "def responder(user_text: str):\n",
    "    \"\"\"Simulate response\"\"\"\n",
    "    text = f\"Echo: {user_text}\"\n",
    "    for ch in text:\n",
    "        yield ch\n",
    "        time.sleep(0.05)"
   ]
  },
  {
   "cell_type": "code",
   "execution_count": 9,
   "id": "1fecb4f6-e5d3-4ef1-a55d-0b456a36b98b",
   "metadata": {},
   "outputs": [],
   "source": [
    "msg = chat_input.submitted.strip()\n",
    "\n",
    "if msg:\n",
    "    # User prompt\n",
    "    user_msg = Message(role=\"user\", emoji=\"👤\")\n",
    "    user_msg.set_message(markdown=msg)\n",
    "    chat.add(user_msg)\n",
    "\n",
    "    # AI response\n",
    "    bot_msg = Message(role=\"assistant\", emoji=\"🤖\")\n",
    "    chat.add(bot_msg)\n",
    "    # stream response\n",
    "    for chunk in responder(msg):\n",
    "        bot_msg.append_markdown(chunk)\n",
    "    \n",
    "    # clear the submitted prompt\n",
    "    chat_input.submitted = \"\""
   ]
  },
  {
   "cell_type": "code",
   "execution_count": 9,
   "id": "7a66ec9c-3e6f-4849-84ee-b0536505987d",
   "metadata": {},
   "outputs": [],
   "source": []
  }
 ],
 "metadata": {
  "kernelspec": {
   "display_name": "Python 3 (ipykernel)",
   "language": "python",
   "name": "python3"
  },
  "language_info": {
   "codemirror_mode": {
    "name": "ipython",
    "version": 3
   },
   "file_extension": ".py",
   "mimetype": "text/x-python",
   "name": "python",
   "nbconvert_exporter": "python",
   "pygments_lexer": "ipython3",
   "version": "3.11.5"
  },
  "widgets": {
   "application/vnd.jupyter.widget-state+json": {
    "state": {},
    "version_major": 2,
    "version_minor": 0
   }
  }
 },
 "nbformat": 4,
 "nbformat_minor": 5
}
