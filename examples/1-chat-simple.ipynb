{
 "cells": [
  {
   "cell_type": "code",
   "execution_count": 1,
   "id": "ec1a47df-3b61-49a2-a7bb-4139c2b6ccc3",
   "metadata": {},
   "outputs": [],
   "source": [
    "from widgets import Chat, ChatInput, Message"
   ]
  },
  {
   "cell_type": "code",
   "execution_count": 2,
   "id": "9f040a71-31d3-453f-9bb0-6cb46e4e02a4",
   "metadata": {},
   "outputs": [
    {
     "data": {
      "application/vnd.jupyter.widget-view+json": {
       "model_id": "ef8eb5a92dc446cc827809eb951d953c",
       "version_major": 2,
       "version_minor": 0
      },
      "text/plain": [
       "VBox(children=(HTML(value='\\n            <div style=\"\\n              color:#b5b5b5;\\n              text-align:…"
      ]
     },
     "metadata": {},
     "output_type": "display_data"
    },
    {
     "data": {
      "application/vnd.jupyter.widget-view+json": {
       "model_id": "c669d775549745f894880d66aa659b7f",
       "version_major": 2,
       "version_minor": 0
      },
      "text/plain": [
       "Output()"
      ]
     },
     "metadata": {},
     "output_type": "display_data"
    }
   ],
   "source": [
    "chat = Chat()"
   ]
  },
  {
   "cell_type": "code",
   "execution_count": 3,
   "id": "a085c253-3f15-4556-8523-3b56f78c04b4",
   "metadata": {},
   "outputs": [
    {
     "data": {
      "application/mercury+json": "{\n    \"widget\": \"ChatInputWidget\",\n    \"model_id\": \"252cc9d07a724fbe80fd29da18829906\",\n    \"position\": \"bottom\"\n}",
      "application/vnd.jupyter.widget-view+json": {
       "model_id": "252cc9d07a724fbe80fd29da18829906",
       "version_major": 2,
       "version_minor": 1
      },
      "text/plain": [
       "ChatInputWidget()"
      ]
     },
     "metadata": {},
     "output_type": "display_data"
    }
   ],
   "source": [
    "chat_input = ChatInput()"
   ]
  },
  {
   "cell_type": "code",
   "execution_count": 9,
   "id": "e944cdc8-a488-4b1f-9c5f-a8eca23c092a",
   "metadata": {},
   "outputs": [],
   "source": [
    "import time\n",
    "def responder(user_text: str):\n",
    "    \"\"\"Simulate response\"\"\"\n",
    "    text = f\"Echo: {user_text}\"\n",
    "    for ch in text:\n",
    "        yield ch\n",
    "        time.sleep(0.05)"
   ]
  },
  {
   "cell_type": "code",
   "execution_count": 10,
   "id": "1fecb4f6-e5d3-4ef1-a55d-0b456a36b98b",
   "metadata": {},
   "outputs": [],
   "source": [
    "msg = chat_input.value.strip()\n",
    "\n",
    "if msg:\n",
    "    # User prompt\n",
    "    user_msg = Message(role=\"user\", emoji=\"👤\")\n",
    "    user_msg.set_message(markdown=msg)\n",
    "    chat.add(user_msg)\n",
    "\n",
    "    # AI response\n",
    "    bot_msg = Message(role=\"assistant\", emoji=\"🤖\")\n",
    "    chat.add(bot_msg)\n",
    "    # stream response\n",
    "    for chunk in responder(msg):\n",
    "        bot_msg.append_markdown(chunk)"
   ]
  },
  {
   "cell_type": "code",
   "execution_count": 13,
   "id": "7c829f96-ef90-4c8a-a800-47614c4357be",
   "metadata": {},
   "outputs": [
    {
     "data": {
      "text/plain": [
       "'111'"
      ]
     },
     "execution_count": 13,
     "metadata": {},
     "output_type": "execute_result"
    }
   ],
   "source": [
    "chat_input.value"
   ]
  },
  {
   "cell_type": "code",
   "execution_count": 14,
   "id": "2e4b390d-d023-4b8a-b81d-01287c261622",
   "metadata": {},
   "outputs": [],
   "source": [
    "from widgets.manager import WidgetsManager"
   ]
  },
  {
   "cell_type": "code",
   "execution_count": 16,
   "id": "fbf732f9-96bd-41c1-a947-e554dc0b46f1",
   "metadata": {},
   "outputs": [],
   "source": [
    "w = WidgetsManager.widgets['ChatInput.1e814ecb.1']"
   ]
  },
  {
   "cell_type": "code",
   "execution_count": 19,
   "id": "8128a23d-402c-4120-8c1b-17c8b12a09dd",
   "metadata": {},
   "outputs": [
    {
     "data": {
      "text/plain": [
       "'ChatInputWidget'"
      ]
     },
     "execution_count": 19,
     "metadata": {},
     "output_type": "execute_result"
    }
   ],
   "source": [
    "type(w).__name__"
   ]
  },
  {
   "cell_type": "code",
   "execution_count": 20,
   "id": "23b361c8-c4eb-4c44-8f91-c5a52a331e8f",
   "metadata": {},
   "outputs": [
    {
     "data": {
      "text/plain": [
       "'111'"
      ]
     },
     "execution_count": 20,
     "metadata": {},
     "output_type": "execute_result"
    }
   ],
   "source": [
    "getattr(w, \"value\", None)"
   ]
  },
  {
   "cell_type": "code",
   "execution_count": null,
   "id": "d9981f8c-00b8-4518-b09e-626b3f385cb7",
   "metadata": {},
   "outputs": [],
   "source": []
  }
 ],
 "metadata": {
  "kernelspec": {
   "display_name": "Python 3 (ipykernel)",
   "language": "python",
   "name": "python3"
  },
  "language_info": {
   "codemirror_mode": {
    "name": "ipython",
    "version": 3
   },
   "file_extension": ".py",
   "mimetype": "text/x-python",
   "name": "python",
   "nbconvert_exporter": "python",
   "pygments_lexer": "ipython3",
   "version": "3.11.5"
  },
  "widgets": {
   "application/vnd.jupyter.widget-state+json": {
    "state": {},
    "version_major": 2,
    "version_minor": 0
   }
  }
 },
 "nbformat": 4,
 "nbformat_minor": 5
}
