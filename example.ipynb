{
 "cells": [
  {
   "cell_type": "markdown",
   "id": "ddfa4066-a86e-478a-a604-ff7bcd8c54a4",
   "metadata": {},
   "source": [
    "# Mercury dashboard example\n",
    "\n",
    "This is an example Mercury dashboard with support for ipywidgets as dashboard controllers.\n",
    "\n",
    "> The next cell install required dependencies"
   ]
  },
  {
   "cell_type": "code",
   "execution_count": null,
   "id": "9b16bbb2-7845-4903-8fc4-8a7d3dfdcf10",
   "metadata": {
    "scrolled": true
   },
   "outputs": [],
   "source": [
    "!pip install ipywidgets matplotlib mercury"
   ]
  },
  {
   "cell_type": "code",
   "execution_count": null,
   "id": "f2791356-7016-4d00-a2d5-df48134ee562",
   "metadata": {},
   "outputs": [],
   "source": [
    "# Import helper to convert ipywidgets.Widget (and derived widgets such as anywidget)\n",
    "# as mercury dashboard controller.\n",
    "from mercury_app.decorator import as_controller"
   ]
  },
  {
   "cell_type": "code",
   "execution_count": null,
   "id": "9bf18e3d-87ee-4047-9fc6-338d479677a0",
   "metadata": {},
   "outputs": [],
   "source": [
    "import ipywidgets"
   ]
  },
  {
   "cell_type": "code",
   "execution_count": null,
   "id": "1ea92633-8153-4505-8874-b89c6a0b2386",
   "metadata": {},
   "outputs": [],
   "source": [
    "# This widget is not mark as controller. Therefore changing its value\n",
    "# in the dashboard won't execute all cells below it.\n",
    "i = ipywidgets.IntSlider()\n",
    "i"
   ]
  },
  {
   "cell_type": "code",
   "execution_count": null,
   "id": "a2bd7095-99cb-4a9f-9207-06903e9d5a07",
   "metadata": {},
   "outputs": [],
   "source": [
    "# This widget is marked as controller. Therefore changing its value\n",
    "# in the dashboard will execute all cells below it.\n",
    "text = as_controller(ipywidgets.Text())\n",
    "text"
   ]
  },
  {
   "cell_type": "code",
   "execution_count": null,
   "id": "8b3d3d12-c13d-400d-a834-595d5e816437",
   "metadata": {},
   "outputs": [],
   "source": [
    "text.value"
   ]
  },
  {
   "cell_type": "code",
   "execution_count": null,
   "id": "dbeaa650-6927-40d5-9e76-3f22aae77fb1",
   "metadata": {},
   "outputs": [],
   "source": [
    "# All mercury widgets are dashboard controllers. Therefore changing its\n",
    "# value will execute all cells below it.\n",
    "# As it appears after the `text` widget, when changing the text `value`,\n",
    "# this controller will be reset to the default value _blue_.\n",
    "import mercury as mr\n",
    "my_selection = mr.Select(value = \"blue\", choices = [\"blue\", \"red\", \"green\"], label = \"Select color\")"
   ]
  },
  {
   "cell_type": "code",
   "execution_count": null,
   "id": "56290880",
   "metadata": {},
   "outputs": [],
   "source": [
    "# This widget is not mark as controller. Therefore changing its value\n",
    "# in the dashboard won't execute all cells below it.\n",
    "# Moreover its value in the graph will always be one, as changing on\n",
    "# of the controller above will always reset it to its default value.\n",
    "j = ipywidgets.IntSlider(1)\n",
    "j"
   ]
  },
  {
   "cell_type": "code",
   "execution_count": null,
   "id": "5f41665a-50ed-402b-9c28-9ad737c1001c",
   "metadata": {},
   "outputs": [],
   "source": [
    "from matplotlib import pyplot as plt"
   ]
  },
  {
   "cell_type": "code",
   "execution_count": null,
   "id": "bd46c95d-4f36-44d2-9876-e2ddf2d7bcc0",
   "metadata": {},
   "outputs": [],
   "source": [
    "_ = plt.plot([j.value, i.value, j.value] * len(text.value), color=my_selection.value)"
   ]
  },
  {
   "cell_type": "code",
   "execution_count": null,
   "id": "fb05db78-29d3-4432-aec5-70e8f97547fa",
   "metadata": {},
   "outputs": [],
   "source": []
  }
 ],
 "metadata": {
  "kernelspec": {
   "display_name": "Python 3 (ipykernel)",
   "language": "python",
   "name": "python3"
  },
  "language_info": {
   "codemirror_mode": {
    "name": "ipython",
    "version": 3
   },
   "file_extension": ".py",
   "mimetype": "text/x-python",
   "name": "python",
   "nbconvert_exporter": "python",
   "pygments_lexer": "ipython3",
   "version": "3.12.7"
  },
  "widgets": {
   "application/vnd.jupyter.widget-state+json": {
    "state": {},
    "version_major": 2,
    "version_minor": 0
   }
  }
 },
 "nbformat": 4,
 "nbformat_minor": 5
}
