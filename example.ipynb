{
 "cells": [
  {
   "cell_type": "markdown",
   "id": "ddfa4066-a86e-478a-a604-ff7bcd8c54a4",
   "metadata": {},
   "source": [
    "# Mercury dashboard example\n",
    "\n",
    "This is an example Mercury dashboard with support for ipywidgets as dashboard controllers.\n",
    "\n",
    "> The next cell install required dependencies"
   ]
  },
  {
   "cell_type": "code",
   "execution_count": 1,
   "id": "f2791356-7016-4d00-a2d5-df48134ee562",
   "metadata": {},
   "outputs": [
    {
     "ename": "ModuleNotFoundError",
     "evalue": "No module named 'toml'",
     "output_type": "error",
     "traceback": [
      "\u001b[0;31m---------------------------------------------------------------------------\u001b[0m",
      "\u001b[0;31mModuleNotFoundError\u001b[0m                       Traceback (most recent call last)",
      "Cell \u001b[0;32mIn[1], line 3\u001b[0m\n\u001b[1;32m      1\u001b[0m \u001b[38;5;66;03m# Import helper to convert ipywidgets.Widget (and derived widgets such as anywidget)\u001b[39;00m\n\u001b[1;32m      2\u001b[0m \u001b[38;5;66;03m# as mercury dashboard controller.\u001b[39;00m\n\u001b[0;32m----> 3\u001b[0m \u001b[38;5;28;01mfrom\u001b[39;00m \u001b[38;5;21;01mmercury_app\u001b[39;00m\u001b[38;5;21;01m.\u001b[39;00m\u001b[38;5;21;01mdecorator\u001b[39;00m \u001b[38;5;28;01mimport\u001b[39;00m as_controller\n\u001b[1;32m      4\u001b[0m \u001b[38;5;28;01mimport\u001b[39;00m \u001b[38;5;21;01mmercury\u001b[39;00m \u001b[38;5;28;01mas\u001b[39;00m \u001b[38;5;21;01mmr\u001b[39;00m\n",
      "File \u001b[0;32m~/sandbox/mercury-extension/mercury_app/__init__.py:1\u001b[0m\n\u001b[0;32m----> 1\u001b[0m \u001b[38;5;28;01mfrom\u001b[39;00m \u001b[38;5;21;01m.\u001b[39;00m\u001b[38;5;21;01mapp\u001b[39;00m \u001b[38;5;28;01mimport\u001b[39;00m MercuryApp\n\u001b[1;32m      2\u001b[0m \u001b[38;5;28;01mfrom\u001b[39;00m \u001b[38;5;21;01m.\u001b[39;00m\u001b[38;5;21;01mserverextension\u001b[39;00m \u001b[38;5;28;01mimport\u001b[39;00m _load_jupyter_server_extension\n\u001b[1;32m      4\u001b[0m \u001b[38;5;28;01mtry\u001b[39;00m:\n",
      "File \u001b[0;32m~/sandbox/mercury-extension/mercury_app/app.py:21\u001b[0m\n\u001b[1;32m     18\u001b[0m \u001b[38;5;28;01mfrom\u001b[39;00m \u001b[38;5;21;01mjupyterlab\u001b[39;00m\u001b[38;5;21;01m.\u001b[39;00m\u001b[38;5;21;01mcommands\u001b[39;00m \u001b[38;5;28;01mimport\u001b[39;00m get_app_dir, get_user_settings_dir, get_workspaces_dir\n\u001b[1;32m     20\u001b[0m \u001b[38;5;28;01mfrom\u001b[39;00m \u001b[38;5;21;01m.\u001b[39;00m\u001b[38;5;21;01m_version\u001b[39;00m \u001b[38;5;28;01mimport\u001b[39;00m __version__\n\u001b[0;32m---> 21\u001b[0m \u001b[38;5;28;01mfrom\u001b[39;00m \u001b[38;5;21;01m.\u001b[39;00m\u001b[38;5;21;01mhandlers\u001b[39;00m \u001b[38;5;28;01mimport\u001b[39;00m MercuryHandler\n\u001b[1;32m     22\u001b[0m \u001b[38;5;28;01mfrom\u001b[39;00m \u001b[38;5;21;01m.\u001b[39;00m\u001b[38;5;21;01mtheme_handler\u001b[39;00m \u001b[38;5;28;01mimport\u001b[39;00m ThemeHandler\n\u001b[1;32m     23\u001b[0m \u001b[38;5;28;01mfrom\u001b[39;00m \u001b[38;5;21;01m.\u001b[39;00m\u001b[38;5;21;01mcustom_contents_handler\u001b[39;00m \u001b[38;5;28;01mimport\u001b[39;00m MercuryContentsHandler\n",
      "File \u001b[0;32m~/sandbox/mercury-extension/mercury_app/handlers.py:14\u001b[0m\n\u001b[1;32m     11\u001b[0m \u001b[38;5;28;01mfrom\u001b[39;00m \u001b[38;5;21;01m.\u001b[39;00m\u001b[38;5;21;01m_version\u001b[39;00m \u001b[38;5;28;01mimport\u001b[39;00m __version__\n\u001b[1;32m     12\u001b[0m version \u001b[38;5;241m=\u001b[39m __version__\n\u001b[0;32m---> 14\u001b[0m \u001b[38;5;28;01mimport\u001b[39;00m \u001b[38;5;21;01mtoml\u001b[39;00m\n\u001b[1;32m     15\u001b[0m \u001b[38;5;28;01mfrom\u001b[39;00m \u001b[38;5;21;01mpathlib\u001b[39;00m \u001b[38;5;28;01mimport\u001b[39;00m Path\n\u001b[1;32m     17\u001b[0m \u001b[38;5;28;01mdef\u001b[39;00m \u001b[38;5;21mload_theme\u001b[39m(config_path\u001b[38;5;241m=\u001b[39m\u001b[38;5;124m\"\u001b[39m\u001b[38;5;124mconfig.toml\u001b[39m\u001b[38;5;124m\"\u001b[39m):\n",
      "\u001b[0;31mModuleNotFoundError\u001b[0m: No module named 'toml'"
     ]
    }
   ],
   "source": [
    "# Import helper to convert ipywidgets.Widget (and derived widgets such as anywidget)\n",
    "# as mercury dashboard controller.\n",
    "from mercury_app.decorator import as_controller\n",
    "import mercury as mr"
   ]
  },
  {
   "cell_type": "code",
   "execution_count": null,
   "id": "f68cfe0e-b6a2-4ce3-aabb-07358b8ee05b",
   "metadata": {},
   "outputs": [],
   "source": [
    "!pip install "
   ]
  },
  {
   "cell_type": "code",
   "execution_count": 2,
   "id": "b2c83478-ff0f-4bc6-994e-18db82fbdfc9",
   "metadata": {},
   "outputs": [
    {
     "ename": "NameError",
     "evalue": "name 'mr' is not defined",
     "output_type": "error",
     "traceback": [
      "\u001b[0;31m---------------------------------------------------------------------------\u001b[0m",
      "\u001b[0;31mNameError\u001b[0m                                 Traceback (most recent call last)",
      "Cell \u001b[0;32mIn[2], line 2\u001b[0m\n\u001b[1;32m      1\u001b[0m \u001b[38;5;28;01mfor\u001b[39;00m i \u001b[38;5;129;01min\u001b[39;00m [\u001b[38;5;124m\"\u001b[39m\u001b[38;5;124ma\u001b[39m\u001b[38;5;124m\"\u001b[39m, \u001b[38;5;124m\"\u001b[39m\u001b[38;5;124mb\u001b[39m\u001b[38;5;124m\"\u001b[39m]:\n\u001b[0;32m----> 2\u001b[0m     s1 \u001b[38;5;241m=\u001b[39m \u001b[43mmr\u001b[49m\u001b[38;5;241m.\u001b[39mText(label\u001b[38;5;241m=\u001b[39m\u001b[38;5;124m\"\u001b[39m\u001b[38;5;124mS1\u001b[39m\u001b[38;5;124m\"\u001b[39m \u001b[38;5;241m+\u001b[39m i)\n",
      "\u001b[0;31mNameError\u001b[0m: name 'mr' is not defined"
     ]
    }
   ],
   "source": [
    "for i in [\"a\", \"b\"]:\n",
    "    s1 = mr.Text(label=\"S1\" + i)\n"
   ]
  },
  {
   "cell_type": "code",
   "execution_count": null,
   "id": "1d2abbc0-7ee5-4e6b-b98a-2ba46e5106b5",
   "metadata": {},
   "outputs": [],
   "source": []
  },
  {
   "cell_type": "code",
   "execution_count": 2,
   "id": "2dc44288-bcf8-4341-9abd-9ceea1503066",
   "metadata": {},
   "outputs": [],
   "source": []
  },
  {
   "cell_type": "code",
   "execution_count": 3,
   "id": "9bf18e3d-87ee-4047-9fc6-338d479677a0",
   "metadata": {},
   "outputs": [],
   "source": [
    "import ipywidgets"
   ]
  },
  {
   "cell_type": "code",
   "execution_count": 4,
   "id": "36798d46-6113-4d04-ac40-e686cf7e12d0",
   "metadata": {},
   "outputs": [
    {
     "data": {
      "application/vnd.jupyter.widget-view+json": {
       "model_id": "905839146cc44896b19cda2f11cec9da",
       "version_major": 2,
       "version_minor": 0
      },
      "text/plain": [
       "Text(value='', description='hello')"
      ]
     },
     "execution_count": 4,
     "metadata": {},
     "output_type": "execute_result"
    }
   ],
   "source": [
    "import ipywidgets as widgets\n",
    "from IPython.display import display, HTML\n",
    "\n",
    "\n",
    "# Create Text widget and assign the custom CSS class\n",
    "t = widgets.Text(description=\"hello\")\n",
    "t"
   ]
  },
  {
   "cell_type": "code",
   "execution_count": 5,
   "id": "c5113bbd-09df-4f05-937a-f7de2c2da83d",
   "metadata": {},
   "outputs": [
    {
     "data": {
      "application/vnd.jupyter.widget-view+json": {
       "model_id": "15d9822397594c4da1401ef0827f5e59",
       "version_major": 2,
       "version_minor": 0
      },
      "text/plain": [
       "Text(value='', description='hello')"
      ]
     },
     "execution_count": 5,
     "metadata": {},
     "output_type": "execute_result"
    }
   ],
   "source": [
    "t"
   ]
  },
  {
   "cell_type": "code",
   "execution_count": 5,
   "id": "2c0cfa01-3376-4949-9e62-d1b5ee46b0df",
   "metadata": {},
   "outputs": [],
   "source": []
  },
  {
   "cell_type": "code",
   "execution_count": 6,
   "id": "164891c3-1b90-4942-8a9b-fcc8d3d145da",
   "metadata": {},
   "outputs": [],
   "source": [
    "o1 = ipywidgets.Output()"
   ]
  },
  {
   "cell_type": "code",
   "execution_count": 7,
   "id": "b1d8945d-3c06-4014-b23d-8d477e3135b9",
   "metadata": {},
   "outputs": [
    {
     "data": {
      "application/vnd.jupyter.widget-view+json": {
       "model_id": "f5791a277b624915872020680d4b4b7c",
       "version_major": 2,
       "version_minor": 0
      },
      "text/plain": [
       "Output()"
      ]
     },
     "execution_count": 7,
     "metadata": {},
     "output_type": "execute_result"
    }
   ],
   "source": [
    "o1"
   ]
  },
  {
   "cell_type": "code",
   "execution_count": 8,
   "id": "b3ffacc6-0801-4239-b6e2-a04eda2ff774",
   "metadata": {},
   "outputs": [
    {
     "ename": "IndentationError",
     "evalue": "expected an indented block after 'for' statement on line 2 (1770594577.py, line 3)",
     "output_type": "error",
     "traceback": [
      "\u001b[0;36m  Cell \u001b[0;32mIn[52], line 3\u001b[0;36m\u001b[0m\n\u001b[0;31m    print(\"Button clicked! \" + l)\u001b[0m\n\u001b[0m    ^\u001b[0m\n\u001b[0;31mIndentationError\u001b[0m\u001b[0;31m:\u001b[0m expected an indented block after 'for' statement on line 2\n"
     ]
    }
   ],
   "source": [
    "with o1:\n",
    "    for l in s1.value:\n",
    "        print(\"Button clicked! \" + l)"
   ]
  },
  {
   "cell_type": "code",
   "execution_count": 9,
   "id": "583812e8-465f-444c-ab2b-e85ece955ec2",
   "metadata": {},
   "outputs": [
    {
     "data": {
      "application/vnd.jupyter.widget-view+json": {
       "model_id": "5b49e151317c416392742b3dbf34f9da",
       "version_major": 2,
       "version_minor": 0
      },
      "text/plain": [
       "Text(value='', description='Name:', layout=Layout(align_items='flex-start', display='flex', flex_flow='column'…"
      ]
     },
     "metadata": {},
     "output_type": "display_data"
    }
   ],
   "source": [
    "import ipywidgets as widgets\n",
    "from IPython.display import display\n",
    "\n",
    "text = widgets.Text(\n",
    "    description=\"Name:\",\n",
    "    layout=widgets.Layout(display='flex', flex_flow='column', align_items='flex-start')\n",
    ")\n",
    "display(text)\n"
   ]
  },
  {
   "cell_type": "code",
   "execution_count": 9,
   "id": "02c803fb-96d0-4127-85bd-589426e3022e",
   "metadata": {},
   "outputs": [],
   "source": []
  },
  {
   "cell_type": "code",
   "execution_count": 10,
   "id": "1ea92633-8153-4505-8874-b89c6a0b2386",
   "metadata": {},
   "outputs": [
    {
     "data": {
      "application/vnd.jupyter.widget-view+json": {
       "model_id": "e234de666fc84f8a81706357dd48886a",
       "version_major": 2,
       "version_minor": 0
      },
      "text/plain": [
       "IntSlider(value=0)"
      ]
     },
     "execution_count": 10,
     "metadata": {},
     "output_type": "execute_result"
    }
   ],
   "source": [
    "# This widget is not mark as controller. Therefore changing its value\n",
    "# in the dashboard won't execute all cells below it.\n",
    "i = ipywidgets.IntSlider()\n",
    "i"
   ]
  },
  {
   "cell_type": "code",
   "execution_count": 11,
   "id": "a2bd7095-99cb-4a9f-9207-06903e9d5a07",
   "metadata": {},
   "outputs": [
    {
     "data": {
      "application/mercury+json": "{\"widget\": \"Text\", \"model_id\": \"784bc863443b4b17bbdf4db188df4356\"}",
      "application/vnd.jupyter.widget-view+json": {
       "model_id": "784bc863443b4b17bbdf4db188df4356",
       "version_major": 2,
       "version_minor": 0
      },
      "text/plain": [
       "Text(value='')"
      ]
     },
     "execution_count": 11,
     "metadata": {},
     "output_type": "execute_result"
    }
   ],
   "source": [
    "# This widget is marked as controller. Therefore changing its value\n",
    "# in the dashboard will execute all cells below it.\n",
    "text = as_controller(ipywidgets.Text())\n",
    "text"
   ]
  },
  {
   "cell_type": "code",
   "execution_count": 12,
   "id": "8b3d3d12-c13d-400d-a834-595d5e816437",
   "metadata": {},
   "outputs": [
    {
     "data": {
      "text/plain": [
       "''"
      ]
     },
     "execution_count": 12,
     "metadata": {},
     "output_type": "execute_result"
    }
   ],
   "source": [
    "text.value"
   ]
  },
  {
   "cell_type": "code",
   "execution_count": 13,
   "id": "c6d60b5e-4478-4821-9f01-1fb7c5ee601e",
   "metadata": {},
   "outputs": [],
   "source": [
    "from ipywidgets import interact, interactive, fixed, interact_manual\n",
    "import ipywidgets as widgets"
   ]
  },
  {
   "cell_type": "code",
   "execution_count": 14,
   "id": "76dc1a1a-2129-4c36-8229-256c57730f57",
   "metadata": {},
   "outputs": [],
   "source": [
    "def f(x):\n",
    "    print(x)\n",
    "    return x"
   ]
  },
  {
   "cell_type": "code",
   "execution_count": 15,
   "id": "d7cd7fba-50c6-4236-add0-ce83b73eeeb6",
   "metadata": {},
   "outputs": [
    {
     "data": {
      "application/vnd.jupyter.widget-view+json": {
       "model_id": "c3ff090497cd4739b47b225724325beb",
       "version_major": 2,
       "version_minor": 0
      },
      "text/plain": [
       "interactive(children=(IntSlider(value=10, description='x', max=30, min=-10), Output()), _dom_classes=('widget-…"
      ]
     },
     "metadata": {},
     "output_type": "display_data"
    },
    {
     "data": {
      "text/plain": [
       "<function __main__.f(x)>"
      ]
     },
     "execution_count": 15,
     "metadata": {},
     "output_type": "execute_result"
    }
   ],
   "source": [
    "interact(f, x=10)"
   ]
  },
  {
   "cell_type": "markdown",
   "id": "8f006a2e-a462-42eb-9e01-ce7fe5527d4c",
   "metadata": {},
   "source": [
    "# mardkown\n",
    "it is here"
   ]
  },
  {
   "cell_type": "code",
   "execution_count": 16,
   "id": "3e13aed1-99c6-4639-809a-4be09e5a7357",
   "metadata": {},
   "outputs": [],
   "source": [
    "letters = [\"small\", \"capital\"]\n",
    "example_letters = {\n",
    "    \"small\": [\"a\", \"b\", \"c\", \"d\"],\n",
    "    \"capital\": [\"A\", \"B\", \"C\", \"D\"]\n",
    "}"
   ]
  },
  {
   "cell_type": "code",
   "execution_count": 17,
   "id": "55a97537-1917-46d5-9b21-c7d1a04329b8",
   "metadata": {},
   "outputs": [
    {
     "data": {
      "application/mercury+json": "{\n    \"widget\": \"Select\",\n    \"value\": \"small\",\n    \"choices\": [\n        \"small\",\n        \"capital\"\n    ],\n    \"label\": \"Small or capital?\",\n    \"model_id\": \"544809f04ed845a789f4b791cb216127\",\n    \"code_uid\": \"Select.0.50.104.1-rand43bbc21e\",\n    \"url_key\": \"\",\n    \"disabled\": false,\n    \"hidden\": false\n}",
      "application/vnd.jupyter.widget-view+json": {
       "model_id": "544809f04ed845a789f4b791cb216127",
       "version_major": 2,
       "version_minor": 0
      },
      "text/plain": [
       "mercury.Select"
      ]
     },
     "metadata": {},
     "output_type": "display_data"
    }
   ],
   "source": [
    "size = mr.Select(value=\"small\", choices=letters, label=\"Small or capital?\")"
   ]
  },
  {
   "cell_type": "code",
   "execution_count": 18,
   "id": "80dcf5a1-edc0-4d1d-8bfe-f22e3758a4a8",
   "metadata": {},
   "outputs": [
    {
     "data": {
      "application/mercury+json": "{\n    \"widget\": \"Select\",\n    \"value\": \"a\",\n    \"choices\": [\n        \"a\",\n        \"b\",\n        \"c\",\n        \"d\"\n    ],\n    \"label\": \"Select letter\",\n    \"model_id\": \"0c88f7a0114d4bf492c842447d65fae9\",\n    \"code_uid\": \"Select.0.50.104.1-rand4b98dc65\",\n    \"url_key\": \"\",\n    \"disabled\": false,\n    \"hidden\": false\n}",
      "application/vnd.jupyter.widget-view+json": {
       "model_id": "0c88f7a0114d4bf492c842447d65fae9",
       "version_major": 2,
       "version_minor": 0
      },
      "text/plain": [
       "mercury.Select"
      ]
     },
     "metadata": {},
     "output_type": "display_data"
    }
   ],
   "source": [
    "example = mr.Select(value=example_letters[size.value][0], \n",
    "                    choices=example_letters[size.value], \n",
    "                    label=\"Select letter\")"
   ]
  },
  {
   "cell_type": "code",
   "execution_count": 19,
   "id": "e6791bf0-44cf-4406-af86-9db32d68d9e0",
   "metadata": {},
   "outputs": [
    {
     "data": {
      "application/mercury+json": "{\n    \"widget\": \"Text\",\n    \"value\": \"text\",\n    \"sanitize\": true,\n    \"rows\": 1,\n    \"label\": \"ABC\",\n    \"model_id\": \"3be3b1180b304c66909a341ada2173e9\",\n    \"code_uid\": \"Text.0.50.78.2-randdabc878e\",\n    \"url_key\": \"\",\n    \"disabled\": false,\n    \"hidden\": false\n}",
      "application/vnd.jupyter.widget-view+json": {
       "model_id": "3be3b1180b304c66909a341ada2173e9",
       "version_major": 2,
       "version_minor": 0
      },
      "text/plain": [
       "mercury.Text"
      ]
     },
     "metadata": {},
     "output_type": "display_data"
    }
   ],
   "source": [
    "if size.value == \"capital\":\n",
    "    abc = mr.Text(label=\"ABC\")\n",
    "    "
   ]
  },
  {
   "cell_type": "code",
   "execution_count": 20,
   "id": "805b5fc4-1c09-4aa0-a605-4ca5cb405ebf",
   "metadata": {},
   "outputs": [
    {
     "data": {
      "application/mercury+json": "{\n    \"widget\": \"Text\",\n    \"value\": \"text\",\n    \"sanitize\": true,\n    \"rows\": 1,\n    \"label\": \"abc\",\n    \"model_id\": \"3a7cd6e1926a4e90900c799b51cb846e\",\n    \"code_uid\": \"Text.0.50.78.2-randa39af36a\",\n    \"url_key\": \"\",\n    \"disabled\": false,\n    \"hidden\": false\n}",
      "application/vnd.jupyter.widget-view+json": {
       "model_id": "3a7cd6e1926a4e90900c799b51cb846e",
       "version_major": 2,
       "version_minor": 0
      },
      "text/plain": [
       "mercury.Text"
      ]
     },
     "metadata": {},
     "output_type": "display_data"
    }
   ],
   "source": [
    "if size.value == \"small\":\n",
    "    abc2 = mr.Text(label=\"abc\")"
   ]
  },
  {
   "cell_type": "code",
   "execution_count": 21,
   "id": "e4f29096-5a8f-4ebe-ba78-36aae6618fda",
   "metadata": {},
   "outputs": [
    {
     "name": "stdout",
     "output_type": "stream",
     "text": [
      "Example small letter is a\n"
     ]
    }
   ],
   "source": [
    "print(f\"Example {size.value} letter is {example.value}\")"
   ]
  },
  {
   "cell_type": "code",
   "execution_count": 22,
   "id": "dbeaa650-6927-40d5-9e76-3f22aae77fb1",
   "metadata": {},
   "outputs": [
    {
     "data": {
      "application/mercury+json": "{\n    \"widget\": \"Select\",\n    \"value\": \"blue\",\n    \"choices\": [\n        \"blue\",\n        \"red\",\n        \"green\"\n    ],\n    \"label\": \"Select color\",\n    \"model_id\": \"c7ca7bbad6e74ae6a8ed87d6810efcfb\",\n    \"code_uid\": \"Select.0.50.104.6-randa6e8989f\",\n    \"url_key\": \"\",\n    \"disabled\": false,\n    \"hidden\": false\n}",
      "application/vnd.jupyter.widget-view+json": {
       "model_id": "c7ca7bbad6e74ae6a8ed87d6810efcfb",
       "version_major": 2,
       "version_minor": 0
      },
      "text/plain": [
       "mercury.Select"
      ]
     },
     "metadata": {},
     "output_type": "display_data"
    }
   ],
   "source": [
    "# All mercury widgets are dashboard controllers. Therefore changing its\n",
    "# value will execute all cells below it.\n",
    "# As it appears after the `text` widget, when changing the text `value`,\n",
    "# this controller will be reset to the default value _blue_.\n",
    "import mercury as mr\n",
    "my_selection = mr.Select(value = \"blue\", choices = [\"blue\", \"red\", \"green\"], label = \"Select color\")"
   ]
  },
  {
   "cell_type": "code",
   "execution_count": 26,
   "id": "56290880",
   "metadata": {},
   "outputs": [
    {
     "data": {
      "application/vnd.jupyter.widget-view+json": {
       "model_id": "aa9968c8537b41959932c37c6888068b",
       "version_major": 2,
       "version_minor": 0
      },
      "text/plain": [
       "IntSlider(value=1)"
      ]
     },
     "execution_count": 26,
     "metadata": {},
     "output_type": "execute_result"
    }
   ],
   "source": [
    "# This widget is not mark as controller. Therefore changing its value\n",
    "# in the dashboard won't execute all cells below it.\n",
    "# Moreover its value in the graph will always be one, as changing on\n",
    "# of the controller above will always reset it to its default value.\n",
    "j = ipywidgets.IntSlider(1)\n",
    "j"
   ]
  },
  {
   "cell_type": "code",
   "execution_count": 27,
   "id": "5f41665a-50ed-402b-9c28-9ad737c1001c",
   "metadata": {},
   "outputs": [],
   "source": [
    "from matplotlib import pyplot as plt"
   ]
  },
  {
   "cell_type": "code",
   "execution_count": 28,
   "id": "bd46c95d-4f36-44d2-9876-e2ddf2d7bcc0",
   "metadata": {},
   "outputs": [
    {
     "data": {
      "image/png": "[encoded data removed]",
      "text/plain": [
       "<Figure size 640x480 with 1 Axes>"
      ]
     },
     "metadata": {},
     "output_type": "display_data"
    }
   ],
   "source": [
    "_ = plt.plot([j.value, i.value, j.value] * len(text.value), color=my_selection.value)"
   ]
  },
  {
   "cell_type": "code",
   "execution_count": 28,
   "id": "fb05db78-29d3-4432-aec5-70e8f97547fa",
   "metadata": {},
   "outputs": [],
   "source": []
  },
  {
   "cell_type": "code",
   "execution_count": 28,
   "id": "95713a70-b1de-4ce1-944b-6848992b4ce7",
   "metadata": {},
   "outputs": [],
   "source": []
  }
 ],
 "metadata": {
  "kernelspec": {
   "display_name": "mercuryvenv",
   "language": "python",
   "name": "mercuryvenv"
  },
  "language_info": {
   "codemirror_mode": {
    "name": "ipython",
    "version": 3
   },
   "file_extension": ".py",
   "mimetype": "text/x-python",
   "name": "python",
   "nbconvert_exporter": "python",
   "pygments_lexer": "ipython3",
   "version": "3.10.12"
  },
  "widgets": {
   "application/vnd.jupyter.widget-state+json": {
    "state": {},
    "version_major": 2,
    "version_minor": 0
   }
  }
 },
 "nbformat": 4,
 "nbformat_minor": 5
}
