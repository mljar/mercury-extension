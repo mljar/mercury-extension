{
 "cells": [
  {
   "cell_type": "markdown",
   "id": "ddfa4066-a86e-478a-a604-ff7bcd8c54a4",
   "metadata": {},
   "source": [
    "# Mercury dashboard example\n",
    "\n",
    "This is an example Mercury dashboard with support for ipywidgets as dashboard controllers."
   ]
  },
  {
   "cell_type": "raw",
   "id": "d18bb38e-f67f-49ea-9f34-25fe5aa90969",
   "metadata": {},
   "source": [
    "The next cell install required dependencies"
   ]
  },
  {
   "cell_type": "code",
   "execution_count": 23,
   "id": "9b16bbb2-7845-4903-8fc4-8a7d3dfdcf10",
   "metadata": {
    "scrolled": true
   },
   "outputs": [
    {
     "name": "stdout",
     "output_type": "stream",
     "text": [
      "Requirement already satisfied: ipywidgets in /home/fcollonval/miniconda3/envs/mercury/lib/python3.12/site-packages (8.0.3)\n",
      "Requirement already satisfied: matplotlib in /home/fcollonval/miniconda3/envs/mercury/lib/python3.12/site-packages (3.9.2)\n",
      "Requirement already satisfied: mercury in /home/fcollonval/miniconda3/envs/mercury/lib/python3.12/site-packages (2.4.3)\n",
      "Requirement already satisfied: ipykernel>=4.5.1 in /home/fcollonval/miniconda3/envs/mercury/lib/python3.12/site-packages (from ipywidgets) (6.29.5)\n",
      "Requirement already satisfied: ipython>=6.1.0 in /home/fcollonval/miniconda3/envs/mercury/lib/python3.12/site-packages (from ipywidgets) (8.28.0)\n",
      "Requirement already satisfied: traitlets>=4.3.1 in /home/fcollonval/miniconda3/envs/mercury/lib/python3.12/site-packages (from ipywidgets) (5.14.3)\n",
      "Requirement already satisfied: widgetsnbextension~=4.0 in /home/fcollonval/miniconda3/envs/mercury/lib/python3.12/site-packages (from ipywidgets) (4.0.13)\n",
      "Requirement already satisfied: jupyterlab-widgets~=3.0 in /home/fcollonval/miniconda3/envs/mercury/lib/python3.12/site-packages (from ipywidgets) (3.0.13)\n",
      "Requirement already satisfied: contourpy>=1.0.1 in /home/fcollonval/miniconda3/envs/mercury/lib/python3.12/site-packages (from matplotlib) (1.3.0)\n",
      "Requirement already satisfied: cycler>=0.10 in /home/fcollonval/miniconda3/envs/mercury/lib/python3.12/site-packages (from matplotlib) (0.12.1)\n",
      "Requirement already satisfied: fonttools>=4.22.0 in /home/fcollonval/miniconda3/envs/mercury/lib/python3.12/site-packages (from matplotlib) (4.54.1)\n",
      "Requirement already satisfied: kiwisolver>=1.3.1 in /home/fcollonval/miniconda3/envs/mercury/lib/python3.12/site-packages (from matplotlib) (1.4.7)\n",
      "Requirement already satisfied: numpy>=1.23 in /home/fcollonval/miniconda3/envs/mercury/lib/python3.12/site-packages (from matplotlib) (2.1.3)\n",
      "Requirement already satisfied: packaging>=20.0 in /home/fcollonval/miniconda3/envs/mercury/lib/python3.12/site-packages (from matplotlib) (24.1)\n",
      "Requirement already satisfied: pillow>=8 in /home/fcollonval/miniconda3/envs/mercury/lib/python3.12/site-packages (from matplotlib) (11.0.0)\n",
      "Requirement already satisfied: pyparsing>=2.3.1 in /home/fcollonval/miniconda3/envs/mercury/lib/python3.12/site-packages (from matplotlib) (3.2.0)\n",
      "Requirement already satisfied: python-dateutil>=2.7 in /home/fcollonval/miniconda3/envs/mercury/lib/python3.12/site-packages (from matplotlib) (2.9.0)\n",
      "Requirement already satisfied: django==4.2.7 in /home/fcollonval/miniconda3/envs/mercury/lib/python3.12/site-packages (from mercury) (4.2.7)\n",
      "Requirement already satisfied: djangorestframework==3.14.0 in /home/fcollonval/miniconda3/envs/mercury/lib/python3.12/site-packages (from mercury) (3.14.0)\n",
      "Requirement already satisfied: django-filter==21.1 in /home/fcollonval/miniconda3/envs/mercury/lib/python3.12/site-packages (from mercury) (21.1)\n",
      "Requirement already satisfied: markdown==3.3.6 in /home/fcollonval/miniconda3/envs/mercury/lib/python3.12/site-packages (from mercury) (3.3.6)\n",
      "Requirement already satisfied: celery>=5.1.2 in /home/fcollonval/miniconda3/envs/mercury/lib/python3.12/site-packages (from mercury) (5.4.0)\n",
      "Requirement already satisfied: sqlalchemy==1.4.27 in /home/fcollonval/miniconda3/envs/mercury/lib/python3.12/site-packages (from mercury) (1.4.27)\n",
      "Requirement already satisfied: gevent in /home/fcollonval/miniconda3/envs/mercury/lib/python3.12/site-packages (from mercury) (24.11.1)\n",
      "Requirement already satisfied: nbconvert>=7.8.0 in /home/fcollonval/miniconda3/envs/mercury/lib/python3.12/site-packages (from mercury) (7.16.4)\n",
      "Requirement already satisfied: ipython_genutils in /home/fcollonval/miniconda3/envs/mercury/lib/python3.12/site-packages (from mercury) (0.2.0)\n",
      "Requirement already satisfied: django-cors-headers==3.10.1 in /home/fcollonval/miniconda3/envs/mercury/lib/python3.12/site-packages (from mercury) (3.10.1)\n",
      "Requirement already satisfied: psutil>=5.8.0 in /home/fcollonval/miniconda3/envs/mercury/lib/python3.12/site-packages (from mercury) (6.0.0)\n",
      "Requirement already satisfied: whitenoise>=5.3.0 in /home/fcollonval/miniconda3/envs/mercury/lib/python3.12/site-packages (from mercury) (6.8.2)\n",
      "Requirement already satisfied: python-dotenv>=0.19.2 in /home/fcollonval/miniconda3/envs/mercury/lib/python3.12/site-packages (from mercury) (1.0.1)\n",
      "Requirement already satisfied: django-drf-filepond==0.4.1 in /home/fcollonval/miniconda3/envs/mercury/lib/python3.12/site-packages (from mercury) (0.4.1)\n",
      "Requirement already satisfied: croniter>=1.3.5 in /home/fcollonval/miniconda3/envs/mercury/lib/python3.12/site-packages (from mercury) (5.0.1)\n",
      "Requirement already satisfied: pyppeteer==1.0.2 in /home/fcollonval/miniconda3/envs/mercury/lib/python3.12/site-packages (from mercury) (1.0.2)\n",
      "Requirement already satisfied: channels>=4.0.0 in /home/fcollonval/miniconda3/envs/mercury/lib/python3.12/site-packages (from channels[daphne]>=4.0.0->mercury) (4.2.0)\n",
      "Requirement already satisfied: websocket-client>=1.4.2 in /home/fcollonval/miniconda3/envs/mercury/lib/python3.12/site-packages (from mercury) (1.8.0)\n",
      "Requirement already satisfied: execnb in /home/fcollonval/miniconda3/envs/mercury/lib/python3.12/site-packages (from mercury) (0.1.11)\n",
      "Requirement already satisfied: dj-rest-auth==3.0.0 in /home/fcollonval/miniconda3/envs/mercury/lib/python3.12/site-packages (from dj-rest-auth[with_social]==3.0.0->mercury) (3.0.0)\n",
      "Requirement already satisfied: boto3==1.26.83 in /home/fcollonval/miniconda3/envs/mercury/lib/python3.12/site-packages (from mercury) (1.26.83)\n",
      "Requirement already satisfied: cryptography in /home/fcollonval/miniconda3/envs/mercury/lib/python3.12/site-packages (from mercury) (43.0.3)\n",
      "Requirement already satisfied: pyopenssl>=23.1.1 in /home/fcollonval/miniconda3/envs/mercury/lib/python3.12/site-packages (from mercury) (24.3.0)\n",
      "Requirement already satisfied: bleach>=6.0.0 in /home/fcollonval/miniconda3/envs/mercury/lib/python3.12/site-packages (from mercury) (6.1.0)\n",
      "Requirement already satisfied: itables>=2.0.0 in /home/fcollonval/miniconda3/envs/mercury/lib/python3.12/site-packages (from mercury) (2.2.4)\n",
      "Requirement already satisfied: botocore<1.30.0,>=1.29.83 in /home/fcollonval/miniconda3/envs/mercury/lib/python3.12/site-packages (from boto3==1.26.83->mercury) (1.29.165)\n",
      "Requirement already satisfied: jmespath<2.0.0,>=0.7.1 in /home/fcollonval/miniconda3/envs/mercury/lib/python3.12/site-packages (from boto3==1.26.83->mercury) (1.0.1)\n",
      "Requirement already satisfied: s3transfer<0.7.0,>=0.6.0 in /home/fcollonval/miniconda3/envs/mercury/lib/python3.12/site-packages (from boto3==1.26.83->mercury) (0.6.2)\n",
      "Requirement already satisfied: django-allauth<0.53.0,>=0.40.0 in /home/fcollonval/miniconda3/envs/mercury/lib/python3.12/site-packages (from dj-rest-auth[with_social]==3.0.0->mercury) (0.52.0)\n",
      "Requirement already satisfied: asgiref<4,>=3.6.0 in /home/fcollonval/miniconda3/envs/mercury/lib/python3.12/site-packages (from django==4.2.7->mercury) (3.8.1)\n",
      "Requirement already satisfied: sqlparse>=0.3.1 in /home/fcollonval/miniconda3/envs/mercury/lib/python3.12/site-packages (from django==4.2.7->mercury) (0.5.3)\n",
      "Requirement already satisfied: requests>=2.20.1 in /home/fcollonval/miniconda3/envs/mercury/lib/python3.12/site-packages (from django-drf-filepond==0.4.1->mercury) (2.32.3)\n",
      "Requirement already satisfied: six>=1.14.0 in /home/fcollonval/miniconda3/envs/mercury/lib/python3.12/site-packages (from django-drf-filepond==0.4.1->mercury) (1.16.0)\n",
      "Requirement already satisfied: shortuuid>=0.5.0 in /home/fcollonval/miniconda3/envs/mercury/lib/python3.12/site-packages (from django-drf-filepond==0.4.1->mercury) (1.0.13)\n",
      "Requirement already satisfied: django-storages>=1.9.1 in /home/fcollonval/miniconda3/envs/mercury/lib/python3.12/site-packages (from django-drf-filepond==0.4.1->mercury) (1.14.4)\n",
      "Requirement already satisfied: pytz in /home/fcollonval/miniconda3/envs/mercury/lib/python3.12/site-packages (from djangorestframework==3.14.0->mercury) (2024.2)\n",
      "Requirement already satisfied: appdirs<2.0.0,>=1.4.3 in /home/fcollonval/miniconda3/envs/mercury/lib/python3.12/site-packages (from pyppeteer==1.0.2->mercury) (1.4.4)\n",
      "Requirement already satisfied: certifi>=2021 in /home/fcollonval/miniconda3/envs/mercury/lib/python3.12/site-packages (from pyppeteer==1.0.2->mercury) (2024.8.30)\n",
      "Requirement already satisfied: importlib-metadata>=1.4 in /home/fcollonval/miniconda3/envs/mercury/lib/python3.12/site-packages (from pyppeteer==1.0.2->mercury) (8.5.0)\n",
      "Requirement already satisfied: pyee<9.0.0,>=8.1.0 in /home/fcollonval/miniconda3/envs/mercury/lib/python3.12/site-packages (from pyppeteer==1.0.2->mercury) (8.2.2)\n",
      "Requirement already satisfied: tqdm<5.0.0,>=4.42.1 in /home/fcollonval/miniconda3/envs/mercury/lib/python3.12/site-packages (from pyppeteer==1.0.2->mercury) (4.67.1)\n",
      "Requirement already satisfied: urllib3<2.0.0,>=1.25.8 in /home/fcollonval/miniconda3/envs/mercury/lib/python3.12/site-packages (from pyppeteer==1.0.2->mercury) (1.26.20)\n",
      "Requirement already satisfied: websockets<11.0,>=10.0 in /home/fcollonval/miniconda3/envs/mercury/lib/python3.12/site-packages (from pyppeteer==1.0.2->mercury) (10.4)\n",
      "Requirement already satisfied: greenlet!=0.4.17 in /home/fcollonval/miniconda3/envs/mercury/lib/python3.12/site-packages (from sqlalchemy==1.4.27->mercury) (3.1.1)\n",
      "Requirement already satisfied: webencodings in /home/fcollonval/miniconda3/envs/mercury/lib/python3.12/site-packages (from bleach>=6.0.0->mercury) (0.5.1)\n",
      "Requirement already satisfied: billiard<5.0,>=4.2.0 in /home/fcollonval/miniconda3/envs/mercury/lib/python3.12/site-packages (from celery>=5.1.2->mercury) (4.2.1)\n",
      "Requirement already satisfied: kombu<6.0,>=5.3.4 in /home/fcollonval/miniconda3/envs/mercury/lib/python3.12/site-packages (from celery>=5.1.2->mercury) (5.4.2)\n",
      "Requirement already satisfied: vine<6.0,>=5.1.0 in /home/fcollonval/miniconda3/envs/mercury/lib/python3.12/site-packages (from celery>=5.1.2->mercury) (5.1.0)\n",
      "Requirement already satisfied: click<9.0,>=8.1.2 in /home/fcollonval/miniconda3/envs/mercury/lib/python3.12/site-packages (from celery>=5.1.2->mercury) (8.1.7)\n",
      "Requirement already satisfied: click-didyoumean>=0.3.0 in /home/fcollonval/miniconda3/envs/mercury/lib/python3.12/site-packages (from celery>=5.1.2->mercury) (0.3.1)\n",
      "Requirement already satisfied: click-repl>=0.2.0 in /home/fcollonval/miniconda3/envs/mercury/lib/python3.12/site-packages (from celery>=5.1.2->mercury) (0.3.0)\n",
      "Requirement already satisfied: click-plugins>=1.1.1 in /home/fcollonval/miniconda3/envs/mercury/lib/python3.12/site-packages (from celery>=5.1.2->mercury) (1.1.1)\n",
      "Requirement already satisfied: tzdata>=2022.7 in /home/fcollonval/miniconda3/envs/mercury/lib/python3.12/site-packages (from celery>=5.1.2->mercury) (2024.2)\n",
      "Requirement already satisfied: daphne>=4.0.0 in /home/fcollonval/miniconda3/envs/mercury/lib/python3.12/site-packages (from channels[daphne]>=4.0.0->mercury) (4.1.2)\n",
      "Requirement already satisfied: comm>=0.1.1 in /home/fcollonval/miniconda3/envs/mercury/lib/python3.12/site-packages (from ipykernel>=4.5.1->ipywidgets) (0.2.2)\n",
      "Requirement already satisfied: debugpy>=1.6.5 in /home/fcollonval/miniconda3/envs/mercury/lib/python3.12/site-packages (from ipykernel>=4.5.1->ipywidgets) (1.8.7)\n",
      "Requirement already satisfied: jupyter-client>=6.1.12 in /home/fcollonval/miniconda3/envs/mercury/lib/python3.12/site-packages (from ipykernel>=4.5.1->ipywidgets) (8.6.3)\n",
      "Requirement already satisfied: jupyter-core!=5.0.*,>=4.12 in /home/fcollonval/miniconda3/envs/mercury/lib/python3.12/site-packages (from ipykernel>=4.5.1->ipywidgets) (5.7.2)\n",
      "Requirement already satisfied: matplotlib-inline>=0.1 in /home/fcollonval/miniconda3/envs/mercury/lib/python3.12/site-packages (from ipykernel>=4.5.1->ipywidgets) (0.1.7)\n",
      "Requirement already satisfied: nest-asyncio in /home/fcollonval/miniconda3/envs/mercury/lib/python3.12/site-packages (from ipykernel>=4.5.1->ipywidgets) (1.6.0)\n",
      "Requirement already satisfied: pyzmq>=24 in /home/fcollonval/miniconda3/envs/mercury/lib/python3.12/site-packages (from ipykernel>=4.5.1->ipywidgets) (26.2.0)\n",
      "Requirement already satisfied: tornado>=6.1 in /home/fcollonval/miniconda3/envs/mercury/lib/python3.12/site-packages (from ipykernel>=4.5.1->ipywidgets) (6.4.1)\n",
      "Requirement already satisfied: decorator in /home/fcollonval/miniconda3/envs/mercury/lib/python3.12/site-packages (from ipython>=6.1.0->ipywidgets) (5.1.1)\n",
      "Requirement already satisfied: jedi>=0.16 in /home/fcollonval/miniconda3/envs/mercury/lib/python3.12/site-packages (from ipython>=6.1.0->ipywidgets) (0.19.1)\n",
      "Requirement already satisfied: prompt-toolkit<3.1.0,>=3.0.41 in /home/fcollonval/miniconda3/envs/mercury/lib/python3.12/site-packages (from ipython>=6.1.0->ipywidgets) (3.0.48)\n",
      "Requirement already satisfied: pygments>=2.4.0 in /home/fcollonval/miniconda3/envs/mercury/lib/python3.12/site-packages (from ipython>=6.1.0->ipywidgets) (2.18.0)\n",
      "Requirement already satisfied: stack-data in /home/fcollonval/miniconda3/envs/mercury/lib/python3.12/site-packages (from ipython>=6.1.0->ipywidgets) (0.6.2)\n",
      "Requirement already satisfied: pexpect>4.3 in /home/fcollonval/miniconda3/envs/mercury/lib/python3.12/site-packages (from ipython>=6.1.0->ipywidgets) (4.9.0)\n",
      "Requirement already satisfied: pandas in /home/fcollonval/miniconda3/envs/mercury/lib/python3.12/site-packages (from itables>=2.0.0->mercury) (2.2.3)\n",
      "Requirement already satisfied: beautifulsoup4 in /home/fcollonval/miniconda3/envs/mercury/lib/python3.12/site-packages (from nbconvert>=7.8.0->mercury) (4.12.3)\n",
      "Requirement already satisfied: defusedxml in /home/fcollonval/miniconda3/envs/mercury/lib/python3.12/site-packages (from nbconvert>=7.8.0->mercury) (0.7.1)\n",
      "Requirement already satisfied: jinja2>=3.0 in /home/fcollonval/miniconda3/envs/mercury/lib/python3.12/site-packages (from nbconvert>=7.8.0->mercury) (3.1.4)\n",
      "Requirement already satisfied: jupyterlab-pygments in /home/fcollonval/miniconda3/envs/mercury/lib/python3.12/site-packages (from nbconvert>=7.8.0->mercury) (0.3.0)\n",
      "Requirement already satisfied: markupsafe>=2.0 in /home/fcollonval/miniconda3/envs/mercury/lib/python3.12/site-packages (from nbconvert>=7.8.0->mercury) (3.0.2)\n",
      "Requirement already satisfied: mistune<4,>=2.0.3 in /home/fcollonval/miniconda3/envs/mercury/lib/python3.12/site-packages (from nbconvert>=7.8.0->mercury) (3.0.2)\n",
      "Requirement already satisfied: nbclient>=0.5.0 in /home/fcollonval/miniconda3/envs/mercury/lib/python3.12/site-packages (from nbconvert>=7.8.0->mercury) (0.10.0)\n",
      "Requirement already satisfied: nbformat>=5.7 in /home/fcollonval/miniconda3/envs/mercury/lib/python3.12/site-packages (from nbconvert>=7.8.0->mercury) (5.10.4)\n",
      "Requirement already satisfied: pandocfilters>=1.4.1 in /home/fcollonval/miniconda3/envs/mercury/lib/python3.12/site-packages (from nbconvert>=7.8.0->mercury) (1.5.0)\n",
      "Requirement already satisfied: tinycss2 in /home/fcollonval/miniconda3/envs/mercury/lib/python3.12/site-packages (from nbconvert>=7.8.0->mercury) (1.3.0)\n",
      "Requirement already satisfied: cffi>=1.12 in /home/fcollonval/miniconda3/envs/mercury/lib/python3.12/site-packages (from cryptography->mercury) (1.17.1)\n",
      "Requirement already satisfied: fastcore>=1.5.5 in /home/fcollonval/miniconda3/envs/mercury/lib/python3.12/site-packages (from execnb->mercury) (1.7.27)\n",
      "Requirement already satisfied: zope.event in /home/fcollonval/miniconda3/envs/mercury/lib/python3.12/site-packages (from gevent->mercury) (5.0)\n",
      "Requirement already satisfied: zope.interface in /home/fcollonval/miniconda3/envs/mercury/lib/python3.12/site-packages (from gevent->mercury) (7.2)\n",
      "Requirement already satisfied: pycparser in /home/fcollonval/miniconda3/envs/mercury/lib/python3.12/site-packages (from cffi>=1.12->cryptography->mercury) (2.22)\n",
      "Requirement already satisfied: autobahn>=22.4.2 in /home/fcollonval/miniconda3/envs/mercury/lib/python3.12/site-packages (from daphne>=4.0.0->channels[daphne]>=4.0.0->mercury) (24.4.2)\n",
      "Requirement already satisfied: twisted>=22.4 in /home/fcollonval/miniconda3/envs/mercury/lib/python3.12/site-packages (from twisted[tls]>=22.4->daphne>=4.0.0->channels[daphne]>=4.0.0->mercury) (24.11.0)\n",
      "Requirement already satisfied: python3-openid>=3.0.8 in /home/fcollonval/miniconda3/envs/mercury/lib/python3.12/site-packages (from django-allauth<0.53.0,>=0.40.0->dj-rest-auth[with_social]==3.0.0->mercury) (3.2.0)\n",
      "Requirement already satisfied: requests-oauthlib>=0.3.0 in /home/fcollonval/miniconda3/envs/mercury/lib/python3.12/site-packages (from django-allauth<0.53.0,>=0.40.0->dj-rest-auth[with_social]==3.0.0->mercury) (2.0.0)\n",
      "Requirement already satisfied: pyjwt>=1.7 in /home/fcollonval/miniconda3/envs/mercury/lib/python3.12/site-packages (from pyjwt[crypto]>=1.7->django-allauth<0.53.0,>=0.40.0->dj-rest-auth[with_social]==3.0.0->mercury) (2.10.1)\n",
      "Requirement already satisfied: zipp>=3.20 in /home/fcollonval/miniconda3/envs/mercury/lib/python3.12/site-packages (from importlib-metadata>=1.4->pyppeteer==1.0.2->mercury) (3.20.2)\n",
      "Requirement already satisfied: parso<0.9.0,>=0.8.3 in /home/fcollonval/miniconda3/envs/mercury/lib/python3.12/site-packages (from jedi>=0.16->ipython>=6.1.0->ipywidgets) (0.8.4)\n",
      "Requirement already satisfied: platformdirs>=2.5 in /home/fcollonval/miniconda3/envs/mercury/lib/python3.12/site-packages (from jupyter-core!=5.0.*,>=4.12->ipykernel>=4.5.1->ipywidgets) (4.3.6)\n",
      "Requirement already satisfied: amqp<6.0.0,>=5.1.1 in /home/fcollonval/miniconda3/envs/mercury/lib/python3.12/site-packages (from kombu<6.0,>=5.3.4->celery>=5.1.2->mercury) (5.3.1)\n",
      "Requirement already satisfied: fastjsonschema>=2.15 in /home/fcollonval/miniconda3/envs/mercury/lib/python3.12/site-packages (from nbformat>=5.7->nbconvert>=7.8.0->mercury) (2.20.0)\n",
      "Requirement already satisfied: jsonschema>=2.6 in /home/fcollonval/miniconda3/envs/mercury/lib/python3.12/site-packages (from nbformat>=5.7->nbconvert>=7.8.0->mercury) (4.23.0)\n",
      "Requirement already satisfied: ptyprocess>=0.5 in /home/fcollonval/miniconda3/envs/mercury/lib/python3.12/site-packages (from pexpect>4.3->ipython>=6.1.0->ipywidgets) (0.7.0)\n",
      "Requirement already satisfied: wcwidth in /home/fcollonval/miniconda3/envs/mercury/lib/python3.12/site-packages (from prompt-toolkit<3.1.0,>=3.0.41->ipython>=6.1.0->ipywidgets) (0.2.13)\n",
      "Requirement already satisfied: charset-normalizer<4,>=2 in /home/fcollonval/miniconda3/envs/mercury/lib/python3.12/site-packages (from requests>=2.20.1->django-drf-filepond==0.4.1->mercury) (3.4.0)\n",
      "Requirement already satisfied: idna<4,>=2.5 in /home/fcollonval/miniconda3/envs/mercury/lib/python3.12/site-packages (from requests>=2.20.1->django-drf-filepond==0.4.1->mercury) (3.10)\n",
      "Requirement already satisfied: soupsieve>1.2 in /home/fcollonval/miniconda3/envs/mercury/lib/python3.12/site-packages (from beautifulsoup4->nbconvert>=7.8.0->mercury) (2.5)\n",
      "Requirement already satisfied: executing>=1.2.0 in /home/fcollonval/miniconda3/envs/mercury/lib/python3.12/site-packages (from stack-data->ipython>=6.1.0->ipywidgets) (2.1.0)\n",
      "Requirement already satisfied: asttokens>=2.1.0 in /home/fcollonval/miniconda3/envs/mercury/lib/python3.12/site-packages (from stack-data->ipython>=6.1.0->ipywidgets) (2.4.1)\n",
      "Requirement already satisfied: pure-eval in /home/fcollonval/miniconda3/envs/mercury/lib/python3.12/site-packages (from stack-data->ipython>=6.1.0->ipywidgets) (0.2.3)\n",
      "Requirement already satisfied: setuptools in /home/fcollonval/miniconda3/envs/mercury/lib/python3.12/site-packages (from zope.event->gevent->mercury) (75.1.0)\n",
      "Requirement already satisfied: txaio>=21.2.1 in /home/fcollonval/miniconda3/envs/mercury/lib/python3.12/site-packages (from autobahn>=22.4.2->daphne>=4.0.0->channels[daphne]>=4.0.0->mercury) (23.1.1)\n",
      "Requirement already satisfied: hyperlink>=21.0.0 in /home/fcollonval/miniconda3/envs/mercury/lib/python3.12/site-packages (from autobahn>=22.4.2->daphne>=4.0.0->channels[daphne]>=4.0.0->mercury) (21.0.0)\n",
      "Requirement already satisfied: attrs>=22.2.0 in /home/fcollonval/miniconda3/envs/mercury/lib/python3.12/site-packages (from jsonschema>=2.6->nbformat>=5.7->nbconvert>=7.8.0->mercury) (24.2.0)\n",
      "Requirement already satisfied: jsonschema-specifications>=2023.03.6 in /home/fcollonval/miniconda3/envs/mercury/lib/python3.12/site-packages (from jsonschema>=2.6->nbformat>=5.7->nbconvert>=7.8.0->mercury) (2024.10.1)\n",
      "Requirement already satisfied: referencing>=0.28.4 in /home/fcollonval/miniconda3/envs/mercury/lib/python3.12/site-packages (from jsonschema>=2.6->nbformat>=5.7->nbconvert>=7.8.0->mercury) (0.35.1)\n",
      "Requirement already satisfied: rpds-py>=0.7.1 in /home/fcollonval/miniconda3/envs/mercury/lib/python3.12/site-packages (from jsonschema>=2.6->nbformat>=5.7->nbconvert>=7.8.0->mercury) (0.20.0)\n",
      "Requirement already satisfied: oauthlib>=3.0.0 in /home/fcollonval/miniconda3/envs/mercury/lib/python3.12/site-packages (from requests-oauthlib>=0.3.0->django-allauth<0.53.0,>=0.40.0->dj-rest-auth[with_social]==3.0.0->mercury) (3.2.2)\n",
      "Requirement already satisfied: automat>=24.8.0 in /home/fcollonval/miniconda3/envs/mercury/lib/python3.12/site-packages (from twisted>=22.4->twisted[tls]>=22.4->daphne>=4.0.0->channels[daphne]>=4.0.0->mercury) (24.8.1)\n",
      "Requirement already satisfied: constantly>=15.1 in /home/fcollonval/miniconda3/envs/mercury/lib/python3.12/site-packages (from twisted>=22.4->twisted[tls]>=22.4->daphne>=4.0.0->channels[daphne]>=4.0.0->mercury) (23.10.4)\n",
      "Requirement already satisfied: incremental>=24.7.0 in /home/fcollonval/miniconda3/envs/mercury/lib/python3.12/site-packages (from twisted>=22.4->twisted[tls]>=22.4->daphne>=4.0.0->channels[daphne]>=4.0.0->mercury) (24.7.2)\n",
      "Requirement already satisfied: typing-extensions>=4.2.0 in /home/fcollonval/miniconda3/envs/mercury/lib/python3.12/site-packages (from twisted>=22.4->twisted[tls]>=22.4->daphne>=4.0.0->channels[daphne]>=4.0.0->mercury) (4.12.2)\n",
      "Requirement already satisfied: service-identity>=18.1.0 in /home/fcollonval/miniconda3/envs/mercury/lib/python3.12/site-packages (from twisted[tls]>=22.4->daphne>=4.0.0->channels[daphne]>=4.0.0->mercury) (24.2.0)\n",
      "Requirement already satisfied: pyasn1 in /home/fcollonval/miniconda3/envs/mercury/lib/python3.12/site-packages (from service-identity>=18.1.0->twisted[tls]>=22.4->daphne>=4.0.0->channels[daphne]>=4.0.0->mercury) (0.6.1)\n",
      "Requirement already satisfied: pyasn1-modules in /home/fcollonval/miniconda3/envs/mercury/lib/python3.12/site-packages (from service-identity>=18.1.0->twisted[tls]>=22.4->daphne>=4.0.0->channels[daphne]>=4.0.0->mercury) (0.4.1)\n"
     ]
    }
   ],
   "source": [
    "!pip install ipywidgets matplotlib mercury"
   ]
  },
  {
   "cell_type": "code",
   "execution_count": 24,
   "id": "f2791356-7016-4d00-a2d5-df48134ee562",
   "metadata": {},
   "outputs": [],
   "source": [
    "from mercury_app.decorator import as_controller"
   ]
  },
  {
   "cell_type": "code",
   "execution_count": 25,
   "id": "9bf18e3d-87ee-4047-9fc6-338d479677a0",
   "metadata": {},
   "outputs": [],
   "source": [
    "import ipywidgets"
   ]
  },
  {
   "cell_type": "code",
   "execution_count": 26,
   "id": "1ea92633-8153-4505-8874-b89c6a0b2386",
   "metadata": {},
   "outputs": [
    {
     "data": {
      "application/vnd.jupyter.widget-view+json": {
       "model_id": "3afb2aae043b4064baf4f63c1c8280fa",
       "version_major": 2,
       "version_minor": 0
      },
      "text/plain": [
       "IntSlider(value=0)"
      ]
     },
     "execution_count": 26,
     "metadata": {},
     "output_type": "execute_result"
    }
   ],
   "source": [
    "i = ipywidgets.IntSlider()\n",
    "i"
   ]
  },
  {
   "cell_type": "code",
   "execution_count": 27,
   "id": "a2bd7095-99cb-4a9f-9207-06903e9d5a07",
   "metadata": {},
   "outputs": [],
   "source": [
    "text = ipywidgets.Text()"
   ]
  },
  {
   "cell_type": "code",
   "execution_count": 28,
   "id": "640e4cd3-a34a-4b7a-bf24-3dcb35f74832",
   "metadata": {},
   "outputs": [
    {
     "data": {
      "application/mercury+json": "{\"widget\": \"Text\", \"model_id\": \"f66d39fe2e47472c8b057c2eb84d3a46\"}",
      "application/vnd.jupyter.widget-view+json": {
       "model_id": "f66d39fe2e47472c8b057c2eb84d3a46",
       "version_major": 2,
       "version_minor": 0
      },
      "text/plain": [
       "Text(value='')"
      ]
     },
     "execution_count": 28,
     "metadata": {},
     "output_type": "execute_result"
    }
   ],
   "source": [
    "as_controller(text)"
   ]
  },
  {
   "cell_type": "code",
   "execution_count": 29,
   "id": "8b3d3d12-c13d-400d-a834-595d5e816437",
   "metadata": {},
   "outputs": [
    {
     "data": {
      "text/plain": [
       "''"
      ]
     },
     "execution_count": 29,
     "metadata": {},
     "output_type": "execute_result"
    }
   ],
   "source": [
    "text.value"
   ]
  },
  {
   "cell_type": "code",
   "execution_count": 30,
   "id": "dbeaa650-6927-40d5-9e76-3f22aae77fb1",
   "metadata": {},
   "outputs": [
    {
     "data": {
      "application/mercury+json": "{\n    \"widget\": \"Select\",\n    \"value\": \"blue\",\n    \"choices\": [\n        \"blue\",\n        \"red\",\n        \"green\"\n    ],\n    \"label\": \"Select color\",\n    \"model_id\": \"b87485c2c7cc4353b0126d56d51a7582\",\n    \"code_uid\": \"Select.0.50.104.2-rand4fded9c2\",\n    \"url_key\": \"\",\n    \"disabled\": false,\n    \"hidden\": false\n}",
      "application/vnd.jupyter.widget-view+json": {
       "model_id": "b87485c2c7cc4353b0126d56d51a7582",
       "version_major": 2,
       "version_minor": 0
      },
      "text/plain": [
       "mercury.Select"
      ]
     },
     "metadata": {},
     "output_type": "display_data"
    }
   ],
   "source": [
    "import mercury as mr\n",
    "my_selection = mr.Select(value = \"blue\", choices = [\"blue\", \"red\", \"green\"], label = \"Select color\")"
   ]
  },
  {
   "cell_type": "code",
   "execution_count": 31,
   "id": "56290880",
   "metadata": {},
   "outputs": [
    {
     "data": {
      "application/vnd.jupyter.widget-view+json": {
       "model_id": "6e034a516133409098d5499178830db1",
       "version_major": 2,
       "version_minor": 0
      },
      "text/plain": [
       "IntSlider(value=1)"
      ]
     },
     "execution_count": 31,
     "metadata": {},
     "output_type": "execute_result"
    }
   ],
   "source": [
    "j = ipywidgets.IntSlider(1)\n",
    "j"
   ]
  },
  {
   "cell_type": "code",
   "execution_count": 32,
   "id": "5f41665a-50ed-402b-9c28-9ad737c1001c",
   "metadata": {},
   "outputs": [],
   "source": [
    "from matplotlib import pyplot as plt"
   ]
  },
  {
   "cell_type": "code",
   "execution_count": 33,
   "id": "bd46c95d-4f36-44d2-9876-e2ddf2d7bcc0",
   "metadata": {},
   "outputs": [
    {
     "data": {
      "image/png": "[encoded data removed]",
      "text/plain": [
       "<Figure size 640x480 with 1 Axes>"
      ]
     },
     "metadata": {},
     "output_type": "display_data"
    }
   ],
   "source": [
    "_ = plt.plot([j.value, i.value, j.value] * len(text.value), color=my_selection.value)"
   ]
  },
  {
   "cell_type": "code",
   "execution_count": 33,
   "id": "fb05db78-29d3-4432-aec5-70e8f97547fa",
   "metadata": {},
   "outputs": [],
   "source": []
  }
 ],
 "metadata": {
  "kernelspec": {
   "display_name": "Python 3 (ipykernel)",
   "language": "python",
   "name": "python3"
  },
  "language_info": {
   "codemirror_mode": {
    "name": "ipython",
    "version": 3
   },
   "file_extension": ".py",
   "mimetype": "text/x-python",
   "name": "python",
   "nbconvert_exporter": "python",
   "pygments_lexer": "ipython3",
   "version": "3.12.7"
  },
  "widgets": {
   "application/vnd.jupyter.widget-state+json": {
    "state": {
     "08902b1de45940cc939b979a507ddddd": {
      "model_module": "@jupyter-widgets/controls",
      "model_module_version": "2.0.0",
      "model_name": "DescriptionStyleModel",
      "state": {
       "description_width": "initial"
      }
     },
     "0d0c3d5c3ead4f4081562aefce670c1f": {
      "model_module": "@jupyter-widgets/controls",
      "model_module_version": "2.0.0",
      "model_name": "IntSliderModel",
      "state": {
       "behavior": "drag-tap",
       "layout": "IPY_MODEL_de8ef849a1114c14a0d59c3bae318eee",
       "style": "IPY_MODEL_7d8270e61e624d4a8d8974e296c3d5df"
      }
     },
     "199a495fe8434e6d94424e12d0bb0069": {
      "model_module": "@jupyter-widgets/controls",
      "model_module_version": "2.0.0",
      "model_name": "DescriptionStyleModel",
      "state": {
       "description_width": "initial"
      }
     },
     "19ce38d563bb45f5a0630be6e6ca8835": {
      "model_module": "@jupyter-widgets/controls",
      "model_module_version": "2.0.0",
      "model_name": "SliderStyleModel",
      "state": {
       "description_width": ""
      }
     },
     "37694afac4e34945b0fcfacb8886a7f1": {
      "model_module": "@jupyter-widgets/controls",
      "model_module_version": "2.0.0",
      "model_name": "SliderStyleModel",
      "state": {
       "description_width": ""
      }
     },
     "384289fce6ae437797651b8dc5511ac2": {
      "model_module": "@jupyter-widgets/controls",
      "model_module_version": "2.0.0",
      "model_name": "TextStyleModel",
      "state": {
       "description_width": "",
       "font_size": null,
       "text_color": null
      }
     },
     "38d3129858e14f11bc16e1a3c3442e93": {
      "model_module": "@jupyter-widgets/base",
      "model_module_version": "2.0.0",
      "model_name": "LayoutModel",
      "state": {}
     },
     "3afb2aae043b4064baf4f63c1c8280fa": {
      "model_module": "@jupyter-widgets/controls",
      "model_module_version": "2.0.0",
      "model_name": "IntSliderModel",
      "state": {
       "behavior": "drag-tap",
       "layout": "IPY_MODEL_7d9479c793ab477183fbd8a7003ab687",
       "style": "IPY_MODEL_ebe849623d464ccea6a6d6ca74ffbe7e"
      }
     },
     "569bdf3a14374cc9b26df5acaed5a5af": {
      "model_module": "@jupyter-widgets/controls",
      "model_module_version": "2.0.0",
      "model_name": "DropdownModel",
      "state": {
       "_options_labels": [
        "blue",
        "red",
        "green"
       ],
       "description": "Select color",
       "index": 0,
       "layout": "IPY_MODEL_9460d4e40065461eac22a38fc88b5533",
       "style": "IPY_MODEL_9bfdfe8213a4472f9b1ba1fa06b44afd"
      }
     },
     "6e034a516133409098d5499178830db1": {
      "model_module": "@jupyter-widgets/controls",
      "model_module_version": "2.0.0",
      "model_name": "IntSliderModel",
      "state": {
       "behavior": "drag-tap",
       "layout": "IPY_MODEL_38d3129858e14f11bc16e1a3c3442e93",
       "style": "IPY_MODEL_a35cd617a13f4e29ab5cf28152e4f05c",
       "value": 1
      }
     },
     "74b373d1013946838bb269cad391d81c": {
      "model_module": "@jupyter-widgets/controls",
      "model_module_version": "2.0.0",
      "model_name": "TextStyleModel",
      "state": {
       "description_width": "",
       "font_size": null,
       "text_color": null
      }
     },
     "7d8270e61e624d4a8d8974e296c3d5df": {
      "model_module": "@jupyter-widgets/controls",
      "model_module_version": "2.0.0",
      "model_name": "SliderStyleModel",
      "state": {
       "description_width": ""
      }
     },
     "7d9479c793ab477183fbd8a7003ab687": {
      "model_module": "@jupyter-widgets/base",
      "model_module_version": "2.0.0",
      "model_name": "LayoutModel",
      "state": {}
     },
     "8140a9a334ef4c478bccdea9a9f6c484": {
      "model_module": "@jupyter-widgets/controls",
      "model_module_version": "2.0.0",
      "model_name": "SliderStyleModel",
      "state": {
       "description_width": ""
      }
     },
     "9048315ece6d4e42bc7eacada4fbcf2d": {
      "model_module": "@jupyter-widgets/controls",
      "model_module_version": "2.0.0",
      "model_name": "TextModel",
      "state": {
       "layout": "IPY_MODEL_9434d603cca04bc6938c0d14ca11cb4b",
       "style": "IPY_MODEL_384289fce6ae437797651b8dc5511ac2"
      }
     },
     "9434d603cca04bc6938c0d14ca11cb4b": {
      "model_module": "@jupyter-widgets/base",
      "model_module_version": "2.0.0",
      "model_name": "LayoutModel",
      "state": {}
     },
     "9460d4e40065461eac22a38fc88b5533": {
      "model_module": "@jupyter-widgets/base",
      "model_module_version": "2.0.0",
      "model_name": "LayoutModel",
      "state": {}
     },
     "9781054bbb014920841d5259eb33165b": {
      "model_module": "@jupyter-widgets/controls",
      "model_module_version": "2.0.0",
      "model_name": "DropdownModel",
      "state": {
       "_options_labels": [
        "blue",
        "red",
        "green"
       ],
       "description": "Select color",
       "index": 0,
       "layout": "IPY_MODEL_cecd87076fb142aab05ad4b97aa33a66",
       "style": "IPY_MODEL_08902b1de45940cc939b979a507ddddd"
      }
     },
     "9bfdfe8213a4472f9b1ba1fa06b44afd": {
      "model_module": "@jupyter-widgets/controls",
      "model_module_version": "2.0.0",
      "model_name": "DescriptionStyleModel",
      "state": {
       "description_width": "initial"
      }
     },
     "9e6aca48344944beba062dfdd9a9fdac": {
      "model_module": "@jupyter-widgets/base",
      "model_module_version": "2.0.0",
      "model_name": "LayoutModel",
      "state": {}
     },
     "9f04c8aedf774b44a18d5a264ac8916e": {
      "model_module": "@jupyter-widgets/base",
      "model_module_version": "2.0.0",
      "model_name": "LayoutModel",
      "state": {}
     },
     "a35cd617a13f4e29ab5cf28152e4f05c": {
      "model_module": "@jupyter-widgets/controls",
      "model_module_version": "2.0.0",
      "model_name": "SliderStyleModel",
      "state": {
       "description_width": ""
      }
     },
     "b4625cbab4a34466ac8aa08e19339bb3": {
      "model_module": "@jupyter-widgets/base",
      "model_module_version": "2.0.0",
      "model_name": "LayoutModel",
      "state": {}
     },
     "b87485c2c7cc4353b0126d56d51a7582": {
      "model_module": "@jupyter-widgets/controls",
      "model_module_version": "2.0.0",
      "model_name": "DropdownModel",
      "state": {
       "_options_labels": [
        "blue",
        "red",
        "green"
       ],
       "description": "Select color",
       "index": 0,
       "layout": "IPY_MODEL_eac7c706a9df49ef91133afd16cfb96d",
       "style": "IPY_MODEL_199a495fe8434e6d94424e12d0bb0069"
      }
     },
     "be97bb2b443f418bb61a867c0a1ab270": {
      "model_module": "@jupyter-widgets/controls",
      "model_module_version": "2.0.0",
      "model_name": "TextModel",
      "state": {
       "layout": "IPY_MODEL_9f04c8aedf774b44a18d5a264ac8916e",
       "style": "IPY_MODEL_74b373d1013946838bb269cad391d81c"
      }
     },
     "beb2bb67e9eb4a28920524902d0b0ed4": {
      "model_module": "@jupyter-widgets/controls",
      "model_module_version": "2.0.0",
      "model_name": "IntSliderModel",
      "state": {
       "behavior": "drag-tap",
       "layout": "IPY_MODEL_d0f85442bd04473b9485146df5b8698d",
       "style": "IPY_MODEL_19ce38d563bb45f5a0630be6e6ca8835",
       "value": 1
      }
     },
     "c8b522666cf14217857159144b4c5892": {
      "model_module": "@jupyter-widgets/controls",
      "model_module_version": "2.0.0",
      "model_name": "IntSliderModel",
      "state": {
       "behavior": "drag-tap",
       "layout": "IPY_MODEL_fcbf64fd8af74ba2b5c845795187fb08",
       "style": "IPY_MODEL_37694afac4e34945b0fcfacb8886a7f1"
      }
     },
     "cb6eb02678f94187aab4a933aed366b6": {
      "model_module": "@jupyter-widgets/controls",
      "model_module_version": "2.0.0",
      "model_name": "IntSliderModel",
      "state": {
       "behavior": "drag-tap",
       "layout": "IPY_MODEL_9e6aca48344944beba062dfdd9a9fdac",
       "style": "IPY_MODEL_8140a9a334ef4c478bccdea9a9f6c484",
       "value": 1
      }
     },
     "cecd87076fb142aab05ad4b97aa33a66": {
      "model_module": "@jupyter-widgets/base",
      "model_module_version": "2.0.0",
      "model_name": "LayoutModel",
      "state": {}
     },
     "d0f85442bd04473b9485146df5b8698d": {
      "model_module": "@jupyter-widgets/base",
      "model_module_version": "2.0.0",
      "model_name": "LayoutModel",
      "state": {}
     },
     "d6d851fac8634878a82fd2aa765f1a71": {
      "model_module": "@jupyter-widgets/controls",
      "model_module_version": "2.0.0",
      "model_name": "TextStyleModel",
      "state": {
       "description_width": "",
       "font_size": null,
       "text_color": null
      }
     },
     "de8ef849a1114c14a0d59c3bae318eee": {
      "model_module": "@jupyter-widgets/base",
      "model_module_version": "2.0.0",
      "model_name": "LayoutModel",
      "state": {}
     },
     "eac7c706a9df49ef91133afd16cfb96d": {
      "model_module": "@jupyter-widgets/base",
      "model_module_version": "2.0.0",
      "model_name": "LayoutModel",
      "state": {}
     },
     "ebe849623d464ccea6a6d6ca74ffbe7e": {
      "model_module": "@jupyter-widgets/controls",
      "model_module_version": "2.0.0",
      "model_name": "SliderStyleModel",
      "state": {
       "description_width": ""
      }
     },
     "f66d39fe2e47472c8b057c2eb84d3a46": {
      "model_module": "@jupyter-widgets/controls",
      "model_module_version": "2.0.0",
      "model_name": "TextModel",
      "state": {
       "layout": "IPY_MODEL_b4625cbab4a34466ac8aa08e19339bb3",
       "style": "IPY_MODEL_d6d851fac8634878a82fd2aa765f1a71"
      }
     },
     "fcbf64fd8af74ba2b5c845795187fb08": {
      "model_module": "@jupyter-widgets/base",
      "model_module_version": "2.0.0",
      "model_name": "LayoutModel",
      "state": {}
     }
    },
    "version_major": 2,
    "version_minor": 0
   }
  }
 },
 "nbformat": 4,
 "nbformat_minor": 5
}
