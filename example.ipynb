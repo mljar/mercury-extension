{
 "cells": [
  {
   "cell_type": "code",
   "execution_count": 51,
   "id": "90d25b45-571d-4fb4-b4f3-008c92e7c795",
   "metadata": {},
   "outputs": [],
   "source": [
    "from ipylab import JupyterFrontEnd\n",
    "app = JupyterFrontEnd()"
   ]
  },
  {
   "cell_type": "code",
   "execution_count": 52,
   "id": "31bc532b-3e88-4a0c-bfde-d4b1ec233031",
   "metadata": {},
   "outputs": [],
   "source": [
    "def handle_change(change):\n",
    "    app.commands.execute(\"@mljar/mercury-execute-below\")"
   ]
  },
  {
   "cell_type": "code",
   "execution_count": 53,
   "id": "ee7e4709-368d-45e2-be8a-da66011f7b36",
   "metadata": {},
   "outputs": [],
   "source": [
    "app.commands.execute(\"@mljar/mercury-execute-below\")"
   ]
  },
  {
   "cell_type": "code",
   "execution_count": 54,
   "id": "9bf18e3d-87ee-4047-9fc6-338d479677a0",
   "metadata": {},
   "outputs": [],
   "source": [
    "import ipywidgets"
   ]
  },
  {
   "cell_type": "code",
   "execution_count": 55,
   "id": "69e835c6-e6ba-40a4-a841-4530fd38b6d8",
   "metadata": {},
   "outputs": [],
   "source": [
    "class MyWidget(ipywidgets.Text):\n",
    "    def __init__(self, *args, **kwargs):\n",
    "        super().__init__(*args, **kwargs)\n",
    "        self.observe(handle_change, names=\"value\")"
   ]
  },
  {
   "cell_type": "code",
   "execution_count": 56,
   "id": "a2bd7095-99cb-4a9f-9207-06903e9d5a07",
   "metadata": {},
   "outputs": [],
   "source": [
    "text = MyWidget()"
   ]
  },
  {
   "cell_type": "code",
   "execution_count": 57,
   "id": "640e4cd3-a34a-4b7a-bf24-3dcb35f74832",
   "metadata": {},
   "outputs": [],
   "source": [
    "text"
   ]
  },
  {
   "cell_type": "code",
   "execution_count": 58,
   "id": "8b3d3d12-c13d-400d-a834-595d5e816437",
   "metadata": {},
   "outputs": [],
   "source": [
    "text.value"
   ]
  },
  {
   "cell_type": "code",
   "execution_count": 59,
   "id": "5f41665a-50ed-402b-9c28-9ad737c1001c",
   "metadata": {},
   "outputs": [],
   "source": [
    "from matplotlib import pyplot as plt"
   ]
  },
  {
   "cell_type": "code",
   "execution_count": 60,
   "id": "bd46c95d-4f36-44d2-9876-e2ddf2d7bcc0",
   "metadata": {},
   "outputs": [],
   "source": [
    "_ = plt.plot([1,2,1]*len(text.value))"
   ]
  },
  {
   "cell_type": "code",
   "execution_count": 60,
   "id": "1ea92633-8153-4505-8874-b89c6a0b2386",
   "metadata": {},
   "outputs": [],
   "source": []
  }
 ],
 "metadata": {
  "kernelspec": {
   "display_name": "Python 3 (ipykernel)",
   "language": "python",
   "name": "python3"
  },
  "language_info": {
   "codemirror_mode": {
    "name": "ipython",
    "version": 3
   },
   "file_extension": ".py",
   "mimetype": "text/x-python",
   "name": "python",
   "nbconvert_exporter": "python",
   "pygments_lexer": "ipython3",
   "version": "3.11.5"
  },
  "widgets": {
   "application/vnd.jupyter.widget-state+json": {
    "state": {
     "11d5267108264cada1cd626e682ab444": {
      "model_module": "@jupyter-widgets/base",
      "model_module_version": "2.0.0",
      "model_name": "LayoutModel",
      "state": {}
     },
     "3a632afd62d942e9a3c5b97936cd8728": {
      "model_module": "@jupyter-widgets/base",
      "model_module_version": "2.0.0",
      "model_name": "LayoutModel",
      "state": {}
     },
     "71ce6628a2594d799265cabe3257f23c": {
      "model_module": "@jupyter-widgets/base",
      "model_module_version": "2.0.0",
      "model_name": "LayoutModel",
      "state": {}
     },
     "81cba576a39e4323b80ac591118d0964": {
      "model_module": "@jupyter-widgets/base",
      "model_module_version": "2.0.0",
      "model_name": "LayoutModel",
      "state": {}
     },
     "82b4ff90b94b428dbf4a366629f47654": {
      "model_module": "@jupyter-widgets/base",
      "model_module_version": "2.0.0",
      "model_name": "LayoutModel",
      "state": {}
     },
     "8dc9856f04964f13bea14a200eb66d3d": {
      "model_module": "@jupyter-widgets/base",
      "model_module_version": "2.0.0",
      "model_name": "LayoutModel",
      "state": {}
     },
     "8f1235441397445daa8a45751edd9c90": {
      "model_module": "@jupyter-widgets/base",
      "model_module_version": "2.0.0",
      "model_name": "LayoutModel",
      "state": {}
     },
     "9c949521ee824d5691dc12509371a3fb": {
      "model_module": "@jupyter-widgets/base",
      "model_module_version": "2.0.0",
      "model_name": "LayoutModel",
      "state": {}
     },
     "b76b78e3520e4f2fa624234daafae83c": {
      "model_module": "@jupyter-widgets/base",
      "model_module_version": "2.0.0",
      "model_name": "LayoutModel",
      "state": {}
     },
     "d45b11afadc6434cbc9ab7e4ebe7f83d": {
      "model_module": "@jupyter-widgets/base",
      "model_module_version": "2.0.0",
      "model_name": "LayoutModel",
      "state": {}
     },
     "d7b1b4aa9cfd405b86526e4cadf0265f": {
      "model_module": "@jupyter-widgets/base",
      "model_module_version": "2.0.0",
      "model_name": "LayoutModel",
      "state": {}
     },
     "dab54a6c0fad496b9bc1665a980c2976": {
      "model_module": "@jupyter-widgets/base",
      "model_module_version": "2.0.0",
      "model_name": "LayoutModel",
      "state": {}
     },
     "dfbe79f02a9146ff950efa6774fdb9d9": {
      "model_module": "@jupyter-widgets/base",
      "model_module_version": "2.0.0",
      "model_name": "LayoutModel",
      "state": {}
     },
     "e3a20a1efbff4e909895de43b40dac19": {
      "model_module": "@jupyter-widgets/base",
      "model_module_version": "2.0.0",
      "model_name": "LayoutModel",
      "state": {}
     },
     "f0c45a57c3284eb3a6bd2096de996b46": {
      "model_module": "@jupyter-widgets/base",
      "model_module_version": "2.0.0",
      "model_name": "LayoutModel",
      "state": {}
     },
     "f66a85c1c4c942c9bfd7db98efc3904a": {
      "model_module": "@jupyter-widgets/base",
      "model_module_version": "2.0.0",
      "model_name": "LayoutModel",
      "state": {}
     },
     "fad3a189a536482ebb66159fe3ff7862": {
      "model_module": "@jupyter-widgets/base",
      "model_module_version": "2.0.0",
      "model_name": "LayoutModel",
      "state": {}
     }
    },
    "version_major": 2,
    "version_minor": 0
   }
  }
 },
 "nbformat": 4,
 "nbformat_minor": 5
}
