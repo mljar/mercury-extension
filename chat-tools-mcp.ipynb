{
 "cells": [
  {
   "cell_type": "code",
   "execution_count": null,
   "id": "7d676203-040d-40d6-9548-68617e27f6ef",
   "metadata": {},
   "outputs": [],
   "source": [
    "from dotenv import load_dotenv\n",
    "import os\n",
    "from openai import OpenAI, AuthenticationError"
   ]
  },
  {
   "cell_type": "code",
   "execution_count": null,
   "id": "a23fa127-4714-4182-a85b-0bb204ce5919",
   "metadata": {},
   "outputs": [],
   "source": [
    "load_dotenv()"
   ]
  },
  {
   "cell_type": "code",
   "execution_count": null,
   "id": "d886bc80-00ce-450b-a52b-b587676dad9e",
   "metadata": {},
   "outputs": [],
   "source": [
    "api_key = os.environ[\"OPENAI_KEY\"]\n",
    "\n",
    "def create_client(api_key):\n",
    "    try:\n",
    "        client = OpenAI(api_key=api_key)\n",
    "        client.models.list()\n",
    "        return client\n",
    "    except AuthenticationError:\n",
    "        print(\"Incorrect API\")\n",
    "    return None\n",
    "\n",
    "client = create_client(api_key)"
   ]
  },
  {
   "cell_type": "code",
   "execution_count": null,
   "id": "d6e0627a-7204-4d51-a744-5dac166efc4b",
   "metadata": {},
   "outputs": [],
   "source": [
    "def agent(prompt, context=[]):\n",
    "    # łączymy historię konwersacji z nowym promptem\n",
    "    messages = context + [{\"role\": \"user\", \"content\": prompt}]\n",
    "\n",
    "    # wywołanie z MCP narzędziem DeepWiki\n",
    "    response = client.responses.create(\n",
    "        model=\"gpt-5\",\n",
    "        tools=[\n",
    "            {\n",
    "                \"type\": \"mcp\",\n",
    "                \"server_label\": \"deepwiki\",\n",
    "                \"server_description\": \"A MCP server that allows access to structured wiki-like knowledge.\",\n",
    "                \"server_url\": \"https://mcp.deepwiki.com/mcp\",\n",
    "                \"require_approval\": {\n",
    "                    \"never\": {\n",
    "                        \"tool_names\": [\"ask_question\", \"read_wiki_structure\"]\n",
    "                    }\n",
    "                }\n",
    "            }\n",
    "        ],\n",
    "        input=prompt\n",
    "    )\n",
    "\n",
    "    # wynik tekstowy\n",
    "    return response.output_text"
   ]
  },
  {
   "cell_type": "code",
   "execution_count": null,
   "id": "1c0fe210-62a1-483f-b82c-d0e0d1c26f8b",
   "metadata": {},
   "outputs": [],
   "source": [
    "history = []\n",
    "\n",
    "print(\"💬 MCP DeepWiki agent (type 'exit' to quit)\\n\")\n",
    "\n",
    "while True:\n",
    "    user_input = input(\"You: \")\n",
    "    if user_input.lower() in [\"exit\", \"quit\"]:\n",
    "        break\n",
    "\n",
    "    reply = agent(user_input, history)\n",
    "    print(\"Agent:\", reply)\n",
    "\n",
    "    history.append({\"role\": \"user\", \"content\": user_input})\n",
    "    history.append({\"role\": \"assistant\", \"content\": reply})"
   ]
  }
 ],
 "metadata": {
  "kernelspec": {
   "display_name": "mercuryvenv",
   "language": "python",
   "name": "mercuryvenv"
  },
  "language_info": {
   "codemirror_mode": {
    "name": "ipython",
    "version": 3
   },
   "file_extension": ".py",
   "mimetype": "text/x-python",
   "name": "python",
   "nbconvert_exporter": "python",
   "pygments_lexer": "ipython3",
   "version": "3.10.12"
  }
 },
 "nbformat": 4,
 "nbformat_minor": 5
}
