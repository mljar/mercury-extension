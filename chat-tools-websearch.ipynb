{
 "cells": [
  {
   "cell_type": "code",
   "execution_count": null,
   "id": "568421f4-1917-425b-a8b9-9723036bb58f",
   "metadata": {},
   "outputs": [],
   "source": [
    "from dotenv import load_dotenv\n",
    "import os\n",
    "from openai import OpenAI, AuthenticationError"
   ]
  },
  {
   "cell_type": "code",
   "execution_count": null,
   "id": "54505141-7d0b-4a33-88fc-5ec043bc9ba1",
   "metadata": {},
   "outputs": [],
   "source": [
    "load_dotenv()"
   ]
  },
  {
   "cell_type": "code",
   "execution_count": null,
   "id": "dfee830c-2416-4e72-838a-75520eb0e2c1",
   "metadata": {},
   "outputs": [],
   "source": [
    "api_key = os.environ[\"OPENAI_KEY\"]\n",
    "\n",
    "def create_client(api_key):\n",
    "    try:\n",
    "        client = OpenAI(api_key=api_key)\n",
    "        client.models.list()\n",
    "        return client\n",
    "    except AuthenticationError:\n",
    "        print(\"Incorrect API\")\n",
    "    return None\n",
    "\n",
    "client = create_client(api_key)"
   ]
  },
  {
   "cell_type": "code",
   "execution_count": null,
   "id": "97cdeebf-8b6a-40d5-a2a8-4bd65f2d456c",
   "metadata": {},
   "outputs": [],
   "source": [
    "def agent(prompt, context=[]):\n",
    "    messages = context + [{\"role\": \"user\", \"content\": prompt}]\n",
    "\n",
    "    response = client.responses.create(\n",
    "        model=\"gpt-5\",\n",
    "        tools=[{\"type\": \"web_search\"}],\n",
    "        input=messages\n",
    "    )\n",
    "\n",
    "    answer = response.output_text\n",
    "    return answer"
   ]
  },
  {
   "cell_type": "code",
   "execution_count": null,
   "id": "66d63f85-4bea-47e9-b485-56b22e5675c2",
   "metadata": {},
   "outputs": [],
   "source": [
    "while True:\n",
    "    user_input = input(\"You: \")\n",
    "    if user_input.lower() in [\"exit\", \"quit\"]:\n",
    "        print(\"👋 Bye!\")\n",
    "        break\n",
    "\n",
    "    reply = agent(user_input, history)\n",
    "    print(\"Agent:\", reply, \"\\n\")\n",
    "\n",
    "    history.append({\"role\": \"user\", \"content\": user_input})\n",
    "    history.append({\"role\": \"assistant\", \"content\": reply})\n"
   ]
  },
  {
   "cell_type": "code",
   "execution_count": null,
   "id": "7649cd07-d30d-4288-87fc-c6a5685a6d5a",
   "metadata": {},
   "outputs": [],
   "source": []
  }
 ],
 "metadata": {
  "kernelspec": {
   "display_name": "mercuryvenv",
   "language": "python",
   "name": "mercuryvenv"
  },
  "language_info": {
   "codemirror_mode": {
    "name": "ipython",
    "version": 3
   },
   "file_extension": ".py",
   "mimetype": "text/x-python",
   "name": "python",
   "nbconvert_exporter": "python",
   "pygments_lexer": "ipython3",
   "version": "3.10.12"
  }
 },
 "nbformat": 4,
 "nbformat_minor": 5
}
