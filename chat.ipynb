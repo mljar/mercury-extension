{
 "cells": [
  {
   "cell_type": "code",
   "execution_count": null,
   "id": "ec1a47df-3b61-49a2-a7bb-4139c2b6ccc3",
   "metadata": {},
   "outputs": [],
   "source": [
    "from widgets.chat.message import ChatMessage\n",
    "from widgets.chat.display import ChatDisplay"
   ]
  },
  {
   "cell_type": "markdown",
   "id": "49b97b09-808a-44fa-823f-da70e9d4a805",
   "metadata": {},
   "source": [
    "sdfasdfasdf"
   ]
  },
  {
   "cell_type": "code",
   "execution_count": null,
   "id": "1fecb4f6-e5d3-4ef1-a55d-0b456a36b98b",
   "metadata": {},
   "outputs": [],
   "source": [
    "ChatMessage(role=\"user\", emoji=\"👤\")"
   ]
  },
  {
   "cell_type": "code",
   "execution_count": null,
   "id": "367d6a92-cd88-43c9-a8ed-f10ce70e7f50",
   "metadata": {},
   "outputs": [],
   "source": [
    "chat = ChatDisplay()"
   ]
  },
  {
   "cell_type": "code",
   "execution_count": null,
   "id": "dc6f7bf2-b7e5-405e-ab4a-7da74098b43a",
   "metadata": {},
   "outputs": [],
   "source": [
    "# User message (right)\n",
    "msg1 = ChatMessage(role=\"user\", emoji=\"👤\")\n",
    "msg1.set_message(text=\"Hello, world!\")\n",
    "chat.add(msg1)\n",
    "# AI message (left)\n",
    "msg2 = ChatMessage(role=\"ai\", emoji=\"🤖\")\n",
    "# msg2.set_message(text=\"<b>Hi there!</b> How can I help?\")\n",
    "chat.add(msg2)\n"
   ]
  },
  {
   "cell_type": "code",
   "execution_count": null,
   "id": "2745db99-3899-4591-a160-16bf52e95d61",
   "metadata": {},
   "outputs": [],
   "source": [
    "with msg2:\n",
    "    print('test')"
   ]
  },
  {
   "cell_type": "code",
   "execution_count": null,
   "id": "74645091-d12c-4fbf-9ed9-cf42031a4ec5",
   "metadata": {},
   "outputs": [],
   "source": [
    "from IPython.display import display, Markdown as md\n",
    "\n",
    "\n",
    "def Markdown(text=\"hello\"):\n",
    "    display(md(text))"
   ]
  },
  {
   "cell_type": "code",
   "execution_count": null,
   "id": "b3affb69-99be-420f-8a36-b6202f824b54",
   "metadata": {},
   "outputs": [],
   "source": [
    "with msg2:\n",
    "    Markdown('some tests sdafgasdf asd test')"
   ]
  },
  {
   "cell_type": "code",
   "execution_count": null,
   "id": "02821255-6cac-47ca-a9bb-f642f6948a8e",
   "metadata": {},
   "outputs": [],
   "source": []
  },
  {
   "cell_type": "code",
   "execution_count": null,
   "id": "f1d9a6a9-dc9d-40e0-903a-21b16a280c86",
   "metadata": {},
   "outputs": [],
   "source": [
    "from widgets.text import TextInput"
   ]
  },
  {
   "cell_type": "code",
   "execution_count": null,
   "id": "756d8fd6-88d4-402c-8f32-bc6ac83bd1e5",
   "metadata": {},
   "outputs": [],
   "source": [
    "t = TextInput()"
   ]
  },
  {
   "cell_type": "code",
   "execution_count": null,
   "id": "d3127854-4fc0-4cbc-8b97-4ce812d5b7d8",
   "metadata": {},
   "outputs": [],
   "source": [
    "t.value"
   ]
  },
  {
   "cell_type": "code",
   "execution_count": null,
   "id": "b590b5f1-a79a-4928-9ed8-0f5c670c889d",
   "metadata": {},
   "outputs": [],
   "source": [
    "with msg2:\n",
    "    print(t.value)"
   ]
  },
  {
   "cell_type": "code",
   "execution_count": null,
   "id": "d78c5a29-1c02-4497-821d-104a76b379f4",
   "metadata": {},
   "outputs": [],
   "source": []
  },
  {
   "cell_type": "code",
   "execution_count": null,
   "id": "e0c4017b-3e6e-43b1-8e50-dca5a941259a",
   "metadata": {},
   "outputs": [],
   "source": [
    "import ipywidgets as widgets\n",
    "from IPython.display import display\n",
    "\n",
    "class ChatInput(widgets.HBox):\n",
    "    def __init__(self, placeholder=\"Type a message...\", button_icon=\"➤\"):\n",
    "        super().__init__()\n",
    "        \n",
    "        # Input box\n",
    "        self.text = widgets.Text(\n",
    "            placeholder=placeholder,\n",
    "            layout=widgets.Layout(\n",
    "                flex=\"1 1 auto\",\n",
    "                width=\"auto\"\n",
    "            )\n",
    "        )\n",
    "        \n",
    "        # Send button\n",
    "        self.button = widgets.Button(\n",
    "            description=button_icon,\n",
    "            layout=widgets.Layout(\n",
    "                width=\"40px\",\n",
    "                height=\"32px\",\n",
    "                margin=\"0 0 0 6px\",\n",
    "                align_self=\"center\"\n",
    "            )\n",
    "        )\n",
    "        self.button.style.button_color = \"#0084ff\"\n",
    "        self.button.style.font_weight = \"bold\"\n",
    "        self.button.style.font_size = \"14px\"\n",
    "\n",
    "        self.children = [self.text, self.button]\n",
    "        self.on_submit_callback = None\n",
    "\n",
    "        # Button click\n",
    "        self.button.on_click(self._handle_submit)\n",
    "\n",
    "        # Enter key (observe value change + check if Enter pressed)\n",
    "        self.text.observe(self._on_enter, names=\"value\")\n",
    "\n",
    "    def _on_enter(self, change):\n",
    "        # This only triggers after pressing Enter in ipywidgets.Text\n",
    "        if self.text.value.strip().endswith(\"\\n\"):\n",
    "            msg = self.text.value.strip()\n",
    "            self.text.value = \"\"  # clear immediately\n",
    "            if self.on_submit_callback and msg:\n",
    "                self.on_submit_callback(msg)\n",
    "\n",
    "    def _handle_submit(self, _):\n",
    "        msg = self.text.value.strip()\n",
    "        if self.on_submit_callback and msg:\n",
    "            self.on_submit_callback(msg)\n",
    "            self.text.value = \"\"  # clear after send\n",
    "\n",
    "    def on_submit(self, callback):\n",
    "        \"\"\"Register a callback(msg: str).\"\"\"\n",
    "        self.on_submit_callback = callback\n",
    "\n",
    "\n",
    "# Example usage\n",
    "chat_display = ChatDisplay()\n",
    "chat_input = ChatInput()\n",
    "\n",
    "def handle_message(msg):\n",
    "    user_msg = ChatMessage(role=\"user\", emoji=\"👤\")\n",
    "    user_msg.set_message(text=msg)\n",
    "    chat_display.add(user_msg)\n",
    "\n",
    "    bot_msg = ChatMessage(role=\"assistant\", emoji=\"🤖\")\n",
    "    bot_msg.set_message(text=f\"Echo: {msg}\")\n",
    "    chat_display.add(bot_msg)\n",
    "\n",
    "chat_input.on_submit(handle_message)\n",
    "\n",
    "display(chat_input)\n"
   ]
  }
 ],
 "metadata": {
  "kernelspec": {
   "display_name": "Python 3 (ipykernel)",
   "language": "python",
   "name": "python3"
  },
  "language_info": {
   "codemirror_mode": {
    "name": "ipython",
    "version": 3
   },
   "file_extension": ".py",
   "mimetype": "text/x-python",
   "name": "python",
   "nbconvert_exporter": "python",
   "pygments_lexer": "ipython3",
   "version": "3.10.12"
  },
  "widgets": {
   "application/vnd.jupyter.widget-state+json": {
    "state": {
     "0095c6896763404fbd99ec909eb74e02": {
      "model_module": "@jupyter-widgets/base",
      "model_module_version": "2.0.0",
      "model_name": "LayoutModel",
      "state": {
       "flex": "1 1 auto",
       "width": "auto"
      }
     },
     "00e5dd43a2944a37bd26cf4a5b06422f": {
      "model_module": "@jupyter-widgets/controls",
      "model_module_version": "2.0.0",
      "model_name": "TextModel",
      "state": {
       "layout": "IPY_MODEL_132cf5e9486945d2b0752e19a5346a2c",
       "placeholder": "Type a message...",
       "style": "IPY_MODEL_ad1185367b01431db1e95f3f07e356f5"
      }
     },
     "01a6b543d15547b3b2ce32545a09b863": {
      "model_module": "@jupyter-widgets/base",
      "model_module_version": "2.0.0",
      "model_name": "LayoutModel",
      "state": {
       "padding": "4px 4px",
       "width": "100%"
      }
     },
     "01add2a9527b446d97240a9699247c84": {
      "model_module": "@jupyter-widgets/base",
      "model_module_version": "2.0.0",
      "model_name": "LayoutModel",
      "state": {
       "align_self": "center",
       "height": "32px",
       "margin": "0 0 0 6px",
       "width": "40px"
      }
     },
     "025542348eaf42388cfb847894d54fb2": {
      "model_module": "@jupyter-widgets/controls",
      "model_module_version": "2.0.0",
      "model_name": "ButtonStyleModel",
      "state": {
       "button_color": "#0084ff",
       "font_family": null,
       "font_size": "14px",
       "font_style": null,
       "font_variant": null,
       "font_weight": "bold",
       "text_color": null,
       "text_decoration": null
      }
     },
     "02c1bb6510974821992e8d687d51db49": {
      "model_module": "@jupyter-widgets/controls",
      "model_module_version": "2.0.0",
      "model_name": "ButtonStyleModel",
      "state": {
       "button_color": "#0084ff",
       "font_family": null,
       "font_size": "14px",
       "font_style": null,
       "font_variant": null,
       "font_weight": "bold",
       "text_color": null,
       "text_decoration": null
      }
     },
     "030c9d02eb8e4142800ed43c2a847154": {
      "model_module": "@jupyter-widgets/controls",
      "model_module_version": "2.0.0",
      "model_name": "TextModel",
      "state": {
       "layout": "IPY_MODEL_d6eea79baf314b42a148ac456a33dfff",
       "placeholder": "Type a message...",
       "style": "IPY_MODEL_3c05da41fb484bf9b8160685c0260a7a"
      }
     },
     "038a57ad8acc4a3bab24be85b92f9ef3": {
      "model_module": "@jupyter-widgets/controls",
      "model_module_version": "2.0.0",
      "model_name": "ButtonModel",
      "state": {
       "description": "➤",
       "layout": "IPY_MODEL_e9f51fc25981485aaffb9f76f95c7e61",
       "style": "IPY_MODEL_5ca9a7479a4a49a298aeff9f0c151c36",
       "tooltip": null
      }
     },
     "046a4fd72b29418f906a12cd16cf5450": {
      "model_module": "@jupyter-widgets/controls",
      "model_module_version": "2.0.0",
      "model_name": "TextModel",
      "state": {
       "layout": "IPY_MODEL_900fb56cd4a840a5a1b9a2442559b470",
       "placeholder": "Type a message...",
       "style": "IPY_MODEL_325452caaeed4328b6e1c5d9dce03f43"
      }
     },
     "05783e47efaa4bab948883484ec93af8": {
      "model_module": "@jupyter-widgets/controls",
      "model_module_version": "2.0.0",
      "model_name": "HTMLModel",
      "state": {
       "layout": "IPY_MODEL_3b505cdf78324c929afef9241330ffb1",
       "style": "IPY_MODEL_5ca8988e1bdd4751a8ad1f9824e620a8",
       "value": "\n            <div style=\"\n              color:#b5b5b5;\n              text-align:center;\n              padding:40px 0;\n              font-size:1.1em;\n              background:#fff;\n            \">\n              💬 No messages yet. Start the conversation!\n            </div>\n            "
      }
     },
     "079f475334174f6bb72a6da826d545f9": {
      "model_module": "@jupyter-widgets/base",
      "model_module_version": "2.0.0",
      "model_name": "LayoutModel",
      "state": {}
     },
     "0918b0bca03147d5a5b6bca7bb11ed33": {
      "model_module": "@jupyter-widgets/base",
      "model_module_version": "2.0.0",
      "model_name": "LayoutModel",
      "state": {
       "align_self": "center",
       "height": "32px",
       "margin": "0 0 0 6px",
       "width": "40px"
      }
     },
     "094e17891ff24f59a9dc726b81708952": {
      "model_module": "@jupyter-widgets/base",
      "model_module_version": "2.0.0",
      "model_name": "LayoutModel",
      "state": {
       "align_self": "flex-start",
       "margin": "8px 0px 0px 0px"
      }
     },
     "0968754b61a1469c9464e822820bb902": {
      "model_module": "@jupyter-widgets/base",
      "model_module_version": "2.0.0",
      "model_name": "LayoutModel",
      "state": {
       "padding": "4px 4px",
       "width": "100%"
      }
     },
     "0b7bab182dcc4c86a553d438804d5f28": {
      "model_module": "@jupyter-widgets/controls",
      "model_module_version": "2.0.0",
      "model_name": "VBoxModel",
      "state": {
       "children": [
        "IPY_MODEL_8492d847b8db4a6b8e71f0727a9cf3de"
       ],
       "layout": "IPY_MODEL_62e231a0b221455ebf6aa7531667b6ef"
      }
     },
     "0bba4969d58949f8ab0dabd423ba4c8b": {
      "model_module": "@jupyter-widgets/base",
      "model_module_version": "2.0.0",
      "model_name": "LayoutModel",
      "state": {
       "padding": "4px 4px",
       "width": "100%"
      }
     },
     "0ceaba894cbb40f3961f60d4abd2624d": {
      "model_module": "@jupyter-widgets/base",
      "model_module_version": "2.0.0",
      "model_name": "LayoutModel",
      "state": {}
     },
     "0df64df624de424dbefe1177d64f3f9a": {
      "model_module": "@jupyter-widgets/controls",
      "model_module_version": "2.0.0",
      "model_name": "HTMLModel",
      "state": {
       "layout": "IPY_MODEL_e328b4ee4de74923ae9da4ca20719ce4",
       "style": "IPY_MODEL_c7fffcf2e2ab4c65879bb0bedfdd75e3",
       "value": "\n            <div style=\"\n              color:#b5b5b5;\n              text-align:center;\n              padding:40px 0;\n              font-size:1.1em;\n              background:#fff;\n            \">\n              💬 No messages yet. Start the conversation!\n            </div>\n            "
      }
     },
     "0e0bd29c4c4749b1a0a1cfa46829e17f": {
      "model_module": "@jupyter-widgets/controls",
      "model_module_version": "2.0.0",
      "model_name": "HBoxModel",
      "state": {
       "children": [
        "IPY_MODEL_5d16fda1d8af401d9e995e3c6cac13f5",
        "IPY_MODEL_e85c554e75dd4bec8d56175fe1c5841f"
       ],
       "layout": "IPY_MODEL_625708d127de4b23a91cdcbbc17df2aa"
      }
     },
     "0e6b8a3213734cd5939302643ce7b242": {
      "model_module": "@jupyter-widgets/controls",
      "model_module_version": "2.0.0",
      "model_name": "ButtonModel",
      "state": {
       "description": "➤",
       "layout": "IPY_MODEL_91c7ac3bfbf0484e878ce9bc6d50e4a8",
       "style": "IPY_MODEL_1f53d4806ace46d2995113aced3bedb4",
       "tooltip": null
      }
     },
     "0ec8e343a38046c08969368a541af07f": {
      "model_module": "@jupyter-widgets/base",
      "model_module_version": "2.0.0",
      "model_name": "LayoutModel",
      "state": {}
     },
     "0ef1c1a3300941e484091bdb989ed9a9": {
      "model_module": "@jupyter-widgets/controls",
      "model_module_version": "2.0.0",
      "model_name": "ButtonModel",
      "state": {
       "description": "➤",
       "layout": "IPY_MODEL_7443be5b6ba54322997db09b665d7c95",
       "style": "IPY_MODEL_673151998353483a8315919368163bf7",
       "tooltip": null
      }
     },
     "0f023bb1025246fbb71e05e2e19baeb8": {
      "model_module": "@jupyter-widgets/base",
      "model_module_version": "2.0.0",
      "model_name": "LayoutModel",
      "state": {}
     },
     "0f8dc6ac49014c26964989f127a94939": {
      "model_module": "@jupyter-widgets/controls",
      "model_module_version": "2.0.0",
      "model_name": "ButtonModel",
      "state": {
       "description": "➤",
       "layout": "IPY_MODEL_fc2d70c3b8c94cecb71378f92ec1759c",
       "style": "IPY_MODEL_7bd73d240c1341809d2871a846a1cd6c",
       "tooltip": null
      }
     },
     "0f9d5105bb6c431493980741796de74a": {
      "model_module": "@jupyter-widgets/base",
      "model_module_version": "2.0.0",
      "model_name": "LayoutModel",
      "state": {}
     },
     "0fd0878111244f15b0a01a5a25e8a335": {
      "model_module": "@jupyter-widgets/controls",
      "model_module_version": "2.0.0",
      "model_name": "ButtonModel",
      "state": {
       "description": "➤",
       "layout": "IPY_MODEL_1f413171fb7e45f1a9766b9b17cd85d7",
       "style": "IPY_MODEL_149114c657054fabb275bb79f8d5edb9",
       "tooltip": null
      }
     },
     "109591fa3f2d4a208f5e0e16ab6bb4ed": {
      "model_module": "@jupyter-widgets/controls",
      "model_module_version": "2.0.0",
      "model_name": "TextModel",
      "state": {
       "layout": "IPY_MODEL_2243112140a643e196485f91868897ab",
       "placeholder": "Type a message...",
       "style": "IPY_MODEL_adf3cf690fec4ab5b0b5fb28e57d6d25"
      }
     },
     "109dbf67cbc14866a2ee10f68f16dbf3": {
      "model_module": "@jupyter-widgets/controls",
      "model_module_version": "2.0.0",
      "model_name": "TextStyleModel",
      "state": {
       "description_width": "",
       "font_size": null,
       "text_color": null
      }
     },
     "1163d50d6a094663be7bfd46db37e830": {
      "model_module": "@jupyter-widgets/controls",
      "model_module_version": "2.0.0",
      "model_name": "HTMLStyleModel",
      "state": {
       "description_width": "",
       "font_size": null,
       "text_color": null
      }
     },
     "12ae16fd390c43f08ff340236bf69488": {
      "model_module": "@jupyter-widgets/controls",
      "model_module_version": "2.0.0",
      "model_name": "VBoxModel",
      "state": {
       "children": [
        "IPY_MODEL_a83d05a8e293461faaa4f8540dbf29bb"
       ],
       "layout": "IPY_MODEL_e32ae4bfc59841cba55e2aa39aae9d6a"
      }
     },
     "131b5e02c3ac4d438ea203627b464e88": {
      "model_module": "@jupyter-widgets/controls",
      "model_module_version": "2.0.0",
      "model_name": "ButtonModel",
      "state": {
       "description": "➤",
       "layout": "IPY_MODEL_0918b0bca03147d5a5b6bca7bb11ed33",
       "style": "IPY_MODEL_cc881c1733f346bb8847a81d40bc3c10",
       "tooltip": null
      }
     },
     "132cf5e9486945d2b0752e19a5346a2c": {
      "model_module": "@jupyter-widgets/base",
      "model_module_version": "2.0.0",
      "model_name": "LayoutModel",
      "state": {
       "flex": "1 1 auto",
       "width": "auto"
      }
     },
     "13b61428cdf84c14bfb2365829d9abc5": {
      "model_module": "@jupyter-widgets/output",
      "model_module_version": "1.0.0",
      "model_name": "OutputModel",
      "state": {
       "layout": "IPY_MODEL_33e6be8b54464a7f9bacead604183726",
       "outputs": [
        {
         "name": "stdout",
         "output_type": "stream",
         "text": "asdfasdfasdfasdfa\n"
        }
       ]
      }
     },
     "13bd9cd337484590b32520ba3619c9b1": {
      "model_module": "@jupyter-widgets/controls",
      "model_module_version": "2.0.0",
      "model_name": "ButtonStyleModel",
      "state": {
       "button_color": "#0084ff",
       "font_family": null,
       "font_size": "14px",
       "font_style": null,
       "font_variant": null,
       "font_weight": "bold",
       "text_color": null,
       "text_decoration": null
      }
     },
     "149114c657054fabb275bb79f8d5edb9": {
      "model_module": "@jupyter-widgets/controls",
      "model_module_version": "2.0.0",
      "model_name": "ButtonStyleModel",
      "state": {
       "button_color": "#0084ff",
       "font_family": null,
       "font_size": "14px",
       "font_style": null,
       "font_variant": null,
       "font_weight": "bold",
       "text_color": null,
       "text_decoration": null
      }
     },
     "14e1e59c9b3b493da8eb8d077f6bb6f6": {
      "model_module": "@jupyter-widgets/controls",
      "model_module_version": "2.0.0",
      "model_name": "HTMLStyleModel",
      "state": {
       "description_width": "",
       "font_size": null,
       "text_color": null
      }
     },
     "1668cb5c96124d6dbf2b3238b3d048d9": {
      "model_module": "@jupyter-widgets/base",
      "model_module_version": "2.0.0",
      "model_name": "LayoutModel",
      "state": {
       "flex": "1 1 auto",
       "width": "auto"
      }
     },
     "185fcdb5a1cd4b80aa6996f91424e678": {
      "model_module": "@jupyter-widgets/controls",
      "model_module_version": "2.0.0",
      "model_name": "HTMLModel",
      "state": {
       "layout": "IPY_MODEL_601c537ba40f4831b589febaf31b767c",
       "style": "IPY_MODEL_691119eca1484d74bb2793b849eb31a0",
       "value": "\n            <div style=\"\n              color:#b5b5b5;\n              text-align:center;\n              padding:40px 0;\n              font-size:1.1em;\n              background:#fff;\n            \">\n              💬 No messages yet. Start the conversation!\n            </div>\n            "
      }
     },
     "18db1a01ff5747c7af8f1f630bf2decc": {
      "model_module": "@jupyter-widgets/base",
      "model_module_version": "2.0.0",
      "model_name": "LayoutModel",
      "state": {
       "flex": "1 1 auto",
       "width": "auto"
      }
     },
     "19c0d4a7f3324ac38e5a30f68d3ea981": {
      "model_module": "@jupyter-widgets/base",
      "model_module_version": "2.0.0",
      "model_name": "LayoutModel",
      "state": {}
     },
     "1a48ce75b8324955a86e171e79b16d4d": {
      "model_module": "@jupyter-widgets/base",
      "model_module_version": "2.0.0",
      "model_name": "LayoutModel",
      "state": {
       "align_self": "center",
       "height": "32px",
       "margin": "0 0 0 6px",
       "width": "40px"
      }
     },
     "1b3266daeb1840d8b0da850faa06dc53": {
      "model_module": "@jupyter-widgets/controls",
      "model_module_version": "2.0.0",
      "model_name": "TextModel",
      "state": {
       "layout": "IPY_MODEL_e8521ee05158483998ba3c4fb4b2b59f",
       "placeholder": "Type a message...",
       "style": "IPY_MODEL_75c67f51f86b44d7a978dd67c93fe94b"
      }
     },
     "1c55101befd94fb4a4667e6eea2f1fb9": {
      "model_module": "@jupyter-widgets/controls",
      "model_module_version": "2.0.0",
      "model_name": "HTMLStyleModel",
      "state": {
       "description_width": "",
       "font_size": null,
       "text_color": null
      }
     },
     "1cd239f9b05343839b24f47d83fda724": {
      "model_module": "@jupyter-widgets/controls",
      "model_module_version": "2.0.0",
      "model_name": "VBoxModel",
      "state": {
       "children": [
        "IPY_MODEL_af89621036e947e5a051e3a716fb0c06"
       ],
       "layout": "IPY_MODEL_ae61cdaa580f479781df433958659b85"
      }
     },
     "1cfda30dd9634fa98629ccd01d576de8": {
      "model_module": "@jupyter-widgets/controls",
      "model_module_version": "2.0.0",
      "model_name": "HBoxModel",
      "state": {
       "children": [
        "IPY_MODEL_109591fa3f2d4a208f5e0e16ab6bb4ed",
        "IPY_MODEL_ec52707ff46146309f0b7a0d01b85cf0"
       ],
       "layout": "IPY_MODEL_32fce69b71bb4d2ab85d4c4e260af988"
      }
     },
     "1e1beb4d504e4868ba1e53890a5e2dac": {
      "model_module": "@jupyter-widgets/base",
      "model_module_version": "2.0.0",
      "model_name": "LayoutModel",
      "state": {
       "align_self": "center",
       "height": "32px",
       "margin": "0 0 0 6px",
       "width": "40px"
      }
     },
     "1e536ba04f094dffbf9b784c0629baac": {
      "model_module": "@jupyter-widgets/base",
      "model_module_version": "2.0.0",
      "model_name": "LayoutModel",
      "state": {
       "padding": "4px 4px",
       "width": "100%"
      }
     },
     "1e714619408f43d7b5addccccae096dd": {
      "model_module": "@jupyter-widgets/controls",
      "model_module_version": "2.0.0",
      "model_name": "ButtonModel",
      "state": {
       "description": "➤",
       "layout": "IPY_MODEL_7ae740d5de0b4fbf83b529823f15fcfa",
       "style": "IPY_MODEL_a76d4da1673f438fad71e180b6790345",
       "tooltip": null
      }
     },
     "1f02aad3921244888ebeb77b933399e1": {
      "model_module": "@jupyter-widgets/controls",
      "model_module_version": "2.0.0",
      "model_name": "ButtonModel",
      "state": {
       "description": "➤",
       "layout": "IPY_MODEL_807be9691d9e4612b6fab841e5aee22e",
       "style": "IPY_MODEL_e694513499fc4f9aaffa331007f907e5",
       "tooltip": null
      }
     },
     "1f413171fb7e45f1a9766b9b17cd85d7": {
      "model_module": "@jupyter-widgets/base",
      "model_module_version": "2.0.0",
      "model_name": "LayoutModel",
      "state": {
       "align_self": "center",
       "height": "32px",
       "margin": "0 0 0 6px",
       "width": "40px"
      }
     },
     "1f53d4806ace46d2995113aced3bedb4": {
      "model_module": "@jupyter-widgets/controls",
      "model_module_version": "2.0.0",
      "model_name": "ButtonStyleModel",
      "state": {
       "button_color": "#0084ff",
       "font_family": null,
       "font_size": "14px",
       "font_style": null,
       "font_variant": null,
       "font_weight": "bold",
       "text_color": null,
       "text_decoration": null
      }
     },
     "1ff8c40d8faf4db6abc20eb1d0d1d1b4": {
      "model_module": "@jupyter-widgets/controls",
      "model_module_version": "2.0.0",
      "model_name": "ButtonStyleModel",
      "state": {
       "button_color": "#0084ff",
       "font_family": null,
       "font_size": "14px",
       "font_style": null,
       "font_variant": null,
       "font_weight": "bold",
       "text_color": null,
       "text_decoration": null
      }
     },
     "209bc53533884adda1e575927f636413": {
      "model_module": "@jupyter-widgets/controls",
      "model_module_version": "2.0.0",
      "model_name": "VBoxModel",
      "state": {
       "children": [
        "IPY_MODEL_d4eedfc84cfc48d3a965cc4ff43900c3"
       ],
       "layout": "IPY_MODEL_526edcabdef94e2296ea238af3857f20"
      }
     },
     "20caec98806641db8046a2f39aa95b36": {
      "model_module": "@jupyter-widgets/base",
      "model_module_version": "2.0.0",
      "model_name": "LayoutModel",
      "state": {
       "align_self": "center",
       "height": "32px",
       "margin": "0 0 0 6px",
       "width": "40px"
      }
     },
     "20ff5dfa12a14b639930569c05bee86b": {
      "model_module": "@jupyter-widgets/base",
      "model_module_version": "2.0.0",
      "model_name": "LayoutModel",
      "state": {}
     },
     "2243112140a643e196485f91868897ab": {
      "model_module": "@jupyter-widgets/base",
      "model_module_version": "2.0.0",
      "model_name": "LayoutModel",
      "state": {
       "flex": "1 1 auto",
       "width": "auto"
      }
     },
     "22c328b6a4ad41faa6a53a0e43696bac": {
      "model_module": "@jupyter-widgets/base",
      "model_module_version": "2.0.0",
      "model_name": "LayoutModel",
      "state": {
       "flex": "1 1 auto",
       "width": "auto"
      }
     },
     "22e206cc67304379b14540dc5b133b8e": {
      "model_module": "@jupyter-widgets/controls",
      "model_module_version": "2.0.0",
      "model_name": "TextModel",
      "state": {
       "layout": "IPY_MODEL_8f4cac2fa94d4da4a089552eb96f851c",
       "placeholder": "Type a message...",
       "style": "IPY_MODEL_7448f359409b48029acb235d35b8a610"
      }
     },
     "22fc9c5973764300a9229365e76aa426": {
      "model_module": "@jupyter-widgets/controls",
      "model_module_version": "2.0.0",
      "model_name": "TextStyleModel",
      "state": {
       "description_width": "",
       "font_size": null,
       "text_color": null
      }
     },
     "232cbaf0285e42b691ed81573f91e1b1": {
      "model_module": "@jupyter-widgets/base",
      "model_module_version": "2.0.0",
      "model_name": "LayoutModel",
      "state": {
       "align_self": "flex-start",
       "margin": "0px 8px 8px 0px"
      }
     },
     "23d1cdd012f4467dbe28b09691de7c66": {
      "model_module": "@jupyter-widgets/base",
      "model_module_version": "2.0.0",
      "model_name": "LayoutModel",
      "state": {}
     },
     "23f523c3deef42319ac95609144e5978": {
      "model_module": "@jupyter-widgets/controls",
      "model_module_version": "2.0.0",
      "model_name": "ButtonModel",
      "state": {
       "description": "➤",
       "layout": "IPY_MODEL_1a48ce75b8324955a86e171e79b16d4d",
       "style": "IPY_MODEL_e20612549d564ef8a94f277bbe8c0cdd",
       "tooltip": null
      }
     },
     "248588c7b617464e917147ccaf91cd31": {
      "model_module": "@jupyter-widgets/controls",
      "model_module_version": "2.0.0",
      "model_name": "HBoxModel",
      "state": {
       "children": [
        "IPY_MODEL_321d6a284c2d433c8b197025803f9990",
        "IPY_MODEL_23f523c3deef42319ac95609144e5978"
       ],
       "layout": "IPY_MODEL_0f9d5105bb6c431493980741796de74a"
      }
     },
     "250bd9cb874146dfb0d786272af371f9": {
      "model_module": "@jupyter-widgets/base",
      "model_module_version": "2.0.0",
      "model_name": "LayoutModel",
      "state": {
       "padding": "4px 4px",
       "width": "100%"
      }
     },
     "25904636d26f4ebd88aaa1b91ec6214d": {
      "model_module": "@jupyter-widgets/controls",
      "model_module_version": "2.0.0",
      "model_name": "TextModel",
      "state": {
       "layout": "IPY_MODEL_caff3c91d5dc49a7865657d489bedeb1",
       "placeholder": "Type a message...",
       "style": "IPY_MODEL_98fff11642464a518d3515f871669e0a"
      }
     },
     "27b91be0b08946318bf93a4f3417d77d": {
      "model_module": "@jupyter-widgets/controls",
      "model_module_version": "2.0.0",
      "model_name": "TextModel",
      "state": {
       "layout": "IPY_MODEL_baa49f1aa5324fcaa17e15165a121364",
       "placeholder": "Type a message...",
       "style": "IPY_MODEL_f0911b7d3dcd43cfa2070e7edc4dc3e5"
      }
     },
     "27cb0a15581a472ab83e2d6245df4461": {
      "model_module": "@jupyter-widgets/base",
      "model_module_version": "2.0.0",
      "model_name": "LayoutModel",
      "state": {}
     },
     "2a500a9b3797477896166a3ab6e62c27": {
      "model_module": "@jupyter-widgets/controls",
      "model_module_version": "2.0.0",
      "model_name": "VBoxModel",
      "state": {
       "children": [
        "IPY_MODEL_676b628ee3f64d1f9598183f1a922f53"
       ],
       "layout": "IPY_MODEL_c2d6ef1ea07f405cb3c66305f249d249"
      }
     },
     "2a8f89662cf64ebba0d70b671377977c": {
      "model_module": "@jupyter-widgets/controls",
      "model_module_version": "2.0.0",
      "model_name": "ButtonModel",
      "state": {
       "description": "➤",
       "layout": "IPY_MODEL_6bb7e15ff5de4d7bac1aee3dcdd4e8df",
       "style": "IPY_MODEL_cc74ed6fb08e4307a854bb83ee9c465c",
       "tooltip": null
      }
     },
     "2aac0ca262d64a95b62fef6a2f82cd95": {
      "model_module": "@jupyter-widgets/controls",
      "model_module_version": "2.0.0",
      "model_name": "HTMLModel",
      "state": {
       "layout": "IPY_MODEL_0ceaba894cbb40f3961f60d4abd2624d",
       "style": "IPY_MODEL_c51702f782bf46bd81dcf3bc6d8f31d6",
       "value": "\n            <div style=\"\n              color:#b5b5b5;\n              text-align:center;\n              padding:40px 0;\n              font-size:1.1em;\n              background:#fff;\n            \">\n              💬 No messages yet. Start the conversation!\n            </div>\n            "
      }
     },
     "2ab8ecf82ba5455cbfaa1329e98bf2f5": {
      "model_module": "@jupyter-widgets/controls",
      "model_module_version": "2.0.0",
      "model_name": "HTMLModel",
      "state": {
       "layout": "IPY_MODEL_6b387f32fba94ba69fd2af09efd0e2db",
       "style": "IPY_MODEL_b421307c21594eae9fbebdebcb92873f",
       "value": "\n            <div style=\"\n              color:#b5b5b5;\n              text-align:center;\n              padding:40px 0;\n              font-size:1.1em;\n              background:#fff;\n            \">\n              💬 No messages yet. Start the conversation!\n            </div>\n            "
      }
     },
     "2d1f7b61f5394972a729c3f2071c9676": {
      "model_module": "@jupyter-widgets/base",
      "model_module_version": "2.0.0",
      "model_name": "LayoutModel",
      "state": {}
     },
     "2d3e28df31104e56b44c469665894e18": {
      "model_module": "@jupyter-widgets/controls",
      "model_module_version": "2.0.0",
      "model_name": "ButtonStyleModel",
      "state": {
       "button_color": "#0084ff",
       "font_family": null,
       "font_size": "14px",
       "font_style": null,
       "font_variant": null,
       "font_weight": "bold",
       "text_color": null,
       "text_decoration": null
      }
     },
     "2d43e4de23684d0f95fcfdcae1c0193d": {
      "model_module": "@jupyter-widgets/controls",
      "model_module_version": "2.0.0",
      "model_name": "HBoxModel",
      "state": {
       "children": [
        "IPY_MODEL_00e5dd43a2944a37bd26cf4a5b06422f",
        "IPY_MODEL_c7f771eb3f3e499fa452d788eb8d7aad"
       ],
       "layout": "IPY_MODEL_d314c4e61aff4dfc8f31f49ed935222f"
      }
     },
     "2da1a731e6914eed8ad3ee4064227562": {
      "model_module": "@jupyter-widgets/base",
      "model_module_version": "2.0.0",
      "model_name": "LayoutModel",
      "state": {
       "flex": "1 1 auto",
       "width": "auto"
      }
     },
     "2dbb65d4672d4e56a29a35bf8d72ddcd": {
      "model_module": "@jupyter-widgets/base",
      "model_module_version": "2.0.0",
      "model_name": "LayoutModel",
      "state": {
       "flex": "1 1 auto",
       "width": "auto"
      }
     },
     "2de56c9213f1465f82ca86aedd7878df": {
      "model_module": "@jupyter-widgets/controls",
      "model_module_version": "2.0.0",
      "model_name": "HTMLModel",
      "state": {
       "layout": "IPY_MODEL_232cbaf0285e42b691ed81573f91e1b1",
       "style": "IPY_MODEL_3c8d3369f0df44a88b692de6a1edcfc0",
       "value": "<div style=\"width:36px;height:36px;background:#84c4ff;border-radius:12px;display:flex;align-items:center;justify-content:center;box-shadow:0 1px 4px rgba(60,60,60,0.10);\"><span style=\"font-size:18px;line-height:1;\">👤</span></div>"
      }
     },
     "2ecceef54b424e6e8e0e20bb887ebda0": {
      "model_module": "@jupyter-widgets/base",
      "model_module_version": "2.0.0",
      "model_name": "LayoutModel",
      "state": {
       "align_self": "center",
       "height": "32px",
       "margin": "0 0 0 6px",
       "width": "40px"
      }
     },
     "2f4d999096f246249a7f91a786a4194c": {
      "model_module": "@jupyter-widgets/base",
      "model_module_version": "2.0.0",
      "model_name": "LayoutModel",
      "state": {}
     },
     "300dda7f2827493a912b51ef11fdfe6e": {
      "model_module": "@jupyter-widgets/controls",
      "model_module_version": "2.0.0",
      "model_name": "HBoxModel",
      "state": {
       "children": [
        "IPY_MODEL_e97c5396bc6d44aa8665d0bb06fda923",
        "IPY_MODEL_eda7d20b73e843f380b22f3f25180435"
       ],
       "layout": "IPY_MODEL_8d80fe92ba0d4973804bda61d0ee46c7"
      }
     },
     "310c0767f0914dbeb18f19a1597d1efe": {
      "model_module": "@jupyter-widgets/controls",
      "model_module_version": "2.0.0",
      "model_name": "HBoxModel",
      "state": {
       "children": [
        "IPY_MODEL_8156b57238714ab191e35c670cb0e16f",
        "IPY_MODEL_0ef1c1a3300941e484091bdb989ed9a9"
       ],
       "layout": "IPY_MODEL_079f475334174f6bb72a6da826d545f9"
      }
     },
     "321d6a284c2d433c8b197025803f9990": {
      "model_module": "@jupyter-widgets/controls",
      "model_module_version": "2.0.0",
      "model_name": "TextModel",
      "state": {
       "layout": "IPY_MODEL_2dbb65d4672d4e56a29a35bf8d72ddcd",
       "placeholder": "Type a message...",
       "style": "IPY_MODEL_92ee51c690414c5fad318db9057b5321"
      }
     },
     "325452caaeed4328b6e1c5d9dce03f43": {
      "model_module": "@jupyter-widgets/controls",
      "model_module_version": "2.0.0",
      "model_name": "TextStyleModel",
      "state": {
       "description_width": "",
       "font_size": null,
       "text_color": null
      }
     },
     "32af798e8a5445629ffb3b3018188f77": {
      "model_module": "@jupyter-widgets/base",
      "model_module_version": "2.0.0",
      "model_name": "LayoutModel",
      "state": {
       "flex": "1 1 auto",
       "width": "auto"
      }
     },
     "32f61140b40d41f6bab1d2f062cf20e7": {
      "model_module": "anywidget",
      "model_module_version": "~0.9.*",
      "model_name": "AnyModel",
      "state": {
       "_anywidget_id": "widgets.text.TextInputWidget",
       "_css": "\n    .mljar-textinput-container {\n        display: flex;\n        flex-direction: column;\n        align-items: flex-start;\n        width: 100%;\n        min-width: 120px;\n        font-family: Arial, sans-serif;\n        font-size: 12px;\n        font-weight: normal;\n        color: #222222;\n\n    }\n\n    .mljar-textinput-top-label {\n        margin-bottom: 6px;\n        text-align: left;\n        width: 100%;\n        font-weight: bold;\n    }\n\n    .mljar-textinput-input {\n        width: 100%;\n        border: 1px solid #cccccc;\n        border-radius: 16px;\n        padding: 6px 10px;\n        min-height: 1.6em;\n        box-sizing: border-box;\n        background: #3d6fdb;\n        color: #222222;\n    }\n\n    .mljar-textinput-input:focus {\n        outline: none;\n        border-color: #007bff;\n    }\n    ",
       "_esm": "\n    function render({ model, el }) {\n      // Container\n      let container = document.createElement(\"div\");\n      container.classList.add(\"mljar-textinput-container\");\n\n      // Label\n      let topLabel = document.createElement(\"div\");\n      topLabel.classList.add(\"mljar-textinput-top-label\");\n      topLabel.innerHTML = model.get(\"label\") || \"Enter text\";\n\n      // Always Input\n      let input = document.createElement(\"input\");\n      input.type = \"text\";\n      input.value = model.get(\"value\");\n      input.classList.add(\"mljar-textinput-input\");\n\n      let debounceTimer = null;\n      input.addEventListener(\"input\", () => {\n        model.set(\"value\", input.value);\n        if (debounceTimer) clearTimeout(debounceTimer);\n        debounceTimer = setTimeout(() => {\n          model.save_changes();\n        }, 100);\n      });\n\n      model.on(\"change:value\", () => {\n        input.value = model.get(\"value\");\n      });\n\n      // Build\n      container.appendChild(topLabel);\n      container.appendChild(input);\n      el.appendChild(container);\n\n      const css = model.get(\"custom_css\");\n      if (css && css.trim().length > 0) {\n        let styleTag = document.createElement(\"style\");\n        styleTag.textContent = css;\n        el.appendChild(styleTag);\n      }\n    }\n    export default { render };\n    ",
       "_model_module": "anywidget",
       "_model_module_version": "~0.9.*",
       "_model_name": "AnyModel",
       "_view_module": "anywidget",
       "_view_module_version": "~0.9.*",
       "_view_name": "AnyView",
       "custom_css": "",
       "label": "Enter text",
       "layout": "IPY_MODEL_8673394ccde949fca003d189b4c41dee",
       "position": "sidebar",
       "value": "asdfasdfasfasfasdfasdf"
      }
     },
     "32fce69b71bb4d2ab85d4c4e260af988": {
      "model_module": "@jupyter-widgets/base",
      "model_module_version": "2.0.0",
      "model_name": "LayoutModel",
      "state": {}
     },
     "33e6be8b54464a7f9bacead604183726": {
      "model_module": "@jupyter-widgets/base",
      "model_module_version": "2.0.0",
      "model_name": "LayoutModel",
      "state": {
       "align_self": "flex-start",
       "margin": "8px 0px 0px 0px"
      }
     },
     "34cc0c37175d41c88bac70cfd6c52dcc": {
      "model_module": "@jupyter-widgets/base",
      "model_module_version": "2.0.0",
      "model_name": "LayoutModel",
      "state": {
       "padding": "4px 4px",
       "width": "100%"
      }
     },
     "36b6649d804b49889bfc3f2818b6d7e4": {
      "model_module": "@jupyter-widgets/base",
      "model_module_version": "2.0.0",
      "model_name": "LayoutModel",
      "state": {}
     },
     "370d5ba796ba4e29ab6bb6583ea14378": {
      "model_module": "@jupyter-widgets/base",
      "model_module_version": "2.0.0",
      "model_name": "LayoutModel",
      "state": {
       "align_self": "center",
       "height": "32px",
       "margin": "0 0 0 6px",
       "width": "40px"
      }
     },
     "3812e4d93afd4786a6c10aa745dc792e": {
      "model_module": "@jupyter-widgets/controls",
      "model_module_version": "2.0.0",
      "model_name": "TextStyleModel",
      "state": {
       "description_width": "",
       "font_size": null,
       "text_color": null
      }
     },
     "389ae0dfd27548e49905e94d25de0021": {
      "model_module": "@jupyter-widgets/base",
      "model_module_version": "2.0.0",
      "model_name": "LayoutModel",
      "state": {
       "padding": "4px 4px",
       "width": "100%"
      }
     },
     "38a9b190213f4467af271b4d11ea3bc0": {
      "model_module": "@jupyter-widgets/controls",
      "model_module_version": "2.0.0",
      "model_name": "HTMLStyleModel",
      "state": {
       "description_width": "",
       "font_size": null,
       "text_color": null
      }
     },
     "38d500c2719e482f980404e00dd16eb1": {
      "model_module": "@jupyter-widgets/base",
      "model_module_version": "2.0.0",
      "model_name": "LayoutModel",
      "state": {}
     },
     "390f29d31d0d4d27b5ed31395689025f": {
      "model_module": "@jupyter-widgets/controls",
      "model_module_version": "2.0.0",
      "model_name": "TextModel",
      "state": {
       "layout": "IPY_MODEL_4388043ce8cb40669cd0b428f342ba8b",
       "placeholder": "Type a message...",
       "style": "IPY_MODEL_4bad9ff310ca417e98cf5d0d549c0662"
      }
     },
     "391fe3d26bd84f8183534b4bc75550e7": {
      "model_module": "@jupyter-widgets/controls",
      "model_module_version": "2.0.0",
      "model_name": "HTMLModel",
      "state": {
       "layout": "IPY_MODEL_0ec8e343a38046c08969368a541af07f",
       "style": "IPY_MODEL_c22a0c57e4e041f79fe36e67382e358b",
       "value": "\n            <div style=\"\n              color:#b5b5b5;\n              text-align:center;\n              padding:40px 0;\n              font-size:1.1em;\n              background:#fff;\n            \">\n              💬 No messages yet. Start the conversation!\n            </div>\n            "
      }
     },
     "3ab6a5a2e4e5493b8fe8973e3aab09d7": {
      "model_module": "@jupyter-widgets/base",
      "model_module_version": "2.0.0",
      "model_name": "LayoutModel",
      "state": {
       "align_self": "flex-start",
       "margin": "8px 0px 0px 0px"
      }
     },
     "3b505cdf78324c929afef9241330ffb1": {
      "model_module": "@jupyter-widgets/base",
      "model_module_version": "2.0.0",
      "model_name": "LayoutModel",
      "state": {}
     },
     "3b6bd6af2ce441268845067283d83705": {
      "model_module": "@jupyter-widgets/base",
      "model_module_version": "2.0.0",
      "model_name": "LayoutModel",
      "state": {
       "padding": "4px 4px",
       "width": "100%"
      }
     },
     "3c05da41fb484bf9b8160685c0260a7a": {
      "model_module": "@jupyter-widgets/controls",
      "model_module_version": "2.0.0",
      "model_name": "TextStyleModel",
      "state": {
       "description_width": "",
       "font_size": null,
       "text_color": null
      }
     },
     "3c0741505ea148ab9688d85240fa62da": {
      "model_module": "@jupyter-widgets/controls",
      "model_module_version": "2.0.0",
      "model_name": "ButtonStyleModel",
      "state": {
       "button_color": "#0084ff",
       "font_family": null,
       "font_size": "14px",
       "font_style": null,
       "font_variant": null,
       "font_weight": "bold",
       "text_color": null,
       "text_decoration": null
      }
     },
     "3c075860ace04f08962774e2fff1ddcd": {
      "model_module": "@jupyter-widgets/controls",
      "model_module_version": "2.0.0",
      "model_name": "TextModel",
      "state": {
       "layout": "IPY_MODEL_b457e27ef7b44ba3b66a91c377b67e16",
       "placeholder": "Type a message...",
       "style": "IPY_MODEL_81b3a2c226974657b24c39921369fffd"
      }
     },
     "3c8d3369f0df44a88b692de6a1edcfc0": {
      "model_module": "@jupyter-widgets/controls",
      "model_module_version": "2.0.0",
      "model_name": "HTMLStyleModel",
      "state": {
       "description_width": "",
       "font_size": null,
       "text_color": null
      }
     },
     "3d9328527b6f4bce947bdb5faba29051": {
      "model_module": "@jupyter-widgets/controls",
      "model_module_version": "2.0.0",
      "model_name": "VBoxModel",
      "state": {
       "children": [
        "IPY_MODEL_974ed559612b4a1383012987de154105"
       ],
       "layout": "IPY_MODEL_3b6bd6af2ce441268845067283d83705"
      }
     },
     "3d9acabc3a5b4fd9a7d8a283f5d51481": {
      "model_module": "@jupyter-widgets/controls",
      "model_module_version": "2.0.0",
      "model_name": "ButtonStyleModel",
      "state": {
       "button_color": "#0084ff",
       "font_family": null,
       "font_size": "14px",
       "font_style": null,
       "font_variant": null,
       "font_weight": "bold",
       "text_color": null,
       "text_decoration": null
      }
     },
     "3dae9b88581c4f4aafc30afb3901fccf": {
      "model_module": "@jupyter-widgets/controls",
      "model_module_version": "2.0.0",
      "model_name": "HBoxModel",
      "state": {
       "children": [
        "IPY_MODEL_046a4fd72b29418f906a12cd16cf5450",
        "IPY_MODEL_2a8f89662cf64ebba0d70b671377977c"
       ],
       "layout": "IPY_MODEL_a74b69ec21e84b028726a29338ad74c6"
      }
     },
     "3f3ef222f1a64eaeb636b59cf435f0af": {
      "model_module": "@jupyter-widgets/base",
      "model_module_version": "2.0.0",
      "model_name": "LayoutModel",
      "state": {
       "padding": "4px 4px",
       "width": "100%"
      }
     },
     "3f80aca9d6e346aaa99320cce1c8f997": {
      "model_module": "@jupyter-widgets/controls",
      "model_module_version": "2.0.0",
      "model_name": "HTMLModel",
      "state": {
       "layout": "IPY_MODEL_f6e635c469a54c14b4126457a6adca91",
       "style": "IPY_MODEL_cdc16558f93248d1ae26183df1482c9c",
       "value": "\n            <div style=\"\n              color:#b5b5b5;\n              text-align:center;\n              padding:40px 0;\n              font-size:1.1em;\n              background:#fff;\n            \">\n              💬 No messages yet. Start the conversation!\n            </div>\n            "
      }
     },
     "411114445f454bca9f9320098934d7ef": {
      "model_module": "@jupyter-widgets/controls",
      "model_module_version": "2.0.0",
      "model_name": "ButtonStyleModel",
      "state": {
       "button_color": "#0084ff",
       "font_family": null,
       "font_size": "14px",
       "font_style": null,
       "font_variant": null,
       "font_weight": "bold",
       "text_color": null,
       "text_decoration": null
      }
     },
     "41a7c5aa1f6f42f68927d54741be3f45": {
      "model_module": "@jupyter-widgets/base",
      "model_module_version": "2.0.0",
      "model_name": "LayoutModel",
      "state": {
       "padding": "4px 4px",
       "width": "100%"
      }
     },
     "41b8f3f22be347d480d43bc1976be868": {
      "model_module": "@jupyter-widgets/controls",
      "model_module_version": "2.0.0",
      "model_name": "HBoxModel",
      "state": {
       "children": [
        "IPY_MODEL_c6de4d6471e94f859006222ce4ea6f4a",
        "IPY_MODEL_9a963fbd1fa54b0d89a106928ef47740"
       ],
       "layout": "IPY_MODEL_7db03e935ed049918342b577cee23638"
      }
     },
     "424ac99903c74b5ebce136c076634db9": {
      "model_module": "@jupyter-widgets/base",
      "model_module_version": "2.0.0",
      "model_name": "LayoutModel",
      "state": {}
     },
     "42cdc3c7d8564e70b4e0e43e3c8c2b69": {
      "model_module": "@jupyter-widgets/controls",
      "model_module_version": "2.0.0",
      "model_name": "TextStyleModel",
      "state": {
       "description_width": "",
       "font_size": null,
       "text_color": null
      }
     },
     "430d5e918ac046bda44c25f89f0224cd": {
      "model_module": "@jupyter-widgets/base",
      "model_module_version": "2.0.0",
      "model_name": "LayoutModel",
      "state": {
       "padding": "4px 4px",
       "width": "100%"
      }
     },
     "434aacba3cb14078923cbce3b543095d": {
      "model_module": "@jupyter-widgets/controls",
      "model_module_version": "2.0.0",
      "model_name": "ButtonStyleModel",
      "state": {
       "button_color": "#0084ff",
       "font_family": null,
       "font_size": "14px",
       "font_style": null,
       "font_variant": null,
       "font_weight": "bold",
       "text_color": null,
       "text_decoration": null
      }
     },
     "4374c5921d3a4af5a621245af0e386d6": {
      "model_module": "@jupyter-widgets/controls",
      "model_module_version": "2.0.0",
      "model_name": "TextModel",
      "state": {
       "layout": "IPY_MODEL_db4261a01f9a444b8c309873e1c262f3",
       "placeholder": "Type a message...",
       "style": "IPY_MODEL_61b4e1510e764bc39c9522155e2f1956"
      }
     },
     "4388043ce8cb40669cd0b428f342ba8b": {
      "model_module": "@jupyter-widgets/base",
      "model_module_version": "2.0.0",
      "model_name": "LayoutModel",
      "state": {
       "flex": "1 1 auto",
       "width": "auto"
      }
     },
     "439082b6ac374462b463045b4038086b": {
      "model_module": "@jupyter-widgets/controls",
      "model_module_version": "2.0.0",
      "model_name": "HBoxModel",
      "state": {
       "children": [
        "IPY_MODEL_f8cbdc01fc20420196f23233fe70e4f5",
        "IPY_MODEL_1e714619408f43d7b5addccccae096dd"
       ],
       "layout": "IPY_MODEL_8c2fded86bee4127a333b8c8438ea035"
      }
     },
     "450f0e007a284d08b9111d0d8031d0cf": {
      "model_module": "@jupyter-widgets/base",
      "model_module_version": "2.0.0",
      "model_name": "LayoutModel",
      "state": {
       "align_self": "center",
       "height": "32px",
       "margin": "0 0 0 6px",
       "width": "40px"
      }
     },
     "45fd68915f85423289e10fdca2392640": {
      "model_module": "@jupyter-widgets/base",
      "model_module_version": "2.0.0",
      "model_name": "LayoutModel",
      "state": {}
     },
     "462b5de8b94b4f30b48ebaf84ccead60": {
      "model_module": "@jupyter-widgets/controls",
      "model_module_version": "2.0.0",
      "model_name": "ButtonModel",
      "state": {
       "description": "➤",
       "layout": "IPY_MODEL_65d8648a3d9b4cfbb4785fc6413bc40a",
       "style": "IPY_MODEL_3d9acabc3a5b4fd9a7d8a283f5d51481",
       "tooltip": null
      }
     },
     "467430d0596d400eb873982ac89c1b18": {
      "model_module": "@jupyter-widgets/controls",
      "model_module_version": "2.0.0",
      "model_name": "ButtonModel",
      "state": {
       "description": "➤",
       "layout": "IPY_MODEL_a2ee70d018ca4e17942e648ea361be20",
       "style": "IPY_MODEL_fa05c903592345998c26caec08b343ca",
       "tooltip": null
      }
     },
     "467b1c2f898c4588806c626dc2241668": {
      "model_module": "@jupyter-widgets/controls",
      "model_module_version": "2.0.0",
      "model_name": "TextModel",
      "state": {
       "layout": "IPY_MODEL_c554fec6d330469f814e5f695b6c9ce8",
       "placeholder": "Type a message...",
       "style": "IPY_MODEL_a211d35e1cb945278ea1dba404fd02c0"
      }
     },
     "4715431255c348f0b104659fc2473683": {
      "model_module": "@jupyter-widgets/controls",
      "model_module_version": "2.0.0",
      "model_name": "HTMLModel",
      "state": {
       "layout": "IPY_MODEL_83b6c7cee15f4467a1315c49b81db0ea",
       "style": "IPY_MODEL_1163d50d6a094663be7bfd46db37e830",
       "value": "\n            <div style=\"\n              color:#b5b5b5;\n              text-align:center;\n              padding:40px 0;\n              font-size:1.1em;\n              background:#fff;\n            \">\n              💬 No messages yet. Start the conversation!\n            </div>\n            "
      }
     },
     "4767af928a724e029cd9fb36eed65027": {
      "model_module": "@jupyter-widgets/controls",
      "model_module_version": "2.0.0",
      "model_name": "TextModel",
      "state": {
       "layout": "IPY_MODEL_18db1a01ff5747c7af8f1f630bf2decc",
       "placeholder": "Type a message...",
       "style": "IPY_MODEL_71f3b6fb43e34e5eaac597a82483e8c3"
      }
     },
     "476f92b14a7949759b671ed0a6dd5dee": {
      "model_module": "@jupyter-widgets/base",
      "model_module_version": "2.0.0",
      "model_name": "LayoutModel",
      "state": {
       "align_self": "flex-start",
       "margin": "0px 8px 8px 0px"
      }
     },
     "485cf299cf2b4c2ebf0c2f543fcebccd": {
      "model_module": "@jupyter-widgets/controls",
      "model_module_version": "2.0.0",
      "model_name": "HBoxModel",
      "state": {
       "children": [
        "IPY_MODEL_467b1c2f898c4588806c626dc2241668",
        "IPY_MODEL_f3a3bebf89d54d66b2e16c876cd4598e"
       ],
       "layout": "IPY_MODEL_ecfee8a52b0d49689a280ee1c8379f77"
      }
     },
     "4a17db2e87714ced86f807e565d17d38": {
      "model_module": "@jupyter-widgets/controls",
      "model_module_version": "2.0.0",
      "model_name": "VBoxModel",
      "state": {
       "children": [
        "IPY_MODEL_2ab8ecf82ba5455cbfaa1329e98bf2f5"
       ],
       "layout": "IPY_MODEL_1e536ba04f094dffbf9b784c0629baac"
      }
     },
     "4a7a820163104b79a9eaa0c304e563de": {
      "model_module": "@jupyter-widgets/controls",
      "model_module_version": "2.0.0",
      "model_name": "ButtonStyleModel",
      "state": {
       "button_color": "#0084ff",
       "font_family": null,
       "font_size": "14px",
       "font_style": null,
       "font_variant": null,
       "font_weight": "bold",
       "text_color": null,
       "text_decoration": null
      }
     },
     "4bad9ff310ca417e98cf5d0d549c0662": {
      "model_module": "@jupyter-widgets/controls",
      "model_module_version": "2.0.0",
      "model_name": "TextStyleModel",
      "state": {
       "description_width": "",
       "font_size": null,
       "text_color": null
      }
     },
     "4d2dc813fece4fd5bf78c3b7b76bc32d": {
      "model_module": "@jupyter-widgets/base",
      "model_module_version": "2.0.0",
      "model_name": "LayoutModel",
      "state": {}
     },
     "4e0225219bc04f22bb5b4fedbbf19800": {
      "model_module": "@jupyter-widgets/controls",
      "model_module_version": "2.0.0",
      "model_name": "VBoxModel",
      "state": {
       "children": [
        "IPY_MODEL_391fe3d26bd84f8183534b4bc75550e7"
       ],
       "layout": "IPY_MODEL_a9c984fe56e84860ad794813f1eef2dc"
      }
     },
     "4e971cf7a8e840c9b38b557a104edf4a": {
      "model_module": "@jupyter-widgets/base",
      "model_module_version": "2.0.0",
      "model_name": "LayoutModel",
      "state": {
       "flex": "1 1 auto",
       "width": "auto"
      }
     },
     "4ffc72400d1e42c5b204f7cea879ef0b": {
      "model_module": "@jupyter-widgets/controls",
      "model_module_version": "2.0.0",
      "model_name": "HTMLStyleModel",
      "state": {
       "description_width": "",
       "font_size": null,
       "text_color": null
      }
     },
     "5066630a2c4247ff8dcd6be113ad53b0": {
      "model_module": "@jupyter-widgets/base",
      "model_module_version": "2.0.0",
      "model_name": "LayoutModel",
      "state": {}
     },
     "5099c4b8b8ec4d9b8072292e8b1e66e0": {
      "model_module": "@jupyter-widgets/base",
      "model_module_version": "2.0.0",
      "model_name": "LayoutModel",
      "state": {
       "flex": "1 1 auto",
       "width": "auto"
      }
     },
     "50deeb2d7a894836a568db2c903d11d4": {
      "model_module": "@jupyter-widgets/controls",
      "model_module_version": "2.0.0",
      "model_name": "HTMLModel",
      "state": {
       "layout": "IPY_MODEL_734b23eb88c24c05af07a25ed5b3d735",
       "style": "IPY_MODEL_fdc43869fd994792af7890ad72dcdc08",
       "value": "\n            <div style=\"\n              color:#b5b5b5;\n              text-align:center;\n              padding:40px 0;\n              font-size:1.1em;\n              background:#fff;\n            \">\n              💬 No messages yet. Start the conversation!\n            </div>\n            "
      }
     },
     "51c0a1e3547f4b729808523d2868acfe": {
      "model_module": "@jupyter-widgets/base",
      "model_module_version": "2.0.0",
      "model_name": "LayoutModel",
      "state": {}
     },
     "526edcabdef94e2296ea238af3857f20": {
      "model_module": "@jupyter-widgets/base",
      "model_module_version": "2.0.0",
      "model_name": "LayoutModel",
      "state": {
       "padding": "4px 4px",
       "width": "100%"
      }
     },
     "52ad9ecc79c8438fafec03f375aa75b7": {
      "model_module": "@jupyter-widgets/base",
      "model_module_version": "2.0.0",
      "model_name": "LayoutModel",
      "state": {
       "flex": "1 1 auto",
       "width": "auto"
      }
     },
     "5372b605e60d4db1b586c69984fc5e17": {
      "model_module": "@jupyter-widgets/controls",
      "model_module_version": "2.0.0",
      "model_name": "HBoxModel",
      "state": {
       "children": [
        "IPY_MODEL_873d952576c2497b927522d0a5e941b2",
        "IPY_MODEL_c7a38d3f0c0a43f5b7a97fed8d315d9a"
       ],
       "layout": "IPY_MODEL_d73ebddc843c4cf5ba935c14073476d3"
      }
     },
     "53c5149fa4d54c8fb20a8e857f8e08a2": {
      "model_module": "@jupyter-widgets/base",
      "model_module_version": "2.0.0",
      "model_name": "LayoutModel",
      "state": {
       "flex": "1 1 auto",
       "width": "auto"
      }
     },
     "5421409417aa41db86dc9ef1b6fa6f54": {
      "model_module": "@jupyter-widgets/controls",
      "model_module_version": "2.0.0",
      "model_name": "HTMLStyleModel",
      "state": {
       "description_width": "",
       "font_size": null,
       "text_color": null
      }
     },
     "542651f1a2c14f7c807dfddcdce56d81": {
      "model_module": "@jupyter-widgets/controls",
      "model_module_version": "2.0.0",
      "model_name": "HTMLModel",
      "state": {
       "layout": "IPY_MODEL_fdc72d34baa5406e98c39b6dab1c0ae0",
       "style": "IPY_MODEL_d493f9f5af0647d6af94c4659d6dd856",
       "value": "\n            <div style=\"\n              color:#b5b5b5;\n              text-align:center;\n              padding:40px 0;\n              font-size:1.1em;\n              background:#fff;\n            \">\n              💬 No messages yet. Start the conversation!\n            </div>\n            "
      }
     },
     "55bf7531fa4743459b11dc3e88e2bbdf": {
      "model_module": "@jupyter-widgets/controls",
      "model_module_version": "2.0.0",
      "model_name": "HTMLModel",
      "state": {
       "layout": "IPY_MODEL_424ac99903c74b5ebce136c076634db9",
       "style": "IPY_MODEL_c3a6033e230e48f2b0e05d4db54e6a91",
       "value": "\n            <div style=\"\n              color:#b5b5b5;\n              text-align:center;\n              padding:40px 0;\n              font-size:1.1em;\n              background:#fff;\n            \">\n              💬 No messages yet. Start the conversation!\n            </div>\n            "
      }
     },
     "562ed07244e54556a3181e49e4d302d7": {
      "model_module": "@jupyter-widgets/base",
      "model_module_version": "2.0.0",
      "model_name": "LayoutModel",
      "state": {}
     },
     "56d217fc3e75487dbc81ce29c01026e4": {
      "model_module": "@jupyter-widgets/base",
      "model_module_version": "2.0.0",
      "model_name": "LayoutModel",
      "state": {
       "padding": "4px 4px",
       "width": "100%"
      }
     },
     "57ab67a092d04a4f9a1147429ed949bb": {
      "model_module": "@jupyter-widgets/base",
      "model_module_version": "2.0.0",
      "model_name": "LayoutModel",
      "state": {
       "align_self": "center",
       "height": "32px",
       "margin": "0 0 0 6px",
       "width": "40px"
      }
     },
     "58a8299f4d7446e39184ce4d382a375e": {
      "model_module": "@jupyter-widgets/controls",
      "model_module_version": "2.0.0",
      "model_name": "VBoxModel",
      "state": {
       "children": [
        "IPY_MODEL_fe06e94b801842258c145e93f1fedbe0",
        "IPY_MODEL_a8a5dae5e5f4481c832948f6099b40b5"
       ],
       "layout": "IPY_MODEL_7a8d376f52d74c8699d646516befa22c"
      }
     },
     "590cad3cde344e6381790feae57b8cb9": {
      "model_module": "@jupyter-widgets/base",
      "model_module_version": "2.0.0",
      "model_name": "LayoutModel",
      "state": {}
     },
     "5aa222bdfe4c4df7ae9170b0d3c186c8": {
      "model_module": "@jupyter-widgets/base",
      "model_module_version": "2.0.0",
      "model_name": "LayoutModel",
      "state": {
       "padding": "4px 4px",
       "width": "100%"
      }
     },
     "5ac44a1f8d8d40268678c144d4d83cf7": {
      "model_module": "@jupyter-widgets/controls",
      "model_module_version": "2.0.0",
      "model_name": "TextStyleModel",
      "state": {
       "description_width": "",
       "font_size": null,
       "text_color": null
      }
     },
     "5afed71445204095bd02ef5c102adcab": {
      "model_module": "@jupyter-widgets/base",
      "model_module_version": "2.0.0",
      "model_name": "LayoutModel",
      "state": {}
     },
     "5b25cff33d524bf0bcbbc94a2c4b4662": {
      "model_module": "@jupyter-widgets/controls",
      "model_module_version": "2.0.0",
      "model_name": "VBoxModel",
      "state": {
       "children": [
        "IPY_MODEL_c439e9780e5940a3a1e79a2cf5ff1b9e"
       ],
       "layout": "IPY_MODEL_e82dd283d9b3497980511a3039ff5d87"
      }
     },
     "5bd9bb45e7a8498cbc7ac6efc2f3013a": {
      "model_module": "@jupyter-widgets/controls",
      "model_module_version": "2.0.0",
      "model_name": "HTMLModel",
      "state": {
       "layout": "IPY_MODEL_a76074b4a13d4b24947c3859f7327280",
       "style": "IPY_MODEL_a9d255eda0ed46d28897cbb06537134d",
       "value": "\n            <div style=\"\n              color:#b5b5b5;\n              text-align:center;\n              padding:40px 0;\n              font-size:1.1em;\n              background:#fff;\n            \">\n              💬 No messages yet. Start the conversation!\n            </div>\n            "
      }
     },
     "5bf7cc70b87a441990d83c9bb0185ff9": {
      "model_module": "@jupyter-widgets/controls",
      "model_module_version": "2.0.0",
      "model_name": "TextStyleModel",
      "state": {
       "description_width": "",
       "font_size": null,
       "text_color": null
      }
     },
     "5c0f5711fff747da81c523abb580a33e": {
      "model_module": "@jupyter-widgets/controls",
      "model_module_version": "2.0.0",
      "model_name": "ButtonStyleModel",
      "state": {
       "button_color": "#0084ff",
       "font_family": null,
       "font_size": "14px",
       "font_style": null,
       "font_variant": null,
       "font_weight": "bold",
       "text_color": null,
       "text_decoration": null
      }
     },
     "5c311d6814584fc3880849dd3ee63052": {
      "model_module": "@jupyter-widgets/controls",
      "model_module_version": "2.0.0",
      "model_name": "VBoxModel",
      "state": {
       "children": [
        "IPY_MODEL_185fcdb5a1cd4b80aa6996f91424e678"
       ],
       "layout": "IPY_MODEL_bf542f2cbe464d25b44a679e0eccd6a7"
      }
     },
     "5c5db6285a0644ea9e93304ac3a17cd0": {
      "model_module": "@jupyter-widgets/controls",
      "model_module_version": "2.0.0",
      "model_name": "TextStyleModel",
      "state": {
       "description_width": "",
       "font_size": null,
       "text_color": null
      }
     },
     "5c7f1e9d6e5d453389cce55bbc3b9031": {
      "model_module": "@jupyter-widgets/controls",
      "model_module_version": "2.0.0",
      "model_name": "ButtonModel",
      "state": {
       "description": "➤",
       "layout": "IPY_MODEL_b35d8257169f468a92964b5cc579976d",
       "style": "IPY_MODEL_bcc7e8f9adf34c33875d7ce8a112c92b",
       "tooltip": null
      }
     },
     "5ca8988e1bdd4751a8ad1f9824e620a8": {
      "model_module": "@jupyter-widgets/controls",
      "model_module_version": "2.0.0",
      "model_name": "HTMLStyleModel",
      "state": {
       "description_width": "",
       "font_size": null,
       "text_color": null
      }
     },
     "5ca9a7479a4a49a298aeff9f0c151c36": {
      "model_module": "@jupyter-widgets/controls",
      "model_module_version": "2.0.0",
      "model_name": "ButtonStyleModel",
      "state": {
       "button_color": "#0084ff",
       "font_family": null,
       "font_size": "14px",
       "font_style": null,
       "font_variant": null,
       "font_weight": "bold",
       "text_color": null,
       "text_decoration": null
      }
     },
     "5d16fda1d8af401d9e995e3c6cac13f5": {
      "model_module": "@jupyter-widgets/controls",
      "model_module_version": "2.0.0",
      "model_name": "TextModel",
      "state": {
       "layout": "IPY_MODEL_c3c45d25b7cd4fcbbd207e97bcf110d3",
       "placeholder": "Type a message...",
       "style": "IPY_MODEL_c84d1c4ce5ca4840ac04a9b4d64061ed"
      }
     },
     "5db973239908418f8b35d635efd0da55": {
      "model_module": "@jupyter-widgets/controls",
      "model_module_version": "2.0.0",
      "model_name": "ButtonModel",
      "state": {
       "description": "➤",
       "layout": "IPY_MODEL_a4633236bb844957b9db4156386a9ca6",
       "style": "IPY_MODEL_5c0f5711fff747da81c523abb580a33e",
       "tooltip": null
      }
     },
     "5dfaf0b7be594cc0af70506b8ecea1e4": {
      "model_module": "@jupyter-widgets/controls",
      "model_module_version": "2.0.0",
      "model_name": "ButtonModel",
      "state": {
       "description": "➤",
       "layout": "IPY_MODEL_f7d1918b07204d3ab140a591a61a14c5",
       "style": "IPY_MODEL_e6f91c9a277f4afdb37c9783e272c498",
       "tooltip": null
      }
     },
     "5f12d1b3b0cd4a98a9a6b2fa9698f9bf": {
      "model_module": "@jupyter-widgets/base",
      "model_module_version": "2.0.0",
      "model_name": "LayoutModel",
      "state": {}
     },
     "5f16eb0f3e1d437c9493e355ec720ba3": {
      "model_module": "@jupyter-widgets/base",
      "model_module_version": "2.0.0",
      "model_name": "LayoutModel",
      "state": {}
     },
     "5f33ba1f8fb9443c804369cfd3f79124": {
      "model_module": "@jupyter-widgets/controls",
      "model_module_version": "2.0.0",
      "model_name": "HTMLStyleModel",
      "state": {
       "description_width": "",
       "font_size": null,
       "text_color": null
      }
     },
     "5f58eb9eeb1c4b7881d21078aabf8cc2": {
      "model_module": "@jupyter-widgets/base",
      "model_module_version": "2.0.0",
      "model_name": "LayoutModel",
      "state": {}
     },
     "5fe72a3d6e6c400f9335a8da27fc8c49": {
      "model_module": "@jupyter-widgets/controls",
      "model_module_version": "2.0.0",
      "model_name": "HTMLStyleModel",
      "state": {
       "description_width": "",
       "font_size": null,
       "text_color": null
      }
     },
     "601b651f87374c9185b573b410ceb5ba": {
      "model_module": "@jupyter-widgets/controls",
      "model_module_version": "2.0.0",
      "model_name": "ButtonModel",
      "state": {
       "description": "➤",
       "layout": "IPY_MODEL_e5165bf9f71f46d1967a7386d334b00f",
       "style": "IPY_MODEL_cea7d5a519244b2ea60a75a513794e5f",
       "tooltip": null
      }
     },
     "601c537ba40f4831b589febaf31b767c": {
      "model_module": "@jupyter-widgets/base",
      "model_module_version": "2.0.0",
      "model_name": "LayoutModel",
      "state": {}
     },
     "6021050d64b343fbbc4cd7c35f3583c2": {
      "model_module": "@jupyter-widgets/controls",
      "model_module_version": "2.0.0",
      "model_name": "TextStyleModel",
      "state": {
       "description_width": "",
       "font_size": null,
       "text_color": null
      }
     },
     "608889aaaea94362aae2354c0ff59d83": {
      "model_module": "@jupyter-widgets/base",
      "model_module_version": "2.0.0",
      "model_name": "LayoutModel",
      "state": {
       "flex": "1 1 auto",
       "width": "auto"
      }
     },
     "60d45e83e9434ba7add217f7cc1f681f": {
      "model_module": "@jupyter-widgets/controls",
      "model_module_version": "2.0.0",
      "model_name": "HTMLStyleModel",
      "state": {
       "description_width": "",
       "font_size": null,
       "text_color": null
      }
     },
     "61b4e1510e764bc39c9522155e2f1956": {
      "model_module": "@jupyter-widgets/controls",
      "model_module_version": "2.0.0",
      "model_name": "TextStyleModel",
      "state": {
       "description_width": "",
       "font_size": null,
       "text_color": null
      }
     },
     "62387d562f33444883f14eb0cfc0b459": {
      "model_module": "@jupyter-widgets/controls",
      "model_module_version": "2.0.0",
      "model_name": "HTMLModel",
      "state": {
       "layout": "IPY_MODEL_2d1f7b61f5394972a729c3f2071c9676",
       "style": "IPY_MODEL_5421409417aa41db86dc9ef1b6fa6f54",
       "value": "\n            <div style=\"\n              color:#b5b5b5;\n              text-align:center;\n              padding:40px 0;\n              font-size:1.1em;\n              background:#fff;\n            \">\n              💬 No messages yet. Start the conversation!\n            </div>\n            "
      }
     },
     "625708d127de4b23a91cdcbbc17df2aa": {
      "model_module": "@jupyter-widgets/base",
      "model_module_version": "2.0.0",
      "model_name": "LayoutModel",
      "state": {}
     },
     "62bdc72ed6b346e5abe2d8c5b87e23b0": {
      "model_module": "@jupyter-widgets/base",
      "model_module_version": "2.0.0",
      "model_name": "LayoutModel",
      "state": {}
     },
     "62e231a0b221455ebf6aa7531667b6ef": {
      "model_module": "@jupyter-widgets/base",
      "model_module_version": "2.0.0",
      "model_name": "LayoutModel",
      "state": {
       "padding": "4px 4px",
       "width": "100%"
      }
     },
     "6327ef5b9e4e4f1b8ab3a726ab2678c0": {
      "model_module": "@jupyter-widgets/base",
      "model_module_version": "2.0.0",
      "model_name": "LayoutModel",
      "state": {
       "padding": "4px 4px",
       "width": "100%"
      }
     },
     "6349dda2bc044eb3840d3f1f6ca2f89b": {
      "model_module": "@jupyter-widgets/base",
      "model_module_version": "2.0.0",
      "model_name": "LayoutModel",
      "state": {
       "padding": "4px 4px",
       "width": "100%"
      }
     },
     "637cc033033341df95f16edd6db7dbf8": {
      "model_module": "@jupyter-widgets/base",
      "model_module_version": "2.0.0",
      "model_name": "LayoutModel",
      "state": {}
     },
     "63e7b9e4285442c1b13d396938c89aef": {
      "model_module": "@jupyter-widgets/controls",
      "model_module_version": "2.0.0",
      "model_name": "HBoxModel",
      "state": {
       "children": [
        "IPY_MODEL_3c075860ace04f08962774e2fff1ddcd",
        "IPY_MODEL_5c7f1e9d6e5d453389cce55bbc3b9031"
       ],
       "layout": "IPY_MODEL_932924d424674b6faff866454335c78e"
      }
     },
     "6448275ff1084a979d212590a0a1a1e1": {
      "model_module": "@jupyter-widgets/controls",
      "model_module_version": "2.0.0",
      "model_name": "HTMLModel",
      "state": {
       "layout": "IPY_MODEL_cafc78e4302b4872b722d38c1c7f7b9d",
       "style": "IPY_MODEL_c8e68d13eb144042a1d0597a06ffc4fe",
       "value": "\n            <div style=\"\n              color:#b5b5b5;\n              text-align:center;\n              padding:40px 0;\n              font-size:1.1em;\n              background:#fff;\n            \">\n              💬 No messages yet. Start the conversation!\n            </div>\n            "
      }
     },
     "65d8648a3d9b4cfbb4785fc6413bc40a": {
      "model_module": "@jupyter-widgets/base",
      "model_module_version": "2.0.0",
      "model_name": "LayoutModel",
      "state": {
       "align_self": "center",
       "height": "32px",
       "margin": "0 0 0 6px",
       "width": "40px"
      }
     },
     "6603da61649540b79aa278792deb7666": {
      "model_module": "@jupyter-widgets/controls",
      "model_module_version": "2.0.0",
      "model_name": "ButtonModel",
      "state": {
       "description": "➤",
       "layout": "IPY_MODEL_79823ef1c87c47f2be2a5314c387be6c",
       "style": "IPY_MODEL_2d3e28df31104e56b44c469665894e18",
       "tooltip": null
      }
     },
     "667f6144a0e64a1ca5913195c87bfd05": {
      "model_module": "@jupyter-widgets/controls",
      "model_module_version": "2.0.0",
      "model_name": "HBoxModel",
      "state": {
       "children": [
        "IPY_MODEL_f3ef0359a4f745b183424eb58847084d",
        "IPY_MODEL_83852f86d8c24e61b895b0dd8218b891"
       ],
       "layout": "IPY_MODEL_2f4d999096f246249a7f91a786a4194c"
      }
     },
     "66ceed1e0648410bb2263cc5d1b68999": {
      "model_module": "@jupyter-widgets/controls",
      "model_module_version": "2.0.0",
      "model_name": "HTMLModel",
      "state": {
       "layout": "IPY_MODEL_b98b2b423fc34e5cbfe0903d17dc3e9a",
       "style": "IPY_MODEL_d33222e6e16343789daaa363eaa27f62",
       "value": "\n            <div style=\"\n              color:#b5b5b5;\n              text-align:center;\n              padding:40px 0;\n              font-size:1.1em;\n              background:#fff;\n            \">\n              💬 No messages yet. Start the conversation!\n            </div>\n            "
      }
     },
     "66cf3bf5c2574393977105a80918d2ba": {
      "model_module": "@jupyter-widgets/base",
      "model_module_version": "2.0.0",
      "model_name": "LayoutModel",
      "state": {
       "align_items": "flex-start"
      }
     },
     "66f9ce4cd9384d54ae4be897768e7c08": {
      "model_module": "@jupyter-widgets/base",
      "model_module_version": "2.0.0",
      "model_name": "LayoutModel",
      "state": {
       "flex": "1 1 auto",
       "width": "auto"
      }
     },
     "673151998353483a8315919368163bf7": {
      "model_module": "@jupyter-widgets/controls",
      "model_module_version": "2.0.0",
      "model_name": "ButtonStyleModel",
      "state": {
       "button_color": "#0084ff",
       "font_family": null,
       "font_size": "14px",
       "font_style": null,
       "font_variant": null,
       "font_weight": "bold",
       "text_color": null,
       "text_decoration": null
      }
     },
     "676b628ee3f64d1f9598183f1a922f53": {
      "model_module": "@jupyter-widgets/controls",
      "model_module_version": "2.0.0",
      "model_name": "HTMLModel",
      "state": {
       "layout": "IPY_MODEL_86d162a9e1ee4f5ebc25d019ed3dd650",
       "style": "IPY_MODEL_cbb6906dc82f4729b929916dc861471f",
       "value": "\n            <div style=\"\n              color:#b5b5b5;\n              text-align:center;\n              padding:40px 0;\n              font-size:1.1em;\n              background:#fff;\n            \">\n              💬 No messages yet. Start the conversation!\n            </div>\n            "
      }
     },
     "68aba4e57f7b4f489bb8348e528b5c3a": {
      "model_module": "@jupyter-widgets/controls",
      "model_module_version": "2.0.0",
      "model_name": "HBoxModel",
      "state": {
       "children": [
        "IPY_MODEL_7a5a4d75692d4aa9a7f35a5715684d8b",
        "IPY_MODEL_131b5e02c3ac4d438ea203627b464e88"
       ],
       "layout": "IPY_MODEL_5066630a2c4247ff8dcd6be113ad53b0"
      }
     },
     "691119eca1484d74bb2793b849eb31a0": {
      "model_module": "@jupyter-widgets/controls",
      "model_module_version": "2.0.0",
      "model_name": "HTMLStyleModel",
      "state": {
       "description_width": "",
       "font_size": null,
       "text_color": null
      }
     },
     "6925a84c41d84b089316b6fb03b2a5f5": {
      "model_module": "@jupyter-widgets/controls",
      "model_module_version": "2.0.0",
      "model_name": "VBoxModel",
      "state": {
       "children": [
        "IPY_MODEL_a3eb2988c8ae4f7a949ee1f72ca25b12"
       ],
       "layout": "IPY_MODEL_5aa222bdfe4c4df7ae9170b0d3c186c8"
      }
     },
     "6b091112e66b427393e25ea579ea297d": {
      "model_module": "@jupyter-widgets/controls",
      "model_module_version": "2.0.0",
      "model_name": "VBoxModel",
      "state": {
       "children": [
        "IPY_MODEL_3f80aca9d6e346aaa99320cce1c8f997"
       ],
       "layout": "IPY_MODEL_dfb487b9fb314d1cbcd643e39e4ae358"
      }
     },
     "6b2109b57b8c4151b10273913a2c0dcc": {
      "model_module": "@jupyter-widgets/controls",
      "model_module_version": "2.0.0",
      "model_name": "ButtonModel",
      "state": {
       "description": "➤",
       "layout": "IPY_MODEL_7a5a3b9aeb27435bb680d0a1dd913841",
       "style": "IPY_MODEL_9b6a73e9fe3840208336b6ed148ca78f",
       "tooltip": null
      }
     },
     "6b387f32fba94ba69fd2af09efd0e2db": {
      "model_module": "@jupyter-widgets/base",
      "model_module_version": "2.0.0",
      "model_name": "LayoutModel",
      "state": {}
     },
     "6bb7e15ff5de4d7bac1aee3dcdd4e8df": {
      "model_module": "@jupyter-widgets/base",
      "model_module_version": "2.0.0",
      "model_name": "LayoutModel",
      "state": {
       "align_self": "center",
       "height": "32px",
       "margin": "0 0 0 6px",
       "width": "40px"
      }
     },
     "6ccc6a14e330451286c26f4d140d592e": {
      "model_module": "@jupyter-widgets/controls",
      "model_module_version": "2.0.0",
      "model_name": "HTMLModel",
      "state": {
       "layout": "IPY_MODEL_ba68442f83c248e8a5dd69b9f33d403b",
       "style": "IPY_MODEL_777d03fd4e1244b7ab281bb519b32e8c",
       "value": "\n            <div style=\"\n              color:#b5b5b5;\n              text-align:center;\n              padding:40px 0;\n              font-size:1.1em;\n              background:#fff;\n            \">\n              💬 No messages yet. Start the conversation!\n            </div>\n            "
      }
     },
     "6ce04e83d7ec42fa893f5a071fa03d8d": {
      "model_module": "@jupyter-widgets/controls",
      "model_module_version": "2.0.0",
      "model_name": "VBoxModel",
      "state": {
       "children": [
        "IPY_MODEL_9defe9901bb4438aa2c0818e1af707b8"
       ],
       "layout": "IPY_MODEL_bdbdee25b61a4c9f8e6c62a2a19aac22"
      }
     },
     "6d2337e33dd1495f9779eefcda4cc764": {
      "model_module": "@jupyter-widgets/controls",
      "model_module_version": "2.0.0",
      "model_name": "TextModel",
      "state": {
       "layout": "IPY_MODEL_c95e2620586648449cd71f38010b12c1",
       "placeholder": "Type a message...",
       "style": "IPY_MODEL_5c5db6285a0644ea9e93304ac3a17cd0"
      }
     },
     "6d8a6cf0318242ac973b8138e95ae0b7": {
      "model_module": "@jupyter-widgets/base",
      "model_module_version": "2.0.0",
      "model_name": "LayoutModel",
      "state": {}
     },
     "6de385c9496748f39af18a3a4c6eaa29": {
      "model_module": "@jupyter-widgets/controls",
      "model_module_version": "2.0.0",
      "model_name": "VBoxModel",
      "state": {
       "children": [
        "IPY_MODEL_e78e25ab80f649a2a3b2428be512c061"
       ],
       "layout": "IPY_MODEL_41a7c5aa1f6f42f68927d54741be3f45"
      }
     },
     "6f07cc80a1e54291b5d105648129bd5b": {
      "model_module": "@jupyter-widgets/controls",
      "model_module_version": "2.0.0",
      "model_name": "HBoxModel",
      "state": {
       "children": [
        "IPY_MODEL_1b3266daeb1840d8b0da850faa06dc53",
        "IPY_MODEL_c901e0b8f71d4d30adcd18cf39b97d3d"
       ],
       "layout": "IPY_MODEL_4d2dc813fece4fd5bf78c3b7b76bc32d"
      }
     },
     "7161705b94ff442c87e2465054b65f7d": {
      "model_module": "@jupyter-widgets/base",
      "model_module_version": "2.0.0",
      "model_name": "LayoutModel",
      "state": {
       "align_self": "center",
       "height": "32px",
       "margin": "0 0 0 6px",
       "width": "40px"
      }
     },
     "71f3b6fb43e34e5eaac597a82483e8c3": {
      "model_module": "@jupyter-widgets/controls",
      "model_module_version": "2.0.0",
      "model_name": "TextStyleModel",
      "state": {
       "description_width": "",
       "font_size": null,
       "text_color": null
      }
     },
     "7227bf5dcd804ff987d98047a53cd223": {
      "model_module": "@jupyter-widgets/controls",
      "model_module_version": "2.0.0",
      "model_name": "HTMLStyleModel",
      "state": {
       "description_width": "",
       "font_size": null,
       "text_color": null
      }
     },
     "72c945de693c4b0cbd496093713bdb91": {
      "model_module": "@jupyter-widgets/controls",
      "model_module_version": "2.0.0",
      "model_name": "HTMLStyleModel",
      "state": {
       "description_width": "",
       "font_size": null,
       "text_color": null
      }
     },
     "72dd663d40f047f28390ca80bcfcd3d0": {
      "model_module": "@jupyter-widgets/base",
      "model_module_version": "2.0.0",
      "model_name": "LayoutModel",
      "state": {}
     },
     "7328a403be014717ad54d628ae8f545c": {
      "model_module": "@jupyter-widgets/controls",
      "model_module_version": "2.0.0",
      "model_name": "HBoxModel",
      "state": {
       "children": [
        "IPY_MODEL_d05800e8c13c4096ab4a99e7e4694da7",
        "IPY_MODEL_c72b501b42d544a487bb44c110848d3d"
       ],
       "layout": "IPY_MODEL_c4c88f5417c54841909778b2b0912c02"
      }
     },
     "734b23eb88c24c05af07a25ed5b3d735": {
      "model_module": "@jupyter-widgets/base",
      "model_module_version": "2.0.0",
      "model_name": "LayoutModel",
      "state": {}
     },
     "7443be5b6ba54322997db09b665d7c95": {
      "model_module": "@jupyter-widgets/base",
      "model_module_version": "2.0.0",
      "model_name": "LayoutModel",
      "state": {
       "align_self": "center",
       "height": "32px",
       "margin": "0 0 0 6px",
       "width": "40px"
      }
     },
     "7448f359409b48029acb235d35b8a610": {
      "model_module": "@jupyter-widgets/controls",
      "model_module_version": "2.0.0",
      "model_name": "TextStyleModel",
      "state": {
       "description_width": "",
       "font_size": null,
       "text_color": null
      }
     },
     "74e1ed1deeee4a6689ba72823137f68b": {
      "model_module": "@jupyter-widgets/base",
      "model_module_version": "2.0.0",
      "model_name": "LayoutModel",
      "state": {
       "flex": "1 1 auto",
       "width": "auto"
      }
     },
     "751e09cedf244abd970f5d554193b1e5": {
      "model_module": "@jupyter-widgets/controls",
      "model_module_version": "2.0.0",
      "model_name": "VBoxModel",
      "state": {
       "children": [
        "IPY_MODEL_7328a403be014717ad54d628ae8f545c",
        "IPY_MODEL_5372b605e60d4db1b586c69984fc5e17"
       ],
       "layout": "IPY_MODEL_3f3ef222f1a64eaeb636b59cf435f0af"
      }
     },
     "75c67f51f86b44d7a978dd67c93fe94b": {
      "model_module": "@jupyter-widgets/controls",
      "model_module_version": "2.0.0",
      "model_name": "TextStyleModel",
      "state": {
       "description_width": "",
       "font_size": null,
       "text_color": null
      }
     },
     "75e0be5ca8d849b6be4b4e1f27b1718f": {
      "model_module": "@jupyter-widgets/base",
      "model_module_version": "2.0.0",
      "model_name": "LayoutModel",
      "state": {
       "align_self": "flex-start",
       "margin": "0px 8px 8px 0px"
      }
     },
     "76198771b5bd46fe80bb52dc4de91736": {
      "model_module": "@jupyter-widgets/base",
      "model_module_version": "2.0.0",
      "model_name": "LayoutModel",
      "state": {}
     },
     "763103c5c5a646458968fb9591d22548": {
      "model_module": "@jupyter-widgets/base",
      "model_module_version": "2.0.0",
      "model_name": "LayoutModel",
      "state": {
       "align_self": "flex-start",
       "margin": "0px 8px 8px 0px"
      }
     },
     "770cd5f90d3b404797a18843633467c7": {
      "model_module": "@jupyter-widgets/controls",
      "model_module_version": "2.0.0",
      "model_name": "ButtonStyleModel",
      "state": {
       "button_color": "#0084ff",
       "font_family": null,
       "font_size": "14px",
       "font_style": null,
       "font_variant": null,
       "font_weight": "bold",
       "text_color": null,
       "text_decoration": null
      }
     },
     "777d03fd4e1244b7ab281bb519b32e8c": {
      "model_module": "@jupyter-widgets/controls",
      "model_module_version": "2.0.0",
      "model_name": "HTMLStyleModel",
      "state": {
       "description_width": "",
       "font_size": null,
       "text_color": null
      }
     },
     "77e7d7efd3b5410c96645dba43a1630b": {
      "model_module": "@jupyter-widgets/controls",
      "model_module_version": "2.0.0",
      "model_name": "HBoxModel",
      "state": {
       "children": [
        "IPY_MODEL_9d2b319d8f7946399bb6f2d9f5ce2593",
        "IPY_MODEL_9161422dfe0d4711b46064ff6021d056"
       ],
       "layout": "IPY_MODEL_66cf3bf5c2574393977105a80918d2ba"
      }
     },
     "79715e35bbf646b6a64a4ad52be51dea": {
      "model_module": "@jupyter-widgets/controls",
      "model_module_version": "2.0.0",
      "model_name": "ButtonModel",
      "state": {
       "description": "➤",
       "layout": "IPY_MODEL_ea9debac33f1472ca6214146d3f5f96c",
       "style": "IPY_MODEL_e44bf190e89f41f9af3907a60312db45",
       "tooltip": null
      }
     },
     "79823ef1c87c47f2be2a5314c387be6c": {
      "model_module": "@jupyter-widgets/base",
      "model_module_version": "2.0.0",
      "model_name": "LayoutModel",
      "state": {
       "align_self": "center",
       "height": "32px",
       "margin": "0 0 0 6px",
       "width": "40px"
      }
     },
     "79b02512661a48b8b2889e26cb7745e3": {
      "model_module": "@jupyter-widgets/controls",
      "model_module_version": "2.0.0",
      "model_name": "HTMLModel",
      "state": {
       "layout": "IPY_MODEL_62bdc72ed6b346e5abe2d8c5b87e23b0",
       "style": "IPY_MODEL_7227bf5dcd804ff987d98047a53cd223",
       "value": "\n            <div style=\"\n              color:#b5b5b5;\n              text-align:center;\n              padding:40px 0;\n              font-size:1.1em;\n              background:#fff;\n            \">\n              💬 No messages yet. Start the conversation!\n            </div>\n            "
      }
     },
     "7a42b91c77184fad9535ca1029a86f31": {
      "model_module": "@jupyter-widgets/controls",
      "model_module_version": "2.0.0",
      "model_name": "HTMLStyleModel",
      "state": {
       "description_width": "",
       "font_size": null,
       "text_color": null
      }
     },
     "7a5a3b9aeb27435bb680d0a1dd913841": {
      "model_module": "@jupyter-widgets/base",
      "model_module_version": "2.0.0",
      "model_name": "LayoutModel",
      "state": {
       "align_self": "center",
       "height": "32px",
       "margin": "0 0 0 6px",
       "width": "40px"
      }
     },
     "7a5a4d75692d4aa9a7f35a5715684d8b": {
      "model_module": "@jupyter-widgets/controls",
      "model_module_version": "2.0.0",
      "model_name": "TextModel",
      "state": {
       "layout": "IPY_MODEL_2da1a731e6914eed8ad3ee4064227562",
       "placeholder": "Type a message...",
       "style": "IPY_MODEL_856bc79e21f34428ab6047455729083e"
      }
     },
     "7a8d376f52d74c8699d646516befa22c": {
      "model_module": "@jupyter-widgets/base",
      "model_module_version": "2.0.0",
      "model_name": "LayoutModel",
      "state": {
       "padding": "4px 4px",
       "width": "100%"
      }
     },
     "7ae740d5de0b4fbf83b529823f15fcfa": {
      "model_module": "@jupyter-widgets/base",
      "model_module_version": "2.0.0",
      "model_name": "LayoutModel",
      "state": {
       "align_self": "center",
       "height": "32px",
       "margin": "0 0 0 6px",
       "width": "40px"
      }
     },
     "7b30084b93c5410c8fc02d6751aa4826": {
      "model_module": "@jupyter-widgets/base",
      "model_module_version": "2.0.0",
      "model_name": "LayoutModel",
      "state": {
       "align_self": "center",
       "height": "32px",
       "margin": "0 0 0 6px",
       "width": "40px"
      }
     },
     "7bd73d240c1341809d2871a846a1cd6c": {
      "model_module": "@jupyter-widgets/controls",
      "model_module_version": "2.0.0",
      "model_name": "ButtonStyleModel",
      "state": {
       "button_color": "#0084ff",
       "font_family": null,
       "font_size": "14px",
       "font_style": null,
       "font_variant": null,
       "font_weight": "bold",
       "text_color": null,
       "text_decoration": null
      }
     },
     "7db03e935ed049918342b577cee23638": {
      "model_module": "@jupyter-widgets/base",
      "model_module_version": "2.0.0",
      "model_name": "LayoutModel",
      "state": {}
     },
     "7ea99c9f181349c2bf27beec85dd1ce8": {
      "model_module": "@jupyter-widgets/controls",
      "model_module_version": "2.0.0",
      "model_name": "VBoxModel",
      "state": {
       "children": [
        "IPY_MODEL_ae496b09a649453b9188e04657604629"
       ],
       "layout": "IPY_MODEL_d31fdd108b584884ac0e9d1c8974ae6e"
      }
     },
     "7f45bedd42914731a6f2a72c3c34e077": {
      "model_module": "@jupyter-widgets/base",
      "model_module_version": "2.0.0",
      "model_name": "LayoutModel",
      "state": {
       "align_self": "flex-start",
       "margin": "8px 0px 0px 0px"
      }
     },
     "807be9691d9e4612b6fab841e5aee22e": {
      "model_module": "@jupyter-widgets/base",
      "model_module_version": "2.0.0",
      "model_name": "LayoutModel",
      "state": {
       "align_self": "center",
       "height": "32px",
       "margin": "0 0 0 6px",
       "width": "40px"
      }
     },
     "80bfceec79e74d689bfe8e5371a34582": {
      "model_module": "@jupyter-widgets/controls",
      "model_module_version": "2.0.0",
      "model_name": "HTMLStyleModel",
      "state": {
       "description_width": "",
       "font_size": null,
       "text_color": null
      }
     },
     "80e18dd6852e489a997960fd81d60716": {
      "model_module": "@jupyter-widgets/base",
      "model_module_version": "2.0.0",
      "model_name": "LayoutModel",
      "state": {
       "padding": "4px 4px",
       "width": "100%"
      }
     },
     "8156b57238714ab191e35c670cb0e16f": {
      "model_module": "@jupyter-widgets/controls",
      "model_module_version": "2.0.0",
      "model_name": "TextModel",
      "state": {
       "layout": "IPY_MODEL_32af798e8a5445629ffb3b3018188f77",
       "placeholder": "Type a message...",
       "style": "IPY_MODEL_5ac44a1f8d8d40268678c144d4d83cf7"
      }
     },
     "81b3a2c226974657b24c39921369fffd": {
      "model_module": "@jupyter-widgets/controls",
      "model_module_version": "2.0.0",
      "model_name": "TextStyleModel",
      "state": {
       "description_width": "",
       "font_size": null,
       "text_color": null
      }
     },
     "81fd9472a3d34d7fa334739a29e3c895": {
      "model_module": "@jupyter-widgets/controls",
      "model_module_version": "2.0.0",
      "model_name": "TextModel",
      "state": {
       "layout": "IPY_MODEL_5099c4b8b8ec4d9b8072292e8b1e66e0",
       "placeholder": "Type a message...",
       "style": "IPY_MODEL_fc565f7b310c4a90a6fcdbc50167755c"
      }
     },
     "8262eaf94cc94ccaa34c7d45f5538f2c": {
      "model_module": "@jupyter-widgets/controls",
      "model_module_version": "2.0.0",
      "model_name": "HTMLStyleModel",
      "state": {
       "description_width": "",
       "font_size": null,
       "text_color": null
      }
     },
     "832aaec8c21747dfb1505166cf263a76": {
      "model_module": "@jupyter-widgets/base",
      "model_module_version": "2.0.0",
      "model_name": "LayoutModel",
      "state": {
       "padding": "4px 4px",
       "width": "100%"
      }
     },
     "834689217556407d9b4f12bae351e1a6": {
      "model_module": "@jupyter-widgets/base",
      "model_module_version": "2.0.0",
      "model_name": "LayoutModel",
      "state": {}
     },
     "83852f86d8c24e61b895b0dd8218b891": {
      "model_module": "@jupyter-widgets/controls",
      "model_module_version": "2.0.0",
      "model_name": "ButtonModel",
      "state": {
       "description": "➤",
       "layout": "IPY_MODEL_7b30084b93c5410c8fc02d6751aa4826",
       "style": "IPY_MODEL_acf6d9708ca84955a5fd6e3cce2dd412",
       "tooltip": null
      }
     },
     "83b6c7cee15f4467a1315c49b81db0ea": {
      "model_module": "@jupyter-widgets/base",
      "model_module_version": "2.0.0",
      "model_name": "LayoutModel",
      "state": {}
     },
     "8460a54d6a914e0a8fd7cd2d6295b82e": {
      "model_module": "@jupyter-widgets/controls",
      "model_module_version": "2.0.0",
      "model_name": "HTMLStyleModel",
      "state": {
       "description_width": "",
       "font_size": null,
       "text_color": null
      }
     },
     "8492d847b8db4a6b8e71f0727a9cf3de": {
      "model_module": "@jupyter-widgets/controls",
      "model_module_version": "2.0.0",
      "model_name": "HTMLModel",
      "state": {
       "layout": "IPY_MODEL_c5cca12190254f8e8e645c8d44c47b85",
       "style": "IPY_MODEL_4ffc72400d1e42c5b204f7cea879ef0b",
       "value": "\n            <div style=\"\n              color:#b5b5b5;\n              text-align:center;\n              padding:40px 0;\n              font-size:1.1em;\n              background:#fff;\n            \">\n              💬 No messages yet. Start the conversation!\n            </div>\n            "
      }
     },
     "85283b0de4e141dbb391b55b61a6d7a4": {
      "model_module": "@jupyter-widgets/controls",
      "model_module_version": "2.0.0",
      "model_name": "ButtonStyleModel",
      "state": {
       "button_color": "#0084ff",
       "font_family": null,
       "font_size": "14px",
       "font_style": null,
       "font_variant": null,
       "font_weight": "bold",
       "text_color": null,
       "text_decoration": null
      }
     },
     "856bc79e21f34428ab6047455729083e": {
      "model_module": "@jupyter-widgets/controls",
      "model_module_version": "2.0.0",
      "model_name": "TextStyleModel",
      "state": {
       "description_width": "",
       "font_size": null,
       "text_color": null
      }
     },
     "85eea1c2935e4e2c80548ea47ed8be8c": {
      "model_module": "@jupyter-widgets/controls",
      "model_module_version": "2.0.0",
      "model_name": "VBoxModel",
      "state": {
       "children": [
        "IPY_MODEL_c19cf3909f12446582ccfcf80d148ffe"
       ],
       "layout": "IPY_MODEL_bda840b84edb450b9a8c2a4a02d5b61b"
      }
     },
     "8673394ccde949fca003d189b4c41dee": {
      "model_module": "@jupyter-widgets/base",
      "model_module_version": "2.0.0",
      "model_name": "LayoutModel",
      "state": {}
     },
     "8686262cc5264ea0ab1630d5993bb32e": {
      "model_module": "@jupyter-widgets/controls",
      "model_module_version": "2.0.0",
      "model_name": "ButtonModel",
      "state": {
       "description": "➤",
       "layout": "IPY_MODEL_c31d7823a2714934bc2da9ca9d2e97da",
       "style": "IPY_MODEL_85283b0de4e141dbb391b55b61a6d7a4",
       "tooltip": null
      }
     },
     "86d162a9e1ee4f5ebc25d019ed3dd650": {
      "model_module": "@jupyter-widgets/base",
      "model_module_version": "2.0.0",
      "model_name": "LayoutModel",
      "state": {}
     },
     "86e91211858340039cc88fbc11d1bbf9": {
      "model_module": "@jupyter-widgets/controls",
      "model_module_version": "2.0.0",
      "model_name": "HTMLModel",
      "state": {
       "layout": "IPY_MODEL_c39c9dcd41924e109d75f8b1c3f80cd9",
       "style": "IPY_MODEL_72c945de693c4b0cbd496093713bdb91",
       "value": "\n            <div style=\"\n              color:#b5b5b5;\n              text-align:center;\n              padding:40px 0;\n              font-size:1.1em;\n              background:#fff;\n            \">\n              💬 No messages yet. Start the conversation!\n            </div>\n            "
      }
     },
     "873d952576c2497b927522d0a5e941b2": {
      "model_module": "@jupyter-widgets/controls",
      "model_module_version": "2.0.0",
      "model_name": "HTMLModel",
      "state": {
       "layout": "IPY_MODEL_763103c5c5a646458968fb9591d22548",
       "style": "IPY_MODEL_acacfef159a24262ad151ae67b258744",
       "value": "<div style=\"width:36px;height:36px;background:#eeeeee;border-radius:12px;display:flex;align-items:center;justify-content:center;box-shadow:0 1px 4px rgba(60,60,60,0.10);\"><span style=\"font-size:18px;line-height:1;\">🤖</span></div>"
      }
     },
     "87ba8a9dd37e42a39421069f86f97ff0": {
      "model_module": "@jupyter-widgets/base",
      "model_module_version": "2.0.0",
      "model_name": "LayoutModel",
      "state": {
       "align_items": "flex-start"
      }
     },
     "88267b1be5d3456d94c907e33d03ef13": {
      "model_module": "@jupyter-widgets/controls",
      "model_module_version": "2.0.0",
      "model_name": "HBoxModel",
      "state": {
       "children": [
        "IPY_MODEL_25904636d26f4ebd88aaa1b91ec6214d",
        "IPY_MODEL_1f02aad3921244888ebeb77b933399e1"
       ],
       "layout": "IPY_MODEL_e43b8a1e06e940d4b14549c27194785d"
      }
     },
     "8a4f7989018f4235938e2b5928d6ce45": {
      "model_module": "@jupyter-widgets/base",
      "model_module_version": "2.0.0",
      "model_name": "LayoutModel",
      "state": {}
     },
     "8a88d16512a84ecfb5f7e8c90bba387c": {
      "model_module": "@jupyter-widgets/controls",
      "model_module_version": "2.0.0",
      "model_name": "VBoxModel",
      "state": {
       "children": [
        "IPY_MODEL_4715431255c348f0b104659fc2473683"
       ],
       "layout": "IPY_MODEL_e0451238b9cc4dbd92cb0eca50373555"
      }
     },
     "8aeb804f13004cba87f9df8f3ff986e3": {
      "model_module": "@jupyter-widgets/controls",
      "model_module_version": "2.0.0",
      "model_name": "HTMLModel",
      "state": {
       "layout": "IPY_MODEL_a2af564c0d7443568a49e6b79b766067",
       "style": "IPY_MODEL_14e1e59c9b3b493da8eb8d077f6bb6f6",
       "value": "\n            <div style=\"\n              color:#b5b5b5;\n              text-align:center;\n              padding:40px 0;\n              font-size:1.1em;\n              background:#fff;\n            \">\n              💬 No messages yet. Start the conversation!\n            </div>\n            "
      }
     },
     "8aeef044524d466e94b60db8068fd0bf": {
      "model_module": "@jupyter-widgets/controls",
      "model_module_version": "2.0.0",
      "model_name": "TextModel",
      "state": {
       "layout": "IPY_MODEL_608889aaaea94362aae2354c0ff59d83",
       "placeholder": "Type a message...",
       "style": "IPY_MODEL_b6eddaa1472544deb1233e17e7e3cfe2"
      }
     },
     "8b592aa8286e447c862297b107885295": {
      "model_module": "@jupyter-widgets/base",
      "model_module_version": "2.0.0",
      "model_name": "LayoutModel",
      "state": {
       "align_self": "center",
       "height": "32px",
       "margin": "0 0 0 6px",
       "width": "40px"
      }
     },
     "8b950ebe71dc44839a78512ceba984d3": {
      "model_module": "@jupyter-widgets/controls",
      "model_module_version": "2.0.0",
      "model_name": "ButtonModel",
      "state": {
       "description": "➤",
       "layout": "IPY_MODEL_01add2a9527b446d97240a9699247c84",
       "style": "IPY_MODEL_db61ed05895c4d27842281d14c47530c",
       "tooltip": null
      }
     },
     "8bc1967fd3724e4382af2e0315c6db2f": {
      "model_module": "@jupyter-widgets/controls",
      "model_module_version": "2.0.0",
      "model_name": "HBoxModel",
      "state": {
       "children": [
        "IPY_MODEL_f78f2fdae9004f47b1b9dcb5b67385c6",
        "IPY_MODEL_c7881939c85349c9b2f3b19f46665295"
       ],
       "layout": "IPY_MODEL_beeb74f19f7f4c89a889a294f07884c8"
      }
     },
     "8c2fded86bee4127a333b8c8438ea035": {
      "model_module": "@jupyter-widgets/base",
      "model_module_version": "2.0.0",
      "model_name": "LayoutModel",
      "state": {}
     },
     "8d0e125c9ae6442f9fe7851ab8094707": {
      "model_module": "@jupyter-widgets/base",
      "model_module_version": "2.0.0",
      "model_name": "LayoutModel",
      "state": {
       "flex": "1 1 auto",
       "width": "auto"
      }
     },
     "8d80fe92ba0d4973804bda61d0ee46c7": {
      "model_module": "@jupyter-widgets/base",
      "model_module_version": "2.0.0",
      "model_name": "LayoutModel",
      "state": {}
     },
     "8f4cac2fa94d4da4a089552eb96f851c": {
      "model_module": "@jupyter-widgets/base",
      "model_module_version": "2.0.0",
      "model_name": "LayoutModel",
      "state": {
       "flex": "1 1 auto",
       "width": "auto"
      }
     },
     "900fb56cd4a840a5a1b9a2442559b470": {
      "model_module": "@jupyter-widgets/base",
      "model_module_version": "2.0.0",
      "model_name": "LayoutModel",
      "state": {
       "flex": "1 1 auto",
       "width": "auto"
      }
     },
     "914273aed2e647868d5040866d433f76": {
      "model_module": "@jupyter-widgets/controls",
      "model_module_version": "2.0.0",
      "model_name": "VBoxModel",
      "state": {
       "children": [
        "IPY_MODEL_0df64df624de424dbefe1177d64f3f9a"
       ],
       "layout": "IPY_MODEL_0bba4969d58949f8ab0dabd423ba4c8b"
      }
     },
     "9161422dfe0d4711b46064ff6021d056": {
      "model_module": "@jupyter-widgets/output",
      "model_module_version": "1.0.0",
      "model_name": "OutputModel",
      "state": {
       "layout": "IPY_MODEL_094e17891ff24f59a9dc726b81708952"
      }
     },
     "91c7ac3bfbf0484e878ce9bc6d50e4a8": {
      "model_module": "@jupyter-widgets/base",
      "model_module_version": "2.0.0",
      "model_name": "LayoutModel",
      "state": {
       "align_self": "center",
       "height": "32px",
       "margin": "0 0 0 6px",
       "width": "40px"
      }
     },
     "92ee51c690414c5fad318db9057b5321": {
      "model_module": "@jupyter-widgets/controls",
      "model_module_version": "2.0.0",
      "model_name": "TextStyleModel",
      "state": {
       "description_width": "",
       "font_size": null,
       "text_color": null
      }
     },
     "932924d424674b6faff866454335c78e": {
      "model_module": "@jupyter-widgets/base",
      "model_module_version": "2.0.0",
      "model_name": "LayoutModel",
      "state": {}
     },
     "9397e2b81bf946638be7f8122b05f849": {
      "model_module": "@jupyter-widgets/controls",
      "model_module_version": "2.0.0",
      "model_name": "VBoxModel",
      "state": {
       "children": [
        "IPY_MODEL_55bf7531fa4743459b11dc3e88e2bbdf"
       ],
       "layout": "IPY_MODEL_e031b1e7bc8c476aad62f14e464a035a"
      }
     },
     "9408a83de5fb411cbbc291eec51e98a8": {
      "model_module": "@jupyter-widgets/controls",
      "model_module_version": "2.0.0",
      "model_name": "TextStyleModel",
      "state": {
       "description_width": "",
       "font_size": null,
       "text_color": null
      }
     },
     "94680d77ca884f76b337ba220994d7a1": {
      "model_module": "@jupyter-widgets/base",
      "model_module_version": "2.0.0",
      "model_name": "LayoutModel",
      "state": {}
     },
     "94c0cc29e7dd4b6aac65fbfe687a60e1": {
      "model_module": "@jupyter-widgets/controls",
      "model_module_version": "2.0.0",
      "model_name": "TextModel",
      "state": {
       "layout": "IPY_MODEL_c5b08e84b8f745f28bf9930fd80213aa",
       "placeholder": "Type a message...",
       "style": "IPY_MODEL_ac58dd5de0474ce1a93110b8bea6ea5e"
      }
     },
     "95bf915ac0114bc996f23f33dd60e5b6": {
      "model_module": "@jupyter-widgets/controls",
      "model_module_version": "2.0.0",
      "model_name": "HBoxModel",
      "state": {
       "children": [
        "IPY_MODEL_9ca4a8cc46334ae6a5c2c27412969d48",
        "IPY_MODEL_6b2109b57b8c4151b10273913a2c0dcc"
       ],
       "layout": "IPY_MODEL_5f58eb9eeb1c4b7881d21078aabf8cc2"
      }
     },
     "962e49973f7c4f578c0bfbf408504461": {
      "model_module": "@jupyter-widgets/controls",
      "model_module_version": "2.0.0",
      "model_name": "TextStyleModel",
      "state": {
       "description_width": "",
       "font_size": null,
       "text_color": null
      }
     },
     "96abc037bc2843fc8a5cded097e731c9": {
      "model_module": "@jupyter-widgets/base",
      "model_module_version": "2.0.0",
      "model_name": "LayoutModel",
      "state": {
       "align_items": "flex-start"
      }
     },
     "96b6036633604d24a96272e0aa1a48a9": {
      "model_module": "@jupyter-widgets/controls",
      "model_module_version": "2.0.0",
      "model_name": "TextModel",
      "state": {
       "layout": "IPY_MODEL_0095c6896763404fbd99ec909eb74e02",
       "placeholder": "Type a message...",
       "style": "IPY_MODEL_22fc9c5973764300a9229365e76aa426"
      }
     },
     "974ed559612b4a1383012987de154105": {
      "model_module": "@jupyter-widgets/controls",
      "model_module_version": "2.0.0",
      "model_name": "HTMLModel",
      "state": {
       "layout": "IPY_MODEL_c70c4e5892d74299b472c9f3b9bb4020",
       "style": "IPY_MODEL_ca086eff16f04e999564490a298dee1f",
       "value": "\n            <div style=\"\n              color:#b5b5b5;\n              text-align:center;\n              padding:40px 0;\n              font-size:1.1em;\n              background:#fff;\n            \">\n              💬 No messages yet. Start the conversation!\n            </div>\n            "
      }
     },
     "975751fb418a476c853cfc92e99b4987": {
      "model_module": "@jupyter-widgets/controls",
      "model_module_version": "2.0.0",
      "model_name": "HBoxModel",
      "state": {
       "children": [
        "IPY_MODEL_f453ac2c76d04a2da4d8d72156a3a421",
        "IPY_MODEL_5db973239908418f8b35d635efd0da55"
       ],
       "layout": "IPY_MODEL_9cc442a934514ed380d6e82a8a53ca3a"
      }
     },
     "98fff11642464a518d3515f871669e0a": {
      "model_module": "@jupyter-widgets/controls",
      "model_module_version": "2.0.0",
      "model_name": "TextStyleModel",
      "state": {
       "description_width": "",
       "font_size": null,
       "text_color": null
      }
     },
     "9a963fbd1fa54b0d89a106928ef47740": {
      "model_module": "@jupyter-widgets/controls",
      "model_module_version": "2.0.0",
      "model_name": "ButtonModel",
      "state": {
       "description": "➤",
       "layout": "IPY_MODEL_7161705b94ff442c87e2465054b65f7d",
       "style": "IPY_MODEL_acb0e9ac59714cfdb3c42ff160d9e841",
       "tooltip": null
      }
     },
     "9ae5fbec419548ebb0f9d906a55e3513": {
      "model_module": "@jupyter-widgets/controls",
      "model_module_version": "2.0.0",
      "model_name": "HBoxModel",
      "state": {
       "children": [
        "IPY_MODEL_d29da8fcb37a4fa0b2d19d2e61803b39",
        "IPY_MODEL_9d7cb8d15cac49b5a4f214d35644e7d1"
       ],
       "layout": "IPY_MODEL_6d8a6cf0318242ac973b8138e95ae0b7"
      }
     },
     "9b6a73e9fe3840208336b6ed148ca78f": {
      "model_module": "@jupyter-widgets/controls",
      "model_module_version": "2.0.0",
      "model_name": "ButtonStyleModel",
      "state": {
       "button_color": "#0084ff",
       "font_family": null,
       "font_size": "14px",
       "font_style": null,
       "font_variant": null,
       "font_weight": "bold",
       "text_color": null,
       "text_decoration": null
      }
     },
     "9b6cd76f7ae748d28374317e5a529d86": {
      "model_module": "@jupyter-widgets/controls",
      "model_module_version": "2.0.0",
      "model_name": "VBoxModel",
      "state": {
       "children": [
        "IPY_MODEL_6ccc6a14e330451286c26f4d140d592e"
       ],
       "layout": "IPY_MODEL_250bd9cb874146dfb0d786272af371f9"
      }
     },
     "9c0912636fb24e07a151d3170d22c411": {
      "model_module": "@jupyter-widgets/controls",
      "model_module_version": "2.0.0",
      "model_name": "HBoxModel",
      "state": {
       "children": [
        "IPY_MODEL_22e206cc67304379b14540dc5b133b8e",
        "IPY_MODEL_bccf4faa9990485bb68b680a7ece4f0f"
       ],
       "layout": "IPY_MODEL_b0e981bfc01a4d62a1ba1d70b6b37317"
      }
     },
     "9c9fa4dee3e844f1a3c11038d5b28aa7": {
      "model_module": "@jupyter-widgets/controls",
      "model_module_version": "2.0.0",
      "model_name": "HTMLModel",
      "state": {
       "layout": "IPY_MODEL_38d500c2719e482f980404e00dd16eb1",
       "style": "IPY_MODEL_80bfceec79e74d689bfe8e5371a34582",
       "value": "\n            <div style=\"\n              color:#b5b5b5;\n              text-align:center;\n              padding:40px 0;\n              font-size:1.1em;\n              background:#fff;\n            \">\n              💬 No messages yet. Start the conversation!\n            </div>\n            "
      }
     },
     "9ca4a8cc46334ae6a5c2c27412969d48": {
      "model_module": "@jupyter-widgets/controls",
      "model_module_version": "2.0.0",
      "model_name": "TextModel",
      "state": {
       "layout": "IPY_MODEL_c26af23413994c6cbe8401a8ba749a36",
       "placeholder": "Type a message...",
       "style": "IPY_MODEL_5bf7cc70b87a441990d83c9bb0185ff9"
      }
     },
     "9cc442a934514ed380d6e82a8a53ca3a": {
      "model_module": "@jupyter-widgets/base",
      "model_module_version": "2.0.0",
      "model_name": "LayoutModel",
      "state": {}
     },
     "9d2b319d8f7946399bb6f2d9f5ce2593": {
      "model_module": "@jupyter-widgets/controls",
      "model_module_version": "2.0.0",
      "model_name": "HTMLModel",
      "state": {
       "layout": "IPY_MODEL_476f92b14a7949759b671ed0a6dd5dee",
       "style": "IPY_MODEL_c4d9c96b1fb94be1b1df19eb62a29e5c",
       "value": "<div style=\"width:36px;height:36px;background:#84c4ff;border-radius:12px;display:flex;align-items:center;justify-content:center;box-shadow:0 1px 4px rgba(60,60,60,0.10);\"><span style=\"font-size:18px;line-height:1;\">👤</span></div>"
      }
     },
     "9d7cb8d15cac49b5a4f214d35644e7d1": {
      "model_module": "@jupyter-widgets/controls",
      "model_module_version": "2.0.0",
      "model_name": "ButtonModel",
      "state": {
       "description": "➤",
       "layout": "IPY_MODEL_ca46990d7cce43cd82835e4a7824ae2e",
       "style": "IPY_MODEL_411114445f454bca9f9320098934d7ef",
       "tooltip": null
      }
     },
     "9defe9901bb4438aa2c0818e1af707b8": {
      "model_module": "@jupyter-widgets/controls",
      "model_module_version": "2.0.0",
      "model_name": "HTMLModel",
      "state": {
       "layout": "IPY_MODEL_19c0d4a7f3324ac38e5a30f68d3ea981",
       "style": "IPY_MODEL_a6b92fbfcd1e4fe8b547a591fe0c4a44",
       "value": "\n            <div style=\"\n              color:#b5b5b5;\n              text-align:center;\n              padding:40px 0;\n              font-size:1.1em;\n              background:#fff;\n            \">\n              💬 No messages yet. Start the conversation!\n            </div>\n            "
      }
     },
     "9e2e01e22956412faa7e5c5a6e19e114": {
      "model_module": "@jupyter-widgets/base",
      "model_module_version": "2.0.0",
      "model_name": "LayoutModel",
      "state": {
       "align_self": "flex-start",
       "margin": "8px 0px 0px 0px"
      }
     },
     "9f06fadc5cb64a419bed7ee63e678b28": {
      "model_module": "@jupyter-widgets/controls",
      "model_module_version": "2.0.0",
      "model_name": "HTMLModel",
      "state": {
       "layout": "IPY_MODEL_75e0be5ca8d849b6be4b4e1f27b1718f",
       "style": "IPY_MODEL_cffbed4941744fbe8a3f9dfb9c5eabd6",
       "value": "<div style=\"width:36px;height:36px;background:#eeeeee;border-radius:12px;display:flex;align-items:center;justify-content:center;box-shadow:0 1px 4px rgba(60,60,60,0.10);\"><span style=\"font-size:18px;line-height:1;\">🤖</span></div>"
      }
     },
     "9fe780b07c6a4a89a424560c4f550952": {
      "model_module": "@jupyter-widgets/controls",
      "model_module_version": "2.0.0",
      "model_name": "TextModel",
      "state": {
       "layout": "IPY_MODEL_4e971cf7a8e840c9b38b557a104edf4a",
       "placeholder": "Type a message...",
       "style": "IPY_MODEL_cb7fc259b98547b3891566a36bdbfdff"
      }
     },
     "a0b8ae493afc433bab587ef55a1c0f7f": {
      "model_module": "@jupyter-widgets/controls",
      "model_module_version": "2.0.0",
      "model_name": "VBoxModel",
      "state": {
       "children": [
        "IPY_MODEL_9c9fa4dee3e844f1a3c11038d5b28aa7"
       ],
       "layout": "IPY_MODEL_6349dda2bc044eb3840d3f1f6ca2f89b"
      }
     },
     "a211d35e1cb945278ea1dba404fd02c0": {
      "model_module": "@jupyter-widgets/controls",
      "model_module_version": "2.0.0",
      "model_name": "TextStyleModel",
      "state": {
       "description_width": "",
       "font_size": null,
       "text_color": null
      }
     },
     "a2af564c0d7443568a49e6b79b766067": {
      "model_module": "@jupyter-widgets/base",
      "model_module_version": "2.0.0",
      "model_name": "LayoutModel",
      "state": {}
     },
     "a2d1b2e2d4ee495f8b266a8c0f036849": {
      "model_module": "@jupyter-widgets/controls",
      "model_module_version": "2.0.0",
      "model_name": "HBoxModel",
      "state": {
       "children": [
        "IPY_MODEL_96b6036633604d24a96272e0aa1a48a9",
        "IPY_MODEL_038a57ad8acc4a3bab24be85b92f9ef3"
       ],
       "layout": "IPY_MODEL_834689217556407d9b4f12bae351e1a6"
      }
     },
     "a2ee70d018ca4e17942e648ea361be20": {
      "model_module": "@jupyter-widgets/base",
      "model_module_version": "2.0.0",
      "model_name": "LayoutModel",
      "state": {
       "align_self": "center",
       "height": "32px",
       "margin": "0 0 0 6px",
       "width": "40px"
      }
     },
     "a310bb9b1deb44baaa99f3123ff4dd66": {
      "model_module": "@jupyter-widgets/base",
      "model_module_version": "2.0.0",
      "model_name": "LayoutModel",
      "state": {
       "align_self": "center",
       "height": "32px",
       "margin": "0 0 0 6px",
       "width": "40px"
      }
     },
     "a3eb2988c8ae4f7a949ee1f72ca25b12": {
      "model_module": "@jupyter-widgets/controls",
      "model_module_version": "2.0.0",
      "model_name": "HTMLModel",
      "state": {
       "layout": "IPY_MODEL_e67a170b86544a088f4a8d6505cde630",
       "style": "IPY_MODEL_c59a69fe9d224059a47df71966500760",
       "value": "\n            <div style=\"\n              color:#b5b5b5;\n              text-align:center;\n              padding:40px 0;\n              font-size:1.1em;\n              background:#fff;\n            \">\n              💬 No messages yet. Start the conversation!\n            </div>\n            "
      }
     },
     "a42a01d1b86b42a9b43505032be3d9a9": {
      "model_module": "@jupyter-widgets/base",
      "model_module_version": "2.0.0",
      "model_name": "LayoutModel",
      "state": {
       "align_self": "center",
       "height": "32px",
       "margin": "0 0 0 6px",
       "width": "40px"
      }
     },
     "a4633236bb844957b9db4156386a9ca6": {
      "model_module": "@jupyter-widgets/base",
      "model_module_version": "2.0.0",
      "model_name": "LayoutModel",
      "state": {
       "align_self": "center",
       "height": "32px",
       "margin": "0 0 0 6px",
       "width": "40px"
      }
     },
     "a4eb52205eef4bd4ab98705faa66e8fe": {
      "model_module": "@jupyter-widgets/controls",
      "model_module_version": "2.0.0",
      "model_name": "TextStyleModel",
      "state": {
       "description_width": "",
       "font_size": null,
       "text_color": null
      }
     },
     "a5c8adce593f42bd8aee24ab038069f7": {
      "model_module": "@jupyter-widgets/base",
      "model_module_version": "2.0.0",
      "model_name": "LayoutModel",
      "state": {
       "flex": "1 1 auto",
       "width": "auto"
      }
     },
     "a6b92fbfcd1e4fe8b547a591fe0c4a44": {
      "model_module": "@jupyter-widgets/controls",
      "model_module_version": "2.0.0",
      "model_name": "HTMLStyleModel",
      "state": {
       "description_width": "",
       "font_size": null,
       "text_color": null
      }
     },
     "a74b69ec21e84b028726a29338ad74c6": {
      "model_module": "@jupyter-widgets/base",
      "model_module_version": "2.0.0",
      "model_name": "LayoutModel",
      "state": {}
     },
     "a76074b4a13d4b24947c3859f7327280": {
      "model_module": "@jupyter-widgets/base",
      "model_module_version": "2.0.0",
      "model_name": "LayoutModel",
      "state": {}
     },
     "a76d4da1673f438fad71e180b6790345": {
      "model_module": "@jupyter-widgets/controls",
      "model_module_version": "2.0.0",
      "model_name": "ButtonStyleModel",
      "state": {
       "button_color": "#0084ff",
       "font_family": null,
       "font_size": "14px",
       "font_style": null,
       "font_variant": null,
       "font_weight": "bold",
       "text_color": null,
       "text_decoration": null
      }
     },
     "a76e5e2209fe422e93bc4aa7acbbdd6f": {
      "model_module": "@jupyter-widgets/base",
      "model_module_version": "2.0.0",
      "model_name": "LayoutModel",
      "state": {
       "padding": "4px 4px",
       "width": "100%"
      }
     },
     "a83d05a8e293461faaa4f8540dbf29bb": {
      "model_module": "@jupyter-widgets/controls",
      "model_module_version": "2.0.0",
      "model_name": "HTMLModel",
      "state": {
       "layout": "IPY_MODEL_ff7f39e10e23462998c3d9ea2ed8752c",
       "style": "IPY_MODEL_8460a54d6a914e0a8fd7cd2d6295b82e",
       "value": "\n            <div style=\"\n              color:#b5b5b5;\n              text-align:center;\n              padding:40px 0;\n              font-size:1.1em;\n              background:#fff;\n            \">\n              💬 No messages yet. Start the conversation!\n            </div>\n            "
      }
     },
     "a8a5dae5e5f4481c832948f6099b40b5": {
      "model_module": "@jupyter-widgets/controls",
      "model_module_version": "2.0.0",
      "model_name": "HBoxModel",
      "state": {
       "children": [
        "IPY_MODEL_9f06fadc5cb64a419bed7ee63e678b28",
        "IPY_MODEL_b3bb0c02f07a4313bfd77ca7deb2ec7e"
       ],
       "layout": "IPY_MODEL_87ba8a9dd37e42a39421069f86f97ff0"
      }
     },
     "a9991f38f0d04ae9bb1845795deb0072": {
      "model_module": "@jupyter-widgets/base",
      "model_module_version": "2.0.0",
      "model_name": "LayoutModel",
      "state": {
       "align_self": "center",
       "height": "32px",
       "margin": "0 0 0 6px",
       "width": "40px"
      }
     },
     "a9aca9f3a9224b08a6131a49084c99a2": {
      "model_module": "@jupyter-widgets/base",
      "model_module_version": "2.0.0",
      "model_name": "LayoutModel",
      "state": {}
     },
     "a9c984fe56e84860ad794813f1eef2dc": {
      "model_module": "@jupyter-widgets/base",
      "model_module_version": "2.0.0",
      "model_name": "LayoutModel",
      "state": {
       "padding": "4px 4px",
       "width": "100%"
      }
     },
     "a9d255eda0ed46d28897cbb06537134d": {
      "model_module": "@jupyter-widgets/controls",
      "model_module_version": "2.0.0",
      "model_name": "HTMLStyleModel",
      "state": {
       "description_width": "",
       "font_size": null,
       "text_color": null
      }
     },
     "ac58dd5de0474ce1a93110b8bea6ea5e": {
      "model_module": "@jupyter-widgets/controls",
      "model_module_version": "2.0.0",
      "model_name": "TextStyleModel",
      "state": {
       "description_width": "",
       "font_size": null,
       "text_color": null
      }
     },
     "acacfef159a24262ad151ae67b258744": {
      "model_module": "@jupyter-widgets/controls",
      "model_module_version": "2.0.0",
      "model_name": "HTMLStyleModel",
      "state": {
       "description_width": "",
       "font_size": null,
       "text_color": null
      }
     },
     "acb0e9ac59714cfdb3c42ff160d9e841": {
      "model_module": "@jupyter-widgets/controls",
      "model_module_version": "2.0.0",
      "model_name": "ButtonStyleModel",
      "state": {
       "button_color": "#0084ff",
       "font_family": null,
       "font_size": "14px",
       "font_style": null,
       "font_variant": null,
       "font_weight": "bold",
       "text_color": null,
       "text_decoration": null
      }
     },
     "acf6d9708ca84955a5fd6e3cce2dd412": {
      "model_module": "@jupyter-widgets/controls",
      "model_module_version": "2.0.0",
      "model_name": "ButtonStyleModel",
      "state": {
       "button_color": "#0084ff",
       "font_family": null,
       "font_size": "14px",
       "font_style": null,
       "font_variant": null,
       "font_weight": "bold",
       "text_color": null,
       "text_decoration": null
      }
     },
     "ad1185367b01431db1e95f3f07e356f5": {
      "model_module": "@jupyter-widgets/controls",
      "model_module_version": "2.0.0",
      "model_name": "TextStyleModel",
      "state": {
       "description_width": "",
       "font_size": null,
       "text_color": null
      }
     },
     "ad90f7948c5a457c8b0044cdb0f5eeec": {
      "model_module": "@jupyter-widgets/controls",
      "model_module_version": "2.0.0",
      "model_name": "VBoxModel",
      "state": {
       "children": [
        "IPY_MODEL_79b02512661a48b8b2889e26cb7745e3"
       ],
       "layout": "IPY_MODEL_c92e5549adf844528388b01d6b9f7c14"
      }
     },
     "ada8a64c6f704fff867b8aec5f8b3d6f": {
      "model_module": "@jupyter-widgets/controls",
      "model_module_version": "2.0.0",
      "model_name": "VBoxModel",
      "state": {
       "children": [
        "IPY_MODEL_e66a923e8f0144b28b2ad682a6446dc5"
       ],
       "layout": "IPY_MODEL_f2fec63ce70e4279934f398dd5339942"
      }
     },
     "adf3cf690fec4ab5b0b5fb28e57d6d25": {
      "model_module": "@jupyter-widgets/controls",
      "model_module_version": "2.0.0",
      "model_name": "TextStyleModel",
      "state": {
       "description_width": "",
       "font_size": null,
       "text_color": null
      }
     },
     "ae496b09a649453b9188e04657604629": {
      "model_module": "@jupyter-widgets/controls",
      "model_module_version": "2.0.0",
      "model_name": "HTMLModel",
      "state": {
       "layout": "IPY_MODEL_d0724831035d4438b8acb0b6a5ea2e27",
       "style": "IPY_MODEL_5fe72a3d6e6c400f9335a8da27fc8c49",
       "value": "\n            <div style=\"\n              color:#b5b5b5;\n              text-align:center;\n              padding:40px 0;\n              font-size:1.1em;\n              background:#fff;\n            \">\n              💬 No messages yet. Start the conversation!\n            </div>\n            "
      }
     },
     "ae61cdaa580f479781df433958659b85": {
      "model_module": "@jupyter-widgets/base",
      "model_module_version": "2.0.0",
      "model_name": "LayoutModel",
      "state": {
       "padding": "4px 4px",
       "width": "100%"
      }
     },
     "aeaa410dd7d543168abd0081838996ab": {
      "model_module": "@jupyter-widgets/controls",
      "model_module_version": "2.0.0",
      "model_name": "HBoxModel",
      "state": {
       "children": [
        "IPY_MODEL_dbace495fb074931941142cf3b359b46",
        "IPY_MODEL_8686262cc5264ea0ab1630d5993bb32e"
       ],
       "layout": "IPY_MODEL_23d1cdd012f4467dbe28b09691de7c66"
      }
     },
     "af89621036e947e5a051e3a716fb0c06": {
      "model_module": "@jupyter-widgets/controls",
      "model_module_version": "2.0.0",
      "model_name": "HTMLModel",
      "state": {
       "layout": "IPY_MODEL_76198771b5bd46fe80bb52dc4de91736",
       "style": "IPY_MODEL_b4d1198c90ff4f9cac36d09a0f5df98a",
       "value": "\n            <div style=\"\n              color:#b5b5b5;\n              text-align:center;\n              padding:40px 0;\n              font-size:1.1em;\n              background:#fff;\n            \">\n              💬 No messages yet. Start the conversation!\n            </div>\n            "
      }
     },
     "b0e981bfc01a4d62a1ba1d70b6b37317": {
      "model_module": "@jupyter-widgets/base",
      "model_module_version": "2.0.0",
      "model_name": "LayoutModel",
      "state": {}
     },
     "b35d8257169f468a92964b5cc579976d": {
      "model_module": "@jupyter-widgets/base",
      "model_module_version": "2.0.0",
      "model_name": "LayoutModel",
      "state": {
       "align_self": "center",
       "height": "32px",
       "margin": "0 0 0 6px",
       "width": "40px"
      }
     },
     "b371ac411c7c4574bb2de0809a14ebc1": {
      "model_module": "@jupyter-widgets/controls",
      "model_module_version": "2.0.0",
      "model_name": "VBoxModel",
      "state": {
       "children": [
        "IPY_MODEL_62387d562f33444883f14eb0cfc0b459"
       ],
       "layout": "IPY_MODEL_0968754b61a1469c9464e822820bb902"
      }
     },
     "b3b1ae90b38745519f9c93d26716fa23": {
      "model_module": "@jupyter-widgets/base",
      "model_module_version": "2.0.0",
      "model_name": "LayoutModel",
      "state": {
       "padding": "4px 4px",
       "width": "100%"
      }
     },
     "b3bb0c02f07a4313bfd77ca7deb2ec7e": {
      "model_module": "@jupyter-widgets/output",
      "model_module_version": "1.0.0",
      "model_name": "OutputModel",
      "state": {
       "layout": "IPY_MODEL_3ab6a5a2e4e5493b8fe8973e3aab09d7",
       "outputs": [
        {
         "name": "stdout",
         "output_type": "stream",
         "text": "Echo: asdfasdfasdfasdfa\n"
        }
       ]
      }
     },
     "b421307c21594eae9fbebdebcb92873f": {
      "model_module": "@jupyter-widgets/controls",
      "model_module_version": "2.0.0",
      "model_name": "HTMLStyleModel",
      "state": {
       "description_width": "",
       "font_size": null,
       "text_color": null
      }
     },
     "b457e27ef7b44ba3b66a91c377b67e16": {
      "model_module": "@jupyter-widgets/base",
      "model_module_version": "2.0.0",
      "model_name": "LayoutModel",
      "state": {
       "flex": "1 1 auto",
       "width": "auto"
      }
     },
     "b4d1198c90ff4f9cac36d09a0f5df98a": {
      "model_module": "@jupyter-widgets/controls",
      "model_module_version": "2.0.0",
      "model_name": "HTMLStyleModel",
      "state": {
       "description_width": "",
       "font_size": null,
       "text_color": null
      }
     },
     "b6664cf6cad046a197170ca14082f6e3": {
      "model_module": "@jupyter-widgets/controls",
      "model_module_version": "2.0.0",
      "model_name": "HTMLStyleModel",
      "state": {
       "description_width": "",
       "font_size": null,
       "text_color": null
      }
     },
     "b6eddaa1472544deb1233e17e7e3cfe2": {
      "model_module": "@jupyter-widgets/controls",
      "model_module_version": "2.0.0",
      "model_name": "TextStyleModel",
      "state": {
       "description_width": "",
       "font_size": null,
       "text_color": null
      }
     },
     "b98b2b423fc34e5cbfe0903d17dc3e9a": {
      "model_module": "@jupyter-widgets/base",
      "model_module_version": "2.0.0",
      "model_name": "LayoutModel",
      "state": {}
     },
     "ba68442f83c248e8a5dd69b9f33d403b": {
      "model_module": "@jupyter-widgets/base",
      "model_module_version": "2.0.0",
      "model_name": "LayoutModel",
      "state": {}
     },
     "baa49f1aa5324fcaa17e15165a121364": {
      "model_module": "@jupyter-widgets/base",
      "model_module_version": "2.0.0",
      "model_name": "LayoutModel",
      "state": {
       "flex": "1 1 auto",
       "width": "auto"
      }
     },
     "bcc7e8f9adf34c33875d7ce8a112c92b": {
      "model_module": "@jupyter-widgets/controls",
      "model_module_version": "2.0.0",
      "model_name": "ButtonStyleModel",
      "state": {
       "button_color": "#0084ff",
       "font_family": null,
       "font_size": "14px",
       "font_style": null,
       "font_variant": null,
       "font_weight": "bold",
       "text_color": null,
       "text_decoration": null
      }
     },
     "bccf4faa9990485bb68b680a7ece4f0f": {
      "model_module": "@jupyter-widgets/controls",
      "model_module_version": "2.0.0",
      "model_name": "ButtonModel",
      "state": {
       "description": "➤",
       "layout": "IPY_MODEL_450f0e007a284d08b9111d0d8031d0cf",
       "style": "IPY_MODEL_13bd9cd337484590b32520ba3619c9b1",
       "tooltip": null
      }
     },
     "bd8512b5caa842c8b0612f547d8e12d8": {
      "model_module": "@jupyter-widgets/controls",
      "model_module_version": "2.0.0",
      "model_name": "HBoxModel",
      "state": {
       "children": [
        "IPY_MODEL_8aeef044524d466e94b60db8068fd0bf",
        "IPY_MODEL_0f8dc6ac49014c26964989f127a94939"
       ],
       "layout": "IPY_MODEL_c3322a11beae457f9cd9a81efc7d504f"
      }
     },
     "bda840b84edb450b9a8c2a4a02d5b61b": {
      "model_module": "@jupyter-widgets/base",
      "model_module_version": "2.0.0",
      "model_name": "LayoutModel",
      "state": {
       "padding": "4px 4px",
       "width": "100%"
      }
     },
     "bdbdee25b61a4c9f8e6c62a2a19aac22": {
      "model_module": "@jupyter-widgets/base",
      "model_module_version": "2.0.0",
      "model_name": "LayoutModel",
      "state": {
       "padding": "4px 4px",
       "width": "100%"
      }
     },
     "bddd124ef8564f3cbce57853084ee537": {
      "model_module": "@jupyter-widgets/controls",
      "model_module_version": "2.0.0",
      "model_name": "ButtonModel",
      "state": {
       "description": "➤",
       "layout": "IPY_MODEL_1e1beb4d504e4868ba1e53890a5e2dac",
       "style": "IPY_MODEL_1ff8c40d8faf4db6abc20eb1d0d1d1b4",
       "tooltip": null
      }
     },
     "beeb74f19f7f4c89a889a294f07884c8": {
      "model_module": "@jupyter-widgets/base",
      "model_module_version": "2.0.0",
      "model_name": "LayoutModel",
      "state": {}
     },
     "beeece9fecc6413fbfd04bdaef6fd280": {
      "model_module": "@jupyter-widgets/controls",
      "model_module_version": "2.0.0",
      "model_name": "HTMLStyleModel",
      "state": {
       "description_width": "",
       "font_size": null,
       "text_color": null
      }
     },
     "bf542f2cbe464d25b44a679e0eccd6a7": {
      "model_module": "@jupyter-widgets/base",
      "model_module_version": "2.0.0",
      "model_name": "LayoutModel",
      "state": {
       "padding": "4px 4px",
       "width": "100%"
      }
     },
     "c07f9e70810e44cca2f1aa9ea9fbb5c4": {
      "model_module": "@jupyter-widgets/base",
      "model_module_version": "2.0.0",
      "model_name": "LayoutModel",
      "state": {
       "flex": "1 1 auto",
       "width": "auto"
      }
     },
     "c0ec5508d85b44d3a8ad908e9cdf2bea": {
      "model_module": "@jupyter-widgets/controls",
      "model_module_version": "2.0.0",
      "model_name": "HBoxModel",
      "state": {
       "children": [
        "IPY_MODEL_94c0cc29e7dd4b6aac65fbfe687a60e1",
        "IPY_MODEL_79715e35bbf646b6a64a4ad52be51dea"
       ],
       "layout": "IPY_MODEL_590cad3cde344e6381790feae57b8cb9"
      }
     },
     "c19cf3909f12446582ccfcf80d148ffe": {
      "model_module": "@jupyter-widgets/controls",
      "model_module_version": "2.0.0",
      "model_name": "HTMLModel",
      "state": {
       "layout": "IPY_MODEL_36b6649d804b49889bfc3f2818b6d7e4",
       "style": "IPY_MODEL_60d45e83e9434ba7add217f7cc1f681f",
       "value": "\n            <div style=\"\n              color:#b5b5b5;\n              text-align:center;\n              padding:40px 0;\n              font-size:1.1em;\n              background:#fff;\n            \">\n              💬 No messages yet. Start the conversation!\n            </div>\n            "
      }
     },
     "c22a0c57e4e041f79fe36e67382e358b": {
      "model_module": "@jupyter-widgets/controls",
      "model_module_version": "2.0.0",
      "model_name": "HTMLStyleModel",
      "state": {
       "description_width": "",
       "font_size": null,
       "text_color": null
      }
     },
     "c24116215d09469db9f3df7ba2de3f54": {
      "model_module": "@jupyter-widgets/controls",
      "model_module_version": "2.0.0",
      "model_name": "VBoxModel",
      "state": {
       "children": [
        "IPY_MODEL_66ceed1e0648410bb2263cc5d1b68999"
       ],
       "layout": "IPY_MODEL_80e18dd6852e489a997960fd81d60716"
      }
     },
     "c26af23413994c6cbe8401a8ba749a36": {
      "model_module": "@jupyter-widgets/base",
      "model_module_version": "2.0.0",
      "model_name": "LayoutModel",
      "state": {
       "flex": "1 1 auto",
       "width": "auto"
      }
     },
     "c2d6ef1ea07f405cb3c66305f249d249": {
      "model_module": "@jupyter-widgets/base",
      "model_module_version": "2.0.0",
      "model_name": "LayoutModel",
      "state": {
       "padding": "4px 4px",
       "width": "100%"
      }
     },
     "c2e69d97437a45ad9e445c888b7eea98": {
      "model_module": "@jupyter-widgets/controls",
      "model_module_version": "2.0.0",
      "model_name": "HBoxModel",
      "state": {
       "children": [
        "IPY_MODEL_030c9d02eb8e4142800ed43c2a847154",
        "IPY_MODEL_0fd0878111244f15b0a01a5a25e8a335"
       ],
       "layout": "IPY_MODEL_5afed71445204095bd02ef5c102adcab"
      }
     },
     "c31d7823a2714934bc2da9ca9d2e97da": {
      "model_module": "@jupyter-widgets/base",
      "model_module_version": "2.0.0",
      "model_name": "LayoutModel",
      "state": {
       "align_self": "center",
       "height": "32px",
       "margin": "0 0 0 6px",
       "width": "40px"
      }
     },
     "c3322a11beae457f9cd9a81efc7d504f": {
      "model_module": "@jupyter-widgets/base",
      "model_module_version": "2.0.0",
      "model_name": "LayoutModel",
      "state": {}
     },
     "c39c9dcd41924e109d75f8b1c3f80cd9": {
      "model_module": "@jupyter-widgets/base",
      "model_module_version": "2.0.0",
      "model_name": "LayoutModel",
      "state": {}
     },
     "c3a6033e230e48f2b0e05d4db54e6a91": {
      "model_module": "@jupyter-widgets/controls",
      "model_module_version": "2.0.0",
      "model_name": "HTMLStyleModel",
      "state": {
       "description_width": "",
       "font_size": null,
       "text_color": null
      }
     },
     "c3c45d25b7cd4fcbbd207e97bcf110d3": {
      "model_module": "@jupyter-widgets/base",
      "model_module_version": "2.0.0",
      "model_name": "LayoutModel",
      "state": {
       "flex": "1 1 auto",
       "width": "auto"
      }
     },
     "c439e9780e5940a3a1e79a2cf5ff1b9e": {
      "model_module": "@jupyter-widgets/controls",
      "model_module_version": "2.0.0",
      "model_name": "HTMLModel",
      "state": {
       "layout": "IPY_MODEL_a9aca9f3a9224b08a6131a49084c99a2",
       "style": "IPY_MODEL_1c55101befd94fb4a4667e6eea2f1fb9",
       "value": "\n            <div style=\"\n              color:#b5b5b5;\n              text-align:center;\n              padding:40px 0;\n              font-size:1.1em;\n              background:#fff;\n            \">\n              💬 No messages yet. Start the conversation!\n            </div>\n            "
      }
     },
     "c4c88f5417c54841909778b2b0912c02": {
      "model_module": "@jupyter-widgets/base",
      "model_module_version": "2.0.0",
      "model_name": "LayoutModel",
      "state": {
       "align_items": "flex-start"
      }
     },
     "c4d9c96b1fb94be1b1df19eb62a29e5c": {
      "model_module": "@jupyter-widgets/controls",
      "model_module_version": "2.0.0",
      "model_name": "HTMLStyleModel",
      "state": {
       "description_width": "",
       "font_size": null,
       "text_color": null
      }
     },
     "c51702f782bf46bd81dcf3bc6d8f31d6": {
      "model_module": "@jupyter-widgets/controls",
      "model_module_version": "2.0.0",
      "model_name": "HTMLStyleModel",
      "state": {
       "description_width": "",
       "font_size": null,
       "text_color": null
      }
     },
     "c554fec6d330469f814e5f695b6c9ce8": {
      "model_module": "@jupyter-widgets/base",
      "model_module_version": "2.0.0",
      "model_name": "LayoutModel",
      "state": {
       "flex": "1 1 auto",
       "width": "auto"
      }
     },
     "c59a69fe9d224059a47df71966500760": {
      "model_module": "@jupyter-widgets/controls",
      "model_module_version": "2.0.0",
      "model_name": "HTMLStyleModel",
      "state": {
       "description_width": "",
       "font_size": null,
       "text_color": null
      }
     },
     "c5b08e84b8f745f28bf9930fd80213aa": {
      "model_module": "@jupyter-widgets/base",
      "model_module_version": "2.0.0",
      "model_name": "LayoutModel",
      "state": {
       "flex": "1 1 auto",
       "width": "auto"
      }
     },
     "c5cca12190254f8e8e645c8d44c47b85": {
      "model_module": "@jupyter-widgets/base",
      "model_module_version": "2.0.0",
      "model_name": "LayoutModel",
      "state": {}
     },
     "c643790f9c2244bdbc5fa576dfb791a8": {
      "model_module": "@jupyter-widgets/base",
      "model_module_version": "2.0.0",
      "model_name": "LayoutModel",
      "state": {
       "align_self": "center",
       "height": "32px",
       "margin": "0 0 0 6px",
       "width": "40px"
      }
     },
     "c6de4d6471e94f859006222ce4ea6f4a": {
      "model_module": "@jupyter-widgets/controls",
      "model_module_version": "2.0.0",
      "model_name": "TextModel",
      "state": {
       "layout": "IPY_MODEL_8d0e125c9ae6442f9fe7851ab8094707",
       "placeholder": "Type a message...",
       "style": "IPY_MODEL_e75b1f03687e4868bdee615180338c09"
      }
     },
     "c70c4e5892d74299b472c9f3b9bb4020": {
      "model_module": "@jupyter-widgets/base",
      "model_module_version": "2.0.0",
      "model_name": "LayoutModel",
      "state": {}
     },
     "c72b501b42d544a487bb44c110848d3d": {
      "model_module": "@jupyter-widgets/output",
      "model_module_version": "1.0.0",
      "model_name": "OutputModel",
      "state": {
       "layout": "IPY_MODEL_7f45bedd42914731a6f2a72c3c34e077",
       "outputs": [
        {
         "name": "stdout",
         "output_type": "stream",
         "text": "Hello, world!\n"
        }
       ]
      }
     },
     "c7881939c85349c9b2f3b19f46665295": {
      "model_module": "@jupyter-widgets/controls",
      "model_module_version": "2.0.0",
      "model_name": "ButtonModel",
      "state": {
       "description": "➤",
       "layout": "IPY_MODEL_a9991f38f0d04ae9bb1845795deb0072",
       "style": "IPY_MODEL_d5cc2909bff04b5e8f00c08a3cfda110",
       "tooltip": null
      }
     },
     "c7a38d3f0c0a43f5b7a97fed8d315d9a": {
      "model_module": "@jupyter-widgets/output",
      "model_module_version": "1.0.0",
      "model_name": "OutputModel",
      "state": {
       "layout": "IPY_MODEL_9e2e01e22956412faa7e5c5a6e19e114",
       "outputs": [
        {
         "name": "stdout",
         "output_type": "stream",
         "text": "test\n"
        },
        {
         "data": {
          "text/markdown": "some tests sdafgasdf asd test",
          "text/plain": "<IPython.core.display.Markdown object>"
         },
         "metadata": {},
         "output_type": "display_data"
        },
        {
         "data": {
          "text/markdown": "some tests sdafgasdf asd test",
          "text/plain": "<IPython.core.display.Markdown object>"
         },
         "metadata": {},
         "output_type": "display_data"
        },
        {
         "name": "stdout",
         "output_type": "stream",
         "text": "asdfasdfaass  asdf asdf asdf asdfasdfasfsdfasfasdfsaf\n\na\nasdf\nasdfas\nasdfasdf\nasdfasdfas\nasdfasdfasf\nasdfasdfasfas\nasdfasdfasfasf\nasdfasdfasfasfas\nasdfasdfasfasfasdf\nasdfasdfasfasfasdfasdf\n"
        }
       ]
      }
     },
     "c7f771eb3f3e499fa452d788eb8d7aad": {
      "model_module": "@jupyter-widgets/controls",
      "model_module_version": "2.0.0",
      "model_name": "ButtonModel",
      "state": {
       "description": "➤",
       "layout": "IPY_MODEL_8b592aa8286e447c862297b107885295",
       "style": "IPY_MODEL_770cd5f90d3b404797a18843633467c7",
       "tooltip": null
      }
     },
     "c7fffcf2e2ab4c65879bb0bedfdd75e3": {
      "model_module": "@jupyter-widgets/controls",
      "model_module_version": "2.0.0",
      "model_name": "HTMLStyleModel",
      "state": {
       "description_width": "",
       "font_size": null,
       "text_color": null
      }
     },
     "c84d1c4ce5ca4840ac04a9b4d64061ed": {
      "model_module": "@jupyter-widgets/controls",
      "model_module_version": "2.0.0",
      "model_name": "TextStyleModel",
      "state": {
       "description_width": "",
       "font_size": null,
       "text_color": null
      }
     },
     "c8e68d13eb144042a1d0597a06ffc4fe": {
      "model_module": "@jupyter-widgets/controls",
      "model_module_version": "2.0.0",
      "model_name": "HTMLStyleModel",
      "state": {
       "description_width": "",
       "font_size": null,
       "text_color": null
      }
     },
     "c901e0b8f71d4d30adcd18cf39b97d3d": {
      "model_module": "@jupyter-widgets/controls",
      "model_module_version": "2.0.0",
      "model_name": "ButtonModel",
      "state": {
       "description": "➤",
       "layout": "IPY_MODEL_c643790f9c2244bdbc5fa576dfb791a8",
       "style": "IPY_MODEL_d3407fcfc26449f48c7ab3f7a6cc8b45",
       "tooltip": null
      }
     },
     "c92e5549adf844528388b01d6b9f7c14": {
      "model_module": "@jupyter-widgets/base",
      "model_module_version": "2.0.0",
      "model_name": "LayoutModel",
      "state": {
       "padding": "4px 4px",
       "width": "100%"
      }
     },
     "c95e2620586648449cd71f38010b12c1": {
      "model_module": "@jupyter-widgets/base",
      "model_module_version": "2.0.0",
      "model_name": "LayoutModel",
      "state": {
       "flex": "1 1 auto",
       "width": "auto"
      }
     },
     "ca086eff16f04e999564490a298dee1f": {
      "model_module": "@jupyter-widgets/controls",
      "model_module_version": "2.0.0",
      "model_name": "HTMLStyleModel",
      "state": {
       "description_width": "",
       "font_size": null,
       "text_color": null
      }
     },
     "ca46990d7cce43cd82835e4a7824ae2e": {
      "model_module": "@jupyter-widgets/base",
      "model_module_version": "2.0.0",
      "model_name": "LayoutModel",
      "state": {
       "align_self": "center",
       "height": "32px",
       "margin": "0 0 0 6px",
       "width": "40px"
      }
     },
     "cafc78e4302b4872b722d38c1c7f7b9d": {
      "model_module": "@jupyter-widgets/base",
      "model_module_version": "2.0.0",
      "model_name": "LayoutModel",
      "state": {}
     },
     "caff3c91d5dc49a7865657d489bedeb1": {
      "model_module": "@jupyter-widgets/base",
      "model_module_version": "2.0.0",
      "model_name": "LayoutModel",
      "state": {
       "flex": "1 1 auto",
       "width": "auto"
      }
     },
     "cb7fc259b98547b3891566a36bdbfdff": {
      "model_module": "@jupyter-widgets/controls",
      "model_module_version": "2.0.0",
      "model_name": "TextStyleModel",
      "state": {
       "description_width": "",
       "font_size": null,
       "text_color": null
      }
     },
     "cbb6906dc82f4729b929916dc861471f": {
      "model_module": "@jupyter-widgets/controls",
      "model_module_version": "2.0.0",
      "model_name": "HTMLStyleModel",
      "state": {
       "description_width": "",
       "font_size": null,
       "text_color": null
      }
     },
     "cc74ed6fb08e4307a854bb83ee9c465c": {
      "model_module": "@jupyter-widgets/controls",
      "model_module_version": "2.0.0",
      "model_name": "ButtonStyleModel",
      "state": {
       "button_color": "#0084ff",
       "font_family": null,
       "font_size": "14px",
       "font_style": null,
       "font_variant": null,
       "font_weight": "bold",
       "text_color": null,
       "text_decoration": null
      }
     },
     "cc881c1733f346bb8847a81d40bc3c10": {
      "model_module": "@jupyter-widgets/controls",
      "model_module_version": "2.0.0",
      "model_name": "ButtonStyleModel",
      "state": {
       "button_color": "#0084ff",
       "font_family": null,
       "font_size": "14px",
       "font_style": null,
       "font_variant": null,
       "font_weight": "bold",
       "text_color": null,
       "text_decoration": null
      }
     },
     "cd6cfc7876ba4812bc63893dbe0b536a": {
      "model_module": "@jupyter-widgets/controls",
      "model_module_version": "2.0.0",
      "model_name": "HBoxModel",
      "state": {
       "children": [
        "IPY_MODEL_6d2337e33dd1495f9779eefcda4cc764",
        "IPY_MODEL_467430d0596d400eb873982ac89c1b18"
       ],
       "layout": "IPY_MODEL_45fd68915f85423289e10fdca2392640"
      }
     },
     "cdc16558f93248d1ae26183df1482c9c": {
      "model_module": "@jupyter-widgets/controls",
      "model_module_version": "2.0.0",
      "model_name": "HTMLStyleModel",
      "state": {
       "description_width": "",
       "font_size": null,
       "text_color": null
      }
     },
     "cdf9486129b9494a8ca50559f3e280a8": {
      "model_module": "@jupyter-widgets/controls",
      "model_module_version": "2.0.0",
      "model_name": "ButtonStyleModel",
      "state": {
       "button_color": "#0084ff",
       "font_family": null,
       "font_size": "14px",
       "font_style": null,
       "font_variant": null,
       "font_weight": "bold",
       "text_color": null,
       "text_decoration": null
      }
     },
     "cea7d5a519244b2ea60a75a513794e5f": {
      "model_module": "@jupyter-widgets/controls",
      "model_module_version": "2.0.0",
      "model_name": "ButtonStyleModel",
      "state": {
       "button_color": "#0084ff",
       "font_family": null,
       "font_size": "14px",
       "font_style": null,
       "font_variant": null,
       "font_weight": "bold",
       "text_color": null,
       "text_decoration": null
      }
     },
     "cffbed4941744fbe8a3f9dfb9c5eabd6": {
      "model_module": "@jupyter-widgets/controls",
      "model_module_version": "2.0.0",
      "model_name": "HTMLStyleModel",
      "state": {
       "description_width": "",
       "font_size": null,
       "text_color": null
      }
     },
     "d05800e8c13c4096ab4a99e7e4694da7": {
      "model_module": "@jupyter-widgets/controls",
      "model_module_version": "2.0.0",
      "model_name": "HTMLModel",
      "state": {
       "layout": "IPY_MODEL_d40acff353c24e098fa100b1b3526652",
       "style": "IPY_MODEL_5f33ba1f8fb9443c804369cfd3f79124",
       "value": "<div style=\"width:36px;height:36px;background:#84c4ff;border-radius:12px;display:flex;align-items:center;justify-content:center;box-shadow:0 1px 4px rgba(60,60,60,0.10);\"><span style=\"font-size:18px;line-height:1;\">👤</span></div>"
      }
     },
     "d0724831035d4438b8acb0b6a5ea2e27": {
      "model_module": "@jupyter-widgets/base",
      "model_module_version": "2.0.0",
      "model_name": "LayoutModel",
      "state": {}
     },
     "d0d693671e6b44b4a90c516becf4b543": {
      "model_module": "@jupyter-widgets/controls",
      "model_module_version": "2.0.0",
      "model_name": "ButtonModel",
      "state": {
       "description": "➤",
       "layout": "IPY_MODEL_a310bb9b1deb44baaa99f3123ff4dd66",
       "style": "IPY_MODEL_025542348eaf42388cfb847894d54fb2",
       "tooltip": null
      }
     },
     "d29da8fcb37a4fa0b2d19d2e61803b39": {
      "model_module": "@jupyter-widgets/controls",
      "model_module_version": "2.0.0",
      "model_name": "TextModel",
      "state": {
       "layout": "IPY_MODEL_66f9ce4cd9384d54ae4be897768e7c08",
       "placeholder": "Type a message...",
       "style": "IPY_MODEL_42cdc3c7d8564e70b4e0e43e3c8c2b69"
      }
     },
     "d2f217a251d94f9d851e1520654227a3": {
      "model_module": "@jupyter-widgets/controls",
      "model_module_version": "2.0.0",
      "model_name": "HBoxModel",
      "state": {
       "children": [
        "IPY_MODEL_d877231c38d5488f92631c01f2c5de61",
        "IPY_MODEL_8b950ebe71dc44839a78512ceba984d3"
       ],
       "layout": "IPY_MODEL_5f16eb0f3e1d437c9493e355ec720ba3"
      }
     },
     "d314c4e61aff4dfc8f31f49ed935222f": {
      "model_module": "@jupyter-widgets/base",
      "model_module_version": "2.0.0",
      "model_name": "LayoutModel",
      "state": {}
     },
     "d31fdd108b584884ac0e9d1c8974ae6e": {
      "model_module": "@jupyter-widgets/base",
      "model_module_version": "2.0.0",
      "model_name": "LayoutModel",
      "state": {
       "padding": "4px 4px",
       "width": "100%"
      }
     },
     "d33222e6e16343789daaa363eaa27f62": {
      "model_module": "@jupyter-widgets/controls",
      "model_module_version": "2.0.0",
      "model_name": "HTMLStyleModel",
      "state": {
       "description_width": "",
       "font_size": null,
       "text_color": null
      }
     },
     "d3407fcfc26449f48c7ab3f7a6cc8b45": {
      "model_module": "@jupyter-widgets/controls",
      "model_module_version": "2.0.0",
      "model_name": "ButtonStyleModel",
      "state": {
       "button_color": "#0084ff",
       "font_family": null,
       "font_size": "14px",
       "font_style": null,
       "font_variant": null,
       "font_weight": "bold",
       "text_color": null,
       "text_decoration": null
      }
     },
     "d40acff353c24e098fa100b1b3526652": {
      "model_module": "@jupyter-widgets/base",
      "model_module_version": "2.0.0",
      "model_name": "LayoutModel",
      "state": {
       "align_self": "flex-start",
       "margin": "0px 8px 8px 0px"
      }
     },
     "d493f9f5af0647d6af94c4659d6dd856": {
      "model_module": "@jupyter-widgets/controls",
      "model_module_version": "2.0.0",
      "model_name": "HTMLStyleModel",
      "state": {
       "description_width": "",
       "font_size": null,
       "text_color": null
      }
     },
     "d4eedfc84cfc48d3a965cc4ff43900c3": {
      "model_module": "@jupyter-widgets/controls",
      "model_module_version": "2.0.0",
      "model_name": "HTMLModel",
      "state": {
       "layout": "IPY_MODEL_f534dd74d6de4bdc88ca98ab895c7db2",
       "style": "IPY_MODEL_7a42b91c77184fad9535ca1029a86f31",
       "value": "\n            <div style=\"\n              color:#b5b5b5;\n              text-align:center;\n              padding:40px 0;\n              font-size:1.1em;\n              background:#fff;\n            \">\n              💬 No messages yet. Start the conversation!\n            </div>\n            "
      }
     },
     "d5cc2909bff04b5e8f00c08a3cfda110": {
      "model_module": "@jupyter-widgets/controls",
      "model_module_version": "2.0.0",
      "model_name": "ButtonStyleModel",
      "state": {
       "button_color": "#0084ff",
       "font_family": null,
       "font_size": "14px",
       "font_style": null,
       "font_variant": null,
       "font_weight": "bold",
       "text_color": null,
       "text_decoration": null
      }
     },
     "d6461a85cfe547f9a71d6699e5c00989": {
      "model_module": "@jupyter-widgets/controls",
      "model_module_version": "2.0.0",
      "model_name": "VBoxModel",
      "state": {
       "children": [
        "IPY_MODEL_d95e3b1e8f7b456cb2b2983a3eaf5a06"
       ],
       "layout": "IPY_MODEL_a76e5e2209fe422e93bc4aa7acbbdd6f"
      }
     },
     "d6eea79baf314b42a148ac456a33dfff": {
      "model_module": "@jupyter-widgets/base",
      "model_module_version": "2.0.0",
      "model_name": "LayoutModel",
      "state": {
       "flex": "1 1 auto",
       "width": "auto"
      }
     },
     "d73ebddc843c4cf5ba935c14073476d3": {
      "model_module": "@jupyter-widgets/base",
      "model_module_version": "2.0.0",
      "model_name": "LayoutModel",
      "state": {
       "align_items": "flex-start"
      }
     },
     "d7f56fb207fe46d486c95b87cdb5db26": {
      "model_module": "@jupyter-widgets/controls",
      "model_module_version": "2.0.0",
      "model_name": "HBoxModel",
      "state": {
       "children": [
        "IPY_MODEL_390f29d31d0d4d27b5ed31395689025f",
        "IPY_MODEL_e2b1b16791f243e084ec6767b0daa00e"
       ],
       "layout": "IPY_MODEL_5f12d1b3b0cd4a98a9a6b2fa9698f9bf"
      }
     },
     "d855c2908bcc47b1af9097d829ef99a9": {
      "model_module": "@jupyter-widgets/controls",
      "model_module_version": "2.0.0",
      "model_name": "HBoxModel",
      "state": {
       "children": [
        "IPY_MODEL_9fe780b07c6a4a89a424560c4f550952",
        "IPY_MODEL_5dfaf0b7be594cc0af70506b8ecea1e4"
       ],
       "layout": "IPY_MODEL_562ed07244e54556a3181e49e4d302d7"
      }
     },
     "d877231c38d5488f92631c01f2c5de61": {
      "model_module": "@jupyter-widgets/controls",
      "model_module_version": "2.0.0",
      "model_name": "TextModel",
      "state": {
       "layout": "IPY_MODEL_74e1ed1deeee4a6689ba72823137f68b",
       "placeholder": "Type a message...",
       "style": "IPY_MODEL_109dbf67cbc14866a2ee10f68f16dbf3"
      }
     },
     "d87e1767548e4179ac1085f0c67405e6": {
      "model_module": "@jupyter-widgets/controls",
      "model_module_version": "2.0.0",
      "model_name": "HBoxModel",
      "state": {
       "children": [
        "IPY_MODEL_4767af928a724e029cd9fb36eed65027",
        "IPY_MODEL_d0d693671e6b44b4a90c516becf4b543"
       ],
       "layout": "IPY_MODEL_fbed8904da1748c1a13afb2ec6e30f49"
      }
     },
     "d95e3b1e8f7b456cb2b2983a3eaf5a06": {
      "model_module": "@jupyter-widgets/controls",
      "model_module_version": "2.0.0",
      "model_name": "HTMLModel",
      "state": {
       "layout": "IPY_MODEL_51c0a1e3547f4b729808523d2868acfe",
       "style": "IPY_MODEL_ee67622030df4da28b4997d4f6f7d5f2",
       "value": "\n            <div style=\"\n              color:#b5b5b5;\n              text-align:center;\n              padding:40px 0;\n              font-size:1.1em;\n              background:#fff;\n            \">\n              💬 No messages yet. Start the conversation!\n            </div>\n            "
      }
     },
     "db4261a01f9a444b8c309873e1c262f3": {
      "model_module": "@jupyter-widgets/base",
      "model_module_version": "2.0.0",
      "model_name": "LayoutModel",
      "state": {
       "flex": "1 1 auto",
       "width": "auto"
      }
     },
     "db4b0f0076a643c8b1cd8215ea92e25a": {
      "model_module": "@jupyter-widgets/base",
      "model_module_version": "2.0.0",
      "model_name": "LayoutModel",
      "state": {
       "flex": "1 1 auto",
       "width": "auto"
      }
     },
     "db61ed05895c4d27842281d14c47530c": {
      "model_module": "@jupyter-widgets/controls",
      "model_module_version": "2.0.0",
      "model_name": "ButtonStyleModel",
      "state": {
       "button_color": "#0084ff",
       "font_family": null,
       "font_size": "14px",
       "font_style": null,
       "font_variant": null,
       "font_weight": "bold",
       "text_color": null,
       "text_decoration": null
      }
     },
     "db6c079f247249d6a65ffae5b09fee86": {
      "model_module": "@jupyter-widgets/controls",
      "model_module_version": "2.0.0",
      "model_name": "HBoxModel",
      "state": {
       "children": [
        "IPY_MODEL_f3d48a0593384a51b53bfef96041c750",
        "IPY_MODEL_0e6b8a3213734cd5939302643ce7b242"
       ],
       "layout": "IPY_MODEL_8a4f7989018f4235938e2b5928d6ce45"
      }
     },
     "dbace495fb074931941142cf3b359b46": {
      "model_module": "@jupyter-widgets/controls",
      "model_module_version": "2.0.0",
      "model_name": "TextModel",
      "state": {
       "layout": "IPY_MODEL_1668cb5c96124d6dbf2b3238b3d048d9",
       "placeholder": "Type a message...",
       "style": "IPY_MODEL_962e49973f7c4f578c0bfbf408504461"
      }
     },
     "dbbb6652bf014bc8a192f2a41ebf0ac5": {
      "model_module": "@jupyter-widgets/controls",
      "model_module_version": "2.0.0",
      "model_name": "HBoxModel",
      "state": {
       "children": [
        "IPY_MODEL_fd92d665ecef49418d219af7e97acd73",
        "IPY_MODEL_bddd124ef8564f3cbce57853084ee537"
       ],
       "layout": "IPY_MODEL_20ff5dfa12a14b639930569c05bee86b"
      }
     },
     "dc51cbbc41fb43c39b396bd9e5de6988": {
      "model_module": "@jupyter-widgets/controls",
      "model_module_version": "2.0.0",
      "model_name": "TextStyleModel",
      "state": {
       "description_width": "",
       "font_size": null,
       "text_color": null
      }
     },
     "dfb487b9fb314d1cbcd643e39e4ae358": {
      "model_module": "@jupyter-widgets/base",
      "model_module_version": "2.0.0",
      "model_name": "LayoutModel",
      "state": {
       "padding": "4px 4px",
       "width": "100%"
      }
     },
     "e031b1e7bc8c476aad62f14e464a035a": {
      "model_module": "@jupyter-widgets/base",
      "model_module_version": "2.0.0",
      "model_name": "LayoutModel",
      "state": {
       "padding": "4px 4px",
       "width": "100%"
      }
     },
     "e0451238b9cc4dbd92cb0eca50373555": {
      "model_module": "@jupyter-widgets/base",
      "model_module_version": "2.0.0",
      "model_name": "LayoutModel",
      "state": {
       "padding": "4px 4px",
       "width": "100%"
      }
     },
     "e20612549d564ef8a94f277bbe8c0cdd": {
      "model_module": "@jupyter-widgets/controls",
      "model_module_version": "2.0.0",
      "model_name": "ButtonStyleModel",
      "state": {
       "button_color": "#0084ff",
       "font_family": null,
       "font_size": "14px",
       "font_style": null,
       "font_variant": null,
       "font_weight": "bold",
       "text_color": null,
       "text_decoration": null
      }
     },
     "e2b1b16791f243e084ec6767b0daa00e": {
      "model_module": "@jupyter-widgets/controls",
      "model_module_version": "2.0.0",
      "model_name": "ButtonModel",
      "state": {
       "description": "➤",
       "layout": "IPY_MODEL_370d5ba796ba4e29ab6bb6583ea14378",
       "style": "IPY_MODEL_cdf9486129b9494a8ca50559f3e280a8",
       "tooltip": null
      }
     },
     "e328b4ee4de74923ae9da4ca20719ce4": {
      "model_module": "@jupyter-widgets/base",
      "model_module_version": "2.0.0",
      "model_name": "LayoutModel",
      "state": {}
     },
     "e32ae4bfc59841cba55e2aa39aae9d6a": {
      "model_module": "@jupyter-widgets/base",
      "model_module_version": "2.0.0",
      "model_name": "LayoutModel",
      "state": {
       "padding": "4px 4px",
       "width": "100%"
      }
     },
     "e3637d71788b4036bb5ba0a6ed1b8680": {
      "model_module": "@jupyter-widgets/controls",
      "model_module_version": "2.0.0",
      "model_name": "VBoxModel",
      "state": {
       "children": [
        "IPY_MODEL_5bd9bb45e7a8498cbc7ac6efc2f3013a"
       ],
       "layout": "IPY_MODEL_6327ef5b9e4e4f1b8ab3a726ab2678c0"
      }
     },
     "e37b066c51df41b790a88b964e57004c": {
      "model_module": "@jupyter-widgets/base",
      "model_module_version": "2.0.0",
      "model_name": "LayoutModel",
      "state": {}
     },
     "e43b8a1e06e940d4b14549c27194785d": {
      "model_module": "@jupyter-widgets/base",
      "model_module_version": "2.0.0",
      "model_name": "LayoutModel",
      "state": {}
     },
     "e44bf190e89f41f9af3907a60312db45": {
      "model_module": "@jupyter-widgets/controls",
      "model_module_version": "2.0.0",
      "model_name": "ButtonStyleModel",
      "state": {
       "button_color": "#0084ff",
       "font_family": null,
       "font_size": "14px",
       "font_style": null,
       "font_variant": null,
       "font_weight": "bold",
       "text_color": null,
       "text_decoration": null
      }
     },
     "e5165bf9f71f46d1967a7386d334b00f": {
      "model_module": "@jupyter-widgets/base",
      "model_module_version": "2.0.0",
      "model_name": "LayoutModel",
      "state": {
       "align_self": "center",
       "height": "32px",
       "margin": "0 0 0 6px",
       "width": "40px"
      }
     },
     "e66a923e8f0144b28b2ad682a6446dc5": {
      "model_module": "@jupyter-widgets/controls",
      "model_module_version": "2.0.0",
      "model_name": "HTMLModel",
      "state": {
       "layout": "IPY_MODEL_0f023bb1025246fbb71e05e2e19baeb8",
       "style": "IPY_MODEL_8262eaf94cc94ccaa34c7d45f5538f2c",
       "value": "\n            <div style=\"\n              color:#b5b5b5;\n              text-align:center;\n              padding:40px 0;\n              font-size:1.1em;\n              background:#fff;\n            \">\n              💬 No messages yet. Start the conversation!\n            </div>\n            "
      }
     },
     "e67a170b86544a088f4a8d6505cde630": {
      "model_module": "@jupyter-widgets/base",
      "model_module_version": "2.0.0",
      "model_name": "LayoutModel",
      "state": {}
     },
     "e694513499fc4f9aaffa331007f907e5": {
      "model_module": "@jupyter-widgets/controls",
      "model_module_version": "2.0.0",
      "model_name": "ButtonStyleModel",
      "state": {
       "button_color": "#0084ff",
       "font_family": null,
       "font_size": "14px",
       "font_style": null,
       "font_variant": null,
       "font_weight": "bold",
       "text_color": null,
       "text_decoration": null
      }
     },
     "e6da0aaac57842bc89a142d52f70e331": {
      "model_module": "@jupyter-widgets/controls",
      "model_module_version": "2.0.0",
      "model_name": "VBoxModel",
      "state": {
       "children": [
        "IPY_MODEL_50deeb2d7a894836a568db2c903d11d4"
       ],
       "layout": "IPY_MODEL_430d5e918ac046bda44c25f89f0224cd"
      }
     },
     "e6f91c9a277f4afdb37c9783e272c498": {
      "model_module": "@jupyter-widgets/controls",
      "model_module_version": "2.0.0",
      "model_name": "ButtonStyleModel",
      "state": {
       "button_color": "#0084ff",
       "font_family": null,
       "font_size": "14px",
       "font_style": null,
       "font_variant": null,
       "font_weight": "bold",
       "text_color": null,
       "text_decoration": null
      }
     },
     "e75b1f03687e4868bdee615180338c09": {
      "model_module": "@jupyter-widgets/controls",
      "model_module_version": "2.0.0",
      "model_name": "TextStyleModel",
      "state": {
       "description_width": "",
       "font_size": null,
       "text_color": null
      }
     },
     "e78e25ab80f649a2a3b2428be512c061": {
      "model_module": "@jupyter-widgets/controls",
      "model_module_version": "2.0.0",
      "model_name": "HTMLModel",
      "state": {
       "layout": "IPY_MODEL_e37b066c51df41b790a88b964e57004c",
       "style": "IPY_MODEL_b6664cf6cad046a197170ca14082f6e3",
       "value": "\n            <div style=\"\n              color:#b5b5b5;\n              text-align:center;\n              padding:40px 0;\n              font-size:1.1em;\n              background:#fff;\n            \">\n              💬 No messages yet. Start the conversation!\n            </div>\n            "
      }
     },
     "e82dd283d9b3497980511a3039ff5d87": {
      "model_module": "@jupyter-widgets/base",
      "model_module_version": "2.0.0",
      "model_name": "LayoutModel",
      "state": {
       "padding": "4px 4px",
       "width": "100%"
      }
     },
     "e8521ee05158483998ba3c4fb4b2b59f": {
      "model_module": "@jupyter-widgets/base",
      "model_module_version": "2.0.0",
      "model_name": "LayoutModel",
      "state": {
       "flex": "1 1 auto",
       "width": "auto"
      }
     },
     "e85c554e75dd4bec8d56175fe1c5841f": {
      "model_module": "@jupyter-widgets/controls",
      "model_module_version": "2.0.0",
      "model_name": "ButtonModel",
      "state": {
       "description": "➤",
       "layout": "IPY_MODEL_57ab67a092d04a4f9a1147429ed949bb",
       "style": "IPY_MODEL_4a7a820163104b79a9eaa0c304e563de",
       "tooltip": null
      }
     },
     "e870db9db8fa420eb7fd7905585d8477": {
      "model_module": "@jupyter-widgets/controls",
      "model_module_version": "2.0.0",
      "model_name": "VBoxModel",
      "state": {
       "children": [
        "IPY_MODEL_fa9d7a4252a744b58fdaa0d3c2adab7c"
       ],
       "layout": "IPY_MODEL_56d217fc3e75487dbc81ce29c01026e4"
      }
     },
     "e97c5396bc6d44aa8665d0bb06fda923": {
      "model_module": "@jupyter-widgets/controls",
      "model_module_version": "2.0.0",
      "model_name": "TextModel",
      "state": {
       "layout": "IPY_MODEL_db4b0f0076a643c8b1cd8215ea92e25a",
       "placeholder": "Type a message...",
       "style": "IPY_MODEL_6021050d64b343fbbc4cd7c35f3583c2"
      }
     },
     "e9f51fc25981485aaffb9f76f95c7e61": {
      "model_module": "@jupyter-widgets/base",
      "model_module_version": "2.0.0",
      "model_name": "LayoutModel",
      "state": {
       "align_self": "center",
       "height": "32px",
       "margin": "0 0 0 6px",
       "width": "40px"
      }
     },
     "ea9debac33f1472ca6214146d3f5f96c": {
      "model_module": "@jupyter-widgets/base",
      "model_module_version": "2.0.0",
      "model_name": "LayoutModel",
      "state": {
       "align_self": "center",
       "height": "32px",
       "margin": "0 0 0 6px",
       "width": "40px"
      }
     },
     "eaee96187c344669b1219679f31acca5": {
      "model_module": "@jupyter-widgets/controls",
      "model_module_version": "2.0.0",
      "model_name": "HBoxModel",
      "state": {
       "children": [
        "IPY_MODEL_4374c5921d3a4af5a621245af0e386d6",
        "IPY_MODEL_6603da61649540b79aa278792deb7666"
       ],
       "layout": "IPY_MODEL_27cb0a15581a472ab83e2d6245df4461"
      }
     },
     "ec52707ff46146309f0b7a0d01b85cf0": {
      "model_module": "@jupyter-widgets/controls",
      "model_module_version": "2.0.0",
      "model_name": "ButtonModel",
      "state": {
       "description": "➤",
       "layout": "IPY_MODEL_a42a01d1b86b42a9b43505032be3d9a9",
       "style": "IPY_MODEL_3c0741505ea148ab9688d85240fa62da",
       "tooltip": null
      }
     },
     "ecfee8a52b0d49689a280ee1c8379f77": {
      "model_module": "@jupyter-widgets/base",
      "model_module_version": "2.0.0",
      "model_name": "LayoutModel",
      "state": {}
     },
     "ed76247bfcc44e5884d006b05f71c73d": {
      "model_module": "@jupyter-widgets/controls",
      "model_module_version": "2.0.0",
      "model_name": "VBoxModel",
      "state": {
       "children": [
        "IPY_MODEL_6448275ff1084a979d212590a0a1a1e1"
       ],
       "layout": "IPY_MODEL_34cc0c37175d41c88bac70cfd6c52dcc"
      }
     },
     "eda7d20b73e843f380b22f3f25180435": {
      "model_module": "@jupyter-widgets/controls",
      "model_module_version": "2.0.0",
      "model_name": "ButtonModel",
      "state": {
       "description": "➤",
       "layout": "IPY_MODEL_2ecceef54b424e6e8e0e20bb887ebda0",
       "style": "IPY_MODEL_02c1bb6510974821992e8d687d51db49",
       "tooltip": null
      }
     },
     "edc7b68a904749909e9e88fde6e06f62": {
      "model_module": "@jupyter-widgets/controls",
      "model_module_version": "2.0.0",
      "model_name": "VBoxModel",
      "state": {
       "children": [
        "IPY_MODEL_86e91211858340039cc88fbc11d1bbf9"
       ],
       "layout": "IPY_MODEL_b3b1ae90b38745519f9c93d26716fa23"
      }
     },
     "ee67622030df4da28b4997d4f6f7d5f2": {
      "model_module": "@jupyter-widgets/controls",
      "model_module_version": "2.0.0",
      "model_name": "HTMLStyleModel",
      "state": {
       "description_width": "",
       "font_size": null,
       "text_color": null
      }
     },
     "f0911b7d3dcd43cfa2070e7edc4dc3e5": {
      "model_module": "@jupyter-widgets/controls",
      "model_module_version": "2.0.0",
      "model_name": "TextStyleModel",
      "state": {
       "description_width": "",
       "font_size": null,
       "text_color": null
      }
     },
     "f127c9ee9e0e4b8594b315b5706c9205": {
      "model_module": "@jupyter-widgets/controls",
      "model_module_version": "2.0.0",
      "model_name": "VBoxModel",
      "state": {
       "children": [
        "IPY_MODEL_f8f8de947d104c8f8bb6194b9d67c14b"
       ],
       "layout": "IPY_MODEL_01a6b543d15547b3b2ce32545a09b863"
      }
     },
     "f2fec63ce70e4279934f398dd5339942": {
      "model_module": "@jupyter-widgets/base",
      "model_module_version": "2.0.0",
      "model_name": "LayoutModel",
      "state": {
       "padding": "4px 4px",
       "width": "100%"
      }
     },
     "f3a3bebf89d54d66b2e16c876cd4598e": {
      "model_module": "@jupyter-widgets/controls",
      "model_module_version": "2.0.0",
      "model_name": "ButtonModel",
      "state": {
       "description": "➤",
       "layout": "IPY_MODEL_20caec98806641db8046a2f39aa95b36",
       "style": "IPY_MODEL_434aacba3cb14078923cbce3b543095d",
       "tooltip": null
      }
     },
     "f3d48a0593384a51b53bfef96041c750": {
      "model_module": "@jupyter-widgets/controls",
      "model_module_version": "2.0.0",
      "model_name": "TextModel",
      "state": {
       "layout": "IPY_MODEL_fcae8c1fbe4847948b51a5a1de9e116f",
       "placeholder": "Type a message...",
       "style": "IPY_MODEL_9408a83de5fb411cbbc291eec51e98a8"
      }
     },
     "f3ef0359a4f745b183424eb58847084d": {
      "model_module": "@jupyter-widgets/controls",
      "model_module_version": "2.0.0",
      "model_name": "TextModel",
      "state": {
       "layout": "IPY_MODEL_a5c8adce593f42bd8aee24ab038069f7",
       "placeholder": "Type a message...",
       "style": "IPY_MODEL_f7549523ef5842fbb593324a82540c68"
      }
     },
     "f41605e450ef4a6daec496178bfded93": {
      "model_module": "@jupyter-widgets/controls",
      "model_module_version": "2.0.0",
      "model_name": "VBoxModel",
      "state": {
       "children": [
        "IPY_MODEL_2aac0ca262d64a95b62fef6a2f82cd95"
       ],
       "layout": "IPY_MODEL_832aaec8c21747dfb1505166cf263a76"
      }
     },
     "f453ac2c76d04a2da4d8d72156a3a421": {
      "model_module": "@jupyter-widgets/controls",
      "model_module_version": "2.0.0",
      "model_name": "TextModel",
      "state": {
       "layout": "IPY_MODEL_53c5149fa4d54c8fb20a8e857f8e08a2",
       "placeholder": "Type a message...",
       "style": "IPY_MODEL_f7bd81f4d8db47b08e28f4d97d48c026"
      }
     },
     "f4a5d8af2d594144a645518e43cff0f3": {
      "model_module": "@jupyter-widgets/controls",
      "model_module_version": "2.0.0",
      "model_name": "HBoxModel",
      "state": {
       "children": [
        "IPY_MODEL_81fd9472a3d34d7fa334739a29e3c895",
        "IPY_MODEL_462b5de8b94b4f30b48ebaf84ccead60"
       ],
       "layout": "IPY_MODEL_f9e329553571486fa2b3908793473937"
      }
     },
     "f534dd74d6de4bdc88ca98ab895c7db2": {
      "model_module": "@jupyter-widgets/base",
      "model_module_version": "2.0.0",
      "model_name": "LayoutModel",
      "state": {}
     },
     "f6277089705a4a40a873aa1945582a2f": {
      "model_module": "@jupyter-widgets/controls",
      "model_module_version": "2.0.0",
      "model_name": "VBoxModel",
      "state": {
       "children": [
        "IPY_MODEL_05783e47efaa4bab948883484ec93af8"
       ],
       "layout": "IPY_MODEL_389ae0dfd27548e49905e94d25de0021"
      }
     },
     "f6e635c469a54c14b4126457a6adca91": {
      "model_module": "@jupyter-widgets/base",
      "model_module_version": "2.0.0",
      "model_name": "LayoutModel",
      "state": {}
     },
     "f7549523ef5842fbb593324a82540c68": {
      "model_module": "@jupyter-widgets/controls",
      "model_module_version": "2.0.0",
      "model_name": "TextStyleModel",
      "state": {
       "description_width": "",
       "font_size": null,
       "text_color": null
      }
     },
     "f78f2fdae9004f47b1b9dcb5b67385c6": {
      "model_module": "@jupyter-widgets/controls",
      "model_module_version": "2.0.0",
      "model_name": "TextModel",
      "state": {
       "layout": "IPY_MODEL_c07f9e70810e44cca2f1aa9ea9fbb5c4",
       "placeholder": "Type a message...",
       "style": "IPY_MODEL_dc51cbbc41fb43c39b396bd9e5de6988"
      }
     },
     "f7bd81f4d8db47b08e28f4d97d48c026": {
      "model_module": "@jupyter-widgets/controls",
      "model_module_version": "2.0.0",
      "model_name": "TextStyleModel",
      "state": {
       "description_width": "",
       "font_size": null,
       "text_color": null
      }
     },
     "f7d1918b07204d3ab140a591a61a14c5": {
      "model_module": "@jupyter-widgets/base",
      "model_module_version": "2.0.0",
      "model_name": "LayoutModel",
      "state": {
       "align_self": "center",
       "height": "32px",
       "margin": "0 0 0 6px",
       "width": "40px"
      }
     },
     "f8cbdc01fc20420196f23233fe70e4f5": {
      "model_module": "@jupyter-widgets/controls",
      "model_module_version": "2.0.0",
      "model_name": "TextModel",
      "state": {
       "layout": "IPY_MODEL_22c328b6a4ad41faa6a53a0e43696bac",
       "placeholder": "Type a message...",
       "style": "IPY_MODEL_a4eb52205eef4bd4ab98705faa66e8fe"
      }
     },
     "f8f8de947d104c8f8bb6194b9d67c14b": {
      "model_module": "@jupyter-widgets/controls",
      "model_module_version": "2.0.0",
      "model_name": "HTMLModel",
      "state": {
       "layout": "IPY_MODEL_637cc033033341df95f16edd6db7dbf8",
       "style": "IPY_MODEL_38a9b190213f4467af271b4d11ea3bc0",
       "value": "\n            <div style=\"\n              color:#b5b5b5;\n              text-align:center;\n              padding:40px 0;\n              font-size:1.1em;\n              background:#fff;\n            \">\n              💬 No messages yet. Start the conversation!\n            </div>\n            "
      }
     },
     "f9e329553571486fa2b3908793473937": {
      "model_module": "@jupyter-widgets/base",
      "model_module_version": "2.0.0",
      "model_name": "LayoutModel",
      "state": {}
     },
     "fa05c903592345998c26caec08b343ca": {
      "model_module": "@jupyter-widgets/controls",
      "model_module_version": "2.0.0",
      "model_name": "ButtonStyleModel",
      "state": {
       "button_color": "#0084ff",
       "font_family": null,
       "font_size": "14px",
       "font_style": null,
       "font_variant": null,
       "font_weight": "bold",
       "text_color": null,
       "text_decoration": null
      }
     },
     "fa9d7a4252a744b58fdaa0d3c2adab7c": {
      "model_module": "@jupyter-widgets/controls",
      "model_module_version": "2.0.0",
      "model_name": "HTMLModel",
      "state": {
       "layout": "IPY_MODEL_94680d77ca884f76b337ba220994d7a1",
       "style": "IPY_MODEL_beeece9fecc6413fbfd04bdaef6fd280",
       "value": "\n            <div style=\"\n              color:#b5b5b5;\n              text-align:center;\n              padding:40px 0;\n              font-size:1.1em;\n              background:#fff;\n            \">\n              💬 No messages yet. Start the conversation!\n            </div>\n            "
      }
     },
     "fae65a1a38cc403b831a11a5b41c1409": {
      "model_module": "@jupyter-widgets/controls",
      "model_module_version": "2.0.0",
      "model_name": "HBoxModel",
      "state": {
       "children": [
        "IPY_MODEL_27b91be0b08946318bf93a4f3417d77d",
        "IPY_MODEL_601b651f87374c9185b573b410ceb5ba"
       ],
       "layout": "IPY_MODEL_72dd663d40f047f28390ca80bcfcd3d0"
      }
     },
     "fbed8904da1748c1a13afb2ec6e30f49": {
      "model_module": "@jupyter-widgets/base",
      "model_module_version": "2.0.0",
      "model_name": "LayoutModel",
      "state": {}
     },
     "fc2d70c3b8c94cecb71378f92ec1759c": {
      "model_module": "@jupyter-widgets/base",
      "model_module_version": "2.0.0",
      "model_name": "LayoutModel",
      "state": {
       "align_self": "center",
       "height": "32px",
       "margin": "0 0 0 6px",
       "width": "40px"
      }
     },
     "fc565f7b310c4a90a6fcdbc50167755c": {
      "model_module": "@jupyter-widgets/controls",
      "model_module_version": "2.0.0",
      "model_name": "TextStyleModel",
      "state": {
       "description_width": "",
       "font_size": null,
       "text_color": null
      }
     },
     "fcae8c1fbe4847948b51a5a1de9e116f": {
      "model_module": "@jupyter-widgets/base",
      "model_module_version": "2.0.0",
      "model_name": "LayoutModel",
      "state": {
       "flex": "1 1 auto",
       "width": "auto"
      }
     },
     "fd92d665ecef49418d219af7e97acd73": {
      "model_module": "@jupyter-widgets/controls",
      "model_module_version": "2.0.0",
      "model_name": "TextModel",
      "state": {
       "layout": "IPY_MODEL_52ad9ecc79c8438fafec03f375aa75b7",
       "placeholder": "Type a message...",
       "style": "IPY_MODEL_3812e4d93afd4786a6c10aa745dc792e"
      }
     },
     "fdc43869fd994792af7890ad72dcdc08": {
      "model_module": "@jupyter-widgets/controls",
      "model_module_version": "2.0.0",
      "model_name": "HTMLStyleModel",
      "state": {
       "description_width": "",
       "font_size": null,
       "text_color": null
      }
     },
     "fdc72d34baa5406e98c39b6dab1c0ae0": {
      "model_module": "@jupyter-widgets/base",
      "model_module_version": "2.0.0",
      "model_name": "LayoutModel",
      "state": {}
     },
     "fe06e94b801842258c145e93f1fedbe0": {
      "model_module": "@jupyter-widgets/controls",
      "model_module_version": "2.0.0",
      "model_name": "HBoxModel",
      "state": {
       "children": [
        "IPY_MODEL_2de56c9213f1465f82ca86aedd7878df",
        "IPY_MODEL_13b61428cdf84c14bfb2365829d9abc5"
       ],
       "layout": "IPY_MODEL_96abc037bc2843fc8a5cded097e731c9"
      }
     },
     "ff7f39e10e23462998c3d9ea2ed8752c": {
      "model_module": "@jupyter-widgets/base",
      "model_module_version": "2.0.0",
      "model_name": "LayoutModel",
      "state": {}
     }
    },
    "version_major": 2,
    "version_minor": 0
   }
  }
 },
 "nbformat": 4,
 "nbformat_minor": 5
}
