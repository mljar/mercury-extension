{
 "cells": [
  {
   "cell_type": "code",
   "execution_count": 1,
   "id": "ec1a47df-3b61-49a2-a7bb-4139c2b6ccc3",
   "metadata": {},
   "outputs": [],
   "source": [
    "from chat import ChatMessage, ChatDisplay"
   ]
  },
  {
   "cell_type": "code",
   "execution_count": 2,
   "id": "72605867-2a91-4d69-9a60-4f278a0d8004",
   "metadata": {},
   "outputs": [],
   "source": [
    "from slider import Slider"
   ]
  },
  {
   "cell_type": "code",
   "execution_count": 3,
   "id": "86ba5c4a-8e04-4e73-a9fc-b02c276d41d9",
   "metadata": {},
   "outputs": [
    {
     "name": "stdout",
     "output_type": "stream",
     "text": [
      "voila executor\n",
      "voila executor nbclient\n",
      "classes\n",
      "Mercury ======================\n"
     ]
    }
   ],
   "source": [
    "from mercury_app.decorator import as_controller"
   ]
  },
  {
   "cell_type": "code",
   "execution_count": 4,
   "id": "052bcd9a-28df-45df-ae86-8dbdee9238ef",
   "metadata": {},
   "outputs": [
    {
     "data": {
      "application/mercury+json": "{\n    \"count\": 0\n}",
      "application/vnd.jupyter.widget-view+json": {
       "model_id": "e9ea6852b7f447e487caf0d7729dfa4a",
       "version_major": 2,
       "version_minor": 1
      },
      "text/plain": [
       "Slider(label='my slider', max=91, min=10, value=34)"
      ]
     },
     "metadata": {},
     "output_type": "display_data"
    }
   ],
   "source": [
    "# Usage:\n",
    "slider = as_controller(Slider(value=34, min=10, max=91, label=r'my slider'))\n"
   ]
  },
  {
   "cell_type": "code",
   "execution_count": 5,
   "id": "71ce9995-a94b-474a-abb5-15d53e39a2ca",
   "metadata": {},
   "outputs": [
    {
     "data": {
      "text/plain": [
       "34"
      ]
     },
     "execution_count": 5,
     "metadata": {},
     "output_type": "execute_result"
    }
   ],
   "source": [
    "slider.value"
   ]
  },
  {
   "cell_type": "code",
   "execution_count": 6,
   "id": "8230834d-5e91-4745-b749-afa2976535b9",
   "metadata": {},
   "outputs": [],
   "source": [
    "import ipywidgets"
   ]
  },
  {
   "cell_type": "code",
   "execution_count": 7,
   "id": "3fb242a2-142c-4554-a27d-0b753b3f047f",
   "metadata": {},
   "outputs": [
    {
     "data": {
      "application/mercury+json": "{\"widget\": \"Text\", \"model_id\": \"c2e297972c424d40b821e83cb33e78df\"}",
      "application/vnd.jupyter.widget-view+json": {
       "model_id": "c2e297972c424d40b821e83cb33e78df",
       "version_major": 2,
       "version_minor": 0
      },
      "text/plain": [
       "Text(value='')"
      ]
     },
     "execution_count": 7,
     "metadata": {},
     "output_type": "execute_result"
    }
   ],
   "source": [
    "text = as_controller(ipywidgets.Text())\n",
    "text"
   ]
  },
  {
   "cell_type": "code",
   "execution_count": 8,
   "id": "d26d50a7-e3ad-450f-9233-5c98d673b531",
   "metadata": {},
   "outputs": [
    {
     "data": {
      "text/plain": [
       "''"
      ]
     },
     "execution_count": 8,
     "metadata": {},
     "output_type": "execute_result"
    }
   ],
   "source": [
    "text.value"
   ]
  },
  {
   "cell_type": "code",
   "execution_count": 8,
   "id": "367d6a92-cd88-43c9-a8ed-f10ce70e7f50",
   "metadata": {},
   "outputs": [],
   "source": []
  },
  {
   "cell_type": "code",
   "execution_count": 9,
   "id": "dc6f7bf2-b7e5-405e-ab4a-7da74098b43a",
   "metadata": {},
   "outputs": [
    {
     "data": {
      "application/vnd.jupyter.widget-view+json": {
       "model_id": "7a901eee1a054a3a967b4bd9829abea6",
       "version_major": 2,
       "version_minor": 0
      },
      "text/plain": [
       "VBox(children=(HTML(value='<div style=\"color:#bbb; text-align:center; padding:48px 0; font-size:1.2em;\">💬 Say …"
      ]
     },
     "metadata": {},
     "output_type": "display_data"
    }
   ],
   "source": [
    "chat = ChatDisplay(\"Say hello to your AI assistant!\")\n",
    "\n",
    "# AI with emoji, just text\n",
    "msg1 = ChatMessage(role=\"ai\")\n",
    "chat.add(msg1)\n",
    "\n",
    "\n",
    "# User, with emoji\n",
    "msg2 = ChatMessage(role=\"user\")\n",
    "msg2.set_message(\"Can you plot a sine wave for me?\")\n",
    "chat.add(msg2)\n",
    "\n",
    "# AI with plot (no .set_message call, just use Output)\n",
    "import matplotlib.pyplot as plt\n",
    "import numpy as np\n",
    "msg3 = ChatMessage(role=\"ai\")\n",
    "msg3.set_message(\"Here's your plot:\")  # Optional, or leave blank\n",
    "with msg3:\n",
    "    x = np.linspace(0, 10, 100)\n",
    "    plt.figure(figsize=(4,2))\n",
    "    plt.plot(x, np.sin(x))\n",
    "    plt.title(\"Sine Wave\")\n",
    "    plt.tight_layout()\n",
    "    plt.show()\n",
    "chat.add(msg3)\n",
    "\n",
    "# User, just text\n",
    "msg4 = ChatMessage(role=\"user\")\n",
    "msg4.set_message(\"Thank you! Show me a table too.\")\n",
    "chat.add(msg4)\n",
    "\n",
    "# AI, table with emoji\n",
    "import pandas as pd\n",
    "msg5 = ChatMessage(role=\"ai\", emoji=\"📊\")\n",
    "msg5.set_message(\"Here's a table:\")\n",
    "with msg5:\n",
    "    df = pd.DataFrame({\"ColA\":[1,2,3],\"ColB\":[4,5,6]})\n",
    "    display(df)\n",
    "chat.add(msg5)\n"
   ]
  },
  {
   "cell_type": "code",
   "execution_count": 10,
   "id": "a853c9c8-7642-43b4-8129-1bed06ee2778",
   "metadata": {},
   "outputs": [],
   "source": [
    "with msg1:\n",
    "    print(\"Hello! How can I assist you today?\")\n"
   ]
  },
  {
   "cell_type": "code",
   "execution_count": 10,
   "id": "4cf66730-05c7-4d06-9ae3-c594d2675c9d",
   "metadata": {},
   "outputs": [],
   "source": []
  },
  {
   "cell_type": "code",
   "execution_count": 3,
   "id": "aa29306f-e09e-4296-965e-784cf1c1138b",
   "metadata": {},
   "outputs": [],
   "source": []
  },
  {
   "cell_type": "code",
   "execution_count": 3,
   "id": "2745db99-3899-4591-a160-16bf52e95d61",
   "metadata": {},
   "outputs": [],
   "source": []
  },
  {
   "cell_type": "code",
   "execution_count": 3,
   "id": "74645091-d12c-4fbf-9ed9-cf42031a4ec5",
   "metadata": {},
   "outputs": [],
   "source": []
  }
 ],
 "metadata": {
  "kernelspec": {
   "display_name": "Python 3 (ipykernel)",
   "language": "python",
   "name": "python3"
  },
  "language_info": {
   "codemirror_mode": {
    "name": "ipython",
    "version": 3
   },
   "file_extension": ".py",
   "mimetype": "text/x-python",
   "name": "python",
   "nbconvert_exporter": "python",
   "pygments_lexer": "ipython3",
   "version": "3.11.5"
  }
 },
 "nbformat": 4,
 "nbformat_minor": 5
}
