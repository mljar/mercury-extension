{
 "cells": [
  {
   "cell_type": "code",
   "execution_count": 95,
   "id": "ec1a47df-3b61-49a2-a7bb-4139c2b6ccc3",
   "metadata": {},
   "outputs": [],
   "source": [
    "from chat import ChatMessage, ChatDisplay"
   ]
  },
  {
   "cell_type": "code",
   "execution_count": 98,
   "id": "dc6f7bf2-b7e5-405e-ab4a-7da74098b43a",
   "metadata": {},
   "outputs": [
    {
     "data": {
      "application/vnd.jupyter.widget-view+json": {
       "model_id": "89b4bb91d99d4775b2439ab2652b3ab7",
       "version_major": 2,
       "version_minor": 0
      },
      "text/plain": [
       "VBox(children=(HTML(value='<div style=\"color:#bbb; text-align:center; padding:48px 0; font-size:1.2em;\">💬 Say …"
      ]
     },
     "metadata": {},
     "output_type": "display_data"
    }
   ],
   "source": [
    "chat = ChatDisplay(\"Say hello to your AI assistant!\")\n",
    "\n",
    "# AI with emoji, just text\n",
    "msg1 = ChatMessage(role=\"ai\")\n",
    "chat.add(msg1)\n",
    "\n",
    "\n",
    "# User, with emoji\n",
    "msg2 = ChatMessage(role=\"user\")\n",
    "msg2.set_message(\"Can you plot a sine wave for me?\")\n",
    "chat.add(msg2)\n",
    "\n",
    "# AI with plot (no .set_message call, just use Output)\n",
    "import matplotlib.pyplot as plt\n",
    "import numpy as np\n",
    "msg3 = ChatMessage(role=\"ai\")\n",
    "msg3.set_message(\"Here's your plot:\")  # Optional, or leave blank\n",
    "with msg3:\n",
    "    x = np.linspace(0, 10, 100)\n",
    "    plt.figure(figsize=(4,2))\n",
    "    plt.plot(x, np.sin(x))\n",
    "    plt.title(\"Sine Wave\")\n",
    "    plt.tight_layout()\n",
    "    plt.show()\n",
    "chat.add(msg3)\n",
    "\n",
    "# User, just text\n",
    "msg4 = ChatMessage(role=\"user\")\n",
    "msg4.set_message(\"Thank you! Show me a table too.\")\n",
    "chat.add(msg4)\n",
    "\n",
    "# AI, table with emoji\n",
    "import pandas as pd\n",
    "msg5 = ChatMessage(role=\"ai\", emoji=\"📊\")\n",
    "msg5.set_message(\"Here's a table:\")\n",
    "with msg5:\n",
    "    df = pd.DataFrame({\"ColA\":[1,2,3],\"ColB\":[4,5,6]})\n",
    "    display(df)\n",
    "chat.add(msg5)\n"
   ]
  },
  {
   "cell_type": "code",
   "execution_count": 99,
   "id": "a853c9c8-7642-43b4-8129-1bed06ee2778",
   "metadata": {},
   "outputs": [],
   "source": [
    "with msg1:\n",
    "    print(\"Hello! How can I assist you today?\")\n"
   ]
  },
  {
   "cell_type": "code",
   "execution_count": 93,
   "id": "4cf66730-05c7-4d06-9ae3-c594d2675c9d",
   "metadata": {},
   "outputs": [],
   "source": []
  },
  {
   "cell_type": "code",
   "execution_count": 93,
   "id": "aa29306f-e09e-4296-965e-784cf1c1138b",
   "metadata": {},
   "outputs": [],
   "source": []
  },
  {
   "cell_type": "code",
   "execution_count": null,
   "id": "2745db99-3899-4591-a160-16bf52e95d61",
   "metadata": {},
   "outputs": [],
   "source": []
  }
 ],
 "metadata": {
  "kernelspec": {
   "display_name": "Python 3 (ipykernel)",
   "language": "python",
   "name": "python3"
  },
  "language_info": {
   "codemirror_mode": {
    "name": "ipython",
    "version": 3
   },
   "file_extension": ".py",
   "mimetype": "text/x-python",
   "name": "python",
   "nbconvert_exporter": "python",
   "pygments_lexer": "ipython3",
   "version": "3.11.5"
  }
 },
 "nbformat": 4,
 "nbformat_minor": 5
}
