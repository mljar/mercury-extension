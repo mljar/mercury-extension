{
 "cells": [
  {
   "cell_type": "code",
   "execution_count": 1,
   "id": "ec1a47df-3b61-49a2-a7bb-4139c2b6ccc3",
   "metadata": {},
   "outputs": [],
   "source": [
    "from widgets.chat import ChatMessage, ChatDisplay"
   ]
  },
  {
   "cell_type": "code",
   "execution_count": 2,
   "id": "72605867-2a91-4d69-9a60-4f278a0d8004",
   "metadata": {},
   "outputs": [],
   "source": [
    "from widgets.slider import Slider"
   ]
  },
  {
   "cell_type": "code",
   "execution_count": 3,
   "id": "367d6a92-cd88-43c9-a8ed-f10ce70e7f50",
   "metadata": {},
   "outputs": [
    {
     "data": {
      "application/vnd.jupyter.widget-view+json": {
       "model_id": "4751bca5c4fc42f98500b19cd39068db",
       "version_major": 2,
       "version_minor": 0
      },
      "text/plain": [
       "VBox(children=(HTML(value='\\n            <div style=\"\\n              color:#b5b5b5;\\n              text-align:…"
      ]
     },
     "metadata": {},
     "output_type": "display_data"
    }
   ],
   "source": [
    "chat = ChatDisplay()"
   ]
  },
  {
   "cell_type": "code",
   "execution_count": 4,
   "id": "dc6f7bf2-b7e5-405e-ab4a-7da74098b43a",
   "metadata": {},
   "outputs": [],
   "source": [
    "# User message (right)\n",
    "msg1 = ChatMessage(role=\"user\", emoji=\"👤\")\n",
    "msg1.set_message(text=\"Hello, world!\")\n",
    "chat.add(msg1)\n",
    "# AI message (left)\n",
    "msg2 = ChatMessage(role=\"ai\", emoji=\"🤖\")\n",
    "# msg2.set_message(text=\"<b>Hi there!</b> How can I help?\")\n",
    "chat.add(msg2)\n"
   ]
  },
  {
   "cell_type": "code",
   "execution_count": 5,
   "id": "2745db99-3899-4591-a160-16bf52e95d61",
   "metadata": {},
   "outputs": [],
   "source": [
    "with msg2:\n",
    "    print('test')"
   ]
  },
  {
   "cell_type": "code",
   "execution_count": 6,
   "id": "74645091-d12c-4fbf-9ed9-cf42031a4ec5",
   "metadata": {},
   "outputs": [],
   "source": [
    "from IPython.display import display, Markdown as md\n",
    "\n",
    "\n",
    "def Markdown(text=\"hello\"):\n",
    "    display(md(text))"
   ]
  },
  {
   "cell_type": "code",
   "execution_count": 7,
   "id": "b3affb69-99be-420f-8a36-b6202f824b54",
   "metadata": {},
   "outputs": [],
   "source": [
    "with msg2:\n",
    "    Markdown('some tests sdafgasdf asd test')"
   ]
  },
  {
   "cell_type": "code",
   "execution_count": 8,
   "id": "d98f4874-fcee-4983-88d5-af6435afe4a8",
   "metadata": {},
   "outputs": [],
   "source": [
    "from widgets.indicator import Indicator"
   ]
  },
  {
   "cell_type": "code",
   "execution_count": 9,
   "id": "1d00478a-6396-480d-ba8c-a36acdea5780",
   "metadata": {},
   "outputs": [
    {
     "data": {
      "text/html": [
       "\n",
       "        <style scoped>\n",
       "        .mljar-indicator-row {\n",
       "            width: 100%;\n",
       "            display: flex;\n",
       "            flex-direction: row;\n",
       "            gap: 5px;\n",
       "            justify-content: flex-start;\n",
       "        }\n",
       "        @media (max-width: 800px) {\n",
       "            .mljar-indicator-row {\n",
       "                flex-direction: column;\n",
       "            }\n",
       "        }\n",
       "        .mljar-indicator-card {\n",
       "            flex: 1 1 0;\n",
       "            background: var(--bg, #fff);\n",
       "            border: 1px solid var(--border, #ebebeb);\n",
       "            border-radius: 12px;\n",
       "            padding: 26px 24px 18px 24px;\n",
       "            margin: 8px;\n",
       "            text-align: center;                \n",
       "            min-width: 180px;\n",
       "            max-width: 240px !important;\n",
       "            box-shadow: 0 2px 8px rgba(0,0,0,0.04);\n",
       "        }\n",
       "        .mljar-indicator-title {\n",
       "            font-size: 1.3em !important;\n",
       "            color: var(--label, #555);\n",
       "            margin-bottom: 10px;\n",
       "            font-family: 'Inter', 'Segoe UI', Arial, sans-serif !important;\n",
       "        }\n",
       "        .mljar-indicator-value {\n",
       "            font-size: 2.7em;\n",
       "            color: var(--value, #222);\n",
       "            font-family: 'Menlo', 'Consolas', monospace;\n",
       "            margin-bottom: 12px;\n",
       "            letter-spacing: 1px;\n",
       "        }\n",
       "        .mljar-indicator-delta {\n",
       "            display: inline-block;\n",
       "            padding: 0.28em 1.1em 0.28em 1.1em;\n",
       "            font-size: 1em;\n",
       "            border-radius: 2em;\n",
       "            margin-bottom: 4px;\n",
       "            font-family: 'Menlo', monospace;\n",
       "            font-weight: bold;\n",
       "        }\n",
       "        .mljar-indicator-delta.up {\n",
       "            background: var(--bg-green, rgba(0,178,117,0.12));\n",
       "            color: var(--green, #00B275);\n",
       "        }\n",
       "        .mljar-indicator-delta.down {\n",
       "            background: var(--bg-red, rgba(255,99,132,0.13));\n",
       "            color: var(--red, #FF6384);\n",
       "        }\n",
       "        </style>\n",
       "        \n",
       "<div class=\"mljar-indicator-card\"\n",
       "     style=\"--bg:#fff;--border:#ebebeb;--value:#222;--label:#555;--green:#00B275;--bg-green:rgba(0, 178, 117, 0.12);--red:#FF6384;--bg-red:rgba(255, 99, 132, 0.13)\">\n",
       "    <div class='mljar-indicator-title'>First number</div>\n",
       "    <div class='mljar-indicator-value'>123</div>\n",
       "    \n",
       "</div>\n"
      ],
      "text/plain": [
       "<widgets.indicator.Indicator at 0x7aed10bf1290>"
      ]
     },
     "execution_count": 9,
     "metadata": {},
     "output_type": "execute_result"
    }
   ],
   "source": [
    "Indicator(123, label=\"First number\")\n"
   ]
  },
  {
   "cell_type": "code",
   "execution_count": 10,
   "id": "302a73d2-5aed-44d7-a61f-c7dc5fd3b9d0",
   "metadata": {},
   "outputs": [
    {
     "data": {
      "text/html": [
       "\n",
       "        <style scoped>\n",
       "        .mljar-indicator-row {\n",
       "            width: 100%;\n",
       "            display: flex;\n",
       "            flex-direction: row;\n",
       "            gap: 5px;\n",
       "            justify-content: flex-start;\n",
       "        }\n",
       "        @media (max-width: 800px) {\n",
       "            .mljar-indicator-row {\n",
       "                flex-direction: column;\n",
       "            }\n",
       "        }\n",
       "        .mljar-indicator-card {\n",
       "            flex: 1 1 0;\n",
       "            background: var(--bg, #fff);\n",
       "            border: 1px solid var(--border, #ebebeb);\n",
       "            border-radius: 12px;\n",
       "            padding: 26px 24px 18px 24px;\n",
       "            margin: 8px;\n",
       "            text-align: center;                \n",
       "            min-width: 180px;\n",
       "            max-width: 240px !important;\n",
       "            box-shadow: 0 2px 8px rgba(0,0,0,0.04);\n",
       "        }\n",
       "        .mljar-indicator-title {\n",
       "            font-size: 1.3em !important;\n",
       "            color: var(--label, #555);\n",
       "            margin-bottom: 10px;\n",
       "            font-family: 'Inter', 'Segoe UI', Arial, sans-serif !important;\n",
       "        }\n",
       "        .mljar-indicator-value {\n",
       "            font-size: 2.7em;\n",
       "            color: var(--value, #222);\n",
       "            font-family: 'Menlo', 'Consolas', monospace;\n",
       "            margin-bottom: 12px;\n",
       "            letter-spacing: 1px;\n",
       "        }\n",
       "        .mljar-indicator-delta {\n",
       "            display: inline-block;\n",
       "            padding: 0.28em 1.1em 0.28em 1.1em;\n",
       "            font-size: 1em;\n",
       "            border-radius: 2em;\n",
       "            margin-bottom: 4px;\n",
       "            font-family: 'Menlo', monospace;\n",
       "            font-weight: bold;\n",
       "        }\n",
       "        .mljar-indicator-delta.up {\n",
       "            background: var(--bg-green, rgba(0,178,117,0.12));\n",
       "            color: var(--green, #00B275);\n",
       "        }\n",
       "        .mljar-indicator-delta.down {\n",
       "            background: var(--bg-red, rgba(255,99,132,0.13));\n",
       "            color: var(--red, #FF6384);\n",
       "        }\n",
       "        </style>\n",
       "        <div class='mljar-indicator-row'>\n",
       "        <style scoped>\n",
       "        .mljar-indicator-row {\n",
       "            width: 100%;\n",
       "            display: flex;\n",
       "            flex-direction: row;\n",
       "            gap: 5px;\n",
       "            justify-content: flex-start;\n",
       "        }\n",
       "        @media (max-width: 800px) {\n",
       "            .mljar-indicator-row {\n",
       "                flex-direction: column;\n",
       "            }\n",
       "        }\n",
       "        .mljar-indicator-card {\n",
       "            flex: 1 1 0;\n",
       "            background: var(--bg, #fff);\n",
       "            border: 1px solid var(--border, #ebebeb);\n",
       "            border-radius: 12px;\n",
       "            padding: 26px 24px 18px 24px;\n",
       "            margin: 8px;\n",
       "            text-align: center;                \n",
       "            min-width: 180px;\n",
       "            max-width: 240px !important;\n",
       "            box-shadow: 0 2px 8px rgba(0,0,0,0.04);\n",
       "        }\n",
       "        .mljar-indicator-title {\n",
       "            font-size: 1.3em !important;\n",
       "            color: var(--label, #555);\n",
       "            margin-bottom: 10px;\n",
       "            font-family: 'Inter', 'Segoe UI', Arial, sans-serif !important;\n",
       "        }\n",
       "        .mljar-indicator-value {\n",
       "            font-size: 2.7em;\n",
       "            color: var(--value, #222);\n",
       "            font-family: 'Menlo', 'Consolas', monospace;\n",
       "            margin-bottom: 12px;\n",
       "            letter-spacing: 1px;\n",
       "        }\n",
       "        .mljar-indicator-delta {\n",
       "            display: inline-block;\n",
       "            padding: 0.28em 1.1em 0.28em 1.1em;\n",
       "            font-size: 1em;\n",
       "            border-radius: 2em;\n",
       "            margin-bottom: 4px;\n",
       "            font-family: 'Menlo', monospace;\n",
       "            font-weight: bold;\n",
       "        }\n",
       "        .mljar-indicator-delta.up {\n",
       "            background: var(--bg-green, rgba(0,178,117,0.12));\n",
       "            color: var(--green, #00B275);\n",
       "        }\n",
       "        .mljar-indicator-delta.down {\n",
       "            background: var(--bg-red, rgba(255,99,132,0.13));\n",
       "            color: var(--red, #FF6384);\n",
       "        }\n",
       "        </style>\n",
       "        \n",
       "<div class=\"mljar-indicator-card\"\n",
       "     style=\"--bg:#fff;--border:#ebebeb;--value:#222;--label:#555;--green:#00B275;--bg-green:rgba(0, 178, 117, 0.12);--red:#FF6384;--bg-red:rgba(255, 99, 132, 0.13)\">\n",
       "    <div class='mljar-indicator-title'>Temperature</div>\n",
       "    <div class='mljar-indicator-value'>70 °F</div>\n",
       "    <div class='mljar-indicator-delta up'><span style='font-size:1.15em'>&#8593;</span> 1.2%</div>\n",
       "</div>\n",
       "\n",
       "        <style scoped>\n",
       "        .mljar-indicator-row {\n",
       "            width: 100%;\n",
       "            display: flex;\n",
       "            flex-direction: row;\n",
       "            gap: 5px;\n",
       "            justify-content: flex-start;\n",
       "        }\n",
       "        @media (max-width: 800px) {\n",
       "            .mljar-indicator-row {\n",
       "                flex-direction: column;\n",
       "            }\n",
       "        }\n",
       "        .mljar-indicator-card {\n",
       "            flex: 1 1 0;\n",
       "            background: var(--bg, #fff);\n",
       "            border: 1px solid var(--border, #ebebeb);\n",
       "            border-radius: 12px;\n",
       "            padding: 26px 24px 18px 24px;\n",
       "            margin: 8px;\n",
       "            text-align: center;                \n",
       "            min-width: 180px;\n",
       "            max-width: 240px !important;\n",
       "            box-shadow: 0 2px 8px rgba(0,0,0,0.04);\n",
       "        }\n",
       "        .mljar-indicator-title {\n",
       "            font-size: 1.3em !important;\n",
       "            color: var(--label, #555);\n",
       "            margin-bottom: 10px;\n",
       "            font-family: 'Inter', 'Segoe UI', Arial, sans-serif !important;\n",
       "        }\n",
       "        .mljar-indicator-value {\n",
       "            font-size: 2.7em;\n",
       "            color: var(--value, #222);\n",
       "            font-family: 'Menlo', 'Consolas', monospace;\n",
       "            margin-bottom: 12px;\n",
       "            letter-spacing: 1px;\n",
       "        }\n",
       "        .mljar-indicator-delta {\n",
       "            display: inline-block;\n",
       "            padding: 0.28em 1.1em 0.28em 1.1em;\n",
       "            font-size: 1em;\n",
       "            border-radius: 2em;\n",
       "            margin-bottom: 4px;\n",
       "            font-family: 'Menlo', monospace;\n",
       "            font-weight: bold;\n",
       "        }\n",
       "        .mljar-indicator-delta.up {\n",
       "            background: var(--bg-green, rgba(0,178,117,0.12));\n",
       "            color: var(--green, #00B275);\n",
       "        }\n",
       "        .mljar-indicator-delta.down {\n",
       "            background: var(--bg-red, rgba(255,99,132,0.13));\n",
       "            color: var(--red, #FF6384);\n",
       "        }\n",
       "        </style>\n",
       "        \n",
       "<div class=\"mljar-indicator-card\"\n",
       "     style=\"--bg:#fff;--border:#ebebeb;--value:#222;--label:#555;--green:#00B275;--bg-green:rgba(0, 178, 117, 0.12);--red:#FF6384;--bg-red:rgba(255, 99, 132, 0.13)\">\n",
       "    <div class='mljar-indicator-title'>Wind</div>\n",
       "    <div class='mljar-indicator-value'>9 mph</div>\n",
       "    <div class='mljar-indicator-delta down'><span style='font-size:1.15em'>&#8595;</span> 8.0%</div>\n",
       "</div>\n",
       "\n",
       "        <style scoped>\n",
       "        .mljar-indicator-row {\n",
       "            width: 100%;\n",
       "            display: flex;\n",
       "            flex-direction: row;\n",
       "            gap: 5px;\n",
       "            justify-content: flex-start;\n",
       "        }\n",
       "        @media (max-width: 800px) {\n",
       "            .mljar-indicator-row {\n",
       "                flex-direction: column;\n",
       "            }\n",
       "        }\n",
       "        .mljar-indicator-card {\n",
       "            flex: 1 1 0;\n",
       "            background: var(--bg, #fff);\n",
       "            border: 1px solid var(--border, #ebebeb);\n",
       "            border-radius: 12px;\n",
       "            padding: 26px 24px 18px 24px;\n",
       "            margin: 8px;\n",
       "            text-align: center;                \n",
       "            min-width: 180px;\n",
       "            max-width: 240px !important;\n",
       "            box-shadow: 0 2px 8px rgba(0,0,0,0.04);\n",
       "        }\n",
       "        .mljar-indicator-title {\n",
       "            font-size: 1.3em !important;\n",
       "            color: var(--label, #555);\n",
       "            margin-bottom: 10px;\n",
       "            font-family: 'Inter', 'Segoe UI', Arial, sans-serif !important;\n",
       "        }\n",
       "        .mljar-indicator-value {\n",
       "            font-size: 2.7em;\n",
       "            color: var(--value, #222);\n",
       "            font-family: 'Menlo', 'Consolas', monospace;\n",
       "            margin-bottom: 12px;\n",
       "            letter-spacing: 1px;\n",
       "        }\n",
       "        .mljar-indicator-delta {\n",
       "            display: inline-block;\n",
       "            padding: 0.28em 1.1em 0.28em 1.1em;\n",
       "            font-size: 1em;\n",
       "            border-radius: 2em;\n",
       "            margin-bottom: 4px;\n",
       "            font-family: 'Menlo', monospace;\n",
       "            font-weight: bold;\n",
       "        }\n",
       "        .mljar-indicator-delta.up {\n",
       "            background: var(--bg-green, rgba(0,178,117,0.12));\n",
       "            color: var(--green, #00B275);\n",
       "        }\n",
       "        .mljar-indicator-delta.down {\n",
       "            background: var(--bg-red, rgba(255,99,132,0.13));\n",
       "            color: var(--red, #FF6384);\n",
       "        }\n",
       "        </style>\n",
       "        \n",
       "<div class=\"mljar-indicator-card\"\n",
       "     style=\"--bg:#fff;--border:#ebebeb;--value:#222;--label:#555;--green:#00B275;--bg-green:rgba(0, 178, 117, 0.12);--red:#FF6384;--bg-red:rgba(255, 99, 132, 0.13)\">\n",
       "    <div class='mljar-indicator-title'>Humidity</div>\n",
       "    <div class='mljar-indicator-value'>86%</div>\n",
       "    <div class='mljar-indicator-delta up'><span style='font-size:1.15em'>&#8593;</span> 4.0%</div>\n",
       "</div>\n",
       "</div>"
      ],
      "text/plain": [
       "<widgets.indicator.Indicator at 0x7aed10194810>"
      ]
     },
     "execution_count": 10,
     "metadata": {},
     "output_type": "execute_result"
    }
   ],
   "source": [
    "cards = [\n",
    "    Indicator(\"70 °F\", label=\"Temperature\", delta=1.2),\n",
    "    Indicator(\"9 mph\", label=\"Wind\", delta=-8),\n",
    "    Indicator(\"86%\", label=\"Humidity\", delta=4)\n",
    "]\n",
    "\n",
    "Indicator(cards)\n"
   ]
  },
  {
   "cell_type": "code",
   "execution_count": 11,
   "id": "b5e20aac-a720-43c9-81f5-d16ac1e4b660",
   "metadata": {},
   "outputs": [],
   "source": [
    "with msg2:\n",
    "    display(Indicator(cards))"
   ]
  },
  {
   "cell_type": "code",
   "execution_count": 12,
   "id": "6a25953b-4e25-4778-89e9-dcb5b5956b10",
   "metadata": {},
   "outputs": [
    {
     "data": {
      "text/html": [
       "\n",
       "        <style scoped>\n",
       "        .mljar-indicator-row {\n",
       "            width: 100%;\n",
       "            display: flex;\n",
       "            flex-direction: row;\n",
       "            gap: 5px;\n",
       "            justify-content: flex-start;\n",
       "        }\n",
       "        @media (max-width: 800px) {\n",
       "            .mljar-indicator-row {\n",
       "                flex-direction: column;\n",
       "            }\n",
       "        }\n",
       "        .mljar-indicator-card {\n",
       "            flex: 1 1 0;\n",
       "            background: var(--bg, #fff);\n",
       "            border: 1px solid var(--border, #ebebeb);\n",
       "            border-radius: 12px;\n",
       "            padding: 26px 24px 18px 24px;\n",
       "            margin: 8px;\n",
       "            text-align: center;                \n",
       "            min-width: 180px;\n",
       "            max-width: 240px !important;\n",
       "            box-shadow: 0 2px 8px rgba(0,0,0,0.04);\n",
       "        }\n",
       "        .mljar-indicator-title {\n",
       "            font-size: 1.3em !important;\n",
       "            color: var(--label, #555);\n",
       "            margin-bottom: 10px;\n",
       "            font-family: 'Inter', 'Segoe UI', Arial, sans-serif !important;\n",
       "        }\n",
       "        .mljar-indicator-value {\n",
       "            font-size: 2.7em;\n",
       "            color: var(--value, #222);\n",
       "            font-family: 'Menlo', 'Consolas', monospace;\n",
       "            margin-bottom: 12px;\n",
       "            letter-spacing: 1px;\n",
       "        }\n",
       "        .mljar-indicator-delta {\n",
       "            display: inline-block;\n",
       "            padding: 0.28em 1.1em 0.28em 1.1em;\n",
       "            font-size: 1em;\n",
       "            border-radius: 2em;\n",
       "            margin-bottom: 4px;\n",
       "            font-family: 'Menlo', monospace;\n",
       "            font-weight: bold;\n",
       "        }\n",
       "        .mljar-indicator-delta.up {\n",
       "            background: var(--bg-green, rgba(0,178,117,0.12));\n",
       "            color: var(--green, #00B275);\n",
       "        }\n",
       "        .mljar-indicator-delta.down {\n",
       "            background: var(--bg-red, rgba(255,99,132,0.13));\n",
       "            color: var(--red, #FF6384);\n",
       "        }\n",
       "        </style>\n",
       "        <div class='mljar-indicator-row'>\n",
       "        <style scoped>\n",
       "        .mljar-indicator-row {\n",
       "            width: 100%;\n",
       "            display: flex;\n",
       "            flex-direction: row;\n",
       "            gap: 5px;\n",
       "            justify-content: flex-start;\n",
       "        }\n",
       "        @media (max-width: 800px) {\n",
       "            .mljar-indicator-row {\n",
       "                flex-direction: column;\n",
       "            }\n",
       "        }\n",
       "        .mljar-indicator-card {\n",
       "            flex: 1 1 0;\n",
       "            background: var(--bg, #fff);\n",
       "            border: 1px solid var(--border, #ebebeb);\n",
       "            border-radius: 12px;\n",
       "            padding: 26px 24px 18px 24px;\n",
       "            margin: 8px;\n",
       "            text-align: center;                \n",
       "            min-width: 180px;\n",
       "            max-width: 240px !important;\n",
       "            box-shadow: 0 2px 8px rgba(0,0,0,0.04);\n",
       "        }\n",
       "        .mljar-indicator-title {\n",
       "            font-size: 1.3em !important;\n",
       "            color: var(--label, #555);\n",
       "            margin-bottom: 10px;\n",
       "            font-family: 'Inter', 'Segoe UI', Arial, sans-serif !important;\n",
       "        }\n",
       "        .mljar-indicator-value {\n",
       "            font-size: 2.7em;\n",
       "            color: var(--value, #222);\n",
       "            font-family: 'Menlo', 'Consolas', monospace;\n",
       "            margin-bottom: 12px;\n",
       "            letter-spacing: 1px;\n",
       "        }\n",
       "        .mljar-indicator-delta {\n",
       "            display: inline-block;\n",
       "            padding: 0.28em 1.1em 0.28em 1.1em;\n",
       "            font-size: 1em;\n",
       "            border-radius: 2em;\n",
       "            margin-bottom: 4px;\n",
       "            font-family: 'Menlo', monospace;\n",
       "            font-weight: bold;\n",
       "        }\n",
       "        .mljar-indicator-delta.up {\n",
       "            background: var(--bg-green, rgba(0,178,117,0.12));\n",
       "            color: var(--green, #00B275);\n",
       "        }\n",
       "        .mljar-indicator-delta.down {\n",
       "            background: var(--bg-red, rgba(255,99,132,0.13));\n",
       "            color: var(--red, #FF6384);\n",
       "        }\n",
       "        </style>\n",
       "        \n",
       "<div class=\"mljar-indicator-card\"\n",
       "     style=\"--bg:#fff;--border:#ebebeb;--value:#222;--label:#555;--green:#00B275;--bg-green:rgba(0, 178, 117, 0.12);--red:#FF6384;--bg-red:rgba(255, 99, 132, 0.13)\">\n",
       "    <div class='mljar-indicator-title'>Temperature</div>\n",
       "    <div class='mljar-indicator-value'>70 °F</div>\n",
       "    <div class='mljar-indicator-delta up'><span style='font-size:1.15em'>&#8593;</span> 1.2%</div>\n",
       "</div>\n",
       "\n",
       "        <style scoped>\n",
       "        .mljar-indicator-row {\n",
       "            width: 100%;\n",
       "            display: flex;\n",
       "            flex-direction: row;\n",
       "            gap: 5px;\n",
       "            justify-content: flex-start;\n",
       "        }\n",
       "        @media (max-width: 800px) {\n",
       "            .mljar-indicator-row {\n",
       "                flex-direction: column;\n",
       "            }\n",
       "        }\n",
       "        .mljar-indicator-card {\n",
       "            flex: 1 1 0;\n",
       "            background: var(--bg, #fff);\n",
       "            border: 1px solid var(--border, #ebebeb);\n",
       "            border-radius: 12px;\n",
       "            padding: 26px 24px 18px 24px;\n",
       "            margin: 8px;\n",
       "            text-align: center;                \n",
       "            min-width: 180px;\n",
       "            max-width: 240px !important;\n",
       "            box-shadow: 0 2px 8px rgba(0,0,0,0.04);\n",
       "        }\n",
       "        .mljar-indicator-title {\n",
       "            font-size: 1.3em !important;\n",
       "            color: var(--label, #555);\n",
       "            margin-bottom: 10px;\n",
       "            font-family: 'Inter', 'Segoe UI', Arial, sans-serif !important;\n",
       "        }\n",
       "        .mljar-indicator-value {\n",
       "            font-size: 2.7em;\n",
       "            color: var(--value, #222);\n",
       "            font-family: 'Menlo', 'Consolas', monospace;\n",
       "            margin-bottom: 12px;\n",
       "            letter-spacing: 1px;\n",
       "        }\n",
       "        .mljar-indicator-delta {\n",
       "            display: inline-block;\n",
       "            padding: 0.28em 1.1em 0.28em 1.1em;\n",
       "            font-size: 1em;\n",
       "            border-radius: 2em;\n",
       "            margin-bottom: 4px;\n",
       "            font-family: 'Menlo', monospace;\n",
       "            font-weight: bold;\n",
       "        }\n",
       "        .mljar-indicator-delta.up {\n",
       "            background: var(--bg-green, rgba(0,178,117,0.12));\n",
       "            color: var(--green, #00B275);\n",
       "        }\n",
       "        .mljar-indicator-delta.down {\n",
       "            background: var(--bg-red, rgba(255,99,132,0.13));\n",
       "            color: var(--red, #FF6384);\n",
       "        }\n",
       "        </style>\n",
       "        \n",
       "<div class=\"mljar-indicator-card\"\n",
       "     style=\"--bg:#fff;--border:#ebebeb;--value:#222;--label:#555;--green:#00B275;--bg-green:rgba(0, 178, 117, 0.12);--red:#FF6384;--bg-red:rgba(255, 99, 132, 0.13)\">\n",
       "    <div class='mljar-indicator-title'>Wind</div>\n",
       "    <div class='mljar-indicator-value'>9 mph</div>\n",
       "    <div class='mljar-indicator-delta down'><span style='font-size:1.15em'>&#8595;</span> 8.0%</div>\n",
       "</div>\n",
       "</div>"
      ],
      "text/plain": [
       "<widgets.indicator.Indicator at 0x7aed10156e10>"
      ]
     },
     "execution_count": 12,
     "metadata": {},
     "output_type": "execute_result"
    }
   ],
   "source": [
    "cards = [\n",
    "    Indicator(\"70 °F\", label=\"Temperature\", delta=1.2),\n",
    "    Indicator(\"9 mph\", label=\"Wind\", delta=-8),\n",
    "]\n",
    "\n",
    "Indicator(cards)\n"
   ]
  },
  {
   "cell_type": "code",
   "execution_count": null,
   "id": "e0c4017b-3e6e-43b1-8e50-dca5a941259a",
   "metadata": {},
   "outputs": [],
   "source": []
  },
  {
   "cell_type": "code",
   "execution_count": null,
   "id": "af845977-9545-4e46-abef-691eec9b4547",
   "metadata": {},
   "outputs": [],
   "source": []
  },
  {
   "cell_type": "code",
   "execution_count": null,
   "id": "dbe23c98-2856-44ff-b270-2918d4d6e9f4",
   "metadata": {},
   "outputs": [],
   "source": []
  }
 ],
 "metadata": {
  "kernelspec": {
   "display_name": "Python 3 (ipykernel)",
   "language": "python",
   "name": "python3"
  },
  "language_info": {
   "codemirror_mode": {
    "name": "ipython",
    "version": 3
   },
   "file_extension": ".py",
   "mimetype": "text/x-python",
   "name": "python",
   "nbconvert_exporter": "python",
   "pygments_lexer": "ipython3",
   "version": "3.11.12"
  },
  "widgets": {
   "application/vnd.jupyter.widget-state+json": {
    "state": {
     "024b3ab78cf44a4db94bd6dd87719937": {
      "model_module": "@jupyter-widgets/base",
      "model_module_version": "2.0.0",
      "model_name": "LayoutModel",
      "state": {
       "align_self": "flex-start",
       "margin": "0 5px 0 0"
      }
     },
     "06e4c1a0b26340e18ba1f5600dbfca40": {
      "model_module": "@jupyter-widgets/base",
      "model_module_version": "2.0.0",
      "model_name": "LayoutModel",
      "state": {
       "align_self": "flex-start",
       "flex": "1 1 auto",
       "margin": "0",
       "max_width": "900px",
       "min_width": "100px",
       "padding": "0",
       "width": "auto"
      }
     },
     "0785e732b645450f97f150ad778436bf": {
      "model_module": "@jupyter-widgets/controls",
      "model_module_version": "2.0.0",
      "model_name": "HTMLStyleModel",
      "state": {
       "description_width": "",
       "font_size": null,
       "text_color": null
      }
     },
     "11f248a4905448c38a62c38a2b3b8743": {
      "model_module": "@jupyter-widgets/controls",
      "model_module_version": "2.0.0",
      "model_name": "HTMLModel",
      "state": {
       "layout": "IPY_MODEL_f1b64a93d805458cb509ef4411a58344",
       "style": "IPY_MODEL_c247eb3d44be4cf79f0324ff59004d3d",
       "value": "\n            <div style=\"\n              color:#b5b5b5;\n              text-align:center;\n              padding:40px 0;\n              font-size:1.1em;\n              background:#fff;\n            \">\n              💬 No messages yet. Start the conversation!\n            </div>\n            "
      }
     },
     "1857c605879b46bf9a19fe89f91650cc": {
      "model_module": "@jupyter-widgets/base",
      "model_module_version": "2.0.0",
      "model_name": "LayoutModel",
      "state": {
       "flex": "1 1 0%",
       "width": "0px"
      }
     },
     "1aab7545619b4745a322b47dd55d2994": {
      "model_module": "@jupyter-widgets/controls",
      "model_module_version": "2.0.0",
      "model_name": "VBoxModel",
      "state": {
       "children": [
        "IPY_MODEL_69744e299c904d4e85e06fea13998cf8",
        "IPY_MODEL_9f96c8e61fd249debeda0703d9cd086b"
       ],
       "layout": "IPY_MODEL_447ca00555154bceb2ad12ffded8a874"
      }
     },
     "1d741749c0874018a3498f86c189aba7": {
      "model_module": "@jupyter-widgets/controls",
      "model_module_version": "2.0.0",
      "model_name": "BoxModel",
      "state": {
       "children": [
        "IPY_MODEL_c5389e196b3847a5a1fdf49b2704de67"
       ],
       "layout": "IPY_MODEL_e4d38953668b42a9afbe9b94c57f6435"
      }
     },
     "20725f5393e34739b81770702eee053a": {
      "model_module": "@jupyter-widgets/controls",
      "model_module_version": "2.0.0",
      "model_name": "HTMLModel",
      "state": {
       "layout": "IPY_MODEL_6344ef25a1d64a8f8c5de67efebfe6ed",
       "style": "IPY_MODEL_30ae65ace8554e249db32fb0257998cb",
       "value": "<div style=\"width:36px;height:36px;background:#eeeeee;border-radius:12px;display:flex;align-items:center;justify-content:center;box-shadow:0 1px 4px rgba(60,60,60,0.10);\"><span style=\"font-size:18px;line-height:1;\">🤖</span></div>"
      }
     },
     "2378e08630b2431087b1bf56d5504671": {
      "model_module": "@jupyter-widgets/base",
      "model_module_version": "2.0.0",
      "model_name": "LayoutModel",
      "state": {
       "align_self": "flex-start",
       "flex": "1 1 auto",
       "max_width": "900px",
       "min_width": "100px",
       "width": "auto"
      }
     },
     "25e9cd3bb250472ab4c823b0cbc88c9c": {
      "model_module": "@jupyter-widgets/base",
      "model_module_version": "2.0.0",
      "model_name": "LayoutModel",
      "state": {
       "align_self": "flex-start",
       "flex": "1 1 auto",
       "margin": "0",
       "max_width": "900px",
       "min_width": "100px",
       "padding": "6px 0px 0px 0px",
       "width": "auto"
      }
     },
     "2c7a71369bde463b9e9a9516907acf1d": {
      "model_module": "@jupyter-widgets/controls",
      "model_module_version": "2.0.0",
      "model_name": "HTMLStyleModel",
      "state": {
       "description_width": "",
       "font_size": null,
       "text_color": null
      }
     },
     "30ae65ace8554e249db32fb0257998cb": {
      "model_module": "@jupyter-widgets/controls",
      "model_module_version": "2.0.0",
      "model_name": "HTMLStyleModel",
      "state": {
       "description_width": "",
       "font_size": null,
       "text_color": null
      }
     },
     "316f05f58b3d4d9595a7a359e883a3c3": {
      "model_module": "@jupyter-widgets/base",
      "model_module_version": "2.0.0",
      "model_name": "LayoutModel",
      "state": {}
     },
     "387dec8a123e4c60a393ef5e393002da": {
      "model_module": "@jupyter-widgets/base",
      "model_module_version": "2.0.0",
      "model_name": "LayoutModel",
      "state": {}
     },
     "3b13815c75e64747a695df8011211ca3": {
      "model_module": "@jupyter-widgets/base",
      "model_module_version": "2.0.0",
      "model_name": "LayoutModel",
      "state": {}
     },
     "3c42b08caa5b45468491a3a67aaee8d8": {
      "model_module": "@jupyter-widgets/controls",
      "model_module_version": "2.0.0",
      "model_name": "HTMLStyleModel",
      "state": {
       "description_width": "",
       "font_size": null,
       "text_color": null
      }
     },
     "3cd309cbf9a14904bec52d999abbd6bb": {
      "model_module": "@jupyter-widgets/base",
      "model_module_version": "2.0.0",
      "model_name": "LayoutModel",
      "state": {
       "align_self": "flex-start",
       "margin": "0 5px 0 0"
      }
     },
     "3ff92abe6ea9493389393c7cb1a34b00": {
      "model_module": "@jupyter-widgets/controls",
      "model_module_version": "2.0.0",
      "model_name": "HTMLStyleModel",
      "state": {
       "description_width": "",
       "font_size": null,
       "text_color": null
      }
     },
     "447ca00555154bceb2ad12ffded8a874": {
      "model_module": "@jupyter-widgets/base",
      "model_module_version": "2.0.0",
      "model_name": "LayoutModel",
      "state": {
       "padding": "4px 4px",
       "width": "100%"
      }
     },
     "4506a3c01af444a4b0a36f99c1ef5804": {
      "model_module": "@jupyter-widgets/controls",
      "model_module_version": "2.0.0",
      "model_name": "HTMLModel",
      "state": {
       "layout": "IPY_MODEL_3cd309cbf9a14904bec52d999abbd6bb",
       "style": "IPY_MODEL_0785e732b645450f97f150ad778436bf",
       "value": "<div style=\"width:36px;height:36px;background:#eeeeee;border-radius:12px;display:flex;align-items:center;justify-content:center;box-shadow:0 1px 4px rgba(60,60,60,0.10);\"><span style=\"font-size:18px;line-height:1;\">🤖</span></div>"
      }
     },
     "45da89da8f004935ae52e3e1ce737a4c": {
      "model_module": "@jupyter-widgets/controls",
      "model_module_version": "2.0.0",
      "model_name": "HTMLModel",
      "state": {
       "layout": "IPY_MODEL_3b13815c75e64747a695df8011211ca3",
       "style": "IPY_MODEL_4ea13d5e8dec4af7aa2a1a836d062c0e",
       "value": "\n            <div style=\"\n              color:#b5b5b5;\n              text-align:center;\n              padding:40px 0;\n              font-size:1.1em;\n              background:#fff;\n            \">\n              💬 No messages yet. Start the conversation!\n            </div>\n            "
      }
     },
     "46f2fdb2085d49118c5db5f49f492a8c": {
      "model_module": "@jupyter-widgets/controls",
      "model_module_version": "2.0.0",
      "model_name": "HTMLModel",
      "state": {
       "layout": "IPY_MODEL_024b3ab78cf44a4db94bd6dd87719937",
       "style": "IPY_MODEL_3c42b08caa5b45468491a3a67aaee8d8",
       "value": "<div style=\"width:36px;height:36px;background:#84c4ff;border-radius:12px;display:flex;align-items:center;justify-content:center;box-shadow:0 1px 4px rgba(60,60,60,0.10);\"><span style=\"font-size:18px;line-height:1;\">👤</span></div>"
      }
     },
     "4aa2702ce8674e189a3b214d451e0517": {
      "model_module": "@jupyter-widgets/controls",
      "model_module_version": "2.0.0",
      "model_name": "HTMLModel",
      "state": {
       "layout": "IPY_MODEL_f6d0fdaa1e594e29af4c1e4e9e295ad5",
       "style": "IPY_MODEL_8aa75e739b8a45b9a5334b37db9f938d",
       "value": "<div style=\"background:#fff;border-radius:13px;box-shadow:0 2px 12px rgba(60,60,60,0.10);padding:14px 20px;margin:7px 0;color:#232323;font-family:inherit;font-size:1.04em;white-space:normal;word-break:break-word;\"></div>"
      }
     },
     "4ea13d5e8dec4af7aa2a1a836d062c0e": {
      "model_module": "@jupyter-widgets/controls",
      "model_module_version": "2.0.0",
      "model_name": "HTMLStyleModel",
      "state": {
       "description_width": "",
       "font_size": null,
       "text_color": null
      }
     },
     "4fe4144a77434e1ba10aedd6575acdc0": {
      "model_module": "@jupyter-widgets/base",
      "model_module_version": "2.0.0",
      "model_name": "LayoutModel",
      "state": {
       "align_self": "flex-start",
       "flex": "1 1 auto",
       "max_width": "900px",
       "min_width": "100px",
       "width": "auto"
      }
     },
     "551295bc788345ed8c5ba0e2858160a7": {
      "model_module": "@jupyter-widgets/controls",
      "model_module_version": "2.0.0",
      "model_name": "BoxModel",
      "state": {
       "_dom_classes": [
        "bubble-container"
       ],
       "children": [
        "IPY_MODEL_62fbc619a1554fd689ded167106e77c0"
       ],
       "layout": "IPY_MODEL_06e4c1a0b26340e18ba1f5600dbfca40"
      }
     },
     "566208a20d88490f94d540b3df79eab9": {
      "model_module": "@jupyter-widgets/base",
      "model_module_version": "2.0.0",
      "model_name": "LayoutModel",
      "state": {
       "align_self": "flex-start",
       "flex": "1 1 auto",
       "margin": "0",
       "max_width": "900px",
       "min_width": "100px",
       "padding": "6px 0px 0px 0px",
       "width": "auto"
      }
     },
     "585eeca31575453eb573022997c7cd51": {
      "model_module": "@jupyter-widgets/base",
      "model_module_version": "2.0.0",
      "model_name": "LayoutModel",
      "state": {
       "align_items": "flex-start",
       "margin": "5px",
       "width": "100%"
      }
     },
     "5b440adc1cea492493703eb4af0b7b07": {
      "model_module": "@jupyter-widgets/base",
      "model_module_version": "2.0.0",
      "model_name": "LayoutModel",
      "state": {
       "flex": "1 1 0%",
       "width": "0px"
      }
     },
     "5fac3e6371904fa097832ae663603023": {
      "model_module": "@jupyter-widgets/controls",
      "model_module_version": "2.0.0",
      "model_name": "BoxModel",
      "state": {
       "_dom_classes": [
        "bubble-container"
       ],
       "children": [
        "IPY_MODEL_f7526dbb3d9c4fd09fdab6a0a508f989"
       ],
       "layout": "IPY_MODEL_d528efc66166496487f4a0fbaffd587d"
      }
     },
     "62fbc619a1554fd689ded167106e77c0": {
      "model_module": "@jupyter-widgets/controls",
      "model_module_version": "2.0.0",
      "model_name": "BoxModel",
      "state": {
       "children": [
        "IPY_MODEL_6c8592e14a634f65943453a2cdbaafb3"
       ],
       "layout": "IPY_MODEL_c362db6bec9a48ff8b098e5c943793a3"
      }
     },
     "6344ef25a1d64a8f8c5de67efebfe6ed": {
      "model_module": "@jupyter-widgets/base",
      "model_module_version": "2.0.0",
      "model_name": "LayoutModel",
      "state": {
       "align_self": "flex-start",
       "margin": "0 5px 0 0"
      }
     },
     "69744e299c904d4e85e06fea13998cf8": {
      "model_module": "@jupyter-widgets/controls",
      "model_module_version": "2.0.0",
      "model_name": "HBoxModel",
      "state": {
       "children": [
        "IPY_MODEL_46f2fdb2085d49118c5db5f49f492a8c",
        "IPY_MODEL_551295bc788345ed8c5ba0e2858160a7",
        "IPY_MODEL_e7f09c0f44dd4a9aa813197c07e74309"
       ],
       "layout": "IPY_MODEL_585eeca31575453eb573022997c7cd51"
      }
     },
     "6c8592e14a634f65943453a2cdbaafb3": {
      "model_module": "@jupyter-widgets/output",
      "model_module_version": "1.0.0",
      "model_name": "OutputModel",
      "state": {
       "layout": "IPY_MODEL_a2153fff66bd4b418536c01b9a1bad3b",
       "outputs": [
        {
         "name": "stdout",
         "output_type": "stream",
         "text": "Hello, world!\n"
        }
       ]
      }
     },
     "6ccea47c10a342e493b8f53991f577e6": {
      "model_module": "@jupyter-widgets/controls",
      "model_module_version": "2.0.0",
      "model_name": "BoxModel",
      "state": {
       "layout": "IPY_MODEL_c5c2a4f3a2d0474390bcfc134efc9c80"
      }
     },
     "73481de5ea5e4c818975e0aa77b277c5": {
      "model_module": "@jupyter-widgets/base",
      "model_module_version": "2.0.0",
      "model_name": "LayoutModel",
      "state": {
       "align_self": "flex-start",
       "flex": "1 1 auto",
       "margin": "0",
       "max_width": "900px",
       "min_width": "100px",
       "padding": "0",
       "width": "auto"
      }
     },
     "74ba2e41f69747ec850bb2de73b74d70": {
      "model_module": "@jupyter-widgets/output",
      "model_module_version": "1.0.0",
      "model_name": "OutputModel",
      "state": {
       "layout": "IPY_MODEL_316f05f58b3d4d9595a7a359e883a3c3",
       "outputs": [
        {
         "name": "stdout",
         "output_type": "stream",
         "text": "test\n"
        },
        {
         "data": {
          "text/markdown": "some tests sdafgasdf asd test",
          "text/plain": "<IPython.core.display.Markdown object>"
         },
         "metadata": {},
         "output_type": "display_data"
        },
        {
         "data": {
          "text/html": "\n        <style scoped>\n        .mljar-indicator-row {\n            width: 100%;\n            display: flex;\n            flex-direction: row;\n            gap: 5px;\n            justify-content: flex-start;\n        }\n        @media (max-width: 800px) {\n            .mljar-indicator-row {\n                flex-direction: column;\n            }\n        }\n        .mljar-indicator-card {\n            flex: 1 1 0;\n            background: var(--bg, #fff);\n            border: 1px solid var(--border, #ebebeb);\n            border-radius: 12px;\n            padding: 26px 24px 18px 24px;\n            margin: 8px;\n            text-align: center;                \n            min-width: 180px;\n            max-width: 240px !important;\n            box-shadow: 0 2px 8px rgba(0,0,0,0.04);\n        }\n        .mljar-indicator-title {\n            font-size: 1.3em !important;\n            color: var(--label, #555);\n            margin-bottom: 10px;\n            font-family: 'Inter', 'Segoe UI', Arial, sans-serif !important;\n        }\n        .mljar-indicator-value {\n            font-size: 2.7em;\n            color: var(--value, #222);\n            font-family: 'Menlo', 'Consolas', monospace;\n            margin-bottom: 12px;\n            letter-spacing: 1px;\n        }\n        .mljar-indicator-delta {\n            display: inline-block;\n            padding: 0.28em 1.1em 0.28em 1.1em;\n            font-size: 1em;\n            border-radius: 2em;\n            margin-bottom: 4px;\n            font-family: 'Menlo', monospace;\n            font-weight: bold;\n        }\n        .mljar-indicator-delta.up {\n            background: var(--bg-green, rgba(0,178,117,0.12));\n            color: var(--green, #00B275);\n        }\n        .mljar-indicator-delta.down {\n            background: var(--bg-red, rgba(255,99,132,0.13));\n            color: var(--red, #FF6384);\n        }\n        </style>\n        <div class='mljar-indicator-row'>\n        <style scoped>\n        .mljar-indicator-row {\n            width: 100%;\n            display: flex;\n            flex-direction: row;\n            gap: 5px;\n            justify-content: flex-start;\n        }\n        @media (max-width: 800px) {\n            .mljar-indicator-row {\n                flex-direction: column;\n            }\n        }\n        .mljar-indicator-card {\n            flex: 1 1 0;\n            background: var(--bg, #fff);\n            border: 1px solid var(--border, #ebebeb);\n            border-radius: 12px;\n            padding: 26px 24px 18px 24px;\n            margin: 8px;\n            text-align: center;                \n            min-width: 180px;\n            max-width: 240px !important;\n            box-shadow: 0 2px 8px rgba(0,0,0,0.04);\n        }\n        .mljar-indicator-title {\n            font-size: 1.3em !important;\n            color: var(--label, #555);\n            margin-bottom: 10px;\n            font-family: 'Inter', 'Segoe UI', Arial, sans-serif !important;\n        }\n        .mljar-indicator-value {\n            font-size: 2.7em;\n            color: var(--value, #222);\n            font-family: 'Menlo', 'Consolas', monospace;\n            margin-bottom: 12px;\n            letter-spacing: 1px;\n        }\n        .mljar-indicator-delta {\n            display: inline-block;\n            padding: 0.28em 1.1em 0.28em 1.1em;\n            font-size: 1em;\n            border-radius: 2em;\n            margin-bottom: 4px;\n            font-family: 'Menlo', monospace;\n            font-weight: bold;\n        }\n        .mljar-indicator-delta.up {\n            background: var(--bg-green, rgba(0,178,117,0.12));\n            color: var(--green, #00B275);\n        }\n        .mljar-indicator-delta.down {\n            background: var(--bg-red, rgba(255,99,132,0.13));\n            color: var(--red, #FF6384);\n        }\n        </style>\n        \n<div class=\"mljar-indicator-card\"\n     style=\"--bg:#fff;--border:#ebebeb;--value:#222;--label:#555;--green:#00B275;--bg-green:rgba(0, 178, 117, 0.12);--red:#FF6384;--bg-red:rgba(255, 99, 132, 0.13)\">\n    <div class='mljar-indicator-title'>Temperature</div>\n    <div class='mljar-indicator-value'>70 °F</div>\n    <div class='mljar-indicator-delta up'><span style='font-size:1.15em'>&#8593;</span> 1.2%</div>\n</div>\n\n        <style scoped>\n        .mljar-indicator-row {\n            width: 100%;\n            display: flex;\n            flex-direction: row;\n            gap: 5px;\n            justify-content: flex-start;\n        }\n        @media (max-width: 800px) {\n            .mljar-indicator-row {\n                flex-direction: column;\n            }\n        }\n        .mljar-indicator-card {\n            flex: 1 1 0;\n            background: var(--bg, #fff);\n            border: 1px solid var(--border, #ebebeb);\n            border-radius: 12px;\n            padding: 26px 24px 18px 24px;\n            margin: 8px;\n            text-align: center;                \n            min-width: 180px;\n            max-width: 240px !important;\n            box-shadow: 0 2px 8px rgba(0,0,0,0.04);\n        }\n        .mljar-indicator-title {\n            font-size: 1.3em !important;\n            color: var(--label, #555);\n            margin-bottom: 10px;\n            font-family: 'Inter', 'Segoe UI', Arial, sans-serif !important;\n        }\n        .mljar-indicator-value {\n            font-size: 2.7em;\n            color: var(--value, #222);\n            font-family: 'Menlo', 'Consolas', monospace;\n            margin-bottom: 12px;\n            letter-spacing: 1px;\n        }\n        .mljar-indicator-delta {\n            display: inline-block;\n            padding: 0.28em 1.1em 0.28em 1.1em;\n            font-size: 1em;\n            border-radius: 2em;\n            margin-bottom: 4px;\n            font-family: 'Menlo', monospace;\n            font-weight: bold;\n        }\n        .mljar-indicator-delta.up {\n            background: var(--bg-green, rgba(0,178,117,0.12));\n            color: var(--green, #00B275);\n        }\n        .mljar-indicator-delta.down {\n            background: var(--bg-red, rgba(255,99,132,0.13));\n            color: var(--red, #FF6384);\n        }\n        </style>\n        \n<div class=\"mljar-indicator-card\"\n     style=\"--bg:#fff;--border:#ebebeb;--value:#222;--label:#555;--green:#00B275;--bg-green:rgba(0, 178, 117, 0.12);--red:#FF6384;--bg-red:rgba(255, 99, 132, 0.13)\">\n    <div class='mljar-indicator-title'>Wind</div>\n    <div class='mljar-indicator-value'>9 mph</div>\n    <div class='mljar-indicator-delta down'><span style='font-size:1.15em'>&#8595;</span> 8.0%</div>\n</div>\n\n        <style scoped>\n        .mljar-indicator-row {\n            width: 100%;\n            display: flex;\n            flex-direction: row;\n            gap: 5px;\n            justify-content: flex-start;\n        }\n        @media (max-width: 800px) {\n            .mljar-indicator-row {\n                flex-direction: column;\n            }\n        }\n        .mljar-indicator-card {\n            flex: 1 1 0;\n            background: var(--bg, #fff);\n            border: 1px solid var(--border, #ebebeb);\n            border-radius: 12px;\n            padding: 26px 24px 18px 24px;\n            margin: 8px;\n            text-align: center;                \n            min-width: 180px;\n            max-width: 240px !important;\n            box-shadow: 0 2px 8px rgba(0,0,0,0.04);\n        }\n        .mljar-indicator-title {\n            font-size: 1.3em !important;\n            color: var(--label, #555);\n            margin-bottom: 10px;\n            font-family: 'Inter', 'Segoe UI', Arial, sans-serif !important;\n        }\n        .mljar-indicator-value {\n            font-size: 2.7em;\n            color: var(--value, #222);\n            font-family: 'Menlo', 'Consolas', monospace;\n            margin-bottom: 12px;\n            letter-spacing: 1px;\n        }\n        .mljar-indicator-delta {\n            display: inline-block;\n            padding: 0.28em 1.1em 0.28em 1.1em;\n            font-size: 1em;\n            border-radius: 2em;\n            margin-bottom: 4px;\n            font-family: 'Menlo', monospace;\n            font-weight: bold;\n        }\n        .mljar-indicator-delta.up {\n            background: var(--bg-green, rgba(0,178,117,0.12));\n            color: var(--green, #00B275);\n        }\n        .mljar-indicator-delta.down {\n            background: var(--bg-red, rgba(255,99,132,0.13));\n            color: var(--red, #FF6384);\n        }\n        </style>\n        \n<div class=\"mljar-indicator-card\"\n     style=\"--bg:#fff;--border:#ebebeb;--value:#222;--label:#555;--green:#00B275;--bg-green:rgba(0, 178, 117, 0.12);--red:#FF6384;--bg-red:rgba(255, 99, 132, 0.13)\">\n    <div class='mljar-indicator-title'>Humidity</div>\n    <div class='mljar-indicator-value'>86%</div>\n    <div class='mljar-indicator-delta up'><span style='font-size:1.15em'>&#8593;</span> 4.0%</div>\n</div>\n</div>",
          "text/plain": "<widgets.Indicator.Indicator at 0x7788167843d0>"
         },
         "metadata": {},
         "output_type": "display_data"
        }
       ]
      }
     },
     "81096e17f6064223b7f7df9a0b16d800": {
      "model_module": "@jupyter-widgets/base",
      "model_module_version": "2.0.0",
      "model_name": "LayoutModel",
      "state": {
       "align_items": "flex-start",
       "margin": "5px",
       "width": "100%"
      }
     },
     "892a7545f1734daaa85d94baa95b12e5": {
      "model_module": "@jupyter-widgets/controls",
      "model_module_version": "2.0.0",
      "model_name": "VBoxModel",
      "state": {
       "children": [
        "IPY_MODEL_fc38e6fb4c7448e5998c7d0eec629c58",
        "IPY_MODEL_f0e3d5ebbe764c428eb3ba8121243440"
       ],
       "layout": "IPY_MODEL_919b16c0eb3843c4832942cb4cb81597"
      }
     },
     "8aa75e739b8a45b9a5334b37db9f938d": {
      "model_module": "@jupyter-widgets/controls",
      "model_module_version": "2.0.0",
      "model_name": "HTMLStyleModel",
      "state": {
       "description_width": "",
       "font_size": null,
       "text_color": null
      }
     },
     "8c429d4390f2418796c1a47bf3b2ce08": {
      "model_module": "@jupyter-widgets/controls",
      "model_module_version": "2.0.0",
      "model_name": "BoxModel",
      "state": {
       "_dom_classes": [
        "bubble-container"
       ],
       "children": [
        "IPY_MODEL_1d741749c0874018a3498f86c189aba7"
       ],
       "layout": "IPY_MODEL_ad94afe02325487ab2f4c31bd23b74ae"
      }
     },
     "919b16c0eb3843c4832942cb4cb81597": {
      "model_module": "@jupyter-widgets/base",
      "model_module_version": "2.0.0",
      "model_name": "LayoutModel",
      "state": {
       "padding": "4px 4px",
       "width": "100%"
      }
     },
     "93c3b76b03084f1f9f4b1579b1cd83e9": {
      "model_module": "@jupyter-widgets/controls",
      "model_module_version": "2.0.0",
      "model_name": "BoxModel",
      "state": {
       "children": [
        "IPY_MODEL_a9fd39e932ef4ed6a5156c1168c5c6ef"
       ],
       "layout": "IPY_MODEL_25e9cd3bb250472ab4c823b0cbc88c9c"
      }
     },
     "950207fd56944b01970f0300fb8409a0": {
      "model_module": "@jupyter-widgets/controls",
      "model_module_version": "2.0.0",
      "model_name": "HTMLModel",
      "state": {
       "layout": "IPY_MODEL_bbfd76e94386423988ee23380fb62b5c",
       "style": "IPY_MODEL_9f8e505accc24391bed65efd121d1ad3",
       "value": "<div style=\"background:#fff;border-radius:13px;box-shadow:0 2px 12px rgba(60,60,60,0.10);padding:14px 20px;margin:7px 0;color:#232323;font-family:inherit;font-size:1.04em;white-space:normal;word-break:break-word;\"></div>"
      }
     },
     "9cde59bb699244da91fa104ecb2c6c67": {
      "model_module": "@jupyter-widgets/controls",
      "model_module_version": "2.0.0",
      "model_name": "HTMLModel",
      "state": {
       "layout": "IPY_MODEL_4fe4144a77434e1ba10aedd6575acdc0",
       "style": "IPY_MODEL_b9a3ee46b5b244e9ad7679b7c75b4669",
       "value": "<div style=\"background:#fff;border-radius:13px;box-shadow:0 2px 12px rgba(60,60,60,0.10);padding:14px 20px;margin:7px 0;color:#232323;font-family:inherit;font-size:1.04em;white-space:normal;word-break:break-word;\"></div>"
      }
     },
     "9f87fe680b874c93a5c22cf6db97656e": {
      "model_module": "@jupyter-widgets/base",
      "model_module_version": "2.0.0",
      "model_name": "LayoutModel",
      "state": {}
     },
     "9f8e505accc24391bed65efd121d1ad3": {
      "model_module": "@jupyter-widgets/controls",
      "model_module_version": "2.0.0",
      "model_name": "HTMLStyleModel",
      "state": {
       "description_width": "",
       "font_size": null,
       "text_color": null
      }
     },
     "9f96c8e61fd249debeda0703d9cd086b": {
      "model_module": "@jupyter-widgets/controls",
      "model_module_version": "2.0.0",
      "model_name": "HBoxModel",
      "state": {
       "children": [
        "IPY_MODEL_20725f5393e34739b81770702eee053a",
        "IPY_MODEL_5fac3e6371904fa097832ae663603023",
        "IPY_MODEL_dca6096635ba4fbe8fd136e5fb9e2375"
       ],
       "layout": "IPY_MODEL_81096e17f6064223b7f7df9a0b16d800"
      }
     },
     "a039b543d4384b4e812346338dee76a3": {
      "model_module": "@jupyter-widgets/controls",
      "model_module_version": "2.0.0",
      "model_name": "BoxModel",
      "state": {
       "layout": "IPY_MODEL_1857c605879b46bf9a19fe89f91650cc"
      }
     },
     "a2153fff66bd4b418536c01b9a1bad3b": {
      "model_module": "@jupyter-widgets/base",
      "model_module_version": "2.0.0",
      "model_name": "LayoutModel",
      "state": {}
     },
     "a9fd39e932ef4ed6a5156c1168c5c6ef": {
      "model_module": "@jupyter-widgets/output",
      "model_module_version": "1.0.0",
      "model_name": "OutputModel",
      "state": {
       "layout": "IPY_MODEL_b5cdbc855e5c4142bf3538c2ead8fe71",
       "outputs": [
        {
         "name": "stdout",
         "output_type": "stream",
         "text": "test\n"
        },
        {
         "data": {
          "text/markdown": "some tests sdafgasdf asd test",
          "text/plain": "<IPython.core.display.Markdown object>"
         },
         "metadata": {},
         "output_type": "display_data"
        },
        {
         "data": {
          "text/html": "\n        <style scoped>\n        .mljar-indicator-row {\n            width: 100%;\n            display: flex;\n            flex-direction: row;\n            gap: 5px;\n            justify-content: flex-start;\n        }\n        @media (max-width: 800px) {\n            .mljar-indicator-row {\n                flex-direction: column;\n            }\n        }\n        .mljar-indicator-card {\n            flex: 1 1 0;\n            background: var(--bg, #fff);\n            border: 1px solid var(--border, #ebebeb);\n            border-radius: 12px;\n            padding: 26px 24px 18px 24px;\n            margin: 8px;\n            text-align: center;                \n            min-width: 180px;\n            max-width: 240px !important;\n            box-shadow: 0 2px 8px rgba(0,0,0,0.04);\n        }\n        .mljar-indicator-title {\n            font-size: 1.3em !important;\n            color: var(--label, #555);\n            margin-bottom: 10px;\n            font-family: 'Inter', 'Segoe UI', Arial, sans-serif !important;\n        }\n        .mljar-indicator-value {\n            font-size: 2.7em;\n            color: var(--value, #222);\n            font-family: 'Menlo', 'Consolas', monospace;\n            margin-bottom: 12px;\n            letter-spacing: 1px;\n        }\n        .mljar-indicator-delta {\n            display: inline-block;\n            padding: 0.28em 1.1em 0.28em 1.1em;\n            font-size: 1em;\n            border-radius: 2em;\n            margin-bottom: 4px;\n            font-family: 'Menlo', monospace;\n            font-weight: bold;\n        }\n        .mljar-indicator-delta.up {\n            background: var(--bg-green, rgba(0,178,117,0.12));\n            color: var(--green, #00B275);\n        }\n        .mljar-indicator-delta.down {\n            background: var(--bg-red, rgba(255,99,132,0.13));\n            color: var(--red, #FF6384);\n        }\n        </style>\n        <div class='mljar-indicator-row'>\n        <style scoped>\n        .mljar-indicator-row {\n            width: 100%;\n            display: flex;\n            flex-direction: row;\n            gap: 5px;\n            justify-content: flex-start;\n        }\n        @media (max-width: 800px) {\n            .mljar-indicator-row {\n                flex-direction: column;\n            }\n        }\n        .mljar-indicator-card {\n            flex: 1 1 0;\n            background: var(--bg, #fff);\n            border: 1px solid var(--border, #ebebeb);\n            border-radius: 12px;\n            padding: 26px 24px 18px 24px;\n            margin: 8px;\n            text-align: center;                \n            min-width: 180px;\n            max-width: 240px !important;\n            box-shadow: 0 2px 8px rgba(0,0,0,0.04);\n        }\n        .mljar-indicator-title {\n            font-size: 1.3em !important;\n            color: var(--label, #555);\n            margin-bottom: 10px;\n            font-family: 'Inter', 'Segoe UI', Arial, sans-serif !important;\n        }\n        .mljar-indicator-value {\n            font-size: 2.7em;\n            color: var(--value, #222);\n            font-family: 'Menlo', 'Consolas', monospace;\n            margin-bottom: 12px;\n            letter-spacing: 1px;\n        }\n        .mljar-indicator-delta {\n            display: inline-block;\n            padding: 0.28em 1.1em 0.28em 1.1em;\n            font-size: 1em;\n            border-radius: 2em;\n            margin-bottom: 4px;\n            font-family: 'Menlo', monospace;\n            font-weight: bold;\n        }\n        .mljar-indicator-delta.up {\n            background: var(--bg-green, rgba(0,178,117,0.12));\n            color: var(--green, #00B275);\n        }\n        .mljar-indicator-delta.down {\n            background: var(--bg-red, rgba(255,99,132,0.13));\n            color: var(--red, #FF6384);\n        }\n        </style>\n        \n<div class=\"mljar-indicator-card\"\n     style=\"--bg:#fff;--border:#ebebeb;--value:#222;--label:#555;--green:#00B275;--bg-green:rgba(0, 178, 117, 0.12);--red:#FF6384;--bg-red:rgba(255, 99, 132, 0.13)\">\n    <div class='mljar-indicator-title'>Temperature</div>\n    <div class='mljar-indicator-value'>70 °F</div>\n    <div class='mljar-indicator-delta up'><span style='font-size:1.15em'>&#8593;</span> 1.2%</div>\n</div>\n\n        <style scoped>\n        .mljar-indicator-row {\n            width: 100%;\n            display: flex;\n            flex-direction: row;\n            gap: 5px;\n            justify-content: flex-start;\n        }\n        @media (max-width: 800px) {\n            .mljar-indicator-row {\n                flex-direction: column;\n            }\n        }\n        .mljar-indicator-card {\n            flex: 1 1 0;\n            background: var(--bg, #fff);\n            border: 1px solid var(--border, #ebebeb);\n            border-radius: 12px;\n            padding: 26px 24px 18px 24px;\n            margin: 8px;\n            text-align: center;                \n            min-width: 180px;\n            max-width: 240px !important;\n            box-shadow: 0 2px 8px rgba(0,0,0,0.04);\n        }\n        .mljar-indicator-title {\n            font-size: 1.3em !important;\n            color: var(--label, #555);\n            margin-bottom: 10px;\n            font-family: 'Inter', 'Segoe UI', Arial, sans-serif !important;\n        }\n        .mljar-indicator-value {\n            font-size: 2.7em;\n            color: var(--value, #222);\n            font-family: 'Menlo', 'Consolas', monospace;\n            margin-bottom: 12px;\n            letter-spacing: 1px;\n        }\n        .mljar-indicator-delta {\n            display: inline-block;\n            padding: 0.28em 1.1em 0.28em 1.1em;\n            font-size: 1em;\n            border-radius: 2em;\n            margin-bottom: 4px;\n            font-family: 'Menlo', monospace;\n            font-weight: bold;\n        }\n        .mljar-indicator-delta.up {\n            background: var(--bg-green, rgba(0,178,117,0.12));\n            color: var(--green, #00B275);\n        }\n        .mljar-indicator-delta.down {\n            background: var(--bg-red, rgba(255,99,132,0.13));\n            color: var(--red, #FF6384);\n        }\n        </style>\n        \n<div class=\"mljar-indicator-card\"\n     style=\"--bg:#fff;--border:#ebebeb;--value:#222;--label:#555;--green:#00B275;--bg-green:rgba(0, 178, 117, 0.12);--red:#FF6384;--bg-red:rgba(255, 99, 132, 0.13)\">\n    <div class='mljar-indicator-title'>Wind</div>\n    <div class='mljar-indicator-value'>9 mph</div>\n    <div class='mljar-indicator-delta down'><span style='font-size:1.15em'>&#8595;</span> 8.0%</div>\n</div>\n\n        <style scoped>\n        .mljar-indicator-row {\n            width: 100%;\n            display: flex;\n            flex-direction: row;\n            gap: 5px;\n            justify-content: flex-start;\n        }\n        @media (max-width: 800px) {\n            .mljar-indicator-row {\n                flex-direction: column;\n            }\n        }\n        .mljar-indicator-card {\n            flex: 1 1 0;\n            background: var(--bg, #fff);\n            border: 1px solid var(--border, #ebebeb);\n            border-radius: 12px;\n            padding: 26px 24px 18px 24px;\n            margin: 8px;\n            text-align: center;                \n            min-width: 180px;\n            max-width: 240px !important;\n            box-shadow: 0 2px 8px rgba(0,0,0,0.04);\n        }\n        .mljar-indicator-title {\n            font-size: 1.3em !important;\n            color: var(--label, #555);\n            margin-bottom: 10px;\n            font-family: 'Inter', 'Segoe UI', Arial, sans-serif !important;\n        }\n        .mljar-indicator-value {\n            font-size: 2.7em;\n            color: var(--value, #222);\n            font-family: 'Menlo', 'Consolas', monospace;\n            margin-bottom: 12px;\n            letter-spacing: 1px;\n        }\n        .mljar-indicator-delta {\n            display: inline-block;\n            padding: 0.28em 1.1em 0.28em 1.1em;\n            font-size: 1em;\n            border-radius: 2em;\n            margin-bottom: 4px;\n            font-family: 'Menlo', monospace;\n            font-weight: bold;\n        }\n        .mljar-indicator-delta.up {\n            background: var(--bg-green, rgba(0,178,117,0.12));\n            color: var(--green, #00B275);\n        }\n        .mljar-indicator-delta.down {\n            background: var(--bg-red, rgba(255,99,132,0.13));\n            color: var(--red, #FF6384);\n        }\n        </style>\n        \n<div class=\"mljar-indicator-card\"\n     style=\"--bg:#fff;--border:#ebebeb;--value:#222;--label:#555;--green:#00B275;--bg-green:rgba(0, 178, 117, 0.12);--red:#FF6384;--bg-red:rgba(255, 99, 132, 0.13)\">\n    <div class='mljar-indicator-title'>Humidity</div>\n    <div class='mljar-indicator-value'>86%</div>\n    <div class='mljar-indicator-delta up'><span style='font-size:1.15em'>&#8593;</span> 4.0%</div>\n</div>\n</div>",
          "text/plain": "<widgets.Indicator.Indicator at 0x778816a55b90>"
         },
         "metadata": {},
         "output_type": "display_data"
        }
       ]
      }
     },
     "ad94afe02325487ab2f4c31bd23b74ae": {
      "model_module": "@jupyter-widgets/base",
      "model_module_version": "2.0.0",
      "model_name": "LayoutModel",
      "state": {
       "align_self": "flex-start",
       "flex": "1 1 auto",
       "margin": "0",
       "max_width": "900px",
       "min_width": "100px",
       "padding": "0",
       "width": "auto"
      }
     },
     "b5cdbc855e5c4142bf3538c2ead8fe71": {
      "model_module": "@jupyter-widgets/base",
      "model_module_version": "2.0.0",
      "model_name": "LayoutModel",
      "state": {}
     },
     "b5e3022690c1403bb94cae70573a39aa": {
      "model_module": "@jupyter-widgets/base",
      "model_module_version": "2.0.0",
      "model_name": "LayoutModel",
      "state": {}
     },
     "b9a3ee46b5b244e9ad7679b7c75b4669": {
      "model_module": "@jupyter-widgets/controls",
      "model_module_version": "2.0.0",
      "model_name": "HTMLStyleModel",
      "state": {
       "description_width": "",
       "font_size": null,
       "text_color": null
      }
     },
     "bbfd76e94386423988ee23380fb62b5c": {
      "model_module": "@jupyter-widgets/base",
      "model_module_version": "2.0.0",
      "model_name": "LayoutModel",
      "state": {
       "align_self": "flex-start",
       "flex": "1 1 auto",
       "max_width": "900px",
       "min_width": "100px",
       "width": "auto"
      }
     },
     "c247eb3d44be4cf79f0324ff59004d3d": {
      "model_module": "@jupyter-widgets/controls",
      "model_module_version": "2.0.0",
      "model_name": "HTMLStyleModel",
      "state": {
       "description_width": "",
       "font_size": null,
       "text_color": null
      }
     },
     "c362db6bec9a48ff8b098e5c943793a3": {
      "model_module": "@jupyter-widgets/base",
      "model_module_version": "2.0.0",
      "model_name": "LayoutModel",
      "state": {
       "align_self": "flex-start",
       "flex": "1 1 auto",
       "margin": "0",
       "max_width": "900px",
       "min_width": "100px",
       "padding": "6px 0px 0px 0px",
       "width": "auto"
      }
     },
     "c5389e196b3847a5a1fdf49b2704de67": {
      "model_module": "@jupyter-widgets/output",
      "model_module_version": "1.0.0",
      "model_name": "OutputModel",
      "state": {
       "layout": "IPY_MODEL_9f87fe680b874c93a5c22cf6db97656e",
       "outputs": [
        {
         "name": "stdout",
         "output_type": "stream",
         "text": "Hello, world!\n"
        }
       ]
      }
     },
     "c5c2a4f3a2d0474390bcfc134efc9c80": {
      "model_module": "@jupyter-widgets/base",
      "model_module_version": "2.0.0",
      "model_name": "LayoutModel",
      "state": {
       "flex": "1 1 0%",
       "width": "0px"
      }
     },
     "c992ab5d75414d55b11be4c1b5d73fb0": {
      "model_module": "@jupyter-widgets/controls",
      "model_module_version": "2.0.0",
      "model_name": "BoxModel",
      "state": {
       "_dom_classes": [
        "bubble-container"
       ],
       "children": [
        "IPY_MODEL_93c3b76b03084f1f9f4b1579b1cd83e9"
       ],
       "layout": "IPY_MODEL_73481de5ea5e4c818975e0aa77b277c5"
      }
     },
     "c9d4960dc3814e01856eca72bd564b9f": {
      "model_module": "@jupyter-widgets/base",
      "model_module_version": "2.0.0",
      "model_name": "LayoutModel",
      "state": {
       "align_self": "flex-start",
       "margin": "0 5px 0 0"
      }
     },
     "ccf0139b6f5348f6912e56e304e209fd": {
      "model_module": "@jupyter-widgets/base",
      "model_module_version": "2.0.0",
      "model_name": "LayoutModel",
      "state": {}
     },
     "d212e3025faf4326bbe5c2c99bede8df": {
      "model_module": "@jupyter-widgets/controls",
      "model_module_version": "2.0.0",
      "model_name": "HTMLModel",
      "state": {
       "layout": "IPY_MODEL_2378e08630b2431087b1bf56d5504671",
       "style": "IPY_MODEL_2c7a71369bde463b9e9a9516907acf1d",
       "value": "<div style=\"background:#fff;border-radius:13px;box-shadow:0 2px 12px rgba(60,60,60,0.10);padding:14px 20px;margin:7px 0;color:#232323;font-family:inherit;font-size:1.04em;white-space:normal;word-break:break-word;\"></div>"
      }
     },
     "d528efc66166496487f4a0fbaffd587d": {
      "model_module": "@jupyter-widgets/base",
      "model_module_version": "2.0.0",
      "model_name": "LayoutModel",
      "state": {
       "align_self": "flex-start",
       "flex": "1 1 auto",
       "margin": "0",
       "max_width": "900px",
       "min_width": "100px",
       "padding": "0",
       "width": "auto"
      }
     },
     "dca6096635ba4fbe8fd136e5fb9e2375": {
      "model_module": "@jupyter-widgets/controls",
      "model_module_version": "2.0.0",
      "model_name": "BoxModel",
      "state": {
       "layout": "IPY_MODEL_f75ce3f30b184def996394fd7268fd4b"
      }
     },
     "deeae48903b147d68074aa53ba0d53d7": {
      "model_module": "@jupyter-widgets/base",
      "model_module_version": "2.0.0",
      "model_name": "LayoutModel",
      "state": {
       "align_items": "flex-start",
       "margin": "5px",
       "width": "100%"
      }
     },
     "e4d38953668b42a9afbe9b94c57f6435": {
      "model_module": "@jupyter-widgets/base",
      "model_module_version": "2.0.0",
      "model_name": "LayoutModel",
      "state": {
       "align_self": "flex-start",
       "flex": "1 1 auto",
       "margin": "0",
       "max_width": "900px",
       "min_width": "100px",
       "padding": "6px 0px 0px 0px",
       "width": "auto"
      }
     },
     "e7f09c0f44dd4a9aa813197c07e74309": {
      "model_module": "@jupyter-widgets/controls",
      "model_module_version": "2.0.0",
      "model_name": "BoxModel",
      "state": {
       "layout": "IPY_MODEL_5b440adc1cea492493703eb4af0b7b07"
      }
     },
     "eb9983275e1048ce82d371ef18c071ba": {
      "model_module": "@jupyter-widgets/base",
      "model_module_version": "2.0.0",
      "model_name": "LayoutModel",
      "state": {
       "align_items": "flex-start",
       "margin": "5px",
       "width": "100%"
      }
     },
     "ece7c4752c5f45eeb7a957edc949fc49": {
      "model_module": "@jupyter-widgets/controls",
      "model_module_version": "2.0.0",
      "model_name": "HTMLModel",
      "state": {
       "layout": "IPY_MODEL_c9d4960dc3814e01856eca72bd564b9f",
       "style": "IPY_MODEL_3ff92abe6ea9493389393c7cb1a34b00",
       "value": "<div style=\"width:36px;height:36px;background:#84c4ff;border-radius:12px;display:flex;align-items:center;justify-content:center;box-shadow:0 1px 4px rgba(60,60,60,0.10);\"><span style=\"font-size:18px;line-height:1;\">👤</span></div>"
      }
     },
     "f0e3d5ebbe764c428eb3ba8121243440": {
      "model_module": "@jupyter-widgets/controls",
      "model_module_version": "2.0.0",
      "model_name": "HBoxModel",
      "state": {
       "children": [
        "IPY_MODEL_4506a3c01af444a4b0a36f99c1ef5804",
        "IPY_MODEL_c992ab5d75414d55b11be4c1b5d73fb0",
        "IPY_MODEL_a039b543d4384b4e812346338dee76a3"
       ],
       "layout": "IPY_MODEL_deeae48903b147d68074aa53ba0d53d7"
      }
     },
     "f1b64a93d805458cb509ef4411a58344": {
      "model_module": "@jupyter-widgets/base",
      "model_module_version": "2.0.0",
      "model_name": "LayoutModel",
      "state": {}
     },
     "f4ccef0f4d30409798300dcf0fbacc17": {
      "model_module": "@jupyter-widgets/base",
      "model_module_version": "2.0.0",
      "model_name": "LayoutModel",
      "state": {}
     },
     "f6d0fdaa1e594e29af4c1e4e9e295ad5": {
      "model_module": "@jupyter-widgets/base",
      "model_module_version": "2.0.0",
      "model_name": "LayoutModel",
      "state": {
       "align_self": "flex-start",
       "flex": "1 1 auto",
       "max_width": "900px",
       "min_width": "100px",
       "width": "auto"
      }
     },
     "f7526dbb3d9c4fd09fdab6a0a508f989": {
      "model_module": "@jupyter-widgets/controls",
      "model_module_version": "2.0.0",
      "model_name": "BoxModel",
      "state": {
       "children": [
        "IPY_MODEL_74ba2e41f69747ec850bb2de73b74d70"
       ],
       "layout": "IPY_MODEL_566208a20d88490f94d540b3df79eab9"
      }
     },
     "f75ce3f30b184def996394fd7268fd4b": {
      "model_module": "@jupyter-widgets/base",
      "model_module_version": "2.0.0",
      "model_name": "LayoutModel",
      "state": {
       "flex": "1 1 0%",
       "width": "0px"
      }
     },
     "fc38e6fb4c7448e5998c7d0eec629c58": {
      "model_module": "@jupyter-widgets/controls",
      "model_module_version": "2.0.0",
      "model_name": "HBoxModel",
      "state": {
       "children": [
        "IPY_MODEL_ece7c4752c5f45eeb7a957edc949fc49",
        "IPY_MODEL_8c429d4390f2418796c1a47bf3b2ce08",
        "IPY_MODEL_6ccea47c10a342e493b8f53991f577e6"
       ],
       "layout": "IPY_MODEL_eb9983275e1048ce82d371ef18c071ba"
      }
     }
    },
    "version_major": 2,
    "version_minor": 0
   }
  }
 },
 "nbformat": 4,
 "nbformat_minor": 5
}
