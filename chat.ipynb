{
 "cells": [
  {
   "cell_type": "code",
   "execution_count": 1,
   "id": "ec1a47df-3b61-49a2-a7bb-4139c2b6ccc3",
   "metadata": {},
   "outputs": [],
   "source": [
    "from widgets.chat.message import ChatMessage\n",
    "from widgets.chat.display import ChatDisplay"
   ]
  },
  {
   "cell_type": "markdown",
   "id": "49b97b09-808a-44fa-823f-da70e9d4a805",
   "metadata": {},
   "source": [
    "sdfasdfasdf"
   ]
  },
  {
   "cell_type": "code",
   "execution_count": 2,
   "id": "1fecb4f6-e5d3-4ef1-a55d-0b456a36b98b",
   "metadata": {},
   "outputs": [
    {
     "data": {
      "application/vnd.jupyter.widget-view+json": {
       "model_id": "2b27d2ec72dc4ed081c05318347d8417",
       "version_major": 2,
       "version_minor": 0
      },
      "text/plain": [
       "ChatMessage(children=(HTML(value='<div style=\"width:36px;height:36px;background:#84c4ff;border-radius:12px;dis…"
      ]
     },
     "execution_count": 2,
     "metadata": {},
     "output_type": "execute_result"
    }
   ],
   "source": [
    "ChatMessage(role=\"user\", emoji=\"👤\")"
   ]
  },
  {
   "cell_type": "code",
   "execution_count": 3,
   "id": "367d6a92-cd88-43c9-a8ed-f10ce70e7f50",
   "metadata": {},
   "outputs": [
    {
     "data": {
      "application/vnd.jupyter.widget-view+json": {
       "model_id": "2268053d7efa41d4b0c37673c4cd90be",
       "version_major": 2,
       "version_minor": 0
      },
      "text/plain": [
       "VBox(children=(HTML(value='\\n            <div style=\"\\n              color:#b5b5b5;\\n              text-align:…"
      ]
     },
     "metadata": {},
     "output_type": "display_data"
    }
   ],
   "source": [
    "chat = ChatDisplay()"
   ]
  },
  {
   "cell_type": "code",
   "execution_count": 4,
   "id": "dc6f7bf2-b7e5-405e-ab4a-7da74098b43a",
   "metadata": {},
   "outputs": [],
   "source": [
    "# User message (right)\n",
    "msg1 = ChatMessage(role=\"user\", emoji=\"👤\")\n",
    "msg1.set_message(text=\"Hello, world!\")\n",
    "chat.add(msg1)\n",
    "# AI message (left)\n",
    "msg2 = ChatMessage(role=\"ai\", emoji=\"🤖\")\n",
    "# msg2.set_message(text=\"<b>Hi there!</b> How can I help?\")\n",
    "chat.add(msg2)\n"
   ]
  },
  {
   "cell_type": "code",
   "execution_count": 5,
   "id": "2745db99-3899-4591-a160-16bf52e95d61",
   "metadata": {},
   "outputs": [],
   "source": [
    "with msg2:\n",
    "    print('test')"
   ]
  },
  {
   "cell_type": "code",
   "execution_count": 6,
   "id": "74645091-d12c-4fbf-9ed9-cf42031a4ec5",
   "metadata": {},
   "outputs": [],
   "source": [
    "from IPython.display import display, Markdown as md\n",
    "\n",
    "\n",
    "def Markdown(text=\"hello\"):\n",
    "    display(md(text))"
   ]
  },
  {
   "cell_type": "code",
   "execution_count": 7,
   "id": "b3affb69-99be-420f-8a36-b6202f824b54",
   "metadata": {},
   "outputs": [],
   "source": [
    "with msg2:\n",
    "    Markdown('some tests sdafgasdf asd test')"
   ]
  },
  {
   "cell_type": "code",
   "execution_count": 7,
   "id": "02821255-6cac-47ca-a9bb-f642f6948a8e",
   "metadata": {},
   "outputs": [],
   "source": []
  },
  {
   "cell_type": "code",
   "execution_count": 11,
   "id": "d78c5a29-1c02-4497-821d-104a76b379f4",
   "metadata": {},
   "outputs": [],
   "source": []
  },
  {
   "cell_type": "code",
   "execution_count": 13,
   "id": "e0c4017b-3e6e-43b1-8e50-dca5a941259a",
   "metadata": {},
   "outputs": [
    {
     "data": {
      "application/vnd.jupyter.widget-view+json": {
       "model_id": "1d902ecee3dd4d79bcec61906c01a2d2",
       "version_major": 2,
       "version_minor": 0
      },
      "text/plain": [
       "VBox(children=(HTML(value='\\n            <div style=\"\\n              color:#b5b5b5;\\n              text-align:…"
      ]
     },
     "metadata": {},
     "output_type": "display_data"
    },
    {
     "data": {
      "application/vnd.jupyter.widget-view+json": {
       "model_id": "f31eb9b89328452592bde4ee2eaf069b",
       "version_major": 2,
       "version_minor": 0
      },
      "text/plain": [
       "ChatInput(children=(Text(value='', layout=Layout(flex='1 1 auto', width='auto'), placeholder='Type a message..…"
      ]
     },
     "metadata": {},
     "output_type": "display_data"
    }
   ],
   "source": [
    "\n",
    "\n",
    "# Example usage\n",
    "chat_display = ChatDisplay()\n",
    "chat_input = ChatInput()\n",
    "\n",
    "\n",
    "\n",
    "display(chat_input)\n"
   ]
  },
  {
   "cell_type": "code",
   "execution_count": null,
   "id": "7a66ec9c-3e6f-4849-84ee-b0536505987d",
   "metadata": {},
   "outputs": [],
   "source": []
  }
 ],
 "metadata": {
  "kernelspec": {
   "display_name": "Python 3 (ipykernel)",
   "language": "python",
   "name": "python3"
  },
  "language_info": {
   "codemirror_mode": {
    "name": "ipython",
    "version": 3
   },
   "file_extension": ".py",
   "mimetype": "text/x-python",
   "name": "python",
   "nbconvert_exporter": "python",
   "pygments_lexer": "ipython3",
   "version": "3.11.5"
  },
  "widgets": {
   "application/vnd.jupyter.widget-state+json": {
    "state": {
     "033c75fcc8624c459e096e040c878d1c": {
      "model_module": "@jupyter-widgets/controls",
      "model_module_version": "2.0.0",
      "model_name": "HTMLModel",
      "state": {
       "layout": "IPY_MODEL_fd4a4b895965449c9b107d415782817b",
       "style": "IPY_MODEL_f68b336e86ca4565b30878fae1bdfdcd",
       "value": "<div style=\"width:36px;height:36px;background:#84c4ff;border-radius:12px;display:flex;align-items:center;justify-content:center;box-shadow:0 1px 4px rgba(60,60,60,0.10);\"><span style=\"font-size:18px;line-height:1;\">👤</span></div>"
      }
     },
     "045aa6e54a3a4b70bda09a17c57f7f1d": {
      "model_module": "@jupyter-widgets/controls",
      "model_module_version": "2.0.0",
      "model_name": "HTMLStyleModel",
      "state": {
       "description_width": "",
       "font_size": null,
       "text_color": null
      }
     },
     "05f7bd6539554498ac7fbb9d7e47ba91": {
      "model_module": "@jupyter-widgets/base",
      "model_module_version": "2.0.0",
      "model_name": "LayoutModel",
      "state": {
       "align_items": "flex-start"
      }
     },
     "07aa5ddb50894ab78ad061f5d2c3e697": {
      "model_module": "@jupyter-widgets/controls",
      "model_module_version": "2.0.0",
      "model_name": "TextStyleModel",
      "state": {
       "description_width": "",
       "font_size": null,
       "text_color": null
      }
     },
     "09d20598d74144688e83d0b2f12cb49a": {
      "model_module": "@jupyter-widgets/base",
      "model_module_version": "2.0.0",
      "model_name": "LayoutModel",
      "state": {
       "align_items": "flex-start"
      }
     },
     "0ac94efe0ee749f2abe3588c5bdd72d5": {
      "model_module": "@jupyter-widgets/controls",
      "model_module_version": "2.0.0",
      "model_name": "HTMLModel",
      "state": {
       "layout": "IPY_MODEL_9b6e203ad59b4ab7afa750b9e925c4b5",
       "style": "IPY_MODEL_f57efddd62264b29a63177c104b1e3e6",
       "value": "<div style=\"width:36px;height:36px;background:#84c4ff;border-radius:12px;display:flex;align-items:center;justify-content:center;box-shadow:0 1px 4px rgba(60,60,60,0.10);\"><span style=\"font-size:18px;line-height:1;\">👤</span></div>"
      }
     },
     "0b57954cc50e4b24a8f801f658863d9e": {
      "model_module": "@jupyter-widgets/base",
      "model_module_version": "2.0.0",
      "model_name": "LayoutModel",
      "state": {
       "padding": "4px 4px",
       "width": "100%"
      }
     },
     "0cc34d9716ee4da0b2614ecd19be1a62": {
      "model_module": "@jupyter-widgets/base",
      "model_module_version": "2.0.0",
      "model_name": "LayoutModel",
      "state": {}
     },
     "0d03257085794b2c9fe29686c031349d": {
      "model_module": "@jupyter-widgets/output",
      "model_module_version": "1.0.0",
      "model_name": "OutputModel",
      "state": {
       "layout": "IPY_MODEL_5582c1a2daa044d091625fd1da4163f9",
       "outputs": [
        {
         "name": "stdout",
         "output_type": "stream",
         "text": "test\n"
        },
        {
         "data": {
          "text/markdown": "some tests sdafgasdf asd test",
          "text/plain": "<IPython.core.display.Markdown object>"
         },
         "metadata": {},
         "output_type": "display_data"
        },
        {
         "name": "stdout",
         "output_type": "stream",
         "text": "\n"
        }
       ]
      }
     },
     "0fd75dbc173f450e89fc78f9d689e8b4": {
      "model_module": "@jupyter-widgets/base",
      "model_module_version": "2.0.0",
      "model_name": "LayoutModel",
      "state": {
       "align_self": "flex-start",
       "margin": "0px 8px 8px 0px"
      }
     },
     "1209297d29cd458c9d8346ff5585ddf4": {
      "model_module": "@jupyter-widgets/base",
      "model_module_version": "2.0.0",
      "model_name": "LayoutModel",
      "state": {
       "align_self": "flex-start",
       "margin": "8px 0px 0px 0px"
      }
     },
     "168199829a734a48a80e644ff1e4e054": {
      "model_module": "@jupyter-widgets/base",
      "model_module_version": "2.0.0",
      "model_name": "LayoutModel",
      "state": {
       "align_self": "flex-start",
       "margin": "0px 8px 8px 0px"
      }
     },
     "18f8598a8c43436a9c520f8d85456a9d": {
      "model_module": "@jupyter-widgets/base",
      "model_module_version": "2.0.0",
      "model_name": "LayoutModel",
      "state": {
       "align_self": "flex-start",
       "margin": "8px 0px 0px 0px"
      }
     },
     "1d902ecee3dd4d79bcec61906c01a2d2": {
      "model_module": "@jupyter-widgets/controls",
      "model_module_version": "2.0.0",
      "model_name": "VBoxModel",
      "state": {
       "children": [
        "IPY_MODEL_80f0ac62289546d0bc02e2fbd7b88a70",
        "IPY_MODEL_76339a50fb784504a471ffbee5a58508",
        "IPY_MODEL_22e6e848ca7f4b979f8a1cad71a77d47",
        "IPY_MODEL_82f8ba564bd6482f951ba31e37249a35",
        "IPY_MODEL_9edc59b10bb0465f9f1115a5fdf0da41",
        "IPY_MODEL_f10c0fc82c3244b396eaf263555d500b",
        "IPY_MODEL_5a1ae86d4443491eb3af20aebebd6151",
        "IPY_MODEL_77e6166d8bd34e1e8bc6cee250e5be93"
       ],
       "layout": "IPY_MODEL_4e520ab7443d41ff9bb600633eee5ad0"
      }
     },
     "1dee70d442de4737b6e696863ac5e32c": {
      "model_module": "@jupyter-widgets/base",
      "model_module_version": "2.0.0",
      "model_name": "LayoutModel",
      "state": {
       "align_items": "flex-start"
      }
     },
     "208c4828bbc0461cb7d77817eacfbb2b": {
      "model_module": "@jupyter-widgets/base",
      "model_module_version": "2.0.0",
      "model_name": "LayoutModel",
      "state": {
       "align_items": "flex-start"
      }
     },
     "2268053d7efa41d4b0c37673c4cd90be": {
      "model_module": "@jupyter-widgets/controls",
      "model_module_version": "2.0.0",
      "model_name": "VBoxModel",
      "state": {
       "children": [
        "IPY_MODEL_d8fac8754cf942759d7b0fca17894af3",
        "IPY_MODEL_f798cb1f6644490dbad1886fbadc0ba5"
       ],
       "layout": "IPY_MODEL_996eaf7e061a42b08088500e2f323037"
      }
     },
     "22e6e848ca7f4b979f8a1cad71a77d47": {
      "model_module": "@jupyter-widgets/controls",
      "model_module_version": "2.0.0",
      "model_name": "HBoxModel",
      "state": {
       "children": [
        "IPY_MODEL_e48c475fd6d542e2bebb09a1bbfdf54d",
        "IPY_MODEL_6993bc4563ef4b278302e68de759cce5"
       ],
       "layout": "IPY_MODEL_35ae2591b61f4fdd9a16c691af124ee1"
      }
     },
     "23c6d2cf7199444399ffccbb153ec028": {
      "model_module": "@jupyter-widgets/controls",
      "model_module_version": "2.0.0",
      "model_name": "HTMLStyleModel",
      "state": {
       "description_width": "",
       "font_size": null,
       "text_color": null
      }
     },
     "255e84980d4443c5be0bc314b812cbdb": {
      "model_module": "@jupyter-widgets/base",
      "model_module_version": "2.0.0",
      "model_name": "LayoutModel",
      "state": {
       "align_self": "flex-start",
       "margin": "0px 8px 8px 0px"
      }
     },
     "25f00a1a28c24e3e8dc132c8753d7986": {
      "model_module": "@jupyter-widgets/base",
      "model_module_version": "2.0.0",
      "model_name": "LayoutModel",
      "state": {
       "align_self": "flex-start",
       "margin": "8px 0px 0px 0px"
      }
     },
     "28f141959c814bd8a193530dbb6d4977": {
      "model_module": "@jupyter-widgets/controls",
      "model_module_version": "2.0.0",
      "model_name": "TextModel",
      "state": {
       "layout": "IPY_MODEL_a36af5953a0147a0898c34b11ab7aea7",
       "placeholder": "Type a message...",
       "style": "IPY_MODEL_f5c64589e0f549839341065de705924b"
      }
     },
     "2b27d2ec72dc4ed081c05318347d8417": {
      "model_module": "@jupyter-widgets/controls",
      "model_module_version": "2.0.0",
      "model_name": "HBoxModel",
      "state": {
       "children": [
        "IPY_MODEL_925272b1108c4a7984a62083064059ad",
        "IPY_MODEL_ebcbab426d9c411ebd4433877fda5b90"
       ],
       "layout": "IPY_MODEL_05f7bd6539554498ac7fbb9d7e47ba91"
      }
     },
     "2ea9ec158c254ccb8135909d105711b8": {
      "model_module": "@jupyter-widgets/base",
      "model_module_version": "2.0.0",
      "model_name": "LayoutModel",
      "state": {
       "align_self": "flex-start",
       "margin": "0px 8px 8px 0px"
      }
     },
     "31111822f4ef4262957ffd46c7148162": {
      "model_module": "@jupyter-widgets/base",
      "model_module_version": "2.0.0",
      "model_name": "LayoutModel",
      "state": {
       "align_items": "flex-start"
      }
     },
     "33b338a8573e4ebc803e8d6447f11290": {
      "model_module": "@jupyter-widgets/base",
      "model_module_version": "2.0.0",
      "model_name": "LayoutModel",
      "state": {
       "align_self": "flex-start",
       "margin": "8px 0px 0px 0px"
      }
     },
     "35ae2591b61f4fdd9a16c691af124ee1": {
      "model_module": "@jupyter-widgets/base",
      "model_module_version": "2.0.0",
      "model_name": "LayoutModel",
      "state": {
       "align_items": "flex-start"
      }
     },
     "37d22c67cb2f43ee9874d1df1935cbd5": {
      "model_module": "@jupyter-widgets/output",
      "model_module_version": "1.0.0",
      "model_name": "OutputModel",
      "state": {
       "layout": "IPY_MODEL_aed605b7d3ff442c8ba1d9dc7411e5da",
       "outputs": [
        {
         "name": "stdout",
         "output_type": "stream",
         "text": "Echo: sdfsdf\n"
        }
       ]
      }
     },
     "3d80d64a5e114a36adc8982828dcc614": {
      "model_module": "@jupyter-widgets/base",
      "model_module_version": "2.0.0",
      "model_name": "LayoutModel",
      "state": {
       "align_items": "flex-start"
      }
     },
     "438110fc09114651b9b7beb56417ea62": {
      "model_module": "@jupyter-widgets/controls",
      "model_module_version": "2.0.0",
      "model_name": "HTMLModel",
      "state": {
       "layout": "IPY_MODEL_168199829a734a48a80e644ff1e4e054",
       "style": "IPY_MODEL_d1c2964f9ef34099b9486d695e82f0f1",
       "value": "<div style=\"width:36px;height:36px;background:#eeeeee;border-radius:12px;display:flex;align-items:center;justify-content:center;box-shadow:0 1px 4px rgba(60,60,60,0.10);\"><span style=\"font-size:18px;line-height:1;\">🤖</span></div>"
      }
     },
     "4645ac0d1f1e454ca0fb60513f3fb825": {
      "model_module": "@jupyter-widgets/controls",
      "model_module_version": "2.0.0",
      "model_name": "HTMLStyleModel",
      "state": {
       "description_width": "",
       "font_size": null,
       "text_color": null
      }
     },
     "475c05190ae64bd4ab47d63cda6fc54f": {
      "model_module": "@jupyter-widgets/base",
      "model_module_version": "2.0.0",
      "model_name": "LayoutModel",
      "state": {}
     },
     "497f1e9d31cd4bbcb22a30aaf30ff998": {
      "model_module": "@jupyter-widgets/output",
      "model_module_version": "1.0.0",
      "model_name": "OutputModel",
      "state": {
       "layout": "IPY_MODEL_33b338a8573e4ebc803e8d6447f11290",
       "outputs": [
        {
         "name": "stdout",
         "output_type": "stream",
         "text": "sdfsdf\n"
        }
       ]
      }
     },
     "4a74b374e1494dfba3b3b9bbd9af16f0": {
      "model_module": "@jupyter-widgets/base",
      "model_module_version": "2.0.0",
      "model_name": "LayoutModel",
      "state": {}
     },
     "4e520ab7443d41ff9bb600633eee5ad0": {
      "model_module": "@jupyter-widgets/base",
      "model_module_version": "2.0.0",
      "model_name": "LayoutModel",
      "state": {
       "padding": "4px 4px",
       "width": "100%"
      }
     },
     "4f38fa8cf9e044b288dea32b024730f0": {
      "model_module": "@jupyter-widgets/controls",
      "model_module_version": "2.0.0",
      "model_name": "ButtonModel",
      "state": {
       "description": "➤",
       "layout": "IPY_MODEL_de2aa683c6e64dd98f4170ad2a25e781",
       "style": "IPY_MODEL_6a4dcfd0adb8430f812c0c3b4f21907b",
       "tooltip": null
      }
     },
     "53ee5c4f1ef2401aaca778ee095dca43": {
      "model_module": "@jupyter-widgets/controls",
      "model_module_version": "2.0.0",
      "model_name": "HBoxModel",
      "state": {
       "children": [
        "IPY_MODEL_ac20aeb54ef8434a933ab6196fde09ea",
        "IPY_MODEL_9f8c3384afd1480383f4dcc57dfbdbb0"
       ],
       "layout": "IPY_MODEL_4a74b374e1494dfba3b3b9bbd9af16f0"
      }
     },
     "5582c1a2daa044d091625fd1da4163f9": {
      "model_module": "@jupyter-widgets/base",
      "model_module_version": "2.0.0",
      "model_name": "LayoutModel",
      "state": {
       "align_self": "flex-start",
       "margin": "8px 0px 0px 0px"
      }
     },
     "58802fc4243e452bab48bb3ba16cb560": {
      "model_module": "anywidget",
      "model_module_version": "~0.9.*",
      "model_name": "AnyModel",
      "state": {
       "_anywidget_id": "widgets.text.TextInputWidget",
       "_css": "\n    .mljar-textinput-container {\n        display: flex;\n        flex-direction: column;\n        align-items: flex-start;\n        width: 100%;\n        min-width: 120px;\n        font-family: Arial, sans-serif;\n        font-size: 12px;\n        font-weight: normal;\n        color: #222222;\n\n    }\n\n    .mljar-textinput-top-label {\n        margin-bottom: 6px;\n        text-align: left;\n        width: 100%;\n        font-weight: bold;\n    }\n\n    .mljar-textinput-input {\n        width: 100%;\n        border: 1px solid #cccccc;\n        border-radius: 16px;\n        padding: 6px 10px;\n        min-height: 1.6em;\n        box-sizing: border-box;\n        background: #3d6fdb;\n        color: #222222;\n    }\n\n    .mljar-textinput-input:focus {\n        outline: none;\n        border-color: #007bff;\n    }\n    ",
       "_esm": "\n    function render({ model, el }) {\n      // Container\n      let container = document.createElement(\"div\");\n      container.classList.add(\"mljar-textinput-container\");\n\n      // Label\n      let topLabel = document.createElement(\"div\");\n      topLabel.classList.add(\"mljar-textinput-top-label\");\n      topLabel.innerHTML = model.get(\"label\") || \"Enter text\";\n\n      // Always Input\n      let input = document.createElement(\"input\");\n      input.type = \"text\";\n      input.value = model.get(\"value\");\n      input.classList.add(\"mljar-textinput-input\");\n\n      let debounceTimer = null;\n      input.addEventListener(\"input\", () => {\n        model.set(\"value\", input.value);\n        if (debounceTimer) clearTimeout(debounceTimer);\n        debounceTimer = setTimeout(() => {\n          model.save_changes();\n        }, 100);\n      });\n\n      model.on(\"change:value\", () => {\n        input.value = model.get(\"value\");\n      });\n\n      // Build\n      container.appendChild(topLabel);\n      container.appendChild(input);\n      el.appendChild(container);\n\n      const css = model.get(\"custom_css\");\n      if (css && css.trim().length > 0) {\n        let styleTag = document.createElement(\"style\");\n        styleTag.textContent = css;\n        el.appendChild(styleTag);\n      }\n    }\n    export default { render };\n    ",
       "_model_module": "anywidget",
       "_model_module_version": "~0.9.*",
       "_model_name": "AnyModel",
       "_view_module": "anywidget",
       "_view_module_version": "~0.9.*",
       "_view_name": "AnyView",
       "custom_css": "",
       "label": "Enter text",
       "layout": "IPY_MODEL_9d14f8df8ee94af898eda3f3d625212f",
       "position": "sidebar",
       "value": ""
      }
     },
     "589ffa36595f408e9616c8be6082858d": {
      "model_module": "@jupyter-widgets/base",
      "model_module_version": "2.0.0",
      "model_name": "LayoutModel",
      "state": {
       "align_self": "flex-start",
       "margin": "0px 8px 8px 0px"
      }
     },
     "5a1ae86d4443491eb3af20aebebd6151": {
      "model_module": "@jupyter-widgets/controls",
      "model_module_version": "2.0.0",
      "model_name": "HBoxModel",
      "state": {
       "children": [
        "IPY_MODEL_db9fc53e0af04baaad073b3a4112844f",
        "IPY_MODEL_9271d273967e4c50b98ddc75c222acdc"
       ],
       "layout": "IPY_MODEL_fe07408d0aa947908134eb72ee5b8431"
      }
     },
     "5ce4c02e12c54a09adb4ea4b92d0d30e": {
      "model_module": "@jupyter-widgets/controls",
      "model_module_version": "2.0.0",
      "model_name": "HTMLModel",
      "state": {
       "layout": "IPY_MODEL_c351225a841b45eba8819d832af09e0c",
       "style": "IPY_MODEL_045aa6e54a3a4b70bda09a17c57f7f1d",
       "value": "\n            <div style=\"\n              color:#b5b5b5;\n              text-align:center;\n              padding:40px 0;\n              font-size:1.1em;\n              background:#fff;\n            \">\n              💬 No messages yet. Start the conversation!\n            </div>\n            "
      }
     },
     "62be3c478e894a6c8cb00f16d119a34f": {
      "model_module": "@jupyter-widgets/controls",
      "model_module_version": "2.0.0",
      "model_name": "HTMLStyleModel",
      "state": {
       "description_width": "",
       "font_size": null,
       "text_color": null
      }
     },
     "631e7605f9514a9da262a91030c124cc": {
      "model_module": "@jupyter-widgets/controls",
      "model_module_version": "2.0.0",
      "model_name": "HTMLModel",
      "state": {
       "layout": "IPY_MODEL_2ea9ec158c254ccb8135909d105711b8",
       "style": "IPY_MODEL_d9f97d19d8ce4bfdb2b682b025371818",
       "value": "<div style=\"width:36px;height:36px;background:#eeeeee;border-radius:12px;display:flex;align-items:center;justify-content:center;box-shadow:0 1px 4px rgba(60,60,60,0.10);\"><span style=\"font-size:18px;line-height:1;\">🤖</span></div>"
      }
     },
     "666fae4634184fbfb36fad29dc7f168c": {
      "model_module": "@jupyter-widgets/output",
      "model_module_version": "1.0.0",
      "model_name": "OutputModel",
      "state": {
       "layout": "IPY_MODEL_ac7d373a09754ee9bd5bdf1d9b9030bc",
       "outputs": [
        {
         "name": "stdout",
         "output_type": "stream",
         "text": "Hello, world!\n"
        }
       ]
      }
     },
     "66806c30b4d04e43a99278a73cde5c4f": {
      "model_module": "@jupyter-widgets/base",
      "model_module_version": "2.0.0",
      "model_name": "LayoutModel",
      "state": {
       "align_self": "flex-start",
       "margin": "8px 0px 0px 0px"
      }
     },
     "6993bc4563ef4b278302e68de759cce5": {
      "model_module": "@jupyter-widgets/output",
      "model_module_version": "1.0.0",
      "model_name": "OutputModel",
      "state": {
       "layout": "IPY_MODEL_25f00a1a28c24e3e8dc132c8753d7986",
       "outputs": [
        {
         "name": "stdout",
         "output_type": "stream",
         "text": "asdfasdf\n"
        }
       ]
      }
     },
     "6a4dcfd0adb8430f812c0c3b4f21907b": {
      "model_module": "@jupyter-widgets/controls",
      "model_module_version": "2.0.0",
      "model_name": "ButtonStyleModel",
      "state": {
       "button_color": "#0084ff",
       "font_family": null,
       "font_size": "14px",
       "font_style": null,
       "font_variant": null,
       "font_weight": "bold",
       "text_color": null,
       "text_decoration": null
      }
     },
     "71c9543eb3314aaaad4c68306d33eb9d": {
      "model_module": "@jupyter-widgets/base",
      "model_module_version": "2.0.0",
      "model_name": "LayoutModel",
      "state": {
       "align_self": "flex-start",
       "margin": "0px 8px 8px 0px"
      }
     },
     "7275ebb3f6914d8ab13815eb9138ff95": {
      "model_module": "@jupyter-widgets/controls",
      "model_module_version": "2.0.0",
      "model_name": "VBoxModel",
      "state": {
       "children": [
        "IPY_MODEL_7b1441a13b06498fa5620f52e151ff7c"
       ],
       "layout": "IPY_MODEL_0b57954cc50e4b24a8f801f658863d9e"
      }
     },
     "76339a50fb784504a471ffbee5a58508": {
      "model_module": "@jupyter-widgets/controls",
      "model_module_version": "2.0.0",
      "model_name": "HBoxModel",
      "state": {
       "children": [
        "IPY_MODEL_ffc6622fa5534960a87400c98f080899",
        "IPY_MODEL_37d22c67cb2f43ee9874d1df1935cbd5"
       ],
       "layout": "IPY_MODEL_1dee70d442de4737b6e696863ac5e32c"
      }
     },
     "7703f61db8824fd9bdd3d8db3dfcfe81": {
      "model_module": "@jupyter-widgets/base",
      "model_module_version": "2.0.0",
      "model_name": "LayoutModel",
      "state": {
       "align_self": "center",
       "height": "32px",
       "margin": "0 0 0 6px",
       "width": "40px"
      }
     },
     "77e6166d8bd34e1e8bc6cee250e5be93": {
      "model_module": "@jupyter-widgets/controls",
      "model_module_version": "2.0.0",
      "model_name": "HBoxModel",
      "state": {
       "children": [
        "IPY_MODEL_631e7605f9514a9da262a91030c124cc",
        "IPY_MODEL_e0e75a0faee641ecb50a285dc3269299"
       ],
       "layout": "IPY_MODEL_3d80d64a5e114a36adc8982828dcc614"
      }
     },
     "7939d723e581431f9c9e7c1bd9be6dfe": {
      "model_module": "@jupyter-widgets/controls",
      "model_module_version": "2.0.0",
      "model_name": "ButtonStyleModel",
      "state": {
       "button_color": "#0084ff",
       "font_family": null,
       "font_size": "14px",
       "font_style": null,
       "font_variant": null,
       "font_weight": "bold",
       "text_color": null,
       "text_decoration": null
      }
     },
     "7b1441a13b06498fa5620f52e151ff7c": {
      "model_module": "@jupyter-widgets/controls",
      "model_module_version": "2.0.0",
      "model_name": "HTMLModel",
      "state": {
       "layout": "IPY_MODEL_9308cf88209645d695999f8226911681",
       "style": "IPY_MODEL_62be3c478e894a6c8cb00f16d119a34f",
       "value": "\n            <div style=\"\n              color:#b5b5b5;\n              text-align:center;\n              padding:40px 0;\n              font-size:1.1em;\n              background:#fff;\n            \">\n              💬 No messages yet. Start the conversation!\n            </div>\n            "
      }
     },
     "80f0ac62289546d0bc02e2fbd7b88a70": {
      "model_module": "@jupyter-widgets/controls",
      "model_module_version": "2.0.0",
      "model_name": "HBoxModel",
      "state": {
       "children": [
        "IPY_MODEL_f053d633d7dc4cf09d24a0f71fb23c0d",
        "IPY_MODEL_497f1e9d31cd4bbcb22a30aaf30ff998"
       ],
       "layout": "IPY_MODEL_31111822f4ef4262957ffd46c7148162"
      }
     },
     "82f8ba564bd6482f951ba31e37249a35": {
      "model_module": "@jupyter-widgets/controls",
      "model_module_version": "2.0.0",
      "model_name": "HBoxModel",
      "state": {
       "children": [
        "IPY_MODEL_fcac1b8cbf584f3f914c7fd933d35fa8",
        "IPY_MODEL_ac56e11830f4432c9198dfb5c0496e15"
       ],
       "layout": "IPY_MODEL_db3fc4e9aa1048098cff26170bf72005"
      }
     },
     "84a384f5e4254a338f366b112ff47c15": {
      "model_module": "@jupyter-widgets/controls",
      "model_module_version": "2.0.0",
      "model_name": "HTMLModel",
      "state": {
       "layout": "IPY_MODEL_255e84980d4443c5be0bc314b812cbdb",
       "style": "IPY_MODEL_e7fd402d16f440b18ae3789dc12e6552",
       "value": "<div style=\"width:36px;height:36px;background:#eeeeee;border-radius:12px;display:flex;align-items:center;justify-content:center;box-shadow:0 1px 4px rgba(60,60,60,0.10);\"><span style=\"font-size:18px;line-height:1;\">🤖</span></div>"
      }
     },
     "85fe737381594640813c258f01ddc9d6": {
      "model_module": "@jupyter-widgets/controls",
      "model_module_version": "2.0.0",
      "model_name": "HTMLStyleModel",
      "state": {
       "description_width": "",
       "font_size": null,
       "text_color": null
      }
     },
     "925272b1108c4a7984a62083064059ad": {
      "model_module": "@jupyter-widgets/controls",
      "model_module_version": "2.0.0",
      "model_name": "HTMLModel",
      "state": {
       "layout": "IPY_MODEL_d3d722d100894b478622aa30cc8af1be",
       "style": "IPY_MODEL_4645ac0d1f1e454ca0fb60513f3fb825",
       "value": "<div style=\"width:36px;height:36px;background:#84c4ff;border-radius:12px;display:flex;align-items:center;justify-content:center;box-shadow:0 1px 4px rgba(60,60,60,0.10);\"><span style=\"font-size:18px;line-height:1;\">👤</span></div>"
      }
     },
     "9271d273967e4c50b98ddc75c222acdc": {
      "model_module": "@jupyter-widgets/output",
      "model_module_version": "1.0.0",
      "model_name": "OutputModel",
      "state": {
       "layout": "IPY_MODEL_1209297d29cd458c9d8346ff5585ddf4",
       "outputs": [
        {
         "name": "stdout",
         "output_type": "stream",
         "text": "sfdsdf\n"
        }
       ]
      }
     },
     "9308cf88209645d695999f8226911681": {
      "model_module": "@jupyter-widgets/base",
      "model_module_version": "2.0.0",
      "model_name": "LayoutModel",
      "state": {}
     },
     "96746711a9e542b0922e1f6475fa4911": {
      "model_module": "@jupyter-widgets/controls",
      "model_module_version": "2.0.0",
      "model_name": "HTMLStyleModel",
      "state": {
       "description_width": "",
       "font_size": null,
       "text_color": null
      }
     },
     "9716f709d36940a795e260b60d09fb12": {
      "model_module": "@jupyter-widgets/base",
      "model_module_version": "2.0.0",
      "model_name": "LayoutModel",
      "state": {
       "align_self": "flex-start",
       "margin": "8px 0px 0px 0px"
      }
     },
     "996eaf7e061a42b08088500e2f323037": {
      "model_module": "@jupyter-widgets/base",
      "model_module_version": "2.0.0",
      "model_name": "LayoutModel",
      "state": {
       "padding": "4px 4px",
       "width": "100%"
      }
     },
     "9b6e203ad59b4ab7afa750b9e925c4b5": {
      "model_module": "@jupyter-widgets/base",
      "model_module_version": "2.0.0",
      "model_name": "LayoutModel",
      "state": {
       "align_self": "flex-start",
       "margin": "0px 8px 8px 0px"
      }
     },
     "9d0a2a8408544ab1a2770245c2f7d1a8": {
      "model_module": "@jupyter-widgets/base",
      "model_module_version": "2.0.0",
      "model_name": "LayoutModel",
      "state": {
       "align_self": "flex-start",
       "margin": "8px 0px 0px 0px"
      }
     },
     "9d14f8df8ee94af898eda3f3d625212f": {
      "model_module": "@jupyter-widgets/base",
      "model_module_version": "2.0.0",
      "model_name": "LayoutModel",
      "state": {}
     },
     "9edc59b10bb0465f9f1115a5fdf0da41": {
      "model_module": "@jupyter-widgets/controls",
      "model_module_version": "2.0.0",
      "model_name": "HBoxModel",
      "state": {
       "children": [
        "IPY_MODEL_0ac94efe0ee749f2abe3588c5bdd72d5",
        "IPY_MODEL_ddcfcecc6a1c4d6380d8a7fa46e53196"
       ],
       "layout": "IPY_MODEL_d55d6c1303ad4f82ac5c30442fd70ea9"
      }
     },
     "9f8c3384afd1480383f4dcc57dfbdbb0": {
      "model_module": "@jupyter-widgets/controls",
      "model_module_version": "2.0.0",
      "model_name": "ButtonModel",
      "state": {
       "description": "➤",
       "layout": "IPY_MODEL_7703f61db8824fd9bdd3d8db3dfcfe81",
       "style": "IPY_MODEL_7939d723e581431f9c9e7c1bd9be6dfe",
       "tooltip": null
      }
     },
     "a0dc0233d32541e5bf74ca02ad04f33e": {
      "model_module": "@jupyter-widgets/base",
      "model_module_version": "2.0.0",
      "model_name": "LayoutModel",
      "state": {
       "align_items": "flex-start"
      }
     },
     "a36af5953a0147a0898c34b11ab7aea7": {
      "model_module": "@jupyter-widgets/base",
      "model_module_version": "2.0.0",
      "model_name": "LayoutModel",
      "state": {
       "flex": "1 1 auto",
       "width": "auto"
      }
     },
     "ac20aeb54ef8434a933ab6196fde09ea": {
      "model_module": "@jupyter-widgets/controls",
      "model_module_version": "2.0.0",
      "model_name": "TextModel",
      "state": {
       "layout": "IPY_MODEL_d18902404ac74a3d82dfb45b6fad8424",
       "placeholder": "Type a message...",
       "style": "IPY_MODEL_07aa5ddb50894ab78ad061f5d2c3e697"
      }
     },
     "ac56e11830f4432c9198dfb5c0496e15": {
      "model_module": "@jupyter-widgets/output",
      "model_module_version": "1.0.0",
      "model_name": "OutputModel",
      "state": {
       "layout": "IPY_MODEL_18f8598a8c43436a9c520f8d85456a9d",
       "outputs": [
        {
         "name": "stdout",
         "output_type": "stream",
         "text": "Echo: asdfasdf\n"
        }
       ]
      }
     },
     "ac7d373a09754ee9bd5bdf1d9b9030bc": {
      "model_module": "@jupyter-widgets/base",
      "model_module_version": "2.0.0",
      "model_name": "LayoutModel",
      "state": {
       "align_self": "flex-start",
       "margin": "8px 0px 0px 0px"
      }
     },
     "acfa767ee79f45d589129274c90ca041": {
      "model_module": "@jupyter-widgets/output",
      "model_module_version": "1.0.0",
      "model_name": "OutputModel",
      "state": {
       "layout": "IPY_MODEL_ddcebae4d1eb4a86aae755976b811330",
       "outputs": [
        {
         "name": "stdout",
         "output_type": "stream",
         "text": "Echo: asdfasdf\n"
        }
       ]
      }
     },
     "aed605b7d3ff442c8ba1d9dc7411e5da": {
      "model_module": "@jupyter-widgets/base",
      "model_module_version": "2.0.0",
      "model_name": "LayoutModel",
      "state": {
       "align_self": "flex-start",
       "margin": "8px 0px 0px 0px"
      }
     },
     "b0327439fcd7455a921cc7ff4dc29cec": {
      "model_module": "@jupyter-widgets/controls",
      "model_module_version": "2.0.0",
      "model_name": "HTMLStyleModel",
      "state": {
       "description_width": "",
       "font_size": null,
       "text_color": null
      }
     },
     "c2ab2dc214974faabbf7402e977269d8": {
      "model_module": "@jupyter-widgets/controls",
      "model_module_version": "2.0.0",
      "model_name": "HTMLStyleModel",
      "state": {
       "description_width": "",
       "font_size": null,
       "text_color": null
      }
     },
     "c351225a841b45eba8819d832af09e0c": {
      "model_module": "@jupyter-widgets/base",
      "model_module_version": "2.0.0",
      "model_name": "LayoutModel",
      "state": {}
     },
     "cbfc0c82672542be9d845bd651372338": {
      "model_module": "@jupyter-widgets/base",
      "model_module_version": "2.0.0",
      "model_name": "LayoutModel",
      "state": {
       "align_self": "flex-start",
       "margin": "0px 8px 8px 0px"
      }
     },
     "d18902404ac74a3d82dfb45b6fad8424": {
      "model_module": "@jupyter-widgets/base",
      "model_module_version": "2.0.0",
      "model_name": "LayoutModel",
      "state": {
       "flex": "1 1 auto",
       "width": "auto"
      }
     },
     "d1c2964f9ef34099b9486d695e82f0f1": {
      "model_module": "@jupyter-widgets/controls",
      "model_module_version": "2.0.0",
      "model_name": "HTMLStyleModel",
      "state": {
       "description_width": "",
       "font_size": null,
       "text_color": null
      }
     },
     "d3d722d100894b478622aa30cc8af1be": {
      "model_module": "@jupyter-widgets/base",
      "model_module_version": "2.0.0",
      "model_name": "LayoutModel",
      "state": {
       "align_self": "flex-start",
       "margin": "0px 8px 8px 0px"
      }
     },
     "d3dd0731f7634386befb7b92ddb80a20": {
      "model_module": "@jupyter-widgets/controls",
      "model_module_version": "2.0.0",
      "model_name": "HTMLModel",
      "state": {
       "layout": "IPY_MODEL_475c05190ae64bd4ab47d63cda6fc54f",
       "style": "IPY_MODEL_96746711a9e542b0922e1f6475fa4911",
       "value": "\n            <div style=\"\n              color:#b5b5b5;\n              text-align:center;\n              padding:40px 0;\n              font-size:1.1em;\n              background:#fff;\n            \">\n              💬 No messages yet. Start the conversation!\n            </div>\n            "
      }
     },
     "d55d6c1303ad4f82ac5c30442fd70ea9": {
      "model_module": "@jupyter-widgets/base",
      "model_module_version": "2.0.0",
      "model_name": "LayoutModel",
      "state": {
       "align_items": "flex-start"
      }
     },
     "d8fac8754cf942759d7b0fca17894af3": {
      "model_module": "@jupyter-widgets/controls",
      "model_module_version": "2.0.0",
      "model_name": "HBoxModel",
      "state": {
       "children": [
        "IPY_MODEL_033c75fcc8624c459e096e040c878d1c",
        "IPY_MODEL_666fae4634184fbfb36fad29dc7f168c"
       ],
       "layout": "IPY_MODEL_a0dc0233d32541e5bf74ca02ad04f33e"
      }
     },
     "d9f97d19d8ce4bfdb2b682b025371818": {
      "model_module": "@jupyter-widgets/controls",
      "model_module_version": "2.0.0",
      "model_name": "HTMLStyleModel",
      "state": {
       "description_width": "",
       "font_size": null,
       "text_color": null
      }
     },
     "db3fc4e9aa1048098cff26170bf72005": {
      "model_module": "@jupyter-widgets/base",
      "model_module_version": "2.0.0",
      "model_name": "LayoutModel",
      "state": {
       "align_items": "flex-start"
      }
     },
     "db9fc53e0af04baaad073b3a4112844f": {
      "model_module": "@jupyter-widgets/controls",
      "model_module_version": "2.0.0",
      "model_name": "HTMLModel",
      "state": {
       "layout": "IPY_MODEL_0fd75dbc173f450e89fc78f9d689e8b4",
       "style": "IPY_MODEL_b0327439fcd7455a921cc7ff4dc29cec",
       "value": "<div style=\"width:36px;height:36px;background:#84c4ff;border-radius:12px;display:flex;align-items:center;justify-content:center;box-shadow:0 1px 4px rgba(60,60,60,0.10);\"><span style=\"font-size:18px;line-height:1;\">👤</span></div>"
      }
     },
     "dd8f75d0521a4b06af885f4954927302": {
      "model_module": "@jupyter-widgets/controls",
      "model_module_version": "2.0.0",
      "model_name": "HTMLStyleModel",
      "state": {
       "description_width": "",
       "font_size": null,
       "text_color": null
      }
     },
     "ddcebae4d1eb4a86aae755976b811330": {
      "model_module": "@jupyter-widgets/base",
      "model_module_version": "2.0.0",
      "model_name": "LayoutModel",
      "state": {
       "align_self": "flex-start",
       "margin": "8px 0px 0px 0px"
      }
     },
     "ddcfcecc6a1c4d6380d8a7fa46e53196": {
      "model_module": "@jupyter-widgets/output",
      "model_module_version": "1.0.0",
      "model_name": "OutputModel",
      "state": {
       "layout": "IPY_MODEL_66806c30b4d04e43a99278a73cde5c4f",
       "outputs": [
        {
         "name": "stdout",
         "output_type": "stream",
         "text": "asdfasdf\n"
        }
       ]
      }
     },
     "de2aa683c6e64dd98f4170ad2a25e781": {
      "model_module": "@jupyter-widgets/base",
      "model_module_version": "2.0.0",
      "model_name": "LayoutModel",
      "state": {
       "align_self": "center",
       "height": "32px",
       "margin": "0 0 0 6px",
       "width": "40px"
      }
     },
     "e0e75a0faee641ecb50a285dc3269299": {
      "model_module": "@jupyter-widgets/output",
      "model_module_version": "1.0.0",
      "model_name": "OutputModel",
      "state": {
       "layout": "IPY_MODEL_9d0a2a8408544ab1a2770245c2f7d1a8",
       "outputs": [
        {
         "name": "stdout",
         "output_type": "stream",
         "text": "Echo: sfdsdf\n"
        }
       ]
      }
     },
     "e166b090347d4c749aee0a6a8c65a853": {
      "model_module": "@jupyter-widgets/base",
      "model_module_version": "2.0.0",
      "model_name": "LayoutModel",
      "state": {
       "align_self": "flex-start",
       "margin": "0px 8px 8px 0px"
      }
     },
     "e48c475fd6d542e2bebb09a1bbfdf54d": {
      "model_module": "@jupyter-widgets/controls",
      "model_module_version": "2.0.0",
      "model_name": "HTMLModel",
      "state": {
       "layout": "IPY_MODEL_589ffa36595f408e9616c8be6082858d",
       "style": "IPY_MODEL_c2ab2dc214974faabbf7402e977269d8",
       "value": "<div style=\"width:36px;height:36px;background:#84c4ff;border-radius:12px;display:flex;align-items:center;justify-content:center;box-shadow:0 1px 4px rgba(60,60,60,0.10);\"><span style=\"font-size:18px;line-height:1;\">👤</span></div>"
      }
     },
     "e7fd402d16f440b18ae3789dc12e6552": {
      "model_module": "@jupyter-widgets/controls",
      "model_module_version": "2.0.0",
      "model_name": "HTMLStyleModel",
      "state": {
       "description_width": "",
       "font_size": null,
       "text_color": null
      }
     },
     "ebcbab426d9c411ebd4433877fda5b90": {
      "model_module": "@jupyter-widgets/output",
      "model_module_version": "1.0.0",
      "model_name": "OutputModel",
      "state": {
       "layout": "IPY_MODEL_9716f709d36940a795e260b60d09fb12"
      }
     },
     "f053d633d7dc4cf09d24a0f71fb23c0d": {
      "model_module": "@jupyter-widgets/controls",
      "model_module_version": "2.0.0",
      "model_name": "HTMLModel",
      "state": {
       "layout": "IPY_MODEL_cbfc0c82672542be9d845bd651372338",
       "style": "IPY_MODEL_dd8f75d0521a4b06af885f4954927302",
       "value": "<div style=\"width:36px;height:36px;background:#84c4ff;border-radius:12px;display:flex;align-items:center;justify-content:center;box-shadow:0 1px 4px rgba(60,60,60,0.10);\"><span style=\"font-size:18px;line-height:1;\">👤</span></div>"
      }
     },
     "f10c0fc82c3244b396eaf263555d500b": {
      "model_module": "@jupyter-widgets/controls",
      "model_module_version": "2.0.0",
      "model_name": "HBoxModel",
      "state": {
       "children": [
        "IPY_MODEL_84a384f5e4254a338f366b112ff47c15",
        "IPY_MODEL_acfa767ee79f45d589129274c90ca041"
       ],
       "layout": "IPY_MODEL_09d20598d74144688e83d0b2f12cb49a"
      }
     },
     "f31eb9b89328452592bde4ee2eaf069b": {
      "model_module": "@jupyter-widgets/controls",
      "model_module_version": "2.0.0",
      "model_name": "HBoxModel",
      "state": {
       "children": [
        "IPY_MODEL_28f141959c814bd8a193530dbb6d4977",
        "IPY_MODEL_4f38fa8cf9e044b288dea32b024730f0"
       ],
       "layout": "IPY_MODEL_0cc34d9716ee4da0b2614ecd19be1a62"
      }
     },
     "f57efddd62264b29a63177c104b1e3e6": {
      "model_module": "@jupyter-widgets/controls",
      "model_module_version": "2.0.0",
      "model_name": "HTMLStyleModel",
      "state": {
       "description_width": "",
       "font_size": null,
       "text_color": null
      }
     },
     "f5c64589e0f549839341065de705924b": {
      "model_module": "@jupyter-widgets/controls",
      "model_module_version": "2.0.0",
      "model_name": "TextStyleModel",
      "state": {
       "description_width": "",
       "font_size": null,
       "text_color": null
      }
     },
     "f68b336e86ca4565b30878fae1bdfdcd": {
      "model_module": "@jupyter-widgets/controls",
      "model_module_version": "2.0.0",
      "model_name": "HTMLStyleModel",
      "state": {
       "description_width": "",
       "font_size": null,
       "text_color": null
      }
     },
     "f798cb1f6644490dbad1886fbadc0ba5": {
      "model_module": "@jupyter-widgets/controls",
      "model_module_version": "2.0.0",
      "model_name": "HBoxModel",
      "state": {
       "children": [
        "IPY_MODEL_438110fc09114651b9b7beb56417ea62",
        "IPY_MODEL_0d03257085794b2c9fe29686c031349d"
       ],
       "layout": "IPY_MODEL_208c4828bbc0461cb7d77817eacfbb2b"
      }
     },
     "fcac1b8cbf584f3f914c7fd933d35fa8": {
      "model_module": "@jupyter-widgets/controls",
      "model_module_version": "2.0.0",
      "model_name": "HTMLModel",
      "state": {
       "layout": "IPY_MODEL_71c9543eb3314aaaad4c68306d33eb9d",
       "style": "IPY_MODEL_85fe737381594640813c258f01ddc9d6",
       "value": "<div style=\"width:36px;height:36px;background:#eeeeee;border-radius:12px;display:flex;align-items:center;justify-content:center;box-shadow:0 1px 4px rgba(60,60,60,0.10);\"><span style=\"font-size:18px;line-height:1;\">🤖</span></div>"
      }
     },
     "fd4a4b895965449c9b107d415782817b": {
      "model_module": "@jupyter-widgets/base",
      "model_module_version": "2.0.0",
      "model_name": "LayoutModel",
      "state": {
       "align_self": "flex-start",
       "margin": "0px 8px 8px 0px"
      }
     },
     "fe07408d0aa947908134eb72ee5b8431": {
      "model_module": "@jupyter-widgets/base",
      "model_module_version": "2.0.0",
      "model_name": "LayoutModel",
      "state": {
       "align_items": "flex-start"
      }
     },
     "ffc6622fa5534960a87400c98f080899": {
      "model_module": "@jupyter-widgets/controls",
      "model_module_version": "2.0.0",
      "model_name": "HTMLModel",
      "state": {
       "layout": "IPY_MODEL_e166b090347d4c749aee0a6a8c65a853",
       "style": "IPY_MODEL_23c6d2cf7199444399ffccbb153ec028",
       "value": "<div style=\"width:36px;height:36px;background:#eeeeee;border-radius:12px;display:flex;align-items:center;justify-content:center;box-shadow:0 1px 4px rgba(60,60,60,0.10);\"><span style=\"font-size:18px;line-height:1;\">🤖</span></div>"
      }
     }
    },
    "version_major": 2,
    "version_minor": 0
   }
  }
 },
 "nbformat": 4,
 "nbformat_minor": 5
}
