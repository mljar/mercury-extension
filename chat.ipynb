{
 "cells": [
  {
   "cell_type": "code",
   "execution_count": 1,
   "id": "ec1a47df-3b61-49a2-a7bb-4139c2b6ccc3",
   "metadata": {},
   "outputs": [],
   "source": [
    "from widgets.chat import ChatMessage, ChatDisplay"
   ]
  },
  {
   "cell_type": "code",
   "execution_count": 2,
   "id": "72605867-2a91-4d69-9a60-4f278a0d8004",
   "metadata": {},
   "outputs": [],
   "source": [
    "from widgets.slider import Slider"
   ]
  },
  {
   "cell_type": "code",
   "execution_count": 3,
   "id": "367d6a92-cd88-43c9-a8ed-f10ce70e7f50",
   "metadata": {},
   "outputs": [
    {
     "data": {
      "application/vnd.jupyter.widget-view+json": {
       "model_id": "b1a2b2a5e7a540dabefac49aaba5f596",
       "version_major": 2,
       "version_minor": 0
      },
      "text/plain": [
       "VBox(children=(HTML(value='\\n            <div style=\"\\n              color:#b5b5b5;\\n              text-align:…"
      ]
     },
     "metadata": {},
     "output_type": "display_data"
    }
   ],
   "source": [
    "chat = ChatDisplay()"
   ]
  },
  {
   "cell_type": "code",
   "execution_count": 4,
   "id": "dc6f7bf2-b7e5-405e-ab4a-7da74098b43a",
   "metadata": {},
   "outputs": [],
   "source": [
    "# User message (right)\n",
    "msg1 = ChatMessage(role=\"user\", emoji=\"👤\")\n",
    "msg1.set_message(text=\"Hello, world!\")\n",
    "chat.add(msg1)\n",
    "# AI message (left)\n",
    "msg2 = ChatMessage(role=\"ai\", emoji=\"🤖\")\n",
    "# msg2.set_message(text=\"<b>Hi there!</b> How can I help?\")\n",
    "chat.add(msg2)\n"
   ]
  },
  {
   "cell_type": "code",
   "execution_count": 5,
   "id": "2745db99-3899-4591-a160-16bf52e95d61",
   "metadata": {},
   "outputs": [],
   "source": [
    "with msg2:\n",
    "    print('test')"
   ]
  },
  {
   "cell_type": "code",
   "execution_count": 3,
   "id": "74645091-d12c-4fbf-9ed9-cf42031a4ec5",
   "metadata": {},
   "outputs": [],
   "source": []
  }
 ],
 "metadata": {
  "kernelspec": {
   "display_name": "Python 3 (ipykernel)",
   "language": "python",
   "name": "python3"
  },
  "language_info": {
   "codemirror_mode": {
    "name": "ipython",
    "version": 3
   },
   "file_extension": ".py",
   "mimetype": "text/x-python",
   "name": "python",
   "nbconvert_exporter": "python",
   "pygments_lexer": "ipython3",
   "version": "3.11.5"
  }
 },
 "nbformat": 4,
 "nbformat_minor": 5
}
