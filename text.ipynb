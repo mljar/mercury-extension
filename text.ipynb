{
 "cells": [
  {
   "cell_type": "code",
   "execution_count": 1,
   "id": "49c6c23e-26b2-4066-b6f3-2fcf0d0d2018",
   "metadata": {},
   "outputs": [],
   "source": [
    "from widgets.slider import Slider"
   ]
  },
  {
   "cell_type": "code",
   "execution_count": 13,
   "id": "53704474-4c17-439b-8875-3cd63cb935d5",
   "metadata": {},
   "outputs": [
    {
     "data": {
      "application/mercury+json": {
       "model_id": "fa547722e7ca48e685d6b3b1c703f87a",
       "position": "bottom",
       "widget": "SliderWidget"
      },
      "application/vnd.jupyter.widget-view+json": {
       "model_id": "fa547722e7ca48e685d6b3b1c703f87a",
       "version_major": 2,
       "version_minor": 1
      },
      "text/plain": [
       "SliderWidget(position='bottom')"
      ]
     },
     "metadata": {},
     "output_type": "display_data"
    }
   ],
   "source": [
    "s = Slider(position=\"bottom\")"
   ]
  },
  {
   "cell_type": "code",
   "execution_count": 3,
   "id": "90a90228-6c2a-4fd7-8600-4f019316398e",
   "metadata": {},
   "outputs": [
    {
     "data": {
      "text/plain": [
       "0"
      ]
     },
     "execution_count": 3,
     "metadata": {},
     "output_type": "execute_result"
    }
   ],
   "source": [
    "s.value"
   ]
  },
  {
   "cell_type": "markdown",
   "id": "c4677861-4e47-442b-b100-a029a74d5c15",
   "metadata": {},
   "source": [
    "# adsf asdf\n",
    "asdfasdfasdf asdf asd asdf asd 11111111111"
   ]
  },
  {
   "cell_type": "markdown",
   "id": "a9917b70-205c-4387-98af-1165e5308a6e",
   "metadata": {},
   "source": [
    "asdfasdf"
   ]
  },
  {
   "cell_type": "code",
   "execution_count": 4,
   "id": "4195e427-1713-4954-9850-be8fe973f28a",
   "metadata": {},
   "outputs": [],
   "source": [
    "from widgets.text import TextInput"
   ]
  },
  {
   "cell_type": "code",
   "execution_count": 14,
   "id": "bd663f4a-670c-4781-8c5b-75cf94c3f36c",
   "metadata": {},
   "outputs": [
    {
     "data": {
      "application/mercury+json": {
       "model_id": "e3d5bce66c3149b982be160732574538",
       "position": "sidebar",
       "widget": "TextInputWidget"
      },
      "application/vnd.jupyter.widget-view+json": {
       "model_id": "e3d5bce66c3149b982be160732574538",
       "version_major": 2,
       "version_minor": 1
      },
      "text/plain": [
       "TextInputWidget(cell_id='bd663f4a-670c-4781-8c5b-75cf94c3f36c', label='aaaa')"
      ]
     },
     "metadata": {},
     "output_type": "display_data"
    }
   ],
   "source": [
    "t = TextInput(label=\"aaaa\")"
   ]
  },
  {
   "cell_type": "code",
   "execution_count": 78,
   "id": "980aba80-e4d5-4c4d-890a-0c335d72497e",
   "metadata": {},
   "outputs": [
    {
     "data": {
      "text/plain": [
       "'sdfdsfasdfasdfasdfasdfsdfdff'"
      ]
     },
     "execution_count": 78,
     "metadata": {},
     "output_type": "execute_result"
    }
   ],
   "source": [
    "t.value"
   ]
  },
  {
   "cell_type": "code",
   "execution_count": 79,
   "id": "3f0e1443-da1f-41cb-9561-69d8bc52c66b",
   "metadata": {},
   "outputs": [],
   "source": [
    "# Define x, y, y2 based on s and t widgets\n",
    "x = [s.value, s.value + 1, s.value + 2]\n",
    "y = [len(t.value), len(t.value) ** 2, len(t.value) ** 3]\n",
    "y2 = [v**2 for v in x]"
   ]
  },
  {
   "cell_type": "code",
   "execution_count": 80,
   "id": "46cc2e98-f6d7-4473-baf9-226a11a89371",
   "metadata": {},
   "outputs": [],
   "source": [
    "from widgets.columns import Columns\n",
    "import matplotlib.pyplot as plt"
   ]
  },
  {
   "cell_type": "code",
   "execution_count": 81,
   "id": "e0293511-8f3c-4d0c-993e-343e93b90c52",
   "metadata": {},
   "outputs": [
    {
     "data": {
      "image/png": "[encoded data removed]",
      "text/plain": [
       "<Figure size 400x300 with 1 Axes>"
      ]
     },
     "metadata": {},
     "output_type": "display_data"
    }
   ],
   "source": [
    "plt.figure(figsize=(4,3))\n",
    "plt.plot(x, y, marker='o')\n",
    "plt.title('Plot: s.value and len(t.value)')\n",
    "plt.xlabel('s.value')\n",
    "plt.ylabel('len(t.value)')\n",
    "plt.grid(True)\n",
    "plt.show()"
   ]
  },
  {
   "cell_type": "code",
   "execution_count": 82,
   "id": "8a315979-d0dd-48aa-96bc-3cbbc625fe3d",
   "metadata": {},
   "outputs": [
    {
     "data": {
      "text/html": [
       "\n",
       "    <style>\n",
       "    .mljar-column {\n",
       "        border-radius: 4px !important;\n",
       "    }\n",
       "    </style>\n",
       "    "
      ],
      "text/plain": [
       "<IPython.core.display.HTML object>"
      ]
     },
     "metadata": {},
     "output_type": "display_data"
    },
    {
     "data": {
      "application/vnd.jupyter.widget-view+json": {
       "model_id": "1d0dd5ceba7a4c5f93afe6db743ecac2",
       "version_major": 2,
       "version_minor": 0
      },
      "text/plain": [
       "HBox(children=(Output(layout=Layout(border_bottom='1px solid #cccccc', border_left='1px solid #cccccc', border…"
      ]
     },
     "metadata": {},
     "output_type": "display_data"
    }
   ],
   "source": [
    "\n",
    "\n",
    "# Use Columns to create two side-by-side outputs\n",
    "out1, out2 = Columns(2)\n",
    "\n",
    "with out1:\n",
    "    out1.clear_output(wait=True)\n",
    "    plt.figure(figsize=(4,3))\n",
    "    plt.plot(x, y, marker='o')\n",
    "    plt.title('Plot: s.value and len(t.value)')\n",
    "    plt.xlabel('s.value')\n",
    "    plt.ylabel('len(t.value)')\n",
    "    plt.grid(True)\n",
    "    plt.show()\n",
    "\n",
    "with out2:\n",
    "    out2.clear_output(wait=True)\n",
    "    plt.figure(figsize=(4,3))\n",
    "    plt.plot(x, y2, marker='o', color='orange')\n",
    "    plt.title('Plot: s.value and (s.value)^2')\n",
    "    plt.xlabel('s.value')\n",
    "    plt.ylabel('y = (s.value)^2')\n",
    "    plt.grid(True)\n",
    "    plt.show()"
   ]
  },
  {
   "cell_type": "code",
   "execution_count": 82,
   "id": "0db01196-fc52-4eb2-b71d-a79071f5e4cf",
   "metadata": {},
   "outputs": [],
   "source": []
  },
  {
   "cell_type": "code",
   "execution_count": 82,
   "id": "20290dbe-5f9d-43a0-b3be-6c1946d98a68",
   "metadata": {},
   "outputs": [],
   "source": []
  },
  {
   "cell_type": "code",
   "execution_count": 83,
   "id": "dae6552e-5f6c-42c9-82a9-0660b4fc221e",
   "metadata": {},
   "outputs": [],
   "source": [
    "from widgets.indicator import Indicator"
   ]
  },
  {
   "cell_type": "code",
   "execution_count": 84,
   "id": "e79d9594-0866-43c1-97b0-51f2113a4e55",
   "metadata": {},
   "outputs": [
    {
     "data": {
      "text/html": [
       "\n",
       "        <style scoped>\n",
       "        .mljar-indicator-row {\n",
       "            width: 100%;\n",
       "            display: flex;\n",
       "            flex-direction: row;\n",
       "            gap: 5px;\n",
       "            justify-content: flex-start;\n",
       "        }\n",
       "        @media (max-width: 800px) {\n",
       "            .mljar-indicator-row {\n",
       "                flex-direction: column;\n",
       "            }\n",
       "        }\n",
       "        .mljar-indicator-card {\n",
       "            flex: 1 1 0;\n",
       "            background: var(--bg, #fff);\n",
       "            border: 1px solid var(--border, #ebebeb);\n",
       "            border-radius: 12px;\n",
       "            padding: 26px 24px 18px 24px;\n",
       "            margin: 8px;\n",
       "            text-align: center;                \n",
       "            min-width: 180px;\n",
       "            max-width: 240px !important;\n",
       "            box-shadow: 0 2px 8px rgba(0,0,0,0.04);\n",
       "        }\n",
       "        .mljar-indicator-title {\n",
       "            font-size: 1.3em !important;\n",
       "            color: var(--label, #555);\n",
       "            margin-bottom: 10px;\n",
       "            font-family: 'Inter', 'Segoe UI', Arial, sans-serif !important;\n",
       "        }\n",
       "        .mljar-indicator-value {\n",
       "            font-size: 2.7em;\n",
       "            color: var(--value, #222);\n",
       "            font-family: 'Menlo', 'Consolas', monospace;\n",
       "            margin-bottom: 12px;\n",
       "            letter-spacing: 1px;\n",
       "        }\n",
       "        .mljar-indicator-delta {\n",
       "            display: inline-block;\n",
       "            padding: 0.28em 1.1em 0.28em 1.1em;\n",
       "            font-size: 1em;\n",
       "            border-radius: 2em;\n",
       "            margin-bottom: 4px;\n",
       "            font-family: 'Menlo', monospace;\n",
       "            font-weight: bold;\n",
       "        }\n",
       "        .mljar-indicator-delta.up {\n",
       "            background: var(--bg-green, rgba(0,178,117,0.12));\n",
       "            color: var(--green, #00B275);\n",
       "        }\n",
       "        .mljar-indicator-delta.down {\n",
       "            background: var(--bg-red, rgba(255,99,132,0.13));\n",
       "            color: var(--red, #FF6384);\n",
       "        }\n",
       "        </style>\n",
       "        <div class='mljar-indicator-row'>\n",
       "        <style scoped>\n",
       "        .mljar-indicator-row {\n",
       "            width: 100%;\n",
       "            display: flex;\n",
       "            flex-direction: row;\n",
       "            gap: 5px;\n",
       "            justify-content: flex-start;\n",
       "        }\n",
       "        @media (max-width: 800px) {\n",
       "            .mljar-indicator-row {\n",
       "                flex-direction: column;\n",
       "            }\n",
       "        }\n",
       "        .mljar-indicator-card {\n",
       "            flex: 1 1 0;\n",
       "            background: var(--bg, #fff);\n",
       "            border: 1px solid var(--border, #ebebeb);\n",
       "            border-radius: 12px;\n",
       "            padding: 26px 24px 18px 24px;\n",
       "            margin: 8px;\n",
       "            text-align: center;                \n",
       "            min-width: 180px;\n",
       "            max-width: 240px !important;\n",
       "            box-shadow: 0 2px 8px rgba(0,0,0,0.04);\n",
       "        }\n",
       "        .mljar-indicator-title {\n",
       "            font-size: 1.3em !important;\n",
       "            color: var(--label, #555);\n",
       "            margin-bottom: 10px;\n",
       "            font-family: 'Inter', 'Segoe UI', Arial, sans-serif !important;\n",
       "        }\n",
       "        .mljar-indicator-value {\n",
       "            font-size: 2.7em;\n",
       "            color: var(--value, #222);\n",
       "            font-family: 'Menlo', 'Consolas', monospace;\n",
       "            margin-bottom: 12px;\n",
       "            letter-spacing: 1px;\n",
       "        }\n",
       "        .mljar-indicator-delta {\n",
       "            display: inline-block;\n",
       "            padding: 0.28em 1.1em 0.28em 1.1em;\n",
       "            font-size: 1em;\n",
       "            border-radius: 2em;\n",
       "            margin-bottom: 4px;\n",
       "            font-family: 'Menlo', monospace;\n",
       "            font-weight: bold;\n",
       "        }\n",
       "        .mljar-indicator-delta.up {\n",
       "            background: var(--bg-green, rgba(0,178,117,0.12));\n",
       "            color: var(--green, #00B275);\n",
       "        }\n",
       "        .mljar-indicator-delta.down {\n",
       "            background: var(--bg-red, rgba(255,99,132,0.13));\n",
       "            color: var(--red, #FF6384);\n",
       "        }\n",
       "        </style>\n",
       "        \n",
       "<div class=\"mljar-indicator-card\"\n",
       "     style=\"--bg:#fff;--border:#ebebeb;--value:#222;--label:#555;--green:#00B275;--bg-green:rgba(0, 178, 117, 0.12);--red:#FF6384;--bg-red:rgba(255, 99, 132, 0.13)\">\n",
       "    <div class='mljar-indicator-title'>sdfdsfasdfasdfasdfasdfsdfdff</div>\n",
       "    <div class='mljar-indicator-value'>0</div>\n",
       "    <div class='mljar-indicator-delta down'><span style='font-size:1.15em'>&#8595;</span> 12.0%</div>\n",
       "</div>\n",
       "\n",
       "        <style scoped>\n",
       "        .mljar-indicator-row {\n",
       "            width: 100%;\n",
       "            display: flex;\n",
       "            flex-direction: row;\n",
       "            gap: 5px;\n",
       "            justify-content: flex-start;\n",
       "        }\n",
       "        @media (max-width: 800px) {\n",
       "            .mljar-indicator-row {\n",
       "                flex-direction: column;\n",
       "            }\n",
       "        }\n",
       "        .mljar-indicator-card {\n",
       "            flex: 1 1 0;\n",
       "            background: var(--bg, #fff);\n",
       "            border: 1px solid var(--border, #ebebeb);\n",
       "            border-radius: 12px;\n",
       "            padding: 26px 24px 18px 24px;\n",
       "            margin: 8px;\n",
       "            text-align: center;                \n",
       "            min-width: 180px;\n",
       "            max-width: 240px !important;\n",
       "            box-shadow: 0 2px 8px rgba(0,0,0,0.04);\n",
       "        }\n",
       "        .mljar-indicator-title {\n",
       "            font-size: 1.3em !important;\n",
       "            color: var(--label, #555);\n",
       "            margin-bottom: 10px;\n",
       "            font-family: 'Inter', 'Segoe UI', Arial, sans-serif !important;\n",
       "        }\n",
       "        .mljar-indicator-value {\n",
       "            font-size: 2.7em;\n",
       "            color: var(--value, #222);\n",
       "            font-family: 'Menlo', 'Consolas', monospace;\n",
       "            margin-bottom: 12px;\n",
       "            letter-spacing: 1px;\n",
       "        }\n",
       "        .mljar-indicator-delta {\n",
       "            display: inline-block;\n",
       "            padding: 0.28em 1.1em 0.28em 1.1em;\n",
       "            font-size: 1em;\n",
       "            border-radius: 2em;\n",
       "            margin-bottom: 4px;\n",
       "            font-family: 'Menlo', monospace;\n",
       "            font-weight: bold;\n",
       "        }\n",
       "        .mljar-indicator-delta.up {\n",
       "            background: var(--bg-green, rgba(0,178,117,0.12));\n",
       "            color: var(--green, #00B275);\n",
       "        }\n",
       "        .mljar-indicator-delta.down {\n",
       "            background: var(--bg-red, rgba(255,99,132,0.13));\n",
       "            color: var(--red, #FF6384);\n",
       "        }\n",
       "        </style>\n",
       "        \n",
       "<div class=\"mljar-indicator-card\"\n",
       "     style=\"--bg:#fff;--border:#ebebeb;--value:#222;--label:#555;--green:#00B275;--bg-green:rgba(0, 178, 117, 0.12);--red:#FF6384;--bg-red:rgba(255, 99, 132, 0.13)\">\n",
       "    <div class='mljar-indicator-title'>tests</div>\n",
       "    <div class='mljar-indicator-value'>28</div>\n",
       "    <div class='mljar-indicator-delta down'><span style='font-size:1.15em'>&#8595;</span> 12.0%</div>\n",
       "</div>\n",
       "</div>"
      ],
      "text/plain": [
       "<widgets.indicator.Indicator at 0x7b88fa76d210>"
      ]
     },
     "execution_count": 84,
     "metadata": {},
     "output_type": "execute_result"
    }
   ],
   "source": [
    "Indicator([\n",
    "    Indicator(s.value, t.value or \"asdfasdf\", -12),\n",
    "    Indicator(len(t.value), \"tests\", -12)])"
   ]
  },
  {
   "cell_type": "code",
   "execution_count": 84,
   "id": "62c90990-735d-49d2-8f72-b2d134c0a6a6",
   "metadata": {},
   "outputs": [],
   "source": []
  },
  {
   "cell_type": "code",
   "execution_count": 84,
   "id": "43bf9999-b01b-460d-b48d-56e7e5f0071e",
   "metadata": {},
   "outputs": [],
   "source": []
  },
  {
   "cell_type": "code",
   "execution_count": 84,
   "id": "5ad3816d-7ef4-44da-b129-2830534509e5",
   "metadata": {},
   "outputs": [],
   "source": []
  },
  {
   "cell_type": "code",
   "execution_count": 84,
   "id": "39322b89-a58c-4acd-bcf8-6fc1253237f7",
   "metadata": {},
   "outputs": [],
   "source": []
  }
 ],
 "metadata": {
  "kernelspec": {
   "display_name": "Python 3 (ipykernel)",
   "language": "python",
   "name": "python3"
  },
  "language_info": {
   "codemirror_mode": {
    "name": "ipython",
    "version": 3
   },
   "file_extension": ".py",
   "mimetype": "text/x-python",
   "name": "python",
   "nbconvert_exporter": "python",
   "pygments_lexer": "ipython3",
   "version": "3.11.5"
  },
  "widgets": {
   "application/vnd.jupyter.widget-state+json": {
    "state": {
     "1d0dd5ceba7a4c5f93afe6db743ecac2": {
      "model_module": "@jupyter-widgets/controls",
      "model_module_version": "2.0.0",
      "model_name": "HBoxModel",
      "state": {
       "children": [
        "IPY_MODEL_5ab4c001ecdf47baba5506891831825e",
        "IPY_MODEL_7a905af845c3433da3082ec9198f6b30"
       ],
       "layout": "IPY_MODEL_a141f31dfab34015b53a8a8b284ce07a"
      }
     },
     "2e4483ec495c477e996261e5e57e1dbc": {
      "model_module": "anywidget",
      "model_module_version": "~0.9.*",
      "model_name": "AnyModel",
      "state": {
       "_anywidget_id": "widgets.slider.SliderWidget",
       "_css": "\n    .mljar-slider-container {\n        display: flex;\n        flex-direction: column;\n        align-items: flex-start;\n        width: 100%;\n        min-width: 120px;\n        font-family: Arial, sans-serif;\n        font-size: 12px;\n        font-weight: normal;\n        color: #222222;\n    }\n\n    .mljar-slider-top-label {\n        margin-bottom: 6px;\n        font-weight: bold;\n    }\n\n    .mljar-slider-row {\n        display: flex;\n        flex-direction: row;\n        align-items: center;\n        width: 100%;\n        overflow: hidden;\n    }\n\n    .mljar-slider-input {\n        flex: 1 1 auto;\n        min-width: 60px;\n        max-width: 100%;\n        margin-right: 16px;\n        background: transparent;\n        -webkit-appearance: none;\n        appearance: none;\n        border: none;\n        height: 24px; /* big enough for thumb */\n        padding: 0;\n    }\n\n    .mljar-slider-input:focus {\n        outline: none;\n    }\n\n    /* Track */\n    .mljar-slider-input::-webkit-slider-runnable-track {\n        height: 6px;\n        background: #e0e0e0;\n        border-radius: 4px;\n        margin: auto; /* center track in the input box */\n    }\n    .mljar-slider-input::-moz-range-track {\n        height: 6px;\n        background: #e0e0e0;\n        border-radius: 4px;\n    }\n\n    /* Thumb */\n    .mljar-slider-input::-webkit-slider-thumb {\n        -webkit-appearance: none;\n        appearance: none;\n        width: 16px;\n        height: 16px;\n        border-radius: 50%;\n        background: #007bff;\n        cursor: pointer;\n        margin-top: -5px; /* centers thumb on track */\n    }\n    .mljar-slider-input::-moz-range-thumb {\n        width: 16px;\n        height: 16px;\n        border-radius: 50%;\n        background: #007bff;\n        cursor: pointer;\n    }\n\n    .mljar-slider-value-label {\n        font-weight: bold;\n        font-size: 1.1em;\n        color: #222222;\n        margin-left: 8px;\n    }\n    ",
       "_esm": "\nfunction render({ model, el }) {\n  // Your existing UI creation code (unchanged) ...\n  const container = document.createElement(\"div\");\n  container.classList.add(\"mljar-slider-container\");\n\n  const topLabel = document.createElement(\"div\");\n  topLabel.classList.add(\"mljar-slider-top-label\");\n  topLabel.innerHTML = model.get(\"label\") || \"Select number\";\n\n  const sliderRow = document.createElement(\"div\");\n  sliderRow.classList.add(\"mljar-slider-row\");\n\n  const slider = document.createElement(\"input\");\n  slider.type = \"range\";\n  slider.min = model.get(\"min\");\n  slider.max = model.get(\"max\");\n  slider.value = model.get(\"value\");\n  slider.classList.add(\"mljar-slider-input\");\n\n  const valueLabel = document.createElement(\"span\");\n  valueLabel.classList.add(\"mljar-slider-value-label\");\n  valueLabel.innerHTML = model.get(\"value\");\n\n  let debounceTimer = null;\n  slider.addEventListener(\"input\", () => {\n    model.set(\"value\", Number(slider.value));\n    if (debounceTimer) clearTimeout(debounceTimer);\n    debounceTimer = setTimeout(() => model.save_changes(), 100);\n  });\n\n  model.on(\"change:value\", () => {\n    slider.value = model.get(\"value\");\n    valueLabel.innerHTML = model.get(\"value\");\n  });\n\n  sliderRow.appendChild(slider);\n  sliderRow.appendChild(valueLabel);\n  container.appendChild(topLabel);\n  container.appendChild(sliderRow);\n  el.appendChild(container);\n\n  // ---- read cell id (no DOM modifications) ----\nconst LOG_PREFIX = '[SliderWidget]';\nconst ID_ATTR = 'data-cell-id';\nconst hostWithId = el.closest(`[${ID_ATTR}]`);\nconst cellId = hostWithId ? hostWithId.getAttribute(ID_ATTR) : null;\n\nif (cellId) {\n  // console.log(`${LOG_PREFIX} found cell_id`, cellId);\n  model.set('cell_id', cellId);\n  model.save_changes();\n  // also send an explicit event\n  model.send({ type: 'cell_id_detected', value: cellId });\n        \n}\n\n  // Optional: handle case where stamp might appear slightly later\n  if (!cellId) {\n    const mo = new MutationObserver(() => {\n      const host = el.closest(`[${ID_ATTR}]`);\n      const newId = host?.getAttribute(ID_ATTR);\n      if (newId) {\n        // console.log('set cell id', newId);\n        model.set('cell_id', newId);\n        model.save_changes();\n        \n        // also send an explicit event\n        model.send({ type: 'cell_id_detected', value: newId });\n        \n        mo.disconnect();\n      }\n    });\n    mo.observe(document.body, { attributes: true, subtree: true, attributeFilter: [ID_ATTR] });\n  }\n}\nexport default { render };\n    ",
       "_model_module": "anywidget",
       "_model_module_version": "~0.9.*",
       "_model_name": "AnyModel",
       "_view_module": "anywidget",
       "_view_module_version": "~0.9.*",
       "_view_name": "AnyView",
       "cell_id": "53704474-4c17-439b-8875-3cd63cb935d5",
       "custom_css": "",
       "label": "Select number",
       "layout": "IPY_MODEL_407e60a6c1554b5d8f52d6c7ee9fc323",
       "max": 100,
       "min": 0,
       "position": "sidebar",
       "value": 0
      }
     },
     "37f0cb59bd57490b998b3a80c7a532dc": {
      "model_module": "@jupyter-widgets/base",
      "model_module_version": "2.0.0",
      "model_name": "LayoutModel",
      "state": {
       "border_bottom": "1px solid #cccccc",
       "border_left": "1px solid #cccccc",
       "border_right": "1px solid #cccccc",
       "border_top": "1px solid #cccccc",
       "flex": "1 1 0px",
       "min_width": "240px",
       "padding": "4px"
      }
     },
     "407e60a6c1554b5d8f52d6c7ee9fc323": {
      "model_module": "@jupyter-widgets/base",
      "model_module_version": "2.0.0",
      "model_name": "LayoutModel",
      "state": {}
     },
     "5ab4c001ecdf47baba5506891831825e": {
      "model_module": "@jupyter-widgets/output",
      "model_module_version": "1.0.0",
      "model_name": "OutputModel",
      "state": {
       "_dom_classes": [
        "mljar-column"
       ],
       "layout": "IPY_MODEL_37f0cb59bd57490b998b3a80c7a532dc",
       "outputs": [
        {
         "data": {
          "image/png": "iVBORw0KGgoAAAANSUhEUgAAAZMAAAE8CAYAAAAFVlxaAAAAOnRFWHRTb2Z0d2FyZQBNYXRwbG90bGliIHZlcnNpb24zLjEwLjAsIGh0dHBzOi8vbWF0cGxvdGxpYi5vcmcvlHJYcgAAAAlwSFlzAAAPYQAAD2EBqD+naQAAS+1JREFUeJzt3XdcU3f3B/BPEpKwlzIVEUSWIlh9RKxaB4JKbVEfV22L1mqr0hZ43LUirS2OuupDtbVPHW39Fdx1i3uhVgQUUepAcTBU9kxIvr8/LKmRMLII47xfr7xq7j333nMP6T3Jvd/ccBhjDIQQQogauLpOgBBCSPNHzYQQQojaqJkQQghRGzUTQgghaqNmQgghRG3UTAghhKiNmgkhhBC1UTMhhBCiNmomhBBC1EbNhAAATp06BQ6Hg1OnTuk6FZ3jcDhYvHixrtPQqo4dO2LSpEn1xjVmLYYPH46pU6c2yrYaYvHixeBwOFrdRlpaGvT09JCamqrV7TQGaiYt3ObNm8HhcGQPfX19uLq6IjQ0FDk5ORrZxsGDB1v8wZdo1/nz53H06FHMnTtXNi0tLQ2LFy/G/fv3dZeYlnl6eiIoKAiLFi3SdSpqo2bSSnz55Zf45Zdf8N///hd9+vTB+vXr4efnh7KyMrXXffDgQURFRWkgS9JarVixAoMHD4aLi4tsWlpaGqKiolp0MwGAjz/+GLt378bdu3d1nYpaqJm0EsOGDcO7776LDz/8EJs3b0ZYWBgyMjKwd+9eXadGWrnc3FwcOHAAY8eO1XUqOuHv7w8LCwts2bJF16mohZpJKzVo0CAAQEZGRp1x27dvR48ePWBgYIC2bdvi3XffxePHj2XzJ02ahJiYGACQO51WLSsrC7du3YJYLK43p99//x09evSAiYkJTE1N4eXlhbVr19YaLxaLYWlpicmTJ9eYV1RUBH19fcyaNQsAIBKJsGjRIvTo0QNmZmYwMjJCv379cPLkyXrzmjRpEjp27Fhjem3n1H/99VdZzSwtLTF+/Hg8fPiw3u08ePAAM2bMgJubGwwMDNCmTRuMGTOmxjvz6lOX58+fR0REBKysrGBkZISRI0fi6dOncrGMMSxZsgTt27eHoaEhBg4ciBs3btSbS10eP36MDz74ADY2NhAKhejSpQt+/vlnuZjqa3BxcXH4+uuv0b59e+jr62Pw4MG4c+eOXOyBAwdQVVUFf39/uX0cM2YMAGDgwIGy11Vt1/S+/fZbcDgcPHjwoMa8+fPnQyAQID8/HwBw9uxZjBkzBh06dIBQKISDgwPCw8NRXl5e537fv38fHA4HmzdvrjFP0bWlhtQJAPh8PgYMGNDs39hRM2mlqj9St2nTptaYzZs3Y+zYseDxeIiOjsbUqVOxa9cu9O3bFwUFBQCAjz76CEOGDAEA/PLLL7JHtfnz58PDw0OuASkSHx+PCRMmwMLCAsuWLcPSpUsxYMAAnD9/vtZl+Hw+Ro4ciT179kAkEsnN27NnDyorKzF+/HgAL5rLTz/9hAEDBmDZsmVYvHgxnj59isDAQCQnJ9eZmzK+/vprvP/+++jcuTNWrVqFsLAwHD9+HP3795fVrDZ//vknLly4gPHjx+O7777Dxx9/jOPHj2PAgAEKT0d+8sknSElJQWRkJKZPn459+/YhNDRULmbRokX44osv4O3tjRUrVsDZ2RkBAQEoLS1Vaf9ycnLQu3dvHDt2DKGhoVi7di1cXFwwZcoUrFmzpkb80qVLsXv3bsyaNQvz58/HxYsXMXHiRLmYCxcuoE2bNnB0dJRN69+/Pz799FMAwIIFC2SvKw8PD4V5jR07Vta8XhUXF4eAgABYWFgAePEGqaysDNOnT8e6desQGBiIdevW4f3331epJoooW6cePXogNTUVRUVFGsuh0THSom3atIkBYMeOHWNPnz5lDx8+ZL///jtr06YNMzAwYI8ePWKMMXby5EkGgJ08eZIxxphIJGLW1tasa9eurLy8XLa+/fv3MwBs0aJFsmkzZ85ktb2UQkJCGACWkZFRZ56fffYZMzU1ZVVVVUrt35EjRxgAtm/fPrnpw4cPZ87OzrLnVVVVrLKyUi4mPz+f2djYsA8++EBuOgAWGRkptw+Ojo41th0ZGSm33/fv32c8Ho99/fXXcnHXr19nenp6Naa/qqysrMa0hIQEBoBt3bpVNq36b+rv78+kUqlsenh4OOPxeKygoIAxxlhubi4TCAQsKChILm7BggUMAAsJCakzH8Zq1mLKlCnMzs6OPXv2TC5u/PjxzMzMTLYP1a8nDw8PubqvXbuWAWDXr1+XTevbty/r0aNHjW1v375d7jVZHz8/vxrruXz5co36KapzdHQ043A47MGDB7Jpr/59MzIyGAC2adOmGsurWqdq27ZtYwDYpUuXGrSvTRF9Mmkl/P39YWVlBQcHB4wfPx7GxsbYvXs32rVrpzD+ypUryM3NxYwZM6Cvry+bHhQUBHd3dxw4cKBB2928eTMYYwpPE73M3NwcpaWliI+Pb/A+AS9O17Vt2xaxsbGyafn5+YiPj8e4ceNk03g8HgQCAQBAKpUiLy8PVVVV6NmzJ65evarUNmuza9cuSKVSjB07Fs+ePZM9bG1t0blz53pPqRkYGMj+LRaL8fz5c7i4uMDc3FxhjtOmTZM7zdavXz9IJBLZqZ5jx45BJBLhk08+kYsLCwtTaf8YY9i5cydGjBgBxpjcPgYGBqKwsLBGnpMnT5bVvTpHALh3755s2vPnz2WfGtQxbtw4JCYmyl3Ijo2NhVAoxNtvvy2b9nKdS0tL8ezZM/Tp0weMMSQlJamdhyp1qt7/Z8+eqb19XdHTdQKkccTExMDV1RV6enqwsbGBm5sbuNza30tUH5Dc3NxqzHN3d8e5c+c0mt+MGTMQFxeHYcOGoV27dggICMDYsWMxdOjQOpfT09PD6NGjsW3bNlRWVkIoFGLXrl0Qi8VyzQQAtmzZgpUrV9a4huPk5KSRfbh9+zYYY+jcubPC+Xw+v87ly8vLER0djU2bNuHx48dgL/0IamFhYY34Dh06yD2vPiBVXxuo/hu+mo+VlZVKB++nT5+ioKAAP/74I3788UeFMbm5uUrlWI1p4Adfx4wZg4iICMTGxmLBggVgjGH79u0YNmwYTE1NZXGZmZlYtGgR/vjjjxp5KKqzslSpU/X+a/t7LdpEzaSV6NWrF3r27KnrNGplbW2N5ORkHDlyBIcOHcKhQ4ewadMmvP/++/WOchk/fjx++OEHHDp0CMHBwYiLi4O7uzu8vb1lMb/++ismTZqE4OBgzJ49G9bW1rJrQfUNyaztf3CJRCL3XCqVgsPh4NChQ+DxeDXijY2N69zOJ598gk2bNiEsLAx+fn4wMzMDh8PB+PHjIZVKa8Qr2gagmQOzItU5vPvuuwgJCVEY061bN7nnDcmxTZs2NQ7qqrC3t0e/fv0QFxeHBQsW4OLFi8jMzMSyZctkMRKJBEOGDEFeXh7mzp0Ld3d3GBkZ4fHjx5g0aZLCOldT5nUAKFen6v1v27Zt/TvaRFEzIQpVXwxNT0+Xjfyqlp6eLnexVFPvpgQCAUaMGIERI0ZAKpVixowZ+OGHH/DFF1/Iff/gVf3794ednR1iY2PRt29fnDhxAp9//rlczI4dO+Ds7Ixdu3bJ5RsZGVlvXhYWFgovnr86cqhTp05gjMHJyQmurq71rvdVO3bsQEhICFauXCmbVlFRUe+F+9pU/41u374NZ2dn2fSnT5+qdPC2srKCiYkJJBKJ3Mgrdbm7u2Pnzp01pqvyuho3bhxmzJiB9PR0xMbGwtDQECNGjJDNv379Ov766y9s2bJF7oJ7Q06vVn+qevXv8errQJU6ZWRkgMvlqvS6aSromglRqGfPnrC2tsaGDRtQWVkpm37o0CHcvHkTQUFBsmlGRkYAav5PBjR8aPDz58/lnnO5XNm7t+rti8Vi3Lp1C1lZWTVi//3vf2Pfvn345ZdfUFVVVeMUV/U75JffEV+6dAkJCQl15gW8aBKFhYW4du2a3H7t3r1bLm7UqFHg8XiIioqq8emAMVZjH1/F4/FqLLdu3boa73wbyt/fH3w+H+vWrZNbr6LRRA3B4/EwevRo7Ny5U+HtP14dltxQfn5+yM/Pl7uOAqj2uho9ejR4PB7+7//+D9u3b8ebb74pW0/1PgDyrwPGWJ1D0KuZmpqibdu2OHPmjNz077//Xu65KnVKTExEly5dYGZmVm8eTRV9MiEK8fl8LFu2DJMnT8Ybb7yBCRMmICcnB2vXrkXHjh0RHh4ui+3RowcA4NNPP0VgYCB4PJ5sSO78+fOxZcsWZGRk1HkR/sMPP0ReXh4GDRqE9u3b48GDB1i3bh18fHxkw0EfP34MDw8PhISE1BjrP27cOKxbtw6RkZHw8vKqMYT0zTffxK5duzBy5EgEBQUhIyMDGzZsgKenJ0pKSuqsxfjx4zF37lyMHDkSn376KcrKyrB+/Xq4urrKXUjt1KkTlixZgvnz5+P+/fsIDg6GiYkJMjIysHv3bkybNk32vRdF3nzzTfzyyy8wMzODp6cnEhIScOzYsTqHb9fFysoKs2bNQnR0NN58800MHz4cSUlJOHTokMqnU5YuXYqTJ0/C19cXU6dOhaenJ/Ly8nD16lUcO3YMeXl5Sq8zKCgIenp6OHbsGKZNmyab7uPjAx6Ph2XLlqGwsBBCoRCDBg2CtbV1ra8ra2trDBw4EKtWrUJxcXGNNxXu7u7o1KkTZs2ahcePH8PU1BQ7d+5s8Ce1Dz/8EEuXLsWHH36Inj174syZM/jrr7/UqpNYLMbp06cxY8YMJSvXxDTq2DHS6KqHkf755591xr06NLhabGws6969OxMKhczS0pJNnDhRNpy4WlVVFfvkk0+YlZUV43A4csMpGzo0eMeOHSwgIIBZW1szgUDAOnTowD766COWlZUli6kemqloSKtUKmUODg4MAFuyZInC+d988w1zdHRkQqGQde/ene3fv1/hsF+8MsyTMcaOHj3KunbtygQCAXNzc2O//vprjaGj1Xbu3Mn69u3LjIyMmJGREXN3d2czZ85k6enpddYgPz+fTZ48mbVt25YZGxuzwMBAduvWLebo6Ci3z7X9TRX9DSUSCYuKimJ2dnbMwMCADRgwgKWmptZYZ20U1SInJ4fNnDmTOTg4MD6fz2xtbdngwYPZjz/+WCOX7du3yy1b2/Dat956iw0ePLjG9jdu3MicnZ0Zj8eT27e6XlcbN25kAJiJiYncsPZqaWlpzN/fnxkbG7O2bduyqVOnspSUlBp5Kfr7lpWVsSlTpjAzMzNmYmLCxo4dy3Jzc1WuE2OMHTp0iAFgt2/frpFrc8JhTEtX6wghpIHOnj2LAQMG4NatW7WOhmupgoODweFwapw2bW6omRBCmoRhw4ahffv22Lhxo65TaTQ3b96El5cXkpOT0bVrV12noxZqJoQQQtRGo7kIIYSojZoJIYQQtVEzIYQQojZqJoQQQtRGX1rUEKlUiidPnsDExKRZ36yNEEKqMcZQXFwMe3v7Om8MC1Az0ZgnT57AwcFB12kQQojGPXz4EO3bt68zhpqJhpiYmAB4UfSXb3ddH7FYjKNHjyIgIKDeW5S3NlQbxagutaPaKKZqXYqKiuDg4CA7vtWFmomGVJ/aMjU1VbqZGBoawtTUlF78r6DaKEZ1qR3VRjF169KQU/d0AZ4QQojaqJkQQghRGzUTQghpwSRShksZeUh8xsGljDxIpNq5gxZdMyGEkBbqcGoWovalIauwAgAPW29fgZ2ZPiJHeGJoVzuNbos+mRBCSAt0ODUL03+9+ncj+Ud2YQWm/3oVh1OzallSNdRMCCGkhZFIGaL2pUHRCa3qaVH70jR6youaCSGEtDCXM/JqfCJ5GQOQVViByxnK/8xybaiZEEJIC5NbXHsjUSWuIaiZEEJIC2Ntoq/RuIagZkIIIS1MLydL2JrW3ig4AOzM9NHLyVJj26RmQgghLQyPy0GvjhYK51XfGCVyhCd4XM3d4ZyaCSGEtDDXHhXgYGo2AMDcQP5eXLZm+lj/7msa/54JfWmREEJakHKRBOGxyaiSMgR1s8PacT64ePcpjp69hIB+vvBzsdboJ5Jq1EwIIaQFWXb4Fu4+LYW1iRBfB3eFHo8LXydLPL/J4OtkqZVGAtBpLkIIaTHO/PUUmy/cBwCsGOMNc0NBo22bmgkhhLQABWUizN6RAgAI8XPEG65Wjbp9aiaEENLMMcbw+Z5U5BRVwtnKCPOGeTR6DtRMCCGkmfsj5QkOXMsCj8vB6rE+MBDwGj0HaiaEENKMPSkox8I9qQCATwd1hreDuU7yoGZCCCHNlFTKMGt7CoorquDtYI6ZAzvpLBdqJoQQ0kxtunAfF+4+hwGfh9VjvaHH090hnZoJIYQ0Q7dzirHs8C0AwOdBHnC2MtZpPjptJtHR0fjXv/4FExMTWFtbIzg4GOnp6XIxFRUVmDlzJtq0aQNjY2OMHj0aOTk5cjGZmZkICgqCoaEhrK2tMXv2bFRVVcnFnDp1Cq+99hqEQiFcXFywefPmGvnExMSgY8eO0NfXh6+vLy5fvqzxfSaEEHWJqqQIi02GqEqKAW5WmOjbQdcp6baZnD59GjNnzsTFixcRHx8PsViMgIAAlJaWymLCw8Oxb98+bN++HadPn8aTJ08watQo2XyJRIKgoCCIRCJcuHABW7ZswebNm7Fo0SJZTEZGBoKCgjBw4EAkJycjLCwMH374IY4cOSKLiY2NRUREBCIjI3H16lV4e3sjMDAQubm5jVMMQghpoLXH/8KNJ0WwMORj+ehu4HC08612pbAmJDc3lwFgp0+fZowxVlBQwPh8Ptu+fbss5ubNmwwAS0hIYIwxdvDgQcblcll2drYsZv369czU1JRVVlYyxhibM2cO69Kli9y2xo0bxwIDA2XPe/XqxWbOnCl7LpFImL29PYuOjm5Q7oWFhQwAKywsVGqfRSIR27NnDxOJREot1xpQbRSjutSuNdTmz4znzGnefuY4dz87dP1Jg5ZRtS7KHNea1L25CgsLAQCWli/usZ+YmAixWAx/f39ZjLu7Ozp06ICEhAT07t0bCQkJ8PLygo2NjSwmMDAQ06dPx40bN9C9e3ckJCTIraM6JiwsDAAgEomQmJiI+fPny+ZzuVz4+/sjISFBYa6VlZWorKyUPS8qKgIAiMViiMXiBu9zdawyy7QWVBvFqC61a+m1KamsQnhsMqQMGNndHoPd2jZoX1WtizLxTaaZSKVShIWF4fXXX0fXrl0BANnZ2RAIBDA3N5eLtbGxQXZ2tizm5UZSPb96Xl0xRUVFKC8vR35+PiQSicKYW7duKcw3OjoaUVFRNaYfPXoUhoaGDdzrf8THxyu9TGtBtVGM6lK7llqb3+9y8TCfC0shg69eJg4ezFRqeWXrUlZW1uDYJtNMZs6cidTUVJw7d07XqTTI/PnzERERIXteVFQEBwcHBAQEwNTUtMHrEYvFiI+Px5AhQ8Dn8+tfoBWh2ihGdaldS67N8Zu5SEhIBocDfDfxX/BV4lcSVa1L9RmXhmgSzSQ0NBT79+/HmTNn0L59e9l0W1tbiEQiFBQUyH06ycnJga2trSzm1VFX1aO9Xo55dQRYTk4OTE1NYWBgAB6PBx6PpzCmeh2vEgqFEAqFNabz+XyVXsSqLtcaUG0Uo7rUrqXV5llJJT7fmwYAmNrPGX1dbepZQjFl66JMrE5HczHGEBoait27d+PEiRNwcnKSm9+jRw/w+XwcP35cNi09PR2ZmZnw8/MDAPj5+eH69etyo67i4+NhamoKT09PWczL66iOqV6HQCBAjx495GKkUimOHz8uiyGEEF1gjGHezut4XiqCu60J/hPgquuUFNLpJ5OZM2di27Zt2Lt3L0xMTGTXOMzMzGBgYAAzMzNMmTIFERERsLS0hKmpKT755BP4+fmhd+/eAICAgAB4enrivffew/Lly5GdnY2FCxdi5syZsk8OH3/8Mf773/9izpw5+OCDD3DixAnExcXhwIEDslwiIiIQEhKCnj17olevXlizZg1KS0sxefLkxi8MIYT8Le7KQxy7mQMBj4vV43wg1Gv8mzg2iFLjxDQMgMLHpk2bZDHl5eVsxowZzMLCghkaGrKRI0eyrKwsufXcv3+fDRs2jBkYGLC2bduy//znP0wsFsvFnDx5kvn4+DCBQMCcnZ3ltlFt3bp1rEOHDkwgELBevXqxixcvNnhfaGiw5lFtFKO61K6l1ebBs1Lm+cUh5jh3P9tw6o7K62nxQ4MZY/XG6OvrIyYmBjExMbXGODo64uDBg3WuZ8CAAUhKSqozJjQ0FKGhofXmRAgh2iaRMkTEJaNUJEEvJ0t82M9Z1ynVie7NRQghTdAPZ+7iyoN8GAv1sHKMt9Z+u11TqJkQQkgTk/q4EKvj/wIALH6rCxwslf/uWmOjZkIIIU1IhViC8NhkiCUMQ7vYYvRr7XSdUoNQMyGEkCZkxZF03M4tQVtjIb4Z5dU0buLYANRMCCGkiTh/5xn+dy4DALDi391gaSTQcUYNR82EEEKagMJyMWZtTwEATPTtgIHu1jrOSDnUTAghpAmI3JuKrMIKdGxjiM+DPHSdjtKomRBCiI7tS3mCPclPwOUAq8b5wFDQJG6bqBRqJoQQokPZhRVYuCcVABA60AWvdbDQcUaqoWZCCCE6IpUyzN6RgsJyMbzameGTwZ11nZLKqJkQQoiO/HLxAc7efgah3oubOPJ5zfeQ3HwzJ4SQZuxObgmiD90EACwY7gEXa2MdZ6QeaiaEENLIxBIpIuKSUSGWol/ntnivt6OuU1IbNRNCCGlk607cwbVHhTAz4GPFv73BbeI3cWwIaiaEENKIrmbmI+bkHQDA1yO7wtZMX8cZaQY1E0IIaSRloipExCZDImUI9rHHm93sdZ2SxlAzIYSQRvL1gZu4/7wMdmb6iHq7q67T0ShqJoQQ0ghO3srFb5cyAQArx3jDzICv44w0i5oJIYRoWV6pCLN3XAMAfPC6E/q4tNVxRppHzYQQQrSIMYb5u67hWUklOlsbY85QN12npBXUTAghRIt2Xn2MIzdywOdxsHqcD/T5PF2npBXUTAghREse5pVh8R83AABh/q7o2s5MxxlpDzUTQgjRAomU4T/bU1BSWYUejhb4+I1Ouk5Jq6iZEEKIFvzv3D1czsiDkYCH1WN9wGsB33KvCzUTQgjRsJtZRfj2yF8AgEUjPNGhjaGOM9I+aiaEEKJBlVUShMcmQySRwt/DBmN7Oug6pUZBzYQQQjRo1dG/cCu7GG2MBFg62gscTss+vVWNmgkhhGjIxXvP8ePZewCApaO7oa2xUMcZNR5qJoQQogFFFWL8Jy4FjAHj/+WAIZ42uk6pUVEzIYQQDYj6Iw2PC8rhYGmAhW966jqdRkfNhBBC1HToehZ2Xn0ELgdYPdYHxkI9XafU6KiZEEKIGnKLKrBg93UAwMdvdELPjpY6zkg3qJkQQoiKGGOYs/Ma8svE8LQzRZi/q65T0hlqJoQQoqJtlzNxKv0pBHpcrBnvA4Fe6z2ktt49J4QQNWQ8K8WS/TcBAHOHusPVxkTHGekWNRNCCFFSlUSK8NhklIsl6NOpDSb36ajrlHSOmgkhhCjp+1N3kfywACb6evh2jDe4Lfwmjg2h02Zy5swZjBgxAvb29uBwONizZ4/c/EmTJoHD4cg9hg4dKheTl5eHiRMnwtTUFObm5pgyZQpKSkrkYq5du4Z+/fpBX18fDg4OWL58eY1ctm/fDnd3d+jr68PLywsHDx7U+P4SQpq/lIcFWHv8NgBgSXBX2Jsb6DijpkGnzaS0tBTe3t6IiYmpNWbo0KHIysqSPf7v//5Pbv7EiRNx48YNxMfHY//+/Thz5gymTZsmm19UVISAgAA4OjoiMTERK1aswOLFi/Hjjz/KYi5cuIAJEyZgypQpSEpKQnBwMIKDg5Gamqr5nSaENFvlIgnC45IhkTK82c0Ob3nb6zqlJkOn36wZNmwYhg0bVmeMUCiEra2twnk3b97E4cOH8eeff6Jnz54AgHXr1mH48OH49ttvYW9vj99++w0ikQg///wzBAIBunTpguTkZKxatUrWdNauXYuhQ4di9uzZAICvvvoK8fHx+O9//4sNGzZocI8JIc3Z0kM3ce9pKWxMhVgS3LXV3MSxIZr81zRPnToFa2trWFhYYNCgQViyZAnatGkDAEhISIC5ubmskQCAv78/uFwuLl26hJEjRyIhIQH9+/eHQCCQxQQGBmLZsmXIz8+HhYUFEhISEBERIbfdwMDAGqfdXlZZWYnKykrZ86KiIgCAWCyGWCxu8P5VxyqzTGtBtVGM6lI7bdbm7O1n2JLwAAAQPbILjPicZvM3ULUuysQ36WYydOhQjBo1Ck5OTrh79y4WLFiAYcOGISEhATweD9nZ2bC2tpZbRk9PD5aWlsjOzgYAZGdnw8nJSS7GxsZGNs/CwgLZ2dmyaS/HVK9DkejoaERFRdWYfvToURgaKv9DOPHx8Uov01pQbRSjutRO07UpFQNLU3gAOOhnK0XxX5dx8C+NbqJRKFuXsrKyBsc26WYyfvx42b+9vLzQrVs3dOrUCadOncLgwYN1mBkwf/58uU8zRUVFcHBwQEBAAExNTRu8HrFYjPj4eAwZMgR8Pl8bqTZbVBvFqC6100ZtGGP4LPYaisQ5cG5riJipfjAQ8DSy7saial2qz7g0RJNuJq9ydnZG27ZtcefOHQwePBi2trbIzc2Vi6mqqkJeXp7sOoutrS1ycnLkYqqf1xdT27Ua4MW1HKGw5m8V8Pl8lV7Eqi7XGlBtFKO61E6TtdmT9BiHbuRAj8vBmvHdYWqkr5H16oKydVEmVqVmIpVKcfr0aZw9exYPHjxAWVkZrKys0L17d/j7+8PBQTs/U/no0SM8f/4cdnZ2AAA/Pz8UFBQgMTERPXr0AACcOHECUqkUvr6+spjPP/8cYrFYVpj4+Hi4ubnBwsJCFnP8+HGEhYXJthUfHw8/Pz+t7AchpHl4UlCOL/a+GNX56eDO6NbeXLcJNWFKDQ0uLy/HkiVL4ODggOHDh+PQoUMoKCgAj8fDnTt3EBkZCScnJwwfPhwXL16sd30lJSVITk5GcnIyACAjIwPJycnIzMxESUkJZs+ejYsXL+L+/fs4fvw43n77bbi4uCAwMBAA4OHhgaFDh2Lq1Km4fPkyzp8/j9DQUIwfPx729i+G7L3zzjsQCASYMmUKbty4gdjYWKxdu1buFNVnn32Gw4cPY+XKlbh16xYWL16MK1euIDQ0VJnyEEJaEKmUYdb2FBRXVMHHwRwzBnTSdUpNG1NC+/bt2ZgxY9iBAweYSCRSGHP//n32zTffMEdHR/bjjz/Wub6TJ08yADUeISEhrKysjAUEBDArKyvG5/OZo6Mjmzp1KsvOzpZbx/Pnz9mECROYsbExMzU1ZZMnT2bFxcVyMSkpKaxv375MKBSydu3asaVLl9bIJS4ujrm6ujKBQMC6dOnCDhw4oExpWGFhIQPACgsLlVpOJBKxPXv21FrP1oxqoxjVpXaarM1PZ+8xx7n7mfvCQ+ze0xINZKc7qtZFmeOaUqe5jh49Cg8PjzpjHB0dMX/+fMyaNQuZmZl1xg4YMACMsVrnHzlypN6cLC0tsW3btjpjunXrhrNnz9YZM2bMGIwZM6be7RFCWr6/coqx7PAtAMDCNz3g1NZIxxk1fUqd5qqvkbyMz+ejUyf6WEgIaV5EVVKE/Z4MUZUUA92s8E6vDrpOqVlQ63YqZ8+exbvvvgs/Pz88fvwYAPDLL7/g3LlzGkmOEEIa25pjfyEtqwgWhnws+3c3+pZ7A6ncTHbu3InAwEAYGBggKSlJ9m3wwsJCfPPNNxpLkBBCGsuf9/Ow4fRdAED0KC9YmzTfYcCNTeVmsmTJEmzYsAEbN26UG4v8+uuv4+rVqxpJjhBCGktJZRUi4pIhZcDo19pjaFc7XafUrKjcTNLT09G/f/8a083MzFBQUKBOToQQ0ui+2peGh3nlaGdugMi3PHWdTrOjcjOxtbXFnTt3akw/d+4cnJ2d1UqKEEIa09Eb2Yi98hAcDrByrDdM9enOAspSuZlMnToVn332GS5dugQOh4MnT57gt99+w6xZszB9+nRN5kgIIVrztLgS83ddBwBM6+eM3s5tdJxR86TyvbnmzZsHqVSKwYMHo6ysDP3794dQKMSsWbPwySefaDJHQgjRCsYY5u+6huelIrjbmiAiwFXXKTVbKjcTDoeDzz//HLNnz8adO3dQUlICT09PGBsbazI/QgjRmrgrD3HsZi4EPC5Wj/OBUK953Q24KVH7rsECgQCennSxihDSvDx4XoqofWkAgFmBrvCwa/hPR5CaVG4mAwcOrPPLPCdOnFB11YQQolUSKUNEXArKRBL4OlliSl8aNKQulZuJj4+P3HOxWIzk5GSkpqYiJCRE3bwIIURrNpy+i8QH+TAW6mHlWG/wuPQtd3Wp3ExWr16tcPrixYtRUlKickKEEKJNqY8LsTr+xW/uRr3VBe0tlP+ZbVKTWvfmUuTdd9/Fzz//rOnVEkKI2irEEoTHJqNKyjCsqy1GvdZO1ym1GBpvJgkJCdDXp/vZEEKanuWH03E7twRWJkJ8PdKLbuKoQSqf5ho1apTcc8YYsrKycOXKFXzxxRdqJ0YIIZp0/s4z/Hw+AwCw/N/dYGkk0HFGLYvKzcTMzEzuOZfLhZubG7788ksEBASonRghhGhKYZkYs7anAAAm+nbAQDdrHWfU8qjcTDZt2qTJPAghRGsW/ZGKrMIKdGxjiM+DGv4jf6ThNH7NhBBCmpJ9KU+wN/kJeFwOVo/zgaFA7e9qEwWUqqqFhUWDL1jl5eWplBAhhGhKdmEFFu5JBQDMHOiC7h0sdJxRy6VUM1mzZo2W0iCEEM2SShlm70hBYbkY3dqb4ZNBLrpOqUVTqpnQN9sJIc3FLxcf4OztZ9Dnv7iJI59HZ/W1SSMnDysqKiASieSmmZrSTdMIIbpx92kpvjl4EwCwYLgHOlnR3cy1TeVWXVpaitDQUFhbW8PIyAgWFhZyD0II0QWJFJi14zoqq6To72qF93o76jqlVkHlZjJnzhycOHEC69evh1AoxE8//YSoqCjY29tj69atmsyREEIa7MgjLlKfFMHMgI8V/+5G33JvJCqf5tq3bx+2bt2KAQMGYPLkyejXrx9cXFzg6OiI3377DRMnTtRknoQQUq+khwU4+vhF8/hmpBdsTOnWTo1F5U8meXl5cHZ+8RsApqamsqHAffv2xZkzZzSTHSGENFBpZRVm70gFAwdvdbNDUDc7XafUqqjcTJydnZGR8eI+N+7u7oiLiwPw4hOLubm5RpIjhJCG+vrgTTzIK4O5gCHyTXddp9PqqNxMJk+ejJSUF/e6mTdvHmJiYqCvr4/w8HDMnj1bYwkSQkh9TtzKwbZLmQCAiS5SmBrwdZxR66PyNZPw8HDZv/39/XHr1i0kJibCxcUF3bp100hyhBBSn+cllZiz4zoAYHIfR7iyuzrOqHVSuZk8fPgQDg4OsueOjo5wdKQheISQxsMYw4Ld1/GspBKdrY3xH38XHI+nZqILKp/m6tixI9544w1s3LgR+fn5msyJEEIaZOfVxzhyIwd83oubOAr5PF2n1Gqp3EyuXLmCXr164csvv4SdnR2Cg4OxY8cOVFZWajI/QghR6GFeGRb/cQMAED7EFV3bmdWzBNEmlZtJ9+7dsWLFCmRmZuLQoUOwsrLCtGnTYGNjgw8++ECTORJCiByJlOE/cSkoqaxCT0cLfNS/k65TavXUvvMZh8PBwIEDsXHjRhw7dgxOTk7YsmWLJnIjhBCFfjp7D5fv58FIwMOqsT7gcelb7rqmdjN59OgRli9fDh8fH/Tq1QvGxsaIiYnRRG6EEFJD2pMifHs0HQAQOaILOrQx1HFGBFBjNNcPP/yAbdu24fz583B3d8fEiROxd+9eGtFFCNGaCrEEEXHJEEsYhnjaYEzP9rpOifxN5U8mS5Ysga+vLxITE5Gamor58+cr3UjOnDmDESNGwN7eHhwOB3v27JGbzxjDokWLYGdnBwMDA/j7++P27dtyMXl5eZg4cSJMTU1hbm6OKVOmoKSkRC7m2rVr6NevH/T19eHg4IDly5fXyGX79u1wd3eHvr4+vLy8cPDgQaX2hRCifavi/8Kt7GK0NRYgepQX3cSxCVG5mWRmZmL58uXw9vZWeeOlpaXw9vau9bTY8uXL8d1332HDhg24dOkSjIyMEBgYiIqKClnMxIkTcePGDcTHx2P//v04c+YMpk2bJptfVFSEgIAAODo6IjExEStWrMDixYvx448/ymIuXLiACRMmYMqUKUhKSkJwcDCCg4ORmpqq8r4RQjQr4e5zbDx7DwAQPaob2hoLdZwRkcOaCABs9+7dsudSqZTZ2tqyFStWyKYVFBQwoVDI/u///o8xxlhaWhoDwP78809ZzKFDhxiHw2GPHz9mjDH2/fffMwsLC1ZZWSmLmTt3LnNzc5M9Hzt2LAsKCpLLx9fXl3300UcNzr+wsJABYIWFhQ1ehjHGRCIR27NnDxOJREot1xpQbRRrjXUpLBexPtHHmePc/WzujpRa41pjbRpC1booc1zTyC8tvszDwwN//fUXJBKJWuvJyMhAdnY2/P39ZdPMzMzg6+uLhIQEjB8/HgkJCTA3N0fPnj1lMf7+/uByubh06RJGjhyJhIQE9O/fHwKBQBYTGBiIZcuWIT8/HxYWFkhISEBERITc9gMDA2ucdntZZWWl3HdqioqKAABisRhisbjB+1kdq8wyrQXVRrHWWJfIPdfxuKAcDhYGmBvYudZ9b421aQhV66JMvMabSXR0NAoLC9VeT3Z2NgDAxsZGbrqNjY1sXnZ2NqytreXm6+npwdLSUi7Gycmpxjqq51lYWCA7O7vO7SgSHR2NqKioGtOPHj0KQ0PlR5fEx8crvUxrQbVRrLXUJfk5B7v/4oEDhlH2xThz/Gi9y7SW2ihL2bqUlZU1OFbjzSQ4OFjTq2yS5s+fL/dppqioCA4ODggICICpqWmD1yMWixEfH48hQ4aAz6c7nb6MaqNYa6pLbnElFv/3AgAxPu7vjNAhneuMb021UYaqdak+49IQKjeTQYMGYdeuXTV+u6SoqAjBwcE4ceKEqqsGANja2gIAcnJyYGf3z4/c5OTkwMfHRxaTm5srt1xVVRXy8vJky9va2iInJ0cupvp5fTHV8xURCoUQCmteAOTz+Sq9iFVdrjWg2ijW0uvCGMPne5OQXyZGF3tThAe4g6/XsDFDLb02qlK2LsrEqjya69SpUxCJRDWmV1RU4OzZs6quVsbJyQm2trY4fvy4bFpRUREuXboEPz8/AICfnx8KCgqQmJgoizlx4gSkUil8fX1lMWfOnJE79xcfHw83NzdYWFjIYl7eTnVM9XYIIY3vt0uZOJX+FAI9LtaM84GggY2E6IbSn0yuXbsm+3daWprcdQWJRILDhw+jXbt2DVpXSUkJ7ty5I3uekZGB5ORkWFpaokOHDggLC8OSJUvQuXNnODk54YsvvoC9vb3sVJqHhweGDh2KqVOnYsOGDRCLxQgNDcX48eNhb28PAHjnnXcQFRWFKVOmYO7cuUhNTcXatWuxevVq2XY/++wzvPHGG1i5ciWCgoLw+++/48qVK3LDhwkhjefe0xJ8feAmAGDeUHd0tjHRcUakXsoOMeNwOIzL5TIul8s4HE6Nh6GhIfvf//7XoHWdPHmSAajxCAkJYYy9GB78xRdfMBsbGyYUCtngwYNZenq63DqeP3/OJkyYwIyNjZmpqSmbPHkyKy4ulotJSUlhffv2ZUKhkLVr144tXbq0Ri5xcXHM1dWVCQQC1qVLF3bgwAGl6kJDgzWPaqNYS6+LuErC3vrvOeY4dz97Z2MCk0ikDV62pddGVU1yaHBGRgYYY3B2dsbly5dhZWUlmycQCGBtbQ0er2G/KTBgwAAwxmqdz+Fw8OWXX+LLL7+sNcbS0hLbtm2rczvdunWr99TbmDFjMGbMmLoTJoRoXczJu0h5WABTfT18O8YbXLqJY7OgdDOpvmWKVCrVeDKEkNYt5WEBvjvx4pZJXwV3hZ2ZgY4zIg2l1BWtixcvNji2rKwMN27cUDohQkjrVC6SIDw2GRIpw5vd7PCWt72uUyJKUKqZvPfeewgMDMT27dtRWlqqMCYtLQ0LFixAp06d5EZZEUJIXaIP3cS9Z6WwMRViSXBXuoljM6PUaa60tDSsX78eCxcuxDvvvANXV1fY29tDX18f+fn5uHXrFkpKSjBy5EgcPXoUXl5e2sqbENKCnErPxdaEBwCAb8d4w9xQUM8SpKlRqpnw+Xx8+umn+PTTT3HlyhWcO3cODx48QHl5Oby9vREeHo6BAwfC0tJSW/kSQlqY/FIR5ux48ZWDSX06ol9nq3qWIE2Ryt+A79mzp9wNFgkhRFmMMSzck4rc4kp0sjLC3KHuuk6JqIi+UkoI0Zm9yU9w4HoW9LgcrB7nAwNBw75WQJoelZtJTk4O3nvvPdjb20NPTw88Hk/uQQghdXlcUI4v9r74AbrPBndGt/bmuk2IqEXl01yTJk1CZmYmvvjiC9jZ2dHIC0JIg0mlDLPiUlBcUYXuHcwxfUAnXadE1KRyMzl37hzOnj0ru4MvIYQ01M/nM5Bw7zkM+DysHusDPR6dcW/uVP4LOjg41HkrFEIIUSQ9uxjLj6QDAL540xMd2xrpOCOiCSo3kzVr1mDevHm4f/++BtMhhLRklVUShMUmQ1QlxSB3a0zo5aDrlIiGqHyaa9y4cSgrK0OnTp1gaGhY40dU8vLy1E6OENKyrDl2GzezimBhyMfS0V50rbUFUbmZrFmzRoNpEEJauj/v52HD6bsAgOhRXrA20ddxRkSTVG4mISEhmsyDENKCFVeIER6bDMaAf/doj6Fd7epfiDQrag2huHv3LhYuXIgJEybIfov90KFDdLdgQoicr/an4VF+OdqZGyByhKeu0yFaoHIzOX36NLy8vHDp0iXs2rULJSUlAICUlBRERkZqLEFCSPN29EY24q48AocDrBrrDRN9fv0LkWZH5WYyb948LFmyBPHx8RAI/rnD56BBg5T63RNCSMv1tLgS83ddBwBM6+8MX+c2Os6IaIvKzeT69esYOXJkjenW1tZ49uyZWkkRQpo/xhjm77qG56UiuNuaIGKIq65TIlqkcjMxNzdHVlZWjelJSUlo166dWkkRQpq/2D8f4tjNXAh4XKwZ7wOhHt2zryVTuZmMHz8ec+fORXZ2NjgcDqRSKc6fP49Zs2bh/fff12SOhJBm5sHzUny5Pw0AMDvQDe62pjrOiGibys3km2++gbu7OxwcHFBSUgJPT0/069cPffr0wcKFCzWZIyGkGamSSBEem4wykQS9nS0xpa+TrlMijUDl75kIBAJs3LgRixYtwvXr11FSUoLu3bujc+fOmsyPENLM/HDmHq5mFsBEqIdvx3iDy6VvubcGSjWTiIiIOue/PIpr1apVqmVECGm2Uh8XYnX8XwCAxW91QXsLQx1nRBqLUs0kKSmpQXF0vx1CWp8K8YubOFZJGYZ1tcWo12ggTmuiVDM5efKktvIghDRzyw7fwp3cEliZCPH1SLqJY2tDv0hDCFHbudvPsOn8fQDA8n93g6WRoO4FSItDzYQQopbCMjFm70gBALzbuwMGulnrOCOiC9RMCCFqWfRHKrIKK+DU1ggLhnvoOh2iI9RMCCEq+yPlCfYmPwGPy8Gqsd4wFKj8bQPSzFEzIYSoJLuwAgt3v7iJY+hAF3TvYKHjjIguUTMhhChNKmWYvSMFRRVV8G5vhtBBLrpOiegYNRNCiNK2JtzH2dvPoM/nYtU4H/B5dChp7egVQAhRyp3cYkQfugUA+Hy4BzpZGes4I9IUUDMhhDSYqEqKsNhkVFZJ0d/VCu/2dtR1SqSJoGZCCGmwdSduI/VxEcwM+Fjx7270LXciQ82EENIgiQ/yEXPyDgDgm5FesDHV13FGpClp0s1k8eLF4HA4cg93d3fZ/IqKCsycORNt2rSBsbExRo8ejZycHLl1ZGZmIigoCIaGhrC2tsbs2bNRVVUlF3Pq1Cm89tprEAqFcHFxwebNmxtj9whpNkorqxARlwwpA0Z2b4egbna6Tok0MU26mQBAly5dkJWVJXucO3dONi88PBz79u3D9u3bcfr0aTx58gSjRo2SzZdIJAgKCoJIJMKFCxewZcsWbN68GYsWLZLFZGRkICgoCAMHDkRycjLCwsLw4Ycf4siRI426n4Q0ZV8fvIkHz8tgb6aPxW910XU6pAlq8l9X1dPTg62tbY3phYWF+N///odt27Zh0KBBAIBNmzbBw8MDFy9eRO/evXH06FGkpaXh2LFjsLGxgY+PD7766ivMnTsXixcvhkAgwIYNG+Dk5ISVK1cCADw8PHDu3DmsXr0agYGBjbqvhDRFJ27lYNulTADAt2O9YWbA13FGpClq8s3k9u3bsLe3h76+Pvz8/BAdHY0OHTogMTERYrEY/v7+slh3d3d06NABCQkJ6N27NxISEuDl5QUbGxtZTGBgIKZPn44bN26ge/fuSEhIkFtHdUxYWFideVVWVqKyslL2vKioCAAgFoshFosbvH/Vscos01pQbRRrzLo8LxVhzo5rAIAP+jjiXx3MmvTfg14ziqlaF2Xim3Qz8fX1xebNm+Hm5oasrCxERUWhX79+SE1NRXZ2NgQCAczNzeWWsbGxQXZ2NgAgOztbrpFUz6+eV1dMUVERysvLYWBgoDC36OhoREVF1Zh+9OhRGBoq/+ty8fHxSi/TWlBtFNN2XRgD/pfOxbMSLmwNGDwld3Hw4F2tblNT6DWjmLJ1KSsra3Bsk24mw4YNk/27W7du8PX1haOjI+Li4mo9yDeW+fPny/2McVFRERwcHBAQEABTU9MGr0csFiM+Ph5DhgwBn0+nD15GtVGsseqy8+pjXL94A3weBz9M7g1Pu4a/rnWFXjOKqVqX6jMuDdGkm8mrzM3N4erqijt37mDIkCEQiUQoKCiQ+3SSk5Mju8Zia2uLy5cvy62jerTXyzGvjgDLycmBqalpnQ1LKBRCKBTWmM7n81V6Eau6XGtAtVFMm3V5mFeGJQfTAQARQ9zg3aGNVrajLfSaUUzZuigT2+RHc72spKQEd+/ehZ2dHXr06AE+n4/jx4/L5qenpyMzMxN+fn4AAD8/P1y/fh25ubmymPj4eJiamsLT01MW8/I6qmOq10FIayORMvwnLgUllVX4V0cLTOvvrOuUSDPQpJvJrFmzcPr0ady/fx8XLlzAyJEjwePxMGHCBJiZmWHKlCmIiIjAyZMnkZiYiMmTJ8PPzw+9e/cGAAQEBMDT0xPvvfceUlJScOTIESxcuBAzZ86Ufar4+OOPce/ePcyZMwe3bt3C999/j7i4OISHh+ty1wnRmY1n7+Hy/TwYCXhYNdYHPC59y53Ur0mf5nr06BEmTJiA58+fw8rKCn379sXFixdhZWUFAFi9ejW4XC5Gjx6NyspKBAYG4vvvv5ctz+PxsH//fkyfPh1+fn4wMjJCSEgIvvzyS1mMk5MTDhw4gPDwcKxduxbt27fHTz/9RMOCSauU9qQIK4++OL0VOaILHCyVH0xCWqcm3Ux+//33Oufr6+sjJiYGMTExtcY4Ojri4MGDda5nwIABSEpKUilHQlqKCrEE4bHJEEsYhnjaYEzP9rpOiTQjTfo0FyGk8aw8mo70nGK0NRYgepQX3cSRKIWaCSEECXef46dzGQCApaO6oa1xzZGKhNSFmgkhrVxRhRiztqeAMWBCLwf4e9rUvxAhr6BmQkgrt/iPG3hcUI4OloZYGOSp63RIM0XNhJBW7OD1LOy6+hhcDrB6nDeMhE16TA5pwqiZENJK5RZVYMHu6wCAGQNc0MPRUscZkeaMmgkhrRBjDLN3XENBmRhd25ni08GddZ0SaeaomRDSCv16KROn/3oKoR4Xq8f6QKBHhwKiHnoFEdLK3Htagq8PpAEA5g51R2cbEx1nRFoCaiaEtCJiiRThscmoEEvxuksbTOrTUdcpkRaCmgkhrUjMyTtIeVQIU309fDvGG1y6iSPREGomhLQSyQ8LsO7EHQDAV8FdYWem2x+YIy0LNRNCWoFykQQRscmQSBlGeNvjbZ92uk6JtDDUTAhpBaIP3cS9Z6WwNdXHV2930XU6pAWiZkJIC3cqPRdbEx4AAFaM6QZzQ4GOMyItETUTQlqw/FIR5uy4BgCY1Kcj+nW20nFGpKWiZkJIC8UYw+d7riO3uBKdrIwwb5i7rlMiLRg1E0JaqD3Jj3Hwejb0uBysGdcd+nyerlMiLRg1E0JaoMcF5Vi05wYAIMy/M7zam+k4I9LSUTMhpIWRShn+E5eM4soqdO9gjo/f6KTrlEgrQM2EkBbm5/MZuHgvDwZ8HlaP9YEej/43J9pHrzJCWpD07GIsP5wOAPjiTU90bGuk44xIa0HNhJAWorJKgrDYZIgkUgxyt8aEXg66Tom0ItRMCGkhVsffxs2sIlgaCbB0tBc4HLqJI2k81EwIaQH+vJ+HH87cBQB8M9IL1ib6Os6ItDbUTAhp5oorxAiPTQZjwJge7TG0q62uUyKtEDUTQpq5r/an4VF+OdpbGGDRCE9dp0NaKWomhDRjR25kI+7KI3A4wKqxPjDR5+s6JdJK6ek6AUJIw0mkDJcy8pD4jAO9tBws3Pvit9w/6t8JvZwsdZwdac2omRDSTBxOzULUvjRkFVYA4GHr7RQAQDtzA4QP6azb5EirR6e5CGkGDqdmYfqvV/9uJPIeF5Tj5K1cHWRFyD+omRDSxEmkDFH70sBqmc8BELUvDRJpbRGEaB+d5iJEyyRShlJRFUorXzxKKiUoraxCccXf00RVKKmsni+pMf1pcYXCTyTVGICswgpczsiDX6c2jbdjhLyEmgkhr2CMobJKKju4l7x0YC+pqG4IL+YpnC56abnKKpSJJI2Sd25x7Q2HEG2jZkJaBKns3b/kpXf5fx/oX/lEUKJg3stNo7SyCmKJ5k8Z6XE5MBLqwVioByMh7+//6r3yXx6MhXwYC3kw+nt65vMyfH3wZr3rp2+9E12iZqJDLw/zbJORBz8Xa/C4red+SqIqqdyB/eV3/CWVYhSWiZD8iIPrR/5CuVj6SgOQbwylWnr3b8Dn/X2g58kO+NUH/9qm/zOfJzddqMdV6X5ZEinDz+czkF1YofC6CQeArZk+DQ0mOkXNREdqDvO8AjszfUSO8MTQrna6Tk8hxhjKRJJX3u3/c2AvfuUTgewaQC3TRRJpA7bKAx7eb3COPC4HRgLeKwf8lw/0vFqmv/JpQV8PRgK9JtHceVwOIkd4YvqvV8EB5BpKdXaRIzybRK6k9aJm8oqYmBisWLEC2dnZ8Pb2xrp169CrVy+NbqN6mOer7zKzCysw/derWP/uaxprKGKJ9J+LvaKap3tk5/pF8qd7SipqXhguFVWBaWHAkD6f+8/BX/DPgd1QwENezhN4uDjBxEAgd6A3FvJgJJD/JGCir/q7/6ZuaFc7rH/3tZfegLxg28TfgJDWg5rJS2JjYxEREYENGzbA19cXa9asQWBgINLT02Ftba2RbdQ1zJPhxTvNxX+kwbu9OcrFEvlrADUu9krkGkFJRc0LwKKqhrz7Vw6Xg1dO5/xzcH9xoH/pIC/gyQ70RsJXrhEIXjSN2n4JUCwW4+DBRxg+zA18Pt0mZGhXOwzxtEXCnVwcPXsJAf18W92pUdJ0UTN5yapVqzB16lRMnjwZALBhwwYcOHAAP//8M+bNmycXW1lZicrKStnzoqIiAC8OgGKxuNZtXMrIq3eYZ3ZRBfyWnlBjT2oS6HFfeTdf/e+XTgkJeLJz/dWN4Z9TRv/EG/B5Gnv3z6QSiKWKr3dU17GuerZGr7U3wfO2DK+1N4FUUoVaytcq0WtGMVXrokw8hzFtnLhofkQiEQwNDbFjxw4EBwfLpoeEhKCgoAB79+6Vi1+8eDGioqJqrGfbtm0wNDSsdTuJzzjYepvXgIwYhDxA/++HkAsIeezFv6un8QB93os4RdOql9PnAfQz4IQQZZWVleGdd95BYWEhTE1N64ylTyZ/e/bsGSQSCWxsbOSm29jY4NatWzXi58+fj4iICNnzoqIiODg4ICAgoM6it8nIw9bbV+rNZ+uknq3+C2hisRjx8fEYMmQIneZ6CdWldlQbxVStS/UZl4agZqIioVAIoVBYYzqfz6/zj+XnYg07M/16h3m+7mpD58L/Vl9NWyuqS+2oNoopWxdlYunkx9/atm0LHo+HnJwcuek5OTmwtdXcL9dVD/ME/hnWWY2GeRJCmitqJn8TCATo0aMHjh8/LpsmlUpx/Phx+Pn5aXRb1cM8bc3kv7Fsa6av0WHBhBDSWOg010siIiIQEhKCnj17olevXlizZg1KS0tlo7s0iYZ5EkJaEmomLxk3bhyePn2KRYsWITs7Gz4+Pjh8+HCNi/KawuNy4Otkiec3GXydLKmREEKaLWomrwgNDUVoaKiu0yCEkGaFrpkQQghRGzUTQgghaqPTXBpSfSMBZb7kA7z4MlFZWRmKiopoXPwrqDaKUV1qR7VRTNW6VB/PGnKjFGomGlJcXAwAcHBw0HEmhBCiWcXFxTAzM6szhu7NpSFSqRRPnjyBiYmJUjdBrL4Ny8OHD+u9901rQ7VRjOpSO6qNYqrWhTGG4uJi2Nvbg8ut+6oIfTLREC6Xi/bt26u8vKmpKb34a0G1UYzqUjuqjWKq1KW+TyTV6AI8IYQQtVEzIYQQojZqJjomFAoRGRmp8A7ErR3VRjGqS+2oNoo1Rl3oAjwhhBC10ScTQgghaqNmQgghRG3UTAghhKiNmgkhhBC1UTNpBDExMejYsSP09fXh6+uLy5cv1xm/fft2uLu7Q19fH15eXjh48GAjZdr4lKnN5s2bweFw5B76+vq1xjdXZ86cwYgRI2Bvbw8Oh4M9e/bUu8ypU6fw2muvQSgUwsXFBZs3b9Z6no1N2bqcOnWqxuuFw+EgOzu7cRJuJNHR0fjXv/4FExMTWFtbIzg4GOnp6fUup+njDDUTLYuNjUVERAQiIyNx9epVeHt7IzAwELm5uQrjL1y4gAkTJmDKlClISkpCcHAwgoODkZqa2siZa5+ytQFefIM3KytL9njw4EEjZtw4SktL4e3tjZiYmAbFZ2RkICgoCAMHDkRycjLCwsLw4Ycf4siRI1rOtHEpW5dq6enpcq8Za2trLWWoG6dPn8bMmTNx8eJFxMfHQywWIyAgAKWlpbUuo5XjDCNa1atXLzZz5kzZc4lEwuzt7Vl0dLTC+LFjx7KgoCC5ab6+vuyjjz7Sap66oGxtNm3axMzMzBopu6YBANu9e3edMXPmzGFdunSRmzZu3DgWGBioxcx0qyF1OXnyJAPA8vPzGyWnpiI3N5cBYKdPn641RhvHGfpkokUikQiJiYnw9/eXTeNyufD390dCQoLCZRISEuTiASAwMLDW+OZKldoAQElJCRwdHeHg4IC3334bN27caIx0m7TW8ppRlY+PD+zs7DBkyBCcP39e1+loXWFhIQDA0tKy1hhtvGaomWjRs2fPIJFIavyGvI2NTa3nbbOzs5WKb65UqY2bmxt+/vln7N27F7/++iukUin69OmDR48eNUbKTVZtr5mioiKUl5frKCvds7Ozw4YNG7Bz507s3LkTDg4OGDBgAK5evarr1LRGKpUiLCwMr7/+Orp27VprnDaOM3TXYNJs+Pn5wc/PT/a8T58+8PDwwA8//ICvvvpKh5mRpsjNzQ1ubm6y53369MHdu3exevVq/PLLLzrMTHtmzpyJ1NRUnDt3rtG3TZ9MtKht27bg8XjIycmRm56TkwNbW1uFy9ja2ioV31ypUptX8fl8dO/eHXfu3NFGis1Gba8ZU1NTGBgY6CirpqlXr14t9vUSGhqK/fv34+TJk/X+HIY2jjPUTLRIIBCgR48eOH78uGyaVCrF8ePH5d5hv8zPz08uHgDi4+NrjW+uVKnNqyQSCa5fvw47OzttpdkstJbXjCYkJye3uNcLYwyhoaHYvXs3Tpw4AScnp3qX0cprRuVL96RBfv/9dyYUCtnmzZtZWloamzZtGjM3N2fZ2dmMMcbee+89Nm/ePFn8+fPnmZ6eHvv222/ZzZs3WWRkJOPz+ez69eu62gWtUbY2UVFR7MiRI+zu3bssMTGRjR8/nunr67MbN27oahe0ori4mCUlJbGkpCQGgK1atYolJSWxBw8eMMYYmzdvHnvvvfdk8ffu3WOGhoZs9uzZ7ObNmywmJobxeDx2+PBhXe2CVihbl9WrV7M9e/aw27dvs+vXr7PPPvuMcblcduzYMV3tglZMnz6dmZmZsVOnTrGsrCzZo6ysTBbTGMcZaiaNYN26daxDhw5MIBCwXr16sYsXL8rmvfHGGywkJEQuPi4ujrm6ujKBQMC6dOnCDhw40MgZNx5lahMWFiaLtbGxYcOHD2dXr17VQdbaVT2k9dVHdS1CQkLYG2+8UWMZHx8fJhAImLOzM9u0aVOj561tytZl2bJlrFOnTkxfX59ZWlqyAQMGsBMnTugmeS1SVBMAcq+BxjjO0C3oCSGEqI2umRBCCFEbNRNCCCFqo2ZCCCFEbdRMCCGEqI2aCSGEELVRMyGEEKI2aiaEEELURs2EEEKI2qiZENICbN68Gebm5rpOg7Ri1EwIIYSojZoJIYQQtVEzIURLduzYAS8vLxgYGKBNmzbw9/dHaWmpXIxUKkX79u2xfv16uelJSUngcrl48OABAGDVqlXw8vKCkZERHBwcMGPGDJSUlNS67UmTJiE4OFhuWlhYGAYMGCC37ejoaDg5OcHAwADe3t7YsWOHejtNWi1qJoRoQVZWFiZMmIAPPvgAN2/exKlTpzBq1Ci8el9VLpeLCRMmYNu2bXLTf/vtN7z++utwdHSUxX333Xe4ceMGtmzZghMnTmDOnDlq5RgdHY2tW7diw4YNuHHjBsLDw/Huu+/i9OnTaq2XtFJq3XOYEKJQYmIiA8Du379fb2xSUhLjcDiy3+WQSCSsXbt2bP369bUus337dtamTRvZ802bNjEzMzPZ85CQEPb222/LLfPZZ5/JbtFeUVHBDA0N2YULF+RipkyZwiZMmFBvzoS8ij6ZEKIF3t7eGDx4MLy8vDBmzBhs3LgR+fn5CmN9fHzg4eEh+3Ry+vRp5ObmYsyYMbKYY8eOYfDgwWjXrh1MTEzw3nvv4fnz5ygrK1Mpvzt37qCsrAxDhgyBsbGx7LF161bcvXtXpXWS1o2aCSFawOPxEB8fj0OHDsHT0xPr1q2Dm5sbMjIyFMZPnDhR1ky2bduGoUOHok2bNgCA+/fv480330S3bt2wc+dOJCYmIiYmBgAgEokUro/L5dY4pSYWi2X/rr7ecuDAASQnJ8seaWlpdN2EqISaCSFawuFw8PrrryMqKgpJSUkQCATYvXu3wth33nkHqampSExMxI4dOzBx4kTZvMTEREilUqxcuRK9e/eGq6srnjx5Uue2rayskJWVJTctOTlZ9m9PT08IhUJkZmbCxcVF7uHg4KD6TpNWi5oJIVpw6dIlfPPNN7hy5QoyMzOxa9cuPH36FB4eHti9ezfc3d3l4jt27Ig+ffpgypQpkEgkeOutt2TzXFxcIBaLsW7dOty7dw+//PILNmzYUOf2Bw0ahCtXrmDr1q24ffs2IiMjkZqaKptvYmKCWbNmITw8HFu2bMHdu3dx9epVrFu3Dlu2bNFsMUjroOuLNoS0RGlpaSwwMJBZWVkxoVDIXF1d2bp16xhjLy6WK/pf7/vvv2cA2Pvvv19j3qpVq5idnR0zMDBggYGBbOvWrQwAy8/Pl63z5QvwjDG2aNEiZmNjw8zMzFh4eDgLDQ2V+410qVTK1qxZw9zc3Bifz2dWVlYsMDCQnT59WmN1IK0H/QY8IYQQtdFpLkIIIWqjZkIIIURt1EwIIYSojZoJIYQQtVEzIYQQojZqJoQQQtRGzYQQQojaqJkQQghRGzUTQgghaqNmQgghRG3UTAghhKjt/wHembxJ9xI46AAAAABJRU5ErkJggg==",
          "text/plain": "<Figure size 400x300 with 1 Axes>"
         },
         "metadata": {},
         "output_type": "display_data"
        }
       ]
      }
     },
     "7a905af845c3433da3082ec9198f6b30": {
      "model_module": "@jupyter-widgets/output",
      "model_module_version": "1.0.0",
      "model_name": "OutputModel",
      "state": {
       "_dom_classes": [
        "mljar-column"
       ],
       "layout": "IPY_MODEL_83bf62a881364751bb845db389022c30",
       "outputs": [
        {
         "data": {
          "image/png": "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",
          "text/plain": "<Figure size 400x300 with 1 Axes>"
         },
         "metadata": {},
         "output_type": "display_data"
        }
       ]
      }
     },
     "83bf62a881364751bb845db389022c30": {
      "model_module": "@jupyter-widgets/base",
      "model_module_version": "2.0.0",
      "model_name": "LayoutModel",
      "state": {
       "border_bottom": "1px solid #cccccc",
       "border_left": "1px solid #cccccc",
       "border_right": "1px solid #cccccc",
       "border_top": "1px solid #cccccc",
       "flex": "1 1 0px",
       "min_width": "240px",
       "padding": "4px"
      }
     },
     "a141f31dfab34015b53a8a8b284ce07a": {
      "model_module": "@jupyter-widgets/base",
      "model_module_version": "2.0.0",
      "model_name": "LayoutModel",
      "state": {
       "align_items": "stretch",
       "display": "flex",
       "flex_flow": "row wrap",
       "width": "100%"
      }
     },
     "df73a399d3484fe79c58ca1fc531145c": {
      "model_module": "@jupyter-widgets/base",
      "model_module_version": "2.0.0",
      "model_name": "LayoutModel",
      "state": {}
     },
     "e3d5bce66c3149b982be160732574538": {
      "model_module": "anywidget",
      "model_module_version": "~0.9.*",
      "model_name": "AnyModel",
      "state": {
       "_anywidget_id": "widgets.text.TextInputWidget",
       "_css": "\n    .mljar-textinput-container {\n        display: flex;\n        flex-direction: column;\n        align-items: flex-start;\n        width: 100%;\n        min-width: 120px;\n        font-family: Arial, sans-serif;\n        font-size: 12px;\n        font-weight: normal;\n        color: #222222;\n\n    }\n\n    .mljar-textinput-top-label {\n        margin-bottom: 6px;\n        text-align: left;\n        width: 100%;\n        font-weight: bold;\n    }\n\n    .mljar-textinput-input {\n        width: 100%;\n        border: 1px solid #cccccc;\n        border-radius: 4px;\n        padding: 6px 10px;\n        min-height: 1.6em;\n        box-sizing: border-box;\n        background: #ebf0fa;\n        color: #222222;\n    }\n\n    .mljar-textinput-input:focus {\n        outline: none;\n        border-color: #007bff;\n    }\n    ",
       "_esm": "\n    function render({ model, el }) {\n      // Container\n      let container = document.createElement(\"div\");\n      container.classList.add(\"mljar-textinput-container\");\n\n      // Label\n      let topLabel = document.createElement(\"div\");\n      topLabel.classList.add(\"mljar-textinput-top-label\");\n      topLabel.innerHTML = model.get(\"label\") || \"Enter text\";\n\n      // Input\n      let input = document.createElement(\"input\");\n      input.type = \"text\";\n      input.value = model.get(\"value\");\n      input.classList.add(\"mljar-textinput-input\");\n\n      let debounceTimer = null;\n      input.addEventListener(\"input\", () => {\n        model.set(\"value\", input.value);\n        if (debounceTimer) clearTimeout(debounceTimer);\n        debounceTimer = setTimeout(() => model.save_changes(), 100);\n      });\n\n      model.on(\"change:value\", () => {\n        input.value = model.get(\"value\");\n      });\n\n      // Build\n      container.appendChild(topLabel);\n      container.appendChild(input);\n      el.appendChild(container);\n\n      const css = model.get(\"custom_css\");\n      if (css && css.trim().length > 0) {\n        let styleTag = document.createElement(\"style\");\n        styleTag.textContent = css;\n        el.appendChild(styleTag);\n      }\n\n      // ---- read cell id (no DOM modifications) ----\n      const ID_ATTR = 'data-cell-id';\n      const hostWithId = el.closest(`[${ID_ATTR}]`);\n      const cellId = hostWithId ? hostWithId.getAttribute(ID_ATTR) : null;\n\n      if (cellId) {\n        model.set('cell_id', cellId);\n        model.save_changes();\n        model.send({ type: 'cell_id_detected', value: cellId });\n      } else {\n        // handle case where the attribute appears slightly later\n        const mo = new MutationObserver(() => {\n          const host = el.closest(`[${ID_ATTR}]`);\n          const newId = host?.getAttribute(ID_ATTR);\n          if (newId) {\n            model.set('cell_id', newId);\n            model.save_changes();\n            model.send({ type: 'cell_id_detected', value: newId });\n            mo.disconnect();\n          }\n        });\n        mo.observe(document.body, { attributes: true, subtree: true, attributeFilter: [ID_ATTR] });\n      }\n    }\n    export default { render };\n    ",
       "_model_module": "anywidget",
       "_model_module_version": "~0.9.*",
       "_model_name": "AnyModel",
       "_view_module": "anywidget",
       "_view_module_version": "~0.9.*",
       "_view_name": "AnyView",
       "cell_id": "bd663f4a-670c-4781-8c5b-75cf94c3f36c",
       "custom_css": "",
       "label": "aaaa",
       "layout": "IPY_MODEL_eb3e9178d1514c5b945a6ae9f9dcc031",
       "position": "sidebar",
       "value": "sdfdsfasdfasdfasdfasdfsdfdff"
      }
     },
     "eb3e9178d1514c5b945a6ae9f9dcc031": {
      "model_module": "@jupyter-widgets/base",
      "model_module_version": "2.0.0",
      "model_name": "LayoutModel",
      "state": {}
     },
     "fa547722e7ca48e685d6b3b1c703f87a": {
      "model_module": "anywidget",
      "model_module_version": "~0.9.*",
      "model_name": "AnyModel",
      "state": {
       "_anywidget_id": "widgets.slider.SliderWidget",
       "_css": "\n    .mljar-slider-container {\n        display: flex;\n        flex-direction: column;\n        align-items: flex-start;\n        width: 100%;\n        min-width: 120px;\n        font-family: Arial, sans-serif;\n        font-size: 12px;\n        font-weight: normal;\n        color: #222222;\n    }\n\n    .mljar-slider-top-label {\n        margin-bottom: 6px;\n        font-weight: bold;\n    }\n\n    .mljar-slider-row {\n        display: flex;\n        flex-direction: row;\n        align-items: center;\n        width: 100%;\n        overflow: hidden;\n    }\n\n    .mljar-slider-input {\n        flex: 1 1 auto;\n        min-width: 60px;\n        max-width: 100%;\n        margin-right: 16px;\n        background: transparent;\n        -webkit-appearance: none;\n        appearance: none;\n        border: none;\n        height: 24px; /* big enough for thumb */\n        padding: 0;\n    }\n\n    .mljar-slider-input:focus {\n        outline: none;\n    }\n\n    /* Track */\n    .mljar-slider-input::-webkit-slider-runnable-track {\n        height: 6px;\n        background: #e0e0e0;\n        border-radius: 4px;\n        margin: auto; /* center track in the input box */\n    }\n    .mljar-slider-input::-moz-range-track {\n        height: 6px;\n        background: #e0e0e0;\n        border-radius: 4px;\n    }\n\n    /* Thumb */\n    .mljar-slider-input::-webkit-slider-thumb {\n        -webkit-appearance: none;\n        appearance: none;\n        width: 16px;\n        height: 16px;\n        border-radius: 50%;\n        background: #007bff;\n        cursor: pointer;\n        margin-top: -5px; /* centers thumb on track */\n    }\n    .mljar-slider-input::-moz-range-thumb {\n        width: 16px;\n        height: 16px;\n        border-radius: 50%;\n        background: #007bff;\n        cursor: pointer;\n    }\n\n    .mljar-slider-value-label {\n        font-weight: bold;\n        font-size: 1.1em;\n        color: #222222;\n        margin-left: 8px;\n    }\n    ",
       "_esm": "\nfunction render({ model, el }) {\n  // Your existing UI creation code (unchanged) ...\n  const container = document.createElement(\"div\");\n  container.classList.add(\"mljar-slider-container\");\n\n  const topLabel = document.createElement(\"div\");\n  topLabel.classList.add(\"mljar-slider-top-label\");\n  topLabel.innerHTML = model.get(\"label\") || \"Select number\";\n\n  const sliderRow = document.createElement(\"div\");\n  sliderRow.classList.add(\"mljar-slider-row\");\n\n  const slider = document.createElement(\"input\");\n  slider.type = \"range\";\n  slider.min = model.get(\"min\");\n  slider.max = model.get(\"max\");\n  slider.value = model.get(\"value\");\n  slider.classList.add(\"mljar-slider-input\");\n\n  const valueLabel = document.createElement(\"span\");\n  valueLabel.classList.add(\"mljar-slider-value-label\");\n  valueLabel.innerHTML = model.get(\"value\");\n\n  let debounceTimer = null;\n  slider.addEventListener(\"input\", () => {\n    model.set(\"value\", Number(slider.value));\n    if (debounceTimer) clearTimeout(debounceTimer);\n    debounceTimer = setTimeout(() => model.save_changes(), 100);\n  });\n\n  model.on(\"change:value\", () => {\n    slider.value = model.get(\"value\");\n    valueLabel.innerHTML = model.get(\"value\");\n  });\n\n  sliderRow.appendChild(slider);\n  sliderRow.appendChild(valueLabel);\n  container.appendChild(topLabel);\n  container.appendChild(sliderRow);\n  el.appendChild(container);\n\n  // ---- read cell id (no DOM modifications) ----\nconst LOG_PREFIX = '[SliderWidget]';\nconst ID_ATTR = 'data-cell-id';\nconst hostWithId = el.closest(`[${ID_ATTR}]`);\nconst cellId = hostWithId ? hostWithId.getAttribute(ID_ATTR) : null;\n\nif (cellId) {\n  // console.log(`${LOG_PREFIX} found cell_id`, cellId);\n  model.set('cell_id', cellId);\n  model.save_changes();\n  // also send an explicit event\n  model.send({ type: 'cell_id_detected', value: cellId });\n        \n}\n\n  // Optional: handle case where stamp might appear slightly later\n  if (!cellId) {\n    const mo = new MutationObserver(() => {\n      const host = el.closest(`[${ID_ATTR}]`);\n      const newId = host?.getAttribute(ID_ATTR);\n      if (newId) {\n        // console.log('set cell id', newId);\n        model.set('cell_id', newId);\n        model.save_changes();\n        \n        // also send an explicit event\n        model.send({ type: 'cell_id_detected', value: newId });\n        \n        mo.disconnect();\n      }\n    });\n    mo.observe(document.body, { attributes: true, subtree: true, attributeFilter: [ID_ATTR] });\n  }\n}\nexport default { render };\n    ",
       "_model_module": "anywidget",
       "_model_module_version": "~0.9.*",
       "_model_name": "AnyModel",
       "_view_module": "anywidget",
       "_view_module_version": "~0.9.*",
       "_view_name": "AnyView",
       "cell_id": "53704474-4c17-439b-8875-3cd63cb935d5",
       "custom_css": "",
       "label": "Select number",
       "layout": "IPY_MODEL_df73a399d3484fe79c58ca1fc531145c",
       "max": 100,
       "min": 0,
       "position": "bottom",
       "value": 0
      }
     }
    },
    "version_major": 2,
    "version_minor": 0
   }
  }
 },
 "nbformat": 4,
 "nbformat_minor": 5
}
