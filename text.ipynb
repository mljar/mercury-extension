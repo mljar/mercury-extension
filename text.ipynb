{
 "cells": [
  {
   "cell_type": "code",
   "execution_count": 127,
   "id": "86ba5c4a-8e04-4e73-a9fc-b02c276d41d9",
   "metadata": {},
   "outputs": [],
   "source": [
    "from widgets.decorator import as_controller"
   ]
  },
  {
   "cell_type": "code",
   "execution_count": 128,
   "id": "8230834d-5e91-4745-b749-afa2976535b9",
   "metadata": {},
   "outputs": [],
   "source": [
    "import ipywidgets"
   ]
  },
  {
   "cell_type": "code",
   "execution_count": 128,
   "id": "cea94629-7bd1-42ea-9020-bba90e8edd0d",
   "metadata": {},
   "outputs": [],
   "source": []
  },
  {
   "cell_type": "markdown",
   "id": "77e66612-1a79-40e3-aa86-77e0234e732e",
   "metadata": {},
   "source": [
    "# test mega"
   ]
  },
  {
   "cell_type": "code",
   "execution_count": 129,
   "id": "3fb242a2-142c-4554-a27d-0b753b3f047f",
   "metadata": {},
   "outputs": [
    {
     "data": {
      "application/mercury+json": "{\"widget\": \"Text\", \"model_id\": \"bc862db01c0b4ef4b7df9ab779a35cfa\"}",
      "application/vnd.jupyter.widget-view+json": {
       "model_id": "bc862db01c0b4ef4b7df9ab779a35cfa",
       "version_major": 2,
       "version_minor": 0
      },
      "text/plain": [
       "Text(value='')"
      ]
     },
     "execution_count": 129,
     "metadata": {},
     "output_type": "execute_result"
    }
   ],
   "source": [
    "text = as_controller(ipywidgets.Text())\n",
    "text"
   ]
  },
  {
   "cell_type": "code",
   "execution_count": 130,
   "id": "d26d50a7-e3ad-450f-9233-5c98d673b531",
   "metadata": {},
   "outputs": [
    {
     "data": {
      "text/plain": [
       "''"
      ]
     },
     "execution_count": 130,
     "metadata": {},
     "output_type": "execute_result"
    }
   ],
   "source": [
    "text.value"
   ]
  },
  {
   "cell_type": "code",
   "execution_count": 131,
   "id": "4cf66730-05c7-4d06-9ae3-c594d2675c9d",
   "metadata": {},
   "outputs": [
    {
     "name": "stdout",
     "output_type": "stream",
     "text": [
      "test\n"
     ]
    }
   ],
   "source": [
    "print('test')"
   ]
  },
  {
   "cell_type": "code",
   "execution_count": 132,
   "id": "80133978-31f7-49d7-bc69-0c68ae8f312e",
   "metadata": {},
   "outputs": [
    {
     "data": {
      "text/plain": [
       "1"
      ]
     },
     "execution_count": 132,
     "metadata": {},
     "output_type": "execute_result"
    }
   ],
   "source": [
    "1"
   ]
  },
  {
   "cell_type": "code",
   "execution_count": 133,
   "id": "aa29306f-e09e-4296-965e-784cf1c1138b",
   "metadata": {},
   "outputs": [],
   "source": [
    "from widgets.slider import Slider"
   ]
  },
  {
   "cell_type": "code",
   "execution_count": 113,
   "id": "2745db99-3899-4591-a160-16bf52e95d61",
   "metadata": {},
   "outputs": [
    {
     "name": "stdout",
     "output_type": "stream",
     "text": [
      "Slider.6c042ccd.1\n"
     ]
    },
    {
     "data": {
      "application/mercury+json": "{\n    \"widget\": \"SliderWidget\",\n    \"model_id\": \"be961398f06a49ff9f96b84a95ad7c33\",\n    \"position\": \"sidebar\"\n}",
      "application/vnd.jupyter.widget-view+json": {
       "model_id": "be961398f06a49ff9f96b84a95ad7c33",
       "version_major": 2,
       "version_minor": 1
      },
      "text/plain": [
       "SliderWidget(value=31)"
      ]
     },
     "metadata": {},
     "output_type": "display_data"
    },
    {
     "name": "stdout",
     "output_type": "stream",
     "text": [
      "biobnib\n"
     ]
    }
   ],
   "source": [
    "s = Slider() \n",
    "#\n",
    "\n",
    "\n",
    "print('biobnib')"
   ]
  },
  {
   "cell_type": "code",
   "execution_count": 114,
   "id": "b30d7298-eeb6-4bdd-bdbb-3e10cf8c2166",
   "metadata": {},
   "outputs": [
    {
     "data": {
      "application/mercury+json": "{\n    \"widget\": \"SliderWidget\",\n    \"model_id\": \"be961398f06a49ff9f96b84a95ad7c33\",\n    \"position\": \"sidebar\"\n}",
      "application/vnd.jupyter.widget-view+json": {
       "model_id": "be961398f06a49ff9f96b84a95ad7c33",
       "version_major": 2,
       "version_minor": 1
      },
      "text/plain": [
       "SliderWidget(value=31)"
      ]
     },
     "execution_count": 114,
     "metadata": {},
     "output_type": "execute_result"
    }
   ],
   "source": [
    "s"
   ]
  },
  {
   "cell_type": "code",
   "execution_count": 115,
   "id": "ee9945df-61ed-4dbc-a583-71d45270f003",
   "metadata": {},
   "outputs": [
    {
     "data": {
      "text/plain": [
       "31"
      ]
     },
     "execution_count": 115,
     "metadata": {},
     "output_type": "execute_result"
    }
   ],
   "source": [
    "s.value"
   ]
  },
  {
   "cell_type": "code",
   "execution_count": 116,
   "id": "74645091-d12c-4fbf-9ed9-cf42031a4ec5",
   "metadata": {},
   "outputs": [
    {
     "data": {
      "application/vnd.jupyter.widget-view+json": {
       "model_id": "dfea84f383f74a31805b7eebf09ac27f",
       "version_major": 2,
       "version_minor": 0
      },
      "text/plain": [
       "Text(value='')"
      ]
     },
     "execution_count": 116,
     "metadata": {},
     "output_type": "execute_result"
    }
   ],
   "source": [
    "text2 = ipywidgets.Text()\n",
    "text2"
   ]
  },
  {
   "cell_type": "code",
   "execution_count": 117,
   "id": "c3778441-d270-49f2-a0d8-0d9a5e5e1163",
   "metadata": {},
   "outputs": [
    {
     "data": {
      "text/plain": [
       "''"
      ]
     },
     "execution_count": 117,
     "metadata": {},
     "output_type": "execute_result"
    }
   ],
   "source": [
    "text2.value"
   ]
  },
  {
   "cell_type": "code",
   "execution_count": 118,
   "id": "0869657e-0bbe-4c57-b4e0-d8971514357e",
   "metadata": {},
   "outputs": [
    {
     "name": "stdout",
     "output_type": "stream",
     "text": [
      "Slider.f90dde62.1\n"
     ]
    },
    {
     "data": {
      "application/mercury+json": "{\n    \"widget\": \"SliderWidget\",\n    \"model_id\": \"03cfdbb6e8f744a1bc65eabbe066bc2f\",\n    \"position\": \"inline\"\n}",
      "application/vnd.jupyter.widget-view+json": {
       "model_id": "03cfdbb6e8f744a1bc65eabbe066bc2f",
       "version_major": 2,
       "version_minor": 1
      },
      "text/plain": [
       "SliderWidget(position='inline')"
      ]
     },
     "metadata": {},
     "output_type": "display_data"
    }
   ],
   "source": [
    "s2 = Slider(position='inline') "
   ]
  },
  {
   "cell_type": "code",
   "execution_count": 122,
   "id": "70a9c812-14cc-466e-bb1f-ebaa4797d0a4",
   "metadata": {},
   "outputs": [
    {
     "name": "stdout",
     "output_type": "stream",
     "text": [
      "Slider.a3155556.1\n"
     ]
    },
    {
     "data": {
      "application/mercury+json": "{\n    \"widget\": \"SliderWidget\",\n    \"model_id\": \"2b660e4f39de466cb88fb2028da36990\",\n    \"position\": \"bottom\"\n}",
      "application/vnd.jupyter.widget-view+json": {
       "model_id": "2b660e4f39de466cb88fb2028da36990",
       "version_major": 2,
       "version_minor": 1
      },
      "text/plain": [
       "SliderWidget(position='bottom')"
      ]
     },
     "metadata": {},
     "output_type": "display_data"
    }
   ],
   "source": [
    "s3 = Slider(position='bottom') "
   ]
  },
  {
   "cell_type": "code",
   "execution_count": 125,
   "id": "ba9e806a-b5db-4533-b9d0-b6c174656062",
   "metadata": {},
   "outputs": [],
   "source": [
    "from matplotlib import pyplot as plt"
   ]
  },
  {
   "cell_type": "code",
   "execution_count": 126,
   "id": "a490d95b-9f19-41cf-af9a-b4e43a3286d3",
   "metadata": {},
   "outputs": [
    {
     "data": {
      "image/png": "[encoded data removed]",
      "text/plain": [
       "<Figure size 640x480 with 1 Axes>"
      ]
     },
     "metadata": {},
     "output_type": "display_data"
    }
   ],
   "source": [
    "_ = plt.plot([s3.value, s.value, s2.value])"
   ]
  },
  {
   "cell_type": "code",
   "execution_count": 126,
   "id": "cee77880-6419-4cac-b102-7c6f3020c429",
   "metadata": {},
   "outputs": [],
   "source": []
  },
  {
   "cell_type": "code",
   "execution_count": 126,
   "id": "121cc3c1-5638-40b2-ae25-c4cf3bf0bd19",
   "metadata": {},
   "outputs": [],
   "source": []
  }
 ],
 "metadata": {
  "kernelspec": {
   "display_name": "Python 3 (ipykernel)",
   "language": "python",
   "name": "python3"
  },
  "language_info": {
   "codemirror_mode": {
    "name": "ipython",
    "version": 3
   },
   "file_extension": ".py",
   "mimetype": "text/x-python",
   "name": "python",
   "nbconvert_exporter": "python",
   "pygments_lexer": "ipython3",
   "version": "3.11.5"
  }
 },
 "nbformat": 4,
 "nbformat_minor": 5
}
