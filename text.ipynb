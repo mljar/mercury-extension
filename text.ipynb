{
 "cells": [
  {
   "cell_type": "code",
   "execution_count": 1,
   "id": "49c6c23e-26b2-4066-b6f3-2fcf0d0d2018",
   "metadata": {},
   "outputs": [],
   "source": [
    "from widgets.slider import Slider"
   ]
  },
  {
   "cell_type": "code",
   "execution_count": 2,
   "id": "53704474-4c17-439b-8875-3cd63cb935d5",
   "metadata": {},
   "outputs": [
    {
     "data": {
      "application/mercury+json": "{\n    \"widget\": \"SliderWidget\",\n    \"model_id\": \"d15d98d0a39941c0b25470fd79041e6b\",\n    \"position\": \"sidebar\"\n}",
      "application/vnd.jupyter.widget-view+json": {
       "model_id": "d15d98d0a39941c0b25470fd79041e6b",
       "version_major": 2,
       "version_minor": 1
      },
      "text/plain": [
       "SliderWidget()"
      ]
     },
     "metadata": {},
     "output_type": "display_data"
    }
   ],
   "source": [
    "s = Slider()"
   ]
  },
  {
   "cell_type": "code",
   "execution_count": 203,
   "id": "90a90228-6c2a-4fd7-8600-4f019316398e",
   "metadata": {},
   "outputs": [
    {
     "data": {
      "text/plain": [
       "27"
      ]
     },
     "execution_count": 203,
     "metadata": {},
     "output_type": "execute_result"
    }
   ],
   "source": [
    "s.value"
   ]
  },
  {
   "cell_type": "markdown",
   "id": "c4677861-4e47-442b-b100-a029a74d5c15",
   "metadata": {},
   "source": [
    "# adsf asdf\n",
    "asdfasdfasdf asdf asd asdf asd 11111111111"
   ]
  },
  {
   "cell_type": "markdown",
   "id": "a9917b70-205c-4387-98af-1165e5308a6e",
   "metadata": {},
   "source": [
    "asdfasdf"
   ]
  },
  {
   "cell_type": "code",
   "execution_count": 204,
   "id": "4195e427-1713-4954-9850-be8fe973f28a",
   "metadata": {},
   "outputs": [],
   "source": [
    "from widgets.text import TextInput"
   ]
  },
  {
   "cell_type": "code",
   "execution_count": 205,
   "id": "bd663f4a-670c-4781-8c5b-75cf94c3f36c",
   "metadata": {},
   "outputs": [
    {
     "data": {
      "application/mercury+json": "{\n    \"widget\": \"TextInputWidget\",\n    \"model_id\": \"161720d82a254378899b179b665b3084\",\n    \"position\": \"sidebar\"\n}",
      "application/vnd.jupyter.widget-view+json": {
       "model_id": "161720d82a254378899b179b665b3084",
       "version_major": 2,
       "version_minor": 1
      },
      "text/plain": [
       "TextInputWidget(label='aaaa')"
      ]
     },
     "metadata": {},
     "output_type": "display_data"
    }
   ],
   "source": [
    "t = TextInput(label=\"aaaa\")"
   ]
  },
  {
   "cell_type": "code",
   "execution_count": 206,
   "id": "980aba80-e4d5-4c4d-890a-0c335d72497e",
   "metadata": {},
   "outputs": [
    {
     "data": {
      "text/plain": [
       "''"
      ]
     },
     "execution_count": 206,
     "metadata": {},
     "output_type": "execute_result"
    }
   ],
   "source": [
    "t.value"
   ]
  },
  {
   "cell_type": "code",
   "execution_count": 207,
   "id": "3f0e1443-da1f-41cb-9561-69d8bc52c66b",
   "metadata": {},
   "outputs": [],
   "source": [
    "# Define x, y, y2 based on s and t widgets\n",
    "x = [s.value, s.value + 1, s.value + 2]\n",
    "y = [len(t.value), len(t.value) ** 2, len(t.value) ** 3]\n",
    "y2 = [v**2 for v in x]"
   ]
  },
  {
   "cell_type": "code",
   "execution_count": 208,
   "id": "46cc2e98-f6d7-4473-baf9-226a11a89371",
   "metadata": {},
   "outputs": [],
   "source": [
    "from widgets.columns import Columns\n",
    "import matplotlib.pyplot as plt"
   ]
  },
  {
   "cell_type": "code",
   "execution_count": 209,
   "id": "e0293511-8f3c-4d0c-993e-343e93b90c52",
   "metadata": {},
   "outputs": [
    {
     "data": {
      "image/png": "[encoded data removed]",
      "text/plain": [
       "<Figure size 400x300 with 1 Axes>"
      ]
     },
     "metadata": {},
     "output_type": "display_data"
    }
   ],
   "source": [
    "plt.figure(figsize=(4,3))\n",
    "plt.plot(x, y, marker='o')\n",
    "plt.title('Plot: s.value and len(t.value)')\n",
    "plt.xlabel('s.value')\n",
    "plt.ylabel('len(t.value)')\n",
    "plt.grid(True)\n",
    "plt.show()"
   ]
  },
  {
   "cell_type": "code",
   "execution_count": 210,
   "id": "8a315979-d0dd-48aa-96bc-3cbbc625fe3d",
   "metadata": {},
   "outputs": [
    {
     "data": {
      "application/vnd.jupyter.widget-view+json": {
       "model_id": "87f397f31f9e4ee691f12be46a9846b7",
       "version_major": 2,
       "version_minor": 0
      },
      "text/plain": [
       "HBox(children=(Output(layout=Layout(flex='1 1 0px', min_width='240px'), outputs=({'output_type': 'display_data…"
      ]
     },
     "metadata": {},
     "output_type": "display_data"
    }
   ],
   "source": [
    "\n",
    "\n",
    "# Use Columns to create two side-by-side outputs\n",
    "out1, out2 = Columns(2)\n",
    "\n",
    "with out1:\n",
    "    out1.clear_output(wait=True)\n",
    "    plt.figure(figsize=(4,3))\n",
    "    plt.plot(x, y, marker='o')\n",
    "    plt.title('Plot: s.value and len(t.value)')\n",
    "    plt.xlabel('s.value')\n",
    "    plt.ylabel('len(t.value)')\n",
    "    plt.grid(True)\n",
    "    plt.show()\n",
    "\n",
    "with out2:\n",
    "    out2.clear_output(wait=True)\n",
    "    plt.figure(figsize=(4,3))\n",
    "    plt.plot(x, y2, marker='o', color='orange')\n",
    "    plt.title('Plot: s.value and (s.value)^2')\n",
    "    plt.xlabel('s.value')\n",
    "    plt.ylabel('y = (s.value)^2')\n",
    "    plt.grid(True)\n",
    "    plt.show()"
   ]
  },
  {
   "cell_type": "code",
   "execution_count": 210,
   "id": "0db01196-fc52-4eb2-b71d-a79071f5e4cf",
   "metadata": {},
   "outputs": [],
   "source": []
  },
  {
   "cell_type": "code",
   "execution_count": 210,
   "id": "20290dbe-5f9d-43a0-b3be-6c1946d98a68",
   "metadata": {},
   "outputs": [],
   "source": []
  },
  {
   "cell_type": "code",
   "execution_count": 211,
   "id": "dae6552e-5f6c-42c9-82a9-0660b4fc221e",
   "metadata": {},
   "outputs": [],
   "source": [
    "from widgets.indicator import Indicator"
   ]
  },
  {
   "cell_type": "code",
   "execution_count": 212,
   "id": "e79d9594-0866-43c1-97b0-51f2113a4e55",
   "metadata": {},
   "outputs": [
    {
     "data": {
      "text/html": [
       "\n",
       "        <style scoped>\n",
       "        .mljar-indicator-row {\n",
       "            width: 100%;\n",
       "            display: flex;\n",
       "            flex-direction: row;\n",
       "            gap: 5px;\n",
       "            justify-content: flex-start;\n",
       "        }\n",
       "        @media (max-width: 800px) {\n",
       "            .mljar-indicator-row {\n",
       "                flex-direction: column;\n",
       "            }\n",
       "        }\n",
       "        .mljar-indicator-card {\n",
       "            flex: 1 1 0;\n",
       "            background: var(--bg, #fff);\n",
       "            border: 1px solid var(--border, #ebebeb);\n",
       "            border-radius: 12px;\n",
       "            padding: 26px 24px 18px 24px;\n",
       "            margin: 8px;\n",
       "            text-align: center;                \n",
       "            min-width: 180px;\n",
       "            max-width: 240px !important;\n",
       "            box-shadow: 0 2px 8px rgba(0,0,0,0.04);\n",
       "        }\n",
       "        .mljar-indicator-title {\n",
       "            font-size: 1.3em !important;\n",
       "            color: var(--label, #555);\n",
       "            margin-bottom: 10px;\n",
       "            font-family: 'Inter', 'Segoe UI', Arial, sans-serif !important;\n",
       "        }\n",
       "        .mljar-indicator-value {\n",
       "            font-size: 2.7em;\n",
       "            color: var(--value, #222);\n",
       "            font-family: 'Menlo', 'Consolas', monospace;\n",
       "            margin-bottom: 12px;\n",
       "            letter-spacing: 1px;\n",
       "        }\n",
       "        .mljar-indicator-delta {\n",
       "            display: inline-block;\n",
       "            padding: 0.28em 1.1em 0.28em 1.1em;\n",
       "            font-size: 1em;\n",
       "            border-radius: 2em;\n",
       "            margin-bottom: 4px;\n",
       "            font-family: 'Menlo', monospace;\n",
       "            font-weight: bold;\n",
       "        }\n",
       "        .mljar-indicator-delta.up {\n",
       "            background: var(--bg-green, rgba(0,178,117,0.12));\n",
       "            color: var(--green, #00B275);\n",
       "        }\n",
       "        .mljar-indicator-delta.down {\n",
       "            background: var(--bg-red, rgba(255,99,132,0.13));\n",
       "            color: var(--red, #FF6384);\n",
       "        }\n",
       "        </style>\n",
       "        <div class='mljar-indicator-row'>\n",
       "        <style scoped>\n",
       "        .mljar-indicator-row {\n",
       "            width: 100%;\n",
       "            display: flex;\n",
       "            flex-direction: row;\n",
       "            gap: 5px;\n",
       "            justify-content: flex-start;\n",
       "        }\n",
       "        @media (max-width: 800px) {\n",
       "            .mljar-indicator-row {\n",
       "                flex-direction: column;\n",
       "            }\n",
       "        }\n",
       "        .mljar-indicator-card {\n",
       "            flex: 1 1 0;\n",
       "            background: var(--bg, #fff);\n",
       "            border: 1px solid var(--border, #ebebeb);\n",
       "            border-radius: 12px;\n",
       "            padding: 26px 24px 18px 24px;\n",
       "            margin: 8px;\n",
       "            text-align: center;                \n",
       "            min-width: 180px;\n",
       "            max-width: 240px !important;\n",
       "            box-shadow: 0 2px 8px rgba(0,0,0,0.04);\n",
       "        }\n",
       "        .mljar-indicator-title {\n",
       "            font-size: 1.3em !important;\n",
       "            color: var(--label, #555);\n",
       "            margin-bottom: 10px;\n",
       "            font-family: 'Inter', 'Segoe UI', Arial, sans-serif !important;\n",
       "        }\n",
       "        .mljar-indicator-value {\n",
       "            font-size: 2.7em;\n",
       "            color: var(--value, #222);\n",
       "            font-family: 'Menlo', 'Consolas', monospace;\n",
       "            margin-bottom: 12px;\n",
       "            letter-spacing: 1px;\n",
       "        }\n",
       "        .mljar-indicator-delta {\n",
       "            display: inline-block;\n",
       "            padding: 0.28em 1.1em 0.28em 1.1em;\n",
       "            font-size: 1em;\n",
       "            border-radius: 2em;\n",
       "            margin-bottom: 4px;\n",
       "            font-family: 'Menlo', monospace;\n",
       "            font-weight: bold;\n",
       "        }\n",
       "        .mljar-indicator-delta.up {\n",
       "            background: var(--bg-green, rgba(0,178,117,0.12));\n",
       "            color: var(--green, #00B275);\n",
       "        }\n",
       "        .mljar-indicator-delta.down {\n",
       "            background: var(--bg-red, rgba(255,99,132,0.13));\n",
       "            color: var(--red, #FF6384);\n",
       "        }\n",
       "        </style>\n",
       "        \n",
       "<div class=\"mljar-indicator-card\"\n",
       "     style=\"--bg:#fff;--border:#ebebeb;--value:#222;--label:#555;--green:#00B275;--bg-green:rgba(0, 178, 117, 0.12);--red:#FF6384;--bg-red:rgba(255, 99, 132, 0.13)\">\n",
       "    <div class='mljar-indicator-title'>asdfasdf</div>\n",
       "    <div class='mljar-indicator-value'>27</div>\n",
       "    <div class='mljar-indicator-delta down'><span style='font-size:1.15em'>&#8595;</span> 12.0%</div>\n",
       "</div>\n",
       "\n",
       "        <style scoped>\n",
       "        .mljar-indicator-row {\n",
       "            width: 100%;\n",
       "            display: flex;\n",
       "            flex-direction: row;\n",
       "            gap: 5px;\n",
       "            justify-content: flex-start;\n",
       "        }\n",
       "        @media (max-width: 800px) {\n",
       "            .mljar-indicator-row {\n",
       "                flex-direction: column;\n",
       "            }\n",
       "        }\n",
       "        .mljar-indicator-card {\n",
       "            flex: 1 1 0;\n",
       "            background: var(--bg, #fff);\n",
       "            border: 1px solid var(--border, #ebebeb);\n",
       "            border-radius: 12px;\n",
       "            padding: 26px 24px 18px 24px;\n",
       "            margin: 8px;\n",
       "            text-align: center;                \n",
       "            min-width: 180px;\n",
       "            max-width: 240px !important;\n",
       "            box-shadow: 0 2px 8px rgba(0,0,0,0.04);\n",
       "        }\n",
       "        .mljar-indicator-title {\n",
       "            font-size: 1.3em !important;\n",
       "            color: var(--label, #555);\n",
       "            margin-bottom: 10px;\n",
       "            font-family: 'Inter', 'Segoe UI', Arial, sans-serif !important;\n",
       "        }\n",
       "        .mljar-indicator-value {\n",
       "            font-size: 2.7em;\n",
       "            color: var(--value, #222);\n",
       "            font-family: 'Menlo', 'Consolas', monospace;\n",
       "            margin-bottom: 12px;\n",
       "            letter-spacing: 1px;\n",
       "        }\n",
       "        .mljar-indicator-delta {\n",
       "            display: inline-block;\n",
       "            padding: 0.28em 1.1em 0.28em 1.1em;\n",
       "            font-size: 1em;\n",
       "            border-radius: 2em;\n",
       "            margin-bottom: 4px;\n",
       "            font-family: 'Menlo', monospace;\n",
       "            font-weight: bold;\n",
       "        }\n",
       "        .mljar-indicator-delta.up {\n",
       "            background: var(--bg-green, rgba(0,178,117,0.12));\n",
       "            color: var(--green, #00B275);\n",
       "        }\n",
       "        .mljar-indicator-delta.down {\n",
       "            background: var(--bg-red, rgba(255,99,132,0.13));\n",
       "            color: var(--red, #FF6384);\n",
       "        }\n",
       "        </style>\n",
       "        \n",
       "<div class=\"mljar-indicator-card\"\n",
       "     style=\"--bg:#fff;--border:#ebebeb;--value:#222;--label:#555;--green:#00B275;--bg-green:rgba(0, 178, 117, 0.12);--red:#FF6384;--bg-red:rgba(255, 99, 132, 0.13)\">\n",
       "    <div class='mljar-indicator-title'>tests</div>\n",
       "    <div class='mljar-indicator-value'>0</div>\n",
       "    <div class='mljar-indicator-delta down'><span style='font-size:1.15em'>&#8595;</span> 12.0%</div>\n",
       "</div>\n",
       "</div>"
      ],
      "text/plain": [
       "<widgets.indicator.Indicator at 0x7bfa99bd8d90>"
      ]
     },
     "execution_count": 212,
     "metadata": {},
     "output_type": "execute_result"
    }
   ],
   "source": [
    "Indicator([\n",
    "    Indicator(s.value, t.value or \"asdfasdf\", -12),\n",
    "    Indicator(len(t.value), \"tests\", -12)])"
   ]
  },
  {
   "cell_type": "code",
   "execution_count": 212,
   "id": "62c90990-735d-49d2-8f72-b2d134c0a6a6",
   "metadata": {},
   "outputs": [],
   "source": []
  },
  {
   "cell_type": "code",
   "execution_count": 212,
   "id": "43bf9999-b01b-460d-b48d-56e7e5f0071e",
   "metadata": {},
   "outputs": [],
   "source": []
  },
  {
   "cell_type": "code",
   "execution_count": 212,
   "id": "5ad3816d-7ef4-44da-b129-2830534509e5",
   "metadata": {},
   "outputs": [],
   "source": []
  },
  {
   "cell_type": "code",
   "execution_count": 212,
   "id": "39322b89-a58c-4acd-bcf8-6fc1253237f7",
   "metadata": {},
   "outputs": [],
   "source": []
  }
 ],
 "metadata": {
  "kernelspec": {
   "display_name": "Python 3 (ipykernel)",
   "language": "python",
   "name": "python3"
  },
  "language_info": {
   "codemirror_mode": {
    "name": "ipython",
    "version": 3
   },
   "file_extension": ".py",
   "mimetype": "text/x-python",
   "name": "python",
   "nbconvert_exporter": "python",
   "pygments_lexer": "ipython3",
   "version": "3.11.5"
  },
  "widgets": {
   "application/vnd.jupyter.widget-state+json": {
    "state": {},
    "version_major": 2,
    "version_minor": 0
   }
  }
 },
 "nbformat": 4,
 "nbformat_minor": 5
}
