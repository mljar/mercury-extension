{
 "cells": [
  {
   "cell_type": "code",
   "execution_count": 1,
   "id": "86ba5c4a-8e04-4e73-a9fc-b02c276d41d9",
   "metadata": {},
   "outputs": [],
   "source": [
    "from widgets.decorator import as_controller"
   ]
  },
  {
   "cell_type": "code",
   "execution_count": 2,
   "id": "8230834d-5e91-4745-b749-afa2976535b9",
   "metadata": {},
   "outputs": [],
   "source": [
    "import ipywidgets"
   ]
  },
  {
   "cell_type": "code",
   "execution_count": 2,
   "id": "cea94629-7bd1-42ea-9020-bba90e8edd0d",
   "metadata": {},
   "outputs": [],
   "source": []
  },
  {
   "cell_type": "markdown",
   "id": "77e66612-1a79-40e3-aa86-77e0234e732e",
   "metadata": {},
   "source": [
    "# test mega"
   ]
  },
  {
   "cell_type": "code",
   "execution_count": 3,
   "id": "3fb242a2-142c-4554-a27d-0b753b3f047f",
   "metadata": {},
   "outputs": [
    {
     "data": {
      "application/mercury+json": "{\"widget\": \"Text\", \"model_id\": \"aad27da19925479d8e1b09ebfd236497\"}",
      "application/vnd.jupyter.widget-view+json": {
       "model_id": "aad27da19925479d8e1b09ebfd236497",
       "version_major": 2,
       "version_minor": 0
      },
      "text/plain": [
       "Text(value='')"
      ]
     },
     "execution_count": 3,
     "metadata": {},
     "output_type": "execute_result"
    }
   ],
   "source": [
    "text = as_controller(ipywidgets.Text())\n",
    "text"
   ]
  },
  {
   "cell_type": "code",
   "execution_count": 4,
   "id": "d26d50a7-e3ad-450f-9233-5c98d673b531",
   "metadata": {},
   "outputs": [
    {
     "data": {
      "text/plain": [
       "''"
      ]
     },
     "execution_count": 4,
     "metadata": {},
     "output_type": "execute_result"
    }
   ],
   "source": [
    "text.value"
   ]
  },
  {
   "cell_type": "code",
   "execution_count": 5,
   "id": "4cf66730-05c7-4d06-9ae3-c594d2675c9d",
   "metadata": {},
   "outputs": [
    {
     "name": "stdout",
     "output_type": "stream",
     "text": [
      "test\n"
     ]
    }
   ],
   "source": [
    "print('test')"
   ]
  },
  {
   "cell_type": "code",
   "execution_count": 6,
   "id": "80133978-31f7-49d7-bc69-0c68ae8f312e",
   "metadata": {},
   "outputs": [
    {
     "data": {
      "text/plain": [
       "1"
      ]
     },
     "execution_count": 6,
     "metadata": {},
     "output_type": "execute_result"
    }
   ],
   "source": [
    "1"
   ]
  },
  {
   "cell_type": "code",
   "execution_count": 7,
   "id": "aa29306f-e09e-4296-965e-784cf1c1138b",
   "metadata": {},
   "outputs": [],
   "source": [
    "from widgets.slider import Slider"
   ]
  },
  {
   "cell_type": "code",
   "execution_count": 8,
   "id": "2745db99-3899-4591-a160-16bf52e95d61",
   "metadata": {},
   "outputs": [
    {
     "name": "stdout",
     "output_type": "stream",
     "text": [
      "Slider.6c042ccd.1\n"
     ]
    },
    {
     "data": {
      "application/mercury+json": "{\n    \"widget\": \"SliderWidget\",\n    \"model_id\": \"d9c2f486147d4cb69fa839097580f7be\",\n    \"position\": \"sidebar\"\n}",
      "application/vnd.jupyter.widget-view+json": {
       "model_id": "d9c2f486147d4cb69fa839097580f7be",
       "version_major": 2,
       "version_minor": 1
      },
      "text/plain": [
       "SliderWidget()"
      ]
     },
     "metadata": {},
     "output_type": "display_data"
    },
    {
     "name": "stdout",
     "output_type": "stream",
     "text": [
      "biobnib\n"
     ]
    }
   ],
   "source": [
    "s = Slider() \n",
    "#\n",
    "\n",
    "\n",
    "print('biobnib')"
   ]
  },
  {
   "cell_type": "code",
   "execution_count": 9,
   "id": "b30d7298-eeb6-4bdd-bdbb-3e10cf8c2166",
   "metadata": {},
   "outputs": [
    {
     "data": {
      "application/mercury+json": "{\n    \"widget\": \"SliderWidget\",\n    \"model_id\": \"d9c2f486147d4cb69fa839097580f7be\",\n    \"position\": \"sidebar\"\n}",
      "application/vnd.jupyter.widget-view+json": {
       "model_id": "d9c2f486147d4cb69fa839097580f7be",
       "version_major": 2,
       "version_minor": 1
      },
      "text/plain": [
       "SliderWidget()"
      ]
     },
     "execution_count": 9,
     "metadata": {},
     "output_type": "execute_result"
    }
   ],
   "source": [
    "s"
   ]
  },
  {
   "cell_type": "code",
   "execution_count": 10,
   "id": "ee9945df-61ed-4dbc-a583-71d45270f003",
   "metadata": {},
   "outputs": [
    {
     "data": {
      "text/plain": [
       "0"
      ]
     },
     "execution_count": 10,
     "metadata": {},
     "output_type": "execute_result"
    }
   ],
   "source": [
    "s.value"
   ]
  },
  {
   "cell_type": "code",
   "execution_count": 11,
   "id": "74645091-d12c-4fbf-9ed9-cf42031a4ec5",
   "metadata": {},
   "outputs": [
    {
     "data": {
      "application/vnd.jupyter.widget-view+json": {
       "model_id": "97d698d636544f9abb14b89f6bcb4eb5",
       "version_major": 2,
       "version_minor": 0
      },
      "text/plain": [
       "Text(value='')"
      ]
     },
     "execution_count": 11,
     "metadata": {},
     "output_type": "execute_result"
    }
   ],
   "source": [
    "text2 = ipywidgets.Text()\n",
    "text2"
   ]
  },
  {
   "cell_type": "code",
   "execution_count": 12,
   "id": "c3778441-d270-49f2-a0d8-0d9a5e5e1163",
   "metadata": {},
   "outputs": [
    {
     "data": {
      "text/plain": [
       "''"
      ]
     },
     "execution_count": 12,
     "metadata": {},
     "output_type": "execute_result"
    }
   ],
   "source": [
    "text2.value"
   ]
  },
  {
   "cell_type": "code",
   "execution_count": 13,
   "id": "0869657e-0bbe-4c57-b4e0-d8971514357e",
   "metadata": {},
   "outputs": [
    {
     "name": "stdout",
     "output_type": "stream",
     "text": [
      "Slider.f90dde62.1\n"
     ]
    },
    {
     "data": {
      "application/mercury+json": "{\n    \"widget\": \"SliderWidget\",\n    \"model_id\": \"186aa08e382b4c7c8a4f0bffb4f1c36e\",\n    \"position\": \"inline\"\n}",
      "application/vnd.jupyter.widget-view+json": {
       "model_id": "186aa08e382b4c7c8a4f0bffb4f1c36e",
       "version_major": 2,
       "version_minor": 1
      },
      "text/plain": [
       "SliderWidget(position='inline')"
      ]
     },
     "metadata": {},
     "output_type": "display_data"
    }
   ],
   "source": [
    "s2 = Slider(position='inline') "
   ]
  },
  {
   "cell_type": "code",
   "execution_count": 14,
   "id": "70a9c812-14cc-466e-bb1f-ebaa4797d0a4",
   "metadata": {},
   "outputs": [],
   "source": [
    "if s2.value > 10:\n",
    "    s3 = Slider(position='bottom') "
   ]
  },
  {
   "cell_type": "code",
   "execution_count": 15,
   "id": "ba9e806a-b5db-4533-b9d0-b6c174656062",
   "metadata": {},
   "outputs": [],
   "source": [
    "from matplotlib import pyplot as plt"
   ]
  },
  {
   "cell_type": "code",
   "execution_count": 16,
   "id": "a490d95b-9f19-41cf-af9a-b4e43a3286d3",
   "metadata": {},
   "outputs": [
    {
     "data": {
      "image/png": "[encoded data removed]",
      "text/plain": [
       "<Figure size 640x480 with 1 Axes>"
      ]
     },
     "metadata": {},
     "output_type": "display_data"
    }
   ],
   "source": [
    "_ = plt.plot([s2.value, s.value, s2.value])"
   ]
  },
  {
   "cell_type": "code",
   "execution_count": 16,
   "id": "cee77880-6419-4cac-b102-7c6f3020c429",
   "metadata": {},
   "outputs": [],
   "source": []
  },
  {
   "cell_type": "code",
   "execution_count": 16,
   "id": "121cc3c1-5638-40b2-ae25-c4cf3bf0bd19",
   "metadata": {},
   "outputs": [],
   "source": []
  }
 ],
 "metadata": {
  "kernelspec": {
   "display_name": "Python 3 (ipykernel)",
   "language": "python",
   "name": "python3"
  },
  "language_info": {
   "codemirror_mode": {
    "name": "ipython",
    "version": 3
   },
   "file_extension": ".py",
   "mimetype": "text/x-python",
   "name": "python",
   "nbconvert_exporter": "python",
   "pygments_lexer": "ipython3",
   "version": "3.11.5"
  },
  "widgets": {
   "application/vnd.jupyter.widget-state+json": {
    "state": {
     "0d3a2f8d58e0497dac35a89e1c07a8f1": {
      "model_module": "@jupyter-widgets/base",
      "model_module_version": "2.0.0",
      "model_name": "LayoutModel",
      "state": {}
     },
     "186aa08e382b4c7c8a4f0bffb4f1c36e": {
      "model_module": "anywidget",
      "model_module_version": "~0.9.*",
      "model_name": "AnyModel",
      "state": {
       "_anywidget_id": "widgets.slider.SliderWidget",
       "_css": "\n    .mljar-slider-container {\n        display: flex;\n        flex-direction: column;\n        align-items: flex-start;\n        width: 100%;\n        min-width: 120px;\n    }\n    .mljar-slider-top-label {\n        margin-bottom: 6px;\n        font-weight: bold;\n        text-align: left;\n        width: 100%;\n    }\n    .mljar-slider-row {\n        display: flex;\n        flex-direction: row;\n        align-items: center;\n        width: 100%;\n    }\n    .mljar-slider-input {\n        flex: 1 1 auto;\n        min-width: 60px;\n        max-width: 100%;\n        margin-right: 16px;\n    }\n    .mljar-slider-value-label {\n        font-weight: bold;\n        font-size: 1.1em;\n        min-width: 32px;\n        text-align: left;\n        margin-left: 8px;\n        white-space: nowrap;\n    }\n    ",
       "_esm": "\n    function render({ model, el }) {\n      // Container for the whole widget\n      let container = document.createElement(\"div\");\n      container.classList.add(\"mljar-slider-container\");\n\n      // Top label (left-aligned)\n      let topLabel = document.createElement(\"div\");\n      topLabel.classList.add(\"mljar-slider-top-label\");\n      topLabel.innerHTML = model.get(\"label\") || \"Select number\";\n\n      // Row: slider and value label\n      let sliderRow = document.createElement(\"div\");\n      sliderRow.classList.add(\"mljar-slider-row\");\n\n      // Slider input\n      let slider = document.createElement(\"input\");\n      slider.type = \"range\";\n      slider.min = model.get(\"min\");\n      slider.max = model.get(\"max\");\n      slider.value = model.get(\"value\");\n      slider.classList.add(\"mljar-slider-input\");\n\n      // Value label (to the right of slider)\n      let valueLabel = document.createElement(\"span\");\n      valueLabel.classList.add(\"mljar-slider-value-label\");\n      valueLabel.innerHTML = model.get(\"value\");\n\n      //slider.addEventListener(\"input\", () => {\n      //  model.set(\"value\", Number(slider.value));\n      //  model.save_changes();\n      //});\n      let debounceTimer = null;\n      slider.addEventListener(\"input\", () => {\n        model.set(\"value\", Number(slider.value));\n        if (debounceTimer) clearTimeout(debounceTimer);\n        debounceTimer = setTimeout(() => {\n            model.save_changes();\n        }, 100);\n      });\n\n      model.on(\"change:value\", () => {\n        slider.value = model.get(\"value\");\n        valueLabel.innerHTML = model.get(\"value\");\n      });\n\n      // Assemble row\n      sliderRow.appendChild(slider);\n      sliderRow.appendChild(valueLabel);\n\n      // Build structure\n      container.appendChild(topLabel);\n      container.appendChild(sliderRow);\n      el.appendChild(container);\n\n      const css = model.get(\"custom_css\");\n      if (css && css.trim().length > 0) {\n        let styleTag = document.createElement(\"style\");\n        styleTag.textContent = css;\n        el.appendChild(styleTag);\n      }\n    }\n    export default { render };\n    ",
       "_model_module": "anywidget",
       "_model_module_version": "~0.9.*",
       "_model_name": "AnyModel",
       "_view_module": "anywidget",
       "_view_module_version": "~0.9.*",
       "_view_name": "AnyView",
       "custom_css": "",
       "label": "Select number",
       "layout": "IPY_MODEL_3c212dded45346b9baa4792ddeb2009e",
       "max": 100,
       "min": 0,
       "position": "inline",
       "value": 0
      }
     },
     "1d24eab28d5c4320ac5f82baae6f9510": {
      "model_module": "@jupyter-widgets/base",
      "model_module_version": "2.0.0",
      "model_name": "LayoutModel",
      "state": {}
     },
     "3c212dded45346b9baa4792ddeb2009e": {
      "model_module": "@jupyter-widgets/base",
      "model_module_version": "2.0.0",
      "model_name": "LayoutModel",
      "state": {}
     },
     "3d98ca9314674420b362b1fb062c044b": {
      "model_module": "@jupyter-widgets/controls",
      "model_module_version": "2.0.0",
      "model_name": "TextStyleModel",
      "state": {
       "description_width": "",
       "font_size": null,
       "text_color": null
      }
     },
     "97d698d636544f9abb14b89f6bcb4eb5": {
      "model_module": "@jupyter-widgets/controls",
      "model_module_version": "2.0.0",
      "model_name": "TextModel",
      "state": {
       "layout": "IPY_MODEL_fc55d376a5284b939451600742e535a1",
       "style": "IPY_MODEL_cc88444613c847a7957ba6f5e06fbb28"
      }
     },
     "aad27da19925479d8e1b09ebfd236497": {
      "model_module": "@jupyter-widgets/controls",
      "model_module_version": "2.0.0",
      "model_name": "TextModel",
      "state": {
       "layout": "IPY_MODEL_0d3a2f8d58e0497dac35a89e1c07a8f1",
       "style": "IPY_MODEL_3d98ca9314674420b362b1fb062c044b"
      }
     },
     "cc88444613c847a7957ba6f5e06fbb28": {
      "model_module": "@jupyter-widgets/controls",
      "model_module_version": "2.0.0",
      "model_name": "TextStyleModel",
      "state": {
       "description_width": "",
       "font_size": null,
       "text_color": null
      }
     },
     "d9c2f486147d4cb69fa839097580f7be": {
      "model_module": "anywidget",
      "model_module_version": "~0.9.*",
      "model_name": "AnyModel",
      "state": {
       "_anywidget_id": "widgets.slider.SliderWidget",
       "_css": "\n    .mljar-slider-container {\n        display: flex;\n        flex-direction: column;\n        align-items: flex-start;\n        width: 100%;\n        min-width: 120px;\n    }\n    .mljar-slider-top-label {\n        margin-bottom: 6px;\n        font-weight: bold;\n        text-align: left;\n        width: 100%;\n    }\n    .mljar-slider-row {\n        display: flex;\n        flex-direction: row;\n        align-items: center;\n        width: 100%;\n    }\n    .mljar-slider-input {\n        flex: 1 1 auto;\n        min-width: 60px;\n        max-width: 100%;\n        margin-right: 16px;\n    }\n    .mljar-slider-value-label {\n        font-weight: bold;\n        font-size: 1.1em;\n        min-width: 32px;\n        text-align: left;\n        margin-left: 8px;\n        white-space: nowrap;\n    }\n    ",
       "_esm": "\n    function render({ model, el }) {\n      // Container for the whole widget\n      let container = document.createElement(\"div\");\n      container.classList.add(\"mljar-slider-container\");\n\n      // Top label (left-aligned)\n      let topLabel = document.createElement(\"div\");\n      topLabel.classList.add(\"mljar-slider-top-label\");\n      topLabel.innerHTML = model.get(\"label\") || \"Select number\";\n\n      // Row: slider and value label\n      let sliderRow = document.createElement(\"div\");\n      sliderRow.classList.add(\"mljar-slider-row\");\n\n      // Slider input\n      let slider = document.createElement(\"input\");\n      slider.type = \"range\";\n      slider.min = model.get(\"min\");\n      slider.max = model.get(\"max\");\n      slider.value = model.get(\"value\");\n      slider.classList.add(\"mljar-slider-input\");\n\n      // Value label (to the right of slider)\n      let valueLabel = document.createElement(\"span\");\n      valueLabel.classList.add(\"mljar-slider-value-label\");\n      valueLabel.innerHTML = model.get(\"value\");\n\n      //slider.addEventListener(\"input\", () => {\n      //  model.set(\"value\", Number(slider.value));\n      //  model.save_changes();\n      //});\n      let debounceTimer = null;\n      slider.addEventListener(\"input\", () => {\n        model.set(\"value\", Number(slider.value));\n        if (debounceTimer) clearTimeout(debounceTimer);\n        debounceTimer = setTimeout(() => {\n            model.save_changes();\n        }, 100);\n      });\n\n      model.on(\"change:value\", () => {\n        slider.value = model.get(\"value\");\n        valueLabel.innerHTML = model.get(\"value\");\n      });\n\n      // Assemble row\n      sliderRow.appendChild(slider);\n      sliderRow.appendChild(valueLabel);\n\n      // Build structure\n      container.appendChild(topLabel);\n      container.appendChild(sliderRow);\n      el.appendChild(container);\n\n      const css = model.get(\"custom_css\");\n      if (css && css.trim().length > 0) {\n        let styleTag = document.createElement(\"style\");\n        styleTag.textContent = css;\n        el.appendChild(styleTag);\n      }\n    }\n    export default { render };\n    ",
       "_model_module": "anywidget",
       "_model_module_version": "~0.9.*",
       "_model_name": "AnyModel",
       "_view_module": "anywidget",
       "_view_module_version": "~0.9.*",
       "_view_name": "AnyView",
       "custom_css": "",
       "label": "Select number",
       "layout": "IPY_MODEL_1d24eab28d5c4320ac5f82baae6f9510",
       "max": 100,
       "min": 0,
       "position": "sidebar",
       "value": 0
      }
     },
     "fc55d376a5284b939451600742e535a1": {
      "model_module": "@jupyter-widgets/base",
      "model_module_version": "2.0.0",
      "model_name": "LayoutModel",
      "state": {}
     }
    },
    "version_major": 2,
    "version_minor": 0
   }
  }
 },
 "nbformat": 4,
 "nbformat_minor": 5
}
