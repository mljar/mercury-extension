{
 "cells": [
  {
   "cell_type": "code",
   "execution_count": 1,
   "id": "49c6c23e-26b2-4066-b6f3-2fcf0d0d2018",
   "metadata": {},
   "outputs": [],
   "source": [
    "from widgets.slider import Slider"
   ]
  },
  {
   "cell_type": "code",
   "execution_count": 13,
   "id": "53704474-4c17-439b-8875-3cd63cb935d5",
   "metadata": {},
   "outputs": [
    {
     "data": {
      "application/mercury+json": {
       "model_id": "fa547722e7ca48e685d6b3b1c703f87a",
       "position": "bottom",
       "widget": "SliderWidget"
      },
      "application/vnd.jupyter.widget-view+json": {
       "model_id": "fa547722e7ca48e685d6b3b1c703f87a",
       "version_major": 2,
       "version_minor": 1
      },
      "text/plain": [
       "SliderWidget(position='bottom')"
      ]
     },
     "metadata": {},
     "output_type": "display_data"
    }
   ],
   "source": [
    "s = Slider(position=\"bottom\")"
   ]
  },
  {
   "cell_type": "code",
   "execution_count": 3,
   "id": "90a90228-6c2a-4fd7-8600-4f019316398e",
   "metadata": {},
   "outputs": [
    {
     "data": {
      "text/plain": [
       "0"
      ]
     },
     "execution_count": 3,
     "metadata": {},
     "output_type": "execute_result"
    }
   ],
   "source": [
    "s.value"
   ]
  },
  {
   "cell_type": "markdown",
   "id": "c4677861-4e47-442b-b100-a029a74d5c15",
   "metadata": {},
   "source": [
    "# adsf asdf\n",
    "asdfasdfasdf asdf asd asdf asd 11111111111"
   ]
  },
  {
   "cell_type": "markdown",
   "id": "a9917b70-205c-4387-98af-1165e5308a6e",
   "metadata": {},
   "source": [
    "asdfasdf"
   ]
  },
  {
   "cell_type": "code",
   "execution_count": 4,
   "id": "4195e427-1713-4954-9850-be8fe973f28a",
   "metadata": {},
   "outputs": [],
   "source": [
    "from widgets.text import TextInput"
   ]
  },
  {
   "cell_type": "code",
   "execution_count": 14,
   "id": "bd663f4a-670c-4781-8c5b-75cf94c3f36c",
   "metadata": {},
   "outputs": [
    {
     "data": {
      "application/mercury+json": {
       "model_id": "e3d5bce66c3149b982be160732574538",
       "position": "sidebar",
       "widget": "TextInputWidget"
      },
      "application/vnd.jupyter.widget-view+json": {
       "model_id": "e3d5bce66c3149b982be160732574538",
       "version_major": 2,
       "version_minor": 1
      },
      "text/plain": [
       "TextInputWidget(cell_id='bd663f4a-670c-4781-8c5b-75cf94c3f36c', label='aaaa')"
      ]
     },
     "metadata": {},
     "output_type": "display_data"
    }
   ],
   "source": [
    "t = TextInput(label=\"aaaa\")"
   ]
  },
  {
   "cell_type": "code",
   "execution_count": 6,
   "id": "980aba80-e4d5-4c4d-890a-0c335d72497e",
   "metadata": {},
   "outputs": [
    {
     "data": {
      "text/plain": [
       "''"
      ]
     },
     "execution_count": 6,
     "metadata": {},
     "output_type": "execute_result"
    }
   ],
   "source": [
    "t.value"
   ]
  },
  {
   "cell_type": "code",
   "execution_count": 7,
   "id": "3f0e1443-da1f-41cb-9561-69d8bc52c66b",
   "metadata": {},
   "outputs": [],
   "source": [
    "# Define x, y, y2 based on s and t widgets\n",
    "x = [s.value, s.value + 1, s.value + 2]\n",
    "y = [len(t.value), len(t.value) ** 2, len(t.value) ** 3]\n",
    "y2 = [v**2 for v in x]"
   ]
  },
  {
   "cell_type": "code",
   "execution_count": 8,
   "id": "46cc2e98-f6d7-4473-baf9-226a11a89371",
   "metadata": {},
   "outputs": [],
   "source": [
    "from widgets.columns import Columns\n",
    "import matplotlib.pyplot as plt"
   ]
  },
  {
   "cell_type": "code",
   "execution_count": 9,
   "id": "e0293511-8f3c-4d0c-993e-343e93b90c52",
   "metadata": {},
   "outputs": [
    {
     "data": {
      "image/png": "[encoded data removed]",
      "text/plain": [
       "<Figure size 400x300 with 1 Axes>"
      ]
     },
     "metadata": {},
     "output_type": "display_data"
    }
   ],
   "source": [
    "plt.figure(figsize=(4,3))\n",
    "plt.plot(x, y, marker='o')\n",
    "plt.title('Plot: s.value and len(t.value)')\n",
    "plt.xlabel('s.value')\n",
    "plt.ylabel('len(t.value)')\n",
    "plt.grid(True)\n",
    "plt.show()"
   ]
  },
  {
   "cell_type": "code",
   "execution_count": 10,
   "id": "8a315979-d0dd-48aa-96bc-3cbbc625fe3d",
   "metadata": {},
   "outputs": [
    {
     "data": {
      "text/html": [
       "\n",
       "    <style>\n",
       "    .mljar-column {\n",
       "        border-radius: 4px !important;\n",
       "    }\n",
       "    </style>\n",
       "    "
      ],
      "text/plain": [
       "<IPython.core.display.HTML object>"
      ]
     },
     "metadata": {},
     "output_type": "display_data"
    },
    {
     "data": {
      "application/vnd.jupyter.widget-view+json": {
       "model_id": "1d0dd5ceba7a4c5f93afe6db743ecac2",
       "version_major": 2,
       "version_minor": 0
      },
      "text/plain": [
       "HBox(children=(Output(layout=Layout(border_bottom='1px solid #cccccc', border_left='1px solid #cccccc', border…"
      ]
     },
     "metadata": {},
     "output_type": "display_data"
    }
   ],
   "source": [
    "\n",
    "\n",
    "# Use Columns to create two side-by-side outputs\n",
    "out1, out2 = Columns(2)\n",
    "\n",
    "with out1:\n",
    "    out1.clear_output(wait=True)\n",
    "    plt.figure(figsize=(4,3))\n",
    "    plt.plot(x, y, marker='o')\n",
    "    plt.title('Plot: s.value and len(t.value)')\n",
    "    plt.xlabel('s.value')\n",
    "    plt.ylabel('len(t.value)')\n",
    "    plt.grid(True)\n",
    "    plt.show()\n",
    "\n",
    "with out2:\n",
    "    out2.clear_output(wait=True)\n",
    "    plt.figure(figsize=(4,3))\n",
    "    plt.plot(x, y2, marker='o', color='orange')\n",
    "    plt.title('Plot: s.value and (s.value)^2')\n",
    "    plt.xlabel('s.value')\n",
    "    plt.ylabel('y = (s.value)^2')\n",
    "    plt.grid(True)\n",
    "    plt.show()"
   ]
  },
  {
   "cell_type": "code",
   "execution_count": 10,
   "id": "0db01196-fc52-4eb2-b71d-a79071f5e4cf",
   "metadata": {},
   "outputs": [],
   "source": []
  },
  {
   "cell_type": "code",
   "execution_count": 10,
   "id": "20290dbe-5f9d-43a0-b3be-6c1946d98a68",
   "metadata": {},
   "outputs": [],
   "source": []
  },
  {
   "cell_type": "code",
   "execution_count": 11,
   "id": "dae6552e-5f6c-42c9-82a9-0660b4fc221e",
   "metadata": {},
   "outputs": [],
   "source": [
    "from widgets.indicator import Indicator"
   ]
  },
  {
   "cell_type": "code",
   "execution_count": 12,
   "id": "e79d9594-0866-43c1-97b0-51f2113a4e55",
   "metadata": {},
   "outputs": [
    {
     "data": {
      "text/html": [
       "\n",
       "        <style scoped>\n",
       "        .mljar-indicator-row {\n",
       "            width: 100%;\n",
       "            display: flex;\n",
       "            flex-direction: row;\n",
       "            gap: 5px;\n",
       "            justify-content: flex-start;\n",
       "        }\n",
       "        @media (max-width: 800px) {\n",
       "            .mljar-indicator-row {\n",
       "                flex-direction: column;\n",
       "            }\n",
       "        }\n",
       "        .mljar-indicator-card {\n",
       "            flex: 1 1 0;\n",
       "            background: var(--bg, #fff);\n",
       "            border: 1px solid var(--border, #ebebeb);\n",
       "            border-radius: 12px;\n",
       "            padding: 26px 24px 18px 24px;\n",
       "            margin: 8px;\n",
       "            text-align: center;                \n",
       "            min-width: 180px;\n",
       "            max-width: 240px !important;\n",
       "            box-shadow: 0 2px 8px rgba(0,0,0,0.04);\n",
       "        }\n",
       "        .mljar-indicator-title {\n",
       "            font-size: 1.3em !important;\n",
       "            color: var(--label, #555);\n",
       "            margin-bottom: 10px;\n",
       "            font-family: 'Inter', 'Segoe UI', Arial, sans-serif !important;\n",
       "        }\n",
       "        .mljar-indicator-value {\n",
       "            font-size: 2.7em;\n",
       "            color: var(--value, #222);\n",
       "            font-family: 'Menlo', 'Consolas', monospace;\n",
       "            margin-bottom: 12px;\n",
       "            letter-spacing: 1px;\n",
       "        }\n",
       "        .mljar-indicator-delta {\n",
       "            display: inline-block;\n",
       "            padding: 0.28em 1.1em 0.28em 1.1em;\n",
       "            font-size: 1em;\n",
       "            border-radius: 2em;\n",
       "            margin-bottom: 4px;\n",
       "            font-family: 'Menlo', monospace;\n",
       "            font-weight: bold;\n",
       "        }\n",
       "        .mljar-indicator-delta.up {\n",
       "            background: var(--bg-green, rgba(0,178,117,0.12));\n",
       "            color: var(--green, #00B275);\n",
       "        }\n",
       "        .mljar-indicator-delta.down {\n",
       "            background: var(--bg-red, rgba(255,99,132,0.13));\n",
       "            color: var(--red, #FF6384);\n",
       "        }\n",
       "        </style>\n",
       "        <div class='mljar-indicator-row'>\n",
       "        <style scoped>\n",
       "        .mljar-indicator-row {\n",
       "            width: 100%;\n",
       "            display: flex;\n",
       "            flex-direction: row;\n",
       "            gap: 5px;\n",
       "            justify-content: flex-start;\n",
       "        }\n",
       "        @media (max-width: 800px) {\n",
       "            .mljar-indicator-row {\n",
       "                flex-direction: column;\n",
       "            }\n",
       "        }\n",
       "        .mljar-indicator-card {\n",
       "            flex: 1 1 0;\n",
       "            background: var(--bg, #fff);\n",
       "            border: 1px solid var(--border, #ebebeb);\n",
       "            border-radius: 12px;\n",
       "            padding: 26px 24px 18px 24px;\n",
       "            margin: 8px;\n",
       "            text-align: center;                \n",
       "            min-width: 180px;\n",
       "            max-width: 240px !important;\n",
       "            box-shadow: 0 2px 8px rgba(0,0,0,0.04);\n",
       "        }\n",
       "        .mljar-indicator-title {\n",
       "            font-size: 1.3em !important;\n",
       "            color: var(--label, #555);\n",
       "            margin-bottom: 10px;\n",
       "            font-family: 'Inter', 'Segoe UI', Arial, sans-serif !important;\n",
       "        }\n",
       "        .mljar-indicator-value {\n",
       "            font-size: 2.7em;\n",
       "            color: var(--value, #222);\n",
       "            font-family: 'Menlo', 'Consolas', monospace;\n",
       "            margin-bottom: 12px;\n",
       "            letter-spacing: 1px;\n",
       "        }\n",
       "        .mljar-indicator-delta {\n",
       "            display: inline-block;\n",
       "            padding: 0.28em 1.1em 0.28em 1.1em;\n",
       "            font-size: 1em;\n",
       "            border-radius: 2em;\n",
       "            margin-bottom: 4px;\n",
       "            font-family: 'Menlo', monospace;\n",
       "            font-weight: bold;\n",
       "        }\n",
       "        .mljar-indicator-delta.up {\n",
       "            background: var(--bg-green, rgba(0,178,117,0.12));\n",
       "            color: var(--green, #00B275);\n",
       "        }\n",
       "        .mljar-indicator-delta.down {\n",
       "            background: var(--bg-red, rgba(255,99,132,0.13));\n",
       "            color: var(--red, #FF6384);\n",
       "        }\n",
       "        </style>\n",
       "        \n",
       "<div class=\"mljar-indicator-card\"\n",
       "     style=\"--bg:#fff;--border:#ebebeb;--value:#222;--label:#555;--green:#00B275;--bg-green:rgba(0, 178, 117, 0.12);--red:#FF6384;--bg-red:rgba(255, 99, 132, 0.13)\">\n",
       "    <div class='mljar-indicator-title'>asdfasdf</div>\n",
       "    <div class='mljar-indicator-value'>0</div>\n",
       "    <div class='mljar-indicator-delta down'><span style='font-size:1.15em'>&#8595;</span> 12.0%</div>\n",
       "</div>\n",
       "\n",
       "        <style scoped>\n",
       "        .mljar-indicator-row {\n",
       "            width: 100%;\n",
       "            display: flex;\n",
       "            flex-direction: row;\n",
       "            gap: 5px;\n",
       "            justify-content: flex-start;\n",
       "        }\n",
       "        @media (max-width: 800px) {\n",
       "            .mljar-indicator-row {\n",
       "                flex-direction: column;\n",
       "            }\n",
       "        }\n",
       "        .mljar-indicator-card {\n",
       "            flex: 1 1 0;\n",
       "            background: var(--bg, #fff);\n",
       "            border: 1px solid var(--border, #ebebeb);\n",
       "            border-radius: 12px;\n",
       "            padding: 26px 24px 18px 24px;\n",
       "            margin: 8px;\n",
       "            text-align: center;                \n",
       "            min-width: 180px;\n",
       "            max-width: 240px !important;\n",
       "            box-shadow: 0 2px 8px rgba(0,0,0,0.04);\n",
       "        }\n",
       "        .mljar-indicator-title {\n",
       "            font-size: 1.3em !important;\n",
       "            color: var(--label, #555);\n",
       "            margin-bottom: 10px;\n",
       "            font-family: 'Inter', 'Segoe UI', Arial, sans-serif !important;\n",
       "        }\n",
       "        .mljar-indicator-value {\n",
       "            font-size: 2.7em;\n",
       "            color: var(--value, #222);\n",
       "            font-family: 'Menlo', 'Consolas', monospace;\n",
       "            margin-bottom: 12px;\n",
       "            letter-spacing: 1px;\n",
       "        }\n",
       "        .mljar-indicator-delta {\n",
       "            display: inline-block;\n",
       "            padding: 0.28em 1.1em 0.28em 1.1em;\n",
       "            font-size: 1em;\n",
       "            border-radius: 2em;\n",
       "            margin-bottom: 4px;\n",
       "            font-family: 'Menlo', monospace;\n",
       "            font-weight: bold;\n",
       "        }\n",
       "        .mljar-indicator-delta.up {\n",
       "            background: var(--bg-green, rgba(0,178,117,0.12));\n",
       "            color: var(--green, #00B275);\n",
       "        }\n",
       "        .mljar-indicator-delta.down {\n",
       "            background: var(--bg-red, rgba(255,99,132,0.13));\n",
       "            color: var(--red, #FF6384);\n",
       "        }\n",
       "        </style>\n",
       "        \n",
       "<div class=\"mljar-indicator-card\"\n",
       "     style=\"--bg:#fff;--border:#ebebeb;--value:#222;--label:#555;--green:#00B275;--bg-green:rgba(0, 178, 117, 0.12);--red:#FF6384;--bg-red:rgba(255, 99, 132, 0.13)\">\n",
       "    <div class='mljar-indicator-title'>tests</div>\n",
       "    <div class='mljar-indicator-value'>0</div>\n",
       "    <div class='mljar-indicator-delta down'><span style='font-size:1.15em'>&#8595;</span> 12.0%</div>\n",
       "</div>\n",
       "</div>"
      ],
      "text/plain": [
       "<widgets.indicator.Indicator at 0x7b88fcde6590>"
      ]
     },
     "execution_count": 12,
     "metadata": {},
     "output_type": "execute_result"
    }
   ],
   "source": [
    "Indicator([\n",
    "    Indicator(s.value, t.value or \"asdfasdf\", -12),\n",
    "    Indicator(len(t.value), \"tests\", -12)])"
   ]
  },
  {
   "cell_type": "code",
   "execution_count": 12,
   "id": "62c90990-735d-49d2-8f72-b2d134c0a6a6",
   "metadata": {},
   "outputs": [],
   "source": []
  },
  {
   "cell_type": "code",
   "execution_count": 12,
   "id": "43bf9999-b01b-460d-b48d-56e7e5f0071e",
   "metadata": {},
   "outputs": [],
   "source": []
  },
  {
   "cell_type": "code",
   "execution_count": 12,
   "id": "5ad3816d-7ef4-44da-b129-2830534509e5",
   "metadata": {},
   "outputs": [],
   "source": []
  },
  {
   "cell_type": "code",
   "execution_count": 12,
   "id": "39322b89-a58c-4acd-bcf8-6fc1253237f7",
   "metadata": {},
   "outputs": [],
   "source": []
  }
 ],
 "metadata": {
  "kernelspec": {
   "display_name": "Python 3 (ipykernel)",
   "language": "python",
   "name": "python3"
  },
  "language_info": {
   "codemirror_mode": {
    "name": "ipython",
    "version": 3
   },
   "file_extension": ".py",
   "mimetype": "text/x-python",
   "name": "python",
   "nbconvert_exporter": "python",
   "pygments_lexer": "ipython3",
   "version": "3.11.5"
  },
  "widgets": {
   "application/vnd.jupyter.widget-state+json": {
    "state": {
     "1d0dd5ceba7a4c5f93afe6db743ecac2": {
      "model_module": "@jupyter-widgets/controls",
      "model_module_version": "2.0.0",
      "model_name": "HBoxModel",
      "state": {
       "children": [
        "IPY_MODEL_5ab4c001ecdf47baba5506891831825e",
        "IPY_MODEL_7a905af845c3433da3082ec9198f6b30"
       ],
       "layout": "IPY_MODEL_a141f31dfab34015b53a8a8b284ce07a"
      }
     },
     "2e4483ec495c477e996261e5e57e1dbc": {
      "model_module": "anywidget",
      "model_module_version": "~0.9.*",
      "model_name": "AnyModel",
      "state": {
       "_anywidget_id": "widgets.slider.SliderWidget",
       "_css": "\n    .mljar-slider-container {\n        display: flex;\n        flex-direction: column;\n        align-items: flex-start;\n        width: 100%;\n        min-width: 120px;\n        font-family: Arial, sans-serif;\n        font-size: 12px;\n        font-weight: normal;\n        color: #222222;\n    }\n\n    .mljar-slider-top-label {\n        margin-bottom: 6px;\n        font-weight: bold;\n    }\n\n    .mljar-slider-row {\n        display: flex;\n        flex-direction: row;\n        align-items: center;\n        width: 100%;\n        overflow: hidden;\n    }\n\n    .mljar-slider-input {\n        flex: 1 1 auto;\n        min-width: 60px;\n        max-width: 100%;\n        margin-right: 16px;\n        background: transparent;\n        -webkit-appearance: none;\n        appearance: none;\n        border: none;\n        height: 24px; /* big enough for thumb */\n        padding: 0;\n    }\n\n    .mljar-slider-input:focus {\n        outline: none;\n    }\n\n    /* Track */\n    .mljar-slider-input::-webkit-slider-runnable-track {\n        height: 6px;\n        background: #e0e0e0;\n        border-radius: 4px;\n        margin: auto; /* center track in the input box */\n    }\n    .mljar-slider-input::-moz-range-track {\n        height: 6px;\n        background: #e0e0e0;\n        border-radius: 4px;\n    }\n\n    /* Thumb */\n    .mljar-slider-input::-webkit-slider-thumb {\n        -webkit-appearance: none;\n        appearance: none;\n        width: 16px;\n        height: 16px;\n        border-radius: 50%;\n        background: #007bff;\n        cursor: pointer;\n        margin-top: -5px; /* centers thumb on track */\n    }\n    .mljar-slider-input::-moz-range-thumb {\n        width: 16px;\n        height: 16px;\n        border-radius: 50%;\n        background: #007bff;\n        cursor: pointer;\n    }\n\n    .mljar-slider-value-label {\n        font-weight: bold;\n        font-size: 1.1em;\n        color: #222222;\n        margin-left: 8px;\n    }\n    ",
       "_esm": "\nfunction render({ model, el }) {\n  // Your existing UI creation code (unchanged) ...\n  const container = document.createElement(\"div\");\n  container.classList.add(\"mljar-slider-container\");\n\n  const topLabel = document.createElement(\"div\");\n  topLabel.classList.add(\"mljar-slider-top-label\");\n  topLabel.innerHTML = model.get(\"label\") || \"Select number\";\n\n  const sliderRow = document.createElement(\"div\");\n  sliderRow.classList.add(\"mljar-slider-row\");\n\n  const slider = document.createElement(\"input\");\n  slider.type = \"range\";\n  slider.min = model.get(\"min\");\n  slider.max = model.get(\"max\");\n  slider.value = model.get(\"value\");\n  slider.classList.add(\"mljar-slider-input\");\n\n  const valueLabel = document.createElement(\"span\");\n  valueLabel.classList.add(\"mljar-slider-value-label\");\n  valueLabel.innerHTML = model.get(\"value\");\n\n  let debounceTimer = null;\n  slider.addEventListener(\"input\", () => {\n    model.set(\"value\", Number(slider.value));\n    if (debounceTimer) clearTimeout(debounceTimer);\n    debounceTimer = setTimeout(() => model.save_changes(), 100);\n  });\n\n  model.on(\"change:value\", () => {\n    slider.value = model.get(\"value\");\n    valueLabel.innerHTML = model.get(\"value\");\n  });\n\n  sliderRow.appendChild(slider);\n  sliderRow.appendChild(valueLabel);\n  container.appendChild(topLabel);\n  container.appendChild(sliderRow);\n  el.appendChild(container);\n\n  // ---- read cell id (no DOM modifications) ----\nconst LOG_PREFIX = '[SliderWidget]';\nconst ID_ATTR = 'data-cell-id';\nconst hostWithId = el.closest(`[${ID_ATTR}]`);\nconst cellId = hostWithId ? hostWithId.getAttribute(ID_ATTR) : null;\n\nif (cellId) {\n  // console.log(`${LOG_PREFIX} found cell_id`, cellId);\n  model.set('cell_id', cellId);\n  model.save_changes();\n  // also send an explicit event\n  model.send({ type: 'cell_id_detected', value: cellId });\n        \n}\n\n  // Optional: handle case where stamp might appear slightly later\n  if (!cellId) {\n    const mo = new MutationObserver(() => {\n      const host = el.closest(`[${ID_ATTR}]`);\n      const newId = host?.getAttribute(ID_ATTR);\n      if (newId) {\n        // console.log('set cell id', newId);\n        model.set('cell_id', newId);\n        model.save_changes();\n        \n        // also send an explicit event\n        model.send({ type: 'cell_id_detected', value: newId });\n        \n        mo.disconnect();\n      }\n    });\n    mo.observe(document.body, { attributes: true, subtree: true, attributeFilter: [ID_ATTR] });\n  }\n}\nexport default { render };\n    ",
       "_model_module": "anywidget",
       "_model_module_version": "~0.9.*",
       "_model_name": "AnyModel",
       "_view_module": "anywidget",
       "_view_module_version": "~0.9.*",
       "_view_name": "AnyView",
       "cell_id": "53704474-4c17-439b-8875-3cd63cb935d5",
       "custom_css": "",
       "label": "Select number",
       "layout": "IPY_MODEL_407e60a6c1554b5d8f52d6c7ee9fc323",
       "max": 100,
       "min": 0,
       "position": "sidebar",
       "value": 0
      }
     },
     "37f0cb59bd57490b998b3a80c7a532dc": {
      "model_module": "@jupyter-widgets/base",
      "model_module_version": "2.0.0",
      "model_name": "LayoutModel",
      "state": {
       "border_bottom": "1px solid #cccccc",
       "border_left": "1px solid #cccccc",
       "border_right": "1px solid #cccccc",
       "border_top": "1px solid #cccccc",
       "flex": "1 1 0px",
       "min_width": "240px",
       "padding": "4px"
      }
     },
     "407e60a6c1554b5d8f52d6c7ee9fc323": {
      "model_module": "@jupyter-widgets/base",
      "model_module_version": "2.0.0",
      "model_name": "LayoutModel",
      "state": {}
     },
     "5ab4c001ecdf47baba5506891831825e": {
      "model_module": "@jupyter-widgets/output",
      "model_module_version": "1.0.0",
      "model_name": "OutputModel",
      "state": {
       "_dom_classes": [
        "mljar-column"
       ],
       "layout": "IPY_MODEL_37f0cb59bd57490b998b3a80c7a532dc",
       "outputs": [
        {
         "data": {
          "image/png": "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",
          "text/plain": "<Figure size 400x300 with 1 Axes>"
         },
         "metadata": {},
         "output_type": "display_data"
        }
       ]
      }
     },
     "7a905af845c3433da3082ec9198f6b30": {
      "model_module": "@jupyter-widgets/output",
      "model_module_version": "1.0.0",
      "model_name": "OutputModel",
      "state": {
       "_dom_classes": [
        "mljar-column"
       ],
       "layout": "IPY_MODEL_83bf62a881364751bb845db389022c30",
       "outputs": [
        {
         "data": {
          "image/png": "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",
          "text/plain": "<Figure size 400x300 with 1 Axes>"
         },
         "metadata": {},
         "output_type": "display_data"
        }
       ]
      }
     },
     "83bf62a881364751bb845db389022c30": {
      "model_module": "@jupyter-widgets/base",
      "model_module_version": "2.0.0",
      "model_name": "LayoutModel",
      "state": {
       "border_bottom": "1px solid #cccccc",
       "border_left": "1px solid #cccccc",
       "border_right": "1px solid #cccccc",
       "border_top": "1px solid #cccccc",
       "flex": "1 1 0px",
       "min_width": "240px",
       "padding": "4px"
      }
     },
     "a141f31dfab34015b53a8a8b284ce07a": {
      "model_module": "@jupyter-widgets/base",
      "model_module_version": "2.0.0",
      "model_name": "LayoutModel",
      "state": {
       "align_items": "stretch",
       "display": "flex",
       "flex_flow": "row wrap",
       "width": "100%"
      }
     },
     "df73a399d3484fe79c58ca1fc531145c": {
      "model_module": "@jupyter-widgets/base",
      "model_module_version": "2.0.0",
      "model_name": "LayoutModel",
      "state": {}
     },
     "e3d5bce66c3149b982be160732574538": {
      "model_module": "anywidget",
      "model_module_version": "~0.9.*",
      "model_name": "AnyModel",
      "state": {
       "_anywidget_id": "widgets.text.TextInputWidget",
       "_css": "\n    .mljar-textinput-container {\n        display: flex;\n        flex-direction: column;\n        align-items: flex-start;\n        width: 100%;\n        min-width: 120px;\n        font-family: Arial, sans-serif;\n        font-size: 12px;\n        font-weight: normal;\n        color: #222222;\n\n    }\n\n    .mljar-textinput-top-label {\n        margin-bottom: 6px;\n        text-align: left;\n        width: 100%;\n        font-weight: bold;\n    }\n\n    .mljar-textinput-input {\n        width: 100%;\n        border: 1px solid #cccccc;\n        border-radius: 4px;\n        padding: 6px 10px;\n        min-height: 1.6em;\n        box-sizing: border-box;\n        background: #ebf0fa;\n        color: #222222;\n    }\n\n    .mljar-textinput-input:focus {\n        outline: none;\n        border-color: #007bff;\n    }\n    ",
       "_esm": "\n    function render({ model, el }) {\n      // Container\n      let container = document.createElement(\"div\");\n      container.classList.add(\"mljar-textinput-container\");\n\n      // Label\n      let topLabel = document.createElement(\"div\");\n      topLabel.classList.add(\"mljar-textinput-top-label\");\n      topLabel.innerHTML = model.get(\"label\") || \"Enter text\";\n\n      // Input\n      let input = document.createElement(\"input\");\n      input.type = \"text\";\n      input.value = model.get(\"value\");\n      input.classList.add(\"mljar-textinput-input\");\n\n      let debounceTimer = null;\n      input.addEventListener(\"input\", () => {\n        model.set(\"value\", input.value);\n        if (debounceTimer) clearTimeout(debounceTimer);\n        debounceTimer = setTimeout(() => model.save_changes(), 100);\n      });\n\n      model.on(\"change:value\", () => {\n        input.value = model.get(\"value\");\n      });\n\n      // Build\n      container.appendChild(topLabel);\n      container.appendChild(input);\n      el.appendChild(container);\n\n      const css = model.get(\"custom_css\");\n      if (css && css.trim().length > 0) {\n        let styleTag = document.createElement(\"style\");\n        styleTag.textContent = css;\n        el.appendChild(styleTag);\n      }\n\n      // ---- read cell id (no DOM modifications) ----\n      const ID_ATTR = 'data-cell-id';\n      const hostWithId = el.closest(`[${ID_ATTR}]`);\n      const cellId = hostWithId ? hostWithId.getAttribute(ID_ATTR) : null;\n\n      if (cellId) {\n        model.set('cell_id', cellId);\n        model.save_changes();\n        model.send({ type: 'cell_id_detected', value: cellId });\n      } else {\n        // handle case where the attribute appears slightly later\n        const mo = new MutationObserver(() => {\n          const host = el.closest(`[${ID_ATTR}]`);\n          const newId = host?.getAttribute(ID_ATTR);\n          if (newId) {\n            model.set('cell_id', newId);\n            model.save_changes();\n            model.send({ type: 'cell_id_detected', value: newId });\n            mo.disconnect();\n          }\n        });\n        mo.observe(document.body, { attributes: true, subtree: true, attributeFilter: [ID_ATTR] });\n      }\n    }\n    export default { render };\n    ",
       "_model_module": "anywidget",
       "_model_module_version": "~0.9.*",
       "_model_name": "AnyModel",
       "_view_module": "anywidget",
       "_view_module_version": "~0.9.*",
       "_view_name": "AnyView",
       "cell_id": "bd663f4a-670c-4781-8c5b-75cf94c3f36c",
       "custom_css": "",
       "label": "aaaa",
       "layout": "IPY_MODEL_eb3e9178d1514c5b945a6ae9f9dcc031",
       "position": "sidebar",
       "value": ""
      }
     },
     "eb3e9178d1514c5b945a6ae9f9dcc031": {
      "model_module": "@jupyter-widgets/base",
      "model_module_version": "2.0.0",
      "model_name": "LayoutModel",
      "state": {}
     },
     "fa547722e7ca48e685d6b3b1c703f87a": {
      "model_module": "anywidget",
      "model_module_version": "~0.9.*",
      "model_name": "AnyModel",
      "state": {
       "_anywidget_id": "widgets.slider.SliderWidget",
       "_css": "\n    .mljar-slider-container {\n        display: flex;\n        flex-direction: column;\n        align-items: flex-start;\n        width: 100%;\n        min-width: 120px;\n        font-family: Arial, sans-serif;\n        font-size: 12px;\n        font-weight: normal;\n        color: #222222;\n    }\n\n    .mljar-slider-top-label {\n        margin-bottom: 6px;\n        font-weight: bold;\n    }\n\n    .mljar-slider-row {\n        display: flex;\n        flex-direction: row;\n        align-items: center;\n        width: 100%;\n        overflow: hidden;\n    }\n\n    .mljar-slider-input {\n        flex: 1 1 auto;\n        min-width: 60px;\n        max-width: 100%;\n        margin-right: 16px;\n        background: transparent;\n        -webkit-appearance: none;\n        appearance: none;\n        border: none;\n        height: 24px; /* big enough for thumb */\n        padding: 0;\n    }\n\n    .mljar-slider-input:focus {\n        outline: none;\n    }\n\n    /* Track */\n    .mljar-slider-input::-webkit-slider-runnable-track {\n        height: 6px;\n        background: #e0e0e0;\n        border-radius: 4px;\n        margin: auto; /* center track in the input box */\n    }\n    .mljar-slider-input::-moz-range-track {\n        height: 6px;\n        background: #e0e0e0;\n        border-radius: 4px;\n    }\n\n    /* Thumb */\n    .mljar-slider-input::-webkit-slider-thumb {\n        -webkit-appearance: none;\n        appearance: none;\n        width: 16px;\n        height: 16px;\n        border-radius: 50%;\n        background: #007bff;\n        cursor: pointer;\n        margin-top: -5px; /* centers thumb on track */\n    }\n    .mljar-slider-input::-moz-range-thumb {\n        width: 16px;\n        height: 16px;\n        border-radius: 50%;\n        background: #007bff;\n        cursor: pointer;\n    }\n\n    .mljar-slider-value-label {\n        font-weight: bold;\n        font-size: 1.1em;\n        color: #222222;\n        margin-left: 8px;\n    }\n    ",
       "_esm": "\nfunction render({ model, el }) {\n  // Your existing UI creation code (unchanged) ...\n  const container = document.createElement(\"div\");\n  container.classList.add(\"mljar-slider-container\");\n\n  const topLabel = document.createElement(\"div\");\n  topLabel.classList.add(\"mljar-slider-top-label\");\n  topLabel.innerHTML = model.get(\"label\") || \"Select number\";\n\n  const sliderRow = document.createElement(\"div\");\n  sliderRow.classList.add(\"mljar-slider-row\");\n\n  const slider = document.createElement(\"input\");\n  slider.type = \"range\";\n  slider.min = model.get(\"min\");\n  slider.max = model.get(\"max\");\n  slider.value = model.get(\"value\");\n  slider.classList.add(\"mljar-slider-input\");\n\n  const valueLabel = document.createElement(\"span\");\n  valueLabel.classList.add(\"mljar-slider-value-label\");\n  valueLabel.innerHTML = model.get(\"value\");\n\n  let debounceTimer = null;\n  slider.addEventListener(\"input\", () => {\n    model.set(\"value\", Number(slider.value));\n    if (debounceTimer) clearTimeout(debounceTimer);\n    debounceTimer = setTimeout(() => model.save_changes(), 100);\n  });\n\n  model.on(\"change:value\", () => {\n    slider.value = model.get(\"value\");\n    valueLabel.innerHTML = model.get(\"value\");\n  });\n\n  sliderRow.appendChild(slider);\n  sliderRow.appendChild(valueLabel);\n  container.appendChild(topLabel);\n  container.appendChild(sliderRow);\n  el.appendChild(container);\n\n  // ---- read cell id (no DOM modifications) ----\nconst LOG_PREFIX = '[SliderWidget]';\nconst ID_ATTR = 'data-cell-id';\nconst hostWithId = el.closest(`[${ID_ATTR}]`);\nconst cellId = hostWithId ? hostWithId.getAttribute(ID_ATTR) : null;\n\nif (cellId) {\n  // console.log(`${LOG_PREFIX} found cell_id`, cellId);\n  model.set('cell_id', cellId);\n  model.save_changes();\n  // also send an explicit event\n  model.send({ type: 'cell_id_detected', value: cellId });\n        \n}\n\n  // Optional: handle case where stamp might appear slightly later\n  if (!cellId) {\n    const mo = new MutationObserver(() => {\n      const host = el.closest(`[${ID_ATTR}]`);\n      const newId = host?.getAttribute(ID_ATTR);\n      if (newId) {\n        // console.log('set cell id', newId);\n        model.set('cell_id', newId);\n        model.save_changes();\n        \n        // also send an explicit event\n        model.send({ type: 'cell_id_detected', value: newId });\n        \n        mo.disconnect();\n      }\n    });\n    mo.observe(document.body, { attributes: true, subtree: true, attributeFilter: [ID_ATTR] });\n  }\n}\nexport default { render };\n    ",
       "_model_module": "anywidget",
       "_model_module_version": "~0.9.*",
       "_model_name": "AnyModel",
       "_view_module": "anywidget",
       "_view_module_version": "~0.9.*",
       "_view_name": "AnyView",
       "cell_id": "53704474-4c17-439b-8875-3cd63cb935d5",
       "custom_css": "",
       "label": "Select number",
       "layout": "IPY_MODEL_df73a399d3484fe79c58ca1fc531145c",
       "max": 100,
       "min": 0,
       "position": "bottom",
       "value": 0
      }
     }
    },
    "version_major": 2,
    "version_minor": 0
   }
  }
 },
 "nbformat": 4,
 "nbformat_minor": 5
}
