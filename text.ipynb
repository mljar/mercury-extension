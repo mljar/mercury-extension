{
 "cells": [
  {
   "cell_type": "code",
   "execution_count": 1,
   "id": "49c6c23e-26b2-4066-b6f3-2fcf0d0d2018",
   "metadata": {},
   "outputs": [],
   "source": [
    "from widgets.slider import Slider"
   ]
  },
  {
   "cell_type": "code",
   "execution_count": 2,
   "id": "53704474-4c17-439b-8875-3cd63cb935d5",
   "metadata": {},
   "outputs": [
    {
     "data": {
      "application/mercury+json": "{\n    \"widget\": \"SliderWidget\",\n    \"model_id\": \"d15d98d0a39941c0b25470fd79041e6b\",\n    \"position\": \"sidebar\"\n}",
      "application/vnd.jupyter.widget-view+json": {
       "model_id": "d15d98d0a39941c0b25470fd79041e6b",
       "version_major": 2,
       "version_minor": 1
      },
      "text/plain": [
       "SliderWidget()"
      ]
     },
     "metadata": {},
     "output_type": "display_data"
    }
   ],
   "source": [
    "s = Slider()"
   ]
  },
  {
   "cell_type": "code",
   "execution_count": 203,
   "id": "90a90228-6c2a-4fd7-8600-4f019316398e",
   "metadata": {},
   "outputs": [
    {
     "data": {
      "text/plain": [
       "27"
      ]
     },
     "execution_count": 203,
     "metadata": {},
     "output_type": "execute_result"
    }
   ],
   "source": [
    "s.value"
   ]
  },
  {
   "cell_type": "markdown",
   "id": "c4677861-4e47-442b-b100-a029a74d5c15",
   "metadata": {},
   "source": [
    "# adsf asdf\n",
    "asdfasdfasdf asdf asd asdf asd 11111111111"
   ]
  },
  {
   "cell_type": "markdown",
   "id": "a9917b70-205c-4387-98af-1165e5308a6e",
   "metadata": {},
   "source": [
    "asdfasdf"
   ]
  },
  {
   "cell_type": "code",
   "execution_count": 204,
   "id": "4195e427-1713-4954-9850-be8fe973f28a",
   "metadata": {},
   "outputs": [],
   "source": [
    "from widgets.text import TextInput"
   ]
  },
  {
   "cell_type": "code",
   "execution_count": 205,
   "id": "bd663f4a-670c-4781-8c5b-75cf94c3f36c",
   "metadata": {},
   "outputs": [
    {
     "data": {
      "application/mercury+json": "{\n    \"widget\": \"TextInputWidget\",\n    \"model_id\": \"161720d82a254378899b179b665b3084\",\n    \"position\": \"sidebar\"\n}",
      "application/vnd.jupyter.widget-view+json": {
       "model_id": "161720d82a254378899b179b665b3084",
       "version_major": 2,
       "version_minor": 1
      },
      "text/plain": [
       "TextInputWidget(label='aaaa')"
      ]
     },
     "metadata": {},
     "output_type": "display_data"
    }
   ],
   "source": [
    "t = TextInput(label=\"aaaa\")"
   ]
  },
  {
   "cell_type": "code",
   "execution_count": 206,
   "id": "980aba80-e4d5-4c4d-890a-0c335d72497e",
   "metadata": {},
   "outputs": [
    {
     "data": {
      "text/plain": [
       "''"
      ]
     },
     "execution_count": 206,
     "metadata": {},
     "output_type": "execute_result"
    }
   ],
   "source": [
    "t.value"
   ]
  },
  {
   "cell_type": "code",
   "execution_count": 207,
   "id": "3f0e1443-da1f-41cb-9561-69d8bc52c66b",
   "metadata": {},
   "outputs": [],
   "source": [
    "# Define x, y, y2 based on s and t widgets\n",
    "x = [s.value, s.value + 1, s.value + 2]\n",
    "y = [len(t.value), len(t.value) ** 2, len(t.value) ** 3]\n",
    "y2 = [v**2 for v in x]"
   ]
  },
  {
   "cell_type": "code",
   "execution_count": 208,
   "id": "46cc2e98-f6d7-4473-baf9-226a11a89371",
   "metadata": {},
   "outputs": [],
   "source": [
    "from widgets.columns import Columns\n",
    "import matplotlib.pyplot as plt"
   ]
  },
  {
   "cell_type": "code",
   "execution_count": 209,
   "id": "e0293511-8f3c-4d0c-993e-343e93b90c52",
   "metadata": {},
   "outputs": [
    {
     "data": {
      "image/png": "[encoded data removed]",
      "text/plain": [
       "<Figure size 400x300 with 1 Axes>"
      ]
     },
     "metadata": {},
     "output_type": "display_data"
    }
   ],
   "source": [
    "plt.figure(figsize=(4,3))\n",
    "plt.plot(x, y, marker='o')\n",
    "plt.title('Plot: s.value and len(t.value)')\n",
    "plt.xlabel('s.value')\n",
    "plt.ylabel('len(t.value)')\n",
    "plt.grid(True)\n",
    "plt.show()"
   ]
  },
  {
   "cell_type": "code",
   "execution_count": 210,
   "id": "8a315979-d0dd-48aa-96bc-3cbbc625fe3d",
   "metadata": {},
   "outputs": [
    {
     "data": {
      "application/vnd.jupyter.widget-view+json": {
       "model_id": "87f397f31f9e4ee691f12be46a9846b7",
       "version_major": 2,
       "version_minor": 0
      },
      "text/plain": [
       "HBox(children=(Output(layout=Layout(flex='1 1 0px', min_width='240px'), outputs=({'output_type': 'display_data…"
      ]
     },
     "metadata": {},
     "output_type": "display_data"
    }
   ],
   "source": [
    "\n",
    "\n",
    "# Use Columns to create two side-by-side outputs\n",
    "out1, out2 = Columns(2)\n",
    "\n",
    "with out1:\n",
    "    out1.clear_output(wait=True)\n",
    "    plt.figure(figsize=(4,3))\n",
    "    plt.plot(x, y, marker='o')\n",
    "    plt.title('Plot: s.value and len(t.value)')\n",
    "    plt.xlabel('s.value')\n",
    "    plt.ylabel('len(t.value)')\n",
    "    plt.grid(True)\n",
    "    plt.show()\n",
    "\n",
    "with out2:\n",
    "    out2.clear_output(wait=True)\n",
    "    plt.figure(figsize=(4,3))\n",
    "    plt.plot(x, y2, marker='o', color='orange')\n",
    "    plt.title('Plot: s.value and (s.value)^2')\n",
    "    plt.xlabel('s.value')\n",
    "    plt.ylabel('y = (s.value)^2')\n",
    "    plt.grid(True)\n",
    "    plt.show()"
   ]
  },
  {
   "cell_type": "code",
   "execution_count": 210,
   "id": "0db01196-fc52-4eb2-b71d-a79071f5e4cf",
   "metadata": {},
   "outputs": [],
   "source": []
  },
  {
   "cell_type": "code",
   "execution_count": 210,
   "id": "20290dbe-5f9d-43a0-b3be-6c1946d98a68",
   "metadata": {},
   "outputs": [],
   "source": []
  },
  {
   "cell_type": "code",
   "execution_count": 211,
   "id": "dae6552e-5f6c-42c9-82a9-0660b4fc221e",
   "metadata": {},
   "outputs": [],
   "source": [
    "from widgets.indicator import Indicator"
   ]
  },
  {
   "cell_type": "code",
   "execution_count": 212,
   "id": "e79d9594-0866-43c1-97b0-51f2113a4e55",
   "metadata": {},
   "outputs": [
    {
     "data": {
      "text/html": [
       "\n",
       "        <style scoped>\n",
       "        .mljar-indicator-row {\n",
       "            width: 100%;\n",
       "            display: flex;\n",
       "            flex-direction: row;\n",
       "            gap: 5px;\n",
       "            justify-content: flex-start;\n",
       "        }\n",
       "        @media (max-width: 800px) {\n",
       "            .mljar-indicator-row {\n",
       "                flex-direction: column;\n",
       "            }\n",
       "        }\n",
       "        .mljar-indicator-card {\n",
       "            flex: 1 1 0;\n",
       "            background: var(--bg, #fff);\n",
       "            border: 1px solid var(--border, #ebebeb);\n",
       "            border-radius: 12px;\n",
       "            padding: 26px 24px 18px 24px;\n",
       "            margin: 8px;\n",
       "            text-align: center;                \n",
       "            min-width: 180px;\n",
       "            max-width: 240px !important;\n",
       "            box-shadow: 0 2px 8px rgba(0,0,0,0.04);\n",
       "        }\n",
       "        .mljar-indicator-title {\n",
       "            font-size: 1.3em !important;\n",
       "            color: var(--label, #555);\n",
       "            margin-bottom: 10px;\n",
       "            font-family: 'Inter', 'Segoe UI', Arial, sans-serif !important;\n",
       "        }\n",
       "        .mljar-indicator-value {\n",
       "            font-size: 2.7em;\n",
       "            color: var(--value, #222);\n",
       "            font-family: 'Menlo', 'Consolas', monospace;\n",
       "            margin-bottom: 12px;\n",
       "            letter-spacing: 1px;\n",
       "        }\n",
       "        .mljar-indicator-delta {\n",
       "            display: inline-block;\n",
       "            padding: 0.28em 1.1em 0.28em 1.1em;\n",
       "            font-size: 1em;\n",
       "            border-radius: 2em;\n",
       "            margin-bottom: 4px;\n",
       "            font-family: 'Menlo', monospace;\n",
       "            font-weight: bold;\n",
       "        }\n",
       "        .mljar-indicator-delta.up {\n",
       "            background: var(--bg-green, rgba(0,178,117,0.12));\n",
       "            color: var(--green, #00B275);\n",
       "        }\n",
       "        .mljar-indicator-delta.down {\n",
       "            background: var(--bg-red, rgba(255,99,132,0.13));\n",
       "            color: var(--red, #FF6384);\n",
       "        }\n",
       "        </style>\n",
       "        <div class='mljar-indicator-row'>\n",
       "        <style scoped>\n",
       "        .mljar-indicator-row {\n",
       "            width: 100%;\n",
       "            display: flex;\n",
       "            flex-direction: row;\n",
       "            gap: 5px;\n",
       "            justify-content: flex-start;\n",
       "        }\n",
       "        @media (max-width: 800px) {\n",
       "            .mljar-indicator-row {\n",
       "                flex-direction: column;\n",
       "            }\n",
       "        }\n",
       "        .mljar-indicator-card {\n",
       "            flex: 1 1 0;\n",
       "            background: var(--bg, #fff);\n",
       "            border: 1px solid var(--border, #ebebeb);\n",
       "            border-radius: 12px;\n",
       "            padding: 26px 24px 18px 24px;\n",
       "            margin: 8px;\n",
       "            text-align: center;                \n",
       "            min-width: 180px;\n",
       "            max-width: 240px !important;\n",
       "            box-shadow: 0 2px 8px rgba(0,0,0,0.04);\n",
       "        }\n",
       "        .mljar-indicator-title {\n",
       "            font-size: 1.3em !important;\n",
       "            color: var(--label, #555);\n",
       "            margin-bottom: 10px;\n",
       "            font-family: 'Inter', 'Segoe UI', Arial, sans-serif !important;\n",
       "        }\n",
       "        .mljar-indicator-value {\n",
       "            font-size: 2.7em;\n",
       "            color: var(--value, #222);\n",
       "            font-family: 'Menlo', 'Consolas', monospace;\n",
       "            margin-bottom: 12px;\n",
       "            letter-spacing: 1px;\n",
       "        }\n",
       "        .mljar-indicator-delta {\n",
       "            display: inline-block;\n",
       "            padding: 0.28em 1.1em 0.28em 1.1em;\n",
       "            font-size: 1em;\n",
       "            border-radius: 2em;\n",
       "            margin-bottom: 4px;\n",
       "            font-family: 'Menlo', monospace;\n",
       "            font-weight: bold;\n",
       "        }\n",
       "        .mljar-indicator-delta.up {\n",
       "            background: var(--bg-green, rgba(0,178,117,0.12));\n",
       "            color: var(--green, #00B275);\n",
       "        }\n",
       "        .mljar-indicator-delta.down {\n",
       "            background: var(--bg-red, rgba(255,99,132,0.13));\n",
       "            color: var(--red, #FF6384);\n",
       "        }\n",
       "        </style>\n",
       "        \n",
       "<div class=\"mljar-indicator-card\"\n",
       "     style=\"--bg:#fff;--border:#ebebeb;--value:#222;--label:#555;--green:#00B275;--bg-green:rgba(0, 178, 117, 0.12);--red:#FF6384;--bg-red:rgba(255, 99, 132, 0.13)\">\n",
       "    <div class='mljar-indicator-title'>asdfasdf</div>\n",
       "    <div class='mljar-indicator-value'>27</div>\n",
       "    <div class='mljar-indicator-delta down'><span style='font-size:1.15em'>&#8595;</span> 12.0%</div>\n",
       "</div>\n",
       "\n",
       "        <style scoped>\n",
       "        .mljar-indicator-row {\n",
       "            width: 100%;\n",
       "            display: flex;\n",
       "            flex-direction: row;\n",
       "            gap: 5px;\n",
       "            justify-content: flex-start;\n",
       "        }\n",
       "        @media (max-width: 800px) {\n",
       "            .mljar-indicator-row {\n",
       "                flex-direction: column;\n",
       "            }\n",
       "        }\n",
       "        .mljar-indicator-card {\n",
       "            flex: 1 1 0;\n",
       "            background: var(--bg, #fff);\n",
       "            border: 1px solid var(--border, #ebebeb);\n",
       "            border-radius: 12px;\n",
       "            padding: 26px 24px 18px 24px;\n",
       "            margin: 8px;\n",
       "            text-align: center;                \n",
       "            min-width: 180px;\n",
       "            max-width: 240px !important;\n",
       "            box-shadow: 0 2px 8px rgba(0,0,0,0.04);\n",
       "        }\n",
       "        .mljar-indicator-title {\n",
       "            font-size: 1.3em !important;\n",
       "            color: var(--label, #555);\n",
       "            margin-bottom: 10px;\n",
       "            font-family: 'Inter', 'Segoe UI', Arial, sans-serif !important;\n",
       "        }\n",
       "        .mljar-indicator-value {\n",
       "            font-size: 2.7em;\n",
       "            color: var(--value, #222);\n",
       "            font-family: 'Menlo', 'Consolas', monospace;\n",
       "            margin-bottom: 12px;\n",
       "            letter-spacing: 1px;\n",
       "        }\n",
       "        .mljar-indicator-delta {\n",
       "            display: inline-block;\n",
       "            padding: 0.28em 1.1em 0.28em 1.1em;\n",
       "            font-size: 1em;\n",
       "            border-radius: 2em;\n",
       "            margin-bottom: 4px;\n",
       "            font-family: 'Menlo', monospace;\n",
       "            font-weight: bold;\n",
       "        }\n",
       "        .mljar-indicator-delta.up {\n",
       "            background: var(--bg-green, rgba(0,178,117,0.12));\n",
       "            color: var(--green, #00B275);\n",
       "        }\n",
       "        .mljar-indicator-delta.down {\n",
       "            background: var(--bg-red, rgba(255,99,132,0.13));\n",
       "            color: var(--red, #FF6384);\n",
       "        }\n",
       "        </style>\n",
       "        \n",
       "<div class=\"mljar-indicator-card\"\n",
       "     style=\"--bg:#fff;--border:#ebebeb;--value:#222;--label:#555;--green:#00B275;--bg-green:rgba(0, 178, 117, 0.12);--red:#FF6384;--bg-red:rgba(255, 99, 132, 0.13)\">\n",
       "    <div class='mljar-indicator-title'>tests</div>\n",
       "    <div class='mljar-indicator-value'>0</div>\n",
       "    <div class='mljar-indicator-delta down'><span style='font-size:1.15em'>&#8595;</span> 12.0%</div>\n",
       "</div>\n",
       "</div>"
      ],
      "text/plain": [
       "<widgets.indicator.Indicator at 0x7bfa99bd8d90>"
      ]
     },
     "execution_count": 212,
     "metadata": {},
     "output_type": "execute_result"
    }
   ],
   "source": [
    "Indicator([\n",
    "    Indicator(s.value, t.value or \"asdfasdf\", -12),\n",
    "    Indicator(len(t.value), \"tests\", -12)])"
   ]
  },
  {
   "cell_type": "code",
   "execution_count": 212,
   "id": "62c90990-735d-49d2-8f72-b2d134c0a6a6",
   "metadata": {},
   "outputs": [],
   "source": []
  },
  {
   "cell_type": "code",
   "execution_count": 212,
   "id": "43bf9999-b01b-460d-b48d-56e7e5f0071e",
   "metadata": {},
   "outputs": [],
   "source": []
  },
  {
   "cell_type": "code",
   "execution_count": 212,
   "id": "5ad3816d-7ef4-44da-b129-2830534509e5",
   "metadata": {},
   "outputs": [],
   "source": []
  },
  {
   "cell_type": "code",
   "execution_count": 212,
   "id": "39322b89-a58c-4acd-bcf8-6fc1253237f7",
   "metadata": {},
   "outputs": [],
   "source": []
  }
 ],
 "metadata": {
  "kernelspec": {
   "display_name": "Python 3 (ipykernel)",
   "language": "python",
   "name": "python3"
  },
  "language_info": {
   "codemirror_mode": {
    "name": "ipython",
    "version": 3
   },
   "file_extension": ".py",
   "mimetype": "text/x-python",
   "name": "python",
   "nbconvert_exporter": "python",
   "pygments_lexer": "ipython3",
   "version": "3.11.5"
  },
  "widgets": {
   "application/vnd.jupyter.widget-state+json": {
    "state": {
     "14d186d293a54cd5a29b49319ba85da0": {
      "model_module": "@jupyter-widgets/base",
      "model_module_version": "2.0.0",
      "model_name": "LayoutModel",
      "state": {
       "align_items": "stretch",
       "display": "flex",
       "flex_flow": "row wrap",
       "width": "100%"
      }
     },
     "161720d82a254378899b179b665b3084": {
      "model_module": "anywidget",
      "model_module_version": "~0.9.*",
      "model_name": "AnyModel",
      "state": {
       "_anywidget_id": "widgets.text.TextInputWidget",
       "_css": "\n    .mljar-textinput-container {\n        display: flex;\n        flex-direction: column;\n        align-items: flex-start;\n        width: 100%;\n        min-width: 120px;\n        font-family: Arial, sans-serif;\n        font-size: 12px;\n        font-weight: normal;\n        color: #222222;\n\n    }\n\n    .mljar-textinput-top-label {\n        margin-bottom: 6px;\n        text-align: left;\n        width: 100%;\n        font-weight: bold;\n    }\n\n    .mljar-textinput-input {\n        width: 100%;\n        border: 1px solid #cccccc;\n        border-radius: 16px;\n        padding: 6px 10px;\n        min-height: 1.6em;\n        box-sizing: border-box;\n        background: #3d6fdb;\n        color: #222222;\n    }\n\n    .mljar-textinput-input:focus {\n        outline: none;\n        border-color: #007bff;\n    }\n    ",
       "_esm": "\n    function render({ model, el }) {\n      // Container\n      let container = document.createElement(\"div\");\n      container.classList.add(\"mljar-textinput-container\");\n\n      // Label\n      let topLabel = document.createElement(\"div\");\n      topLabel.classList.add(\"mljar-textinput-top-label\");\n      topLabel.innerHTML = model.get(\"label\") || \"Enter text\";\n\n      // Always Input\n      let input = document.createElement(\"input\");\n      input.type = \"text\";\n      input.value = model.get(\"value\");\n      input.classList.add(\"mljar-textinput-input\");\n\n      let debounceTimer = null;\n      input.addEventListener(\"input\", () => {\n        model.set(\"value\", input.value);\n        if (debounceTimer) clearTimeout(debounceTimer);\n        debounceTimer = setTimeout(() => {\n          model.save_changes();\n        }, 100);\n      });\n\n      model.on(\"change:value\", () => {\n        input.value = model.get(\"value\");\n      });\n\n      // Build\n      container.appendChild(topLabel);\n      container.appendChild(input);\n      el.appendChild(container);\n\n      const css = model.get(\"custom_css\");\n      if (css && css.trim().length > 0) {\n        let styleTag = document.createElement(\"style\");\n        styleTag.textContent = css;\n        el.appendChild(styleTag);\n      }\n    }\n    export default { render };\n    ",
       "_model_module": "anywidget",
       "_model_module_version": "~0.9.*",
       "_model_name": "AnyModel",
       "_view_module": "anywidget",
       "_view_module_version": "~0.9.*",
       "_view_name": "AnyView",
       "custom_css": "",
       "label": "aaaa",
       "layout": "IPY_MODEL_6f405af142c84504a889190d7b70a202",
       "position": "sidebar",
       "value": "asdfasdfasdfasdfasdfasdfasdfasdf"
      }
     },
     "23d5a4abc9334740a52a4f6ffa72432e": {
      "model_module": "@jupyter-widgets/base",
      "model_module_version": "2.0.0",
      "model_name": "LayoutModel",
      "state": {}
     },
     "6f405af142c84504a889190d7b70a202": {
      "model_module": "@jupyter-widgets/base",
      "model_module_version": "2.0.0",
      "model_name": "LayoutModel",
      "state": {}
     },
     "76e2684658d74d58852166cbb8d79b11": {
      "model_module": "@jupyter-widgets/base",
      "model_module_version": "2.0.0",
      "model_name": "LayoutModel",
      "state": {
       "flex": "1 1 0px",
       "min_width": "240px"
      }
     },
     "87f397f31f9e4ee691f12be46a9846b7": {
      "model_module": "@jupyter-widgets/controls",
      "model_module_version": "2.0.0",
      "model_name": "HBoxModel",
      "state": {
       "children": [
        "IPY_MODEL_c8595e967d6a49fd8339d55b36232d25",
        "IPY_MODEL_adeb93a74b7549aab31e6e990c58efa8"
       ],
       "layout": "IPY_MODEL_14d186d293a54cd5a29b49319ba85da0"
      }
     },
     "adeb93a74b7549aab31e6e990c58efa8": {
      "model_module": "@jupyter-widgets/output",
      "model_module_version": "1.0.0",
      "model_name": "OutputModel",
      "state": {
       "layout": "IPY_MODEL_76e2684658d74d58852166cbb8d79b11",
       "outputs": [
        {
         "data": {
          "image/png": "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",
          "text/plain": "<Figure size 400x300 with 1 Axes>"
         },
         "metadata": {},
         "output_type": "display_data"
        }
       ]
      }
     },
     "c8595e967d6a49fd8339d55b36232d25": {
      "model_module": "@jupyter-widgets/output",
      "model_module_version": "1.0.0",
      "model_name": "OutputModel",
      "state": {
       "layout": "IPY_MODEL_e4d7c9b5489b4733beeb066e0a291aa0",
       "outputs": [
        {
         "data": {
          "image/png": "iVBORw0KGgoAAAANSUhEUgAAAZIAAAE8CAYAAADqlDdkAAAAOnRFWHRTb2Z0d2FyZQBNYXRwbG90bGliIHZlcnNpb24zLjEwLjAsIGh0dHBzOi8vbWF0cGxvdGxpYi5vcmcvlHJYcgAAAAlwSFlzAAAPYQAAD2EBqD+naQAAOg5JREFUeJzt3X9cjXf/B/DXKafTD6r1WyTyq0zYMskwlDI2CzfqZtIauxGj5SYbsdvWbDc3a417Nr/Xjfy6782Y5MeMZMImP7qxsBsVUiHq6Hy+f3h0vo5zTj/OdSqnXs/Ho8ecz/W5rvO+3l3r1bmu65xkQggBIiIiA5nVdwFERGTaGCRERCQJg4SIiCRhkBARkSQMEiIikoRBQkREkjBIiIhIEgYJERFJwiAhIiJJGCSN3IEDByCTyXDgwIH6LqXeyWQyzJ8/v77LqFWtW7fG+PHjq5xXl70YPHgwJkyYUCfPVR3z58+HTCar1ec4e/YsmjRpgqysrFp9nrrCIGmg1qxZA5lMpv6ytLREhw4dEB0djby8PKM8xw8//NDgf/BS7Tp8+DD27NmDWbNmqcfOnj2L+fPn4/Lly/VXWC3r1KkThgwZgnnz5tV3KUbBIGngPvzwQ6xfvx5ffPEFevXqheXLlyMgIAAlJSWSt/3DDz9gwYIFRqiSGqvPPvsMgYGBaNeunXrs7NmzWLBgQYMOEgD4y1/+gu3bt+PSpUv1XYpkDJIG7tVXX8XYsWPx9ttvY82aNZg+fTpycnLw73//u75Lo0YuPz8fO3fuxKhRo+q7lHoRFBSE5557DmvXrq3vUiRjkDQyAwYMAADk5ORUOi8lJQV+fn6wsrKCk5MTxo4di2vXrqmXjx8/HklJSQCgcQqtwo0bN3D+/Hkolcoqa9q4cSP8/PzQrFkz2NrawtfXF8uWLdM7X6lUwsHBAZGRkVrLiouLYWlpidjYWABAWVkZ5s2bBz8/P9jZ2cHGxgZ9+vTB/v37q6xr/PjxaN26tda4vnPoGzZsUPfMwcEBYWFh+OOPP6p8nitXrmDy5Mno2LEjrKys4OjoiJEjR2r9Rl5xuvLw4cOIiYmBs7MzbGxsMGzYMNy8eVNjrhACCxcuRMuWLWFtbY3+/fvjzJkzVdZSmWvXruGtt96Cq6srFAoFnn/+eaxatUpjTsU1t82bN+Ojjz5Cy5YtYWlpicDAQFy8eFFj7s6dO/Ho0SMEBQVp7OPIkSMBAP3791cfV/qu4f3973+HTCbDlStXtJbFxcXBwsICd+7cAQAcOnQII0eORKtWraBQKODh4YEZM2bgwYMHle735cuXIZPJsGbNGq1luq4lVadPACCXy9GvX78G8Usdg6SRqXgZ7ejoqHfOmjVrMGrUKJibmyMhIQETJkzAtm3b0Lt3bxQWFgIA3nnnHQwcOBAAsH79evVXhbi4OPj4+GiEjy6pqakIDw/Hc889h0WLFuGTTz5Bv379cPjwYb3ryOVyDBs2DDt27EBZWZnGsh07dqC0tBRhYWEAHgfL119/jX79+mHRokWYP38+bt68iZCQEJw6darS2mrio48+wrhx49C+fXssWbIE06dPR1paGvr27avumT6//PILjhw5grCwMHz++ef4y1/+grS0NPTr10/nKcipU6fi119/RXx8PCZNmoTvvvsO0dHRGnPmzZuHuXPnomvXrvjss8/g5eWF4OBg3L9/36D9y8vLQ8+ePbF3715ER0dj2bJlaNeuHaKiorB06VKt+Z988gm2b9+O2NhYxMXF4ejRoxgzZozGnCNHjsDR0RGenp7qsb59+2LatGkAgDlz5qiPKx8fH511jRo1Sh1cT9u8eTOCg4Px3HPPAXj8y1FJSQkmTZqExMREhISEIDExEePGjTOoJ7rUtE9+fn7IyspCcXGx0WqoF4IapNWrVwsAYu/eveLmzZvijz/+EBs3bhSOjo7CyspK/O9//xNCCLF//34BQOzfv18IIURZWZlwcXERnTt3Fg8ePFBv7/vvvxcAxLx589RjU6ZMEfoOoYiICAFA5OTkVFrnu+++K2xtbcWjR49qtH8//vijACC+++47jfHBgwcLLy8v9eNHjx6J0tJSjTl37twRrq6u4q233tIYByDi4+M19sHT01PruePj4zX2+/Lly8Lc3Fx89NFHGvNOnz4tmjRpojX+tJKSEq2x9PR0AUCsW7dOPVbxPQ0KChIqlUo9PmPGDGFubi4KCwuFEELk5+cLCwsLMWTIEI15c+bMEQBEREREpfUIod2LqKgo0bx5c3Hr1i2NeWFhYcLOzk69DxXHk4+Pj0bfly1bJgCI06dPq8d69+4t/Pz8tJ47JSVF45isSkBAgNZ2jh07ptU/XX1OSEgQMplMXLlyRT329Pc3JydHABCrV6/WWt/QPlVITk4WAERGRka19vVZxVckDVxQUBCcnZ3h4eGBsLAwNG3aFNu3b0eLFi10zj9+/Djy8/MxefJkWFpaqseHDBkCb29v7Ny5s1rPu2bNGgghdJ4aepK9vT3u37+P1NTUau8T8PgUnZOTEzZt2qQeu3PnDlJTUzF69Gj1mLm5OSwsLAAAKpUKBQUFePToEbp3744TJ07U6Dn12bZtG1QqFUaNGoVbt26pv9zc3NC+ffsqT6NZWVmp/61UKnH79m20a9cO9vb2OmucOHGixqm1Pn36oLy8XH16Z+/evSgrK8PUqVM15k2fPt2g/RNCYOvWrXj99dchhNDYx5CQEBQVFWnVGRkZqe57RY0A8Pvvv6vHbt++rX61IMXo0aORmZmpcdF606ZNUCgUeOONN9RjT/b5/v37uHXrFnr16gUhBE6ePCm5DkP6VLH/t27dkvz89alJfRdAtSspKQkdOnRAkyZN4Orqio4dO8LMTP/vDxU/jDp27Ki1zNvbGz///LNR65s8eTI2b96MV199FS1atEBwcDBGjRqFQYMGVbpekyZNMGLECCQnJ6O0tBQKhQLbtm2DUqnUCBIAWLt2LRYvXqx1zaZNmzZG2YcLFy5ACIH27dvrXC6Xyytd/8GDB0hISMDq1atx7do1iCf+aGlRUZHW/FatWmk8rvhhVHEtoOJ7+HQ9zs7OBv3gvnnzJgoLC/HVV1/hq6++0jknPz+/RjVWEEb4A60jR45ETEwMNm3ahDlz5kAIgZSUFLz66quwtbVVz7t69SrmzZuH//znP1p16OpzTRnSp4r9r+33rdQ2BkkD16NHD3Tv3r2+y9DLxcUFp06dwo8//ohdu3Zh165dWL16NcaNG1fl3SxhYWH45z//iV27diE0NBSbN2+Gt7c3unbtqp6zYcMGjB8/HqGhoZg5cyZcXFzU136quu1S3//c5eXlGo9VKhVkMhl27doFc3NzrflNmzat9HmmTp2K1atXY/r06QgICICdnR1kMhnCwsKgUqm05ut6DsA4P5R1qahh7NixiIiI0DmnS5cuGo+rU6Ojo6PWD3RDuLu7o0+fPti8eTPmzJmDo0eP4urVq1i0aJF6Tnl5OQYOHIiCggLMmjUL3t7esLGxwbVr1zB+/Hidfa5Qk+MAqFmfKvbfycmp6h19hjFISEPFhc/s7Gz1HV4VsrOzNS6MGuu3KAsLC7z++ut4/fXXoVKpMHnyZPzzn//E3LlzNd5f8LS+ffuiefPm2LRpE3r37o19+/bh/fff15izZcsWeHl5Ydu2bRr1xsfHV1nXc889p/NC+dN3CLVt2xZCCLRp0wYdOnSocrtP27JlCyIiIrB48WL12MOHD6u8SK9PxffowoUL8PLyUo/fvHnToB/czs7OaNasGcrLyzXusJLK29sbW7du1Ro35LgaPXo0Jk+ejOzsbGzatAnW1tZ4/fXX1ctPnz6N//73v1i7dq3GxfXqnFKteDX19Pfj6ePAkD7l5OTAzMzMoOPmWcJrJKShe/fucHFxwYoVK1BaWqoe37VrF86dO4chQ4aox2xsbABo/w8GVP/239u3b2s8NjMzU//WVvH8SqUS58+fx40bN7Tm/ulPf8J3332H9evX49GjR1qntSp+M37yN+GMjAykp6dXWhfwOCCKiorw22+/aezX9u3bNeYNHz4c5ubmWLBggdarAiGE1j4+zdzcXGu9xMRErd94qysoKAhyuRyJiYka29V111B1mJubY8SIEdi6davOj/R4+tbj6goICMCdO3c0rpsAhh1XI0aMgLm5Of71r38hJSUFr732mno7FfsAaB4HQohKbzOvYGtrCycnJ/z0008a419++aXGY0P6lJmZieeffx52dnZV1vEs4ysS0iCXy7Fo0SJERkbilVdeQXh4OPLy8rBs2TK0bt0aM2bMUM/18/MDAEybNg0hISEwNzdX33YbFxeHtWvXIicnp9IL7m+//TYKCgowYMAAtGzZEleuXEFiYiK6deumvuXz2rVr8PHxQUREhNa9/KNHj0ZiYiLi4+Ph6+urdZvoa6+9hm3btmHYsGEYMmQIcnJysGLFCnTq1An37t2rtBdhYWGYNWsWhg0bhmnTpqGkpATLly9Hhw4dNC6atm3bFgsXLkRcXBwuX76M0NBQNGvWDDk5Odi+fTsmTpyofl+LLq+99hrWr18POzs7dOrUCenp6di7d2+lt2hXxtnZGbGxsUhISMBrr72GwYMH4+TJk9i1a5fBp1A++eQT7N+/H/7+/pgwYQI6deqEgoICnDhxAnv37kVBQUGNtzlkyBA0adIEe/fuxcSJE9Xj3bp1g7m5ORYtWoSioiIoFAoMGDAALi4ueo8rFxcX9O/fH0uWLMHdu3e1fqHw9vZG27ZtERsbi2vXrsHW1hZbt26t9iu0t99+G5988gnefvttdO/eHT/99BP++9//SuqTUqnEwYMHMXny5Bp27hlUp/eIUZ2puFX0l19+qXTe07f/Vti0aZN44YUXhEKhEA4ODmLMmDHqW4YrPHr0SEydOlU4OzsLmUymcctkdW//3bJliwgODhYuLi7CwsJCtGrVSrzzzjvixo0b6jkVt1/qum1VpVIJDw8PAUAsXLhQ5/KPP/5YeHp6CoVCIV544QXx/fff67y1F0/dyimEEHv27BGdO3cWFhYWomPHjmLDhg1at4dW2Lp1q+jdu7ewsbERNjY2wtvbW0yZMkVkZ2dX2oM7d+6IyMhI4eTkJJo2bSpCQkLE+fPnhaenp8Y+6/ue6voelpeXiwULFojmzZsLKysr0a9fP5GVlaW1TX109SIvL09MmTJFeHh4CLlcLtzc3ERgYKD46quvtGpJSUnRWFffLbRDhw4VgYGBWs+/cuVK4eXlJczNzTX2rbLjauXKlQKAaNasmcat6xXOnj0rgoKCRNOmTYWTk5OYMGGC+PXXX7Xq0vX9LSkpEVFRUcLOzk40a9ZMjBo1SuTn5xvcJyGE2LVrlwAgLly4oFWrqZEJUUtX6IiIqnDo0CH069cP58+f13vXW0MVGhoKmUymdarUFDFIiKhevfrqq2jZsiVWrlxZ36XUmXPnzsHX1xenTp1C586d67scyRgkREQkCe/aIiIiSRgkREQkCYOEiIgkYZAQEZEkfEOiEahUKly/fh3NmjUz+Q9fIyICHr/z/+7du3B3d6/0g14BBolRXL9+HR4eHvVdBhGR0f3xxx9o2bJlpXMYJEbQrFkzAI8b/uTHVldFqVRiz549CA4OrvKjxhsT9kU/9kY39kU3KX0pLi6Gh4eH+udbZRgkRlBxOsvW1rbGQWJtbQ1bW1se/E9gX/Rjb3RjX3QzRl+qc7qeF9uJiEgSBgkREUnCICEiIkkYJEREJAmDhIiIJGGQEBGRJAwSIiKShEFCRESSMEiIiEgSBgkREUnCICEiIkkYJEREJAmDhIiIJGGQEBGRJAwSIiKShEFCRESSMEiIiEgSBgkREUnCICEiIkkYJEREJAmDhIiIJGGQEBGRJAwSIiKShEFCRESSmFyQJCUloXXr1rC0tIS/vz+OHTtW6fyUlBR4e3vD0tISvr6++OGHH/TO/ctf/gKZTIalS5cauWoioobLpIJk06ZNiImJQXx8PE6cOIGuXbsiJCQE+fn5OucfOXIE4eHhiIqKwsmTJxEaGorQ0FBkZWVpzd2+fTuOHj0Kd3f32t4NIqIGxaSCZMmSJZgwYQIiIyPRqVMnrFixAtbW1li1apXO+cuWLcOgQYMwc+ZM+Pj44G9/+xtefPFFfPHFFxrzrl27hqlTp+Lbb7+FXC6vi10hImowmtR3AdVVVlaGzMxMxMXFqcfMzMwQFBSE9PR0neukp6cjJiZGYywkJAQ7duxQP1apVHjzzTcxc+ZMPP/889WqpbS0FKWlperHxcXFAAClUgmlUlndXVLPrck6jQH7oh97oxv7opuUvtRkHZMJklu3bqG8vByurq4a466urjh//rzOdXJzc3XOz83NVT9etGgRmjRpgmnTplW7loSEBCxYsEBrfM+ePbC2tq72diqkpqbWeJ3GgH3Rj73RjX3RzZC+lJSUVHuuyQRJbcjMzMSyZctw4sQJyGSyaq8XFxen8UqnuLgYHh4eCA4Ohq2tbbW3o1QqkZqaioEDB/KU2hPYF/3YG93YF92k9KXiTEt1mEyQODk5wdzcHHl5eRrjeXl5cHNz07mOm5tbpfMPHTqE/Px8tGrVSr28vLwc7733HpYuXYrLly/r3K5CoYBCodAal8vlBh3Ehq7X0LEv+rE3urEvuhnSl5rMN5mL7RYWFvDz80NaWpp6TKVSIS0tDQEBATrXCQgI0JgPPH6JVzH/zTffxG+//YZTp06pv9zd3TFz5kz8+OOPtbczREQNiMm8IgGAmJgYREREoHv37ujRoweWLl2K+/fvIzIyEgAwbtw4tGjRAgkJCQCAd999F6+88goWL16MIUOGYOPGjTh+/Di++uorAICjoyMcHR01nkMul8PNzQ0dO3as250jIjJRJhUko0ePxs2bNzFv3jzk5uaiW7du2L17t/qC+tWrV2Fm9v8vsnr16oXk5GR88MEHmDNnDtq3b48dO3agc+fO9bULREQNjkkFCQBER0cjOjpa57IDBw5ojY0cORIjR46s9vb1XRchIiLdTOYaCRERPZsYJEREJAmDhIiIJGGQEBGRJAwSIiKShEFCRESSMEiIiEgSBgkREUnCICEiIkkYJEREJAmDhIiIJGGQEBGRJAwSIiKShEFCRESSMEiIiEgSBgkREUnCICEiIkkYJEREJAmDhIiIJGGQEBGRJAwSIiKShEFCRESSMEiIiEgSBgkREUnCICEiIkkYJEREJAmDhIiIJGGQEBGRJAwSIiKShEFCRESSMEiIiEgSkwuSpKQktG7dGpaWlvD398exY8cqnZ+SkgJvb29YWlrC19cXP/zwg3qZUqnErFmz4OvrCxsbG7i7u2PcuHG4fv16be8GEVGDYVJBsmnTJsTExCA+Ph4nTpxA165dERISgvz8fJ3zjxw5gvDwcERFReHkyZMIDQ1FaGgosrKyAAAlJSU4ceIE5s6dixMnTmDbtm3Izs7G0KFD63K3iIhMmkkFyZIlSzBhwgRERkaiU6dOWLFiBaytrbFq1Sqd85ctW4ZBgwZh5syZ8PHxwd/+9je8+OKL+OKLLwAAdnZ2SE1NxahRo9CxY0f07NkTX3zxBTIzM3H16tW63DUiIpPVpL4LqK6ysjJkZmYiLi5OPWZmZoagoCCkp6frXCc9PR0xMTEaYyEhIdixY4fe5ykqKoJMJoO9vb3eOaWlpSgtLVU/Li4uBvD4VJlSqazG3kA9/8n/0mPsi37sjW7si25S+lKTdUwmSG7duoXy8nK4urpqjLu6uuL8+fM618nNzdU5Pzc3V+f8hw8fYtasWQgPD4etra3eWhISErBgwQKt8T179sDa2rqqXdGSmppa43UaA/ZFP/ZGN/ZFN0P6UlJSUu25JhMktU2pVGLUqFEQQmD58uWVzo2Li9N4pVNcXAwPDw8EBwdXGkC6njM1NRUDBw6EXC43uPaGhn3Rj73RjX3RTUpfKs60VIfJBImTkxPMzc2Rl5enMZ6Xlwc3Nzed67i5uVVrfkWIXLlyBfv27asyDBQKBRQKhda4XC436CA2dL2Gjn3Rj73RjX3RzZC+1GS+yVxst7CwgJ+fH9LS0tRjKpUKaWlpCAgI0LlOQECAxnzg8Uu8J+dXhMiFCxewd+9eODo61s4OEBE1UCbzigQAYmJiEBERge7du6NHjx5YunQp7t+/j8jISADAuHHj0KJFCyQkJAAA3n33XbzyyitYvHgxhgwZgo0bN+L48eP46quvADwOkT/96U84ceIEvv/+e5SXl6uvnzg4OMDCwqJ+dpSIyISYVJCMHj0aN2/exLx585Cbm4tu3bph9+7d6gvqV69ehZnZ/7/I6tWrF5KTk/HBBx9gzpw5aN++PXbs2IHOnTsDAK5du4b//Oc/AIBu3bppPNf+/fvRr1+/OtkvIiJTZlJBAgDR0dGIjo7WuezAgQNaYyNHjsTIkSN1zm/dujWEEMYsj4io0TEoSFQqFQ4ePIhDhw7hypUrKCkpgbOzM1544QUEBQXBw8PD2HUSEdEzqkYX2x88eICFCxfCw8MDgwcPxq5du1BYWAhzc3NcvHgR8fHxaNOmDQYPHoyjR4/WVs1ERPQMqdErkg4dOiAgIAArV67Ue1/ylStXkJycjLCwMLz//vuYMGGC0YolIqJnT42CZM+ePfDx8al0jqenJ+Li4hAbG8vPqyIiagRqdGqrqhB5klwuR9u2bWtcEBERmRZJb0g8dOgQxo4di4CAAFy7dg0AsH79evz8889GKY6IiJ59BgfJ1q1bERISAisrK5w8eVL9abhFRUX4+OOPjVYgERE92wwOkoULF2LFihVYuXKlxkX3l19+GSdOnDBKcURE9OwzOEiys7PRt29frXE7OzsUFhZKqYmIiEyIwUHi5uaGixcvao3//PPP8PLyklQUERGZDoODZMKECXj33XeRkZEBmUyG69ev49tvv0VsbCwmTZpkzBqJiOgZZvBnbc2ePRsqlQqBgYEoKSlB3759oVAoEBsbi6lTpxqzRiIieoYZHCQymQzvv/8+Zs6ciYsXL+LevXvo1KkTmjZtasz6iIjoGSf5038tLCzQqVMnY9RCREQmyOAg6d+/P2Qymd7l+/btM3TTRERkQgwOkqf/EJRSqcSpU6eQlZWFiIgIqXUREZGJMDhI/vGPf+gcnz9/Pu7du2dwQUREZFokfdaWLmPHjsWqVauMvVkiInpGGT1I0tPTYWlpaezNEhHRM8rgU1vDhw/XeCyEwI0bN3D8+HHMnTtXcmFERGQaDA4SOzs7jcdmZmbo2LEjPvzwQwQHB0sujIiITIPBQbJ69Wpj1kFERCbK6NdIiIiocanRK5Lnnnuu0jchPqmgoMCggoiIyLTUKEiWLl1aS2UQEZGpqlGQ8B3rRET0NMkf2ggADx8+RFlZmcaYra2tMTZNRETPOIMvtt+/fx/R0dFwcXGBjY0NnnvuOY0vIiJqHAwOkr/+9a/Yt28fli9fDoVCga+//hoLFiyAu7s71q1bZ8waiYjoGWbwqa3vvvsO69atQ79+/RAZGYk+ffqgXbt28PT0xLfffosxY8YYs04iInpGGfyKpKCgAF5eXgAeXw+puN23d+/e+Omnn4xTXQNWrhLIyClA5i0ZMnIKUK4S9V0SPeN4zFBN1OXxYnCQeHl5IScnBwDg7e2NzZs3A3j8SsXe3t4oxemSlJSE1q1bw9LSEv7+/jh27Fil81NSUuDt7Q1LS0v4+vrihx9+0FguhMC8efPQvHlzWFlZISgoCBcuXKi1+gFgd9YN9F60D2NXHce6C+YYu+o4ei/ah91ZN2r1ecl08Zihmqjr48XgIImMjMSvv/4KAJg9ezaSkpJgaWmJGTNmYObMmUYr8EmbNm1CTEwM4uPjceLECXTt2hUhISHIz8/XOf/IkSMIDw9HVFQUTp48idDQUISGhiIrK0s959NPP8Xnn3+OFStWICMjAzY2NggJCcHDhw9rZR92Z93ApA0ncKNIc/u5RQ8xacMJ/mAgLTxmqCbq43iRCSGM8nrnypUryMzMRLt27dClSxdjbFKLv78/XnrpJXzxxRcAAJVKBQ8PD0ydOhWzZ8/Wmj969Gjcv38f33//vXqsZ8+e6NatG1asWAEhBNzd3fHee+8hNjYWAFBUVARXV1esWbMGYWFh1aqruLgYdnZ2KCoqqvS253KVQO9F+7S+wRVkAFxtLZEa0xfmZtX7BIGGSKlU4scf9yAkJBhyuby+y6lX5SqBoCUHkVdcqnM5j5nHeMw8Vp3jxc3OEj/PGlDl8VLdn2uAhIvtf/zxBzw8PNSPPT094enpaejmqlRWVobMzEzExcWpx8zMzBAUFIT09HSd66SnpyMmJkZjLCQkBDt27AAA5OTkIDc3F0FBQerldnZ28Pf3R3p6ut4gKS0tRWnp/3+jiouLATw+mJVKpd59yMgp0BsiACAA5BY/hO/8PXrnNB5N8Ndj++q7iGcej5kn8ZipigBwo+gh0i/mw7+NQ6VzK/tZ9jSDg6R169bo3bs3xo4diz/96U+1/t6RW7duoby8HK6urhrjrq6uOH/+vM51cnNzdc7Pzc1VL68Y0zdHl4SEBCxYsEBrfM+ePbC2tta7XuYtGQBzvcuJiOrCnkMZuH2u8pNRJSUl1d6ewUFy/PhxJCcn48MPP8TUqVMxaNAgjB07Fq+//joUCoWhmzUJcXFxGq90iouL4eHhgeDg4EpfAjrmFGDdheNVbv/rN1/AS60b75s6lcpH2LdvHwYMGAC53CgfvmCyfrl8B2+vP1nlPB4zPGaA6h8vwX38q3xFUnGmpToM7vgLL7yAF154AZ9++ikOHDiA5ORkTJw4ESqVCsOHDzf63213cnKCubk58vLyNMbz8vLg5uamcx03N7dK51f8Ny8vD82bN9eY061bN721KBQKnWEpl8srPT8b0M4Fze0skVv0ELp+F6g4f9nfp3mjP9+tMAfsbCwb9fluAOjvY4nmdud4zFSBx8xj1T1eAtq5VHm81KSPkv8eiUwmQ//+/bFy5Urs3bsXbdq0wdq1a6VuVouFhQX8/PyQlpamHlOpVEhLS0NAQIDOdQICAjTmA0Bqaqp6fps2beDm5qYxp7i4GBkZGXq3KYW5mQzxr3cC8Pgb+qSKx/Gvd2rUPxBIE48Zqon6Ol4kB8n//vc/fPrpp+jWrRt69OiBpk2bIikpyRi1aYmJicHKlSuxdu1anDt3DpMmTcL9+/cRGRkJABg3bpzGxfh3330Xu3fvxuLFi3H+/HnMnz8fx48fR3R0NIDHITh9+nQsXLgQ//nPf3D69GmMGzcO7u7uCA0NrZV9GNS5OZaPfRFudpYa4252llg+9kUM6txcz5rUWPGYoZqol+NFGGjFihWib9++wtzcXDz//PPi448/FpcvXzZ0c9WWmJgoWrVqJSwsLESPHj3E0aNH1cteeeUVERERoTF/8+bNokOHDsLCwkI8//zzYufOnRrLVSqVmDt3rnB1dRUKhUIEBgaK7OzsGtVUVFQkAIiioqJqr/OoXCUOZeeKuV//WxzKzhWPylU1es6GrKysTOzYsUOUlZXVdynPFB4z+vGY0Sb1eKnJzzWD30fi4eGB8PBwjBkzBl27djVuupmYmtxv/SSlUokffvgBgwcPbtTndZ/GvujH3ujGvugmpS918j6Sq1evVvvP7hIRUcNl8DUShggREQFGuNj+NB8fH5ib8013RESNhdHfuZOQkICioiJjb5aIiJ5RRg+S2rptloiInk0Gn9oaMGAACgsLtcaLi4sxYMAAKTUREZEJMThIDhw4gLKyMq3xhw8f4tChQ5KKIiIi01HjU1u//fab+t9nz57V+JTc8vJy7N69Gy1atDBOdURE9MyrcZB069YNMpkMMplM5yksKysrJCYmGqU4IiJ69tU4SHJyciCEgJeXF44dOwZnZ2f1MgsLC7i4uPD2XyKiRqTGQVLxVxBVKpXRiyEiItNTo4vtR48erfbckpISnDlzpsYFERGRaalRkLz55psICQlBSkoK7t+/r3PO2bNnMWfOHLRt2xaZmZlGKZKIiJ5dNTq1dfbsWSxfvhwffPAB/vznP6NDhw5wd3eHpaUl7ty5g/Pnz+PevXsYNmwY9uzZA19f39qqm4iInhE1ChK5XI5p06Zh2rRpOH78OH7++WdcuXIFDx48QNeuXTFjxgz0798fDg6V/y1gIiJqOAz+iJTu3buje/fuxqyFiIhMkNE//ZeIiBoXg4MkLy8Pb775Jtzd3dGkSROYm5trfBERUeNg8Kmt8ePH4+rVq5g7dy6aN2/OP3RFRNRIGRwkP//8Mw4dOoRu3boZsRwiIjI1Bp/a8vDwgBDCmLUQEZEJMjhIli5ditmzZ+Py5ctGLIeIiEyNwae2Ro8ejZKSErRt2xbW1taQy+UaywsKCiQXR0REzz6Dg2Tp0qVGLIOIiEyVwUESERFhzDqIiMhESXpD4qVLl/DBBx8gPDwc+fn5AIBdu3bxU3+JiBoRg4Pk4MGD8PX1RUZGBrZt24Z79+4BAH799VfEx8cbrUAiInq2GRwks2fPxsKFC5GamgoLCwv1+IABA2r0d0uIiMi0GRwkp0+fxrBhw7TGXVxccOvWLUlFERGR6TA4SOzt7XHjxg2t8ZMnT6JFixaSiiIiItNhcJCEhYVh1qxZyM3NhUwmg0qlwuHDhxEbG4tx48YZs0YiInqGGRwkH3/8Mby9veHh4YF79+6hU6dO6NOnD3r16oUPPvjAmDUCePwGxzFjxsDW1hb29vaIiopSX+DX5+HDh5gyZQocHR3RtGlTjBgxAnl5eerlv/76K8LDw+Hh4QErKyv4+Phg2bJlRq+diKghM/h9JBYWFli5ciXmzZuH06dP4969e3jhhRfQvn17Y9anNmbMGNy4cQOpqalQKpWIjIzExIkTkZycrHedGTNmYOfOnUhJSYGdnR2io6MxfPhwHD58GACQmZkJFxcXbNiwAR4eHjhy5AgmTpwIc3NzREdH18p+EBE1NDUKkpiYmEqXP3m31pIlSwyrSIdz585h9+7d+OWXX9R/lTExMRGDBw/G3//+d7i7u2utU1RUhG+++QbJyckYMGAAAGD16tXw8fHB0aNH0bNnT7z11lsa63h5eSE9PR3btm1jkBARVVONguTkyZPVmmfsv02Snp4Oe3t7jT/tGxQUBDMzM2RkZOi8eywzMxNKpRJBQUHqMW9vb7Rq1Qrp6eno2bOnzucqKiqq8m/Ol5aWorS0VP24uLgYAKBUKqFUKqu9XxVza7JOY8C+6Mfe6Ma+6CalLzVZp0ZBsn///hoXYwy5ublwcXHRGGvSpAkcHByQm5urdx0LCwvY29trjLu6uupd58iRI9i0aRN27txZaT0JCQlYsGCB1viePXtgbW1d6bq6pKam1nidxoB90Y+90Y190c2QvpSUlFR7rsHXSIxh9uzZWLRoUaVzzp07Vye1ZGVl4Y033kB8fDyCg4MrnRsXF6dxmq+4uBgeHh4IDg6Gra1ttZ9TqVQiNTUVAwcO1Pr05MaMfdGPvdGNfdFNSl8qzrRUR70GyXvvvYfx48dXOsfLywtubm7qz/Kq8OjRIxQUFMDNzU3nem5ubigrK0NhYaHGq5K8vDytdc6ePYvAwEBMnDixWnecKRQKKBQKrXG5XG7QQWzoeg0d+6Ife6Mb+6KbIX2pyfx6DRJnZ2c4OztXOS8gIACFhYXIzMyEn58fAGDfvn1QqVTw9/fXuY6fnx/kcjnS0tIwYsQIAEB2djauXr2KgIAA9bwzZ85gwIABiIiIwEcffWSEvSIialwkffpvXfHx8cGgQYMwYcIEHDt2DIcPH0Z0dDTCwsLUd2xdu3YN3t7eOHbsGADAzs4OUVFRiImJwf79+5GZmYnIyEgEBASoL7RnZWWhf//+CA4ORkxMDHJzc5Gbm4ubN2/W274SEZmaen1FUhPffvstoqOjERgYCDMzM4wYMQKff/65erlSqUR2drbGBaJ//OMf6rmlpaUICQnBl19+qV6+ZcsW3Lx5Exs2bMCGDRvU456envwTwkRE1WQyQeLg4FDpmw9bt24NIYTGmKWlJZKSkpCUlKRznfnz52P+/PnGLJOIqNExiVNbRET07GKQEBGRJAwSIiKShEFCRESSMEiIiEgSBgkREUnCICEiIkkYJEREJAmDhIiIJGGQEBGRJAwSIiKShEFCRESSMEiIiEgSBgkREUnCICEiIkkYJEREJAmDhIiIJGGQEBGRJAwSIiKShEFCRESSMEiIiEgSBgkREUnCICEiIkkYJEREJAmDhIiIJGGQEBGRJAwSIiKShEFCRESSMEiIiEgSBgkREUnCICEiIklMJkgKCgowZswY2Nrawt7eHlFRUbh3716l6zx8+BBTpkyBo6MjmjZtihEjRiAvL0/n3Nu3b6Nly5aQyWQoLCyshT0gImqYTCZIxowZgzNnziA1NRXff/89fvrpJ0ycOLHSdWbMmIHvvvsOKSkpOHjwIK5fv47hw4frnBsVFYUuXbrURulERA2aSQTJuXPnsHv3bnz99dfw9/dH7969kZiYiI0bN+L69es61ykqKsI333yDJUuWYMCAAfDz88Pq1atx5MgRHD16VGPu8uXLUVhYiNjY2LrYHSKiBqVJfRdQHenp6bC3t0f37t3VY0FBQTAzM0NGRgaGDRumtU5mZiaUSiWCgoLUY97e3mjVqhXS09PRs2dPAMDZs2fx4YcfIiMjA7///nu16iktLUVpaan6cXFxMQBAqVRCqVRWe78q5tZkncaAfdGPvdGNfdFNSl9qso5JBElubi5cXFw0xpo0aQIHBwfk5ubqXcfCwgL29vYa466urup1SktLER4ejs8++wytWrWqdpAkJCRgwYIFWuN79uyBtbV1tbbxpNTU1Bqv0xiwL/qxN7qxL7oZ0peSkpJqz63XIJk9ezYWLVpU6Zxz587V2vPHxcXBx8cHY8eOrfF6MTEx6sfFxcXw8PBAcHAwbG1tq70dpVKJ1NRUDBw4EHK5vEY1NGTsi37sjW7si25S+lJxpqU66jVI3nvvPYwfP77SOV5eXnBzc0N+fr7G+KNHj1BQUAA3Nzed67m5uaGsrAyFhYUar0ry8vLU6+zbtw+nT5/Gli1bAABCCACAk5MT3n//fZ2vOgBAoVBAoVBojcvlcoMOYkPXa+jYF/3YG93YF90M6UtN5tdrkDg7O8PZ2bnKeQEBASgsLERmZib8/PwAPA4BlUoFf39/nev4+flBLpcjLS0NI0aMAABkZ2fj6tWrCAgIAABs3boVDx48UK/zyy+/4K233sKhQ4fQtm1bqbtHRNQomMQ1Eh8fHwwaNAgTJkzAihUroFQqER0djbCwMLi7uwMArl27hsDAQKxbtw49evSAnZ0doqKiEBMTAwcHB9ja2mLq1KkICAhQX2h/Oixu3bqlfr6nr60QEZFuJhEkAPDtt98iOjoagYGBMDMzw4gRI/D555+rlyuVSmRnZ2tcIPrHP/6hnltaWoqQkBB8+eWX9VE+EVGDZTJB4uDggOTkZL3LW7durb7GUcHS0hJJSUlISkqq1nP069dPaxtERFQ5k3hDIhERPbsYJEREJAmDhIiIJGGQEBGRJAwSIiKShEFCRESSMEiIiEgSBgkREUnCICEiIkkYJEREJAmDhIiIJGGQEBGRJAwSIiKShEFCRESSMEiIiEgSBgkREUnCICEiIkkYJEREJAmDhIiIJGGQEBGRJAwSIiKShEFCRESSMEiIiEgSBgkREUnSpL4LaAiEEACA4uLiGq2nVCpRUlKC4uJiyOXy2ijNJLEv+rE3urEvuknpS8XPs4qfb5VhkBjB3bt3AQAeHh71XAkRkXHdvXsXdnZ2lc6RierEDVVKpVLh+vXraNasGWQyWbXXKy4uhoeHB/744w/Y2trWYoWmhX3Rj73RjX3RTUpfhBC4e/cu3N3dYWZW+VUQviIxAjMzM7Rs2dLg9W1tbXnw68C+6Mfe6Ma+6GZoX6p6JVKBF9uJiEgSBgkREUnCIKlHCoUC8fHxUCgU9V3KM4V90Y+90Y190a2u+sKL7UREJAlfkRARkSQMEiIikoRBQkREkjBIiIhIEgaJESQkJOCll15Cs2bN4OLigtDQUGRnZ6uXX758GTKZTOdXSkqK3u0KITBv3jw0b94cVlZWCAoKwoULF+pil4ymtnozfvx4rfmDBg2qi10yiqr6AgC5ubl488034ebmBhsbG7z44ovYunVrldtOSkpC69atYWlpCX9/fxw7dqy2dqNW1FZv5s+fr3XMeHt71+auGFV1+nLp0iUMGzYMzs7OsLW1xahRo5CXl1fltiUfM4IkCwkJEatXrxZZWVni1KlTYvDgwaJVq1bi3r17QgghHj16JG7cuKHxtWDBAtG0aVNx9+5dvdv95JNPhJ2dndixY4f49ddfxdChQ0WbNm3EgwcP6mrXJKut3kRERIhBgwZprFdQUFBXuyVZVX0RQoiBAweKl156SWRkZIhLly6Jv/3tb8LMzEycOHFC73Y3btwoLCwsxKpVq8SZM2fEhAkThL29vcjLy6uL3TKK2upNfHy8eP755zWOmZs3b9bFLhlFVX25d++e8PLyEsOGDRO//fab+O2338Qbb7whXnrpJVFeXq53u8Y4ZhgktSA/P18AEAcPHtQ7p1u3buKtt97Su1ylUgk3Nzfx2WefqccKCwuFQqEQ//rXv4xab10yRm+EeBwkb7zxhpGrqz+6+mJjYyPWrVunMc/BwUGsXLlS73Z69OghpkyZon5cXl4u3N3dRUJCgvGLriPG6k18fLzo2rVrbZVZ557uy48//ijMzMxEUVGRek5hYaGQyWQiNTVV73aMcczw1FYtKCoqAgA4ODjoXJ6ZmYlTp04hKipK7zZycnKQm5uLoKAg9ZidnR38/f2Rnp5u3ILrkDF6U+HAgQNwcXFBx44dMWnSJNy+fduotdYlXX3p1asXNm3ahIKCAqhUKmzcuBEPHz5Ev379dG6jrKwMmZmZGseMmZkZgoKCGtwxU9PeVLhw4QLc3d3h5eWFMWPG4OrVq7VZeq16ui+lpaWQyWQabz60tLSEmZkZfv75Z53bMNYxwyAxMpVKhenTp+Pll19G586ddc755ptv4OPjg169eundTm5uLgDA1dVVY9zV1VW9zNQYqzcAMGjQIKxbtw5paWlYtGgRDh48iFdffRXl5eW1UXqt0teXzZs3Q6lUwtHREQqFAu+88w62b9+Odu3a6dzOrVu3UF5e3iiOmZr2BgD8/f2xZs0a7N69G8uXL0dOTg769Omj/jMQpkRXX3r27AkbGxvMmjULJSUluH//PmJjY1FeXo4bN27o3I6xjhl++q+RTZkyBVlZWXp/A3jw4AGSk5Mxd+7cOq6s/hmzN2FhYep/+/r6okuXLmjbti0OHDiAwMBAo9VcF/T1Ze7cuSgsLMTevXvh5OSEHTt2YNSoUTh06BB8fX3rqdq6ZczevPrqq+p/d+nSBf7+/vD09MTmzZur9Qr4WaKrL87OzkhJScGkSZPw+eefw8zMDOHh4XjxxRer/Bh4yQw4NUd6TJkyRbRs2VL8/vvveuesW7dOyOVykZ+fX+m2Ll26JACIkydPaoz37dtXTJs2zRjl1ilj9kYfJycnsWLFCkNLrBf6+nLx4kUBQGRlZWmMBwYGinfeeUfntkpLS4W5ubnYvn27xvi4cePE0KFDjVp3XTBmb/Tp3r27mD17tuRa61J1/l+6efOmuHPnjhBCCFdXV/Hpp5/qnGesY4antoxACIHo6Ghs374d+/btQ5s2bfTO/eabbzB06FA4OztXus02bdrAzc0NaWlp6rHi4mJkZGQgICDAaLXXttrojS7/+9//cPv2bTRv3lxKuXWmqr6UlJQAgNZvkubm5lCpVDq3aWFhAT8/P41jRqVSIS0trUEdM4b0Rpd79+7h0qVLDeaYeZKTkxPs7e2xb98+5OfnY+jQoTrnGe2YqXbkkF6TJk0SdnZ24sCBAxq3FpaUlGjMu3DhgpDJZGLXrl06t9OxY0exbds29eNPPvlE2Nvbi3//+9/qW/lM7fbf2ujN3bt3RWxsrEhPTxc5OTli79694sUXXxTt27cXDx8+rPV9Moaq+lJWVibatWsn+vTpIzIyMsTFixfF3//+dyGTycTOnTvV2xkwYIBITExUP964caNQKBRizZo14uzZs2LixInC3t5e5Obm1vk+Gqq2evPee++JAwcOiJycHHH48GERFBQknJycDH4FXNeq8//SqlWrRHp6urh48aJYv369cHBwEDExMRrbqY1jhkFiBAB0fq1evVpjXlxcnPDw8NB7T/fT66hUKjF37lzh6uoqFAqFCAwMFNnZ2bW4J8ZXG70pKSkRwcHBwtnZWcjlcuHp6SkmTJhgUj8sq9OX//73v2L48OHCxcVFWFtbiy5dumjd8urp6Sni4+M1xhITE0WrVq2EhYWF6NGjhzh69Ggd7JHx1FZvRo8eLZo3by4sLCxEixYtxOjRo8XFixfraK+kq05fZs2aJVxdXYVcLhft27cXixcvFiqVSmM7tXHM8GPkiYhIEl4jISIiSRgkREQkCYOEiIgkYZAQEZEkDBIiIpKEQUJERJIwSIiISBIGCRERScIgITJha9asgb29fX2XQY0cg4SIiCRhkBARkSQMEiIj27JlC3x9fWFlZQVHR0cEBQXh/v37GnNUKhVatmyJ5cuXa4yfPHkSZmZmuHLlCgBgyZIl8PX1hY2NDTw8PDB58mTcu3dP73OPHz8eoaGhGmPTp0/X+BO0KpUKCQkJaNOmDaysrNC1a1ds2bJF2k5To8YgITKiGzduIDw8HG+99RbOnTuHAwcOYPjw4Xj6s1Er/npdcnKyxvi3336Ll19+GZ6enup5n3/+Oc6cOYO1a9di3759+Otf/yqpxoSEBKxbtw4rVqzAmTNnMGPGDIwdOxYHDx6UtF1qxAz6PGMi0ikzM1MAEJcvX65y7smTJ4VMJhNXrlwRQghRXl4uWrRoIZYvX653nZSUFOHo6Kh+vHr1amFnZ6d+HBERId544w2Ndd59913xyiuvCCGEePjwobC2thZHjhzRmBMVFSXCw8OrrJlIF74iITKirl27IjAwEL6+vhg5ciRWrlyJO3fu6JzbrVs3+Pj4qF+VHDx4EPn5+Rg5cqR6zt69exEYGIgWLVqgWbNmePPNN3H79m31XwmsqYsXL6KkpAQDBw5E06ZN1V/r1q3DpUuXDNomEYOEyIjMzc2RmpqKXbt2oVOnTkhMTETHjh2Rk5Ojc/6YMWPUQZKcnIxBgwbB0dERAHD58mW89tpr6NKlC7Zu3YrMzEwkJSUBAMrKynRuz8zMTOs0mlKpVP+74vrKzp07cerUKfXX2bNneZ2EDMYgITIymUyGl19+GQsWLMDJkydhYWGB7du365z75z//GVlZWcjMzMSWLVswZswY9bLMzEyoVCosXrwYPXv2RIcOHXD9+vVKn9vZ2Rk3btzQGDt16pT63506dYJCocDVq1fRrl07jS8PDw/Dd5oaNQYJkRFlZGTg448/xvHjx3H16lVs27YNN2/ehI+PD7Zv3w5vb2+N+a1bt0avXr0QFRWF8vJyDB06VL2sXbt2UCqVSExMxO+//47169djxYoVlT7/gAEDcPz4caxbtw4XLlxAfHw8srKy1MubNWuG2NhYzJgxA2vXrsWlS5dw4sQJJCYmYu3atcZtBjUe9X2RhqghOXv2rAgJCRHOzs5CoVCIDh06iMTERCHE4wvjuv6X+/LLLwUAMW7cOK1lS5YsEc2bNxdWVlYiJCRErFu3TgAQd+7cUW/zyYvtQggxb9484erqKuzs7MSMGTNEdHS0+mK7EEKoVCqxdOlS0bFjRyGXy4Wzs7MICQkRBw8eNFofqHHh32wnIiJJeGqLiIgkYZAQEZEkDBIiIpKEQUJERJIwSIiISBIGCRERScIgISIiSRgkREQkCYOEiIgkYZAQEZEkDBIiIpLk/wAxUlOymRXZRQAAAABJRU5ErkJggg==",
          "text/plain": "<Figure size 400x300 with 1 Axes>"
         },
         "metadata": {},
         "output_type": "display_data"
        }
       ]
      }
     },
     "d15d98d0a39941c0b25470fd79041e6b": {
      "model_module": "anywidget",
      "model_module_version": "~0.9.*",
      "model_name": "AnyModel",
      "state": {
       "_anywidget_id": "widgets.slider.SliderWidget",
       "_css": "\n    .mljar-slider-container {\n        display: flex;\n        flex-direction: column;\n        align-items: flex-start;\n        width: 100%;\n        min-width: 120px;\n        font-family: Arial, sans-serif;\n        font-size: 12px;\n        font-weight: normal;\n        color: #222222;\n    }\n\n    .mljar-slider-top-label {\n        margin-bottom: 6px;\n        font-weight: bold;\n    }\n\n    .mljar-slider-row {\n        display: flex;\n        flex-direction: row;\n        align-items: center;\n        width: 100%;\n        overflow: hidden;\n    }\n\n    .mljar-slider-input {\n        flex: 1 1 auto;\n        min-width: 60px;\n        max-width: 100%;\n        margin-right: 16px;\n        background: transparent;\n        -webkit-appearance: none;\n        appearance: none;\n        border: none;\n        height: 24px; /* big enough for thumb */\n        padding: 0;\n    }\n\n    .mljar-slider-input:focus {\n        outline: none;\n    }\n\n    /* Track */\n    .mljar-slider-input::-webkit-slider-runnable-track {\n        height: 6px;\n        background: #e0e0e0;\n        border-radius: 16px;\n        margin: auto; /* center track in the input box */\n    }\n    .mljar-slider-input::-moz-range-track {\n        height: 6px;\n        background: #e0e0e0;\n        border-radius: 16px;\n    }\n\n    /* Thumb */\n    .mljar-slider-input::-webkit-slider-thumb {\n        -webkit-appearance: none;\n        appearance: none;\n        width: 16px;\n        height: 16px;\n        border-radius: 50%;\n        background: #007bff;\n        cursor: pointer;\n        margin-top: -5px; /* centers thumb on track */\n    }\n    .mljar-slider-input::-moz-range-thumb {\n        width: 16px;\n        height: 16px;\n        border-radius: 50%;\n        background: #007bff;\n        cursor: pointer;\n    }\n\n    .mljar-slider-value-label {\n        font-weight: bold;\n        font-size: 1.1em;\n        color: #222222;\n        margin-left: 8px;\n    }\n    ",
       "_esm": "\n    function render({ model, el }) {\n      // Container for the whole widget\n      let container = document.createElement(\"div\");\n      container.classList.add(\"mljar-slider-container\");\n\n      // Top label (left-aligned)\n      let topLabel = document.createElement(\"div\");\n      topLabel.classList.add(\"mljar-slider-top-label\");\n      topLabel.innerHTML = model.get(\"label\") || \"Select number\";\n\n      // Row: slider and value label\n      let sliderRow = document.createElement(\"div\");\n      sliderRow.classList.add(\"mljar-slider-row\");\n\n      // Slider input\n      let slider = document.createElement(\"input\");\n      slider.type = \"range\";\n      slider.min = model.get(\"min\");\n      slider.max = model.get(\"max\");\n      slider.value = model.get(\"value\");\n      slider.classList.add(\"mljar-slider-input\");\n\n      // Value label (to the right of slider)\n      let valueLabel = document.createElement(\"span\");\n      valueLabel.classList.add(\"mljar-slider-value-label\");\n      valueLabel.innerHTML = model.get(\"value\");\n\n      //slider.addEventListener(\"input\", () => {\n      //  model.set(\"value\", Number(slider.value));\n      //  model.save_changes();\n      //});\n      let debounceTimer = null;\n      slider.addEventListener(\"input\", () => {\n        model.set(\"value\", Number(slider.value));\n        if (debounceTimer) clearTimeout(debounceTimer);\n        debounceTimer = setTimeout(() => {\n            model.save_changes();\n        }, 100);\n      });\n\n      model.on(\"change:value\", () => {\n        slider.value = model.get(\"value\");\n        valueLabel.innerHTML = model.get(\"value\");\n      });\n\n      // Assemble row\n      sliderRow.appendChild(slider);\n      sliderRow.appendChild(valueLabel);\n\n      // Build structure\n      container.appendChild(topLabel);\n      container.appendChild(sliderRow);\n      el.appendChild(container);\n\n      const css = model.get(\"custom_css\");\n      if (css && css.trim().length > 0) {\n        let styleTag = document.createElement(\"style\");\n        styleTag.textContent = css;\n        el.appendChild(styleTag);\n      }\n    }\n    export default { render };\n    ",
       "_model_module": "anywidget",
       "_model_module_version": "~0.9.*",
       "_model_name": "AnyModel",
       "_view_module": "anywidget",
       "_view_module_version": "~0.9.*",
       "_view_name": "AnyView",
       "custom_css": "",
       "label": "Select number",
       "layout": "IPY_MODEL_23d5a4abc9334740a52a4f6ffa72432e",
       "max": 100,
       "min": 0,
       "position": "sidebar",
       "value": 47
      }
     },
     "e4d7c9b5489b4733beeb066e0a291aa0": {
      "model_module": "@jupyter-widgets/base",
      "model_module_version": "2.0.0",
      "model_name": "LayoutModel",
      "state": {
       "flex": "1 1 0px",
       "min_width": "240px"
      }
     }
    },
    "version_major": 2,
    "version_minor": 0
   }
  }
 },
 "nbformat": 4,
 "nbformat_minor": 5
}
