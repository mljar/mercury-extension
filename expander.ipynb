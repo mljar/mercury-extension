{
 "cells": [
  {
   "cell_type": "code",
   "execution_count": 1,
   "id": "1f2deb7c-12e2-4013-97fa-55c902b80439",
   "metadata": {},
   "outputs": [],
   "source": [
    "from widgets import Expander\n",
    "from widgets import Columns"
   ]
  },
  {
   "cell_type": "code",
   "execution_count": 2,
   "id": "89ef545f-8145-4661-97d0-b9048573bb74",
   "metadata": {},
   "outputs": [
    {
     "data": {
      "application/vnd.jupyter.widget-view+json": {
       "model_id": "3a4c3f57bd464f9bbd6a357182267f9c",
       "version_major": 2,
       "version_minor": 0
      },
      "text/plain": [
       "HTML(value='\\n    <style>\\n      .mljar-expander-box {\\n        width: 100%;\\n        border: 1px solid #ccccc…"
      ]
     },
     "metadata": {},
     "output_type": "display_data"
    },
    {
     "data": {
      "application/vnd.jupyter.widget-view+json": {
       "model_id": "bc514cb47a794982a99e7c0f4069dada",
       "version_major": 2,
       "version_minor": 0
      },
      "text/plain": [
       "VBox(children=(_ExpanderHeaderWidget(label='Training details'), Box(children=(Output(layout=Layout(width='100%…"
      ]
     },
     "metadata": {},
     "output_type": "display_data"
    }
   ],
   "source": [
    "out = Expander(label=\"Training details\", expanded=False, key=\"train-expander\")\n",
    "\n",
    "with out:\n",
    "    import time, sys\n",
    "    print(\"Fold 1/5: AUC=0.842\")\n",
    "    print(\"Fold 2/5: AUC=0.851\")"
   ]
  },
  {
   "cell_type": "code",
   "execution_count": 3,
   "id": "2366696f-7b03-42d0-b57b-29954d32d6c4",
   "metadata": {},
   "outputs": [],
   "source": [
    "with out:\n",
    "    import time, sys\n",
    "    print(\"Fold 1/5: AUC=0.842\")\n",
    "    print(\"Fold 2/5: AUC=0.851\")"
   ]
  },
  {
   "cell_type": "code",
   "execution_count": 4,
   "id": "f35868bc-33eb-4945-a04f-eb889ffbdb78",
   "metadata": {},
   "outputs": [
    {
     "data": {
      "application/vnd.jupyter.widget-view+json": {
       "model_id": "40a89a5979a94e89aeff897495c309a3",
       "version_major": 2,
       "version_minor": 0
      },
      "text/plain": [
       "HBox(children=(Output(layout=Layout(flex='1 1 0px', min_width='240px')), Output(layout=Layout(flex='1 1 0px', …"
      ]
     },
     "metadata": {},
     "output_type": "display_data"
    }
   ],
   "source": [
    "# Multiple in Columns\n",
    "left, right = Columns(2, key=\"two-cols\")\n"
   ]
  },
  {
   "cell_type": "code",
   "execution_count": 5,
   "id": "0a4def3f-baf6-4379-bc5a-8b591c60c45c",
   "metadata": {},
   "outputs": [],
   "source": [
    "with left:\n",
    "    left.clear_output(wait=True)\n",
    "    o1 = Expander(label=\"Left panel\", expanded=True)\n",
    "with right:\n",
    "    right.clear_output(wait=True)\n",
    "    o2 = Expander(label=\"Right panel\", expanded=False)"
   ]
  },
  {
   "cell_type": "code",
   "execution_count": 6,
   "id": "7e4f6c00-9c13-4061-8c12-75a760d02bfe",
   "metadata": {},
   "outputs": [],
   "source": [
    "\n",
    "with o1:\n",
    "    print(\"Hello from the left\")\n",
    "\n",
    "\n",
    "#    with o2:\n",
    "#        print(\"Hidden until expanded\")"
   ]
  },
  {
   "cell_type": "code",
   "execution_count": null,
   "id": "052452ca-50ae-441d-8f19-e6a8d04a62b9",
   "metadata": {},
   "outputs": [],
   "source": []
  },
  {
   "cell_type": "code",
   "execution_count": 6,
   "id": "57642caa-f6de-47e0-bb32-6a9e220cf2d8",
   "metadata": {},
   "outputs": [],
   "source": []
  },
  {
   "cell_type": "code",
   "execution_count": 6,
   "id": "2e6426a7-098a-4865-b324-a9902888bfa3",
   "metadata": {},
   "outputs": [],
   "source": []
  }
 ],
 "metadata": {
  "kernelspec": {
   "display_name": "Python 3 (ipykernel)",
   "language": "python",
   "name": "python3"
  },
  "language_info": {
   "codemirror_mode": {
    "name": "ipython",
    "version": 3
   },
   "file_extension": ".py",
   "mimetype": "text/x-python",
   "name": "python",
   "nbconvert_exporter": "python",
   "pygments_lexer": "ipython3",
   "version": "3.11.5"
  },
  "widgets": {
   "application/vnd.jupyter.widget-state+json": {
    "state": {
     "096f1166d9974d7b9b985b3da008bbfc": {
      "model_module": "@jupyter-widgets/output",
      "model_module_version": "1.0.0",
      "model_name": "OutputModel",
      "state": {
       "layout": "IPY_MODEL_fd79378d653646be989fa4ec1bcb6519",
       "outputs": [
        {
         "name": "stdout",
         "output_type": "stream",
         "text": "Fold 1/5: AUC=0.842\nFold 2/5: AUC=0.851\nFold 1/5: AUC=0.842\nFold 2/5: AUC=0.851\n"
        }
       ]
      }
     },
     "14fdcef7e4c14f08939455576c182664": {
      "model_module": "@jupyter-widgets/base",
      "model_module_version": "2.0.0",
      "model_name": "LayoutModel",
      "state": {}
     },
     "1922b6bd9741402cb9c2680a5d78f22d": {
      "model_module": "@jupyter-widgets/controls",
      "model_module_version": "2.0.0",
      "model_name": "HTMLStyleModel",
      "state": {
       "description_width": "",
       "font_size": null,
       "text_color": null
      }
     },
     "1ff015c6e46d47d496f56c8716d515f4": {
      "model_module": "@jupyter-widgets/base",
      "model_module_version": "2.0.0",
      "model_name": "LayoutModel",
      "state": {
       "width": "100%"
      }
     },
     "214053c4d52341fda861a0ec2e00620a": {
      "model_module": "@jupyter-widgets/base",
      "model_module_version": "2.0.0",
      "model_name": "LayoutModel",
      "state": {
       "width": "100%"
      }
     },
     "2640da1f981742789b7c13e989c3928b": {
      "model_module": "@jupyter-widgets/controls",
      "model_module_version": "2.0.0",
      "model_name": "HTMLModel",
      "state": {
       "layout": "IPY_MODEL_14fdcef7e4c14f08939455576c182664",
       "style": "IPY_MODEL_ed9e6a26b97e48caa244dbe287f69e95",
       "value": "\n    <style>\n      .mljar-expander-box {\n        width: 100%;\n        border: 1px solid #cccccc;\n        border-radius: 4px;\n        background: #fff;\n        overflow: hidden;\n      }\n\n      /* Streamlit-like expander transition */\n      .mljar-expander-content {\n        width: 100%;\n        position: relative;\n        box-sizing: border-box;\n        overflow: hidden;\n        max-height: 0;\n        opacity: 0;\n        padding: 0 10px;\n        transform: translateY(-4px);\n        transition:\n          max-height 300ms cubic-bezier(0.25, 1, 0.5, 1),\n          opacity 300ms cubic-bezier(0.25, 1, 0.5, 1),\n          transform 300ms cubic-bezier(0.25, 1, 0.5, 1),\n          padding-top 300ms ease,\n          padding-bottom 300ms ease;\n        will-change: max-height, opacity, transform;\n      }\n\n      .mljar-expander-content > * {\n        overflow: hidden;\n        min-height: 0;\n        box-sizing: border-box;\n      }\n\n      /* Fading divider (no layout shift) */\n      .mljar-expander-content::before {\n        content: \"\";\n        position: absolute;\n        left: 0; right: 0; top: 0;\n        height: 1px;\n        background: #cccccc;\n        opacity: 0;\n        transition: opacity 300ms ease;\n        pointer-events: none;\n      }\n\n      /* Opened state – natural \"ease-out\" movement */\n      .mljar-expander-content.is-open {\n        max-height: 1000vh;       /* big enough for all content */\n        opacity: 1;\n        padding-top: 10px;\n        padding-bottom: 10px;\n        transform: translateY(0);\n      }\n      .mljar-expander-content.is-open::before {\n        opacity: 1;\n      }\n\n      @media (prefers-reduced-motion: reduce) {\n        .mljar-expander-content {\n          transition: none;\n          transform: none;\n        }\n      }\n    </style>\n    "
      }
     },
     "2e5c18a0e4484acca4c04cacd815beee": {
      "model_module": "@jupyter-widgets/base",
      "model_module_version": "2.0.0",
      "model_name": "LayoutModel",
      "state": {}
     },
     "364c44e5566c446aa452ae24e15d4f2e": {
      "model_module": "@jupyter-widgets/controls",
      "model_module_version": "2.0.0",
      "model_name": "BoxModel",
      "state": {
       "_dom_classes": [
        "mljar-expander-content"
       ],
       "children": [
        "IPY_MODEL_d8b5466b4e724e3985774c0ac8d61244"
       ],
       "layout": "IPY_MODEL_91ad9cdbafce465e9b9072175fdec7f3"
      }
     },
     "36ef2b8dccd543159cd6ef3c81dc3260": {
      "model_module": "@jupyter-widgets/controls",
      "model_module_version": "2.0.0",
      "model_name": "BoxModel",
      "state": {
       "_dom_classes": [
        "mljar-expander-content"
       ],
       "children": [
        "IPY_MODEL_e6d43c4733c24607ab4f4433f28002ad"
       ],
       "layout": "IPY_MODEL_214053c4d52341fda861a0ec2e00620a"
      }
     },
     "3a4c3f57bd464f9bbd6a357182267f9c": {
      "model_module": "@jupyter-widgets/controls",
      "model_module_version": "2.0.0",
      "model_name": "HTMLModel",
      "state": {
       "layout": "IPY_MODEL_fadd0a79804b453591f946e3e02d0af3",
       "style": "IPY_MODEL_1922b6bd9741402cb9c2680a5d78f22d",
       "value": "\n    <style>\n      .mljar-expander-box {\n        width: 100%;\n        border: 1px solid #cccccc;\n        border-radius: 4px;\n        background: #fff;\n        overflow: hidden;\n      }\n\n      /* Streamlit-like expander transition */\n      .mljar-expander-content {\n        width: 100%;\n        position: relative;\n        box-sizing: border-box;\n        overflow: hidden;\n        max-height: 0;\n        opacity: 0;\n        padding: 0 10px;\n        transform: translateY(-4px);\n        transition:\n          max-height 300ms cubic-bezier(0.25, 1, 0.5, 1),\n          opacity 300ms cubic-bezier(0.25, 1, 0.5, 1),\n          transform 300ms cubic-bezier(0.25, 1, 0.5, 1),\n          padding-top 300ms ease,\n          padding-bottom 300ms ease;\n        will-change: max-height, opacity, transform;\n      }\n\n      .mljar-expander-content > * {\n        overflow: hidden;\n        min-height: 0;\n        box-sizing: border-box;\n      }\n\n      /* Fading divider (no layout shift) */\n      .mljar-expander-content::before {\n        content: \"\";\n        position: absolute;\n        left: 0; right: 0; top: 0;\n        height: 1px;\n        background: #cccccc;\n        opacity: 0;\n        transition: opacity 300ms ease;\n        pointer-events: none;\n      }\n\n      /* Opened state – natural \"ease-out\" movement */\n      .mljar-expander-content.is-open {\n        max-height: 1000vh;       /* big enough for all content */\n        opacity: 1;\n        padding-top: 10px;\n        padding-bottom: 10px;\n        transform: translateY(0);\n      }\n      .mljar-expander-content.is-open::before {\n        opacity: 1;\n      }\n\n      @media (prefers-reduced-motion: reduce) {\n        .mljar-expander-content {\n          transition: none;\n          transform: none;\n        }\n      }\n    </style>\n    "
      }
     },
     "3a991d0125b349c993f8e9b95a81ebfb": {
      "model_module": "@jupyter-widgets/base",
      "model_module_version": "2.0.0",
      "model_name": "LayoutModel",
      "state": {
       "align_items": "stretch",
       "display": "flex",
       "flex_flow": "row wrap",
       "width": "100%"
      }
     },
     "3cf3e6155db94677be23bc64b6ab70b3": {
      "model_module": "@jupyter-widgets/controls",
      "model_module_version": "2.0.0",
      "model_name": "VBoxModel",
      "state": {
       "_dom_classes": [
        "mljar-expander-box"
       ],
       "children": [
        "IPY_MODEL_8029cb6f6d8d499287d944c33de0d16e",
        "IPY_MODEL_364c44e5566c446aa452ae24e15d4f2e"
       ],
       "layout": "IPY_MODEL_a119026e5daf4ad59f46e965e3f9364d"
      }
     },
     "40a89a5979a94e89aeff897495c309a3": {
      "model_module": "@jupyter-widgets/controls",
      "model_module_version": "2.0.0",
      "model_name": "HBoxModel",
      "state": {
       "children": [
        "IPY_MODEL_c5f6fbeb92f8433f988c75ca79355b44",
        "IPY_MODEL_eef6b890045c452e9960e9ff32adf57e"
       ],
       "layout": "IPY_MODEL_3a991d0125b349c993f8e9b95a81ebfb"
      }
     },
     "45df82cbe65a48b88eb6318d7849cec2": {
      "model_module": "@jupyter-widgets/controls",
      "model_module_version": "2.0.0",
      "model_name": "HTMLStyleModel",
      "state": {
       "description_width": "",
       "font_size": null,
       "text_color": null
      }
     },
     "65db86e5f2554224b0764943c874f0e3": {
      "model_module": "@jupyter-widgets/base",
      "model_module_version": "2.0.0",
      "model_name": "LayoutModel",
      "state": {}
     },
     "8029cb6f6d8d499287d944c33de0d16e": {
      "model_module": "anywidget",
      "model_module_version": "~0.9.*",
      "model_name": "AnyModel",
      "state": {
       "_anywidget_id": "widgets.expander._ExpanderHeaderWidget",
       "_css": "\n    .mljar-expander-header {\n      width: 100%;\n      display: flex;\n      align-items: center;\n      gap: 8px;\n      background: #f7f7f9;\n      border: 0;\n      padding: 8px 10px;\n      cursor: pointer;\n      text-align: left;\n      font-family: Arial, sans-serif;\n      font-size: 12px;\n      font-weight: normal;\n      color: #222222;\n      transition: background 0.15s ease;\n      position: relative;\n    }\n    .mljar-expander-header:hover {\n      background: #efefef;\n    }\n    .mljar-expander-icon {\n      display: inline-block;\n      width: 0;\n      height: 0;\n      border-left: 6px solid transparent;\n      border-right: 6px solid transparent;\n      border-top: 8px solid #007bff;\n      transform: rotate(0deg);\n      transition: transform 0.15s ease;\n    }\n    .mljar-expander-header.is-open .mljar-expander-icon {\n      transform: rotate(180deg);\n    }\n    .mljar-expander-label {\n      flex: 1 1 auto;\n    }\n    ",
       "_esm": "\n    function render({ model, el }) {\n      const header = document.createElement(\"button\");\n      header.type = \"button\";\n      header.classList.add(\"mljar-expander-header\");\n      header.setAttribute(\"aria-expanded\", String(model.get(\"expanded\")));\n\n      const icon = document.createElement(\"span\");\n      icon.classList.add(\"mljar-expander-icon\");\n      const text = document.createElement(\"span\");\n      text.classList.add(\"mljar-expander-label\");\n      text.textContent = model.get(\"label\") || \"Details\";\n\n      header.appendChild(icon);\n      header.appendChild(text);\n      el.appendChild(header);\n\n      function syncUI() {\n        const isOpen = !!model.get(\"expanded\");\n        header.setAttribute(\"aria-expanded\", String(isOpen));\n        header.classList.toggle(\"is-open\", isOpen);\n      }\n      syncUI();\n\n      header.addEventListener(\"click\", () => {\n        const next = !model.get(\"expanded\");\n        model.set(\"expanded\", next);\n        model.save_changes();\n      });\n\n      model.on(\"change:expanded\", syncUI);\n      model.on(\"change:label\", () => {\n        text.textContent = model.get(\"label\") || \"Details\";\n      });\n\n      const css = model.get(\"custom_css\");\n      if (css && css.trim().length > 0) {\n        const styleTag = document.createElement(\"style\");\n        styleTag.textContent = css;\n        el.appendChild(styleTag);\n      }\n    }\n    export default { render };\n    ",
       "_model_module": "anywidget",
       "_model_module_version": "~0.9.*",
       "_model_name": "AnyModel",
       "_view_module": "anywidget",
       "_view_module_version": "~0.9.*",
       "_view_name": "AnyView",
       "custom_css": "",
       "expanded": false,
       "label": "Right panel",
       "layout": "IPY_MODEL_2e5c18a0e4484acca4c04cacd815beee",
       "position": "sidebar"
      }
     },
     "8228500f2c6c466e9711eb6f40b77832": {
      "model_module": "@jupyter-widgets/base",
      "model_module_version": "2.0.0",
      "model_name": "LayoutModel",
      "state": {
       "flex": "1 1 0px",
       "min_width": "240px"
      }
     },
     "83204df47d724099b4fe9fd26943a446": {
      "model_module": "@jupyter-widgets/controls",
      "model_module_version": "2.0.0",
      "model_name": "VBoxModel",
      "state": {
       "_dom_classes": [
        "mljar-expander-box"
       ],
       "children": [
        "IPY_MODEL_917b8efef76e4a3f9b3f8cef52a07248",
        "IPY_MODEL_36ef2b8dccd543159cd6ef3c81dc3260"
       ],
       "layout": "IPY_MODEL_b355899e820747cc94e9587677b4ce2f"
      }
     },
     "917b8efef76e4a3f9b3f8cef52a07248": {
      "model_module": "anywidget",
      "model_module_version": "~0.9.*",
      "model_name": "AnyModel",
      "state": {
       "_anywidget_id": "widgets.expander._ExpanderHeaderWidget",
       "_css": "\n    .mljar-expander-header {\n      width: 100%;\n      display: flex;\n      align-items: center;\n      gap: 8px;\n      background: #f7f7f9;\n      border: 0;\n      padding: 8px 10px;\n      cursor: pointer;\n      text-align: left;\n      font-family: Arial, sans-serif;\n      font-size: 12px;\n      font-weight: normal;\n      color: #222222;\n      transition: background 0.15s ease;\n      position: relative;\n    }\n    .mljar-expander-header:hover {\n      background: #efefef;\n    }\n    .mljar-expander-icon {\n      display: inline-block;\n      width: 0;\n      height: 0;\n      border-left: 6px solid transparent;\n      border-right: 6px solid transparent;\n      border-top: 8px solid #007bff;\n      transform: rotate(0deg);\n      transition: transform 0.15s ease;\n    }\n    .mljar-expander-header.is-open .mljar-expander-icon {\n      transform: rotate(180deg);\n    }\n    .mljar-expander-label {\n      flex: 1 1 auto;\n    }\n    ",
       "_esm": "\n    function render({ model, el }) {\n      const header = document.createElement(\"button\");\n      header.type = \"button\";\n      header.classList.add(\"mljar-expander-header\");\n      header.setAttribute(\"aria-expanded\", String(model.get(\"expanded\")));\n\n      const icon = document.createElement(\"span\");\n      icon.classList.add(\"mljar-expander-icon\");\n      const text = document.createElement(\"span\");\n      text.classList.add(\"mljar-expander-label\");\n      text.textContent = model.get(\"label\") || \"Details\";\n\n      header.appendChild(icon);\n      header.appendChild(text);\n      el.appendChild(header);\n\n      function syncUI() {\n        const isOpen = !!model.get(\"expanded\");\n        header.setAttribute(\"aria-expanded\", String(isOpen));\n        header.classList.toggle(\"is-open\", isOpen);\n      }\n      syncUI();\n\n      header.addEventListener(\"click\", () => {\n        const next = !model.get(\"expanded\");\n        model.set(\"expanded\", next);\n        model.save_changes();\n      });\n\n      model.on(\"change:expanded\", syncUI);\n      model.on(\"change:label\", () => {\n        text.textContent = model.get(\"label\") || \"Details\";\n      });\n\n      const css = model.get(\"custom_css\");\n      if (css && css.trim().length > 0) {\n        const styleTag = document.createElement(\"style\");\n        styleTag.textContent = css;\n        el.appendChild(styleTag);\n      }\n    }\n    export default { render };\n    ",
       "_model_module": "anywidget",
       "_model_module_version": "~0.9.*",
       "_model_name": "AnyModel",
       "_view_module": "anywidget",
       "_view_module_version": "~0.9.*",
       "_view_name": "AnyView",
       "custom_css": "",
       "expanded": false,
       "label": "Left panel",
       "layout": "IPY_MODEL_65db86e5f2554224b0764943c874f0e3",
       "position": "sidebar"
      }
     },
     "91ad9cdbafce465e9b9072175fdec7f3": {
      "model_module": "@jupyter-widgets/base",
      "model_module_version": "2.0.0",
      "model_name": "LayoutModel",
      "state": {
       "width": "100%"
      }
     },
     "94ceadd495ab4121b46ec6e055cdb18f": {
      "model_module": "@jupyter-widgets/base",
      "model_module_version": "2.0.0",
      "model_name": "LayoutModel",
      "state": {
       "width": "100%"
      }
     },
     "a119026e5daf4ad59f46e965e3f9364d": {
      "model_module": "@jupyter-widgets/base",
      "model_module_version": "2.0.0",
      "model_name": "LayoutModel",
      "state": {
       "width": "100%"
      }
     },
     "a4ba504cfdca4c8fb9655aad0dfa903c": {
      "model_module": "@jupyter-widgets/base",
      "model_module_version": "2.0.0",
      "model_name": "LayoutModel",
      "state": {}
     },
     "a65691a5df784bf9bc5b115c3e2dca8d": {
      "model_module": "@jupyter-widgets/base",
      "model_module_version": "2.0.0",
      "model_name": "LayoutModel",
      "state": {
       "width": "100%"
      }
     },
     "a77a44e35d384dfdb12ba573785739ab": {
      "model_module": "anywidget",
      "model_module_version": "~0.9.*",
      "model_name": "AnyModel",
      "state": {
       "_anywidget_id": "widgets.expander._ExpanderHeaderWidget",
       "_css": "\n    .mljar-expander-header {\n      width: 100%;\n      display: flex;\n      align-items: center;\n      gap: 8px;\n      background: #f7f7f9;\n      border: 0;\n      padding: 8px 10px;\n      cursor: pointer;\n      text-align: left;\n      font-family: Arial, sans-serif;\n      font-size: 12px;\n      font-weight: normal;\n      color: #222222;\n      transition: background 0.15s ease;\n      position: relative;\n    }\n    .mljar-expander-header:hover {\n      background: #efefef;\n    }\n    .mljar-expander-icon {\n      display: inline-block;\n      width: 0;\n      height: 0;\n      border-left: 6px solid transparent;\n      border-right: 6px solid transparent;\n      border-top: 8px solid #007bff;\n      transform: rotate(0deg);\n      transition: transform 0.15s ease;\n    }\n    .mljar-expander-header.is-open .mljar-expander-icon {\n      transform: rotate(180deg);\n    }\n    .mljar-expander-label {\n      flex: 1 1 auto;\n    }\n    ",
       "_esm": "\n    function render({ model, el }) {\n      const header = document.createElement(\"button\");\n      header.type = \"button\";\n      header.classList.add(\"mljar-expander-header\");\n      header.setAttribute(\"aria-expanded\", String(model.get(\"expanded\")));\n\n      const icon = document.createElement(\"span\");\n      icon.classList.add(\"mljar-expander-icon\");\n      const text = document.createElement(\"span\");\n      text.classList.add(\"mljar-expander-label\");\n      text.textContent = model.get(\"label\") || \"Details\";\n\n      header.appendChild(icon);\n      header.appendChild(text);\n      el.appendChild(header);\n\n      function syncUI() {\n        const isOpen = !!model.get(\"expanded\");\n        header.setAttribute(\"aria-expanded\", String(isOpen));\n        header.classList.toggle(\"is-open\", isOpen);\n      }\n      syncUI();\n\n      header.addEventListener(\"click\", () => {\n        const next = !model.get(\"expanded\");\n        model.set(\"expanded\", next);\n        model.save_changes();\n      });\n\n      model.on(\"change:expanded\", syncUI);\n      model.on(\"change:label\", () => {\n        text.textContent = model.get(\"label\") || \"Details\";\n      });\n\n      const css = model.get(\"custom_css\");\n      if (css && css.trim().length > 0) {\n        const styleTag = document.createElement(\"style\");\n        styleTag.textContent = css;\n        el.appendChild(styleTag);\n      }\n    }\n    export default { render };\n    ",
       "_model_module": "anywidget",
       "_model_module_version": "~0.9.*",
       "_model_name": "AnyModel",
       "_view_module": "anywidget",
       "_view_module_version": "~0.9.*",
       "_view_name": "AnyView",
       "custom_css": "",
       "expanded": false,
       "label": "Training details",
       "layout": "IPY_MODEL_a4ba504cfdca4c8fb9655aad0dfa903c",
       "position": "sidebar"
      }
     },
     "b355899e820747cc94e9587677b4ce2f": {
      "model_module": "@jupyter-widgets/base",
      "model_module_version": "2.0.0",
      "model_name": "LayoutModel",
      "state": {
       "width": "100%"
      }
     },
     "b58998d7ab6b431f942ae47156f7a84f": {
      "model_module": "@jupyter-widgets/base",
      "model_module_version": "2.0.0",
      "model_name": "LayoutModel",
      "state": {}
     },
     "bc514cb47a794982a99e7c0f4069dada": {
      "model_module": "@jupyter-widgets/controls",
      "model_module_version": "2.0.0",
      "model_name": "VBoxModel",
      "state": {
       "_dom_classes": [
        "mljar-expander-box"
       ],
       "children": [
        "IPY_MODEL_a77a44e35d384dfdb12ba573785739ab",
        "IPY_MODEL_f0de8c1b80bb42e08720a9facf5e73c3"
       ],
       "layout": "IPY_MODEL_94ceadd495ab4121b46ec6e055cdb18f"
      }
     },
     "c230a73cd35b4ecba9c49cc385c07c39": {
      "model_module": "@jupyter-widgets/base",
      "model_module_version": "2.0.0",
      "model_name": "LayoutModel",
      "state": {
       "width": "100%"
      }
     },
     "c5f6fbeb92f8433f988c75ca79355b44": {
      "model_module": "@jupyter-widgets/output",
      "model_module_version": "1.0.0",
      "model_name": "OutputModel",
      "state": {
       "layout": "IPY_MODEL_8228500f2c6c466e9711eb6f40b77832",
       "outputs": [
        {
         "data": {
          "application/vnd.jupyter.widget-view+json": {
           "model_id": "2640da1f981742789b7c13e989c3928b",
           "version_major": 2,
           "version_minor": 0
          },
          "text/plain": "HTML(value='\\n    <style>\\n      .mljar-expander-box {\\n        width: 100%;\\n        border: 1px solid #ccccc…"
         },
         "metadata": {},
         "output_type": "display_data"
        },
        {
         "data": {
          "application/vnd.jupyter.widget-view+json": {
           "model_id": "83204df47d724099b4fe9fd26943a446",
           "version_major": 2,
           "version_minor": 0
          },
          "text/plain": "VBox(children=(_ExpanderHeaderWidget(expanded=True, label='Left panel'), Box(children=(Output(layout=Layout(wi…"
         },
         "metadata": {},
         "output_type": "display_data"
        }
       ]
      }
     },
     "d8b5466b4e724e3985774c0ac8d61244": {
      "model_module": "@jupyter-widgets/output",
      "model_module_version": "1.0.0",
      "model_name": "OutputModel",
      "state": {
       "layout": "IPY_MODEL_a65691a5df784bf9bc5b115c3e2dca8d"
      }
     },
     "e3e770ac966d4aa9a63da59491bb2891": {
      "model_module": "@jupyter-widgets/controls",
      "model_module_version": "2.0.0",
      "model_name": "HTMLModel",
      "state": {
       "layout": "IPY_MODEL_b58998d7ab6b431f942ae47156f7a84f",
       "style": "IPY_MODEL_45df82cbe65a48b88eb6318d7849cec2",
       "value": "\n    <style>\n      .mljar-expander-box {\n        width: 100%;\n        border: 1px solid #cccccc;\n        border-radius: 4px;\n        background: #fff;\n        overflow: hidden;\n      }\n\n      /* Streamlit-like expander transition */\n      .mljar-expander-content {\n        width: 100%;\n        position: relative;\n        box-sizing: border-box;\n        overflow: hidden;\n        max-height: 0;\n        opacity: 0;\n        padding: 0 10px;\n        transform: translateY(-4px);\n        transition:\n          max-height 300ms cubic-bezier(0.25, 1, 0.5, 1),\n          opacity 300ms cubic-bezier(0.25, 1, 0.5, 1),\n          transform 300ms cubic-bezier(0.25, 1, 0.5, 1),\n          padding-top 300ms ease,\n          padding-bottom 300ms ease;\n        will-change: max-height, opacity, transform;\n      }\n\n      .mljar-expander-content > * {\n        overflow: hidden;\n        min-height: 0;\n        box-sizing: border-box;\n      }\n\n      /* Fading divider (no layout shift) */\n      .mljar-expander-content::before {\n        content: \"\";\n        position: absolute;\n        left: 0; right: 0; top: 0;\n        height: 1px;\n        background: #cccccc;\n        opacity: 0;\n        transition: opacity 300ms ease;\n        pointer-events: none;\n      }\n\n      /* Opened state – natural \"ease-out\" movement */\n      .mljar-expander-content.is-open {\n        max-height: 1000vh;       /* big enough for all content */\n        opacity: 1;\n        padding-top: 10px;\n        padding-bottom: 10px;\n        transform: translateY(0);\n      }\n      .mljar-expander-content.is-open::before {\n        opacity: 1;\n      }\n\n      @media (prefers-reduced-motion: reduce) {\n        .mljar-expander-content {\n          transition: none;\n          transform: none;\n        }\n      }\n    </style>\n    "
      }
     },
     "e6d43c4733c24607ab4f4433f28002ad": {
      "model_module": "@jupyter-widgets/output",
      "model_module_version": "1.0.0",
      "model_name": "OutputModel",
      "state": {
       "layout": "IPY_MODEL_c230a73cd35b4ecba9c49cc385c07c39",
       "outputs": [
        {
         "name": "stdout",
         "output_type": "stream",
         "text": "Hello from the left\n"
        }
       ]
      }
     },
     "ed9e6a26b97e48caa244dbe287f69e95": {
      "model_module": "@jupyter-widgets/controls",
      "model_module_version": "2.0.0",
      "model_name": "HTMLStyleModel",
      "state": {
       "description_width": "",
       "font_size": null,
       "text_color": null
      }
     },
     "eef6b890045c452e9960e9ff32adf57e": {
      "model_module": "@jupyter-widgets/output",
      "model_module_version": "1.0.0",
      "model_name": "OutputModel",
      "state": {
       "layout": "IPY_MODEL_ef4f27af58b2426aaa22d298dfb14b3f",
       "outputs": [
        {
         "data": {
          "application/vnd.jupyter.widget-view+json": {
           "model_id": "e3e770ac966d4aa9a63da59491bb2891",
           "version_major": 2,
           "version_minor": 0
          },
          "text/plain": "HTML(value='\\n    <style>\\n      .mljar-expander-box {\\n        width: 100%;\\n        border: 1px solid #ccccc…"
         },
         "metadata": {},
         "output_type": "display_data"
        },
        {
         "data": {
          "application/vnd.jupyter.widget-view+json": {
           "model_id": "3cf3e6155db94677be23bc64b6ab70b3",
           "version_major": 2,
           "version_minor": 0
          },
          "text/plain": "VBox(children=(_ExpanderHeaderWidget(label='Right panel'), Box(children=(Output(layout=Layout(width='100%')),)…"
         },
         "metadata": {},
         "output_type": "display_data"
        }
       ]
      }
     },
     "ef4f27af58b2426aaa22d298dfb14b3f": {
      "model_module": "@jupyter-widgets/base",
      "model_module_version": "2.0.0",
      "model_name": "LayoutModel",
      "state": {
       "flex": "1 1 0px",
       "min_width": "240px"
      }
     },
     "f0de8c1b80bb42e08720a9facf5e73c3": {
      "model_module": "@jupyter-widgets/controls",
      "model_module_version": "2.0.0",
      "model_name": "BoxModel",
      "state": {
       "_dom_classes": [
        "mljar-expander-content"
       ],
       "children": [
        "IPY_MODEL_096f1166d9974d7b9b985b3da008bbfc"
       ],
       "layout": "IPY_MODEL_1ff015c6e46d47d496f56c8716d515f4"
      }
     },
     "fadd0a79804b453591f946e3e02d0af3": {
      "model_module": "@jupyter-widgets/base",
      "model_module_version": "2.0.0",
      "model_name": "LayoutModel",
      "state": {}
     },
     "fd79378d653646be989fa4ec1bcb6519": {
      "model_module": "@jupyter-widgets/base",
      "model_module_version": "2.0.0",
      "model_name": "LayoutModel",
      "state": {
       "width": "100%"
      }
     }
    },
    "version_major": 2,
    "version_minor": 0
   }
  }
 },
 "nbformat": 4,
 "nbformat_minor": 5
}
