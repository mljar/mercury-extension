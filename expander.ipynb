{
 "cells": [
  {
   "cell_type": "code",
   "execution_count": 1,
   "id": "1f2deb7c-12e2-4013-97fa-55c902b80439",
   "metadata": {},
   "outputs": [],
   "source": [
    "from widgets import Expander\n",
    "from widgets import Columns"
   ]
  },
  {
   "cell_type": "code",
   "execution_count": 2,
   "id": "89ef545f-8145-4661-97d0-b9048573bb74",
   "metadata": {},
   "outputs": [
    {
     "data": {
      "application/vnd.jupyter.widget-view+json": {
       "model_id": "a8e176fdc9c34161a50c6ce75a15b78f",
       "version_major": 2,
       "version_minor": 0
      },
      "text/plain": [
       "HTML(value='\\n    <style>\\n      .mljar-expander-box {\\n        width: 100%;\\n        border: 1px solid #ccccc…"
      ]
     },
     "metadata": {},
     "output_type": "display_data"
    },
    {
     "data": {
      "application/vnd.jupyter.widget-view+json": {
       "model_id": "2e1791f27a264f9e8cde652aecec8ab1",
       "version_major": 2,
       "version_minor": 0
      },
      "text/plain": [
       "VBox(children=(_ExpanderHeaderWidget(label='Training details'), Box(children=(Output(layout=Layout(width='100%…"
      ]
     },
     "metadata": {},
     "output_type": "display_data"
    }
   ],
   "source": [
    "out = Expander(label=\"Training details\", expanded=False, key=\"train-expander\")\n",
    "\n",
    "with out:\n",
    "    import time, sys\n",
    "    print(\"Fold 1/5: AUC=0.842\")\n",
    "    print(\"Fold 2/5: AUC=0.851\")"
   ]
  },
  {
   "cell_type": "code",
   "execution_count": 3,
   "id": "2366696f-7b03-42d0-b57b-29954d32d6c4",
   "metadata": {},
   "outputs": [],
   "source": [
    "with out:\n",
    "    import time, sys\n",
    "    print(\"Fold 1/5: AUC=0.842\")\n",
    "    print(\"Fold 2/5: AUC=0.851\")"
   ]
  },
  {
   "cell_type": "code",
   "execution_count": 4,
   "id": "1aea7324-5a5e-4242-9ee1-cb1dca2c670e",
   "metadata": {},
   "outputs": [
    {
     "data": {
      "text/html": [
       "\n",
       "    <style>\n",
       "    .mljar-column {\n",
       "        border-radius: 4px !important;\n",
       "    }\n",
       "    </style>\n",
       "    "
      ],
      "text/plain": [
       "<IPython.core.display.HTML object>"
      ]
     },
     "metadata": {},
     "output_type": "display_data"
    },
    {
     "data": {
      "application/vnd.jupyter.widget-view+json": {
       "model_id": "52605be37f834fde9a18fc77a1a36a15",
       "version_major": 2,
       "version_minor": 0
      },
      "text/plain": [
       "HBox(children=(Output(layout=Layout(border_bottom='1px solid lightgray', border_left='1px solid lightgray', bo…"
      ]
     },
     "metadata": {},
     "output_type": "display_data"
    }
   ],
   "source": [
    "## Multiple in Columns\n",
    "left, right = Columns(2)\n"
   ]
  },
  {
   "cell_type": "code",
   "execution_count": 5,
   "id": "0a4def3f-baf6-4379-bc5a-8b591c60c45c",
   "metadata": {},
   "outputs": [],
   "source": [
    "with left:\n",
    "    left.clear_output(wait=True)\n",
    "    o1 = Expander(label=\"Left panel\", expanded=True)\n",
    "with right:\n",
    "    right.clear_output(wait=True)\n",
    "    o2 = Expander(label=\"Right panel\", expanded=False)"
   ]
  },
  {
   "cell_type": "code",
   "execution_count": 6,
   "id": "7e4f6c00-9c13-4061-8c12-75a760d02bfe",
   "metadata": {},
   "outputs": [],
   "source": [
    "\n",
    "with o1:\n",
    "    print(\"Hello from the left\")\n",
    "\n",
    "\n",
    "with o2:\n",
    "    print(\"Hidden until expanded\")"
   ]
  },
  {
   "cell_type": "code",
   "execution_count": null,
   "id": "052452ca-50ae-441d-8f19-e6a8d04a62b9",
   "metadata": {},
   "outputs": [],
   "source": []
  },
  {
   "cell_type": "code",
   "execution_count": 6,
   "id": "57642caa-f6de-47e0-bb32-6a9e220cf2d8",
   "metadata": {},
   "outputs": [],
   "source": []
  },
  {
   "cell_type": "code",
   "execution_count": 6,
   "id": "2e6426a7-098a-4865-b324-a9902888bfa3",
   "metadata": {},
   "outputs": [],
   "source": []
  }
 ],
 "metadata": {
  "kernelspec": {
   "display_name": "Python 3 (ipykernel)",
   "language": "python",
   "name": "python3"
  },
  "language_info": {
   "codemirror_mode": {
    "name": "ipython",
    "version": 3
   },
   "file_extension": ".py",
   "mimetype": "text/x-python",
   "name": "python",
   "nbconvert_exporter": "python",
   "pygments_lexer": "ipython3",
   "version": "3.11.5"
  },
  "widgets": {
   "application/vnd.jupyter.widget-state+json": {
    "state": {
     "007f4aa9707d4fc7842fe003eb2db13d": {
      "model_module": "@jupyter-widgets/base",
      "model_module_version": "2.0.0",
      "model_name": "LayoutModel",
      "state": {
       "border_bottom": "1px solid lightgray",
       "border_left": "1px solid lightgray",
       "border_right": "1px solid lightgray",
       "border_top": "1px solid lightgray",
       "flex": "1 1 0px",
       "min_width": "240px",
       "padding": "4px"
      }
     },
     "049b3891c232422394ede8e80cb8ae51": {
      "model_module": "@jupyter-widgets/base",
      "model_module_version": "2.0.0",
      "model_name": "LayoutModel",
      "state": {}
     },
     "05ef3195cf454594a06663a43ddc159d": {
      "model_module": "anywidget",
      "model_module_version": "~0.9.*",
      "model_name": "AnyModel",
      "state": {
       "_anywidget_id": "widgets.expander._ExpanderHeaderWidget",
       "_css": "\n    .mljar-expander-header {\n      width: 100%;\n      display: flex;\n      align-items: center;\n      gap: 8px;\n      background: #f7f7f9;\n      border: 0;\n      padding: 8px 10px;\n      cursor: pointer;\n      text-align: left;\n      font-family: Arial, sans-serif;\n      font-size: 12px;\n      font-weight: normal;\n      color: #222222;\n      transition: background 0.15s ease;\n      position: relative;\n    }\n    .mljar-expander-header:hover {\n      background: #efefef;\n    }\n    .mljar-expander-icon {\n      display: inline-block;\n      width: 0;\n      height: 0;\n      border-left: 6px solid transparent;\n      border-right: 6px solid transparent;\n      border-top: 8px solid #007bff;\n      transform: rotate(0deg);\n      transition: transform 0.15s ease;\n    }\n    .mljar-expander-header.is-open .mljar-expander-icon {\n      transform: rotate(180deg);\n    }\n    .mljar-expander-label {\n      flex: 1 1 auto;\n    }\n    ",
       "_esm": "\n    function render({ model, el }) {\n      const header = document.createElement(\"button\");\n      header.type = \"button\";\n      header.classList.add(\"mljar-expander-header\");\n      header.setAttribute(\"aria-expanded\", String(model.get(\"expanded\")));\n\n      const icon = document.createElement(\"span\");\n      icon.classList.add(\"mljar-expander-icon\");\n      const text = document.createElement(\"span\");\n      text.classList.add(\"mljar-expander-label\");\n      text.textContent = model.get(\"label\") || \"Details\";\n\n      header.appendChild(icon);\n      header.appendChild(text);\n      el.appendChild(header);\n\n      function syncUI() {\n        const isOpen = !!model.get(\"expanded\");\n        header.setAttribute(\"aria-expanded\", String(isOpen));\n        header.classList.toggle(\"is-open\", isOpen);\n      }\n      syncUI();\n\n      header.addEventListener(\"click\", () => {\n        const next = !model.get(\"expanded\");\n        model.set(\"expanded\", next);\n        model.save_changes();\n      });\n\n      model.on(\"change:expanded\", syncUI);\n      model.on(\"change:label\", () => {\n        text.textContent = model.get(\"label\") || \"Details\";\n      });\n\n      const css = model.get(\"custom_css\");\n      if (css && css.trim().length > 0) {\n        const styleTag = document.createElement(\"style\");\n        styleTag.textContent = css;\n        el.appendChild(styleTag);\n      }\n    }\n    export default { render };\n    ",
       "_model_module": "anywidget",
       "_model_module_version": "~0.9.*",
       "_model_name": "AnyModel",
       "_view_module": "anywidget",
       "_view_module_version": "~0.9.*",
       "_view_name": "AnyView",
       "custom_css": "",
       "expanded": true,
       "label": "Left panel",
       "layout": "IPY_MODEL_98c6aca0d8fa49a98fa4b1ae0fbd770a",
       "position": "sidebar"
      }
     },
     "0e624da1bcf64055a5fa876f4523adb0": {
      "model_module": "@jupyter-widgets/base",
      "model_module_version": "2.0.0",
      "model_name": "LayoutModel",
      "state": {
       "width": "100%"
      }
     },
     "1c9762554f1643088f0888b83b6edcb4": {
      "model_module": "@jupyter-widgets/base",
      "model_module_version": "2.0.0",
      "model_name": "LayoutModel",
      "state": {
       "width": "100%"
      }
     },
     "1eb5bbe19ca94f4a85908f319243c692": {
      "model_module": "@jupyter-widgets/base",
      "model_module_version": "2.0.0",
      "model_name": "LayoutModel",
      "state": {
       "width": "100%"
      }
     },
     "27107315c71e401192a896612ad33d7a": {
      "model_module": "@jupyter-widgets/controls",
      "model_module_version": "2.0.0",
      "model_name": "HTMLModel",
      "state": {
       "layout": "IPY_MODEL_b87b8d8df22e4b81a4b0cdcc4be267cb",
       "style": "IPY_MODEL_5a425bc81644403ba45e481747df97f8",
       "value": "\n    <style>\n      .mljar-expander-box {\n        width: 100%;\n        border: 1px solid #cccccc;\n        border-radius: 4px;\n        background: #fff;\n        overflow: hidden;\n      }\n\n      /* Streamlit-like expander transition */\n      .mljar-expander-content {\n        width: 100%;\n        position: relative;\n        box-sizing: border-box;\n        overflow: hidden;\n        max-height: 0;\n        opacity: 0;\n        padding: 0 10px;\n        transform: translateY(-4px);\n        transition:\n          max-height 300ms cubic-bezier(0.25, 1, 0.5, 1),\n          opacity 300ms cubic-bezier(0.25, 1, 0.5, 1),\n          transform 300ms cubic-bezier(0.25, 1, 0.5, 1),\n          padding-top 300ms ease,\n          padding-bottom 300ms ease;\n        will-change: max-height, opacity, transform;\n      }\n\n      .mljar-expander-content > * {\n        overflow: hidden;\n        min-height: 0;\n        box-sizing: border-box;\n      }\n\n      /* Fading divider (no layout shift) */\n      .mljar-expander-content::before {\n        content: \"\";\n        position: absolute;\n        left: 0; right: 0; top: 0;\n        height: 1px;\n        background: #cccccc;\n        opacity: 0;\n        transition: opacity 300ms ease;\n        pointer-events: none;\n      }\n\n      /* Opened state – natural \"ease-out\" movement */\n      .mljar-expander-content.is-open {\n        max-height: 1000vh;       /* big enough for all content */\n        opacity: 1;\n        padding-top: 10px;\n        padding-bottom: 10px;\n        transform: translateY(0);\n      }\n      .mljar-expander-content.is-open::before {\n        opacity: 1;\n      }\n\n      @media (prefers-reduced-motion: reduce) {\n        .mljar-expander-content {\n          transition: none;\n          transform: none;\n        }\n      }\n    </style>\n    "
      }
     },
     "2e1791f27a264f9e8cde652aecec8ab1": {
      "model_module": "@jupyter-widgets/controls",
      "model_module_version": "2.0.0",
      "model_name": "VBoxModel",
      "state": {
       "_dom_classes": [
        "mljar-expander-box"
       ],
       "children": [
        "IPY_MODEL_b64758946c7e47ba8635ac13a46794cc",
        "IPY_MODEL_af8eed26646f433e972f3dd10a077c3b"
       ],
       "layout": "IPY_MODEL_f17ac72b15ef4ee98b9aea616727222f"
      }
     },
     "2f232cfd6d5a4b449afc7b21dd259c44": {
      "model_module": "@jupyter-widgets/controls",
      "model_module_version": "2.0.0",
      "model_name": "HTMLStyleModel",
      "state": {
       "description_width": "",
       "font_size": null,
       "text_color": null
      }
     },
     "39a7ba16ab654a2cb2dccc32c92aa210": {
      "model_module": "@jupyter-widgets/output",
      "model_module_version": "1.0.0",
      "model_name": "OutputModel",
      "state": {
       "layout": "IPY_MODEL_1eb5bbe19ca94f4a85908f319243c692",
       "outputs": [
        {
         "name": "stdout",
         "output_type": "stream",
         "text": "Hello from the left\n"
        }
       ]
      }
     },
     "52605be37f834fde9a18fc77a1a36a15": {
      "model_module": "@jupyter-widgets/controls",
      "model_module_version": "2.0.0",
      "model_name": "HBoxModel",
      "state": {
       "children": [
        "IPY_MODEL_dcb41a5f142742cfbada568b10082b93",
        "IPY_MODEL_993cdf4e7be544bc82caae203aceb309"
       ],
       "layout": "IPY_MODEL_ab655838a9a34416ba94a810dc83e71f"
      }
     },
     "59b37bcb6e424d94b21f868c490ae9de": {
      "model_module": "@jupyter-widgets/base",
      "model_module_version": "2.0.0",
      "model_name": "LayoutModel",
      "state": {}
     },
     "5a425bc81644403ba45e481747df97f8": {
      "model_module": "@jupyter-widgets/controls",
      "model_module_version": "2.0.0",
      "model_name": "HTMLStyleModel",
      "state": {
       "description_width": "",
       "font_size": null,
       "text_color": null
      }
     },
     "6066a626ab9d4657a1ae80a98be078e8": {
      "model_module": "@jupyter-widgets/controls",
      "model_module_version": "2.0.0",
      "model_name": "VBoxModel",
      "state": {
       "_dom_classes": [
        "mljar-expander-box"
       ],
       "children": [
        "IPY_MODEL_dec2334876854efb95387cb31b56a92e",
        "IPY_MODEL_ad69e20501504461b8fc051e9705cb65"
       ],
       "layout": "IPY_MODEL_cc166269cf9e476f8f2a02b1fd17d239"
      }
     },
     "74a1153cbbd84517a3b64ed8cd59ef08": {
      "model_module": "@jupyter-widgets/base",
      "model_module_version": "2.0.0",
      "model_name": "LayoutModel",
      "state": {}
     },
     "74bbd847185349fb85a2deb9cf76ff33": {
      "model_module": "@jupyter-widgets/base",
      "model_module_version": "2.0.0",
      "model_name": "LayoutModel",
      "state": {
       "border_bottom": "1px solid lightgray",
       "border_left": "1px solid lightgray",
       "border_right": "1px solid lightgray",
       "border_top": "1px solid lightgray",
       "flex": "1 1 0px",
       "min_width": "240px",
       "padding": "4px"
      }
     },
     "78543353f7d8495db4a9e1a3afd99ba3": {
      "model_module": "@jupyter-widgets/base",
      "model_module_version": "2.0.0",
      "model_name": "LayoutModel",
      "state": {
       "width": "100%"
      }
     },
     "7ff799c7b67f4e5286be3a9e2de3df9e": {
      "model_module": "@jupyter-widgets/output",
      "model_module_version": "1.0.0",
      "model_name": "OutputModel",
      "state": {
       "layout": "IPY_MODEL_78543353f7d8495db4a9e1a3afd99ba3",
       "outputs": [
        {
         "name": "stdout",
         "output_type": "stream",
         "text": "Hidden until expanded\n"
        }
       ]
      }
     },
     "94c387af67fc4dbc81b0b6c594196972": {
      "model_module": "@jupyter-widgets/controls",
      "model_module_version": "2.0.0",
      "model_name": "BoxModel",
      "state": {
       "_dom_classes": [
        "mljar-expander-content",
        "is-open"
       ],
       "children": [
        "IPY_MODEL_39a7ba16ab654a2cb2dccc32c92aa210"
       ],
       "layout": "IPY_MODEL_ab492e7679c04ec1bb9f5a72432d1efb"
      }
     },
     "98c6aca0d8fa49a98fa4b1ae0fbd770a": {
      "model_module": "@jupyter-widgets/base",
      "model_module_version": "2.0.0",
      "model_name": "LayoutModel",
      "state": {}
     },
     "993cdf4e7be544bc82caae203aceb309": {
      "model_module": "@jupyter-widgets/output",
      "model_module_version": "1.0.0",
      "model_name": "OutputModel",
      "state": {
       "_dom_classes": [
        "mljar-column"
       ],
       "layout": "IPY_MODEL_74bbd847185349fb85a2deb9cf76ff33",
       "outputs": [
        {
         "data": {
          "application/vnd.jupyter.widget-view+json": {
           "model_id": "27107315c71e401192a896612ad33d7a",
           "version_major": 2,
           "version_minor": 0
          },
          "text/plain": "HTML(value='\\n    <style>\\n      .mljar-expander-box {\\n        width: 100%;\\n        border: 1px solid #ccccc…"
         },
         "metadata": {},
         "output_type": "display_data"
        },
        {
         "data": {
          "application/vnd.jupyter.widget-view+json": {
           "model_id": "6066a626ab9d4657a1ae80a98be078e8",
           "version_major": 2,
           "version_minor": 0
          },
          "text/plain": "VBox(children=(_ExpanderHeaderWidget(label='Right panel'), Box(children=(Output(layout=Layout(width='100%')),)…"
         },
         "metadata": {},
         "output_type": "display_data"
        }
       ]
      }
     },
     "a8e176fdc9c34161a50c6ce75a15b78f": {
      "model_module": "@jupyter-widgets/controls",
      "model_module_version": "2.0.0",
      "model_name": "HTMLModel",
      "state": {
       "layout": "IPY_MODEL_049b3891c232422394ede8e80cb8ae51",
       "style": "IPY_MODEL_c887214fde7b43869e684d27be1b073e",
       "value": "\n    <style>\n      .mljar-expander-box {\n        width: 100%;\n        border: 1px solid #cccccc;\n        border-radius: 4px;\n        background: #fff;\n        overflow: hidden;\n      }\n\n      /* Streamlit-like expander transition */\n      .mljar-expander-content {\n        width: 100%;\n        position: relative;\n        box-sizing: border-box;\n        overflow: hidden;\n        max-height: 0;\n        opacity: 0;\n        padding: 0 10px;\n        transform: translateY(-4px);\n        transition:\n          max-height 300ms cubic-bezier(0.25, 1, 0.5, 1),\n          opacity 300ms cubic-bezier(0.25, 1, 0.5, 1),\n          transform 300ms cubic-bezier(0.25, 1, 0.5, 1),\n          padding-top 300ms ease,\n          padding-bottom 300ms ease;\n        will-change: max-height, opacity, transform;\n      }\n\n      .mljar-expander-content > * {\n        overflow: hidden;\n        min-height: 0;\n        box-sizing: border-box;\n      }\n\n      /* Fading divider (no layout shift) */\n      .mljar-expander-content::before {\n        content: \"\";\n        position: absolute;\n        left: 0; right: 0; top: 0;\n        height: 1px;\n        background: #cccccc;\n        opacity: 0;\n        transition: opacity 300ms ease;\n        pointer-events: none;\n      }\n\n      /* Opened state – natural \"ease-out\" movement */\n      .mljar-expander-content.is-open {\n        max-height: 1000vh;       /* big enough for all content */\n        opacity: 1;\n        padding-top: 10px;\n        padding-bottom: 10px;\n        transform: translateY(0);\n      }\n      .mljar-expander-content.is-open::before {\n        opacity: 1;\n      }\n\n      @media (prefers-reduced-motion: reduce) {\n        .mljar-expander-content {\n          transition: none;\n          transform: none;\n        }\n      }\n    </style>\n    "
      }
     },
     "ab492e7679c04ec1bb9f5a72432d1efb": {
      "model_module": "@jupyter-widgets/base",
      "model_module_version": "2.0.0",
      "model_name": "LayoutModel",
      "state": {
       "width": "100%"
      }
     },
     "ab655838a9a34416ba94a810dc83e71f": {
      "model_module": "@jupyter-widgets/base",
      "model_module_version": "2.0.0",
      "model_name": "LayoutModel",
      "state": {
       "align_items": "stretch",
       "display": "flex",
       "flex_flow": "row wrap",
       "width": "100%"
      }
     },
     "ad69e20501504461b8fc051e9705cb65": {
      "model_module": "@jupyter-widgets/controls",
      "model_module_version": "2.0.0",
      "model_name": "BoxModel",
      "state": {
       "_dom_classes": [
        "mljar-expander-content"
       ],
       "children": [
        "IPY_MODEL_7ff799c7b67f4e5286be3a9e2de3df9e"
       ],
       "layout": "IPY_MODEL_bb0f89b7108847eda9e9a4af4026af75"
      }
     },
     "ae68ea9591a143e692eb99dce2e46781": {
      "model_module": "@jupyter-widgets/base",
      "model_module_version": "2.0.0",
      "model_name": "LayoutModel",
      "state": {}
     },
     "af0676fc998d48fa9ec6350830156ba4": {
      "model_module": "@jupyter-widgets/output",
      "model_module_version": "1.0.0",
      "model_name": "OutputModel",
      "state": {
       "layout": "IPY_MODEL_1c9762554f1643088f0888b83b6edcb4",
       "outputs": [
        {
         "name": "stdout",
         "output_type": "stream",
         "text": "Fold 1/5: AUC=0.842\nFold 2/5: AUC=0.851\nFold 1/5: AUC=0.842\nFold 2/5: AUC=0.851\n"
        }
       ]
      }
     },
     "af8eed26646f433e972f3dd10a077c3b": {
      "model_module": "@jupyter-widgets/controls",
      "model_module_version": "2.0.0",
      "model_name": "BoxModel",
      "state": {
       "_dom_classes": [
        "mljar-expander-content"
       ],
       "children": [
        "IPY_MODEL_af0676fc998d48fa9ec6350830156ba4"
       ],
       "layout": "IPY_MODEL_0e624da1bcf64055a5fa876f4523adb0"
      }
     },
     "b64758946c7e47ba8635ac13a46794cc": {
      "model_module": "anywidget",
      "model_module_version": "~0.9.*",
      "model_name": "AnyModel",
      "state": {
       "_anywidget_id": "widgets.expander._ExpanderHeaderWidget",
       "_css": "\n    .mljar-expander-header {\n      width: 100%;\n      display: flex;\n      align-items: center;\n      gap: 8px;\n      background: #f7f7f9;\n      border: 0;\n      padding: 8px 10px;\n      cursor: pointer;\n      text-align: left;\n      font-family: Arial, sans-serif;\n      font-size: 12px;\n      font-weight: normal;\n      color: #222222;\n      transition: background 0.15s ease;\n      position: relative;\n    }\n    .mljar-expander-header:hover {\n      background: #efefef;\n    }\n    .mljar-expander-icon {\n      display: inline-block;\n      width: 0;\n      height: 0;\n      border-left: 6px solid transparent;\n      border-right: 6px solid transparent;\n      border-top: 8px solid #007bff;\n      transform: rotate(0deg);\n      transition: transform 0.15s ease;\n    }\n    .mljar-expander-header.is-open .mljar-expander-icon {\n      transform: rotate(180deg);\n    }\n    .mljar-expander-label {\n      flex: 1 1 auto;\n    }\n    ",
       "_esm": "\n    function render({ model, el }) {\n      const header = document.createElement(\"button\");\n      header.type = \"button\";\n      header.classList.add(\"mljar-expander-header\");\n      header.setAttribute(\"aria-expanded\", String(model.get(\"expanded\")));\n\n      const icon = document.createElement(\"span\");\n      icon.classList.add(\"mljar-expander-icon\");\n      const text = document.createElement(\"span\");\n      text.classList.add(\"mljar-expander-label\");\n      text.textContent = model.get(\"label\") || \"Details\";\n\n      header.appendChild(icon);\n      header.appendChild(text);\n      el.appendChild(header);\n\n      function syncUI() {\n        const isOpen = !!model.get(\"expanded\");\n        header.setAttribute(\"aria-expanded\", String(isOpen));\n        header.classList.toggle(\"is-open\", isOpen);\n      }\n      syncUI();\n\n      header.addEventListener(\"click\", () => {\n        const next = !model.get(\"expanded\");\n        model.set(\"expanded\", next);\n        model.save_changes();\n      });\n\n      model.on(\"change:expanded\", syncUI);\n      model.on(\"change:label\", () => {\n        text.textContent = model.get(\"label\") || \"Details\";\n      });\n\n      const css = model.get(\"custom_css\");\n      if (css && css.trim().length > 0) {\n        const styleTag = document.createElement(\"style\");\n        styleTag.textContent = css;\n        el.appendChild(styleTag);\n      }\n    }\n    export default { render };\n    ",
       "_model_module": "anywidget",
       "_model_module_version": "~0.9.*",
       "_model_name": "AnyModel",
       "_view_module": "anywidget",
       "_view_module_version": "~0.9.*",
       "_view_name": "AnyView",
       "custom_css": "",
       "expanded": false,
       "label": "Training details",
       "layout": "IPY_MODEL_ae68ea9591a143e692eb99dce2e46781",
       "position": "sidebar"
      }
     },
     "b87b8d8df22e4b81a4b0cdcc4be267cb": {
      "model_module": "@jupyter-widgets/base",
      "model_module_version": "2.0.0",
      "model_name": "LayoutModel",
      "state": {}
     },
     "bb0f89b7108847eda9e9a4af4026af75": {
      "model_module": "@jupyter-widgets/base",
      "model_module_version": "2.0.0",
      "model_name": "LayoutModel",
      "state": {
       "width": "100%"
      }
     },
     "c887214fde7b43869e684d27be1b073e": {
      "model_module": "@jupyter-widgets/controls",
      "model_module_version": "2.0.0",
      "model_name": "HTMLStyleModel",
      "state": {
       "description_width": "",
       "font_size": null,
       "text_color": null
      }
     },
     "cc166269cf9e476f8f2a02b1fd17d239": {
      "model_module": "@jupyter-widgets/base",
      "model_module_version": "2.0.0",
      "model_name": "LayoutModel",
      "state": {
       "width": "100%"
      }
     },
     "d6c7ef4b0603408e9bbf200e14460d8f": {
      "model_module": "@jupyter-widgets/base",
      "model_module_version": "2.0.0",
      "model_name": "LayoutModel",
      "state": {
       "width": "100%"
      }
     },
     "dcb41a5f142742cfbada568b10082b93": {
      "model_module": "@jupyter-widgets/output",
      "model_module_version": "1.0.0",
      "model_name": "OutputModel",
      "state": {
       "_dom_classes": [
        "mljar-column"
       ],
       "layout": "IPY_MODEL_007f4aa9707d4fc7842fe003eb2db13d",
       "outputs": [
        {
         "data": {
          "application/vnd.jupyter.widget-view+json": {
           "model_id": "e2d4839189d24aa3914a03e49f6144c4",
           "version_major": 2,
           "version_minor": 0
          },
          "text/plain": "HTML(value='\\n    <style>\\n      .mljar-expander-box {\\n        width: 100%;\\n        border: 1px solid #ccccc…"
         },
         "metadata": {},
         "output_type": "display_data"
        },
        {
         "data": {
          "application/vnd.jupyter.widget-view+json": {
           "model_id": "ef672a8634f9414695412f6965a7d31d",
           "version_major": 2,
           "version_minor": 0
          },
          "text/plain": "VBox(children=(_ExpanderHeaderWidget(expanded=True, label='Left panel'), Box(children=(Output(layout=Layout(wi…"
         },
         "metadata": {},
         "output_type": "display_data"
        }
       ]
      }
     },
     "dec2334876854efb95387cb31b56a92e": {
      "model_module": "anywidget",
      "model_module_version": "~0.9.*",
      "model_name": "AnyModel",
      "state": {
       "_anywidget_id": "widgets.expander._ExpanderHeaderWidget",
       "_css": "\n    .mljar-expander-header {\n      width: 100%;\n      display: flex;\n      align-items: center;\n      gap: 8px;\n      background: #f7f7f9;\n      border: 0;\n      padding: 8px 10px;\n      cursor: pointer;\n      text-align: left;\n      font-family: Arial, sans-serif;\n      font-size: 12px;\n      font-weight: normal;\n      color: #222222;\n      transition: background 0.15s ease;\n      position: relative;\n    }\n    .mljar-expander-header:hover {\n      background: #efefef;\n    }\n    .mljar-expander-icon {\n      display: inline-block;\n      width: 0;\n      height: 0;\n      border-left: 6px solid transparent;\n      border-right: 6px solid transparent;\n      border-top: 8px solid #007bff;\n      transform: rotate(0deg);\n      transition: transform 0.15s ease;\n    }\n    .mljar-expander-header.is-open .mljar-expander-icon {\n      transform: rotate(180deg);\n    }\n    .mljar-expander-label {\n      flex: 1 1 auto;\n    }\n    ",
       "_esm": "\n    function render({ model, el }) {\n      const header = document.createElement(\"button\");\n      header.type = \"button\";\n      header.classList.add(\"mljar-expander-header\");\n      header.setAttribute(\"aria-expanded\", String(model.get(\"expanded\")));\n\n      const icon = document.createElement(\"span\");\n      icon.classList.add(\"mljar-expander-icon\");\n      const text = document.createElement(\"span\");\n      text.classList.add(\"mljar-expander-label\");\n      text.textContent = model.get(\"label\") || \"Details\";\n\n      header.appendChild(icon);\n      header.appendChild(text);\n      el.appendChild(header);\n\n      function syncUI() {\n        const isOpen = !!model.get(\"expanded\");\n        header.setAttribute(\"aria-expanded\", String(isOpen));\n        header.classList.toggle(\"is-open\", isOpen);\n      }\n      syncUI();\n\n      header.addEventListener(\"click\", () => {\n        const next = !model.get(\"expanded\");\n        model.set(\"expanded\", next);\n        model.save_changes();\n      });\n\n      model.on(\"change:expanded\", syncUI);\n      model.on(\"change:label\", () => {\n        text.textContent = model.get(\"label\") || \"Details\";\n      });\n\n      const css = model.get(\"custom_css\");\n      if (css && css.trim().length > 0) {\n        const styleTag = document.createElement(\"style\");\n        styleTag.textContent = css;\n        el.appendChild(styleTag);\n      }\n    }\n    export default { render };\n    ",
       "_model_module": "anywidget",
       "_model_module_version": "~0.9.*",
       "_model_name": "AnyModel",
       "_view_module": "anywidget",
       "_view_module_version": "~0.9.*",
       "_view_name": "AnyView",
       "custom_css": "",
       "expanded": false,
       "label": "Right panel",
       "layout": "IPY_MODEL_74a1153cbbd84517a3b64ed8cd59ef08",
       "position": "sidebar"
      }
     },
     "e2d4839189d24aa3914a03e49f6144c4": {
      "model_module": "@jupyter-widgets/controls",
      "model_module_version": "2.0.0",
      "model_name": "HTMLModel",
      "state": {
       "layout": "IPY_MODEL_59b37bcb6e424d94b21f868c490ae9de",
       "style": "IPY_MODEL_2f232cfd6d5a4b449afc7b21dd259c44",
       "value": "\n    <style>\n      .mljar-expander-box {\n        width: 100%;\n        border: 1px solid #cccccc;\n        border-radius: 4px;\n        background: #fff;\n        overflow: hidden;\n      }\n\n      /* Streamlit-like expander transition */\n      .mljar-expander-content {\n        width: 100%;\n        position: relative;\n        box-sizing: border-box;\n        overflow: hidden;\n        max-height: 0;\n        opacity: 0;\n        padding: 0 10px;\n        transform: translateY(-4px);\n        transition:\n          max-height 300ms cubic-bezier(0.25, 1, 0.5, 1),\n          opacity 300ms cubic-bezier(0.25, 1, 0.5, 1),\n          transform 300ms cubic-bezier(0.25, 1, 0.5, 1),\n          padding-top 300ms ease,\n          padding-bottom 300ms ease;\n        will-change: max-height, opacity, transform;\n      }\n\n      .mljar-expander-content > * {\n        overflow: hidden;\n        min-height: 0;\n        box-sizing: border-box;\n      }\n\n      /* Fading divider (no layout shift) */\n      .mljar-expander-content::before {\n        content: \"\";\n        position: absolute;\n        left: 0; right: 0; top: 0;\n        height: 1px;\n        background: #cccccc;\n        opacity: 0;\n        transition: opacity 300ms ease;\n        pointer-events: none;\n      }\n\n      /* Opened state – natural \"ease-out\" movement */\n      .mljar-expander-content.is-open {\n        max-height: 1000vh;       /* big enough for all content */\n        opacity: 1;\n        padding-top: 10px;\n        padding-bottom: 10px;\n        transform: translateY(0);\n      }\n      .mljar-expander-content.is-open::before {\n        opacity: 1;\n      }\n\n      @media (prefers-reduced-motion: reduce) {\n        .mljar-expander-content {\n          transition: none;\n          transform: none;\n        }\n      }\n    </style>\n    "
      }
     },
     "ef672a8634f9414695412f6965a7d31d": {
      "model_module": "@jupyter-widgets/controls",
      "model_module_version": "2.0.0",
      "model_name": "VBoxModel",
      "state": {
       "_dom_classes": [
        "mljar-expander-box"
       ],
       "children": [
        "IPY_MODEL_05ef3195cf454594a06663a43ddc159d",
        "IPY_MODEL_94c387af67fc4dbc81b0b6c594196972"
       ],
       "layout": "IPY_MODEL_d6c7ef4b0603408e9bbf200e14460d8f"
      }
     },
     "f17ac72b15ef4ee98b9aea616727222f": {
      "model_module": "@jupyter-widgets/base",
      "model_module_version": "2.0.0",
      "model_name": "LayoutModel",
      "state": {
       "width": "100%"
      }
     }
    },
    "version_major": 2,
    "version_minor": 0
   }
  }
 },
 "nbformat": 4,
 "nbformat_minor": 5
}
