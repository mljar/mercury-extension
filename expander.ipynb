{
 "cells": [
  {
   "cell_type": "code",
   "execution_count": 1,
   "id": "1f2deb7c-12e2-4013-97fa-55c902b80439",
   "metadata": {},
   "outputs": [],
   "source": [
    "from widgets import Expander\n",
    "from widgets import Columns"
   ]
  },
  {
   "cell_type": "code",
   "execution_count": 2,
   "id": "89ef545f-8145-4661-97d0-b9048573bb74",
   "metadata": {},
   "outputs": [
    {
     "data": {
      "application/vnd.jupyter.widget-view+json": {
       "model_id": "d8c4b1e306764f549ba6a2f4ecc99957",
       "version_major": 2,
       "version_minor": 0
      },
      "text/plain": [
       "HTML(value='\\n    <style>\\n      .mljar-expander-box {\\n        width: 100%;\\n        border: 1px solid #ccccc…"
      ]
     },
     "metadata": {},
     "output_type": "display_data"
    },
    {
     "data": {
      "application/vnd.jupyter.widget-view+json": {
       "model_id": "cb0c73b831e0438b9e68363f9d53ac8f",
       "version_major": 2,
       "version_minor": 0
      },
      "text/plain": [
       "VBox(children=(_ExpanderHeaderWidget(label='Training details'), Box(children=(Output(layout=Layout(width='100%…"
      ]
     },
     "metadata": {},
     "output_type": "display_data"
    }
   ],
   "source": [
    "out = Expander(label=\"Training details\", expanded=False, key=\"train-expander\")\n",
    "\n",
    "with out:\n",
    "    import time, sys\n",
    "    print(\"Fold 1/5: AUC=0.842\")\n",
    "    print(\"Fold 2/5: AUC=0.851\")"
   ]
  },
  {
   "cell_type": "code",
   "execution_count": 3,
   "id": "2366696f-7b03-42d0-b57b-29954d32d6c4",
   "metadata": {},
   "outputs": [],
   "source": [
    "with out:\n",
    "    import time, sys\n",
    "    print(\"Fold 1/5: AUC=0.842\")\n",
    "    print(\"Fold 2/5: AUC=0.851\")"
   ]
  },
  {
   "cell_type": "code",
   "execution_count": 4,
   "id": "1aea7324-5a5e-4242-9ee1-cb1dca2c670e",
   "metadata": {},
   "outputs": [
    {
     "data": {
      "application/vnd.jupyter.widget-view+json": {
       "model_id": "a19d2897259e4830bd7d364cdd454601",
       "version_major": 2,
       "version_minor": 0
      },
      "text/plain": [
       "HBox(children=(Box(children=(Output(),), layout=Layout(border_bottom='1px solid #0078D4', border_left='1px sol…"
      ]
     },
     "metadata": {},
     "output_type": "display_data"
    }
   ],
   "source": [
    "## Multiple in Columns\n",
    "left, right = Columns(2, border='1px solid #0078D4')\n"
   ]
  },
  {
   "cell_type": "code",
   "execution_count": 5,
   "id": "0a4def3f-baf6-4379-bc5a-8b591c60c45c",
   "metadata": {},
   "outputs": [],
   "source": [
    "with left:\n",
    "    left.clear_output(wait=True)\n",
    "    o1 = Expander(label=\"Left panel\", expanded=True)\n",
    "with right:\n",
    "    right.clear_output(wait=True)\n",
    "    o2 = Expander(label=\"Right panel\", expanded=False)"
   ]
  },
  {
   "cell_type": "code",
   "execution_count": 6,
   "id": "7e4f6c00-9c13-4061-8c12-75a760d02bfe",
   "metadata": {},
   "outputs": [],
   "source": [
    "\n",
    "with o1:\n",
    "    print(\"Hello from the left\")\n",
    "\n",
    "\n",
    "#    with o2:\n",
    "#        print(\"Hidden until expanded\")"
   ]
  },
  {
   "cell_type": "code",
   "execution_count": null,
   "id": "052452ca-50ae-441d-8f19-e6a8d04a62b9",
   "metadata": {},
   "outputs": [],
   "source": []
  },
  {
   "cell_type": "code",
   "execution_count": 6,
   "id": "57642caa-f6de-47e0-bb32-6a9e220cf2d8",
   "metadata": {},
   "outputs": [],
   "source": []
  },
  {
   "cell_type": "code",
   "execution_count": 6,
   "id": "2e6426a7-098a-4865-b324-a9902888bfa3",
   "metadata": {},
   "outputs": [],
   "source": []
  }
 ],
 "metadata": {
  "kernelspec": {
   "display_name": "Python 3 (ipykernel)",
   "language": "python",
   "name": "python3"
  },
  "language_info": {
   "codemirror_mode": {
    "name": "ipython",
    "version": 3
   },
   "file_extension": ".py",
   "mimetype": "text/x-python",
   "name": "python",
   "nbconvert_exporter": "python",
   "pygments_lexer": "ipython3",
   "version": "3.11.5"
  },
  "widgets": {
   "application/vnd.jupyter.widget-state+json": {
    "state": {
     "05ad2ed5aa3d4535a28ec1e377f39520": {
      "model_module": "@jupyter-widgets/output",
      "model_module_version": "1.0.0",
      "model_name": "OutputModel",
      "state": {
       "layout": "IPY_MODEL_4887066436b549dbac873624d7a898b0",
       "outputs": [
        {
         "data": {
          "application/vnd.jupyter.widget-view+json": {
           "model_id": "2ab89c0b836c412a86667ad765c1e63f",
           "version_major": 2,
           "version_minor": 0
          },
          "text/plain": "HTML(value='\\n    <style>\\n      .mljar-expander-box {\\n        width: 100%;\\n        border: 1px solid #ccccc…"
         },
         "metadata": {},
         "output_type": "display_data"
        },
        {
         "data": {
          "application/vnd.jupyter.widget-view+json": {
           "model_id": "87c398d1345c4f95a2fa6f5588b37c70",
           "version_major": 2,
           "version_minor": 0
          },
          "text/plain": "VBox(children=(_ExpanderHeaderWidget(label='Right panel'), Box(children=(Output(layout=Layout(width='100%')),)…"
         },
         "metadata": {},
         "output_type": "display_data"
        }
       ]
      }
     },
     "149263f98a2d4769891b683be67ab2f9": {
      "model_module": "@jupyter-widgets/base",
      "model_module_version": "2.0.0",
      "model_name": "LayoutModel",
      "state": {
       "width": "100%"
      }
     },
     "14ab2002e58f4645bdbf00a006a0da33": {
      "model_module": "@jupyter-widgets/base",
      "model_module_version": "2.0.0",
      "model_name": "LayoutModel",
      "state": {}
     },
     "1b20798fbf454cf69608ec8332b66f32": {
      "model_module": "@jupyter-widgets/output",
      "model_module_version": "1.0.0",
      "model_name": "OutputModel",
      "state": {
       "layout": "IPY_MODEL_bda5dd283465480ab4de5f580069a1c7",
       "outputs": [
        {
         "name": "stdout",
         "output_type": "stream",
         "text": "Hello from the left\n"
        }
       ]
      }
     },
     "1fc0dc183db74e35aafa377c1ea32d84": {
      "model_module": "@jupyter-widgets/base",
      "model_module_version": "2.0.0",
      "model_name": "LayoutModel",
      "state": {
       "width": "100%"
      }
     },
     "23906b643b55446bb3aab5c6454bd543": {
      "model_module": "@jupyter-widgets/controls",
      "model_module_version": "2.0.0",
      "model_name": "HTMLStyleModel",
      "state": {
       "description_width": "",
       "font_size": null,
       "text_color": null
      }
     },
     "23f0cecd5c1e473a8ad8e3809e4f1a9f": {
      "model_module": "@jupyter-widgets/base",
      "model_module_version": "2.0.0",
      "model_name": "LayoutModel",
      "state": {
       "width": "100%"
      }
     },
     "23f87c5fe6534af5b755c33dc12e39fa": {
      "model_module": "@jupyter-widgets/base",
      "model_module_version": "2.0.0",
      "model_name": "LayoutModel",
      "state": {}
     },
     "25f17fa4e8334feabd9e0ab34fc36a0f": {
      "model_module": "@jupyter-widgets/base",
      "model_module_version": "2.0.0",
      "model_name": "LayoutModel",
      "state": {
       "width": "100%"
      }
     },
     "29021d777590466793c4528ecc87dad0": {
      "model_module": "@jupyter-widgets/base",
      "model_module_version": "2.0.0",
      "model_name": "LayoutModel",
      "state": {
       "align_items": "stretch",
       "display": "flex",
       "flex_flow": "row wrap",
       "width": "100%"
      }
     },
     "299ccbf045914b9a95cf3bbfa3d306c5": {
      "model_module": "@jupyter-widgets/base",
      "model_module_version": "2.0.0",
      "model_name": "LayoutModel",
      "state": {}
     },
     "2ab89c0b836c412a86667ad765c1e63f": {
      "model_module": "@jupyter-widgets/controls",
      "model_module_version": "2.0.0",
      "model_name": "HTMLModel",
      "state": {
       "layout": "IPY_MODEL_351b2e66f39a432495e1b1897afa8306",
       "style": "IPY_MODEL_766423a8dd06451f8858f91a552ae32b",
       "value": "\n    <style>\n      .mljar-expander-box {\n        width: 100%;\n        border: 1px solid #cccccc;\n        border-radius: 4px;\n        background: #fff;\n        overflow: hidden;\n      }\n\n      /* Streamlit-like expander transition */\n      .mljar-expander-content {\n        width: 100%;\n        position: relative;\n        box-sizing: border-box;\n        overflow: hidden;\n        max-height: 0;\n        opacity: 0;\n        padding: 0 10px;\n        transform: translateY(-4px);\n        transition:\n          max-height 300ms cubic-bezier(0.25, 1, 0.5, 1),\n          opacity 300ms cubic-bezier(0.25, 1, 0.5, 1),\n          transform 300ms cubic-bezier(0.25, 1, 0.5, 1),\n          padding-top 300ms ease,\n          padding-bottom 300ms ease;\n        will-change: max-height, opacity, transform;\n      }\n\n      .mljar-expander-content > * {\n        overflow: hidden;\n        min-height: 0;\n        box-sizing: border-box;\n      }\n\n      /* Fading divider (no layout shift) */\n      .mljar-expander-content::before {\n        content: \"\";\n        position: absolute;\n        left: 0; right: 0; top: 0;\n        height: 1px;\n        background: #cccccc;\n        opacity: 0;\n        transition: opacity 300ms ease;\n        pointer-events: none;\n      }\n\n      /* Opened state – natural \"ease-out\" movement */\n      .mljar-expander-content.is-open {\n        max-height: 1000vh;       /* big enough for all content */\n        opacity: 1;\n        padding-top: 10px;\n        padding-bottom: 10px;\n        transform: translateY(0);\n      }\n      .mljar-expander-content.is-open::before {\n        opacity: 1;\n      }\n\n      @media (prefers-reduced-motion: reduce) {\n        .mljar-expander-content {\n          transition: none;\n          transform: none;\n        }\n      }\n    </style>\n    "
      }
     },
     "2dd203a0fd404ec39eab5f75e030aa21": {
      "model_module": "@jupyter-widgets/controls",
      "model_module_version": "2.0.0",
      "model_name": "VBoxModel",
      "state": {
       "_dom_classes": [
        "mljar-expander-box"
       ],
       "children": [
        "IPY_MODEL_9e50b2f9cebb481b9c684e01672cdaa4",
        "IPY_MODEL_b49f4e8a0a464769bc57407f7d370593"
       ],
       "layout": "IPY_MODEL_55df2d7dceb246049df8d401dade5265"
      }
     },
     "3039c8e950204efbbcd7797daf43c326": {
      "model_module": "@jupyter-widgets/controls",
      "model_module_version": "2.0.0",
      "model_name": "BoxModel",
      "state": {
       "_dom_classes": [
        "mljar-expander-content"
       ],
       "children": [
        "IPY_MODEL_6e4bc572a71a4be0ab6951dd45c89fb7"
       ],
       "layout": "IPY_MODEL_25f17fa4e8334feabd9e0ab34fc36a0f"
      }
     },
     "351b2e66f39a432495e1b1897afa8306": {
      "model_module": "@jupyter-widgets/base",
      "model_module_version": "2.0.0",
      "model_name": "LayoutModel",
      "state": {}
     },
     "4887066436b549dbac873624d7a898b0": {
      "model_module": "@jupyter-widgets/base",
      "model_module_version": "2.0.0",
      "model_name": "LayoutModel",
      "state": {}
     },
     "4eb9f87ef8324c17ac244b1607f7fe8c": {
      "model_module": "@jupyter-widgets/controls",
      "model_module_version": "2.0.0",
      "model_name": "BoxModel",
      "state": {
       "children": [
        "IPY_MODEL_05ad2ed5aa3d4535a28ec1e377f39520"
       ],
       "layout": "IPY_MODEL_d00ff7ac3688443abceeac5f38e4de53"
      }
     },
     "51069830c0834c94b417144dff8d2397": {
      "model_module": "@jupyter-widgets/controls",
      "model_module_version": "2.0.0",
      "model_name": "BoxModel",
      "state": {
       "_dom_classes": [
        "mljar-expander-content"
       ],
       "children": [
        "IPY_MODEL_da85a810111f4c0698a0dc714035b91a"
       ],
       "layout": "IPY_MODEL_1fc0dc183db74e35aafa377c1ea32d84"
      }
     },
     "544ebfb4a3ad4077b269c9147dedd4e1": {
      "model_module": "@jupyter-widgets/base",
      "model_module_version": "2.0.0",
      "model_name": "LayoutModel",
      "state": {}
     },
     "55df2d7dceb246049df8d401dade5265": {
      "model_module": "@jupyter-widgets/base",
      "model_module_version": "2.0.0",
      "model_name": "LayoutModel",
      "state": {
       "width": "100%"
      }
     },
     "650c9d71296341c7a5f751033eb922ea": {
      "model_module": "@jupyter-widgets/controls",
      "model_module_version": "2.0.0",
      "model_name": "BoxModel",
      "state": {
       "children": [
        "IPY_MODEL_a4d91759ee024d639a1271100b72dcdd"
       ],
       "layout": "IPY_MODEL_e530d2a4632e43a380b1f1df9c1bab78"
      }
     },
     "6e4bc572a71a4be0ab6951dd45c89fb7": {
      "model_module": "@jupyter-widgets/output",
      "model_module_version": "1.0.0",
      "model_name": "OutputModel",
      "state": {
       "layout": "IPY_MODEL_149263f98a2d4769891b683be67ab2f9"
      }
     },
     "766423a8dd06451f8858f91a552ae32b": {
      "model_module": "@jupyter-widgets/controls",
      "model_module_version": "2.0.0",
      "model_name": "HTMLStyleModel",
      "state": {
       "description_width": "",
       "font_size": null,
       "text_color": null
      }
     },
     "7f4d9c72631a4558b72487cd37d3cf30": {
      "model_module": "@jupyter-widgets/base",
      "model_module_version": "2.0.0",
      "model_name": "LayoutModel",
      "state": {}
     },
     "80e0ff28285b465287679e24042311b8": {
      "model_module": "@jupyter-widgets/controls",
      "model_module_version": "2.0.0",
      "model_name": "HTMLStyleModel",
      "state": {
       "description_width": "",
       "font_size": null,
       "text_color": null
      }
     },
     "87c398d1345c4f95a2fa6f5588b37c70": {
      "model_module": "@jupyter-widgets/controls",
      "model_module_version": "2.0.0",
      "model_name": "VBoxModel",
      "state": {
       "_dom_classes": [
        "mljar-expander-box"
       ],
       "children": [
        "IPY_MODEL_926a4a265b954c07ad8c18309fddf31a",
        "IPY_MODEL_3039c8e950204efbbcd7797daf43c326"
       ],
       "layout": "IPY_MODEL_d92a012c117645a0bed0d9272ed0e0e0"
      }
     },
     "89928aa0c8e54ec48d4e515c474a1335": {
      "model_module": "@jupyter-widgets/controls",
      "model_module_version": "2.0.0",
      "model_name": "HTMLModel",
      "state": {
       "layout": "IPY_MODEL_23f87c5fe6534af5b755c33dc12e39fa",
       "style": "IPY_MODEL_80e0ff28285b465287679e24042311b8",
       "value": "\n    <style>\n      .mljar-expander-box {\n        width: 100%;\n        border: 1px solid #cccccc;\n        border-radius: 4px;\n        background: #fff;\n        overflow: hidden;\n      }\n\n      /* Streamlit-like expander transition */\n      .mljar-expander-content {\n        width: 100%;\n        position: relative;\n        box-sizing: border-box;\n        overflow: hidden;\n        max-height: 0;\n        opacity: 0;\n        padding: 0 10px;\n        transform: translateY(-4px);\n        transition:\n          max-height 300ms cubic-bezier(0.25, 1, 0.5, 1),\n          opacity 300ms cubic-bezier(0.25, 1, 0.5, 1),\n          transform 300ms cubic-bezier(0.25, 1, 0.5, 1),\n          padding-top 300ms ease,\n          padding-bottom 300ms ease;\n        will-change: max-height, opacity, transform;\n      }\n\n      .mljar-expander-content > * {\n        overflow: hidden;\n        min-height: 0;\n        box-sizing: border-box;\n      }\n\n      /* Fading divider (no layout shift) */\n      .mljar-expander-content::before {\n        content: \"\";\n        position: absolute;\n        left: 0; right: 0; top: 0;\n        height: 1px;\n        background: #cccccc;\n        opacity: 0;\n        transition: opacity 300ms ease;\n        pointer-events: none;\n      }\n\n      /* Opened state – natural \"ease-out\" movement */\n      .mljar-expander-content.is-open {\n        max-height: 1000vh;       /* big enough for all content */\n        opacity: 1;\n        padding-top: 10px;\n        padding-bottom: 10px;\n        transform: translateY(0);\n      }\n      .mljar-expander-content.is-open::before {\n        opacity: 1;\n      }\n\n      @media (prefers-reduced-motion: reduce) {\n        .mljar-expander-content {\n          transition: none;\n          transform: none;\n        }\n      }\n    </style>\n    "
      }
     },
     "926a4a265b954c07ad8c18309fddf31a": {
      "model_module": "anywidget",
      "model_module_version": "~0.9.*",
      "model_name": "AnyModel",
      "state": {
       "_anywidget_id": "widgets.expander._ExpanderHeaderWidget",
       "_css": "\n    .mljar-expander-header {\n      width: 100%;\n      display: flex;\n      align-items: center;\n      gap: 8px;\n      background: #f7f7f9;\n      border: 0;\n      padding: 8px 10px;\n      cursor: pointer;\n      text-align: left;\n      font-family: Arial, sans-serif;\n      font-size: 12px;\n      font-weight: normal;\n      color: #222222;\n      transition: background 0.15s ease;\n      position: relative;\n    }\n    .mljar-expander-header:hover {\n      background: #efefef;\n    }\n    .mljar-expander-icon {\n      display: inline-block;\n      width: 0;\n      height: 0;\n      border-left: 6px solid transparent;\n      border-right: 6px solid transparent;\n      border-top: 8px solid #007bff;\n      transform: rotate(0deg);\n      transition: transform 0.15s ease;\n    }\n    .mljar-expander-header.is-open .mljar-expander-icon {\n      transform: rotate(180deg);\n    }\n    .mljar-expander-label {\n      flex: 1 1 auto;\n    }\n    ",
       "_esm": "\n    function render({ model, el }) {\n      const header = document.createElement(\"button\");\n      header.type = \"button\";\n      header.classList.add(\"mljar-expander-header\");\n      header.setAttribute(\"aria-expanded\", String(model.get(\"expanded\")));\n\n      const icon = document.createElement(\"span\");\n      icon.classList.add(\"mljar-expander-icon\");\n      const text = document.createElement(\"span\");\n      text.classList.add(\"mljar-expander-label\");\n      text.textContent = model.get(\"label\") || \"Details\";\n\n      header.appendChild(icon);\n      header.appendChild(text);\n      el.appendChild(header);\n\n      function syncUI() {\n        const isOpen = !!model.get(\"expanded\");\n        header.setAttribute(\"aria-expanded\", String(isOpen));\n        header.classList.toggle(\"is-open\", isOpen);\n      }\n      syncUI();\n\n      header.addEventListener(\"click\", () => {\n        const next = !model.get(\"expanded\");\n        model.set(\"expanded\", next);\n        model.save_changes();\n      });\n\n      model.on(\"change:expanded\", syncUI);\n      model.on(\"change:label\", () => {\n        text.textContent = model.get(\"label\") || \"Details\";\n      });\n\n      const css = model.get(\"custom_css\");\n      if (css && css.trim().length > 0) {\n        const styleTag = document.createElement(\"style\");\n        styleTag.textContent = css;\n        el.appendChild(styleTag);\n      }\n    }\n    export default { render };\n    ",
       "_model_module": "anywidget",
       "_model_module_version": "~0.9.*",
       "_model_name": "AnyModel",
       "_view_module": "anywidget",
       "_view_module_version": "~0.9.*",
       "_view_name": "AnyView",
       "custom_css": "",
       "expanded": false,
       "label": "Right panel",
       "layout": "IPY_MODEL_14ab2002e58f4645bdbf00a006a0da33",
       "position": "sidebar"
      }
     },
     "9b10b835b9a74b2b860a8fd6a628ceb5": {
      "model_module": "@jupyter-widgets/base",
      "model_module_version": "2.0.0",
      "model_name": "LayoutModel",
      "state": {
       "width": "100%"
      }
     },
     "9e50b2f9cebb481b9c684e01672cdaa4": {
      "model_module": "anywidget",
      "model_module_version": "~0.9.*",
      "model_name": "AnyModel",
      "state": {
       "_anywidget_id": "widgets.expander._ExpanderHeaderWidget",
       "_css": "\n    .mljar-expander-header {\n      width: 100%;\n      display: flex;\n      align-items: center;\n      gap: 8px;\n      background: #f7f7f9;\n      border: 0;\n      padding: 8px 10px;\n      cursor: pointer;\n      text-align: left;\n      font-family: Arial, sans-serif;\n      font-size: 12px;\n      font-weight: normal;\n      color: #222222;\n      transition: background 0.15s ease;\n      position: relative;\n    }\n    .mljar-expander-header:hover {\n      background: #efefef;\n    }\n    .mljar-expander-icon {\n      display: inline-block;\n      width: 0;\n      height: 0;\n      border-left: 6px solid transparent;\n      border-right: 6px solid transparent;\n      border-top: 8px solid #007bff;\n      transform: rotate(0deg);\n      transition: transform 0.15s ease;\n    }\n    .mljar-expander-header.is-open .mljar-expander-icon {\n      transform: rotate(180deg);\n    }\n    .mljar-expander-label {\n      flex: 1 1 auto;\n    }\n    ",
       "_esm": "\n    function render({ model, el }) {\n      const header = document.createElement(\"button\");\n      header.type = \"button\";\n      header.classList.add(\"mljar-expander-header\");\n      header.setAttribute(\"aria-expanded\", String(model.get(\"expanded\")));\n\n      const icon = document.createElement(\"span\");\n      icon.classList.add(\"mljar-expander-icon\");\n      const text = document.createElement(\"span\");\n      text.classList.add(\"mljar-expander-label\");\n      text.textContent = model.get(\"label\") || \"Details\";\n\n      header.appendChild(icon);\n      header.appendChild(text);\n      el.appendChild(header);\n\n      function syncUI() {\n        const isOpen = !!model.get(\"expanded\");\n        header.setAttribute(\"aria-expanded\", String(isOpen));\n        header.classList.toggle(\"is-open\", isOpen);\n      }\n      syncUI();\n\n      header.addEventListener(\"click\", () => {\n        const next = !model.get(\"expanded\");\n        model.set(\"expanded\", next);\n        model.save_changes();\n      });\n\n      model.on(\"change:expanded\", syncUI);\n      model.on(\"change:label\", () => {\n        text.textContent = model.get(\"label\") || \"Details\";\n      });\n\n      const css = model.get(\"custom_css\");\n      if (css && css.trim().length > 0) {\n        const styleTag = document.createElement(\"style\");\n        styleTag.textContent = css;\n        el.appendChild(styleTag);\n      }\n    }\n    export default { render };\n    ",
       "_model_module": "anywidget",
       "_model_module_version": "~0.9.*",
       "_model_name": "AnyModel",
       "_view_module": "anywidget",
       "_view_module_version": "~0.9.*",
       "_view_name": "AnyView",
       "custom_css": "",
       "expanded": true,
       "label": "Left panel",
       "layout": "IPY_MODEL_a14744db834240d3953f08c0f0b4dfd6",
       "position": "sidebar"
      }
     },
     "9ff8590a2c494b33a1979b98e47109aa": {
      "model_module": "@jupyter-widgets/base",
      "model_module_version": "2.0.0",
      "model_name": "LayoutModel",
      "state": {
       "width": "100%"
      }
     },
     "a14744db834240d3953f08c0f0b4dfd6": {
      "model_module": "@jupyter-widgets/base",
      "model_module_version": "2.0.0",
      "model_name": "LayoutModel",
      "state": {}
     },
     "a19d2897259e4830bd7d364cdd454601": {
      "model_module": "@jupyter-widgets/controls",
      "model_module_version": "2.0.0",
      "model_name": "HBoxModel",
      "state": {
       "children": [
        "IPY_MODEL_650c9d71296341c7a5f751033eb922ea",
        "IPY_MODEL_4eb9f87ef8324c17ac244b1607f7fe8c"
       ],
       "layout": "IPY_MODEL_29021d777590466793c4528ecc87dad0"
      }
     },
     "a4d91759ee024d639a1271100b72dcdd": {
      "model_module": "@jupyter-widgets/output",
      "model_module_version": "1.0.0",
      "model_name": "OutputModel",
      "state": {
       "layout": "IPY_MODEL_299ccbf045914b9a95cf3bbfa3d306c5",
       "outputs": [
        {
         "data": {
          "application/vnd.jupyter.widget-view+json": {
           "model_id": "89928aa0c8e54ec48d4e515c474a1335",
           "version_major": 2,
           "version_minor": 0
          },
          "text/plain": "HTML(value='\\n    <style>\\n      .mljar-expander-box {\\n        width: 100%;\\n        border: 1px solid #ccccc…"
         },
         "metadata": {},
         "output_type": "display_data"
        },
        {
         "data": {
          "application/vnd.jupyter.widget-view+json": {
           "model_id": "2dd203a0fd404ec39eab5f75e030aa21",
           "version_major": 2,
           "version_minor": 0
          },
          "text/plain": "VBox(children=(_ExpanderHeaderWidget(expanded=True, label='Left panel'), Box(children=(Output(layout=Layout(wi…"
         },
         "metadata": {},
         "output_type": "display_data"
        }
       ]
      }
     },
     "b49f4e8a0a464769bc57407f7d370593": {
      "model_module": "@jupyter-widgets/controls",
      "model_module_version": "2.0.0",
      "model_name": "BoxModel",
      "state": {
       "_dom_classes": [
        "mljar-expander-content",
        "is-open"
       ],
       "children": [
        "IPY_MODEL_1b20798fbf454cf69608ec8332b66f32"
       ],
       "layout": "IPY_MODEL_9b10b835b9a74b2b860a8fd6a628ceb5"
      }
     },
     "bda5dd283465480ab4de5f580069a1c7": {
      "model_module": "@jupyter-widgets/base",
      "model_module_version": "2.0.0",
      "model_name": "LayoutModel",
      "state": {
       "width": "100%"
      }
     },
     "cb0c73b831e0438b9e68363f9d53ac8f": {
      "model_module": "@jupyter-widgets/controls",
      "model_module_version": "2.0.0",
      "model_name": "VBoxModel",
      "state": {
       "_dom_classes": [
        "mljar-expander-box"
       ],
       "children": [
        "IPY_MODEL_eea5793fd87545cab986f7e7a2154882",
        "IPY_MODEL_51069830c0834c94b417144dff8d2397"
       ],
       "layout": "IPY_MODEL_9ff8590a2c494b33a1979b98e47109aa"
      }
     },
     "d00ff7ac3688443abceeac5f38e4de53": {
      "model_module": "@jupyter-widgets/base",
      "model_module_version": "2.0.0",
      "model_name": "LayoutModel",
      "state": {
       "border_bottom": "1px solid #0078D4",
       "border_left": "1px solid #0078D4",
       "border_right": "1px solid #0078D4",
       "border_top": "1px solid #0078D4",
       "flex": "1 1 0px",
       "min_width": "240px",
       "overflow": "auto",
       "padding": "8px"
      }
     },
     "d8c4b1e306764f549ba6a2f4ecc99957": {
      "model_module": "@jupyter-widgets/controls",
      "model_module_version": "2.0.0",
      "model_name": "HTMLModel",
      "state": {
       "layout": "IPY_MODEL_7f4d9c72631a4558b72487cd37d3cf30",
       "style": "IPY_MODEL_23906b643b55446bb3aab5c6454bd543",
       "value": "\n    <style>\n      .mljar-expander-box {\n        width: 100%;\n        border: 1px solid #cccccc;\n        border-radius: 4px;\n        background: #fff;\n        overflow: hidden;\n      }\n\n      /* Streamlit-like expander transition */\n      .mljar-expander-content {\n        width: 100%;\n        position: relative;\n        box-sizing: border-box;\n        overflow: hidden;\n        max-height: 0;\n        opacity: 0;\n        padding: 0 10px;\n        transform: translateY(-4px);\n        transition:\n          max-height 300ms cubic-bezier(0.25, 1, 0.5, 1),\n          opacity 300ms cubic-bezier(0.25, 1, 0.5, 1),\n          transform 300ms cubic-bezier(0.25, 1, 0.5, 1),\n          padding-top 300ms ease,\n          padding-bottom 300ms ease;\n        will-change: max-height, opacity, transform;\n      }\n\n      .mljar-expander-content > * {\n        overflow: hidden;\n        min-height: 0;\n        box-sizing: border-box;\n      }\n\n      /* Fading divider (no layout shift) */\n      .mljar-expander-content::before {\n        content: \"\";\n        position: absolute;\n        left: 0; right: 0; top: 0;\n        height: 1px;\n        background: #cccccc;\n        opacity: 0;\n        transition: opacity 300ms ease;\n        pointer-events: none;\n      }\n\n      /* Opened state – natural \"ease-out\" movement */\n      .mljar-expander-content.is-open {\n        max-height: 1000vh;       /* big enough for all content */\n        opacity: 1;\n        padding-top: 10px;\n        padding-bottom: 10px;\n        transform: translateY(0);\n      }\n      .mljar-expander-content.is-open::before {\n        opacity: 1;\n      }\n\n      @media (prefers-reduced-motion: reduce) {\n        .mljar-expander-content {\n          transition: none;\n          transform: none;\n        }\n      }\n    </style>\n    "
      }
     },
     "d92a012c117645a0bed0d9272ed0e0e0": {
      "model_module": "@jupyter-widgets/base",
      "model_module_version": "2.0.0",
      "model_name": "LayoutModel",
      "state": {
       "width": "100%"
      }
     },
     "da85a810111f4c0698a0dc714035b91a": {
      "model_module": "@jupyter-widgets/output",
      "model_module_version": "1.0.0",
      "model_name": "OutputModel",
      "state": {
       "layout": "IPY_MODEL_23f0cecd5c1e473a8ad8e3809e4f1a9f",
       "outputs": [
        {
         "name": "stdout",
         "output_type": "stream",
         "text": "Fold 1/5: AUC=0.842\nFold 2/5: AUC=0.851\nFold 1/5: AUC=0.842\nFold 2/5: AUC=0.851\n"
        }
       ]
      }
     },
     "e530d2a4632e43a380b1f1df9c1bab78": {
      "model_module": "@jupyter-widgets/base",
      "model_module_version": "2.0.0",
      "model_name": "LayoutModel",
      "state": {
       "border_bottom": "1px solid #0078D4",
       "border_left": "1px solid #0078D4",
       "border_right": "1px solid #0078D4",
       "border_top": "1px solid #0078D4",
       "flex": "1 1 0px",
       "min_width": "240px",
       "overflow": "auto",
       "padding": "8px"
      }
     },
     "eea5793fd87545cab986f7e7a2154882": {
      "model_module": "anywidget",
      "model_module_version": "~0.9.*",
      "model_name": "AnyModel",
      "state": {
       "_anywidget_id": "widgets.expander._ExpanderHeaderWidget",
       "_css": "\n    .mljar-expander-header {\n      width: 100%;\n      display: flex;\n      align-items: center;\n      gap: 8px;\n      background: #f7f7f9;\n      border: 0;\n      padding: 8px 10px;\n      cursor: pointer;\n      text-align: left;\n      font-family: Arial, sans-serif;\n      font-size: 12px;\n      font-weight: normal;\n      color: #222222;\n      transition: background 0.15s ease;\n      position: relative;\n    }\n    .mljar-expander-header:hover {\n      background: #efefef;\n    }\n    .mljar-expander-icon {\n      display: inline-block;\n      width: 0;\n      height: 0;\n      border-left: 6px solid transparent;\n      border-right: 6px solid transparent;\n      border-top: 8px solid #007bff;\n      transform: rotate(0deg);\n      transition: transform 0.15s ease;\n    }\n    .mljar-expander-header.is-open .mljar-expander-icon {\n      transform: rotate(180deg);\n    }\n    .mljar-expander-label {\n      flex: 1 1 auto;\n    }\n    ",
       "_esm": "\n    function render({ model, el }) {\n      const header = document.createElement(\"button\");\n      header.type = \"button\";\n      header.classList.add(\"mljar-expander-header\");\n      header.setAttribute(\"aria-expanded\", String(model.get(\"expanded\")));\n\n      const icon = document.createElement(\"span\");\n      icon.classList.add(\"mljar-expander-icon\");\n      const text = document.createElement(\"span\");\n      text.classList.add(\"mljar-expander-label\");\n      text.textContent = model.get(\"label\") || \"Details\";\n\n      header.appendChild(icon);\n      header.appendChild(text);\n      el.appendChild(header);\n\n      function syncUI() {\n        const isOpen = !!model.get(\"expanded\");\n        header.setAttribute(\"aria-expanded\", String(isOpen));\n        header.classList.toggle(\"is-open\", isOpen);\n      }\n      syncUI();\n\n      header.addEventListener(\"click\", () => {\n        const next = !model.get(\"expanded\");\n        model.set(\"expanded\", next);\n        model.save_changes();\n      });\n\n      model.on(\"change:expanded\", syncUI);\n      model.on(\"change:label\", () => {\n        text.textContent = model.get(\"label\") || \"Details\";\n      });\n\n      const css = model.get(\"custom_css\");\n      if (css && css.trim().length > 0) {\n        const styleTag = document.createElement(\"style\");\n        styleTag.textContent = css;\n        el.appendChild(styleTag);\n      }\n    }\n    export default { render };\n    ",
       "_model_module": "anywidget",
       "_model_module_version": "~0.9.*",
       "_model_name": "AnyModel",
       "_view_module": "anywidget",
       "_view_module_version": "~0.9.*",
       "_view_name": "AnyView",
       "custom_css": "",
       "expanded": false,
       "label": "Training details",
       "layout": "IPY_MODEL_544ebfb4a3ad4077b269c9147dedd4e1",
       "position": "sidebar"
      }
     }
    },
    "version_major": 2,
    "version_minor": 0
   }
  }
 },
 "nbformat": 4,
 "nbformat_minor": 5
}
