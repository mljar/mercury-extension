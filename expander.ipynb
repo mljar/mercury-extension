{
 "cells": [
  {
   "cell_type": "code",
   "execution_count": 1,
   "id": "1f2deb7c-12e2-4013-97fa-55c902b80439",
   "metadata": {},
   "outputs": [],
   "source": [
    "from widgets import Expander\n",
    "from widgets import Columns\n",
    "from widgets.slider import Slider"
   ]
  },
  {
   "cell_type": "code",
   "execution_count": 2,
   "id": "89ef545f-8145-4661-97d0-b9048573bb74",
   "metadata": {},
   "outputs": [
    {
     "data": {
      "application/vnd.jupyter.widget-view+json": {
       "model_id": "5013b8e482f347028f6a1a13ca828b82",
       "version_major": 2,
       "version_minor": 0
      },
      "text/plain": [
       "HTML(value='\\n    <style>\\n      .mljar-expander-box {\\n        width: 100%;\\n        border: 1px solid #ccccc…"
      ]
     },
     "metadata": {},
     "output_type": "display_data"
    },
    {
     "data": {
      "application/vnd.jupyter.widget-view+json": {
       "model_id": "8f31c93bad98451d8e560c41e4bfae25",
       "version_major": 2,
       "version_minor": 0
      },
      "text/plain": [
       "VBox(children=(_ExpanderHeaderWidget(label='Training details'), Box(children=(Output(layout=Layout(width='100%…"
      ]
     },
     "metadata": {},
     "output_type": "display_data"
    }
   ],
   "source": [
    "out = Expander(label=\"Training details\", expanded=False, key=\"train-expander\")\n",
    "\n",
    "with out:\n",
    "    import time, sys\n",
    "    print(\"Fold 1/5: AUC=0.842\")\n",
    "    print(\"Fold 2/5: AUC=0.851\")"
   ]
  },
  {
   "cell_type": "code",
   "execution_count": 3,
   "id": "2366696f-7b03-42d0-b57b-29954d32d6c4",
   "metadata": {},
   "outputs": [],
   "source": [
    "with out:\n",
    "    import time, sys\n",
    "    print(\"Fold 1/5: AUC=0.842\")\n",
    "    print(\"Fold 2/5: AUC=0.851\")"
   ]
  },
  {
   "cell_type": "code",
   "execution_count": 4,
   "id": "1aea7324-5a5e-4242-9ee1-cb1dca2c670e",
   "metadata": {},
   "outputs": [
    {
     "data": {
      "text/html": [
       "\n",
       "    <style>\n",
       "    .mljar-column {\n",
       "        border-radius: 4px !important;\n",
       "    }\n",
       "    </style>\n",
       "    "
      ],
      "text/plain": [
       "<IPython.core.display.HTML object>"
      ]
     },
     "metadata": {},
     "output_type": "display_data"
    },
    {
     "data": {
      "application/vnd.jupyter.widget-view+json": {
       "model_id": "0c48a9d8f2a44241b03c65bd55c5eb93",
       "version_major": 2,
       "version_minor": 0
      },
      "text/plain": [
       "HBox(children=(Output(layout=Layout(border_bottom='1px solid #cccccc', border_left='1px solid #cccccc', border…"
      ]
     },
     "metadata": {},
     "output_type": "display_data"
    }
   ],
   "source": [
    "## Multiple in Columns\n",
    "left, right = Columns(2, border=True)\n"
   ]
  },
  {
   "cell_type": "code",
   "execution_count": 5,
   "id": "0a4def3f-baf6-4379-bc5a-8b591c60c45c",
   "metadata": {},
   "outputs": [],
   "source": [
    "with left:\n",
    "    left.clear_output(wait=True)\n",
    "    o1 = Expander(label=\"Left panel\", expanded=True)\n",
    "with right:\n",
    "    right.clear_output(wait=True)\n",
    "    o2 = Expander(label=\"Right panel\", expanded=False)"
   ]
  },
  {
   "cell_type": "code",
   "execution_count": 6,
   "id": "7e4f6c00-9c13-4061-8c12-75a760d02bfe",
   "metadata": {},
   "outputs": [],
   "source": [
    "\n",
    "with o1:\n",
    "    print(\"Hello from the left\")\n",
    "\n",
    "\n",
    "with o2:\n",
    "    print(\"Hidden until expanded 2\")\n",
    "    print(s.value)"
   ]
  },
  {
   "cell_type": "code",
   "execution_count": null,
   "id": "2e6426a7-098a-4865-b324-a9902888bfa3",
   "metadata": {},
   "outputs": [],
   "source": []
  }
 ],
 "metadata": {
  "kernelspec": {
   "display_name": "Python 3 (ipykernel)",
   "language": "python",
   "name": "python3"
  },
  "language_info": {
   "codemirror_mode": {
    "name": "ipython",
    "version": 3
   },
   "file_extension": ".py",
   "mimetype": "text/x-python",
   "name": "python",
   "nbconvert_exporter": "python",
   "pygments_lexer": "ipython3",
   "version": "3.11.5"
  },
  "widgets": {
   "application/vnd.jupyter.widget-state+json": {
    "state": {},
    "version_major": 2,
    "version_minor": 0
   }
  }
 },
 "nbformat": 4,
 "nbformat_minor": 5
}
