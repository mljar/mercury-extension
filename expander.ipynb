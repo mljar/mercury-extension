{
 "cells": [
  {
   "cell_type": "code",
   "execution_count": 1,
   "id": "1f2deb7c-12e2-4013-97fa-55c902b80439",
   "metadata": {},
   "outputs": [],
   "source": [
    "from widgets import Expander\n",
    "from widgets import Columns\n",
    "from widgets.slider import Slider"
   ]
  },
  {
   "cell_type": "code",
   "execution_count": 2,
   "id": "89ef545f-8145-4661-97d0-b9048573bb74",
   "metadata": {},
   "outputs": [
    {
     "data": {
      "application/vnd.jupyter.widget-view+json": {
       "model_id": "5013b8e482f347028f6a1a13ca828b82",
       "version_major": 2,
       "version_minor": 0
      },
      "text/plain": [
       "HTML(value='\\n    <style>\\n      .mljar-expander-box {\\n        width: 100%;\\n        border: 1px solid #ccccc…"
      ]
     },
     "metadata": {},
     "output_type": "display_data"
    },
    {
     "data": {
      "application/vnd.jupyter.widget-view+json": {
       "model_id": "8f31c93bad98451d8e560c41e4bfae25",
       "version_major": 2,
       "version_minor": 0
      },
      "text/plain": [
       "VBox(children=(_ExpanderHeaderWidget(label='Training details'), Box(children=(Output(layout=Layout(width='100%…"
      ]
     },
     "metadata": {},
     "output_type": "display_data"
    }
   ],
   "source": [
    "out = Expander(label=\"Training details\", expanded=False, key=\"train-expander\")\n",
    "\n",
    "with out:\n",
    "    import time, sys\n",
    "    print(\"Fold 1/5: AUC=0.842\")\n",
    "    print(\"Fold 2/5: AUC=0.851\")"
   ]
  },
  {
   "cell_type": "code",
   "execution_count": 3,
   "id": "2366696f-7b03-42d0-b57b-29954d32d6c4",
   "metadata": {},
   "outputs": [],
   "source": [
    "with out:\n",
    "    import time, sys\n",
    "    print(\"Fold 1/5: AUC=0.842\")\n",
    "    print(\"Fold 2/5: AUC=0.851\")"
   ]
  },
  {
   "cell_type": "code",
   "execution_count": 4,
   "id": "1aea7324-5a5e-4242-9ee1-cb1dca2c670e",
   "metadata": {},
   "outputs": [
    {
     "data": {
      "text/html": [
       "\n",
       "    <style>\n",
       "    .mljar-column {\n",
       "        border-radius: 4px !important;\n",
       "    }\n",
       "    </style>\n",
       "    "
      ],
      "text/plain": [
       "<IPython.core.display.HTML object>"
      ]
     },
     "metadata": {},
     "output_type": "display_data"
    },
    {
     "data": {
      "application/vnd.jupyter.widget-view+json": {
       "model_id": "0c48a9d8f2a44241b03c65bd55c5eb93",
       "version_major": 2,
       "version_minor": 0
      },
      "text/plain": [
       "HBox(children=(Output(layout=Layout(border_bottom='1px solid #cccccc', border_left='1px solid #cccccc', border…"
      ]
     },
     "metadata": {},
     "output_type": "display_data"
    }
   ],
   "source": [
    "## Multiple in Columns\n",
    "left, right = Columns(2, border=True)\n"
   ]
  },
  {
   "cell_type": "code",
   "execution_count": 5,
   "id": "0a4def3f-baf6-4379-bc5a-8b591c60c45c",
   "metadata": {},
   "outputs": [],
   "source": [
    "with left:\n",
    "    left.clear_output(wait=True)\n",
    "    o1 = Expander(label=\"Left panel\", expanded=True)\n",
    "with right:\n",
    "    right.clear_output(wait=True)\n",
    "    o2 = Expander(label=\"Right panel\", expanded=False)"
   ]
  },
  {
   "cell_type": "code",
   "execution_count": 6,
   "id": "7e4f6c00-9c13-4061-8c12-75a760d02bfe",
   "metadata": {},
   "outputs": [],
   "source": [
    "\n",
    "with o1:\n",
    "    print(\"Hello from the left\")\n",
    "\n",
    "\n",
    "with o2:\n",
    "    print(\"Hidden until expanded 2\")\n",
    "    print(s.value)"
   ]
  },
  {
   "cell_type": "code",
   "execution_count": null,
   "id": "2e6426a7-098a-4865-b324-a9902888bfa3",
   "metadata": {},
   "outputs": [],
   "source": []
  }
 ],
 "metadata": {
  "kernelspec": {
   "display_name": "Python 3 (ipykernel)",
   "language": "python",
   "name": "python3"
  },
  "language_info": {
   "codemirror_mode": {
    "name": "ipython",
    "version": 3
   },
   "file_extension": ".py",
   "mimetype": "text/x-python",
   "name": "python",
   "nbconvert_exporter": "python",
   "pygments_lexer": "ipython3",
   "version": "3.11.5"
  },
  "widgets": {
   "application/vnd.jupyter.widget-state+json": {
    "state": {
     "023b764259d94035a531cf5c0226fe84": {
      "model_module": "@jupyter-widgets/base",
      "model_module_version": "2.0.0",
      "model_name": "LayoutModel",
      "state": {
       "align_items": "stretch",
       "display": "flex",
       "flex_flow": "row wrap",
       "width": "100%"
      }
     },
     "04143fbb9d77441088d8f3ccc433cd57": {
      "model_module": "@jupyter-widgets/base",
      "model_module_version": "2.0.0",
      "model_name": "LayoutModel",
      "state": {
       "width": "100%"
      }
     },
     "0c48a9d8f2a44241b03c65bd55c5eb93": {
      "model_module": "@jupyter-widgets/controls",
      "model_module_version": "2.0.0",
      "model_name": "HBoxModel",
      "state": {
       "children": [
        "IPY_MODEL_0ed7b9b9ec6c46d295339e72399e895b",
        "IPY_MODEL_b88fb54f6ea64facadd9837f5bb5053e"
       ],
       "layout": "IPY_MODEL_023b764259d94035a531cf5c0226fe84"
      }
     },
     "0ed7b9b9ec6c46d295339e72399e895b": {
      "model_module": "@jupyter-widgets/output",
      "model_module_version": "1.0.0",
      "model_name": "OutputModel",
      "state": {
       "_dom_classes": [
        "mljar-column"
       ],
       "layout": "IPY_MODEL_3a20707893644814bfdc152e4b5dac89",
       "outputs": [
        {
         "data": {
          "application/vnd.jupyter.widget-view+json": {
           "model_id": "6955f7e8d68b4854bceebc324481cac4",
           "version_major": 2,
           "version_minor": 0
          },
          "text/plain": "HTML(value='\\n    <style>\\n      .mljar-expander-box {\\n        width: 100%;\\n        border: 1px solid #ccccc…"
         },
         "metadata": {},
         "output_type": "display_data"
        },
        {
         "data": {
          "application/vnd.jupyter.widget-view+json": {
           "model_id": "dd8abe1345ea4135ba678df0ccae54c3",
           "version_major": 2,
           "version_minor": 0
          },
          "text/plain": "VBox(children=(_ExpanderHeaderWidget(expanded=True, label='Left panel'), Box(children=(Output(layout=Layout(wi…"
         },
         "metadata": {},
         "output_type": "display_data"
        }
       ]
      }
     },
     "0f9681f2f51d44bc89cf7c9b46da8b43": {
      "model_module": "@jupyter-widgets/base",
      "model_module_version": "2.0.0",
      "model_name": "LayoutModel",
      "state": {}
     },
     "31c1563437fc4bb8b5c9922dc1e2d97b": {
      "model_module": "@jupyter-widgets/controls",
      "model_module_version": "2.0.0",
      "model_name": "HTMLModel",
      "state": {
       "layout": "IPY_MODEL_8bfe1d7d5131477f8044b9889647019b",
       "style": "IPY_MODEL_8055ca8ae0fe49ed96164ad64e6ca31d",
       "value": "\n    <style>\n      .mljar-expander-box {\n        width: 100%;\n        border: 1px solid #cccccc;\n        border-radius: 4px;\n        background: #fff;\n        overflow: hidden;\n      }\n\n      /* Streamlit-like expander transition */\n      .mljar-expander-content {\n        width: 100%;\n        position: relative;\n        box-sizing: border-box;\n        overflow: hidden;\n        max-height: 0;\n        opacity: 0;\n        padding: 0 10px;\n        transform: translateY(-4px);\n        transition:\n          max-height 300ms cubic-bezier(0.25, 1, 0.5, 1),\n          opacity 300ms cubic-bezier(0.25, 1, 0.5, 1),\n          transform 300ms cubic-bezier(0.25, 1, 0.5, 1),\n          padding-top 300ms ease,\n          padding-bottom 300ms ease;\n        will-change: max-height, opacity, transform;\n      }\n\n      .mljar-expander-content > * {\n        overflow: hidden;\n        min-height: 0;\n        box-sizing: border-box;\n      }\n\n      /* Fading divider (no layout shift) */\n      .mljar-expander-content::before {\n        content: \"\";\n        position: absolute;\n        left: 0; right: 0; top: 0;\n        height: 1px;\n        background: #cccccc;\n        opacity: 0;\n        transition: opacity 300ms ease;\n        pointer-events: none;\n      }\n\n      /* Opened state – natural \"ease-out\" movement */\n      .mljar-expander-content.is-open {\n        max-height: 1000vh;       /* big enough for all content */\n        opacity: 1;\n        padding-top: 10px;\n        padding-bottom: 10px;\n        transform: translateY(0);\n      }\n      .mljar-expander-content.is-open::before {\n        opacity: 1;\n      }\n\n      @media (prefers-reduced-motion: reduce) {\n        .mljar-expander-content {\n          transition: none;\n          transform: none;\n        }\n      }\n    </style>\n    "
      }
     },
     "3a20707893644814bfdc152e4b5dac89": {
      "model_module": "@jupyter-widgets/base",
      "model_module_version": "2.0.0",
      "model_name": "LayoutModel",
      "state": {
       "border_bottom": "1px solid #cccccc",
       "border_left": "1px solid #cccccc",
       "border_right": "1px solid #cccccc",
       "border_top": "1px solid #cccccc",
       "flex": "1 1 0px",
       "min_width": "240px",
       "padding": "4px"
      }
     },
     "460e04eebdc844d19984e3f87fe38d87": {
      "model_module": "@jupyter-widgets/base",
      "model_module_version": "2.0.0",
      "model_name": "LayoutModel",
      "state": {}
     },
     "4b35b83773884b829cc919d9a9abe168": {
      "model_module": "@jupyter-widgets/controls",
      "model_module_version": "2.0.0",
      "model_name": "HTMLStyleModel",
      "state": {
       "description_width": "",
       "font_size": null,
       "text_color": null
      }
     },
     "4c3a18d31ce24addb331c03d3f4add2a": {
      "model_module": "@jupyter-widgets/base",
      "model_module_version": "2.0.0",
      "model_name": "LayoutModel",
      "state": {}
     },
     "4d6e21340c744d10acc1c82ee0d966be": {
      "model_module": "@jupyter-widgets/base",
      "model_module_version": "2.0.0",
      "model_name": "LayoutModel",
      "state": {
       "width": "100%"
      }
     },
     "5013b8e482f347028f6a1a13ca828b82": {
      "model_module": "@jupyter-widgets/controls",
      "model_module_version": "2.0.0",
      "model_name": "HTMLModel",
      "state": {
       "layout": "IPY_MODEL_6e180a5f1ffa4e4293fed2c20410bbd3",
       "style": "IPY_MODEL_4b35b83773884b829cc919d9a9abe168",
       "value": "\n    <style>\n      .mljar-expander-box {\n        width: 100%;\n        border: 1px solid #cccccc;\n        border-radius: 4px;\n        background: #fff;\n        overflow: hidden;\n      }\n\n      /* Streamlit-like expander transition */\n      .mljar-expander-content {\n        width: 100%;\n        position: relative;\n        box-sizing: border-box;\n        overflow: hidden;\n        max-height: 0;\n        opacity: 0;\n        padding: 0 10px;\n        transform: translateY(-4px);\n        transition:\n          max-height 300ms cubic-bezier(0.25, 1, 0.5, 1),\n          opacity 300ms cubic-bezier(0.25, 1, 0.5, 1),\n          transform 300ms cubic-bezier(0.25, 1, 0.5, 1),\n          padding-top 300ms ease,\n          padding-bottom 300ms ease;\n        will-change: max-height, opacity, transform;\n      }\n\n      .mljar-expander-content > * {\n        overflow: hidden;\n        min-height: 0;\n        box-sizing: border-box;\n      }\n\n      /* Fading divider (no layout shift) */\n      .mljar-expander-content::before {\n        content: \"\";\n        position: absolute;\n        left: 0; right: 0; top: 0;\n        height: 1px;\n        background: #cccccc;\n        opacity: 0;\n        transition: opacity 300ms ease;\n        pointer-events: none;\n      }\n\n      /* Opened state – natural \"ease-out\" movement */\n      .mljar-expander-content.is-open {\n        max-height: 1000vh;       /* big enough for all content */\n        opacity: 1;\n        padding-top: 10px;\n        padding-bottom: 10px;\n        transform: translateY(0);\n      }\n      .mljar-expander-content.is-open::before {\n        opacity: 1;\n      }\n\n      @media (prefers-reduced-motion: reduce) {\n        .mljar-expander-content {\n          transition: none;\n          transform: none;\n        }\n      }\n    </style>\n    "
      }
     },
     "5f942d95b1354a5aa3521e178cc57f28": {
      "model_module": "@jupyter-widgets/controls",
      "model_module_version": "2.0.0",
      "model_name": "BoxModel",
      "state": {
       "_dom_classes": [
        "mljar-expander-content",
        "is-open"
       ],
       "children": [
        "IPY_MODEL_928bea0511614b19a0e3ddfb38c6afa9"
       ],
       "layout": "IPY_MODEL_a8187626e44a43b1b6632c37f44a1486"
      }
     },
     "6955f7e8d68b4854bceebc324481cac4": {
      "model_module": "@jupyter-widgets/controls",
      "model_module_version": "2.0.0",
      "model_name": "HTMLModel",
      "state": {
       "layout": "IPY_MODEL_460e04eebdc844d19984e3f87fe38d87",
       "style": "IPY_MODEL_6efc81107f3f44c3a26aa66fec2c0fce",
       "value": "\n    <style>\n      .mljar-expander-box {\n        width: 100%;\n        border: 1px solid #cccccc;\n        border-radius: 4px;\n        background: #fff;\n        overflow: hidden;\n      }\n\n      /* Streamlit-like expander transition */\n      .mljar-expander-content {\n        width: 100%;\n        position: relative;\n        box-sizing: border-box;\n        overflow: hidden;\n        max-height: 0;\n        opacity: 0;\n        padding: 0 10px;\n        transform: translateY(-4px);\n        transition:\n          max-height 300ms cubic-bezier(0.25, 1, 0.5, 1),\n          opacity 300ms cubic-bezier(0.25, 1, 0.5, 1),\n          transform 300ms cubic-bezier(0.25, 1, 0.5, 1),\n          padding-top 300ms ease,\n          padding-bottom 300ms ease;\n        will-change: max-height, opacity, transform;\n      }\n\n      .mljar-expander-content > * {\n        overflow: hidden;\n        min-height: 0;\n        box-sizing: border-box;\n      }\n\n      /* Fading divider (no layout shift) */\n      .mljar-expander-content::before {\n        content: \"\";\n        position: absolute;\n        left: 0; right: 0; top: 0;\n        height: 1px;\n        background: #cccccc;\n        opacity: 0;\n        transition: opacity 300ms ease;\n        pointer-events: none;\n      }\n\n      /* Opened state – natural \"ease-out\" movement */\n      .mljar-expander-content.is-open {\n        max-height: 1000vh;       /* big enough for all content */\n        opacity: 1;\n        padding-top: 10px;\n        padding-bottom: 10px;\n        transform: translateY(0);\n      }\n      .mljar-expander-content.is-open::before {\n        opacity: 1;\n      }\n\n      @media (prefers-reduced-motion: reduce) {\n        .mljar-expander-content {\n          transition: none;\n          transform: none;\n        }\n      }\n    </style>\n    "
      }
     },
     "6e180a5f1ffa4e4293fed2c20410bbd3": {
      "model_module": "@jupyter-widgets/base",
      "model_module_version": "2.0.0",
      "model_name": "LayoutModel",
      "state": {}
     },
     "6e5ff53950314380b3cf272772e62132": {
      "model_module": "@jupyter-widgets/base",
      "model_module_version": "2.0.0",
      "model_name": "LayoutModel",
      "state": {
       "width": "100%"
      }
     },
     "6efc81107f3f44c3a26aa66fec2c0fce": {
      "model_module": "@jupyter-widgets/controls",
      "model_module_version": "2.0.0",
      "model_name": "HTMLStyleModel",
      "state": {
       "description_width": "",
       "font_size": null,
       "text_color": null
      }
     },
     "704fa2fa611340978fc7bcbe18dc836c": {
      "model_module": "@jupyter-widgets/base",
      "model_module_version": "2.0.0",
      "model_name": "LayoutModel",
      "state": {
       "width": "100%"
      }
     },
     "720854d80599444fbbc19edf3359b65e": {
      "model_module": "anywidget",
      "model_module_version": "~0.9.*",
      "model_name": "AnyModel",
      "state": {
       "_anywidget_id": "widgets.expander._ExpanderHeaderWidget",
       "_css": "\n    .mljar-expander-header {\n      width: 100%;\n      display: flex;\n      align-items: center;\n      gap: 8px;\n      background: #f7f7f9;\n      border: 0;\n      padding: 8px 10px;\n      cursor: pointer;\n      text-align: left;\n      font-family: Arial, sans-serif;\n      font-size: 12px;\n      font-weight: normal;\n      color: #222222;\n      transition: background 0.15s ease;\n      position: relative;\n    }\n    .mljar-expander-header:hover {\n      background: #efefef;\n    }\n    .mljar-expander-icon {\n      display: inline-block;\n      width: 0;\n      height: 0;\n      border-left: 6px solid transparent;\n      border-right: 6px solid transparent;\n      border-top: 8px solid #007bff;\n      transform: rotate(0deg);\n      transition: transform 0.15s ease;\n    }\n    .mljar-expander-header.is-open .mljar-expander-icon {\n      transform: rotate(180deg);\n    }\n    .mljar-expander-label {\n      flex: 1 1 auto;\n    }\n    ",
       "_esm": "\n    function render({ model, el }) {\n      const header = document.createElement(\"button\");\n      header.type = \"button\";\n      header.classList.add(\"mljar-expander-header\");\n      header.setAttribute(\"aria-expanded\", String(model.get(\"expanded\")));\n\n      const icon = document.createElement(\"span\");\n      icon.classList.add(\"mljar-expander-icon\");\n      const text = document.createElement(\"span\");\n      text.classList.add(\"mljar-expander-label\");\n      text.textContent = model.get(\"label\") || \"Details\";\n\n      header.appendChild(icon);\n      header.appendChild(text);\n      el.appendChild(header);\n\n      function syncUI() {\n        const isOpen = !!model.get(\"expanded\");\n        header.setAttribute(\"aria-expanded\", String(isOpen));\n        header.classList.toggle(\"is-open\", isOpen);\n      }\n      syncUI();\n\n      header.addEventListener(\"click\", () => {\n        const next = !model.get(\"expanded\");\n        model.set(\"expanded\", next);\n        model.save_changes();\n      });\n\n      model.on(\"change:expanded\", syncUI);\n      model.on(\"change:label\", () => {\n        text.textContent = model.get(\"label\") || \"Details\";\n      });\n\n      const css = model.get(\"custom_css\");\n      if (css && css.trim().length > 0) {\n        const styleTag = document.createElement(\"style\");\n        styleTag.textContent = css;\n        el.appendChild(styleTag);\n      }\n    }\n    export default { render };\n    ",
       "_model_module": "anywidget",
       "_model_module_version": "~0.9.*",
       "_model_name": "AnyModel",
       "_view_module": "anywidget",
       "_view_module_version": "~0.9.*",
       "_view_name": "AnyView",
       "custom_css": "",
       "expanded": false,
       "label": "Training details",
       "layout": "IPY_MODEL_da29a55410a74ccbbd51d92b6af6f3da",
       "position": "sidebar"
      }
     },
     "77dda02756324f1fb3fa4b13057492d7": {
      "model_module": "anywidget",
      "model_module_version": "~0.9.*",
      "model_name": "AnyModel",
      "state": {
       "_anywidget_id": "widgets.expander._ExpanderHeaderWidget",
       "_css": "\n    .mljar-expander-header {\n      width: 100%;\n      display: flex;\n      align-items: center;\n      gap: 8px;\n      background: #f7f7f9;\n      border: 0;\n      padding: 8px 10px;\n      cursor: pointer;\n      text-align: left;\n      font-family: Arial, sans-serif;\n      font-size: 12px;\n      font-weight: normal;\n      color: #222222;\n      transition: background 0.15s ease;\n      position: relative;\n    }\n    .mljar-expander-header:hover {\n      background: #efefef;\n    }\n    .mljar-expander-icon {\n      display: inline-block;\n      width: 0;\n      height: 0;\n      border-left: 6px solid transparent;\n      border-right: 6px solid transparent;\n      border-top: 8px solid #007bff;\n      transform: rotate(0deg);\n      transition: transform 0.15s ease;\n    }\n    .mljar-expander-header.is-open .mljar-expander-icon {\n      transform: rotate(180deg);\n    }\n    .mljar-expander-label {\n      flex: 1 1 auto;\n    }\n    ",
       "_esm": "\n    function render({ model, el }) {\n      const header = document.createElement(\"button\");\n      header.type = \"button\";\n      header.classList.add(\"mljar-expander-header\");\n      header.setAttribute(\"aria-expanded\", String(model.get(\"expanded\")));\n\n      const icon = document.createElement(\"span\");\n      icon.classList.add(\"mljar-expander-icon\");\n      const text = document.createElement(\"span\");\n      text.classList.add(\"mljar-expander-label\");\n      text.textContent = model.get(\"label\") || \"Details\";\n\n      header.appendChild(icon);\n      header.appendChild(text);\n      el.appendChild(header);\n\n      function syncUI() {\n        const isOpen = !!model.get(\"expanded\");\n        header.setAttribute(\"aria-expanded\", String(isOpen));\n        header.classList.toggle(\"is-open\", isOpen);\n      }\n      syncUI();\n\n      header.addEventListener(\"click\", () => {\n        const next = !model.get(\"expanded\");\n        model.set(\"expanded\", next);\n        model.save_changes();\n      });\n\n      model.on(\"change:expanded\", syncUI);\n      model.on(\"change:label\", () => {\n        text.textContent = model.get(\"label\") || \"Details\";\n      });\n\n      const css = model.get(\"custom_css\");\n      if (css && css.trim().length > 0) {\n        const styleTag = document.createElement(\"style\");\n        styleTag.textContent = css;\n        el.appendChild(styleTag);\n      }\n    }\n    export default { render };\n    ",
       "_model_module": "anywidget",
       "_model_module_version": "~0.9.*",
       "_model_name": "AnyModel",
       "_view_module": "anywidget",
       "_view_module_version": "~0.9.*",
       "_view_name": "AnyView",
       "custom_css": "",
       "expanded": false,
       "label": "Right panel",
       "layout": "IPY_MODEL_0f9681f2f51d44bc89cf7c9b46da8b43",
       "position": "sidebar"
      }
     },
     "8055ca8ae0fe49ed96164ad64e6ca31d": {
      "model_module": "@jupyter-widgets/controls",
      "model_module_version": "2.0.0",
      "model_name": "HTMLStyleModel",
      "state": {
       "description_width": "",
       "font_size": null,
       "text_color": null
      }
     },
     "8bfe1d7d5131477f8044b9889647019b": {
      "model_module": "@jupyter-widgets/base",
      "model_module_version": "2.0.0",
      "model_name": "LayoutModel",
      "state": {}
     },
     "8f31c93bad98451d8e560c41e4bfae25": {
      "model_module": "@jupyter-widgets/controls",
      "model_module_version": "2.0.0",
      "model_name": "VBoxModel",
      "state": {
       "_dom_classes": [
        "mljar-expander-box"
       ],
       "children": [
        "IPY_MODEL_720854d80599444fbbc19edf3359b65e",
        "IPY_MODEL_d6b0b91eeb3e4928be21e5f5cfcfeae4"
       ],
       "layout": "IPY_MODEL_fb7151eea9c6435eb4d37713ec55d0fd"
      }
     },
     "928bea0511614b19a0e3ddfb38c6afa9": {
      "model_module": "@jupyter-widgets/output",
      "model_module_version": "1.0.0",
      "model_name": "OutputModel",
      "state": {
       "layout": "IPY_MODEL_ca6e1f335d7f4d7f9da626b7d863224e",
       "outputs": [
        {
         "name": "stdout",
         "output_type": "stream",
         "text": "Hello from the left\n"
        }
       ]
      }
     },
     "99bbf88657094ad79b5224590c073948": {
      "model_module": "@jupyter-widgets/base",
      "model_module_version": "2.0.0",
      "model_name": "LayoutModel",
      "state": {
       "width": "100%"
      }
     },
     "a8187626e44a43b1b6632c37f44a1486": {
      "model_module": "@jupyter-widgets/base",
      "model_module_version": "2.0.0",
      "model_name": "LayoutModel",
      "state": {
       "width": "100%"
      }
     },
     "b88fb54f6ea64facadd9837f5bb5053e": {
      "model_module": "@jupyter-widgets/output",
      "model_module_version": "1.0.0",
      "model_name": "OutputModel",
      "state": {
       "_dom_classes": [
        "mljar-column"
       ],
       "layout": "IPY_MODEL_cec199f56bab4b8781929a4e776800ef",
       "outputs": [
        {
         "data": {
          "application/vnd.jupyter.widget-view+json": {
           "model_id": "31c1563437fc4bb8b5c9922dc1e2d97b",
           "version_major": 2,
           "version_minor": 0
          },
          "text/plain": "HTML(value='\\n    <style>\\n      .mljar-expander-box {\\n        width: 100%;\\n        border: 1px solid #ccccc…"
         },
         "metadata": {},
         "output_type": "display_data"
        },
        {
         "data": {
          "application/vnd.jupyter.widget-view+json": {
           "model_id": "d508b614ce48443c9f170ce60064b596",
           "version_major": 2,
           "version_minor": 0
          },
          "text/plain": "VBox(children=(_ExpanderHeaderWidget(label='Right panel'), Box(children=(Output(layout=Layout(width='100%')),)…"
         },
         "metadata": {},
         "output_type": "display_data"
        }
       ]
      }
     },
     "c37fdc2613034d31aab85e26951cb3a3": {
      "model_module": "@jupyter-widgets/output",
      "model_module_version": "1.0.0",
      "model_name": "OutputModel",
      "state": {
       "layout": "IPY_MODEL_99bbf88657094ad79b5224590c073948",
       "outputs": [
        {
         "name": "stdout",
         "output_type": "stream",
         "text": "Hidden until expanded 2\n"
        },
        {
         "ename": "NameError",
         "evalue": "name 's' is not defined",
         "output_type": "error",
         "traceback": [
          "\u001b[0;31m---------------------------------------------------------------------------\u001b[0m",
          "\u001b[0;31mNameError\u001b[0m                                 Traceback (most recent call last)",
          "Cell \u001b[0;32mIn[6], line 7\u001b[0m\n\u001b[1;32m      5\u001b[0m \u001b[38;5;28;01mwith\u001b[39;00m o2:\n\u001b[1;32m      6\u001b[0m     \u001b[38;5;28mprint\u001b[39m(\u001b[38;5;124m\"\u001b[39m\u001b[38;5;124mHidden until expanded 2\u001b[39m\u001b[38;5;124m\"\u001b[39m)\n\u001b[0;32m----> 7\u001b[0m     \u001b[38;5;28mprint\u001b[39m(\u001b[43ms\u001b[49m\u001b[38;5;241m.\u001b[39mvalue)\n",
          "\u001b[0;31mNameError\u001b[0m: name 's' is not defined"
         ]
        }
       ]
      }
     },
     "ca6e1f335d7f4d7f9da626b7d863224e": {
      "model_module": "@jupyter-widgets/base",
      "model_module_version": "2.0.0",
      "model_name": "LayoutModel",
      "state": {
       "width": "100%"
      }
     },
     "cec199f56bab4b8781929a4e776800ef": {
      "model_module": "@jupyter-widgets/base",
      "model_module_version": "2.0.0",
      "model_name": "LayoutModel",
      "state": {
       "border_bottom": "1px solid #cccccc",
       "border_left": "1px solid #cccccc",
       "border_right": "1px solid #cccccc",
       "border_top": "1px solid #cccccc",
       "flex": "1 1 0px",
       "min_width": "240px",
       "padding": "4px"
      }
     },
     "d153ce09c828444ea21eff38363bab77": {
      "model_module": "@jupyter-widgets/controls",
      "model_module_version": "2.0.0",
      "model_name": "BoxModel",
      "state": {
       "_dom_classes": [
        "mljar-expander-content"
       ],
       "children": [
        "IPY_MODEL_c37fdc2613034d31aab85e26951cb3a3"
       ],
       "layout": "IPY_MODEL_d6338e5580bd407dac9ac9f9e7bb7609"
      }
     },
     "d508b614ce48443c9f170ce60064b596": {
      "model_module": "@jupyter-widgets/controls",
      "model_module_version": "2.0.0",
      "model_name": "VBoxModel",
      "state": {
       "_dom_classes": [
        "mljar-expander-box"
       ],
       "children": [
        "IPY_MODEL_77dda02756324f1fb3fa4b13057492d7",
        "IPY_MODEL_d153ce09c828444ea21eff38363bab77"
       ],
       "layout": "IPY_MODEL_6e5ff53950314380b3cf272772e62132"
      }
     },
     "d6338e5580bd407dac9ac9f9e7bb7609": {
      "model_module": "@jupyter-widgets/base",
      "model_module_version": "2.0.0",
      "model_name": "LayoutModel",
      "state": {
       "width": "100%"
      }
     },
     "d6b0b91eeb3e4928be21e5f5cfcfeae4": {
      "model_module": "@jupyter-widgets/controls",
      "model_module_version": "2.0.0",
      "model_name": "BoxModel",
      "state": {
       "_dom_classes": [
        "mljar-expander-content"
       ],
       "children": [
        "IPY_MODEL_ed623a10e96747949d5642440df61304"
       ],
       "layout": "IPY_MODEL_04143fbb9d77441088d8f3ccc433cd57"
      }
     },
     "da29a55410a74ccbbd51d92b6af6f3da": {
      "model_module": "@jupyter-widgets/base",
      "model_module_version": "2.0.0",
      "model_name": "LayoutModel",
      "state": {}
     },
     "dd8abe1345ea4135ba678df0ccae54c3": {
      "model_module": "@jupyter-widgets/controls",
      "model_module_version": "2.0.0",
      "model_name": "VBoxModel",
      "state": {
       "_dom_classes": [
        "mljar-expander-box"
       ],
       "children": [
        "IPY_MODEL_e8a67aefaf924119a857c716457412bb",
        "IPY_MODEL_5f942d95b1354a5aa3521e178cc57f28"
       ],
       "layout": "IPY_MODEL_704fa2fa611340978fc7bcbe18dc836c"
      }
     },
     "e8a67aefaf924119a857c716457412bb": {
      "model_module": "anywidget",
      "model_module_version": "~0.9.*",
      "model_name": "AnyModel",
      "state": {
       "_anywidget_id": "widgets.expander._ExpanderHeaderWidget",
       "_css": "\n    .mljar-expander-header {\n      width: 100%;\n      display: flex;\n      align-items: center;\n      gap: 8px;\n      background: #f7f7f9;\n      border: 0;\n      padding: 8px 10px;\n      cursor: pointer;\n      text-align: left;\n      font-family: Arial, sans-serif;\n      font-size: 12px;\n      font-weight: normal;\n      color: #222222;\n      transition: background 0.15s ease;\n      position: relative;\n    }\n    .mljar-expander-header:hover {\n      background: #efefef;\n    }\n    .mljar-expander-icon {\n      display: inline-block;\n      width: 0;\n      height: 0;\n      border-left: 6px solid transparent;\n      border-right: 6px solid transparent;\n      border-top: 8px solid #007bff;\n      transform: rotate(0deg);\n      transition: transform 0.15s ease;\n    }\n    .mljar-expander-header.is-open .mljar-expander-icon {\n      transform: rotate(180deg);\n    }\n    .mljar-expander-label {\n      flex: 1 1 auto;\n    }\n    ",
       "_esm": "\n    function render({ model, el }) {\n      const header = document.createElement(\"button\");\n      header.type = \"button\";\n      header.classList.add(\"mljar-expander-header\");\n      header.setAttribute(\"aria-expanded\", String(model.get(\"expanded\")));\n\n      const icon = document.createElement(\"span\");\n      icon.classList.add(\"mljar-expander-icon\");\n      const text = document.createElement(\"span\");\n      text.classList.add(\"mljar-expander-label\");\n      text.textContent = model.get(\"label\") || \"Details\";\n\n      header.appendChild(icon);\n      header.appendChild(text);\n      el.appendChild(header);\n\n      function syncUI() {\n        const isOpen = !!model.get(\"expanded\");\n        header.setAttribute(\"aria-expanded\", String(isOpen));\n        header.classList.toggle(\"is-open\", isOpen);\n      }\n      syncUI();\n\n      header.addEventListener(\"click\", () => {\n        const next = !model.get(\"expanded\");\n        model.set(\"expanded\", next);\n        model.save_changes();\n      });\n\n      model.on(\"change:expanded\", syncUI);\n      model.on(\"change:label\", () => {\n        text.textContent = model.get(\"label\") || \"Details\";\n      });\n\n      const css = model.get(\"custom_css\");\n      if (css && css.trim().length > 0) {\n        const styleTag = document.createElement(\"style\");\n        styleTag.textContent = css;\n        el.appendChild(styleTag);\n      }\n    }\n    export default { render };\n    ",
       "_model_module": "anywidget",
       "_model_module_version": "~0.9.*",
       "_model_name": "AnyModel",
       "_view_module": "anywidget",
       "_view_module_version": "~0.9.*",
       "_view_name": "AnyView",
       "custom_css": "",
       "expanded": true,
       "label": "Left panel",
       "layout": "IPY_MODEL_4c3a18d31ce24addb331c03d3f4add2a",
       "position": "sidebar"
      }
     },
     "ed623a10e96747949d5642440df61304": {
      "model_module": "@jupyter-widgets/output",
      "model_module_version": "1.0.0",
      "model_name": "OutputModel",
      "state": {
       "layout": "IPY_MODEL_4d6e21340c744d10acc1c82ee0d966be",
       "outputs": [
        {
         "name": "stdout",
         "output_type": "stream",
         "text": "Fold 1/5: AUC=0.842\nFold 2/5: AUC=0.851\nFold 1/5: AUC=0.842\nFold 2/5: AUC=0.851\n"
        }
       ]
      }
     },
     "fb7151eea9c6435eb4d37713ec55d0fd": {
      "model_module": "@jupyter-widgets/base",
      "model_module_version": "2.0.0",
      "model_name": "LayoutModel",
      "state": {
       "width": "100%"
      }
     }
    },
    "version_major": 2,
    "version_minor": 0
   }
  }
 },
 "nbformat": 4,
 "nbformat_minor": 5
}
