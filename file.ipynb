{
 "cells": [
  {
   "cell_type": "code",
   "execution_count": 1,
   "id": "1bcfe957-aaa0-411a-ac2d-fcaf07ee2529",
   "metadata": {},
   "outputs": [],
   "source": [
    "from widgets.file import File"
   ]
  },
  {
   "cell_type": "code",
   "execution_count": 2,
   "id": "5d5f96d5-fa7a-49f9-91b5-6c6d526dab70",
   "metadata": {},
   "outputs": [
    {
     "data": {
      "application/mercury+json": "{\n    \"widget\": \"FileWidget\",\n    \"model_id\": \"d63b5a9650574a2abe7bb6ee7cb93f56\",\n    \"position\": \"sidebar\"\n}",
      "application/vnd.jupyter.widget-view+json": {
       "model_id": "d63b5a9650574a2abe7bb6ee7cb93f56",
       "version_major": 2,
       "version_minor": 1
      },
      "text/plain": [
       "FileWidget(label='Choose a file 123', multiple=True)"
      ]
     },
     "metadata": {},
     "output_type": "display_data"
    }
   ],
   "source": [
    "my_file = File(label=\"Choose a file 123\", multiple=True)"
   ]
  },
  {
   "cell_type": "code",
   "execution_count": 3,
   "id": "308b99d7-deda-49dd-bead-fae1e05f38ad",
   "metadata": {},
   "outputs": [
    {
     "data": {
      "text/plain": [
       "[]"
      ]
     },
     "execution_count": 3,
     "metadata": {},
     "output_type": "execute_result"
    }
   ],
   "source": [
    "my_file.filenames"
   ]
  },
  {
   "cell_type": "code",
   "execution_count": 4,
   "id": "a45bd90f-9e48-48ed-af5d-2caab600996a",
   "metadata": {},
   "outputs": [
    {
     "data": {
      "text/plain": [
       "datetime.datetime(2025, 10, 23, 13, 16, 22, 743301)"
      ]
     },
     "execution_count": 4,
     "metadata": {},
     "output_type": "execute_result"
    }
   ],
   "source": [
    "import datetime\n",
    "datetime.datetime.now()"
   ]
  },
  {
   "cell_type": "code",
   "execution_count": null,
   "id": "a9e3325e-c24e-4c9b-99f8-57bb4ffb16c2",
   "metadata": {},
   "outputs": [],
   "source": []
  },
  {
   "cell_type": "code",
   "execution_count": null,
   "id": "776b096b-305e-4c1a-a288-17a8e1e6f46c",
   "metadata": {},
   "outputs": [],
   "source": []
  },
  {
   "cell_type": "code",
   "execution_count": null,
   "id": "c3150e5c-b995-4e40-af5b-a9875784cfdc",
   "metadata": {},
   "outputs": [],
   "source": []
  }
 ],
 "metadata": {
  "kernelspec": {
   "display_name": "Python 3 (ipykernel)",
   "language": "python",
   "name": "python3"
  },
  "language_info": {
   "codemirror_mode": {
    "name": "ipython",
    "version": 3
   },
   "file_extension": ".py",
   "mimetype": "text/x-python",
   "name": "python",
   "nbconvert_exporter": "python",
   "pygments_lexer": "ipython3",
   "version": "3.11.5"
  },
  "mercury": {
   "title": "File upload"
  },
  "widgets": {
   "application/vnd.jupyter.widget-state+json": {
    "state": {
     "d63b5a9650574a2abe7bb6ee7cb93f56": {
      "model_module": "anywidget",
      "model_module_version": "~0.9.*",
      "model_name": "AnyModel",
      "state": {
       "_anywidget_id": "widgets.file.FileWidget",
       "_esm": "\n    function render({ model, el }) {\n      el.innerHTML = \"\";\n\n      const container = document.createElement(\"div\");\n      container.classList.add(\"mljar-file-container\");\n      container.style.containerType = \"inline-size\"; // enable @container\n\n      const label = document.createElement(\"div\");\n      label.classList.add(\"mljar-file-label\");\n      label.innerHTML = model.get(\"label\") || \"File upload\";\n\n      const input = document.createElement(\"input\");\n      input.type = \"file\";\n      input.disabled = model.get(\"disabled\");\n      input.multiple = model.get(\"multiple\");\n      const inputId = `mljar-file-${Math.random().toString(36).slice(2)}`;\n      input.id = inputId;\n      input.classList.add(\"mljar-file-input-hidden\");\n\n      if (model.get(\"hidden\")) container.style.display = \"none\";\n\n      const dropzone = document.createElement(\"label\");\n      dropzone.classList.add(\"mljar-file-dropzone\");\n      dropzone.setAttribute(\"for\", inputId);\n      dropzone.innerHTML = `\n        <div>Drag and drop files here</div>\n        <div class=\"mljar-file-drop-hint\">Limit ${model.get(\"max_file_size\")} per file</div>\n      `;\n\n      const browseBtn = document.createElement(\"button\");\n      browseBtn.classList.add(\"mljar-file-browse-btn\");\n      browseBtn.type = \"button\";\n      browseBtn.textContent = \"Browse files\";\n\n      const fileList = document.createElement(\"ul\");\n      fileList.classList.add(\"mljar-file-list\");\n\n      const openPicker = () => input.click();\n      browseBtn.onclick = openPicker;\n\n      function handleFiles(files) {\n        const filesArr = Array.from(files);\n        filesArr.forEach(file => {\n          const maxSize = model.get(\"max_file_size\");\n          let allowed = true;\n          if (maxSize.endsWith(\"MB\")) {\n            allowed = file.size <= parseInt(maxSize) * 1024 * 1024;\n          } else if (maxSize.endsWith(\"GB\")) {\n            allowed = file.size <= parseInt(maxSize) * 1024 * 1024 * 1024;\n          } else if (maxSize.endsWith(\"KB\")) {\n            allowed = file.size <= parseInt(maxSize) * 1024;\n          }\n          if (!allowed) {\n            alert(\"File \" + file.name + \" is too large!\");\n            return;\n          }\n          const reader = new FileReader();\n          reader.onload = (evt) => {\n            const newVals = [...model.get(\"values\")];\n            const newNames = [...model.get(\"filenames\")];\n            newVals.push(Array.from(new Uint8Array(evt.target.result)));\n            newNames.push(file.name);\n            model.set(\"values\", newVals);\n            model.set(\"filenames\", newNames);\n            model.save_changes();\n          };\n          reader.readAsArrayBuffer(file);\n        });\n      }\n\n      input.addEventListener(\"change\", () => handleFiles(input.files));\n\n      dropzone.addEventListener(\"dragover\", (e) => { e.preventDefault(); dropzone.classList.add(\"dragover\"); });\n      dropzone.addEventListener(\"dragleave\", (e) => { e.preventDefault(); dropzone.classList.remove(\"dragover\"); });\n      dropzone.addEventListener(\"drop\", (e) => {\n        e.preventDefault();\n        dropzone.classList.remove(\"dragover\");\n        handleFiles(e.dataTransfer.files);\n      });\n\n      function updateList() {\n        fileList.innerHTML = \"\";\n        const files = model.get(\"filenames\") || [];\n        for (let i=0; i<files.length; ++i) {\n          const li = document.createElement(\"li\");\n          li.classList.add(\"mljar-file-list-item\");\n          li.innerHTML = `<span class=\"mljar-file-icon\">📄</span> <span class=\"mljar-file-name\" title=\"${files[i]}\">${files[i]}</span>`;\n          const remove = document.createElement(\"button\");\n          remove.classList.add(\"mljar-file-remove-btn\");\n          remove.type = \"button\";\n          remove.textContent = \"×\";\n          remove.onclick = () => {\n            const newVals = [...model.get(\"values\")];\n            const newNames = [...model.get(\"filenames\")];\n            newVals.splice(i,1);\n            newNames.splice(i,1);\n            model.set(\"values\", newVals);\n            model.set(\"filenames\", newNames);\n            model.save_changes();\n          };\n          li.appendChild(remove);\n          fileList.appendChild(li);\n        }\n      }\n      model.on(\"change:values\", updateList);\n      model.on(\"change:filenames\", updateList);\n\n      dropzone.appendChild(browseBtn);\n      container.appendChild(label);\n      container.appendChild(dropzone);\n      container.appendChild(input);\n      container.appendChild(fileList);\n      el.appendChild(container);\n\n      // ---- cell id\n      const ID_ATTR = 'data-cell-id';\n      const hostWithId = el.closest(`[${ID_ATTR}]`);\n      const cellId = hostWithId ? hostWithId.getAttribute(ID_ATTR) : null;\n      if (cellId) {\n        model.set('cell_id', cellId);\n        model.save_changes();\n        model.send({ type: 'cell_id_detected', value: cellId });\n      } else {\n        const mo = new MutationObserver(() => {\n          const host = el.closest(`[${ID_ATTR}]`);\n          const newId = host?.getAttribute(ID_ATTR);\n          if (newId) {\n            model.set('cell_id', newId);\n            model.save_changes();\n            model.send({ type: 'cell_id_detected', value: newId });\n            mo.disconnect();\n          }\n        });\n        mo.observe(document.body, { attributes: true, subtree: true, attributeFilter: [ID_ATTR] });\n      }\n\n      // ---- styles: TWO states only (>=320px wide / <320px)\n      const css = `\n        .mljar-file-container {\n          display: flex;\n          flex-direction: column;\n          align-items: flex-start;\n          width: 100%;\n          margin-bottom: 1em;\n          container-type: inline-size;\n        }\n\n        .mljar-file-label { font-weight: 600; margin-bottom: 8px; }\n\n        .mljar-file-input-hidden {\n          position: absolute !important;\n          left: -9999px !important;\n          width: 1px !important; height: 1px !important;\n          opacity: 0 !important; overflow: hidden !important;\n          z-index: -1 !important;\n        }\n\n        .mljar-file-dropzone {\n          border: 2px dashed #bbb;\n          border-radius: 12px;\n          padding: 18px;\n          width: 100%;\n          max-width: 100%;\n          background: #fafbfc;\n          position: relative;\n          margin-bottom: 12px;\n          transition: border-color 0.2s, background 0.2s;\n          box-sizing: border-box;\n          display: block;\n          cursor: pointer;\n        }\n        .mljar-file-dropzone.dragover { border-color: #00b1e4; background: #e9f6fa; }\n        .mljar-file-drop-hint { font-size: 0.93em; color: #666; margin-top: 3px; }\n\n        .mljar-file-browse-btn {\n          background: #fff; \n          color: #007bff;\n\n          border: 2px solid #007bff;\n          border-radius: 4px !important;\n          padding: 6px 18px;\n          font-size: 1.08em; font-weight: 600;\n          cursor: pointer;\n          margin-top: 12px;\n          transition: background 0.2s, color 0.2s, border-color 0.2s;\n          position: absolute; right: 18px; bottom: 18px;\n        }\n        .mljar-file-browse-btn:hover { background: #007bff; color: #fff; }\n\n        .mljar-file-list {\n          list-style: none; margin: 0; padding: 0;\n          width: 100%; max-width: 100%;\n        }\n        .mljar-file-list-item { display: flex; align-items: center; margin-bottom: 2px; font-size: 1.06em; }\n        .mljar-file-icon { margin-right: 7px; }\n        .mljar-file-name { overflow: hidden; text-overflow: ellipsis; white-space: nowrap; max-width: calc(100% - 42px); }\n        .mljar-file-remove-btn { margin-left: 8px; background: none; border: none; color: #f44; font-size: 1.1em; cursor: pointer; font-weight: 700; }\n\n        /* ======= Container queries: ONE breakpoint ======= */\n        /* Narrow < 320px: stack button full width under text */\n        @container (max-width: 320px) {\n          .mljar-file-browse-btn {\n            position: static !important;\n            display: block;\n            width: 100%;\n            margin-top: 12px;\n          }\n        }\n      `;\n      const styleTag = document.createElement(\"style\");\n      styleTag.textContent = css;\n      el.appendChild(styleTag);\n\n      // Custom CSS hook\n      const extraCSS = model.get(\"custom_css\");\n      if (extraCSS && extraCSS.trim().length > 0) {\n        const extra = document.createElement(\"style\");\n        extra.textContent = extraCSS;\n        el.appendChild(extra);\n      }\n\n      // ---- Fallback when container queries unsupported: mirror single breakpoint\n      try {\n        const supportsContainer = CSS && CSS.supports && CSS.supports(\"(container-type: inline-size)\");\n        if (!supportsContainer && typeof ResizeObserver !== \"undefined\") {\n          const apply = () => {\n            const w = container.clientWidth || 0;\n            container.classList.toggle(\"cq-narrow\", w <= 320);\n          };\n          const ro = new ResizeObserver(apply);\n          ro.observe(container);\n          apply();\n\n          const fbCss = `\n            .mljar-file-container.cq-narrow .mljar-file-browse-btn {\n              position: static !important;\n              display: block;\n              width: 100%;\n              margin-top: 12px;\n            }\n          `;\n          const fb = document.createElement(\"style\");\n          fb.textContent = fbCss;\n          el.appendChild(fb);\n        }\n      } catch {}\n\n      updateList();\n    }\n    export default { render };\n    ",
       "_model_module": "anywidget",
       "_model_module_version": "~0.9.*",
       "_model_name": "AnyModel",
       "_view_module": "anywidget",
       "_view_module_version": "~0.9.*",
       "_view_name": "AnyView",
       "cell_id": "",
       "custom_css": "",
       "disabled": false,
       "filenames": [],
       "hidden": false,
       "key": "",
       "label": "Choose a file 123",
       "layout": "IPY_MODEL_dad41bcd1a564594b727ec106b36bc83",
       "max_file_size": "100MB",
       "multiple": true,
       "position": "sidebar",
       "values": []
      }
     },
     "dad41bcd1a564594b727ec106b36bc83": {
      "model_module": "@jupyter-widgets/base",
      "model_module_version": "2.0.0",
      "model_name": "LayoutModel",
      "state": {}
     }
    },
    "version_major": 2,
    "version_minor": 0
   }
  }
 },
 "nbformat": 4,
 "nbformat_minor": 5
}
