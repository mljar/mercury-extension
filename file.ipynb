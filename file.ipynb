{
 "cells": [
  {
   "cell_type": "code",
   "execution_count": 1,
   "id": "1bcfe957-aaa0-411a-ac2d-fcaf07ee2529",
   "metadata": {},
   "outputs": [],
   "source": [
    "from widgets.file import File"
   ]
  },
  {
   "cell_type": "code",
   "execution_count": 2,
   "id": "5d5f96d5-fa7a-49f9-91b5-6c6d526dab70",
   "metadata": {},
   "outputs": [
    {
     "data": {
      "application/mercury+json": "{\n    \"widget\": \"FileWidget\",\n    \"model_id\": \"f515254993af4f8e8e144c89fa593bd2\",\n    \"position\": \"sidebar\"\n}",
      "application/vnd.jupyter.widget-view+json": {
       "model_id": "f515254993af4f8e8e144c89fa593bd2",
       "version_major": 2,
       "version_minor": 1
      },
      "text/plain": [
       "FileWidget(multiple=True)"
      ]
     },
     "metadata": {},
     "output_type": "display_data"
    }
   ],
   "source": [
    "my_file = File(label=\"Choose a file\", multiple=True)"
   ]
  },
  {
   "cell_type": "code",
   "execution_count": 3,
   "id": "308b99d7-deda-49dd-bead-fae1e05f38ad",
   "metadata": {},
   "outputs": [],
   "source": [
    "my_file.name"
   ]
  },
  {
   "cell_type": "code",
   "execution_count": 4,
   "id": "14d1f00b-1f39-455a-b0b1-9faca6844986",
   "metadata": {},
   "outputs": [],
   "source": [
    "from widgets.download import Download"
   ]
  },
  {
   "cell_type": "code",
   "execution_count": 5,
   "id": "f32a16d9-c8d5-4f0f-af42-fd0999511882",
   "metadata": {},
   "outputs": [
    {
     "data": {
      "application/mercury+json": "{\n    \"widget\": \"DownloadWidget\",\n    \"model_id\": \"ae4ef485528141708b13f608ed62d6f1\",\n    \"position\": \"inline\"\n}",
      "application/vnd.jupyter.widget-view+json": {
       "model_id": "ae4ef485528141708b13f608ed62d6f1",
       "version_major": 2,
       "version_minor": 1
      },
      "text/plain": [
       "DownloadWidget(data='Hello world!', filename='hello.txt', label='Download text', position='inline')"
      ]
     },
     "metadata": {},
     "output_type": "display_data"
    }
   ],
   "source": [
    "a = Download(\"Hello world!\", filename=\"hello.txt\", label=\"Download text\", position=\"inline\")\n"
   ]
  },
  {
   "cell_type": "code",
   "execution_count": 6,
   "id": "f3299835-14ba-4b79-b100-45ebfe2614c0",
   "metadata": {},
   "outputs": [
    {
     "data": {
      "application/mercury+json": "{\n    \"widget\": \"FileWidget\",\n    \"model_id\": \"f515254993af4f8e8e144c89fa593bd2\",\n    \"position\": \"sidebar\"\n}",
      "application/vnd.jupyter.widget-view+json": {
       "model_id": "f515254993af4f8e8e144c89fa593bd2",
       "version_major": 2,
       "version_minor": 1
      },
      "text/plain": [
       "FileWidget(multiple=True)"
      ]
     },
     "execution_count": 6,
     "metadata": {},
     "output_type": "execute_result"
    }
   ],
   "source": [
    "my_file"
   ]
  },
  {
   "cell_type": "code",
   "execution_count": 21,
   "id": "eec46d93-cbac-4cd5-aead-5d1bc2511295",
   "metadata": {},
   "outputs": [],
   "source": [
    "import pandas as pd"
   ]
  },
  {
   "cell_type": "code",
   "execution_count": 22,
   "id": "defdc878-a0a9-4ce1-bce8-8c3d08fd5988",
   "metadata": {},
   "outputs": [],
   "source": [
    "df = pd.DataFrame({\"a\": [1,2,3]})"
   ]
  },
  {
   "cell_type": "code",
   "execution_count": 23,
   "id": "7b7a97fd-77b9-432c-8bd2-fb11b525e96a",
   "metadata": {},
   "outputs": [
    {
     "data": {
      "text/html": [
       "<div>\n",
       "<style scoped>\n",
       "    .dataframe tbody tr th:only-of-type {\n",
       "        vertical-align: middle;\n",
       "    }\n",
       "\n",
       "    .dataframe tbody tr th {\n",
       "        vertical-align: top;\n",
       "    }\n",
       "\n",
       "    .dataframe thead th {\n",
       "        text-align: right;\n",
       "    }\n",
       "</style>\n",
       "<table border=\"1\" class=\"dataframe\">\n",
       "  <thead>\n",
       "    <tr style=\"text-align: right;\">\n",
       "      <th></th>\n",
       "      <th>a</th>\n",
       "    </tr>\n",
       "  </thead>\n",
       "  <tbody>\n",
       "    <tr>\n",
       "      <th>0</th>\n",
       "      <td>1</td>\n",
       "    </tr>\n",
       "    <tr>\n",
       "      <th>1</th>\n",
       "      <td>2</td>\n",
       "    </tr>\n",
       "    <tr>\n",
       "      <th>2</th>\n",
       "      <td>3</td>\n",
       "    </tr>\n",
       "  </tbody>\n",
       "</table>\n",
       "</div>"
      ],
      "text/plain": [
       "   a\n",
       "0  1\n",
       "1  2\n",
       "2  3"
      ]
     },
     "execution_count": 23,
     "metadata": {},
     "output_type": "execute_result"
    }
   ],
   "source": [
    "df"
   ]
  },
  {
   "cell_type": "code",
   "execution_count": 24,
   "id": "ab384a62-f214-4881-be97-bb6ec8f64777",
   "metadata": {},
   "outputs": [],
   "source": [
    "def convert_for_download(df):\n",
    "    return df.to_csv().encode(\"utf-8\")"
   ]
  },
  {
   "cell_type": "code",
   "execution_count": 25,
   "id": "660396e1-5d7a-4eb8-91ae-fb12202a8f4c",
   "metadata": {},
   "outputs": [
    {
     "data": {
      "application/mercury+json": "{\n    \"widget\": \"DownloadWidget\",\n    \"model_id\": \"7c24aef758124e6fbd66e750db0d5187\",\n    \"position\": \"sidebar\"\n}",
      "application/vnd.jupyter.widget-view+json": {
       "model_id": "7c24aef758124e6fbd66e750db0d5187",
       "version_major": 2,
       "version_minor": 1
      },
      "text/plain": [
       "DownloadWidget(data=',a\\n0,1\\n1,2\\n2,3\\n', filename='hello.csv', label='Download CSV')"
      ]
     },
     "metadata": {},
     "output_type": "display_data"
    },
    {
     "data": {
      "application/mercury+json": "{\n    \"widget\": \"DownloadWidget\",\n    \"model_id\": \"fadb1d7987bc4267b3e443f804675a80\",\n    \"position\": \"sidebar\"\n}",
      "application/vnd.jupyter.widget-view+json": {
       "model_id": "fadb1d7987bc4267b3e443f804675a80",
       "version_major": 2,
       "version_minor": 1
      },
      "text/plain": [
       "DownloadWidget(data=',a\\n0,1\\n1,2\\n2,3\\n', filename='hello.csv', label='Download CSV 2')"
      ]
     },
     "metadata": {},
     "output_type": "display_data"
    }
   ],
   "source": [
    "a = Download(convert_for_download(df), filename=\"hello.csv\", label=\"Download CSV\")\n",
    "a2 = Download(convert_for_download(df), filename=\"hello.csv\", label=\"Download CSV 2\")\n"
   ]
  },
  {
   "cell_type": "code",
   "execution_count": 26,
   "id": "275c671d-3e16-4fac-b280-ad52333a3929",
   "metadata": {},
   "outputs": [],
   "source": [
    "import datetime"
   ]
  },
  {
   "cell_type": "code",
   "execution_count": 1,
   "id": "a45bd90f-9e48-48ed-af5d-2caab600996a",
   "metadata": {},
   "outputs": [
    {
     "ename": "NameError",
     "evalue": "name 'datetime' is not defined",
     "output_type": "error",
     "traceback": [
      "\u001b[0;31m---------------------------------------------------------------------------\u001b[0m",
      "\u001b[0;31mNameError\u001b[0m                                 Traceback (most recent call last)",
      "Cell \u001b[0;32mIn[1], line 1\u001b[0m\n\u001b[0;32m----> 1\u001b[0m \u001b[43mdatetime\u001b[49m\u001b[38;5;241m.\u001b[39mdatetime\u001b[38;5;241m.\u001b[39mnow()\n",
      "\u001b[0;31mNameError\u001b[0m: name 'datetime' is not defined"
     ]
    }
   ],
   "source": [
    "datetime.datetime.now()"
   ]
  },
  {
   "cell_type": "code",
   "execution_count": 2,
   "id": "35d1de7b-4266-4b5b-92a8-a1e74cffb4cf",
   "metadata": {},
   "outputs": [],
   "source": [
    "from widgets.md import Markdown"
   ]
  },
  {
   "cell_type": "code",
   "execution_count": null,
   "id": "a9e3325e-c24e-4c9b-99f8-57bb4ffb16c2",
   "metadata": {},
   "outputs": [],
   "source": []
  }
 ],
 "metadata": {
  "kernelspec": {
   "display_name": "Python 3 (ipykernel)",
   "language": "python",
   "name": "python3"
  },
  "language_info": {
   "codemirror_mode": {
    "name": "ipython",
    "version": 3
   },
   "file_extension": ".py",
   "mimetype": "text/x-python",
   "name": "python",
   "nbconvert_exporter": "python",
   "pygments_lexer": "ipython3",
   "version": "3.11.5"
  },
  "widgets": {
   "application/vnd.jupyter.widget-state+json": {
    "state": {},
    "version_major": 2,
    "version_minor": 0
   }
  }
 },
 "nbformat": 4,
 "nbformat_minor": 5
}
