{
 "cells": [
  {
   "cell_type": "code",
   "execution_count": 1,
   "id": "4f241f86-2cb9-4326-9d4d-f9ea9acc9bd7",
   "metadata": {},
   "outputs": [],
   "source": [
    "from widgets.chat.chat import Chat"
   ]
  },
  {
   "cell_type": "code",
   "execution_count": 2,
   "id": "e9a367b2-cf37-4ce1-ab91-dcf1d9b41eaa",
   "metadata": {},
   "outputs": [],
   "source": [
    "from widgets.chat.message import Message"
   ]
  },
  {
   "cell_type": "code",
   "execution_count": 3,
   "id": "32b41d4a-b63d-4911-bf22-ff822848a109",
   "metadata": {},
   "outputs": [],
   "source": [
    "from widgets.chat.chatinput import ChatInput"
   ]
  },
  {
   "cell_type": "code",
   "execution_count": 4,
   "id": "7203001e-59ac-4a6a-9611-0624664cd9eb",
   "metadata": {},
   "outputs": [],
   "source": [
    "msgs = []"
   ]
  },
  {
   "cell_type": "code",
   "execution_count": 5,
   "id": "5bdb7d96-b5dd-46d7-9eee-f46d228809d7",
   "metadata": {},
   "outputs": [
    {
     "data": {
      "application/vnd.jupyter.widget-view+json": {
       "model_id": "971ac10646124651b94d77eafcf1b66f",
       "version_major": 2,
       "version_minor": 0
      },
      "text/plain": [
       "VBox(children=(HTML(value='\\n            <div style=\"\\n              color:#b5b5b5;\\n              text-align:…"
      ]
     },
     "metadata": {},
     "output_type": "display_data"
    },
    {
     "data": {
      "application/vnd.jupyter.widget-view+json": {
       "model_id": "5dcb8840c11648eca58fded5cd604bd1",
       "version_major": 2,
       "version_minor": 0
      },
      "text/plain": [
       "Output()"
      ]
     },
     "metadata": {},
     "output_type": "display_data"
    }
   ],
   "source": [
    "\n",
    "chat = Chat()"
   ]
  },
  {
   "cell_type": "code",
   "execution_count": 6,
   "id": "e2c90d07-7d63-4d0f-b71c-f95060833ac8",
   "metadata": {},
   "outputs": [
    {
     "data": {
      "application/mercury+json": "{\n    \"widget\": \"ChatInputWidget\",\n    \"model_id\": \"803e351d48f9491bacc6b5e223f93705\",\n    \"position\": \"bottom\"\n}",
      "application/vnd.jupyter.widget-view+json": {
       "model_id": "803e351d48f9491bacc6b5e223f93705",
       "version_major": 2,
       "version_minor": 1
      },
      "text/plain": [
       "ChatInputWidget()"
      ]
     },
     "metadata": {},
     "output_type": "display_data"
    }
   ],
   "source": [
    "chat_input = ChatInput(key=\"main-chat\")  # "
   ]
  },
  {
   "cell_type": "code",
   "execution_count": 37,
   "id": "af78b790-c6d0-430c-acbb-8a7c5edc60c6",
   "metadata": {},
   "outputs": [
    {
     "name": "stdout",
     "output_type": "stream",
     "text": [
      "2025-10-08 13:54:27.105288\n"
     ]
    }
   ],
   "source": [
    "from datetime import datetime\n",
    "print(datetime.now())"
   ]
  },
  {
   "cell_type": "code",
   "execution_count": 38,
   "id": "8ebad5b6-0f79-4861-b7e5-37a6bf5f097c",
   "metadata": {},
   "outputs": [],
   "source": [
    "import pandas as pd\n",
    "df = pd.DataFrame({\"a\": [1,2]})"
   ]
  },
  {
   "cell_type": "code",
   "execution_count": 39,
   "id": "fc101ae9-b748-4b8e-9b35-d0e5c936959e",
   "metadata": {},
   "outputs": [],
   "source": [
    "import time\n",
    "def responder(user_text: str):\n",
    "    time.sleep(1)\n",
    "    text = f\"Echo: {user_text}\"\n",
    "    for ch in text:\n",
    "        yield ch\n",
    "        time.sleep(0.05)  # simulate delay"
   ]
  },
  {
   "cell_type": "code",
   "execution_count": 40,
   "id": "6ffbb6e5-14d0-4e24-bcf3-49bcf3ea26a6",
   "metadata": {},
   "outputs": [],
   "source": [
    "from IPython.display import display, Markdown as md\n",
    "\n",
    "\n",
    "def Markdown(text=\"hello\"):\n",
    "    display(md(text))"
   ]
  },
  {
   "cell_type": "code",
   "execution_count": 40,
   "id": "15122bac-9ce7-4b3b-95a4-efdc26c7e59e",
   "metadata": {},
   "outputs": [],
   "source": [
    "\n"
   ]
  },
  {
   "cell_type": "code",
   "execution_count": 41,
   "id": "1a0ea556-c62c-49e7-8ccf-e22ff23abdf9",
   "metadata": {},
   "outputs": [],
   "source": [
    "# Read the internal-ish field the widget wrote when user pressed Send/Enter\n",
    "msg = (chat_input.value or \"\").strip()\n",
    "\n",
    "if msg:\n",
    "    # 1) render user message\n",
    "    \n",
    "    chat.add_text(role=\"user\", emoji=\"👤\", text=msg)\n",
    "\n",
    "    # 2) typing placeholder\n",
    "    bot_msg = Message(role=\"assistant\", emoji=\"🤖\")\n",
    "    #bot_msg.set_message(text=\"Typing...\")\n",
    "    bot_msg.set_gradient_text(\"Thinking hard 🤔\")\n",
    "    chat.add(bot_msg)\n",
    "     # stream chunks\n",
    "    try:\n",
    "        for chunk in responder(msg):\n",
    "            bot_msg.append_markdown(chunk)\n",
    "    except Exception as e:\n",
    "        bot_msg.set_message(markdown=f\"⚠️ **Error:** {e}\")\n",
    "\n",
    "    if msg == \"plot\":\n",
    "        from matplotlib import pyplot as plt\n",
    "        with bot_msg:\n",
    "            fig, ax = plt.subplots()\n",
    "            ax.plot([1,2], [4,5])\n",
    "            display(fig)\n",
    "            plt.close(fig)\n",
    "    msgs += [bot_msg]\n",
    "    chat_input.value = \"\"\n"
   ]
  },
  {
   "cell_type": "code",
   "execution_count": 41,
   "id": "3f59affd-c19f-4353-85c8-bae1cdba8561",
   "metadata": {},
   "outputs": [],
   "source": []
  },
  {
   "cell_type": "code",
   "execution_count": 41,
   "id": "784c3e5c-1942-4d2d-a450-3c3a8d2efbcd",
   "metadata": {},
   "outputs": [],
   "source": []
  }
 ],
 "metadata": {
  "kernelspec": {
   "display_name": "Python 3 (ipykernel)",
   "language": "python",
   "name": "python3"
  },
  "language_info": {
   "codemirror_mode": {
    "name": "ipython",
    "version": 3
   },
   "file_extension": ".py",
   "mimetype": "text/x-python",
   "name": "python",
   "nbconvert_exporter": "python",
   "pygments_lexer": "ipython3",
   "version": "3.11.5"
  },
  "widgets": {
   "application/vnd.jupyter.widget-state+json": {
    "state": {},
    "version_major": 2,
    "version_minor": 0
   }
  }
 },
 "nbformat": 4,
 "nbformat_minor": 5
}
