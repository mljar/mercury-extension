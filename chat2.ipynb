{
 "cells": [
  {
   "cell_type": "code",
   "execution_count": 1,
   "id": "4f241f86-2cb9-4326-9d4d-f9ea9acc9bd7",
   "metadata": {},
   "outputs": [],
   "source": [
    "from widgets.chat.chat import Chat"
   ]
  },
  {
   "cell_type": "code",
   "execution_count": 2,
   "id": "e9a367b2-cf37-4ce1-ab91-dcf1d9b41eaa",
   "metadata": {},
   "outputs": [],
   "source": [
    "from widgets.chat.message import Message"
   ]
  },
  {
   "cell_type": "code",
   "execution_count": 3,
   "id": "32b41d4a-b63d-4911-bf22-ff822848a109",
   "metadata": {},
   "outputs": [],
   "source": [
    "from widgets.chat.chatinput import ChatInput"
   ]
  },
  {
   "cell_type": "code",
   "execution_count": 4,
   "id": "7203001e-59ac-4a6a-9611-0624664cd9eb",
   "metadata": {},
   "outputs": [],
   "source": [
    "msgs = []"
   ]
  },
  {
   "cell_type": "code",
   "execution_count": 5,
   "id": "5bdb7d96-b5dd-46d7-9eee-f46d228809d7",
   "metadata": {},
   "outputs": [
    {
     "data": {
      "application/vnd.jupyter.widget-view+json": {
       "model_id": "57e22b6313e14255af494c4f0166cf24",
       "version_major": 2,
       "version_minor": 0
      },
      "text/plain": [
       "VBox(children=(HTML(value='\\n            <div style=\"\\n              color:#b5b5b5;\\n              text-align:…"
      ]
     },
     "metadata": {},
     "output_type": "display_data"
    },
    {
     "data": {
      "application/vnd.jupyter.widget-view+json": {
       "model_id": "436ad0e73bb0499b85e98220ff0bfa75",
       "version_major": 2,
       "version_minor": 0
      },
      "text/plain": [
       "Output()"
      ]
     },
     "metadata": {},
     "output_type": "display_data"
    }
   ],
   "source": [
    "\n",
    "chat = Chat()"
   ]
  },
  {
   "cell_type": "code",
   "execution_count": 6,
   "id": "e2c90d07-7d63-4d0f-b71c-f95060833ac8",
   "metadata": {},
   "outputs": [
    {
     "data": {
      "application/mercury+json": "{\n    \"widget\": \"ChatInputWidget\",\n    \"model_id\": \"1c1c45342f0b406cb1b342888eb32a36\",\n    \"position\": \"bottom\"\n}",
      "application/vnd.jupyter.widget-view+json": {
       "model_id": "1c1c45342f0b406cb1b342888eb32a36",
       "version_major": 2,
       "version_minor": 1
      },
      "text/plain": [
       "ChatInputWidget()"
      ]
     },
     "metadata": {},
     "output_type": "display_data"
    }
   ],
   "source": [
    "chat_input = ChatInput(key=\"main-chat\")  # "
   ]
  },
  {
   "cell_type": "code",
   "execution_count": 7,
   "id": "af78b790-c6d0-430c-acbb-8a7c5edc60c6",
   "metadata": {},
   "outputs": [
    {
     "name": "stdout",
     "output_type": "stream",
     "text": [
      "2025-10-08 15:31:43.742592\n"
     ]
    }
   ],
   "source": [
    "from datetime import datetime\n",
    "print(datetime.now())"
   ]
  },
  {
   "cell_type": "code",
   "execution_count": 8,
   "id": "8ebad5b6-0f79-4861-b7e5-37a6bf5f097c",
   "metadata": {},
   "outputs": [],
   "source": [
    "import pandas as pd\n",
    "df = pd.DataFrame({\"a\": [1,2]})"
   ]
  },
  {
   "cell_type": "code",
   "execution_count": 9,
   "id": "fc101ae9-b748-4b8e-9b35-d0e5c936959e",
   "metadata": {},
   "outputs": [],
   "source": [
    "import time\n",
    "def responder(user_text: str):\n",
    "    time.sleep(1)\n",
    "    text = f\"Echo: {user_text}\"\n",
    "    for ch in text:\n",
    "        yield ch\n",
    "        time.sleep(0.05)  # simulate delay"
   ]
  },
  {
   "cell_type": "code",
   "execution_count": 10,
   "id": "6ffbb6e5-14d0-4e24-bcf3-49bcf3ea26a6",
   "metadata": {},
   "outputs": [],
   "source": [
    "from IPython.display import display, Markdown as md\n",
    "\n",
    "\n",
    "def Markdown(text=\"hello\"):\n",
    "    display(md(text))"
   ]
  },
  {
   "cell_type": "code",
   "execution_count": 10,
   "id": "15122bac-9ce7-4b3b-95a4-efdc26c7e59e",
   "metadata": {},
   "outputs": [],
   "source": [
    "\n"
   ]
  },
  {
   "cell_type": "code",
   "execution_count": 11,
   "id": "1a0ea556-c62c-49e7-8ccf-e22ff23abdf9",
   "metadata": {},
   "outputs": [],
   "source": [
    "# Read the internal-ish field the widget wrote when user pressed Send/Enter\n",
    "msg = (chat_input.value or \"\").strip()\n",
    "\n",
    "if msg:\n",
    "    # 1) render user message\n",
    "    \n",
    "    chat.add_text(role=\"user\", emoji=\"👤\", text=msg)\n",
    "\n",
    "    # 2) typing placeholder\n",
    "    bot_msg = Message(role=\"assistant\", emoji=\"🤖\")\n",
    "    #bot_msg.set_message(text=\"Typing...\")\n",
    "    bot_msg.set_gradient_text(\"Thinking hard 🤔\")\n",
    "    chat.add(bot_msg)\n",
    "     # stream chunks\n",
    "    try:\n",
    "        for chunk in responder(msg):\n",
    "            bot_msg.append_markdown(chunk)\n",
    "    except Exception as e:\n",
    "        bot_msg.set_message(markdown=f\"⚠️ **Error:** {e}\")\n",
    "\n",
    "    if msg == \"plot\":\n",
    "        from matplotlib import pyplot as plt\n",
    "        with bot_msg:\n",
    "            fig, ax = plt.subplots()\n",
    "            ax.plot([1,2], [4,5])\n",
    "            display(fig)\n",
    "            plt.close(fig)\n",
    "    msgs += [bot_msg]\n",
    "    chat_input.value = \"\"\n"
   ]
  },
  {
   "cell_type": "code",
   "execution_count": 11,
   "id": "3f59affd-c19f-4353-85c8-bae1cdba8561",
   "metadata": {},
   "outputs": [],
   "source": []
  },
  {
   "cell_type": "code",
   "execution_count": 11,
   "id": "784c3e5c-1942-4d2d-a450-3c3a8d2efbcd",
   "metadata": {},
   "outputs": [],
   "source": []
  }
 ],
 "metadata": {
  "kernelspec": {
   "display_name": "Python 3 (ipykernel)",
   "language": "python",
   "name": "python3"
  },
  "language_info": {
   "codemirror_mode": {
    "name": "ipython",
    "version": 3
   },
   "file_extension": ".py",
   "mimetype": "text/x-python",
   "name": "python",
   "nbconvert_exporter": "python",
   "pygments_lexer": "ipython3",
   "version": "3.11.5"
  },
  "widgets": {
   "application/vnd.jupyter.widget-state+json": {
    "state": {
     "1c1c45342f0b406cb1b342888eb32a36": {
      "model_module": "anywidget",
      "model_module_version": "~0.9.*",
      "model_name": "AnyModel",
      "state": {
       "_anywidget_id": "widgets.chat.chatinput.ChatInputWidget",
       "_css": "\n    .mljar-chatinput-container {\n        display: flex;\n        flex-direction: row;\n        align-items: center;\n        width: 100%;\n        min-width: 160px;\n        box-sizing: border-box;\n        gap: 8px;\n        font-family: Arial, sans-serif;\n        font-size: 12px;\n        color: #222222;\n    }\n\n    .mljar-chatinput-input {\n        flex: 1 1 auto;\n        width: 100%;\n        border: 1px solid #cccccc;\n        border-radius: 4px;\n        padding: 6px 10px;\n        min-height: 1.6em;\n        background: #ebf0fa;\n        color: #222222;\n        box-sizing: border-box;\n    }\n    .mljar-chatinput-input:focus {\n        outline: none;\n        border-color: #007bff;\n    }\n\n    .mljar-chatinput-button {\n        flex: 0 0 auto;\n        border: none;\n        border-radius: 4px;\n        padding: 6px 12px;\n        min-height: 1.6em;\n        cursor: pointer;\n        background: #007bff;\n        color: #fff;\n        font-weight: bold;\n    }\n    .mljar-chatinput-button:hover {\n        filter: brightness(0.95);\n    }\n    ",
       "_esm": "\n    function render({ model, el }) {\n      const container = document.createElement(\"div\");\n      container.classList.add(\"mljar-chatinput-container\");\n\n      const input = document.createElement(\"input\");\n      input.type = \"text\";\n      input.placeholder = model.get(\"placeholder\") || \"Type a message...\";\n      input.value = model.get(\"value\") || \"\";\n      input.classList.add(\"mljar-chatinput-input\");\n\n      const btn = document.createElement(\"button\");\n      btn.type = \"button\";\n      btn.classList.add(\"mljar-chatinput-button\");\n      btn.textContent = model.get(\"button_icon\") || \"➤\";\n      btn.setAttribute(\"aria-label\", \"Send message\");\n\n      container.appendChild(input);\n      container.appendChild(btn);\n      el.appendChild(container);\n\n      // Keep input in sync if Python changes 'value' (e.g., programmatic set/restore)\n      model.on(\"change:value\", () => {\n        const newVal = model.get(\"value\") ?? \"\";\n        if (input.value !== newVal) input.value = newVal;\n      });\n\n      // Submit logic: update _submitted and value ONLY here\n      const sendMessage = () => {\n        const msg = (input.value || \"\").trim();\n        if (!msg) return;\n\n        // Signal to kernel\n        model.set(\"_submitted\", msg);\n\n        // Update public 'value' ONLY at submit time\n        model.set(\"value\", msg);\n\n        // Clear visible input (does NOT touch model 'value')\n        input.value = \"\";\n\n        // Persist once\n        model.save_changes();\n      };\n\n      btn.addEventListener(\"click\", sendMessage);\n\n      input.addEventListener(\"keydown\", (ev) => {\n        const sendOnEnter = !!model.get(\"send_on_enter\");\n        if (!sendOnEnter) return;\n        if (ev.key === \"Enter\" && !ev.shiftKey) {\n          ev.preventDefault();\n          sendMessage();\n        }\n      });\n\n      // Custom CSS hook\n      const css = model.get(\"custom_css\");\n      if (css && css.trim().length > 0) {\n        const styleTag = document.createElement(\"style\");\n        styleTag.textContent = css;\n        el.appendChild(styleTag);\n      }\n    }\n    export default { render };\n    ",
       "_model_module": "anywidget",
       "_model_module_version": "~0.9.*",
       "_model_name": "AnyModel",
       "_submitted": "",
       "_view_module": "anywidget",
       "_view_module_version": "~0.9.*",
       "_view_name": "AnyView",
       "button_icon": "➤",
       "custom_css": "",
       "layout": "IPY_MODEL_e27cfea705824bada91b3e7d5c713bd3",
       "placeholder": "Type a message...",
       "position": "bottom",
       "send_on_enter": true,
       "value": ""
      }
     },
     "28845bcfa557426b9e00440e3656b583": {
      "model_module": "@jupyter-widgets/base",
      "model_module_version": "2.0.0",
      "model_name": "LayoutModel",
      "state": {
       "padding": "4px",
       "width": "100%"
      }
     },
     "436ad0e73bb0499b85e98220ff0bfa75": {
      "model_module": "@jupyter-widgets/output",
      "model_module_version": "1.0.0",
      "model_name": "OutputModel",
      "state": {
       "layout": "IPY_MODEL_78ed40255b23471bb8ffc850ff9c2c1d"
      }
     },
     "57e22b6313e14255af494c4f0166cf24": {
      "model_module": "@jupyter-widgets/controls",
      "model_module_version": "2.0.0",
      "model_name": "VBoxModel",
      "state": {
       "_dom_classes": [
        "mljar-chat-52b849a9"
       ],
       "children": [
        "IPY_MODEL_c3e95741c4d84d4cbf0dffb6f2512992"
       ],
       "layout": "IPY_MODEL_28845bcfa557426b9e00440e3656b583"
      }
     },
     "593bbc5eefdc4124b52dd6cd55baf9ae": {
      "model_module": "@jupyter-widgets/controls",
      "model_module_version": "2.0.0",
      "model_name": "HTMLStyleModel",
      "state": {
       "description_width": "",
       "font_size": null,
       "text_color": null
      }
     },
     "78ed40255b23471bb8ffc850ff9c2c1d": {
      "model_module": "@jupyter-widgets/base",
      "model_module_version": "2.0.0",
      "model_name": "LayoutModel",
      "state": {}
     },
     "8e420b55905644a99ba81df5300b1115": {
      "model_module": "@jupyter-widgets/base",
      "model_module_version": "2.0.0",
      "model_name": "LayoutModel",
      "state": {}
     },
     "c3e95741c4d84d4cbf0dffb6f2512992": {
      "model_module": "@jupyter-widgets/controls",
      "model_module_version": "2.0.0",
      "model_name": "HTMLModel",
      "state": {
       "layout": "IPY_MODEL_8e420b55905644a99ba81df5300b1115",
       "style": "IPY_MODEL_593bbc5eefdc4124b52dd6cd55baf9ae",
       "value": "\n            <div style=\"\n              color:#b5b5b5;\n              text-align:center;\n              padding:40px 0;\n              font-size:1.1em;\n              background:#fff;\n            \">💬 No messages yet. Start the conversation!</div>\n            "
      }
     },
     "e27cfea705824bada91b3e7d5c713bd3": {
      "model_module": "@jupyter-widgets/base",
      "model_module_version": "2.0.0",
      "model_name": "LayoutModel",
      "state": {}
     }
    },
    "version_major": 2,
    "version_minor": 0
   }
  }
 },
 "nbformat": 4,
 "nbformat_minor": 5
}
