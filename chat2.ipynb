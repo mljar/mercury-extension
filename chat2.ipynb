{
 "cells": [
  {
   "cell_type": "code",
   "execution_count": 1,
   "id": "4f241f86-2cb9-4326-9d4d-f9ea9acc9bd7",
   "metadata": {},
   "outputs": [],
   "source": [
    "from widgets.chat.chat import Chat"
   ]
  },
  {
   "cell_type": "code",
   "execution_count": 2,
   "id": "e9a367b2-cf37-4ce1-ab91-dcf1d9b41eaa",
   "metadata": {},
   "outputs": [],
   "source": [
    "from widgets.chat.message import Message"
   ]
  },
  {
   "cell_type": "code",
   "execution_count": 3,
   "id": "32b41d4a-b63d-4911-bf22-ff822848a109",
   "metadata": {},
   "outputs": [],
   "source": [
    "from widgets.chat.chatinput import ChatInput"
   ]
  },
  {
   "cell_type": "code",
   "execution_count": 3,
   "id": "785331f3-af43-4950-a6de-3b97fdcfb579",
   "metadata": {},
   "outputs": [],
   "source": []
  },
  {
   "cell_type": "code",
   "execution_count": 4,
   "id": "7203001e-59ac-4a6a-9611-0624664cd9eb",
   "metadata": {},
   "outputs": [],
   "source": [
    "msgs = []"
   ]
  },
  {
   "cell_type": "code",
   "execution_count": 5,
   "id": "5bdb7d96-b5dd-46d7-9eee-f46d228809d7",
   "metadata": {},
   "outputs": [
    {
     "data": {
      "application/vnd.jupyter.widget-view+json": {
       "model_id": "2c11782194704e8788f5b61800809a60",
       "version_major": 2,
       "version_minor": 0
      },
      "text/plain": [
       "VBox(children=(HTML(value='\\n            <div style=\"\\n              color:#b5b5b5;\\n              text-align:…"
      ]
     },
     "metadata": {},
     "output_type": "display_data"
    },
    {
     "data": {
      "application/vnd.jupyter.widget-view+json": {
       "model_id": "6751a095f21e42c1b64f95057fb99d65",
       "version_major": 2,
       "version_minor": 0
      },
      "text/plain": [
       "Output()"
      ]
     },
     "metadata": {},
     "output_type": "display_data"
    }
   ],
   "source": [
    "\n",
    "chat = Chat()"
   ]
  },
  {
   "cell_type": "code",
   "execution_count": 6,
   "id": "e2c90d07-7d63-4d0f-b71c-f95060833ac8",
   "metadata": {},
   "outputs": [
    {
     "data": {
      "application/mercury+json": "{\n    \"widget\": \"ChatInputWidget\",\n    \"model_id\": \"8cf808b4bd7e4a4ab1bde5275d96d136\",\n    \"position\": \"bottom\"\n}",
      "application/vnd.jupyter.widget-view+json": {
       "model_id": "8cf808b4bd7e4a4ab1bde5275d96d136",
       "version_major": 2,
       "version_minor": 1
      },
      "text/plain": [
       "ChatInputWidget()"
      ]
     },
     "metadata": {},
     "output_type": "display_data"
    }
   ],
   "source": [
    "chat_input = ChatInput()  # "
   ]
  },
  {
   "cell_type": "code",
   "execution_count": 32,
   "id": "af78b790-c6d0-430c-acbb-8a7c5edc60c6",
   "metadata": {},
   "outputs": [
    {
     "name": "stdout",
     "output_type": "stream",
     "text": [
      "2025-10-09 10:26:13.769667\n"
     ]
    }
   ],
   "source": [
    "from datetime import datetime\n",
    "print(datetime.now())"
   ]
  },
  {
   "cell_type": "code",
   "execution_count": 33,
   "id": "8ebad5b6-0f79-4861-b7e5-37a6bf5f097c",
   "metadata": {},
   "outputs": [],
   "source": [
    "import pandas as pd\n",
    "df = pd.DataFrame({\"a\": [1,2]})"
   ]
  },
  {
   "cell_type": "code",
   "execution_count": 34,
   "id": "fc101ae9-b748-4b8e-9b35-d0e5c936959e",
   "metadata": {},
   "outputs": [],
   "source": [
    "import time\n",
    "def responder(user_text: str):\n",
    "    time.sleep(1)\n",
    "    text = f\"Echo: {user_text}\"\n",
    "    for ch in text:\n",
    "        yield ch\n",
    "        time.sleep(0.05)  # simulate delay"
   ]
  },
  {
   "cell_type": "code",
   "execution_count": 35,
   "id": "6ffbb6e5-14d0-4e24-bcf3-49bcf3ea26a6",
   "metadata": {},
   "outputs": [],
   "source": [
    "from IPython.display import display, Markdown as md\n",
    "\n",
    "\n",
    "def Markdown(text=\"hello\"):\n",
    "    display(md(text))"
   ]
  },
  {
   "cell_type": "code",
   "execution_count": 35,
   "id": "15122bac-9ce7-4b3b-95a4-efdc26c7e59e",
   "metadata": {},
   "outputs": [],
   "source": [
    "\n"
   ]
  },
  {
   "cell_type": "code",
   "execution_count": 36,
   "id": "1a0ea556-c62c-49e7-8ccf-e22ff23abdf9",
   "metadata": {},
   "outputs": [],
   "source": [
    "# Read the internal-ish field the widget wrote when user pressed Send/Enter\n",
    "msg = (chat_input.submitted or \"\").strip()\n",
    "\n",
    "if msg:\n",
    "    # 1) render user message\n",
    "    \n",
    "    user_msg = Message(role=\"user\", emoji=\"👤\")\n",
    "    user_msg.set_message(markdown=msg)\n",
    "    user_msg.set_message(markdown=msg)\n",
    "    chat.add(user_msg)\n",
    "\n",
    "    # 2) typing placeholder\n",
    "    bot_msg = Message(role=\"assistant\", emoji=\"🤖\")\n",
    "    #bot_msg.set_message(text=\"Typing...\")\n",
    "    bot_msg.set_gradient_text(\"Thinking hard 🤔\")\n",
    "    chat.add(bot_msg)\n",
    "     # stream chunks\n",
    "    try:\n",
    "        for chunk in responder(msg):\n",
    "            bot_msg.append_markdown(chunk)\n",
    "    except Exception as e:\n",
    "        bot_msg.set_message(markdown=f\"⚠️ **Error:** {e}\")\n",
    "\n",
    "    if msg == \"plot\":\n",
    "        from matplotlib import pyplot as plt\n",
    "        with bot_msg:\n",
    "            fig, ax = plt.subplots()\n",
    "            ax.plot([1,2], [4,5])\n",
    "            display(fig)\n",
    "            plt.close(fig)\n",
    "    msgs += [bot_msg]\n",
    "    chat_input.submitted = \"\"\n"
   ]
  },
  {
   "cell_type": "code",
   "execution_count": 37,
   "id": "3f59affd-c19f-4353-85c8-bae1cdba8561",
   "metadata": {},
   "outputs": [
    {
     "data": {
      "text/plain": [
       "''"
      ]
     },
     "execution_count": 37,
     "metadata": {},
     "output_type": "execute_result"
    }
   ],
   "source": [
    "chat_input.submitted"
   ]
  },
  {
   "cell_type": "code",
   "execution_count": 37,
   "id": "784c3e5c-1942-4d2d-a450-3c3a8d2efbcd",
   "metadata": {},
   "outputs": [],
   "source": []
  }
 ],
 "metadata": {
  "kernelspec": {
   "display_name": "Python 3 (ipykernel)",
   "language": "python",
   "name": "python3"
  },
  "language_info": {
   "codemirror_mode": {
    "name": "ipython",
    "version": 3
   },
   "file_extension": ".py",
   "mimetype": "text/x-python",
   "name": "python",
   "nbconvert_exporter": "python",
   "pygments_lexer": "ipython3",
   "version": "3.11.5"
  },
  "widgets": {
   "application/vnd.jupyter.widget-state+json": {
    "state": {
     "04a76c2a8c524f8c8287b54336889a95": {
      "model_module": "@jupyter-widgets/base",
      "model_module_version": "2.0.0",
      "model_name": "LayoutModel",
      "state": {
       "align_self": "flex-start",
       "margin": "8px 0 0 0"
      }
     },
     "051010657f894cecad15a7bf0a3ab4c6": {
      "model_module": "@jupyter-widgets/base",
      "model_module_version": "2.0.0",
      "model_name": "LayoutModel",
      "state": {}
     },
     "0517f1a4894a44abaa32c7dbb553bb76": {
      "model_module": "@jupyter-widgets/base",
      "model_module_version": "2.0.0",
      "model_name": "LayoutModel",
      "state": {
       "align_items": "flex-start"
      }
     },
     "0ad5519a356a4818ba3176487d362176": {
      "model_module": "@jupyter-widgets/output",
      "model_module_version": "1.0.0",
      "model_name": "OutputModel",
      "state": {
       "_dom_classes": [
        "mljar-chat-msg"
       ],
       "layout": "IPY_MODEL_c52d164bb9e344b6907d85082811af05",
       "outputs": [
        {
         "data": {
          "text/markdown": "Echo: asdf asd",
          "text/plain": "<IPython.core.display.Markdown object>"
         },
         "metadata": {},
         "output_type": "display_data"
        }
       ]
      }
     },
     "0cef1bec9db54450a33a9b7f9dd210a1": {
      "model_module": "@jupyter-widgets/controls",
      "model_module_version": "2.0.0",
      "model_name": "HTMLModel",
      "state": {
       "layout": "IPY_MODEL_d89c058ffd924dba833eb6381a96b0db",
       "style": "IPY_MODEL_2d8cf5de24b84d59bd4a5fa09aff611a",
       "value": "<div style=\"width:36px;height:36px;background:#eeeeee;border-radius:12px;display:flex;align-items:center;justify-content:center;box-shadow:0 1px 4px rgba(60,60,60,0.10);\"><span style=\"font-size:18px;line-height:1;\">🤖</span></div>"
      }
     },
     "15d34126451f43da87c6dd16203a325e": {
      "model_module": "@jupyter-widgets/output",
      "model_module_version": "1.0.0",
      "model_name": "OutputModel",
      "state": {
       "_dom_classes": [
        "mljar-chat-msg"
       ],
       "layout": "IPY_MODEL_04a76c2a8c524f8c8287b54336889a95",
       "outputs": [
        {
         "data": {
          "text/markdown": "Echo: aaa",
          "text/plain": "<IPython.core.display.Markdown object>"
         },
         "metadata": {},
         "output_type": "display_data"
        }
       ]
      }
     },
     "1c31c052cf8f4148b7dc5085dda5cf1f": {
      "model_module": "@jupyter-widgets/base",
      "model_module_version": "2.0.0",
      "model_name": "LayoutModel",
      "state": {
       "align_self": "flex-start",
       "margin": "0 8px 8px 0"
      }
     },
     "245ec7ad13d64e089db6ea67f0237f14": {
      "model_module": "@jupyter-widgets/controls",
      "model_module_version": "2.0.0",
      "model_name": "HTMLModel",
      "state": {
       "layout": "IPY_MODEL_1c31c052cf8f4148b7dc5085dda5cf1f",
       "style": "IPY_MODEL_304d07ce4adb4d4385e9254fe6a209e6",
       "value": "<div style=\"width:36px;height:36px;background:#84c4ff;border-radius:12px;display:flex;align-items:center;justify-content:center;box-shadow:0 1px 4px rgba(60,60,60,0.10);\"><span style=\"font-size:18px;line-height:1;\">👤</span></div>"
      }
     },
     "2821de67a22948a5983f0da530bd6c26": {
      "model_module": "@jupyter-widgets/controls",
      "model_module_version": "2.0.0",
      "model_name": "HTMLModel",
      "state": {
       "layout": "IPY_MODEL_90d90458da3348fa9450acae5bb297d1",
       "style": "IPY_MODEL_6b080c9f45744d8db93c12b93f4af8ff",
       "value": "<div style=\"width:36px;height:36px;background:#eeeeee;border-radius:12px;display:flex;align-items:center;justify-content:center;box-shadow:0 1px 4px rgba(60,60,60,0.10);\"><span style=\"font-size:18px;line-height:1;\">🤖</span></div>"
      }
     },
     "2bcae782cde846c8beee9adc4b3fbbaa": {
      "model_module": "@jupyter-widgets/controls",
      "model_module_version": "2.0.0",
      "model_name": "HBoxModel",
      "state": {
       "children": [
        "IPY_MODEL_bce31b084cda455ca0bfc382e3779054",
        "IPY_MODEL_ae29dade8d3547179e72c180780cd3a6"
       ],
       "layout": "IPY_MODEL_8e6408f1cdc84cda8477bceed0ba4f6e"
      }
     },
     "2c11782194704e8788f5b61800809a60": {
      "model_module": "@jupyter-widgets/controls",
      "model_module_version": "2.0.0",
      "model_name": "VBoxModel",
      "state": {
       "_dom_classes": [
        "mljar-chat-2b5d6105"
       ],
       "children": [
        "IPY_MODEL_c735c422de7f42c88d503449f782430a",
        "IPY_MODEL_91c103a26dd243d6baf1441a855d7c77",
        "IPY_MODEL_2bcae782cde846c8beee9adc4b3fbbaa",
        "IPY_MODEL_c4b68b17bc204809a1029056e2636812",
        "IPY_MODEL_8ae404343f2a47cbac6bdba7fa3b59a8",
        "IPY_MODEL_45030ce2f3f24c6e8974b0e2b83845b9",
        "IPY_MODEL_b86870c18a384f49aac9293e51c61497",
        "IPY_MODEL_919f19e666084f259befa4ed1817b2fb"
       ],
       "layout": "IPY_MODEL_e8f18661000c43abb99eb850e55bf4cc"
      }
     },
     "2d8cf5de24b84d59bd4a5fa09aff611a": {
      "model_module": "@jupyter-widgets/controls",
      "model_module_version": "2.0.0",
      "model_name": "HTMLStyleModel",
      "state": {
       "description_width": "",
       "font_size": null,
       "text_color": null
      }
     },
     "2e0278a443de4b2aa1bc4420b8018db0": {
      "model_module": "@jupyter-widgets/base",
      "model_module_version": "2.0.0",
      "model_name": "LayoutModel",
      "state": {
       "align_self": "flex-start",
       "margin": "8px 0 0 0"
      }
     },
     "304d07ce4adb4d4385e9254fe6a209e6": {
      "model_module": "@jupyter-widgets/controls",
      "model_module_version": "2.0.0",
      "model_name": "HTMLStyleModel",
      "state": {
       "description_width": "",
       "font_size": null,
       "text_color": null
      }
     },
     "3239c55e503f44e39863aecf5d2303b4": {
      "model_module": "@jupyter-widgets/controls",
      "model_module_version": "2.0.0",
      "model_name": "HTMLStyleModel",
      "state": {
       "description_width": "",
       "font_size": null,
       "text_color": null
      }
     },
     "39279a52191d4ce693dc9c963b597f3e": {
      "model_module": "@jupyter-widgets/controls",
      "model_module_version": "2.0.0",
      "model_name": "HTMLModel",
      "state": {
       "layout": "IPY_MODEL_a68d31d5f78f427cb00beeda3217a9b2",
       "style": "IPY_MODEL_4fa2d613f4454e1b9ff5fcc2fb08ea04",
       "value": "<div style=\"width:36px;height:36px;background:#eeeeee;border-radius:12px;display:flex;align-items:center;justify-content:center;box-shadow:0 1px 4px rgba(60,60,60,0.10);\"><span style=\"font-size:18px;line-height:1;\">🤖</span></div>"
      }
     },
     "3e553d0ef3dd49319eb075b0052b597b": {
      "model_module": "@jupyter-widgets/controls",
      "model_module_version": "2.0.0",
      "model_name": "HTMLModel",
      "state": {
       "layout": "IPY_MODEL_f976f69902fe466787293d286f46cdc0",
       "style": "IPY_MODEL_6996be34235d4883a741eac0ecb07c8b",
       "value": "\n            <div style=\"\n              color:#b5b5b5;\n              text-align:center;\n              padding:40px 0;\n              font-size:1.1em;\n              background:#fff;\n            \">💬 No messages yet. Start the conversation!</div>\n            "
      }
     },
     "45030ce2f3f24c6e8974b0e2b83845b9": {
      "model_module": "@jupyter-widgets/controls",
      "model_module_version": "2.0.0",
      "model_name": "HBoxModel",
      "state": {
       "children": [
        "IPY_MODEL_d43f771fe4574635bab8049fbee617f6",
        "IPY_MODEL_15d34126451f43da87c6dd16203a325e"
       ],
       "layout": "IPY_MODEL_83a39c6dc5854477b51b7cd8ab8645b1"
      }
     },
     "4998c577d7324659aaebe285ddc7b903": {
      "model_module": "@jupyter-widgets/output",
      "model_module_version": "1.0.0",
      "model_name": "OutputModel",
      "state": {
       "_dom_classes": [
        "mljar-chat-msg"
       ],
       "layout": "IPY_MODEL_90b5d5f3e3804e7989b1ae80a6defb98",
       "outputs": [
        {
         "data": {
          "text/markdown": "Echo: asdfasd fasd",
          "text/plain": "<IPython.core.display.Markdown object>"
         },
         "metadata": {},
         "output_type": "display_data"
        }
       ]
      }
     },
     "4ad68a672f5b4b26a26cb2d963482397": {
      "model_module": "@jupyter-widgets/base",
      "model_module_version": "2.0.0",
      "model_name": "LayoutModel",
      "state": {
       "align_self": "flex-start",
       "margin": "8px 0 0 0"
      }
     },
     "4b794167b889448da650b654850c1897": {
      "model_module": "@jupyter-widgets/output",
      "model_module_version": "1.0.0",
      "model_name": "OutputModel",
      "state": {
       "_dom_classes": [
        "mljar-chat-msg"
       ],
       "layout": "IPY_MODEL_2e0278a443de4b2aa1bc4420b8018db0",
       "outputs": [
        {
         "data": {
          "text/markdown": "asdfas asdf",
          "text/plain": "<IPython.core.display.Markdown object>"
         },
         "metadata": {},
         "output_type": "display_data"
        }
       ]
      }
     },
     "4e038bff7c0f4716aedda159e9aa806a": {
      "model_module": "@jupyter-widgets/controls",
      "model_module_version": "2.0.0",
      "model_name": "HTMLModel",
      "state": {
       "layout": "IPY_MODEL_877591db947345f0b77f2c84853b7164",
       "style": "IPY_MODEL_c768083fa4ae43ffa373525ffb383cc3",
       "value": "<div style=\"width:36px;height:36px;background:#84c4ff;border-radius:12px;display:flex;align-items:center;justify-content:center;box-shadow:0 1px 4px rgba(60,60,60,0.10);\"><span style=\"font-size:18px;line-height:1;\">👤</span></div>"
      }
     },
     "4fa2d613f4454e1b9ff5fcc2fb08ea04": {
      "model_module": "@jupyter-widgets/controls",
      "model_module_version": "2.0.0",
      "model_name": "HTMLStyleModel",
      "state": {
       "description_width": "",
       "font_size": null,
       "text_color": null
      }
     },
     "52ea0f4e33214756b128c82ec77f3825": {
      "model_module": "@jupyter-widgets/base",
      "model_module_version": "2.0.0",
      "model_name": "LayoutModel",
      "state": {
       "align_self": "flex-start",
       "margin": "0 8px 8px 0"
      }
     },
     "56a8cac1ff954407bd5a0f530ed017ba": {
      "model_module": "@jupyter-widgets/output",
      "model_module_version": "1.0.0",
      "model_name": "OutputModel",
      "state": {
       "_dom_classes": [
        "mljar-chat-msg"
       ],
       "layout": "IPY_MODEL_4ad68a672f5b4b26a26cb2d963482397",
       "outputs": [
        {
         "data": {
          "text/markdown": "asdfasd fasd",
          "text/plain": "<IPython.core.display.Markdown object>"
         },
         "metadata": {},
         "output_type": "display_data"
        }
       ]
      }
     },
     "5ee629af1f244740b6f3286d86a360ee": {
      "model_module": "@jupyter-widgets/base",
      "model_module_version": "2.0.0",
      "model_name": "LayoutModel",
      "state": {
       "align_items": "flex-start"
      }
     },
     "641af911478b43708d487deba2124675": {
      "model_module": "@jupyter-widgets/controls",
      "model_module_version": "2.0.0",
      "model_name": "HTMLStyleModel",
      "state": {
       "description_width": "",
       "font_size": null,
       "text_color": null
      }
     },
     "6751a095f21e42c1b64f95057fb99d65": {
      "model_module": "@jupyter-widgets/output",
      "model_module_version": "1.0.0",
      "model_name": "OutputModel",
      "state": {
       "layout": "IPY_MODEL_8fd898383ac447adac77077c96e3dfb3",
       "outputs": [
        {
         "data": {
          "application/javascript": "(function(){\n  function isScrollable(el){\n    if(!el) return false;\n    const cs = getComputedStyle(el);\n    const oy = cs.overflowY, o = cs.overflow;\n    const can = el.scrollHeight > (el.clientHeight + 2);\n    return can && (oy==='auto'||oy==='scroll'||o==='auto'||o==='scroll');\n  }\n  function findScrollableWithin(root){\n    if(!root) return null;\n    if(isScrollable(root)) return root;\n    const walker = document.createTreeWalker(root, NodeFilter.SHOW_ELEMENT, null);\n    let n = walker.currentNode;\n    while((n = walker.nextNode())){ if(isScrollable(n)) return n; }\n    return null;\n  }\n  function getScrollableAncestor(node){\n    let cur = node && node.parentElement;\n    while(cur){ if(isScrollable(cur)) return cur; cur = cur.parentElement; }\n    return null;\n  }\n  function scrollIntoContainer(el, container){\n    if(!el||!container) return;\n    let y = 0, n = el;\n    while(n && n !== container){ y += n.offsetTop || 0; n = n.offsetParent; }\n    const target = Math.max(0, y - (container.clientHeight - el.clientHeight) + 16);\n    container.scrollTop = target;\n  }\n  function scrollPageFallback(el){\n    try { el.scrollIntoView({behavior:'smooth', block:'end'}); } catch(e) {}\n  }\n\n  const chats = document.getElementsByClassName(\"mljar-chat-2b5d6105\");\n  if(!chats || !chats.length) return;\n  const chat = chats[0];\n  const msgs = chat.getElementsByClassName('mljar-chat-msg');\n  if(!msgs || !msgs.length) return;\n  const last = msgs[msgs.length - 1];\n\n  function tick(){\n    const pref = document.querySelector(\"#mercury-main-panel, .mercury-main-panel\");\n    const scroller = findScrollableWithin(pref) || getScrollableAncestor(last) || document.scrollingElement;\n    if(scroller) scrollIntoContainer(last, scroller);\n    else scrollPageFallback(last);\n  }\n\n  // Give big outputs (plots) a moment to layout\n  requestAnimationFrame(()=>setTimeout(tick, 100));\n})();",
          "text/plain": "<IPython.core.display.Javascript object>"
         },
         "metadata": {},
         "output_type": "display_data"
        }
       ]
      }
     },
     "6996be34235d4883a741eac0ecb07c8b": {
      "model_module": "@jupyter-widgets/controls",
      "model_module_version": "2.0.0",
      "model_name": "HTMLStyleModel",
      "state": {
       "description_width": "",
       "font_size": null,
       "text_color": null
      }
     },
     "6b080c9f45744d8db93c12b93f4af8ff": {
      "model_module": "@jupyter-widgets/controls",
      "model_module_version": "2.0.0",
      "model_name": "HTMLStyleModel",
      "state": {
       "description_width": "",
       "font_size": null,
       "text_color": null
      }
     },
     "7b32e43de38f4f3c8bab87293d81e4c5": {
      "model_module": "@jupyter-widgets/controls",
      "model_module_version": "2.0.0",
      "model_name": "HTMLModel",
      "state": {
       "layout": "IPY_MODEL_d3c94744c0f7400581b929cc651b4953",
       "style": "IPY_MODEL_641af911478b43708d487deba2124675",
       "value": "<div style=\"width:36px;height:36px;background:#84c4ff;border-radius:12px;display:flex;align-items:center;justify-content:center;box-shadow:0 1px 4px rgba(60,60,60,0.10);\"><span style=\"font-size:18px;line-height:1;\">👤</span></div>"
      }
     },
     "81bafe28c9dd4654977b55fbf2eac6bc": {
      "model_module": "@jupyter-widgets/output",
      "model_module_version": "1.0.0",
      "model_name": "OutputModel",
      "state": {
       "_dom_classes": [
        "mljar-chat-msg"
       ],
       "layout": "IPY_MODEL_c21b843e92054681a400cc8d2b963ce5",
       "outputs": [
        {
         "data": {
          "text/markdown": "aaa",
          "text/plain": "<IPython.core.display.Markdown object>"
         },
         "metadata": {},
         "output_type": "display_data"
        }
       ]
      }
     },
     "83a39c6dc5854477b51b7cd8ab8645b1": {
      "model_module": "@jupyter-widgets/base",
      "model_module_version": "2.0.0",
      "model_name": "LayoutModel",
      "state": {
       "align_items": "flex-start"
      }
     },
     "840eb750a9a64931a1fb6b6606e446b4": {
      "model_module": "@jupyter-widgets/base",
      "model_module_version": "2.0.0",
      "model_name": "LayoutModel",
      "state": {
       "align_items": "flex-start"
      }
     },
     "877591db947345f0b77f2c84853b7164": {
      "model_module": "@jupyter-widgets/base",
      "model_module_version": "2.0.0",
      "model_name": "LayoutModel",
      "state": {
       "align_self": "flex-start",
       "margin": "0 8px 8px 0"
      }
     },
     "878d932b75374183be0259adad9c5f22": {
      "model_module": "@jupyter-widgets/base",
      "model_module_version": "2.0.0",
      "model_name": "LayoutModel",
      "state": {
       "align_items": "flex-start"
      }
     },
     "8ac00adbe51141a69fc75e50f2d4278c": {
      "model_module": "@jupyter-widgets/output",
      "model_module_version": "1.0.0",
      "model_name": "OutputModel",
      "state": {
       "_dom_classes": [
        "mljar-chat-msg"
       ],
       "layout": "IPY_MODEL_9301aac939a14959a74be89fdfb41cda",
       "outputs": [
        {
         "data": {
          "text/markdown": "Echo: asdfas asdf",
          "text/plain": "<IPython.core.display.Markdown object>"
         },
         "metadata": {},
         "output_type": "display_data"
        }
       ]
      }
     },
     "8ae404343f2a47cbac6bdba7fa3b59a8": {
      "model_module": "@jupyter-widgets/controls",
      "model_module_version": "2.0.0",
      "model_name": "HBoxModel",
      "state": {
       "children": [
        "IPY_MODEL_245ec7ad13d64e089db6ea67f0237f14",
        "IPY_MODEL_81bafe28c9dd4654977b55fbf2eac6bc"
       ],
       "layout": "IPY_MODEL_840eb750a9a64931a1fb6b6606e446b4"
      }
     },
     "8cf808b4bd7e4a4ab1bde5275d96d136": {
      "model_module": "anywidget",
      "model_module_version": "~0.9.*",
      "model_name": "AnyModel",
      "state": {
       "_anywidget_id": "widgets.chat.chatinput.ChatInputWidget",
       "_css": "\n    .mljar-chatinput-container {\n        display: flex;\n        flex-direction: row;\n        align-items: center;\n        width: 100%;\n        min-width: 160px;\n        box-sizing: border-box;\n        gap: 8px;\n        font-family: Arial, sans-serif;\n        font-size: 12px;\n        color: #222222;\n    }\n\n    .mljar-chatinput-input {\n        flex: 1 1 auto;\n        width: 100%;\n        border: 1px solid #cccccc;\n        border-radius: 4px;\n        padding: 6px 10px;\n        min-height: 1.6em;\n        background: #ebf0fa;\n        color: #222222;\n        box-sizing: border-box;\n    }\n    .mljar-chatinput-input:focus {\n        outline: none;\n        border-color: #007bff;\n    }\n\n    .mljar-chatinput-button {\n        flex: 0 0 auto;\n        border: none;\n        border-radius: 4px;\n        padding: 6px 12px;\n        min-height: 1.6em;\n        cursor: pointer;\n        background: #007bff;\n        color: #fff;\n        font-weight: bold;\n    }\n    .mljar-chatinput-button:hover {\n        filter: brightness(0.95);\n    }\n    ",
       "_esm": "\n    function render({ model, el }) {\n      const container = document.createElement(\"div\");\n      container.classList.add(\"mljar-chatinput-container\");\n\n      const input = document.createElement(\"input\");\n      input.type = \"text\";\n      input.placeholder = model.get(\"placeholder\") || \"Type a message...\";\n      input.value = model.get(\"value\") || \"\";\n      input.classList.add(\"mljar-chatinput-input\");\n\n      const btn = document.createElement(\"button\");\n      btn.type = \"button\";\n      btn.classList.add(\"mljar-chatinput-button\");\n      btn.textContent = model.get(\"button_icon\") || \"➤\";\n      btn.setAttribute(\"aria-label\", \"Send message\");\n\n      container.appendChild(input);\n      container.appendChild(btn);\n      el.appendChild(container);\n\n      // Keep input in sync if Python changes 'value' (e.g., programmatic set/restore)\n      model.on(\"change:value\", () => {\n        const newVal = model.get(\"value\") ?? \"\";\n        if (input.value !== newVal) input.value = newVal;\n      });\n\n      // Submit logic: update submitted and value ONLY here\n      const sendMessage = () => {\n        const msg = (input.value || \"\").trim();\n        if (!msg) return;\n\n        // Signal to kernel\n        model.set(\"submitted\", msg);\n\n        // Update public 'value' ONLY at submit time\n        model.set(\"value\", msg);\n\n        // Clear visible input (does NOT touch model 'value')\n        input.value = \"\";\n\n        // Persist once\n        model.save_changes();\n      };\n\n      btn.addEventListener(\"click\", sendMessage);\n\n      input.addEventListener(\"keydown\", (ev) => {\n        const sendOnEnter = !!model.get(\"send_on_enter\");\n        if (!sendOnEnter) return;\n        if (ev.key === \"Enter\" && !ev.shiftKey) {\n          ev.preventDefault();\n          sendMessage();\n        }\n      });\n\n      // Custom CSS hook\n      const css = model.get(\"custom_css\");\n      if (css && css.trim().length > 0) {\n        const styleTag = document.createElement(\"style\");\n        styleTag.textContent = css;\n        el.appendChild(styleTag);\n      }\n    }\n    export default { render };\n    ",
       "_model_module": "anywidget",
       "_model_module_version": "~0.9.*",
       "_model_name": "AnyModel",
       "_view_module": "anywidget",
       "_view_module_version": "~0.9.*",
       "_view_name": "AnyView",
       "button_icon": "➤",
       "custom_css": "",
       "layout": "IPY_MODEL_051010657f894cecad15a7bf0a3ab4c6",
       "placeholder": "Type a message...",
       "position": "bottom",
       "send_on_enter": true,
       "submitted": "",
       "value": "asdfasd fasd"
      }
     },
     "8e6408f1cdc84cda8477bceed0ba4f6e": {
      "model_module": "@jupyter-widgets/base",
      "model_module_version": "2.0.0",
      "model_name": "LayoutModel",
      "state": {
       "align_items": "flex-start"
      }
     },
     "8fd898383ac447adac77077c96e3dfb3": {
      "model_module": "@jupyter-widgets/base",
      "model_module_version": "2.0.0",
      "model_name": "LayoutModel",
      "state": {}
     },
     "90b5d5f3e3804e7989b1ae80a6defb98": {
      "model_module": "@jupyter-widgets/base",
      "model_module_version": "2.0.0",
      "model_name": "LayoutModel",
      "state": {
       "align_self": "flex-start",
       "margin": "8px 0 0 0"
      }
     },
     "90d90458da3348fa9450acae5bb297d1": {
      "model_module": "@jupyter-widgets/base",
      "model_module_version": "2.0.0",
      "model_name": "LayoutModel",
      "state": {
       "align_self": "flex-start",
       "margin": "0 8px 8px 0"
      }
     },
     "919f19e666084f259befa4ed1817b2fb": {
      "model_module": "@jupyter-widgets/controls",
      "model_module_version": "2.0.0",
      "model_name": "HBoxModel",
      "state": {
       "children": [
        "IPY_MODEL_0cef1bec9db54450a33a9b7f9dd210a1",
        "IPY_MODEL_4998c577d7324659aaebe285ddc7b903"
       ],
       "layout": "IPY_MODEL_b789ad61529d46b6b82501619acc5bbb"
      }
     },
     "91c103a26dd243d6baf1441a855d7c77": {
      "model_module": "@jupyter-widgets/controls",
      "model_module_version": "2.0.0",
      "model_name": "HBoxModel",
      "state": {
       "children": [
        "IPY_MODEL_2821de67a22948a5983f0da530bd6c26",
        "IPY_MODEL_8ac00adbe51141a69fc75e50f2d4278c"
       ],
       "layout": "IPY_MODEL_0517f1a4894a44abaa32c7dbb553bb76"
      }
     },
     "9301aac939a14959a74be89fdfb41cda": {
      "model_module": "@jupyter-widgets/base",
      "model_module_version": "2.0.0",
      "model_name": "LayoutModel",
      "state": {
       "align_self": "flex-start",
       "margin": "8px 0 0 0"
      }
     },
     "a68d31d5f78f427cb00beeda3217a9b2": {
      "model_module": "@jupyter-widgets/base",
      "model_module_version": "2.0.0",
      "model_name": "LayoutModel",
      "state": {
       "align_self": "flex-start",
       "margin": "0 8px 8px 0"
      }
     },
     "ae29dade8d3547179e72c180780cd3a6": {
      "model_module": "@jupyter-widgets/output",
      "model_module_version": "1.0.0",
      "model_name": "OutputModel",
      "state": {
       "_dom_classes": [
        "mljar-chat-msg"
       ],
       "layout": "IPY_MODEL_fdb8539773cd413cb5c2e90dd38f42cd",
       "outputs": [
        {
         "data": {
          "text/markdown": "asdf asd",
          "text/plain": "<IPython.core.display.Markdown object>"
         },
         "metadata": {},
         "output_type": "display_data"
        }
       ]
      }
     },
     "b789ad61529d46b6b82501619acc5bbb": {
      "model_module": "@jupyter-widgets/base",
      "model_module_version": "2.0.0",
      "model_name": "LayoutModel",
      "state": {
       "align_items": "flex-start"
      }
     },
     "b86870c18a384f49aac9293e51c61497": {
      "model_module": "@jupyter-widgets/controls",
      "model_module_version": "2.0.0",
      "model_name": "HBoxModel",
      "state": {
       "children": [
        "IPY_MODEL_4e038bff7c0f4716aedda159e9aa806a",
        "IPY_MODEL_56a8cac1ff954407bd5a0f530ed017ba"
       ],
       "layout": "IPY_MODEL_dcff208238ef40a78295d71daa821ba9"
      }
     },
     "b9e1bfcfd0c8409bacf02a8666d91d52": {
      "model_module": "@jupyter-widgets/controls",
      "model_module_version": "2.0.0",
      "model_name": "HTMLStyleModel",
      "state": {
       "description_width": "",
       "font_size": null,
       "text_color": null
      }
     },
     "bce31b084cda455ca0bfc382e3779054": {
      "model_module": "@jupyter-widgets/controls",
      "model_module_version": "2.0.0",
      "model_name": "HTMLModel",
      "state": {
       "layout": "IPY_MODEL_e6dcc33d73cd4e40ada628d0a27d8b04",
       "style": "IPY_MODEL_3239c55e503f44e39863aecf5d2303b4",
       "value": "<div style=\"width:36px;height:36px;background:#84c4ff;border-radius:12px;display:flex;align-items:center;justify-content:center;box-shadow:0 1px 4px rgba(60,60,60,0.10);\"><span style=\"font-size:18px;line-height:1;\">👤</span></div>"
      }
     },
     "c21b843e92054681a400cc8d2b963ce5": {
      "model_module": "@jupyter-widgets/base",
      "model_module_version": "2.0.0",
      "model_name": "LayoutModel",
      "state": {
       "align_self": "flex-start",
       "margin": "8px 0 0 0"
      }
     },
     "c4b68b17bc204809a1029056e2636812": {
      "model_module": "@jupyter-widgets/controls",
      "model_module_version": "2.0.0",
      "model_name": "HBoxModel",
      "state": {
       "children": [
        "IPY_MODEL_39279a52191d4ce693dc9c963b597f3e",
        "IPY_MODEL_0ad5519a356a4818ba3176487d362176"
       ],
       "layout": "IPY_MODEL_878d932b75374183be0259adad9c5f22"
      }
     },
     "c52d164bb9e344b6907d85082811af05": {
      "model_module": "@jupyter-widgets/base",
      "model_module_version": "2.0.0",
      "model_name": "LayoutModel",
      "state": {
       "align_self": "flex-start",
       "margin": "8px 0 0 0"
      }
     },
     "c735c422de7f42c88d503449f782430a": {
      "model_module": "@jupyter-widgets/controls",
      "model_module_version": "2.0.0",
      "model_name": "HBoxModel",
      "state": {
       "children": [
        "IPY_MODEL_7b32e43de38f4f3c8bab87293d81e4c5",
        "IPY_MODEL_4b794167b889448da650b654850c1897"
       ],
       "layout": "IPY_MODEL_5ee629af1f244740b6f3286d86a360ee"
      }
     },
     "c768083fa4ae43ffa373525ffb383cc3": {
      "model_module": "@jupyter-widgets/controls",
      "model_module_version": "2.0.0",
      "model_name": "HTMLStyleModel",
      "state": {
       "description_width": "",
       "font_size": null,
       "text_color": null
      }
     },
     "d3c94744c0f7400581b929cc651b4953": {
      "model_module": "@jupyter-widgets/base",
      "model_module_version": "2.0.0",
      "model_name": "LayoutModel",
      "state": {
       "align_self": "flex-start",
       "margin": "0 8px 8px 0"
      }
     },
     "d43f771fe4574635bab8049fbee617f6": {
      "model_module": "@jupyter-widgets/controls",
      "model_module_version": "2.0.0",
      "model_name": "HTMLModel",
      "state": {
       "layout": "IPY_MODEL_52ea0f4e33214756b128c82ec77f3825",
       "style": "IPY_MODEL_b9e1bfcfd0c8409bacf02a8666d91d52",
       "value": "<div style=\"width:36px;height:36px;background:#eeeeee;border-radius:12px;display:flex;align-items:center;justify-content:center;box-shadow:0 1px 4px rgba(60,60,60,0.10);\"><span style=\"font-size:18px;line-height:1;\">🤖</span></div>"
      }
     },
     "d89c058ffd924dba833eb6381a96b0db": {
      "model_module": "@jupyter-widgets/base",
      "model_module_version": "2.0.0",
      "model_name": "LayoutModel",
      "state": {
       "align_self": "flex-start",
       "margin": "0 8px 8px 0"
      }
     },
     "dcff208238ef40a78295d71daa821ba9": {
      "model_module": "@jupyter-widgets/base",
      "model_module_version": "2.0.0",
      "model_name": "LayoutModel",
      "state": {
       "align_items": "flex-start"
      }
     },
     "e6dcc33d73cd4e40ada628d0a27d8b04": {
      "model_module": "@jupyter-widgets/base",
      "model_module_version": "2.0.0",
      "model_name": "LayoutModel",
      "state": {
       "align_self": "flex-start",
       "margin": "0 8px 8px 0"
      }
     },
     "e8f18661000c43abb99eb850e55bf4cc": {
      "model_module": "@jupyter-widgets/base",
      "model_module_version": "2.0.0",
      "model_name": "LayoutModel",
      "state": {
       "padding": "4px",
       "width": "100%"
      }
     },
     "f976f69902fe466787293d286f46cdc0": {
      "model_module": "@jupyter-widgets/base",
      "model_module_version": "2.0.0",
      "model_name": "LayoutModel",
      "state": {}
     },
     "fdb8539773cd413cb5c2e90dd38f42cd": {
      "model_module": "@jupyter-widgets/base",
      "model_module_version": "2.0.0",
      "model_name": "LayoutModel",
      "state": {
       "align_self": "flex-start",
       "margin": "8px 0 0 0"
      }
     }
    },
    "version_major": 2,
    "version_minor": 0
   }
  }
 },
 "nbformat": 4,
 "nbformat_minor": 5
}
