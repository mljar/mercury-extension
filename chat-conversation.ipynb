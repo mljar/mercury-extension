{
 "cells": [
  {
   "cell_type": "code",
   "execution_count": null,
   "id": "6f1250fe-a2f5-4e4c-97fe-1055c534aff1",
   "metadata": {},
   "outputs": [],
   "source": [
    "from dotenv import load_dotenv\n",
    "import os\n",
    "from openai import OpenAI, AuthenticationError"
   ]
  },
  {
   "cell_type": "code",
   "execution_count": null,
   "id": "3d8b1847-c8f6-41b7-a500-58edcd1a7d59",
   "metadata": {},
   "outputs": [],
   "source": [
    "load_dotenv()\n",
    "\n",
    "api_key = os.environ[\"OPENAI_KEY\"]\n",
    "\n",
    "def create_client(api_key):\n",
    "    try:\n",
    "        client = OpenAI(api_key=api_key)\n",
    "        client.models.list()\n",
    "        return client\n",
    "    except AuthenticationError:\n",
    "        print(\"Incorrect API\")\n",
    "    return None\n",
    "\n",
    "client = create_client(api_key)"
   ]
  },
  {
   "cell_type": "code",
   "execution_count": null,
   "id": "c295da76-3f0a-444c-bb69-dbb3aa896c90",
   "metadata": {},
   "outputs": [],
   "source": [
    "# available models\n",
    "for m in client.models.list().data:\n",
    "    print(m.id)"
   ]
  },
  {
   "cell_type": "code",
   "execution_count": null,
   "id": "e765d784-6129-4870-90e8-b042e4fddba3",
   "metadata": {},
   "outputs": [],
   "source": [
    "def agent(prompt, context=[]):\n",
    "    messages = context + [{\"role\": \"user\", \"content\": prompt}]\n",
    "    response = client.chat.completions.create(\n",
    "        model=\"gpt-5\",\n",
    "        messages=messages\n",
    "    )\n",
    "    answer = response.choices[0].message.content\n",
    "    return answer\n",
    "\n",
    "history = []\n",
    "while True:\n",
    "    user_input = input(\"You: \")\n",
    "    if user_input.lower() in [\"exit\", \"quit\"]:\n",
    "        break\n",
    "    reply = agent(user_input, history)\n",
    "    print(\"Agent:\", reply)\n",
    "    history.append({\"role\": \"user\", \"content\": user_input})\n",
    "    history.append({\"role\": \"assistant\", \"content\": reply})"
   ]
  },
  {
   "cell_type": "code",
   "execution_count": null,
   "id": "75024cc8-d56a-463c-a788-a664f678681e",
   "metadata": {},
   "outputs": [],
   "source": []
  }
 ],
 "metadata": {
  "kernelspec": {
   "display_name": "mercuryvenv",
   "language": "python",
   "name": "mercuryvenv"
  },
  "language_info": {
   "codemirror_mode": {
    "name": "ipython",
    "version": 3
   },
   "file_extension": ".py",
   "mimetype": "text/x-python",
   "name": "python",
   "nbconvert_exporter": "python",
   "pygments_lexer": "ipython3",
   "version": "3.10.12"
  }
 },
 "nbformat": 4,
 "nbformat_minor": 5
}
