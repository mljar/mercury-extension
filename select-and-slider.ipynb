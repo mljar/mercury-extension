{
 "cells": [
  {
   "cell_type": "code",
   "execution_count": 1,
   "id": "e40b791c-c20b-450e-b29c-0c1b198fa375",
   "metadata": {},
   "outputs": [],
   "source": [
    "from widgets.select import Select"
   ]
  },
  {
   "cell_type": "code",
   "execution_count": 2,
   "id": "49d05975-9460-4383-ac44-491e957c4950",
   "metadata": {},
   "outputs": [],
   "source": [
    "from widgets.multiselect import MultiSelect"
   ]
  },
  {
   "cell_type": "code",
   "execution_count": 3,
   "id": "0ac5c0b3-e962-49c1-a2dc-5f378936659c",
   "metadata": {},
   "outputs": [],
   "source": [
    "from widgets.slider import Slider"
   ]
  },
  {
   "cell_type": "code",
   "execution_count": 4,
   "id": "4390836e-ee3e-4ef3-aa1e-241aa40823d4",
   "metadata": {},
   "outputs": [],
   "source": [
    "from widgets.indicator import Indicator"
   ]
  },
  {
   "cell_type": "markdown",
   "id": "40f169f7-1e2f-4cb8-944e-bd815a404369",
   "metadata": {},
   "source": [
    "# asdfasdf"
   ]
  },
  {
   "cell_type": "code",
   "execution_count": 4,
   "id": "3478fbd3-1f26-4aa7-80f3-22756213fdbe",
   "metadata": {},
   "outputs": [],
   "source": []
  },
  {
   "cell_type": "code",
   "execution_count": 4,
   "id": "0ecf7a0e-d11c-4a82-9a9d-c12392602e4c",
   "metadata": {},
   "outputs": [],
   "source": []
  },
  {
   "cell_type": "code",
   "execution_count": 5,
   "id": "c5016d9f-d59d-4425-a665-1c6b1f43361f",
   "metadata": {},
   "outputs": [
    {
     "data": {
      "application/mercury+json": "{\n    \"widget\": \"SliderWidget\",\n    \"model_id\": \"40883704a294484c9ea46eed2011501a\",\n    \"position\": \"sidebar\"\n}",
      "application/vnd.jupyter.widget-view+json": {
       "model_id": "40883704a294484c9ea46eed2011501a",
       "version_major": 2,
       "version_minor": 1
      },
      "text/plain": [
       "SliderWidget(label='Slider', value=3)"
      ]
     },
     "metadata": {},
     "output_type": "display_data"
    }
   ],
   "source": [
    "slider = Slider(label=\"Slider\", value=3)"
   ]
  },
  {
   "cell_type": "code",
   "execution_count": 6,
   "id": "0b791543-3774-41cb-89cc-a1e426f8d02f",
   "metadata": {},
   "outputs": [
    {
     "data": {
      "text/plain": [
       "3"
      ]
     },
     "execution_count": 6,
     "metadata": {},
     "output_type": "execute_result"
    }
   ],
   "source": [
    "slider.value"
   ]
  },
  {
   "cell_type": "code",
   "execution_count": 7,
   "id": "7946441c-0b7a-40b3-8982-7ccdca8edbff",
   "metadata": {},
   "outputs": [
    {
     "data": {
      "application/mercury+json": "{\n    \"widget\": \"SliderWidget\",\n    \"model_id\": \"4fdb3a6d637f4410b4ee1d26dc306516\",\n    \"position\": \"inline\"\n}",
      "application/vnd.jupyter.widget-view+json": {
       "model_id": "4fdb3a6d637f4410b4ee1d26dc306516",
       "version_major": 2,
       "version_minor": 1
      },
      "text/plain": [
       "SliderWidget(label='Slider 2', position='inline', value=72)"
      ]
     },
     "metadata": {},
     "output_type": "display_data"
    }
   ],
   "source": [
    "slider2 = Slider(label=\"Slider 2\", value=72, position=\"inline\")"
   ]
  },
  {
   "cell_type": "code",
   "execution_count": 8,
   "id": "6b6bf127-5a54-4896-bed8-b1a4a2857c5a",
   "metadata": {},
   "outputs": [
    {
     "data": {
      "text/plain": [
       "72"
      ]
     },
     "execution_count": 8,
     "metadata": {},
     "output_type": "execute_result"
    }
   ],
   "source": [
    "slider2.value"
   ]
  },
  {
   "cell_type": "code",
   "execution_count": 9,
   "id": "e25ed431-85c8-4479-91e2-69207f66d394",
   "metadata": {},
   "outputs": [
    {
     "data": {
      "application/mercury+json": "{\n    \"widget\": \"SliderWidget\",\n    \"model_id\": \"953daaf36f0c447d956ec429c59ac5a9\",\n    \"position\": \"sidebar\"\n}",
      "application/vnd.jupyter.widget-view+json": {
       "model_id": "953daaf36f0c447d956ec429c59ac5a9",
       "version_major": 2,
       "version_minor": 1
      },
      "text/plain": [
       "SliderWidget(label='Slider 3', value=33)"
      ]
     },
     "metadata": {},
     "output_type": "display_data"
    }
   ],
   "source": [
    "slider3 = Slider(label=\"Slider 3\", value=33)"
   ]
  },
  {
   "cell_type": "code",
   "execution_count": 10,
   "id": "bd3dd4bb-3c59-433d-a5bf-5e0d6bd1e8fb",
   "metadata": {},
   "outputs": [
    {
     "data": {
      "text/plain": [
       "33"
      ]
     },
     "execution_count": 10,
     "metadata": {},
     "output_type": "execute_result"
    }
   ],
   "source": [
    "slider3.value"
   ]
  },
  {
   "cell_type": "code",
   "execution_count": 11,
   "id": "74c13559-9b96-4c15-b5be-71939868db59",
   "metadata": {},
   "outputs": [
    {
     "data": {
      "application/mercury+json": "{\n    \"widget\": \"SliderWidget\",\n    \"model_id\": \"75646eba45d14de2b5af64c4e9a044fa\",\n    \"position\": \"sidebar\"\n}",
      "application/vnd.jupyter.widget-view+json": {
       "model_id": "75646eba45d14de2b5af64c4e9a044fa",
       "version_major": 2,
       "version_minor": 1
      },
      "text/plain": [
       "SliderWidget(label='Slider 4', value=42)"
      ]
     },
     "metadata": {},
     "output_type": "display_data"
    }
   ],
   "source": [
    "slider4 = Slider(label=\"Slider 4\", value=42)"
   ]
  },
  {
   "cell_type": "code",
   "execution_count": 12,
   "id": "1b4450ed-1eb7-47c3-aa69-755772531bf6",
   "metadata": {},
   "outputs": [
    {
     "data": {
      "text/plain": [
       "42"
      ]
     },
     "execution_count": 12,
     "metadata": {},
     "output_type": "execute_result"
    }
   ],
   "source": [
    "slider4.value"
   ]
  },
  {
   "cell_type": "code",
   "execution_count": 13,
   "id": "bed92d76-af50-4f47-ac2f-ae7f06a9c1b4",
   "metadata": {},
   "outputs": [
    {
     "data": {
      "application/mercury+json": "{\n    \"widget\": \"SliderWidget\",\n    \"model_id\": \"d024ac4166924477b529230292ccb89d\",\n    \"position\": \"inline\"\n}",
      "application/vnd.jupyter.widget-view+json": {
       "model_id": "d024ac4166924477b529230292ccb89d",
       "version_major": 2,
       "version_minor": 1
      },
      "text/plain": [
       "SliderWidget(label='Slider 5', position='inline', value=56)"
      ]
     },
     "metadata": {},
     "output_type": "display_data"
    }
   ],
   "source": [
    "slider5 = Slider(label=\"Slider 5\", value=56, position='inline')"
   ]
  },
  {
   "cell_type": "code",
   "execution_count": 14,
   "id": "76050baa-ac1a-4a72-9307-6bc46c67b4d9",
   "metadata": {},
   "outputs": [
    {
     "data": {
      "text/plain": [
       "56"
      ]
     },
     "execution_count": 14,
     "metadata": {},
     "output_type": "execute_result"
    }
   ],
   "source": [
    "slider5.value"
   ]
  },
  {
   "cell_type": "code",
   "execution_count": 15,
   "id": "18b91b09-58c3-482b-ad05-f3a79a1ac711",
   "metadata": {},
   "outputs": [
    {
     "data": {
      "text/html": [
       "\n",
       "        <style scoped>\n",
       "        .mljar-indicator-row {\n",
       "            width: 100%;\n",
       "            display: flex;\n",
       "            flex-direction: row;\n",
       "            gap: 5px;\n",
       "            justify-content: flex-start;\n",
       "        }\n",
       "        @media (max-width: 800px) {\n",
       "            .mljar-indicator-row {\n",
       "                flex-direction: column;\n",
       "            }\n",
       "        }\n",
       "        .mljar-indicator-card {\n",
       "            flex: 1 1 0;\n",
       "            background: var(--bg, #fff);\n",
       "            border: 1px solid var(--border, #ebebeb);\n",
       "            border-radius: 12px;\n",
       "            padding: 26px 24px 18px 24px;\n",
       "            margin: 8px;\n",
       "            text-align: center;                \n",
       "            min-width: 180px;\n",
       "            max-width: 240px !important;\n",
       "            box-shadow: 0 2px 8px rgba(0,0,0,0.04);\n",
       "        }\n",
       "        .mljar-indicator-title {\n",
       "            font-size: 1.3em !important;\n",
       "            color: var(--label, #555);\n",
       "            margin-bottom: 10px;\n",
       "            font-family: 'Inter', 'Segoe UI', Arial, sans-serif !important;\n",
       "        }\n",
       "        .mljar-indicator-value {\n",
       "            font-size: 2.7em;\n",
       "            color: var(--value, #222);\n",
       "            font-family: 'Menlo', 'Consolas', monospace;\n",
       "            margin-bottom: 12px;\n",
       "            letter-spacing: 1px;\n",
       "        }\n",
       "        .mljar-indicator-delta {\n",
       "            display: inline-block;\n",
       "            padding: 0.28em 1.1em 0.28em 1.1em;\n",
       "            font-size: 1em;\n",
       "            border-radius: 2em;\n",
       "            margin-bottom: 4px;\n",
       "            font-family: 'Menlo', monospace;\n",
       "            font-weight: bold;\n",
       "        }\n",
       "        .mljar-indicator-delta.up {\n",
       "            background: var(--bg-green, rgba(0,178,117,0.12));\n",
       "            color: var(--green, #00B275);\n",
       "        }\n",
       "        .mljar-indicator-delta.down {\n",
       "            background: var(--bg-red, rgba(255,99,132,0.13));\n",
       "            color: var(--red, #FF6384);\n",
       "        }\n",
       "        </style>\n",
       "        <div class='mljar-indicator-row'>\n",
       "        <style scoped>\n",
       "        .mljar-indicator-row {\n",
       "            width: 100%;\n",
       "            display: flex;\n",
       "            flex-direction: row;\n",
       "            gap: 5px;\n",
       "            justify-content: flex-start;\n",
       "        }\n",
       "        @media (max-width: 800px) {\n",
       "            .mljar-indicator-row {\n",
       "                flex-direction: column;\n",
       "            }\n",
       "        }\n",
       "        .mljar-indicator-card {\n",
       "            flex: 1 1 0;\n",
       "            background: var(--bg, #fff);\n",
       "            border: 1px solid var(--border, #ebebeb);\n",
       "            border-radius: 12px;\n",
       "            padding: 26px 24px 18px 24px;\n",
       "            margin: 8px;\n",
       "            text-align: center;                \n",
       "            min-width: 180px;\n",
       "            max-width: 240px !important;\n",
       "            box-shadow: 0 2px 8px rgba(0,0,0,0.04);\n",
       "        }\n",
       "        .mljar-indicator-title {\n",
       "            font-size: 1.3em !important;\n",
       "            color: var(--label, #555);\n",
       "            margin-bottom: 10px;\n",
       "            font-family: 'Inter', 'Segoe UI', Arial, sans-serif !important;\n",
       "        }\n",
       "        .mljar-indicator-value {\n",
       "            font-size: 2.7em;\n",
       "            color: var(--value, #222);\n",
       "            font-family: 'Menlo', 'Consolas', monospace;\n",
       "            margin-bottom: 12px;\n",
       "            letter-spacing: 1px;\n",
       "        }\n",
       "        .mljar-indicator-delta {\n",
       "            display: inline-block;\n",
       "            padding: 0.28em 1.1em 0.28em 1.1em;\n",
       "            font-size: 1em;\n",
       "            border-radius: 2em;\n",
       "            margin-bottom: 4px;\n",
       "            font-family: 'Menlo', monospace;\n",
       "            font-weight: bold;\n",
       "        }\n",
       "        .mljar-indicator-delta.up {\n",
       "            background: var(--bg-green, rgba(0,178,117,0.12));\n",
       "            color: var(--green, #00B275);\n",
       "        }\n",
       "        .mljar-indicator-delta.down {\n",
       "            background: var(--bg-red, rgba(255,99,132,0.13));\n",
       "            color: var(--red, #FF6384);\n",
       "        }\n",
       "        </style>\n",
       "        \n",
       "<div class=\"mljar-indicator-card\"\n",
       "     style=\"--bg:#fff;--border:#ebebeb;--value:#222;--label:#555;--green:#00B275;--bg-green:rgba(0, 178, 117, 0.12);--red:#FF6384;--bg-red:rgba(255, 99, 132, 0.13)\">\n",
       "    <div class='mljar-indicator-title'>slider</div>\n",
       "    <div class='mljar-indicator-value'>3</div>\n",
       "    \n",
       "</div>\n",
       "\n",
       "        <style scoped>\n",
       "        .mljar-indicator-row {\n",
       "            width: 100%;\n",
       "            display: flex;\n",
       "            flex-direction: row;\n",
       "            gap: 5px;\n",
       "            justify-content: flex-start;\n",
       "        }\n",
       "        @media (max-width: 800px) {\n",
       "            .mljar-indicator-row {\n",
       "                flex-direction: column;\n",
       "            }\n",
       "        }\n",
       "        .mljar-indicator-card {\n",
       "            flex: 1 1 0;\n",
       "            background: var(--bg, #fff);\n",
       "            border: 1px solid var(--border, #ebebeb);\n",
       "            border-radius: 12px;\n",
       "            padding: 26px 24px 18px 24px;\n",
       "            margin: 8px;\n",
       "            text-align: center;                \n",
       "            min-width: 180px;\n",
       "            max-width: 240px !important;\n",
       "            box-shadow: 0 2px 8px rgba(0,0,0,0.04);\n",
       "        }\n",
       "        .mljar-indicator-title {\n",
       "            font-size: 1.3em !important;\n",
       "            color: var(--label, #555);\n",
       "            margin-bottom: 10px;\n",
       "            font-family: 'Inter', 'Segoe UI', Arial, sans-serif !important;\n",
       "        }\n",
       "        .mljar-indicator-value {\n",
       "            font-size: 2.7em;\n",
       "            color: var(--value, #222);\n",
       "            font-family: 'Menlo', 'Consolas', monospace;\n",
       "            margin-bottom: 12px;\n",
       "            letter-spacing: 1px;\n",
       "        }\n",
       "        .mljar-indicator-delta {\n",
       "            display: inline-block;\n",
       "            padding: 0.28em 1.1em 0.28em 1.1em;\n",
       "            font-size: 1em;\n",
       "            border-radius: 2em;\n",
       "            margin-bottom: 4px;\n",
       "            font-family: 'Menlo', monospace;\n",
       "            font-weight: bold;\n",
       "        }\n",
       "        .mljar-indicator-delta.up {\n",
       "            background: var(--bg-green, rgba(0,178,117,0.12));\n",
       "            color: var(--green, #00B275);\n",
       "        }\n",
       "        .mljar-indicator-delta.down {\n",
       "            background: var(--bg-red, rgba(255,99,132,0.13));\n",
       "            color: var(--red, #FF6384);\n",
       "        }\n",
       "        </style>\n",
       "        \n",
       "<div class=\"mljar-indicator-card\"\n",
       "     style=\"--bg:#fff;--border:#ebebeb;--value:#222;--label:#555;--green:#00B275;--bg-green:rgba(0, 178, 117, 0.12);--red:#FF6384;--bg-red:rgba(255, 99, 132, 0.13)\">\n",
       "    <div class='mljar-indicator-title'>slider 2</div>\n",
       "    <div class='mljar-indicator-value'>72</div>\n",
       "    \n",
       "</div>\n",
       "</div>"
      ],
      "text/plain": [
       "<widgets.indicator.Indicator at 0x790f20260290>"
      ]
     },
     "execution_count": 15,
     "metadata": {},
     "output_type": "execute_result"
    }
   ],
   "source": [
    "Indicator([\n",
    "    Indicator(slider.value, 'slider'),\n",
    "    Indicator(slider2.value, 'slider 2')\n",
    "])"
   ]
  },
  {
   "cell_type": "code",
   "execution_count": 16,
   "id": "e108a7a0-58a1-4636-bd03-0807898e51c7",
   "metadata": {},
   "outputs": [
    {
     "data": {
      "application/mercury+json": "{\n    \"widget\": \"SelectWidget\",\n    \"model_id\": \"f1c54fc25ce64748ba7f5ab4cf7efdab\",\n    \"position\": \"sidebar\"\n}",
      "application/vnd.jupyter.widget-view+json": {
       "model_id": "f1c54fc25ce64748ba7f5ab4cf7efdab",
       "version_major": 2,
       "version_minor": 1
      },
      "text/plain": [
       "SelectWidget(choices=['A', 'B', 'C'], label='Select', value='A')"
      ]
     },
     "metadata": {},
     "output_type": "display_data"
    }
   ],
   "source": [
    "select = Select(label=\"Select\", value='A', choices=['A', 'B', 'C'])"
   ]
  },
  {
   "cell_type": "code",
   "execution_count": 17,
   "id": "92905852-33d8-4ef9-87d5-68d616d89f09",
   "metadata": {},
   "outputs": [
    {
     "data": {
      "text/plain": [
       "'A'"
      ]
     },
     "execution_count": 17,
     "metadata": {},
     "output_type": "execute_result"
    }
   ],
   "source": [
    "select.value"
   ]
  },
  {
   "cell_type": "code",
   "execution_count": 18,
   "id": "495e0fb6-02e5-457d-83a7-115cbb0a2f0f",
   "metadata": {},
   "outputs": [
    {
     "data": {
      "text/html": [
       "\n",
       "        <style scoped>\n",
       "        .mljar-indicator-row {\n",
       "            width: 100%;\n",
       "            display: flex;\n",
       "            flex-direction: row;\n",
       "            gap: 5px;\n",
       "            justify-content: flex-start;\n",
       "        }\n",
       "        @media (max-width: 800px) {\n",
       "            .mljar-indicator-row {\n",
       "                flex-direction: column;\n",
       "            }\n",
       "        }\n",
       "        .mljar-indicator-card {\n",
       "            flex: 1 1 0;\n",
       "            background: var(--bg, #fff);\n",
       "            border: 1px solid var(--border, #ebebeb);\n",
       "            border-radius: 12px;\n",
       "            padding: 26px 24px 18px 24px;\n",
       "            margin: 8px;\n",
       "            text-align: center;                \n",
       "            min-width: 180px;\n",
       "            max-width: 240px !important;\n",
       "            box-shadow: 0 2px 8px rgba(0,0,0,0.04);\n",
       "        }\n",
       "        .mljar-indicator-title {\n",
       "            font-size: 1.3em !important;\n",
       "            color: var(--label, #555);\n",
       "            margin-bottom: 10px;\n",
       "            font-family: 'Inter', 'Segoe UI', Arial, sans-serif !important;\n",
       "        }\n",
       "        .mljar-indicator-value {\n",
       "            font-size: 2.7em;\n",
       "            color: var(--value, #222);\n",
       "            font-family: 'Menlo', 'Consolas', monospace;\n",
       "            margin-bottom: 12px;\n",
       "            letter-spacing: 1px;\n",
       "        }\n",
       "        .mljar-indicator-delta {\n",
       "            display: inline-block;\n",
       "            padding: 0.28em 1.1em 0.28em 1.1em;\n",
       "            font-size: 1em;\n",
       "            border-radius: 2em;\n",
       "            margin-bottom: 4px;\n",
       "            font-family: 'Menlo', monospace;\n",
       "            font-weight: bold;\n",
       "        }\n",
       "        .mljar-indicator-delta.up {\n",
       "            background: var(--bg-green, rgba(0,178,117,0.12));\n",
       "            color: var(--green, #00B275);\n",
       "        }\n",
       "        .mljar-indicator-delta.down {\n",
       "            background: var(--bg-red, rgba(255,99,132,0.13));\n",
       "            color: var(--red, #FF6384);\n",
       "        }\n",
       "        </style>\n",
       "        \n",
       "<div class=\"mljar-indicator-card\"\n",
       "     style=\"--bg:#fff;--border:#ebebeb;--value:#222;--label:#555;--green:#00B275;--bg-green:rgba(0, 178, 117, 0.12);--red:#FF6384;--bg-red:rgba(255, 99, 132, 0.13)\">\n",
       "    <div class='mljar-indicator-title'>select</div>\n",
       "    <div class='mljar-indicator-value'>A</div>\n",
       "    \n",
       "</div>\n"
      ],
      "text/plain": [
       "<widgets.indicator.Indicator at 0x790f20278cd0>"
      ]
     },
     "execution_count": 18,
     "metadata": {},
     "output_type": "execute_result"
    }
   ],
   "source": [
    "Indicator(select.value, 'select')"
   ]
  },
  {
   "cell_type": "code",
   "execution_count": 19,
   "id": "978bb3a1-4abc-4e70-99ce-62fe6b476ed9",
   "metadata": {},
   "outputs": [
    {
     "data": {
      "application/mercury+json": "{\n    \"widget\": \"MultiSelectWidget\",\n    \"model_id\": \"b4833c792d6541f9984bbe4b9fdd0753\",\n    \"position\": \"sidebar\"\n}",
      "application/vnd.jupyter.widget-view+json": {
       "model_id": "b4833c792d6541f9984bbe4b9fdd0753",
       "version_major": 2,
       "version_minor": 1
      },
      "text/plain": [
       "MultiSelectWidget(choices=['a', 'b', 'c'], label='Multi', value=['b', 'c'])"
      ]
     },
     "metadata": {},
     "output_type": "display_data"
    }
   ],
   "source": [
    "multi = MultiSelect(label=\"Multi\", choices=[\"a\", \"b\", \"c\"], value=[\"b\",\"c\"])"
   ]
  },
  {
   "cell_type": "code",
   "execution_count": 20,
   "id": "d8d1a6f2-5dd6-4331-a82c-29bf8bded442",
   "metadata": {},
   "outputs": [
    {
     "data": {
      "text/plain": [
       "['b', 'c']"
      ]
     },
     "execution_count": 20,
     "metadata": {},
     "output_type": "execute_result"
    }
   ],
   "source": [
    "multi.value"
   ]
  },
  {
   "cell_type": "code",
   "execution_count": 21,
   "id": "4dfeb2df-567d-4a2c-8ae6-a139136b6e15",
   "metadata": {},
   "outputs": [
    {
     "data": {
      "image/png": "[encoded data removed]",
      "text/plain": [
       "<Figure size 640x480 with 1 Axes>"
      ]
     },
     "metadata": {},
     "output_type": "display_data"
    }
   ],
   "source": [
    "import matplotlib.pyplot as plt\n",
    "plt.plot([1,2], [slider.value, slider2.value])\n",
    "plt.title(select.value)\n",
    "plt.show()"
   ]
  },
  {
   "cell_type": "code",
   "execution_count": 21,
   "id": "5624070b-6f79-49c4-b698-321fb9cc34fc",
   "metadata": {},
   "outputs": [],
   "source": []
  },
  {
   "cell_type": "code",
   "execution_count": 21,
   "id": "125ae586-0509-41be-a71a-74e382b24176",
   "metadata": {},
   "outputs": [],
   "source": []
  },
  {
   "cell_type": "code",
   "execution_count": 21,
   "id": "c4a610f7-db38-4699-bba7-4cbeb3741be8",
   "metadata": {},
   "outputs": [],
   "source": []
  }
 ],
 "metadata": {
  "kernelspec": {
   "display_name": "Python 3 (ipykernel)",
   "language": "python",
   "name": "python3"
  },
  "language_info": {
   "codemirror_mode": {
    "name": "ipython",
    "version": 3
   },
   "file_extension": ".py",
   "mimetype": "text/x-python",
   "name": "python",
   "nbconvert_exporter": "python",
   "pygments_lexer": "ipython3",
   "version": "3.11.5"
  },
  "widgets": {
   "application/vnd.jupyter.widget-state+json": {
    "state": {},
    "version_major": 2,
    "version_minor": 0
   }
  }
 },
 "nbformat": 4,
 "nbformat_minor": 5
}
