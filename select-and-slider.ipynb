{
 "cells": [
  {
   "cell_type": "code",
   "execution_count": 1677,
   "id": "e40b791c-c20b-450e-b29c-0c1b198fa375",
   "metadata": {},
   "outputs": [],
   "source": [
    "from widgets.select import Select"
   ]
  },
  {
   "cell_type": "code",
   "execution_count": 1678,
   "id": "49d05975-9460-4383-ac44-491e957c4950",
   "metadata": {},
   "outputs": [],
   "source": [
    "from widgets.multiselect import MultiSelect"
   ]
  },
  {
   "cell_type": "code",
   "execution_count": 2,
   "id": "0ac5c0b3-e962-49c1-a2dc-5f378936659c",
   "metadata": {},
   "outputs": [],
   "source": [
    "from widgets.slider import Slider"
   ]
  },
  {
   "cell_type": "code",
   "execution_count": 3,
   "id": "4390836e-ee3e-4ef3-aa1e-241aa40823d4",
   "metadata": {},
   "outputs": [],
   "source": [
    "from widgets.indicator import Indicator"
   ]
  },
  {
   "cell_type": "code",
   "execution_count": 4,
   "id": "c5016d9f-d59d-4425-a665-1c6b1f43361f",
   "metadata": {},
   "outputs": [
    {
     "data": {
      "application/mercury+json": "{\n    \"widget\": \"SliderWidget\",\n    \"model_id\": \"03b9751d2b584de38c78f4cb6222d84b\",\n    \"position\": \"sidebar\"\n}",
      "application/vnd.jupyter.widget-view+json": {
       "model_id": "03b9751d2b584de38c78f4cb6222d84b",
       "version_major": 2,
       "version_minor": 1
      },
      "text/plain": [
       "SliderWidget(label='Slider', value=3)"
      ]
     },
     "metadata": {},
     "output_type": "display_data"
    }
   ],
   "source": [
    "slider = Slider(label=\"Slider\", value=3)"
   ]
  },
  {
   "cell_type": "code",
   "execution_count": 1583,
   "id": "0b791543-3774-41cb-89cc-a1e426f8d02f",
   "metadata": {},
   "outputs": [
    {
     "data": {
      "text/plain": [
       "44"
      ]
     },
     "execution_count": 1583,
     "metadata": {},
     "output_type": "execute_result"
    }
   ],
   "source": [
    "slider.value"
   ]
  },
  {
   "cell_type": "code",
   "execution_count": 1584,
   "id": "7946441c-0b7a-40b3-8982-7ccdca8edbff",
   "metadata": {},
   "outputs": [
    {
     "data": {
      "application/mercury+json": "{\n    \"widget\": \"SliderWidget\",\n    \"model_id\": \"e4b41f2f4f2a44309f577beb66d0f26e\",\n    \"position\": \"inline\"\n}",
      "application/vnd.jupyter.widget-view+json": {
       "model_id": "e4b41f2f4f2a44309f577beb66d0f26e",
       "version_major": 2,
       "version_minor": 1
      },
      "text/plain": [
       "SliderWidget(label='Slider 2', position='inline', value=100)"
      ]
     },
     "metadata": {},
     "output_type": "display_data"
    }
   ],
   "source": [
    "slider2 = Slider(label=\"Slider 2\", value=72, position=\"inline\")"
   ]
  },
  {
   "cell_type": "code",
   "execution_count": 1641,
   "id": "6b6bf127-5a54-4896-bed8-b1a4a2857c5a",
   "metadata": {},
   "outputs": [
    {
     "data": {
      "text/plain": [
       "46"
      ]
     },
     "execution_count": 1641,
     "metadata": {},
     "output_type": "execute_result"
    }
   ],
   "source": [
    "slider2.value"
   ]
  },
  {
   "cell_type": "code",
   "execution_count": 1642,
   "id": "e25ed431-85c8-4479-91e2-69207f66d394",
   "metadata": {},
   "outputs": [
    {
     "data": {
      "application/mercury+json": "{\n    \"widget\": \"SliderWidget\",\n    \"model_id\": \"b0af3208fb634ecda78314eb67b88f50\",\n    \"position\": \"sidebar\"\n}",
      "application/vnd.jupyter.widget-view+json": {
       "model_id": "b0af3208fb634ecda78314eb67b88f50",
       "version_major": 2,
       "version_minor": 1
      },
      "text/plain": [
       "SliderWidget(label='Slider 3', value=79)"
      ]
     },
     "metadata": {},
     "output_type": "display_data"
    }
   ],
   "source": [
    "slider3 = Slider(label=\"Slider 3\", value=33)"
   ]
  },
  {
   "cell_type": "code",
   "execution_count": 1711,
   "id": "bd3dd4bb-3c59-433d-a5bf-5e0d6bd1e8fb",
   "metadata": {},
   "outputs": [
    {
     "data": {
      "text/plain": [
       "34"
      ]
     },
     "execution_count": 1711,
     "metadata": {},
     "output_type": "execute_result"
    }
   ],
   "source": [
    "slider3.value"
   ]
  },
  {
   "cell_type": "code",
   "execution_count": 1712,
   "id": "74c13559-9b96-4c15-b5be-71939868db59",
   "metadata": {},
   "outputs": [
    {
     "data": {
      "application/mercury+json": "{\n    \"widget\": \"SliderWidget\",\n    \"model_id\": \"28a358a1a86d4ea5a7df44a8eb7efb22\",\n    \"position\": \"sidebar\"\n}",
      "application/vnd.jupyter.widget-view+json": {
       "model_id": "28a358a1a86d4ea5a7df44a8eb7efb22",
       "version_major": 2,
       "version_minor": 1
      },
      "text/plain": [
       "SliderWidget(label='Slider 4', value=46)"
      ]
     },
     "metadata": {},
     "output_type": "display_data"
    }
   ],
   "source": [
    "slider4 = Slider(label=\"Slider 4\", value=42)"
   ]
  },
  {
   "cell_type": "code",
   "execution_count": 1723,
   "id": "1b4450ed-1eb7-47c3-aa69-755772531bf6",
   "metadata": {},
   "outputs": [
    {
     "data": {
      "text/plain": [
       "80"
      ]
     },
     "execution_count": 1723,
     "metadata": {},
     "output_type": "execute_result"
    }
   ],
   "source": [
    "slider4.value"
   ]
  },
  {
   "cell_type": "code",
   "execution_count": 1724,
   "id": "bed92d76-af50-4f47-ac2f-ae7f06a9c1b4",
   "metadata": {},
   "outputs": [
    {
     "data": {
      "application/mercury+json": "{\n    \"widget\": \"SliderWidget\",\n    \"model_id\": \"1e4603a86ff24d4497b6d354bdd297ba\",\n    \"position\": \"inline\"\n}",
      "application/vnd.jupyter.widget-view+json": {
       "model_id": "1e4603a86ff24d4497b6d354bdd297ba",
       "version_major": 2,
       "version_minor": 1
      },
      "text/plain": [
       "SliderWidget(label='Slider 5', position='inline', value=33)"
      ]
     },
     "metadata": {},
     "output_type": "display_data"
    }
   ],
   "source": [
    "slider5 = Slider(label=\"Slider 5\", value=56, position='inline')"
   ]
  },
  {
   "cell_type": "code",
   "execution_count": 1725,
   "id": "76050baa-ac1a-4a72-9307-6bc46c67b4d9",
   "metadata": {},
   "outputs": [
    {
     "data": {
      "text/plain": [
       "33"
      ]
     },
     "execution_count": 1725,
     "metadata": {},
     "output_type": "execute_result"
    }
   ],
   "source": [
    "slider5.value"
   ]
  },
  {
   "cell_type": "code",
   "execution_count": 1726,
   "id": "18b91b09-58c3-482b-ad05-f3a79a1ac711",
   "metadata": {},
   "outputs": [
    {
     "data": {
      "text/html": [
       "\n",
       "        <style scoped>\n",
       "        .mljar-indicator-row {\n",
       "            width: 100%;\n",
       "            display: flex;\n",
       "            flex-direction: row;\n",
       "            gap: 5px;\n",
       "            justify-content: flex-start;\n",
       "        }\n",
       "        @media (max-width: 800px) {\n",
       "            .mljar-indicator-row {\n",
       "                flex-direction: column;\n",
       "            }\n",
       "        }\n",
       "        .mljar-indicator-card {\n",
       "            flex: 1 1 0;\n",
       "            background: var(--bg, #fff);\n",
       "            border: 1px solid var(--border, #ebebeb);\n",
       "            border-radius: 12px;\n",
       "            padding: 26px 24px 18px 24px;\n",
       "            margin: 8px;\n",
       "            text-align: center;                \n",
       "            min-width: 180px;\n",
       "            max-width: 240px !important;\n",
       "            box-shadow: 0 2px 8px rgba(0,0,0,0.04);\n",
       "        }\n",
       "        .mljar-indicator-title {\n",
       "            font-size: 1.3em !important;\n",
       "            color: var(--label, #555);\n",
       "            margin-bottom: 10px;\n",
       "            font-family: 'Inter', 'Segoe UI', Arial, sans-serif !important;\n",
       "        }\n",
       "        .mljar-indicator-value {\n",
       "            font-size: 2.7em;\n",
       "            color: var(--value, #222);\n",
       "            font-family: 'Menlo', 'Consolas', monospace;\n",
       "            margin-bottom: 12px;\n",
       "            letter-spacing: 1px;\n",
       "        }\n",
       "        .mljar-indicator-delta {\n",
       "            display: inline-block;\n",
       "            padding: 0.28em 1.1em 0.28em 1.1em;\n",
       "            font-size: 1em;\n",
       "            border-radius: 2em;\n",
       "            margin-bottom: 4px;\n",
       "            font-family: 'Menlo', monospace;\n",
       "            font-weight: bold;\n",
       "        }\n",
       "        .mljar-indicator-delta.up {\n",
       "            background: var(--bg-green, rgba(0,178,117,0.12));\n",
       "            color: var(--green, #00B275);\n",
       "        }\n",
       "        .mljar-indicator-delta.down {\n",
       "            background: var(--bg-red, rgba(255,99,132,0.13));\n",
       "            color: var(--red, #FF6384);\n",
       "        }\n",
       "        </style>\n",
       "        <div class='mljar-indicator-row'>\n",
       "        <style scoped>\n",
       "        .mljar-indicator-row {\n",
       "            width: 100%;\n",
       "            display: flex;\n",
       "            flex-direction: row;\n",
       "            gap: 5px;\n",
       "            justify-content: flex-start;\n",
       "        }\n",
       "        @media (max-width: 800px) {\n",
       "            .mljar-indicator-row {\n",
       "                flex-direction: column;\n",
       "            }\n",
       "        }\n",
       "        .mljar-indicator-card {\n",
       "            flex: 1 1 0;\n",
       "            background: var(--bg, #fff);\n",
       "            border: 1px solid var(--border, #ebebeb);\n",
       "            border-radius: 12px;\n",
       "            padding: 26px 24px 18px 24px;\n",
       "            margin: 8px;\n",
       "            text-align: center;                \n",
       "            min-width: 180px;\n",
       "            max-width: 240px !important;\n",
       "            box-shadow: 0 2px 8px rgba(0,0,0,0.04);\n",
       "        }\n",
       "        .mljar-indicator-title {\n",
       "            font-size: 1.3em !important;\n",
       "            color: var(--label, #555);\n",
       "            margin-bottom: 10px;\n",
       "            font-family: 'Inter', 'Segoe UI', Arial, sans-serif !important;\n",
       "        }\n",
       "        .mljar-indicator-value {\n",
       "            font-size: 2.7em;\n",
       "            color: var(--value, #222);\n",
       "            font-family: 'Menlo', 'Consolas', monospace;\n",
       "            margin-bottom: 12px;\n",
       "            letter-spacing: 1px;\n",
       "        }\n",
       "        .mljar-indicator-delta {\n",
       "            display: inline-block;\n",
       "            padding: 0.28em 1.1em 0.28em 1.1em;\n",
       "            font-size: 1em;\n",
       "            border-radius: 2em;\n",
       "            margin-bottom: 4px;\n",
       "            font-family: 'Menlo', monospace;\n",
       "            font-weight: bold;\n",
       "        }\n",
       "        .mljar-indicator-delta.up {\n",
       "            background: var(--bg-green, rgba(0,178,117,0.12));\n",
       "            color: var(--green, #00B275);\n",
       "        }\n",
       "        .mljar-indicator-delta.down {\n",
       "            background: var(--bg-red, rgba(255,99,132,0.13));\n",
       "            color: var(--red, #FF6384);\n",
       "        }\n",
       "        </style>\n",
       "        \n",
       "<div class=\"mljar-indicator-card\"\n",
       "     style=\"--bg:#fff;--border:#ebebeb;--value:#222;--label:#555;--green:#00B275;--bg-green:rgba(0, 178, 117, 0.12);--red:#FF6384;--bg-red:rgba(255, 99, 132, 0.13)\">\n",
       "    <div class='mljar-indicator-title'>slider</div>\n",
       "    <div class='mljar-indicator-value'>44</div>\n",
       "    \n",
       "</div>\n",
       "\n",
       "        <style scoped>\n",
       "        .mljar-indicator-row {\n",
       "            width: 100%;\n",
       "            display: flex;\n",
       "            flex-direction: row;\n",
       "            gap: 5px;\n",
       "            justify-content: flex-start;\n",
       "        }\n",
       "        @media (max-width: 800px) {\n",
       "            .mljar-indicator-row {\n",
       "                flex-direction: column;\n",
       "            }\n",
       "        }\n",
       "        .mljar-indicator-card {\n",
       "            flex: 1 1 0;\n",
       "            background: var(--bg, #fff);\n",
       "            border: 1px solid var(--border, #ebebeb);\n",
       "            border-radius: 12px;\n",
       "            padding: 26px 24px 18px 24px;\n",
       "            margin: 8px;\n",
       "            text-align: center;                \n",
       "            min-width: 180px;\n",
       "            max-width: 240px !important;\n",
       "            box-shadow: 0 2px 8px rgba(0,0,0,0.04);\n",
       "        }\n",
       "        .mljar-indicator-title {\n",
       "            font-size: 1.3em !important;\n",
       "            color: var(--label, #555);\n",
       "            margin-bottom: 10px;\n",
       "            font-family: 'Inter', 'Segoe UI', Arial, sans-serif !important;\n",
       "        }\n",
       "        .mljar-indicator-value {\n",
       "            font-size: 2.7em;\n",
       "            color: var(--value, #222);\n",
       "            font-family: 'Menlo', 'Consolas', monospace;\n",
       "            margin-bottom: 12px;\n",
       "            letter-spacing: 1px;\n",
       "        }\n",
       "        .mljar-indicator-delta {\n",
       "            display: inline-block;\n",
       "            padding: 0.28em 1.1em 0.28em 1.1em;\n",
       "            font-size: 1em;\n",
       "            border-radius: 2em;\n",
       "            margin-bottom: 4px;\n",
       "            font-family: 'Menlo', monospace;\n",
       "            font-weight: bold;\n",
       "        }\n",
       "        .mljar-indicator-delta.up {\n",
       "            background: var(--bg-green, rgba(0,178,117,0.12));\n",
       "            color: var(--green, #00B275);\n",
       "        }\n",
       "        .mljar-indicator-delta.down {\n",
       "            background: var(--bg-red, rgba(255,99,132,0.13));\n",
       "            color: var(--red, #FF6384);\n",
       "        }\n",
       "        </style>\n",
       "        \n",
       "<div class=\"mljar-indicator-card\"\n",
       "     style=\"--bg:#fff;--border:#ebebeb;--value:#222;--label:#555;--green:#00B275;--bg-green:rgba(0, 178, 117, 0.12);--red:#FF6384;--bg-red:rgba(255, 99, 132, 0.13)\">\n",
       "    <div class='mljar-indicator-title'>slider 2</div>\n",
       "    <div class='mljar-indicator-value'>46</div>\n",
       "    \n",
       "</div>\n",
       "</div>"
      ],
      "text/plain": [
       "<widgets.indicator.Indicator at 0x71e34590aed0>"
      ]
     },
     "execution_count": 1726,
     "metadata": {},
     "output_type": "execute_result"
    }
   ],
   "source": [
    "Indicator([\n",
    "    Indicator(slider.value, 'slider'),\n",
    "    Indicator(slider2.value, 'slider 2')\n",
    "])"
   ]
  },
  {
   "cell_type": "code",
   "execution_count": 1727,
   "id": "e108a7a0-58a1-4636-bd03-0807898e51c7",
   "metadata": {},
   "outputs": [
    {
     "data": {
      "application/mercury+json": "{\n    \"widget\": \"SelectWidget\",\n    \"model_id\": \"33d867108525431faaeaf7d90f5c5548\",\n    \"position\": \"sidebar\"\n}",
      "application/vnd.jupyter.widget-view+json": {
       "model_id": "33d867108525431faaeaf7d90f5c5548",
       "version_major": 2,
       "version_minor": 1
      },
      "text/plain": [
       "SelectWidget(choices=['A', 'B', 'C'], label='Select', value='B')"
      ]
     },
     "metadata": {},
     "output_type": "display_data"
    }
   ],
   "source": [
    "select = Select(label=\"Select\", value='A', choices=['A', 'B', 'C'])"
   ]
  },
  {
   "cell_type": "code",
   "execution_count": 1739,
   "id": "92905852-33d8-4ef9-87d5-68d616d89f09",
   "metadata": {},
   "outputs": [
    {
     "data": {
      "text/plain": [
       "'A'"
      ]
     },
     "execution_count": 1739,
     "metadata": {},
     "output_type": "execute_result"
    }
   ],
   "source": [
    "select.value"
   ]
  },
  {
   "cell_type": "code",
   "execution_count": 1740,
   "id": "495e0fb6-02e5-457d-83a7-115cbb0a2f0f",
   "metadata": {},
   "outputs": [
    {
     "data": {
      "text/html": [
       "\n",
       "        <style scoped>\n",
       "        .mljar-indicator-row {\n",
       "            width: 100%;\n",
       "            display: flex;\n",
       "            flex-direction: row;\n",
       "            gap: 5px;\n",
       "            justify-content: flex-start;\n",
       "        }\n",
       "        @media (max-width: 800px) {\n",
       "            .mljar-indicator-row {\n",
       "                flex-direction: column;\n",
       "            }\n",
       "        }\n",
       "        .mljar-indicator-card {\n",
       "            flex: 1 1 0;\n",
       "            background: var(--bg, #fff);\n",
       "            border: 1px solid var(--border, #ebebeb);\n",
       "            border-radius: 12px;\n",
       "            padding: 26px 24px 18px 24px;\n",
       "            margin: 8px;\n",
       "            text-align: center;                \n",
       "            min-width: 180px;\n",
       "            max-width: 240px !important;\n",
       "            box-shadow: 0 2px 8px rgba(0,0,0,0.04);\n",
       "        }\n",
       "        .mljar-indicator-title {\n",
       "            font-size: 1.3em !important;\n",
       "            color: var(--label, #555);\n",
       "            margin-bottom: 10px;\n",
       "            font-family: 'Inter', 'Segoe UI', Arial, sans-serif !important;\n",
       "        }\n",
       "        .mljar-indicator-value {\n",
       "            font-size: 2.7em;\n",
       "            color: var(--value, #222);\n",
       "            font-family: 'Menlo', 'Consolas', monospace;\n",
       "            margin-bottom: 12px;\n",
       "            letter-spacing: 1px;\n",
       "        }\n",
       "        .mljar-indicator-delta {\n",
       "            display: inline-block;\n",
       "            padding: 0.28em 1.1em 0.28em 1.1em;\n",
       "            font-size: 1em;\n",
       "            border-radius: 2em;\n",
       "            margin-bottom: 4px;\n",
       "            font-family: 'Menlo', monospace;\n",
       "            font-weight: bold;\n",
       "        }\n",
       "        .mljar-indicator-delta.up {\n",
       "            background: var(--bg-green, rgba(0,178,117,0.12));\n",
       "            color: var(--green, #00B275);\n",
       "        }\n",
       "        .mljar-indicator-delta.down {\n",
       "            background: var(--bg-red, rgba(255,99,132,0.13));\n",
       "            color: var(--red, #FF6384);\n",
       "        }\n",
       "        </style>\n",
       "        \n",
       "<div class=\"mljar-indicator-card\"\n",
       "     style=\"--bg:#fff;--border:#ebebeb;--value:#222;--label:#555;--green:#00B275;--bg-green:rgba(0, 178, 117, 0.12);--red:#FF6384;--bg-red:rgba(255, 99, 132, 0.13)\">\n",
       "    <div class='mljar-indicator-title'>select</div>\n",
       "    <div class='mljar-indicator-value'>A</div>\n",
       "    \n",
       "</div>\n"
      ],
      "text/plain": [
       "<widgets.indicator.Indicator at 0x71e345c09f50>"
      ]
     },
     "execution_count": 1740,
     "metadata": {},
     "output_type": "execute_result"
    }
   ],
   "source": [
    "Indicator(select.value, 'select')"
   ]
  },
  {
   "cell_type": "code",
   "execution_count": 1741,
   "id": "978bb3a1-4abc-4e70-99ce-62fe6b476ed9",
   "metadata": {},
   "outputs": [
    {
     "data": {
      "application/mercury+json": "{\n    \"widget\": \"MultiSelectWidget\",\n    \"model_id\": \"12edb1bf71ef4fa28babfa4a6bf786dc\",\n    \"position\": \"sidebar\"\n}",
      "application/vnd.jupyter.widget-view+json": {
       "model_id": "12edb1bf71ef4fa28babfa4a6bf786dc",
       "version_major": 2,
       "version_minor": 1
      },
      "text/plain": [
       "MultiSelectWidget(choices=['a', 'b', 'c'], label='Multi', value=['c'])"
      ]
     },
     "metadata": {},
     "output_type": "display_data"
    }
   ],
   "source": [
    "multi = MultiSelect(label=\"Multi\", choices=[\"a\", \"b\", \"c\"], value=[\"b\",\"c\"])"
   ]
  },
  {
   "cell_type": "code",
   "execution_count": 1742,
   "id": "d8d1a6f2-5dd6-4331-a82c-29bf8bded442",
   "metadata": {},
   "outputs": [
    {
     "data": {
      "text/plain": [
       "['c']"
      ]
     },
     "execution_count": 1742,
     "metadata": {},
     "output_type": "execute_result"
    }
   ],
   "source": [
    "multi.value"
   ]
  },
  {
   "cell_type": "code",
   "execution_count": 1743,
   "id": "4dfeb2df-567d-4a2c-8ae6-a139136b6e15",
   "metadata": {},
   "outputs": [
    {
     "data": {
      "image/png": "[encoded data removed]",
      "text/plain": [
       "<Figure size 640x480 with 1 Axes>"
      ]
     },
     "metadata": {},
     "output_type": "display_data"
    }
   ],
   "source": [
    "import matplotlib.pyplot as plt\n",
    "plt.plot([1,2], [slider.value, slider2.value])\n",
    "plt.title(select.value)\n",
    "plt.show()"
   ]
  },
  {
   "cell_type": "code",
   "execution_count": 1743,
   "id": "5624070b-6f79-49c4-b698-321fb9cc34fc",
   "metadata": {},
   "outputs": [],
   "source": []
  }
 ],
 "metadata": {
  "kernelspec": {
   "display_name": "Python 3 (ipykernel)",
   "language": "python",
   "name": "python3"
  },
  "language_info": {
   "codemirror_mode": {
    "name": "ipython",
    "version": 3
   },
   "file_extension": ".py",
   "mimetype": "text/x-python",
   "name": "python",
   "nbconvert_exporter": "python",
   "pygments_lexer": "ipython3",
   "version": "3.11.5"
  },
  "widgets": {
   "application/vnd.jupyter.widget-state+json": {
    "state": {
     "038c4d965cd446d7a8da359b0554339d": {
      "model_module": "@jupyter-widgets/base",
      "model_module_version": "2.0.0",
      "model_name": "LayoutModel",
      "state": {}
     },
     "03b9751d2b584de38c78f4cb6222d84b": {
      "model_module": "anywidget",
      "model_module_version": "~0.9.*",
      "model_name": "AnyModel",
      "state": {
       "_anywidget_id": "widgets.slider.SliderWidget",
       "_css": "\n    .mljar-slider-container {\n        display: flex;\n        flex-direction: column;\n        align-items: flex-start;\n        width: 100%;\n        min-width: 120px;\n        font-family: Arial, sans-serif;\n        font-size: 12px;\n        font-weight: normal;\n        color: #222222;\n    }\n\n    .mljar-slider-top-label {\n        margin-bottom: 6px;\n        font-weight: bold;\n    }\n\n    .mljar-slider-row {\n        display: flex;\n        flex-direction: row;\n        align-items: center;\n        width: 100%;\n        overflow: hidden;\n    }\n\n    .mljar-slider-input {\n        flex: 1 1 auto;\n        min-width: 60px;\n        max-width: 100%;\n        margin-right: 16px;\n        background: transparent;\n        -webkit-appearance: none;\n        appearance: none;\n        border: none;\n        height: 24px; /* big enough for thumb */\n        padding: 0;\n    }\n\n    .mljar-slider-input:focus {\n        outline: none;\n    }\n\n    /* Track */\n    .mljar-slider-input::-webkit-slider-runnable-track {\n        height: 6px;\n        background: #e0e0e0;\n        border-radius: 16px;\n        margin: auto; /* center track in the input box */\n    }\n    .mljar-slider-input::-moz-range-track {\n        height: 6px;\n        background: #e0e0e0;\n        border-radius: 16px;\n    }\n\n    /* Thumb */\n    .mljar-slider-input::-webkit-slider-thumb {\n        -webkit-appearance: none;\n        appearance: none;\n        width: 16px;\n        height: 16px;\n        border-radius: 50%;\n        background: #007bff;\n        cursor: pointer;\n        margin-top: -5px; /* centers thumb on track */\n    }\n    .mljar-slider-input::-moz-range-thumb {\n        width: 16px;\n        height: 16px;\n        border-radius: 50%;\n        background: #007bff;\n        cursor: pointer;\n    }\n\n    .mljar-slider-value-label {\n        font-weight: bold;\n        font-size: 1.1em;\n        color: #222222;\n        margin-left: 8px;\n    }\n    ",
       "_esm": "\n    function render({ model, el }) {\n      // Container for the whole widget\n      let container = document.createElement(\"div\");\n      container.classList.add(\"mljar-slider-container\");\n\n      // Top label (left-aligned)\n      let topLabel = document.createElement(\"div\");\n      topLabel.classList.add(\"mljar-slider-top-label\");\n      topLabel.innerHTML = model.get(\"label\") || \"Select number\";\n\n      // Row: slider and value label\n      let sliderRow = document.createElement(\"div\");\n      sliderRow.classList.add(\"mljar-slider-row\");\n\n      // Slider input\n      let slider = document.createElement(\"input\");\n      slider.type = \"range\";\n      slider.min = model.get(\"min\");\n      slider.max = model.get(\"max\");\n      slider.value = model.get(\"value\");\n      slider.classList.add(\"mljar-slider-input\");\n\n      // Value label (to the right of slider)\n      let valueLabel = document.createElement(\"span\");\n      valueLabel.classList.add(\"mljar-slider-value-label\");\n      valueLabel.innerHTML = model.get(\"value\");\n\n      //slider.addEventListener(\"input\", () => {\n      //  model.set(\"value\", Number(slider.value));\n      //  model.save_changes();\n      //});\n      let debounceTimer = null;\n      slider.addEventListener(\"input\", () => {\n        model.set(\"value\", Number(slider.value));\n        if (debounceTimer) clearTimeout(debounceTimer);\n        debounceTimer = setTimeout(() => {\n            model.save_changes();\n        }, 100);\n      });\n\n      model.on(\"change:value\", () => {\n        slider.value = model.get(\"value\");\n        valueLabel.innerHTML = model.get(\"value\");\n      });\n\n      // Assemble row\n      sliderRow.appendChild(slider);\n      sliderRow.appendChild(valueLabel);\n\n      // Build structure\n      container.appendChild(topLabel);\n      container.appendChild(sliderRow);\n      el.appendChild(container);\n\n      const css = model.get(\"custom_css\");\n      if (css && css.trim().length > 0) {\n        let styleTag = document.createElement(\"style\");\n        styleTag.textContent = css;\n        el.appendChild(styleTag);\n      }\n    }\n    export default { render };\n    ",
       "_model_module": "anywidget",
       "_model_module_version": "~0.9.*",
       "_model_name": "AnyModel",
       "_view_module": "anywidget",
       "_view_module_version": "~0.9.*",
       "_view_name": "AnyView",
       "custom_css": "",
       "label": "Slider",
       "layout": "IPY_MODEL_9652749c23f94b42b091e62a057b36ea",
       "max": 100,
       "min": 0,
       "position": "sidebar",
       "value": 44
      }
     },
     "0caa13c16a444060aaa9244d848c395d": {
      "model_module": "@jupyter-widgets/base",
      "model_module_version": "2.0.0",
      "model_name": "LayoutModel",
      "state": {}
     },
     "12edb1bf71ef4fa28babfa4a6bf786dc": {
      "model_module": "anywidget",
      "model_module_version": "~0.9.*",
      "model_name": "AnyModel",
      "state": {
       "_anywidget_id": "widgets.multiselect.MultiSelectWidget",
       "_css": "\n    .mljar-ms-container {\n      display: flex;\n      flex-direction: column;\n      width: 100%;\n      font-family: Arial, sans-serif;\n      font-size: 12px;\n      margin-bottom: 8px;\n    }\n    .mljar-ms-label {\n      margin-bottom: 4px;\n      font-weight: bold;\n    }\n    .mljar-ms-control {\n      display: flex;\n      justify-content: space-between;\n      border: 1px solid #cccccc;\n      border-radius: 16px;\n      padding: 4px;\n      background: #fff;\n      cursor: pointer;\n    }\n    .mljar-ms-chips {\n      display: flex;\n      flex-wrap: wrap;\n      gap: 4px;\n    }\n    .mljar-ms-placeholder {\n      color: #888;\n    }\n    .mljar-ms-chip {\n      background: #e9ecef;\n      padding: 2px 6px;\n      border-radius: 10px;\n    }\n    .mljar-ms-chip-x {\n      border: none;\n      background: transparent;\n      cursor: pointer;\n    }\n    .mljar-ms-dropdown {\n      display: none;\n      border: 1px solid #cccccc;\n      border-radius: 16px;\n      margin-top: 4px;\n      background: #fff;\n    }\n    .mljar-ms-list {\n      list-style: none;\n      margin: 0;\n      padding: 0;\n      max-height: 150px;\n      overflow: auto;\n    }\n    .mljar-ms-item {\n      display: flex;\n      gap: 6px;\n      padding: 4px;\n      cursor: pointer;\n    }\n    .mljar-ms-item:hover {\n      background: #f6f6f6;\n    }\n    ",
       "_esm": "\n    function render({ model, el }) {\n      const getSelected = () => Array.isArray(model.get(\"value\")) ? [...model.get(\"value\")] : [];\n      const getChoices  = () => Array.isArray(model.get(\"choices\")) ? [...model.get(\"choices\")] : [];\n      const isDisabled  = () => !!model.get(\"disabled\");\n      const setModelValueDebounced = (() => {\n        let t = null;\n        return (val) => {\n          model.set(\"value\", val);\n          if (t) clearTimeout(t);\n          t = setTimeout(() => model.save_changes(), 100);\n        };\n      })();\n\n      const container = document.createElement(\"div\");\n      container.classList.add(\"mljar-ms-container\");\n\n      const labelText = model.get(\"label\");\n      if (labelText) {\n        const topLabel = document.createElement(\"div\");\n        topLabel.classList.add(\"mljar-ms-label\");\n        topLabel.innerHTML = labelText;\n        container.appendChild(topLabel);\n      }\n\n      const control = document.createElement(\"div\");\n      control.classList.add(\"mljar-ms-control\");\n\n      const chipsWrap = document.createElement(\"div\");\n      chipsWrap.classList.add(\"mljar-ms-chips\");\n\n      const actions = document.createElement(\"div\");\n      actions.classList.add(\"mljar-ms-actions\");\n\n      const clearBtn = document.createElement(\"button\");\n      clearBtn.classList.add(\"mljar-ms-btn\");\n      clearBtn.innerHTML = \"&times;\";\n\n      const toggleBtn = document.createElement(\"button\");\n      toggleBtn.classList.add(\"mljar-ms-btn\");\n      toggleBtn.innerHTML = \"&#9662;\";\n\n      actions.appendChild(clearBtn);\n      actions.appendChild(toggleBtn);\n\n      control.appendChild(chipsWrap);\n      control.appendChild(actions);\n\n      const dropdown = document.createElement(\"div\");\n      dropdown.classList.add(\"mljar-ms-dropdown\");\n      const list = document.createElement(\"ul\");\n      list.classList.add(\"mljar-ms-list\");\n      dropdown.appendChild(list);\n\n      container.appendChild(control);\n      container.appendChild(dropdown);\n      el.appendChild(container);\n\n      let open = false;\n\n      function renderChips() {\n        const selected = getSelected();\n        chipsWrap.innerHTML = \"\";\n        if (selected.length === 0) {\n          const ph = document.createElement(\"span\");\n          ph.classList.add(\"mljar-ms-placeholder\");\n          ph.textContent = model.get(\"placeholder\") || \"\";\n          chipsWrap.appendChild(ph);\n        } else {\n          selected.forEach(val => {\n            const chip = document.createElement(\"span\");\n            chip.classList.add(\"mljar-ms-chip\");\n            chip.textContent = val;\n            const x = document.createElement(\"button\");\n            x.classList.add(\"mljar-ms-chip-x\");\n            x.innerHTML = \"&times;\";\n            x.addEventListener(\"click\", (e) => {\n              e.stopPropagation();\n              if (isDisabled()) return;\n              const newSel = getSelected().filter(v => v !== val);\n              setModelValueDebounced(newSel);\n            });\n            chip.appendChild(x);\n            chipsWrap.appendChild(chip);\n          });\n        }\n        clearBtn.disabled = isDisabled() || getSelected().length === 0;\n      }\n\n      function renderOptions() {\n        const choices = getChoices();\n        const selected = new Set(getSelected());\n        list.innerHTML = \"\";\n        choices.forEach(val => {\n          const li = document.createElement(\"li\");\n          li.classList.add(\"mljar-ms-item\");\n          const cb = document.createElement(\"input\");\n          cb.type = \"checkbox\";\n          cb.checked = selected.has(val);\n          cb.disabled = isDisabled();\n          const lbl = document.createElement(\"span\");\n          lbl.textContent = val;\n          li.appendChild(cb);\n          li.appendChild(lbl);\n          li.addEventListener(\"click\", (e) => {\n            e.stopPropagation();\n            if (isDisabled()) return;\n            const sel = new Set(getSelected());\n            if (sel.has(val)) sel.delete(val);\n            else sel.add(val);\n            setModelValueDebounced([...sel]);\n          });\n          list.appendChild(li);\n        });\n      }\n\n      function setOpen(next) {\n        open = !!next;\n        dropdown.style.display = open ? \"block\" : \"none\";\n      }\n\n      control.addEventListener(\"click\", () => {\n        if (isDisabled()) return;\n        setOpen(!open);\n      });\n      toggleBtn.addEventListener(\"click\", (e) => {\n        e.stopPropagation();\n        if (isDisabled()) return;\n        setOpen(!open);\n      });\n      clearBtn.addEventListener(\"click\", (e) => {\n        e.stopPropagation();\n        if (isDisabled()) return;\n        setModelValueDebounced([]);\n      });\n\n      document.addEventListener(\"click\", (e) => {\n        if (!el.contains(e.target)) setOpen(false);\n      });\n\n      renderChips();\n      renderOptions();\n      setOpen(false);\n\n      model.on(\"change:value\", () => {\n        renderChips();\n        renderOptions();\n      });\n      model.on(\"change:choices\", () => {\n        renderChips();\n        renderOptions();\n      });\n      model.on(\"change:disabled\", () => {\n        clearBtn.disabled = isDisabled() || getSelected().length === 0;\n        setOpen(false);\n      });\n\n      const css = model.get(\"custom_css\");\n      if (css && css.trim().length > 0) {\n        let styleTag = document.createElement(\"style\");\n        styleTag.textContent = css;\n        el.appendChild(styleTag);\n      }\n    }\n    export default { render };\n    ",
       "_model_module": "anywidget",
       "_model_module_version": "~0.9.*",
       "_model_name": "AnyModel",
       "_view_module": "anywidget",
       "_view_module_version": "~0.9.*",
       "_view_name": "AnyView",
       "choices": [
        "a",
        "b",
        "c"
       ],
       "custom_css": "",
       "disabled": false,
       "hidden": false,
       "label": "Multi",
       "layout": "IPY_MODEL_e34e53acd275497bb15ce33feec51068",
       "placeholder": "",
       "position": "sidebar",
       "value": [
        "c"
       ]
      }
     },
     "1e4603a86ff24d4497b6d354bdd297ba": {
      "model_module": "anywidget",
      "model_module_version": "~0.9.*",
      "model_name": "AnyModel",
      "state": {
       "_anywidget_id": "widgets.slider.SliderWidget",
       "_css": "\n    .mljar-slider-container {\n        display: flex;\n        flex-direction: column;\n        align-items: flex-start;\n        width: 100%;\n        min-width: 120px;\n        font-family: Arial, sans-serif;\n        font-size: 12px;\n        font-weight: normal;\n        color: #222222;\n    }\n\n    .mljar-slider-top-label {\n        margin-bottom: 6px;\n        font-weight: bold;\n    }\n\n    .mljar-slider-row {\n        display: flex;\n        flex-direction: row;\n        align-items: center;\n        width: 100%;\n        overflow: hidden;\n    }\n\n    .mljar-slider-input {\n        flex: 1 1 auto;\n        min-width: 60px;\n        max-width: 100%;\n        margin-right: 16px;\n        background: transparent;\n        -webkit-appearance: none;\n        appearance: none;\n        border: none;\n        height: 24px; /* big enough for thumb */\n        padding: 0;\n    }\n\n    .mljar-slider-input:focus {\n        outline: none;\n    }\n\n    /* Track */\n    .mljar-slider-input::-webkit-slider-runnable-track {\n        height: 6px;\n        background: #e0e0e0;\n        border-radius: 16px;\n        margin: auto; /* center track in the input box */\n    }\n    .mljar-slider-input::-moz-range-track {\n        height: 6px;\n        background: #e0e0e0;\n        border-radius: 16px;\n    }\n\n    /* Thumb */\n    .mljar-slider-input::-webkit-slider-thumb {\n        -webkit-appearance: none;\n        appearance: none;\n        width: 16px;\n        height: 16px;\n        border-radius: 50%;\n        background: #007bff;\n        cursor: pointer;\n        margin-top: -5px; /* centers thumb on track */\n    }\n    .mljar-slider-input::-moz-range-thumb {\n        width: 16px;\n        height: 16px;\n        border-radius: 50%;\n        background: #007bff;\n        cursor: pointer;\n    }\n\n    .mljar-slider-value-label {\n        font-weight: bold;\n        font-size: 1.1em;\n        color: #222222;\n        margin-left: 8px;\n    }\n    ",
       "_esm": "\n    function render({ model, el }) {\n      // Container for the whole widget\n      let container = document.createElement(\"div\");\n      container.classList.add(\"mljar-slider-container\");\n\n      // Top label (left-aligned)\n      let topLabel = document.createElement(\"div\");\n      topLabel.classList.add(\"mljar-slider-top-label\");\n      topLabel.innerHTML = model.get(\"label\") || \"Select number\";\n\n      // Row: slider and value label\n      let sliderRow = document.createElement(\"div\");\n      sliderRow.classList.add(\"mljar-slider-row\");\n\n      // Slider input\n      let slider = document.createElement(\"input\");\n      slider.type = \"range\";\n      slider.min = model.get(\"min\");\n      slider.max = model.get(\"max\");\n      slider.value = model.get(\"value\");\n      slider.classList.add(\"mljar-slider-input\");\n\n      // Value label (to the right of slider)\n      let valueLabel = document.createElement(\"span\");\n      valueLabel.classList.add(\"mljar-slider-value-label\");\n      valueLabel.innerHTML = model.get(\"value\");\n\n      //slider.addEventListener(\"input\", () => {\n      //  model.set(\"value\", Number(slider.value));\n      //  model.save_changes();\n      //});\n      let debounceTimer = null;\n      slider.addEventListener(\"input\", () => {\n        model.set(\"value\", Number(slider.value));\n        if (debounceTimer) clearTimeout(debounceTimer);\n        debounceTimer = setTimeout(() => {\n            model.save_changes();\n        }, 100);\n      });\n\n      model.on(\"change:value\", () => {\n        slider.value = model.get(\"value\");\n        valueLabel.innerHTML = model.get(\"value\");\n      });\n\n      // Assemble row\n      sliderRow.appendChild(slider);\n      sliderRow.appendChild(valueLabel);\n\n      // Build structure\n      container.appendChild(topLabel);\n      container.appendChild(sliderRow);\n      el.appendChild(container);\n\n      const css = model.get(\"custom_css\");\n      if (css && css.trim().length > 0) {\n        let styleTag = document.createElement(\"style\");\n        styleTag.textContent = css;\n        el.appendChild(styleTag);\n      }\n    }\n    export default { render };\n    ",
       "_model_module": "anywidget",
       "_model_module_version": "~0.9.*",
       "_model_name": "AnyModel",
       "_view_module": "anywidget",
       "_view_module_version": "~0.9.*",
       "_view_name": "AnyView",
       "custom_css": "",
       "label": "Slider 5",
       "layout": "IPY_MODEL_038c4d965cd446d7a8da359b0554339d",
       "max": 100,
       "min": 0,
       "position": "inline",
       "value": 33
      }
     },
     "28a358a1a86d4ea5a7df44a8eb7efb22": {
      "model_module": "anywidget",
      "model_module_version": "~0.9.*",
      "model_name": "AnyModel",
      "state": {
       "_anywidget_id": "widgets.slider.SliderWidget",
       "_css": "\n    .mljar-slider-container {\n        display: flex;\n        flex-direction: column;\n        align-items: flex-start;\n        width: 100%;\n        min-width: 120px;\n        font-family: Arial, sans-serif;\n        font-size: 12px;\n        font-weight: normal;\n        color: #222222;\n    }\n\n    .mljar-slider-top-label {\n        margin-bottom: 6px;\n        font-weight: bold;\n    }\n\n    .mljar-slider-row {\n        display: flex;\n        flex-direction: row;\n        align-items: center;\n        width: 100%;\n        overflow: hidden;\n    }\n\n    .mljar-slider-input {\n        flex: 1 1 auto;\n        min-width: 60px;\n        max-width: 100%;\n        margin-right: 16px;\n        background: transparent;\n        -webkit-appearance: none;\n        appearance: none;\n        border: none;\n        height: 24px; /* big enough for thumb */\n        padding: 0;\n    }\n\n    .mljar-slider-input:focus {\n        outline: none;\n    }\n\n    /* Track */\n    .mljar-slider-input::-webkit-slider-runnable-track {\n        height: 6px;\n        background: #e0e0e0;\n        border-radius: 16px;\n        margin: auto; /* center track in the input box */\n    }\n    .mljar-slider-input::-moz-range-track {\n        height: 6px;\n        background: #e0e0e0;\n        border-radius: 16px;\n    }\n\n    /* Thumb */\n    .mljar-slider-input::-webkit-slider-thumb {\n        -webkit-appearance: none;\n        appearance: none;\n        width: 16px;\n        height: 16px;\n        border-radius: 50%;\n        background: #007bff;\n        cursor: pointer;\n        margin-top: -5px; /* centers thumb on track */\n    }\n    .mljar-slider-input::-moz-range-thumb {\n        width: 16px;\n        height: 16px;\n        border-radius: 50%;\n        background: #007bff;\n        cursor: pointer;\n    }\n\n    .mljar-slider-value-label {\n        font-weight: bold;\n        font-size: 1.1em;\n        color: #222222;\n        margin-left: 8px;\n    }\n    ",
       "_esm": "\n    function render({ model, el }) {\n      // Container for the whole widget\n      let container = document.createElement(\"div\");\n      container.classList.add(\"mljar-slider-container\");\n\n      // Top label (left-aligned)\n      let topLabel = document.createElement(\"div\");\n      topLabel.classList.add(\"mljar-slider-top-label\");\n      topLabel.innerHTML = model.get(\"label\") || \"Select number\";\n\n      // Row: slider and value label\n      let sliderRow = document.createElement(\"div\");\n      sliderRow.classList.add(\"mljar-slider-row\");\n\n      // Slider input\n      let slider = document.createElement(\"input\");\n      slider.type = \"range\";\n      slider.min = model.get(\"min\");\n      slider.max = model.get(\"max\");\n      slider.value = model.get(\"value\");\n      slider.classList.add(\"mljar-slider-input\");\n\n      // Value label (to the right of slider)\n      let valueLabel = document.createElement(\"span\");\n      valueLabel.classList.add(\"mljar-slider-value-label\");\n      valueLabel.innerHTML = model.get(\"value\");\n\n      //slider.addEventListener(\"input\", () => {\n      //  model.set(\"value\", Number(slider.value));\n      //  model.save_changes();\n      //});\n      let debounceTimer = null;\n      slider.addEventListener(\"input\", () => {\n        model.set(\"value\", Number(slider.value));\n        if (debounceTimer) clearTimeout(debounceTimer);\n        debounceTimer = setTimeout(() => {\n            model.save_changes();\n        }, 100);\n      });\n\n      model.on(\"change:value\", () => {\n        slider.value = model.get(\"value\");\n        valueLabel.innerHTML = model.get(\"value\");\n      });\n\n      // Assemble row\n      sliderRow.appendChild(slider);\n      sliderRow.appendChild(valueLabel);\n\n      // Build structure\n      container.appendChild(topLabel);\n      container.appendChild(sliderRow);\n      el.appendChild(container);\n\n      const css = model.get(\"custom_css\");\n      if (css && css.trim().length > 0) {\n        let styleTag = document.createElement(\"style\");\n        styleTag.textContent = css;\n        el.appendChild(styleTag);\n      }\n    }\n    export default { render };\n    ",
       "_model_module": "anywidget",
       "_model_module_version": "~0.9.*",
       "_model_name": "AnyModel",
       "_view_module": "anywidget",
       "_view_module_version": "~0.9.*",
       "_view_name": "AnyView",
       "custom_css": "",
       "label": "Slider 4",
       "layout": "IPY_MODEL_a8014344b6a445808d805c3ff8462a82",
       "max": 100,
       "min": 0,
       "position": "sidebar",
       "value": 80
      }
     },
     "33d867108525431faaeaf7d90f5c5548": {
      "model_module": "anywidget",
      "model_module_version": "~0.9.*",
      "model_name": "AnyModel",
      "state": {
       "_anywidget_id": "widgets.select.SelectWidget",
       "_css": "\n    .mljar-select-container {\n      display: flex;\n      flex-direction: column;\n      width: 100%;\n      font-family: Arial, sans-serif;\n      font-size: 12px;\n      color: #222222;\n      margin-bottom: 8px;\n    }\n\n    .mljar-select-label {\n      margin-bottom: 4px;\n      font-weight: 600;\n    }\n\n    .mljar-select-input {\n      width: 100%;\n      padding: 6px;\n      border: 1px solid #cccccc;\n      border-radius: 16px;\n      background: #fff;\n      box-sizing: border-box;\n    }\n\n    .mljar-select-input:disabled {\n      background: #f5f5f5;\n      color: #888;\n      cursor: not-allowed;\n    }\n    ",
       "_esm": "\n    function render({ model, el }) {\n      let container = document.createElement(\"div\");\n      container.classList.add(\"mljar-select-container\");\n\n      if (model.get(\"label\")) {\n        let topLabel = document.createElement(\"div\");\n        topLabel.classList.add(\"mljar-select-label\");\n        topLabel.innerHTML = model.get(\"label\");\n        container.appendChild(topLabel);\n      }\n\n      let select = document.createElement(\"select\");\n      select.classList.add(\"mljar-select-input\");\n\n      if (model.get(\"disabled\")) {\n        select.disabled = true;\n      }\n\n      const choices = model.get(\"choices\") || [];\n      const currentValue = model.get(\"value\");\n\n      choices.forEach(choice => {\n        let option = document.createElement(\"option\");\n        option.value = choice;\n        option.innerHTML = choice;\n        if (choice === currentValue) {\n          option.selected = true;\n        }\n        select.appendChild(option);\n      });\n\n      let debounceTimer = null;\n      select.addEventListener(\"change\", () => {\n        const val = select.value;\n        model.set(\"value\", val);\n        if (debounceTimer) clearTimeout(debounceTimer);\n        debounceTimer = setTimeout(() => {\n            model.save_changes();\n        }, 100);\n      });\n\n      model.on(\"change:value\", () => {\n        select.value = model.get(\"value\");\n      });\n\n      container.appendChild(select);\n      el.appendChild(container);\n\n      const css = model.get(\"custom_css\");\n      if (css && css.trim().length > 0) {\n        let styleTag = document.createElement(\"style\");\n        styleTag.textContent = css;\n        el.appendChild(styleTag);\n      }\n    }\n    export default { render };\n    ",
       "_model_module": "anywidget",
       "_model_module_version": "~0.9.*",
       "_model_name": "AnyModel",
       "_view_module": "anywidget",
       "_view_module_version": "~0.9.*",
       "_view_name": "AnyView",
       "choices": [
        "A",
        "B",
        "C"
       ],
       "custom_css": "",
       "disabled": false,
       "hidden": false,
       "label": "Select",
       "layout": "IPY_MODEL_536cc14cddf945bfa356001c5924d669",
       "position": "sidebar",
       "value": "A"
      }
     },
     "38b7e6b2a31c4740a5f8e30926597590": {
      "model_module": "@jupyter-widgets/base",
      "model_module_version": "2.0.0",
      "model_name": "LayoutModel",
      "state": {}
     },
     "536cc14cddf945bfa356001c5924d669": {
      "model_module": "@jupyter-widgets/base",
      "model_module_version": "2.0.0",
      "model_name": "LayoutModel",
      "state": {}
     },
     "5dd31f9bcae846708d01891c45dc6746": {
      "model_module": "@jupyter-widgets/base",
      "model_module_version": "2.0.0",
      "model_name": "LayoutModel",
      "state": {}
     },
     "9652749c23f94b42b091e62a057b36ea": {
      "model_module": "@jupyter-widgets/base",
      "model_module_version": "2.0.0",
      "model_name": "LayoutModel",
      "state": {}
     },
     "9e5ca6723a0f4ead94e5d0662ec4c02f": {
      "model_module": "anywidget",
      "model_module_version": "~0.9.*",
      "model_name": "AnyModel",
      "state": {
       "_anywidget_id": "widgets.slider.SliderWidget",
       "_css": "\n    .mljar-slider-container {\n        display: flex;\n        flex-direction: column;\n        align-items: flex-start;\n        width: 100%;\n        min-width: 120px;\n        font-family: Arial, sans-serif;\n        font-size: 12px;\n        font-weight: normal;\n        color: #222222;\n    }\n\n    .mljar-slider-top-label {\n        margin-bottom: 6px;\n        font-weight: bold;\n    }\n\n    .mljar-slider-row {\n        display: flex;\n        flex-direction: row;\n        align-items: center;\n        width: 100%;\n        overflow: hidden;\n    }\n\n    .mljar-slider-input {\n        flex: 1 1 auto;\n        min-width: 60px;\n        max-width: 100%;\n        margin-right: 16px;\n        background: transparent;\n        -webkit-appearance: none;\n        appearance: none;\n        border: none;\n        height: 24px; /* big enough for thumb */\n        padding: 0;\n    }\n\n    .mljar-slider-input:focus {\n        outline: none;\n    }\n\n    /* Track */\n    .mljar-slider-input::-webkit-slider-runnable-track {\n        height: 6px;\n        background: #e0e0e0;\n        border-radius: 16px;\n        margin: auto; /* center track in the input box */\n    }\n    .mljar-slider-input::-moz-range-track {\n        height: 6px;\n        background: #e0e0e0;\n        border-radius: 16px;\n    }\n\n    /* Thumb */\n    .mljar-slider-input::-webkit-slider-thumb {\n        -webkit-appearance: none;\n        appearance: none;\n        width: 16px;\n        height: 16px;\n        border-radius: 50%;\n        background: #007bff;\n        cursor: pointer;\n        margin-top: -5px; /* centers thumb on track */\n    }\n    .mljar-slider-input::-moz-range-thumb {\n        width: 16px;\n        height: 16px;\n        border-radius: 50%;\n        background: #007bff;\n        cursor: pointer;\n    }\n\n    .mljar-slider-value-label {\n        font-weight: bold;\n        font-size: 1.1em;\n        color: #222222;\n        margin-left: 8px;\n    }\n    ",
       "_esm": "\n    function render({ model, el }) {\n      // Container for the whole widget\n      let container = document.createElement(\"div\");\n      container.classList.add(\"mljar-slider-container\");\n\n      // Top label (left-aligned)\n      let topLabel = document.createElement(\"div\");\n      topLabel.classList.add(\"mljar-slider-top-label\");\n      topLabel.innerHTML = model.get(\"label\") || \"Select number\";\n\n      // Row: slider and value label\n      let sliderRow = document.createElement(\"div\");\n      sliderRow.classList.add(\"mljar-slider-row\");\n\n      // Slider input\n      let slider = document.createElement(\"input\");\n      slider.type = \"range\";\n      slider.min = model.get(\"min\");\n      slider.max = model.get(\"max\");\n      slider.value = model.get(\"value\");\n      slider.classList.add(\"mljar-slider-input\");\n\n      // Value label (to the right of slider)\n      let valueLabel = document.createElement(\"span\");\n      valueLabel.classList.add(\"mljar-slider-value-label\");\n      valueLabel.innerHTML = model.get(\"value\");\n\n      //slider.addEventListener(\"input\", () => {\n      //  model.set(\"value\", Number(slider.value));\n      //  model.save_changes();\n      //});\n      let debounceTimer = null;\n      slider.addEventListener(\"input\", () => {\n        model.set(\"value\", Number(slider.value));\n        if (debounceTimer) clearTimeout(debounceTimer);\n        debounceTimer = setTimeout(() => {\n            model.save_changes();\n        }, 100);\n      });\n\n      model.on(\"change:value\", () => {\n        slider.value = model.get(\"value\");\n        valueLabel.innerHTML = model.get(\"value\");\n      });\n\n      // Assemble row\n      sliderRow.appendChild(slider);\n      sliderRow.appendChild(valueLabel);\n\n      // Build structure\n      container.appendChild(topLabel);\n      container.appendChild(sliderRow);\n      el.appendChild(container);\n\n      const css = model.get(\"custom_css\");\n      if (css && css.trim().length > 0) {\n        let styleTag = document.createElement(\"style\");\n        styleTag.textContent = css;\n        el.appendChild(styleTag);\n      }\n    }\n    export default { render };\n    ",
       "_model_module": "anywidget",
       "_model_module_version": "~0.9.*",
       "_model_name": "AnyModel",
       "_view_module": "anywidget",
       "_view_module_version": "~0.9.*",
       "_view_name": "AnyView",
       "custom_css": "",
       "label": "Slider 5",
       "layout": "IPY_MODEL_f2fcc880696542bc8e06b72431530bee",
       "max": 100,
       "min": 0,
       "position": "sidebar",
       "value": 56
      }
     },
     "a8014344b6a445808d805c3ff8462a82": {
      "model_module": "@jupyter-widgets/base",
      "model_module_version": "2.0.0",
      "model_name": "LayoutModel",
      "state": {}
     },
     "a9335c424f1e4de89f2a9268deb6ee5f": {
      "model_module": "anywidget",
      "model_module_version": "~0.9.*",
      "model_name": "AnyModel",
      "state": {
       "_anywidget_id": "widgets.multiselect.MultiSelectWidget",
       "_css": "\n    .mljar-ms-container {\n      display: flex;\n      flex-direction: column;\n      width: 100%;\n      font-family: Arial, sans-serif;\n      font-size: 12px;\n      margin-bottom: 8px;\n    }\n    .mljar-ms-label {\n      margin-bottom: 4px;\n      font-weight: bold;\n    }\n    .mljar-ms-control {\n      display: flex;\n      justify-content: space-between;\n      border: 1px solid #cccccc;\n      border-radius: 16px;\n      padding: 4px;\n      background: #fff;\n      cursor: pointer;\n    }\n    .mljar-ms-chips {\n      display: flex;\n      flex-wrap: wrap;\n      gap: 4px;\n    }\n    .mljar-ms-placeholder {\n      color: #888;\n    }\n    .mljar-ms-chip {\n      background: #e9ecef;\n      padding: 2px 6px;\n      border-radius: 10px;\n    }\n    .mljar-ms-chip-x {\n      border: none;\n      background: transparent;\n      cursor: pointer;\n    }\n    .mljar-ms-dropdown {\n      display: none;\n      border: 1px solid #cccccc;\n      border-radius: 16px;\n      margin-top: 4px;\n      background: #fff;\n    }\n    .mljar-ms-list {\n      list-style: none;\n      margin: 0;\n      padding: 0;\n      max-height: 150px;\n      overflow: auto;\n    }\n    .mljar-ms-item {\n      display: flex;\n      gap: 6px;\n      padding: 4px;\n      cursor: pointer;\n    }\n    .mljar-ms-item:hover {\n      background: #f6f6f6;\n    }\n    ",
       "_esm": "\n    function render({ model, el }) {\n      const getSelected = () => Array.isArray(model.get(\"value\")) ? [...model.get(\"value\")] : [];\n      const getChoices  = () => Array.isArray(model.get(\"choices\")) ? [...model.get(\"choices\")] : [];\n      const isDisabled  = () => !!model.get(\"disabled\");\n      const setModelValueDebounced = (() => {\n        let t = null;\n        return (val) => {\n          model.set(\"value\", val);\n          if (t) clearTimeout(t);\n          t = setTimeout(() => model.save_changes(), 100);\n        };\n      })();\n\n      const container = document.createElement(\"div\");\n      container.classList.add(\"mljar-ms-container\");\n\n      const labelText = model.get(\"label\");\n      if (labelText) {\n        const topLabel = document.createElement(\"div\");\n        topLabel.classList.add(\"mljar-ms-label\");\n        topLabel.innerHTML = labelText;\n        container.appendChild(topLabel);\n      }\n\n      const control = document.createElement(\"div\");\n      control.classList.add(\"mljar-ms-control\");\n\n      const chipsWrap = document.createElement(\"div\");\n      chipsWrap.classList.add(\"mljar-ms-chips\");\n\n      const actions = document.createElement(\"div\");\n      actions.classList.add(\"mljar-ms-actions\");\n\n      const clearBtn = document.createElement(\"button\");\n      clearBtn.classList.add(\"mljar-ms-btn\");\n      clearBtn.innerHTML = \"&times;\";\n\n      const toggleBtn = document.createElement(\"button\");\n      toggleBtn.classList.add(\"mljar-ms-btn\");\n      toggleBtn.innerHTML = \"&#9662;\";\n\n      actions.appendChild(clearBtn);\n      actions.appendChild(toggleBtn);\n\n      control.appendChild(chipsWrap);\n      control.appendChild(actions);\n\n      const dropdown = document.createElement(\"div\");\n      dropdown.classList.add(\"mljar-ms-dropdown\");\n      const list = document.createElement(\"ul\");\n      list.classList.add(\"mljar-ms-list\");\n      dropdown.appendChild(list);\n\n      container.appendChild(control);\n      container.appendChild(dropdown);\n      el.appendChild(container);\n\n      let open = false;\n\n      function renderChips() {\n        const selected = getSelected();\n        chipsWrap.innerHTML = \"\";\n        if (selected.length === 0) {\n          const ph = document.createElement(\"span\");\n          ph.classList.add(\"mljar-ms-placeholder\");\n          ph.textContent = model.get(\"placeholder\") || \"\";\n          chipsWrap.appendChild(ph);\n        } else {\n          selected.forEach(val => {\n            const chip = document.createElement(\"span\");\n            chip.classList.add(\"mljar-ms-chip\");\n            chip.textContent = val;\n            const x = document.createElement(\"button\");\n            x.classList.add(\"mljar-ms-chip-x\");\n            x.innerHTML = \"&times;\";\n            x.addEventListener(\"click\", (e) => {\n              e.stopPropagation();\n              if (isDisabled()) return;\n              const newSel = getSelected().filter(v => v !== val);\n              setModelValueDebounced(newSel);\n            });\n            chip.appendChild(x);\n            chipsWrap.appendChild(chip);\n          });\n        }\n        clearBtn.disabled = isDisabled() || getSelected().length === 0;\n      }\n\n      function renderOptions() {\n        const choices = getChoices();\n        const selected = new Set(getSelected());\n        list.innerHTML = \"\";\n        choices.forEach(val => {\n          const li = document.createElement(\"li\");\n          li.classList.add(\"mljar-ms-item\");\n          const cb = document.createElement(\"input\");\n          cb.type = \"checkbox\";\n          cb.checked = selected.has(val);\n          cb.disabled = isDisabled();\n          const lbl = document.createElement(\"span\");\n          lbl.textContent = val;\n          li.appendChild(cb);\n          li.appendChild(lbl);\n          li.addEventListener(\"click\", (e) => {\n            e.stopPropagation();\n            if (isDisabled()) return;\n            const sel = new Set(getSelected());\n            if (sel.has(val)) sel.delete(val);\n            else sel.add(val);\n            setModelValueDebounced([...sel]);\n          });\n          list.appendChild(li);\n        });\n      }\n\n      function setOpen(next) {\n        open = !!next;\n        dropdown.style.display = open ? \"block\" : \"none\";\n      }\n\n      control.addEventListener(\"click\", () => {\n        if (isDisabled()) return;\n        setOpen(!open);\n      });\n      toggleBtn.addEventListener(\"click\", (e) => {\n        e.stopPropagation();\n        if (isDisabled()) return;\n        setOpen(!open);\n      });\n      clearBtn.addEventListener(\"click\", (e) => {\n        e.stopPropagation();\n        if (isDisabled()) return;\n        setModelValueDebounced([]);\n      });\n\n      document.addEventListener(\"click\", (e) => {\n        if (!el.contains(e.target)) setOpen(false);\n      });\n\n      renderChips();\n      renderOptions();\n      setOpen(false);\n\n      model.on(\"change:value\", () => {\n        renderChips();\n        renderOptions();\n      });\n      model.on(\"change:choices\", () => {\n        renderChips();\n        renderOptions();\n      });\n      model.on(\"change:disabled\", () => {\n        clearBtn.disabled = isDisabled() || getSelected().length === 0;\n        setOpen(false);\n      });\n\n      const css = model.get(\"custom_css\");\n      if (css && css.trim().length > 0) {\n        let styleTag = document.createElement(\"style\");\n        styleTag.textContent = css;\n        el.appendChild(styleTag);\n      }\n    }\n    export default { render };\n    ",
       "_model_module": "anywidget",
       "_model_module_version": "~0.9.*",
       "_model_name": "AnyModel",
       "_view_module": "anywidget",
       "_view_module_version": "~0.9.*",
       "_view_name": "AnyView",
       "choices": [
        "a",
        "b",
        "c"
       ],
       "custom_css": "",
       "disabled": false,
       "hidden": false,
       "label": "Multi",
       "layout": "IPY_MODEL_0caa13c16a444060aaa9244d848c395d",
       "placeholder": "",
       "position": "sidebar",
       "value": [
        "a",
        "b",
        "c"
       ]
      }
     },
     "b0af3208fb634ecda78314eb67b88f50": {
      "model_module": "anywidget",
      "model_module_version": "~0.9.*",
      "model_name": "AnyModel",
      "state": {
       "_anywidget_id": "widgets.slider.SliderWidget",
       "_css": "\n    .mljar-slider-container {\n        display: flex;\n        flex-direction: column;\n        align-items: flex-start;\n        width: 100%;\n        min-width: 120px;\n        font-family: Arial, sans-serif;\n        font-size: 12px;\n        font-weight: normal;\n        color: #222222;\n    }\n\n    .mljar-slider-top-label {\n        margin-bottom: 6px;\n        font-weight: bold;\n    }\n\n    .mljar-slider-row {\n        display: flex;\n        flex-direction: row;\n        align-items: center;\n        width: 100%;\n        overflow: hidden;\n    }\n\n    .mljar-slider-input {\n        flex: 1 1 auto;\n        min-width: 60px;\n        max-width: 100%;\n        margin-right: 16px;\n        background: transparent;\n        -webkit-appearance: none;\n        appearance: none;\n        border: none;\n        height: 24px; /* big enough for thumb */\n        padding: 0;\n    }\n\n    .mljar-slider-input:focus {\n        outline: none;\n    }\n\n    /* Track */\n    .mljar-slider-input::-webkit-slider-runnable-track {\n        height: 6px;\n        background: #e0e0e0;\n        border-radius: 16px;\n        margin: auto; /* center track in the input box */\n    }\n    .mljar-slider-input::-moz-range-track {\n        height: 6px;\n        background: #e0e0e0;\n        border-radius: 16px;\n    }\n\n    /* Thumb */\n    .mljar-slider-input::-webkit-slider-thumb {\n        -webkit-appearance: none;\n        appearance: none;\n        width: 16px;\n        height: 16px;\n        border-radius: 50%;\n        background: #007bff;\n        cursor: pointer;\n        margin-top: -5px; /* centers thumb on track */\n    }\n    .mljar-slider-input::-moz-range-thumb {\n        width: 16px;\n        height: 16px;\n        border-radius: 50%;\n        background: #007bff;\n        cursor: pointer;\n    }\n\n    .mljar-slider-value-label {\n        font-weight: bold;\n        font-size: 1.1em;\n        color: #222222;\n        margin-left: 8px;\n    }\n    ",
       "_esm": "\n    function render({ model, el }) {\n      // Container for the whole widget\n      let container = document.createElement(\"div\");\n      container.classList.add(\"mljar-slider-container\");\n\n      // Top label (left-aligned)\n      let topLabel = document.createElement(\"div\");\n      topLabel.classList.add(\"mljar-slider-top-label\");\n      topLabel.innerHTML = model.get(\"label\") || \"Select number\";\n\n      // Row: slider and value label\n      let sliderRow = document.createElement(\"div\");\n      sliderRow.classList.add(\"mljar-slider-row\");\n\n      // Slider input\n      let slider = document.createElement(\"input\");\n      slider.type = \"range\";\n      slider.min = model.get(\"min\");\n      slider.max = model.get(\"max\");\n      slider.value = model.get(\"value\");\n      slider.classList.add(\"mljar-slider-input\");\n\n      // Value label (to the right of slider)\n      let valueLabel = document.createElement(\"span\");\n      valueLabel.classList.add(\"mljar-slider-value-label\");\n      valueLabel.innerHTML = model.get(\"value\");\n\n      //slider.addEventListener(\"input\", () => {\n      //  model.set(\"value\", Number(slider.value));\n      //  model.save_changes();\n      //});\n      let debounceTimer = null;\n      slider.addEventListener(\"input\", () => {\n        model.set(\"value\", Number(slider.value));\n        if (debounceTimer) clearTimeout(debounceTimer);\n        debounceTimer = setTimeout(() => {\n            model.save_changes();\n        }, 100);\n      });\n\n      model.on(\"change:value\", () => {\n        slider.value = model.get(\"value\");\n        valueLabel.innerHTML = model.get(\"value\");\n      });\n\n      // Assemble row\n      sliderRow.appendChild(slider);\n      sliderRow.appendChild(valueLabel);\n\n      // Build structure\n      container.appendChild(topLabel);\n      container.appendChild(sliderRow);\n      el.appendChild(container);\n\n      const css = model.get(\"custom_css\");\n      if (css && css.trim().length > 0) {\n        let styleTag = document.createElement(\"style\");\n        styleTag.textContent = css;\n        el.appendChild(styleTag);\n      }\n    }\n    export default { render };\n    ",
       "_model_module": "anywidget",
       "_model_module_version": "~0.9.*",
       "_model_name": "AnyModel",
       "_view_module": "anywidget",
       "_view_module_version": "~0.9.*",
       "_view_name": "AnyView",
       "custom_css": "",
       "label": "Slider 3",
       "layout": "IPY_MODEL_f3cb2078357f4d27bd29481428d5cda1",
       "max": 100,
       "min": 0,
       "position": "sidebar",
       "value": 34
      }
     },
     "bcd6b09432da430c99d941ceb40fd826": {
      "model_module": "anywidget",
      "model_module_version": "~0.9.*",
      "model_name": "AnyModel",
      "state": {
       "_anywidget_id": "widgets.multiselect.MultiSelectWidget",
       "_css": "\n    .mljar-ms-container {\n      display: flex;\n      flex-direction: column;\n      width: 100%;\n      font-family: Arial, sans-serif;\n      font-size: 12px;\n      margin-bottom: 8px;\n    }\n    .mljar-ms-label {\n      margin-bottom: 4px;\n      font-weight: bold;\n    }\n    .mljar-ms-control {\n      display: flex;\n      justify-content: space-between;\n      border: 1px solid #cccccc;\n      border-radius: 16px;\n      padding: 4px;\n      background: #fff;\n      cursor: pointer;\n    }\n    .mljar-ms-chips {\n      display: flex;\n      flex-wrap: wrap;\n      gap: 4px;\n    }\n    .mljar-ms-placeholder {\n      color: #888;\n    }\n    .mljar-ms-chip {\n      background: #e9ecef;\n      padding: 2px 6px;\n      border-radius: 10px;\n    }\n    .mljar-ms-chip-x {\n      border: none;\n      background: transparent;\n      cursor: pointer;\n    }\n    .mljar-ms-dropdown {\n      display: none;\n      border: 1px solid #cccccc;\n      border-radius: 16px;\n      margin-top: 4px;\n      background: #fff;\n    }\n    .mljar-ms-list {\n      list-style: none;\n      margin: 0;\n      padding: 0;\n      max-height: 150px;\n      overflow: auto;\n    }\n    .mljar-ms-item {\n      display: flex;\n      gap: 6px;\n      padding: 4px;\n      cursor: pointer;\n    }\n    .mljar-ms-item:hover {\n      background: #f6f6f6;\n    }\n    ",
       "_esm": "\n    function render({ model, el }) {\n      const getSelected = () => Array.isArray(model.get(\"value\")) ? [...model.get(\"value\")] : [];\n      const getChoices  = () => Array.isArray(model.get(\"choices\")) ? [...model.get(\"choices\")] : [];\n      const isDisabled  = () => !!model.get(\"disabled\");\n      const setModelValueDebounced = (() => {\n        let t = null;\n        return (val) => {\n          model.set(\"value\", val);\n          if (t) clearTimeout(t);\n          t = setTimeout(() => model.save_changes(), 100);\n        };\n      })();\n\n      const container = document.createElement(\"div\");\n      container.classList.add(\"mljar-ms-container\");\n\n      const labelText = model.get(\"label\");\n      if (labelText) {\n        const topLabel = document.createElement(\"div\");\n        topLabel.classList.add(\"mljar-ms-label\");\n        topLabel.innerHTML = labelText;\n        container.appendChild(topLabel);\n      }\n\n      const control = document.createElement(\"div\");\n      control.classList.add(\"mljar-ms-control\");\n\n      const chipsWrap = document.createElement(\"div\");\n      chipsWrap.classList.add(\"mljar-ms-chips\");\n\n      const actions = document.createElement(\"div\");\n      actions.classList.add(\"mljar-ms-actions\");\n\n      const clearBtn = document.createElement(\"button\");\n      clearBtn.classList.add(\"mljar-ms-btn\");\n      clearBtn.innerHTML = \"&times;\";\n\n      const toggleBtn = document.createElement(\"button\");\n      toggleBtn.classList.add(\"mljar-ms-btn\");\n      toggleBtn.innerHTML = \"&#9662;\";\n\n      actions.appendChild(clearBtn);\n      actions.appendChild(toggleBtn);\n\n      control.appendChild(chipsWrap);\n      control.appendChild(actions);\n\n      const dropdown = document.createElement(\"div\");\n      dropdown.classList.add(\"mljar-ms-dropdown\");\n      const list = document.createElement(\"ul\");\n      list.classList.add(\"mljar-ms-list\");\n      dropdown.appendChild(list);\n\n      container.appendChild(control);\n      container.appendChild(dropdown);\n      el.appendChild(container);\n\n      let open = false;\n\n      function renderChips() {\n        const selected = getSelected();\n        chipsWrap.innerHTML = \"\";\n        if (selected.length === 0) {\n          const ph = document.createElement(\"span\");\n          ph.classList.add(\"mljar-ms-placeholder\");\n          ph.textContent = model.get(\"placeholder\") || \"\";\n          chipsWrap.appendChild(ph);\n        } else {\n          selected.forEach(val => {\n            const chip = document.createElement(\"span\");\n            chip.classList.add(\"mljar-ms-chip\");\n            chip.textContent = val;\n            const x = document.createElement(\"button\");\n            x.classList.add(\"mljar-ms-chip-x\");\n            x.innerHTML = \"&times;\";\n            x.addEventListener(\"click\", (e) => {\n              e.stopPropagation();\n              if (isDisabled()) return;\n              const newSel = getSelected().filter(v => v !== val);\n              setModelValueDebounced(newSel);\n            });\n            chip.appendChild(x);\n            chipsWrap.appendChild(chip);\n          });\n        }\n        clearBtn.disabled = isDisabled() || getSelected().length === 0;\n      }\n\n      function renderOptions() {\n        const choices = getChoices();\n        const selected = new Set(getSelected());\n        list.innerHTML = \"\";\n        choices.forEach(val => {\n          const li = document.createElement(\"li\");\n          li.classList.add(\"mljar-ms-item\");\n          const cb = document.createElement(\"input\");\n          cb.type = \"checkbox\";\n          cb.checked = selected.has(val);\n          cb.disabled = isDisabled();\n          const lbl = document.createElement(\"span\");\n          lbl.textContent = val;\n          li.appendChild(cb);\n          li.appendChild(lbl);\n          li.addEventListener(\"click\", (e) => {\n            e.stopPropagation();\n            if (isDisabled()) return;\n            const sel = new Set(getSelected());\n            if (sel.has(val)) sel.delete(val);\n            else sel.add(val);\n            setModelValueDebounced([...sel]);\n          });\n          list.appendChild(li);\n        });\n      }\n\n      function setOpen(next) {\n        open = !!next;\n        dropdown.style.display = open ? \"block\" : \"none\";\n      }\n\n      control.addEventListener(\"click\", () => {\n        if (isDisabled()) return;\n        setOpen(!open);\n      });\n      toggleBtn.addEventListener(\"click\", (e) => {\n        e.stopPropagation();\n        if (isDisabled()) return;\n        setOpen(!open);\n      });\n      clearBtn.addEventListener(\"click\", (e) => {\n        e.stopPropagation();\n        if (isDisabled()) return;\n        setModelValueDebounced([]);\n      });\n\n      document.addEventListener(\"click\", (e) => {\n        if (!el.contains(e.target)) setOpen(false);\n      });\n\n      renderChips();\n      renderOptions();\n      setOpen(false);\n\n      model.on(\"change:value\", () => {\n        renderChips();\n        renderOptions();\n      });\n      model.on(\"change:choices\", () => {\n        renderChips();\n        renderOptions();\n      });\n      model.on(\"change:disabled\", () => {\n        clearBtn.disabled = isDisabled() || getSelected().length === 0;\n        setOpen(false);\n      });\n\n      const css = model.get(\"custom_css\");\n      if (css && css.trim().length > 0) {\n        let styleTag = document.createElement(\"style\");\n        styleTag.textContent = css;\n        el.appendChild(styleTag);\n      }\n    }\n    export default { render };\n    ",
       "_model_module": "anywidget",
       "_model_module_version": "~0.9.*",
       "_model_name": "AnyModel",
       "_view_module": "anywidget",
       "_view_module_version": "~0.9.*",
       "_view_name": "AnyView",
       "choices": [
        "a",
        "b"
       ],
       "custom_css": "",
       "disabled": false,
       "hidden": false,
       "label": "Multi",
       "layout": "IPY_MODEL_38b7e6b2a31c4740a5f8e30926597590",
       "placeholder": "",
       "position": "sidebar",
       "value": [
        "a",
        "b"
       ]
      }
     },
     "db76ed5449d046c5aa6a01a7a637db88": {
      "model_module": "@jupyter-widgets/base",
      "model_module_version": "2.0.0",
      "model_name": "LayoutModel",
      "state": {}
     },
     "e34e53acd275497bb15ce33feec51068": {
      "model_module": "@jupyter-widgets/base",
      "model_module_version": "2.0.0",
      "model_name": "LayoutModel",
      "state": {}
     },
     "e4b41f2f4f2a44309f577beb66d0f26e": {
      "model_module": "anywidget",
      "model_module_version": "~0.9.*",
      "model_name": "AnyModel",
      "state": {
       "_anywidget_id": "widgets.slider.SliderWidget",
       "_css": "\n    .mljar-slider-container {\n        display: flex;\n        flex-direction: column;\n        align-items: flex-start;\n        width: 100%;\n        min-width: 120px;\n        font-family: Arial, sans-serif;\n        font-size: 12px;\n        font-weight: normal;\n        color: #222222;\n    }\n\n    .mljar-slider-top-label {\n        margin-bottom: 6px;\n        font-weight: bold;\n    }\n\n    .mljar-slider-row {\n        display: flex;\n        flex-direction: row;\n        align-items: center;\n        width: 100%;\n        overflow: hidden;\n    }\n\n    .mljar-slider-input {\n        flex: 1 1 auto;\n        min-width: 60px;\n        max-width: 100%;\n        margin-right: 16px;\n        background: transparent;\n        -webkit-appearance: none;\n        appearance: none;\n        border: none;\n        height: 24px; /* big enough for thumb */\n        padding: 0;\n    }\n\n    .mljar-slider-input:focus {\n        outline: none;\n    }\n\n    /* Track */\n    .mljar-slider-input::-webkit-slider-runnable-track {\n        height: 6px;\n        background: #e0e0e0;\n        border-radius: 16px;\n        margin: auto; /* center track in the input box */\n    }\n    .mljar-slider-input::-moz-range-track {\n        height: 6px;\n        background: #e0e0e0;\n        border-radius: 16px;\n    }\n\n    /* Thumb */\n    .mljar-slider-input::-webkit-slider-thumb {\n        -webkit-appearance: none;\n        appearance: none;\n        width: 16px;\n        height: 16px;\n        border-radius: 50%;\n        background: #007bff;\n        cursor: pointer;\n        margin-top: -5px; /* centers thumb on track */\n    }\n    .mljar-slider-input::-moz-range-thumb {\n        width: 16px;\n        height: 16px;\n        border-radius: 50%;\n        background: #007bff;\n        cursor: pointer;\n    }\n\n    .mljar-slider-value-label {\n        font-weight: bold;\n        font-size: 1.1em;\n        color: #222222;\n        margin-left: 8px;\n    }\n    ",
       "_esm": "\n    function render({ model, el }) {\n      // Container for the whole widget\n      let container = document.createElement(\"div\");\n      container.classList.add(\"mljar-slider-container\");\n\n      // Top label (left-aligned)\n      let topLabel = document.createElement(\"div\");\n      topLabel.classList.add(\"mljar-slider-top-label\");\n      topLabel.innerHTML = model.get(\"label\") || \"Select number\";\n\n      // Row: slider and value label\n      let sliderRow = document.createElement(\"div\");\n      sliderRow.classList.add(\"mljar-slider-row\");\n\n      // Slider input\n      let slider = document.createElement(\"input\");\n      slider.type = \"range\";\n      slider.min = model.get(\"min\");\n      slider.max = model.get(\"max\");\n      slider.value = model.get(\"value\");\n      slider.classList.add(\"mljar-slider-input\");\n\n      // Value label (to the right of slider)\n      let valueLabel = document.createElement(\"span\");\n      valueLabel.classList.add(\"mljar-slider-value-label\");\n      valueLabel.innerHTML = model.get(\"value\");\n\n      //slider.addEventListener(\"input\", () => {\n      //  model.set(\"value\", Number(slider.value));\n      //  model.save_changes();\n      //});\n      let debounceTimer = null;\n      slider.addEventListener(\"input\", () => {\n        model.set(\"value\", Number(slider.value));\n        if (debounceTimer) clearTimeout(debounceTimer);\n        debounceTimer = setTimeout(() => {\n            model.save_changes();\n        }, 100);\n      });\n\n      model.on(\"change:value\", () => {\n        slider.value = model.get(\"value\");\n        valueLabel.innerHTML = model.get(\"value\");\n      });\n\n      // Assemble row\n      sliderRow.appendChild(slider);\n      sliderRow.appendChild(valueLabel);\n\n      // Build structure\n      container.appendChild(topLabel);\n      container.appendChild(sliderRow);\n      el.appendChild(container);\n\n      const css = model.get(\"custom_css\");\n      if (css && css.trim().length > 0) {\n        let styleTag = document.createElement(\"style\");\n        styleTag.textContent = css;\n        el.appendChild(styleTag);\n      }\n    }\n    export default { render };\n    ",
       "_model_module": "anywidget",
       "_model_module_version": "~0.9.*",
       "_model_name": "AnyModel",
       "_view_module": "anywidget",
       "_view_module_version": "~0.9.*",
       "_view_name": "AnyView",
       "custom_css": "",
       "label": "Slider 2",
       "layout": "IPY_MODEL_5dd31f9bcae846708d01891c45dc6746",
       "max": 100,
       "min": 0,
       "position": "inline",
       "value": 46
      }
     },
     "f04fd8e8da484150be6b4ccd4f63fc91": {
      "model_module": "anywidget",
      "model_module_version": "~0.9.*",
      "model_name": "AnyModel",
      "state": {
       "_anywidget_id": "widgets.slider.SliderWidget",
       "_css": "\n    .mljar-slider-container {\n        display: flex;\n        flex-direction: column;\n        align-items: flex-start;\n        width: 100%;\n        min-width: 120px;\n        font-family: Arial, sans-serif;\n        font-size: 12px;\n        font-weight: normal;\n        color: #222222;\n    }\n\n    .mljar-slider-top-label {\n        margin-bottom: 6px;\n        font-weight: bold;\n    }\n\n    .mljar-slider-row {\n        display: flex;\n        flex-direction: row;\n        align-items: center;\n        width: 100%;\n        overflow: hidden;\n    }\n\n    .mljar-slider-input {\n        flex: 1 1 auto;\n        min-width: 60px;\n        max-width: 100%;\n        margin-right: 16px;\n        background: transparent;\n        -webkit-appearance: none;\n        appearance: none;\n        border: none;\n        height: 24px; /* big enough for thumb */\n        padding: 0;\n    }\n\n    .mljar-slider-input:focus {\n        outline: none;\n    }\n\n    /* Track */\n    .mljar-slider-input::-webkit-slider-runnable-track {\n        height: 6px;\n        background: #e0e0e0;\n        border-radius: 16px;\n        margin: auto; /* center track in the input box */\n    }\n    .mljar-slider-input::-moz-range-track {\n        height: 6px;\n        background: #e0e0e0;\n        border-radius: 16px;\n    }\n\n    /* Thumb */\n    .mljar-slider-input::-webkit-slider-thumb {\n        -webkit-appearance: none;\n        appearance: none;\n        width: 16px;\n        height: 16px;\n        border-radius: 50%;\n        background: #007bff;\n        cursor: pointer;\n        margin-top: -5px; /* centers thumb on track */\n    }\n    .mljar-slider-input::-moz-range-thumb {\n        width: 16px;\n        height: 16px;\n        border-radius: 50%;\n        background: #007bff;\n        cursor: pointer;\n    }\n\n    .mljar-slider-value-label {\n        font-weight: bold;\n        font-size: 1.1em;\n        color: #222222;\n        margin-left: 8px;\n    }\n    ",
       "_esm": "\n    function render({ model, el }) {\n      // Container for the whole widget\n      let container = document.createElement(\"div\");\n      container.classList.add(\"mljar-slider-container\");\n\n      // Top label (left-aligned)\n      let topLabel = document.createElement(\"div\");\n      topLabel.classList.add(\"mljar-slider-top-label\");\n      topLabel.innerHTML = model.get(\"label\") || \"Select number\";\n\n      // Row: slider and value label\n      let sliderRow = document.createElement(\"div\");\n      sliderRow.classList.add(\"mljar-slider-row\");\n\n      // Slider input\n      let slider = document.createElement(\"input\");\n      slider.type = \"range\";\n      slider.min = model.get(\"min\");\n      slider.max = model.get(\"max\");\n      slider.value = model.get(\"value\");\n      slider.classList.add(\"mljar-slider-input\");\n\n      // Value label (to the right of slider)\n      let valueLabel = document.createElement(\"span\");\n      valueLabel.classList.add(\"mljar-slider-value-label\");\n      valueLabel.innerHTML = model.get(\"value\");\n\n      //slider.addEventListener(\"input\", () => {\n      //  model.set(\"value\", Number(slider.value));\n      //  model.save_changes();\n      //});\n      let debounceTimer = null;\n      slider.addEventListener(\"input\", () => {\n        model.set(\"value\", Number(slider.value));\n        if (debounceTimer) clearTimeout(debounceTimer);\n        debounceTimer = setTimeout(() => {\n            model.save_changes();\n        }, 100);\n      });\n\n      model.on(\"change:value\", () => {\n        slider.value = model.get(\"value\");\n        valueLabel.innerHTML = model.get(\"value\");\n      });\n\n      // Assemble row\n      sliderRow.appendChild(slider);\n      sliderRow.appendChild(valueLabel);\n\n      // Build structure\n      container.appendChild(topLabel);\n      container.appendChild(sliderRow);\n      el.appendChild(container);\n\n      const css = model.get(\"custom_css\");\n      if (css && css.trim().length > 0) {\n        let styleTag = document.createElement(\"style\");\n        styleTag.textContent = css;\n        el.appendChild(styleTag);\n      }\n    }\n    export default { render };\n    ",
       "_model_module": "anywidget",
       "_model_module_version": "~0.9.*",
       "_model_name": "AnyModel",
       "_view_module": "anywidget",
       "_view_module_version": "~0.9.*",
       "_view_name": "AnyView",
       "custom_css": "",
       "label": "Slider 2",
       "layout": "IPY_MODEL_db76ed5449d046c5aa6a01a7a637db88",
       "max": 100,
       "min": 0,
       "position": "sidebar",
       "value": 79
      }
     },
     "f2fcc880696542bc8e06b72431530bee": {
      "model_module": "@jupyter-widgets/base",
      "model_module_version": "2.0.0",
      "model_name": "LayoutModel",
      "state": {}
     },
     "f3cb2078357f4d27bd29481428d5cda1": {
      "model_module": "@jupyter-widgets/base",
      "model_module_version": "2.0.0",
      "model_name": "LayoutModel",
      "state": {}
     }
    },
    "version_major": 2,
    "version_minor": 0
   }
  }
 },
 "nbformat": 4,
 "nbformat_minor": 5
}
