{
 "cells": [
  {
   "cell_type": "code",
   "execution_count": 1,
   "id": "e40b791c-c20b-450e-b29c-0c1b198fa375",
   "metadata": {},
   "outputs": [],
   "source": [
    "from widgets.select import Select"
   ]
  },
  {
   "cell_type": "code",
   "execution_count": 2,
   "id": "49d05975-9460-4383-ac44-491e957c4950",
   "metadata": {},
   "outputs": [],
   "source": [
    "from widgets.multiselect import MultiSelect"
   ]
  },
  {
   "cell_type": "code",
   "execution_count": 3,
   "id": "0ac5c0b3-e962-49c1-a2dc-5f378936659c",
   "metadata": {},
   "outputs": [],
   "source": [
    "from widgets.slider import Slider"
   ]
  },
  {
   "cell_type": "code",
   "execution_count": 4,
   "id": "4390836e-ee3e-4ef3-aa1e-241aa40823d4",
   "metadata": {},
   "outputs": [],
   "source": [
    "from widgets.indicator import Indicator"
   ]
  },
  {
   "cell_type": "markdown",
   "id": "40f169f7-1e2f-4cb8-944e-bd815a404369",
   "metadata": {},
   "source": [
    "# asdfasdf"
   ]
  },
  {
   "cell_type": "markdown",
   "id": "b4023ecb-6389-4625-8597-7ba348a9fcb6",
   "metadata": {},
   "source": [
    "# jest"
   ]
  },
  {
   "cell_type": "code",
   "execution_count": null,
   "id": "b7c3daab-b355-4643-8cf1-1ec13d901e1d",
   "metadata": {},
   "outputs": [],
   "source": []
  },
  {
   "cell_type": "code",
   "execution_count": null,
   "id": "03484408-9431-49a6-9c7e-699953887ad2",
   "metadata": {},
   "outputs": [],
   "source": []
  },
  {
   "cell_type": "code",
   "execution_count": 344,
   "id": "16de2ef2-1f28-43ea-a656-2e7712908cc1",
   "metadata": {},
   "outputs": [
    {
     "data": {
      "text/plain": [
       "123"
      ]
     },
     "execution_count": 344,
     "metadata": {},
     "output_type": "execute_result"
    }
   ],
   "source": [
    "123"
   ]
  },
  {
   "cell_type": "code",
   "execution_count": null,
   "id": "9f60cd90-6407-4057-9f49-49cb87bdd7e7",
   "metadata": {},
   "outputs": [],
   "source": []
  },
  {
   "cell_type": "code",
   "execution_count": 349,
   "id": "25b4c486-3949-49ad-b64c-31c9e71d7a77",
   "metadata": {},
   "outputs": [
    {
     "data": {
      "application/mercury+json": "{\n    \"widget\": \"SliderWidget\",\n    \"model_id\": \"b01ac795870148e2b113c1d6dd1595bc\",\n    \"position\": \"sidebar\"\n}",
      "application/vnd.jupyter.widget-view+json": {
       "model_id": "b01ac795870148e2b113c1d6dd1595bc",
       "version_major": 2,
       "version_minor": 1
      },
      "text/plain": [
       "SliderWidget(label='Slider22', value=3)"
      ]
     },
     "metadata": {},
     "output_type": "display_data"
    }
   ],
   "source": [
    "# slider22 = Slider(label=\"Slider22\", value=3)"
   ]
  },
  {
   "cell_type": "code",
   "execution_count": 343,
   "id": "7c2d527b-8990-4aed-a4c2-ab64bb727c30",
   "metadata": {},
   "outputs": [
    {
     "name": "stdout",
     "output_type": "stream",
     "text": [
      "a\n"
     ]
    }
   ],
   "source": [
    "print(\"a\")"
   ]
  },
  {
   "cell_type": "code",
   "execution_count": null,
   "id": "d3d60290-e3db-48f3-8197-36b65bf00d8f",
   "metadata": {},
   "outputs": [],
   "source": []
  },
  {
   "cell_type": "code",
   "execution_count": 5,
   "id": "c5016d9f-d59d-4425-a665-1c6b1f43361f",
   "metadata": {},
   "outputs": [
    {
     "data": {
      "application/mercury+json": "{\n    \"widget\": \"SliderWidget\",\n    \"model_id\": \"a9f19f052a7d4264bae7f9669ffca10d\",\n    \"position\": \"sidebar\"\n}",
      "application/vnd.jupyter.widget-view+json": {
       "model_id": "a9f19f052a7d4264bae7f9669ffca10d",
       "version_major": 2,
       "version_minor": 1
      },
      "text/plain": [
       "SliderWidget(label='Slider', value=3)"
      ]
     },
     "metadata": {},
     "output_type": "display_data"
    }
   ],
   "source": [
    "slider = Slider(label=\"Slider\", value=3)"
   ]
  },
  {
   "cell_type": "code",
   "execution_count": 252,
   "id": "0b791543-3774-41cb-89cc-a1e426f8d02f",
   "metadata": {},
   "outputs": [
    {
     "data": {
      "text/plain": [
       "82"
      ]
     },
     "execution_count": 252,
     "metadata": {},
     "output_type": "execute_result"
    }
   ],
   "source": [
    "slider.value"
   ]
  },
  {
   "cell_type": "code",
   "execution_count": 253,
   "id": "7946441c-0b7a-40b3-8982-7ccdca8edbff",
   "metadata": {},
   "outputs": [
    {
     "data": {
      "application/mercury+json": "{\n    \"widget\": \"SliderWidget\",\n    \"model_id\": \"132b543b7aea41a99998edb8da59758f\",\n    \"position\": \"inline\"\n}",
      "application/vnd.jupyter.widget-view+json": {
       "model_id": "132b543b7aea41a99998edb8da59758f",
       "version_major": 2,
       "version_minor": 1
      },
      "text/plain": [
       "SliderWidget(label='Slider 2', position='inline', value=94)"
      ]
     },
     "metadata": {},
     "output_type": "display_data"
    }
   ],
   "source": [
    "slider2 = Slider(label=\"Slider 2\", value=72, position=\"inline\")"
   ]
  },
  {
   "cell_type": "code",
   "execution_count": 318,
   "id": "6b6bf127-5a54-4896-bed8-b1a4a2857c5a",
   "metadata": {},
   "outputs": [
    {
     "data": {
      "text/plain": [
       "2"
      ]
     },
     "execution_count": 318,
     "metadata": {},
     "output_type": "execute_result"
    }
   ],
   "source": [
    "slider2.value"
   ]
  },
  {
   "cell_type": "code",
   "execution_count": 319,
   "id": "e25ed431-85c8-4479-91e2-69207f66d394",
   "metadata": {},
   "outputs": [
    {
     "data": {
      "application/mercury+json": "{\n    \"widget\": \"SliderWidget\",\n    \"model_id\": \"c91d1c76f4f14527ac3bfeff67b4ac22\",\n    \"position\": \"sidebar\"\n}",
      "application/vnd.jupyter.widget-view+json": {
       "model_id": "c91d1c76f4f14527ac3bfeff67b4ac22",
       "version_major": 2,
       "version_minor": 1
      },
      "text/plain": [
       "SliderWidget(label='Slider 3', value=77)"
      ]
     },
     "metadata": {},
     "output_type": "display_data"
    }
   ],
   "source": [
    "slider3 = Slider(label=\"Slider 3\", value=33)"
   ]
  },
  {
   "cell_type": "code",
   "execution_count": 320,
   "id": "bd3dd4bb-3c59-433d-a5bf-5e0d6bd1e8fb",
   "metadata": {},
   "outputs": [
    {
     "data": {
      "text/plain": [
       "77"
      ]
     },
     "execution_count": 320,
     "metadata": {},
     "output_type": "execute_result"
    }
   ],
   "source": [
    "slider3.value"
   ]
  },
  {
   "cell_type": "code",
   "execution_count": 321,
   "id": "74c13559-9b96-4c15-b5be-71939868db59",
   "metadata": {},
   "outputs": [
    {
     "data": {
      "application/mercury+json": "{\n    \"widget\": \"SliderWidget\",\n    \"model_id\": \"8af564c630de4bb28654fcef47e8f684\",\n    \"position\": \"sidebar\"\n}",
      "application/vnd.jupyter.widget-view+json": {
       "model_id": "8af564c630de4bb28654fcef47e8f684",
       "version_major": 2,
       "version_minor": 1
      },
      "text/plain": [
       "SliderWidget(label='Slider 4', value=78)"
      ]
     },
     "metadata": {},
     "output_type": "display_data"
    }
   ],
   "source": [
    "slider4 = Slider(label=\"Slider 4\", value=42)"
   ]
  },
  {
   "cell_type": "code",
   "execution_count": 322,
   "id": "1b4450ed-1eb7-47c3-aa69-755772531bf6",
   "metadata": {},
   "outputs": [
    {
     "data": {
      "text/plain": [
       "78"
      ]
     },
     "execution_count": 322,
     "metadata": {},
     "output_type": "execute_result"
    }
   ],
   "source": [
    "slider4.value"
   ]
  },
  {
   "cell_type": "code",
   "execution_count": 323,
   "id": "bed92d76-af50-4f47-ac2f-ae7f06a9c1b4",
   "metadata": {},
   "outputs": [
    {
     "data": {
      "application/mercury+json": "{\n    \"widget\": \"SliderWidget\",\n    \"model_id\": \"6f348ed1b1db4d5d92d9825a7089ddca\",\n    \"position\": \"inline\"\n}",
      "application/vnd.jupyter.widget-view+json": {
       "model_id": "6f348ed1b1db4d5d92d9825a7089ddca",
       "version_major": 2,
       "version_minor": 1
      },
      "text/plain": [
       "SliderWidget(label='Slider 5', position='inline', value=56)"
      ]
     },
     "metadata": {},
     "output_type": "display_data"
    }
   ],
   "source": [
    "slider5 = Slider(label=\"Slider 5\", value=56, position='inline')"
   ]
  },
  {
   "cell_type": "code",
   "execution_count": 324,
   "id": "76050baa-ac1a-4a72-9307-6bc46c67b4d9",
   "metadata": {},
   "outputs": [
    {
     "data": {
      "text/plain": [
       "56"
      ]
     },
     "execution_count": 324,
     "metadata": {},
     "output_type": "execute_result"
    }
   ],
   "source": [
    "slider5.value"
   ]
  },
  {
   "cell_type": "code",
   "execution_count": 325,
   "id": "18b91b09-58c3-482b-ad05-f3a79a1ac711",
   "metadata": {},
   "outputs": [
    {
     "data": {
      "text/html": [
       "\n",
       "        <style scoped>\n",
       "        .mljar-indicator-row {\n",
       "            width: 100%;\n",
       "            display: flex;\n",
       "            flex-direction: row;\n",
       "            gap: 5px;\n",
       "            justify-content: flex-start;\n",
       "        }\n",
       "        @media (max-width: 800px) {\n",
       "            .mljar-indicator-row {\n",
       "                flex-direction: column;\n",
       "            }\n",
       "        }\n",
       "        .mljar-indicator-card {\n",
       "            flex: 1 1 0;\n",
       "            background: var(--bg, #fff);\n",
       "            border: 1px solid var(--border, #ebebeb);\n",
       "            border-radius: 12px;\n",
       "            padding: 26px 24px 18px 24px;\n",
       "            margin: 8px;\n",
       "            text-align: center;                \n",
       "            min-width: 180px;\n",
       "            max-width: 240px !important;\n",
       "            box-shadow: 0 2px 8px rgba(0,0,0,0.04);\n",
       "        }\n",
       "        .mljar-indicator-title {\n",
       "            font-size: 1.3em !important;\n",
       "            color: var(--label, #555);\n",
       "            margin-bottom: 10px;\n",
       "            font-family: 'Inter', 'Segoe UI', Arial, sans-serif !important;\n",
       "        }\n",
       "        .mljar-indicator-value {\n",
       "            font-size: 2.7em;\n",
       "            color: var(--value, #222);\n",
       "            font-family: 'Menlo', 'Consolas', monospace;\n",
       "            margin-bottom: 12px;\n",
       "            letter-spacing: 1px;\n",
       "        }\n",
       "        .mljar-indicator-delta {\n",
       "            display: inline-block;\n",
       "            padding: 0.28em 1.1em 0.28em 1.1em;\n",
       "            font-size: 1em;\n",
       "            border-radius: 2em;\n",
       "            margin-bottom: 4px;\n",
       "            font-family: 'Menlo', monospace;\n",
       "            font-weight: bold;\n",
       "        }\n",
       "        .mljar-indicator-delta.up {\n",
       "            background: var(--bg-green, rgba(0,178,117,0.12));\n",
       "            color: var(--green, #00B275);\n",
       "        }\n",
       "        .mljar-indicator-delta.down {\n",
       "            background: var(--bg-red, rgba(255,99,132,0.13));\n",
       "            color: var(--red, #FF6384);\n",
       "        }\n",
       "        </style>\n",
       "        <div class='mljar-indicator-row'>\n",
       "        <style scoped>\n",
       "        .mljar-indicator-row {\n",
       "            width: 100%;\n",
       "            display: flex;\n",
       "            flex-direction: row;\n",
       "            gap: 5px;\n",
       "            justify-content: flex-start;\n",
       "        }\n",
       "        @media (max-width: 800px) {\n",
       "            .mljar-indicator-row {\n",
       "                flex-direction: column;\n",
       "            }\n",
       "        }\n",
       "        .mljar-indicator-card {\n",
       "            flex: 1 1 0;\n",
       "            background: var(--bg, #fff);\n",
       "            border: 1px solid var(--border, #ebebeb);\n",
       "            border-radius: 12px;\n",
       "            padding: 26px 24px 18px 24px;\n",
       "            margin: 8px;\n",
       "            text-align: center;                \n",
       "            min-width: 180px;\n",
       "            max-width: 240px !important;\n",
       "            box-shadow: 0 2px 8px rgba(0,0,0,0.04);\n",
       "        }\n",
       "        .mljar-indicator-title {\n",
       "            font-size: 1.3em !important;\n",
       "            color: var(--label, #555);\n",
       "            margin-bottom: 10px;\n",
       "            font-family: 'Inter', 'Segoe UI', Arial, sans-serif !important;\n",
       "        }\n",
       "        .mljar-indicator-value {\n",
       "            font-size: 2.7em;\n",
       "            color: var(--value, #222);\n",
       "            font-family: 'Menlo', 'Consolas', monospace;\n",
       "            margin-bottom: 12px;\n",
       "            letter-spacing: 1px;\n",
       "        }\n",
       "        .mljar-indicator-delta {\n",
       "            display: inline-block;\n",
       "            padding: 0.28em 1.1em 0.28em 1.1em;\n",
       "            font-size: 1em;\n",
       "            border-radius: 2em;\n",
       "            margin-bottom: 4px;\n",
       "            font-family: 'Menlo', monospace;\n",
       "            font-weight: bold;\n",
       "        }\n",
       "        .mljar-indicator-delta.up {\n",
       "            background: var(--bg-green, rgba(0,178,117,0.12));\n",
       "            color: var(--green, #00B275);\n",
       "        }\n",
       "        .mljar-indicator-delta.down {\n",
       "            background: var(--bg-red, rgba(255,99,132,0.13));\n",
       "            color: var(--red, #FF6384);\n",
       "        }\n",
       "        </style>\n",
       "        \n",
       "<div class=\"mljar-indicator-card\"\n",
       "     style=\"--bg:#fff;--border:#ebebeb;--value:#222;--label:#555;--green:#00B275;--bg-green:rgba(0, 178, 117, 0.12);--red:#FF6384;--bg-red:rgba(255, 99, 132, 0.13)\">\n",
       "    <div class='mljar-indicator-title'>slider</div>\n",
       "    <div class='mljar-indicator-value'>82</div>\n",
       "    \n",
       "</div>\n",
       "\n",
       "        <style scoped>\n",
       "        .mljar-indicator-row {\n",
       "            width: 100%;\n",
       "            display: flex;\n",
       "            flex-direction: row;\n",
       "            gap: 5px;\n",
       "            justify-content: flex-start;\n",
       "        }\n",
       "        @media (max-width: 800px) {\n",
       "            .mljar-indicator-row {\n",
       "                flex-direction: column;\n",
       "            }\n",
       "        }\n",
       "        .mljar-indicator-card {\n",
       "            flex: 1 1 0;\n",
       "            background: var(--bg, #fff);\n",
       "            border: 1px solid var(--border, #ebebeb);\n",
       "            border-radius: 12px;\n",
       "            padding: 26px 24px 18px 24px;\n",
       "            margin: 8px;\n",
       "            text-align: center;                \n",
       "            min-width: 180px;\n",
       "            max-width: 240px !important;\n",
       "            box-shadow: 0 2px 8px rgba(0,0,0,0.04);\n",
       "        }\n",
       "        .mljar-indicator-title {\n",
       "            font-size: 1.3em !important;\n",
       "            color: var(--label, #555);\n",
       "            margin-bottom: 10px;\n",
       "            font-family: 'Inter', 'Segoe UI', Arial, sans-serif !important;\n",
       "        }\n",
       "        .mljar-indicator-value {\n",
       "            font-size: 2.7em;\n",
       "            color: var(--value, #222);\n",
       "            font-family: 'Menlo', 'Consolas', monospace;\n",
       "            margin-bottom: 12px;\n",
       "            letter-spacing: 1px;\n",
       "        }\n",
       "        .mljar-indicator-delta {\n",
       "            display: inline-block;\n",
       "            padding: 0.28em 1.1em 0.28em 1.1em;\n",
       "            font-size: 1em;\n",
       "            border-radius: 2em;\n",
       "            margin-bottom: 4px;\n",
       "            font-family: 'Menlo', monospace;\n",
       "            font-weight: bold;\n",
       "        }\n",
       "        .mljar-indicator-delta.up {\n",
       "            background: var(--bg-green, rgba(0,178,117,0.12));\n",
       "            color: var(--green, #00B275);\n",
       "        }\n",
       "        .mljar-indicator-delta.down {\n",
       "            background: var(--bg-red, rgba(255,99,132,0.13));\n",
       "            color: var(--red, #FF6384);\n",
       "        }\n",
       "        </style>\n",
       "        \n",
       "<div class=\"mljar-indicator-card\"\n",
       "     style=\"--bg:#fff;--border:#ebebeb;--value:#222;--label:#555;--green:#00B275;--bg-green:rgba(0, 178, 117, 0.12);--red:#FF6384;--bg-red:rgba(255, 99, 132, 0.13)\">\n",
       "    <div class='mljar-indicator-title'>slider 2</div>\n",
       "    <div class='mljar-indicator-value'>2</div>\n",
       "    \n",
       "</div>\n",
       "</div>"
      ],
      "text/plain": [
       "<widgets.indicator.Indicator at 0x7ee74f320fd0>"
      ]
     },
     "execution_count": 325,
     "metadata": {},
     "output_type": "execute_result"
    }
   ],
   "source": [
    "Indicator([\n",
    "    Indicator(slider.value, 'slider'),\n",
    "    Indicator(slider2.value, 'slider 2')\n",
    "])"
   ]
  },
  {
   "cell_type": "code",
   "execution_count": 326,
   "id": "e108a7a0-58a1-4636-bd03-0807898e51c7",
   "metadata": {},
   "outputs": [
    {
     "data": {
      "application/mercury+json": "{\n    \"widget\": \"SelectWidget\",\n    \"model_id\": \"d01e2a87678b47b8af013ae32a54ca93\",\n    \"position\": \"sidebar\"\n}",
      "application/vnd.jupyter.widget-view+json": {
       "model_id": "d01e2a87678b47b8af013ae32a54ca93",
       "version_major": 2,
       "version_minor": 1
      },
      "text/plain": [
       "SelectWidget(choices=['A', 'B', 'C'], label='Select', value='A')"
      ]
     },
     "metadata": {},
     "output_type": "display_data"
    }
   ],
   "source": [
    "select = Select(label=\"Select\", value='A', choices=['A', 'B', 'C'])"
   ]
  },
  {
   "cell_type": "code",
   "execution_count": 332,
   "id": "92905852-33d8-4ef9-87d5-68d616d89f09",
   "metadata": {},
   "outputs": [
    {
     "data": {
      "text/plain": [
       "'B'"
      ]
     },
     "execution_count": 332,
     "metadata": {},
     "output_type": "execute_result"
    }
   ],
   "source": [
    "select.value"
   ]
  },
  {
   "cell_type": "code",
   "execution_count": 333,
   "id": "495e0fb6-02e5-457d-83a7-115cbb0a2f0f",
   "metadata": {},
   "outputs": [
    {
     "data": {
      "text/html": [
       "\n",
       "        <style scoped>\n",
       "        .mljar-indicator-row {\n",
       "            width: 100%;\n",
       "            display: flex;\n",
       "            flex-direction: row;\n",
       "            gap: 5px;\n",
       "            justify-content: flex-start;\n",
       "        }\n",
       "        @media (max-width: 800px) {\n",
       "            .mljar-indicator-row {\n",
       "                flex-direction: column;\n",
       "            }\n",
       "        }\n",
       "        .mljar-indicator-card {\n",
       "            flex: 1 1 0;\n",
       "            background: var(--bg, #fff);\n",
       "            border: 1px solid var(--border, #ebebeb);\n",
       "            border-radius: 12px;\n",
       "            padding: 26px 24px 18px 24px;\n",
       "            margin: 8px;\n",
       "            text-align: center;                \n",
       "            min-width: 180px;\n",
       "            max-width: 240px !important;\n",
       "            box-shadow: 0 2px 8px rgba(0,0,0,0.04);\n",
       "        }\n",
       "        .mljar-indicator-title {\n",
       "            font-size: 1.3em !important;\n",
       "            color: var(--label, #555);\n",
       "            margin-bottom: 10px;\n",
       "            font-family: 'Inter', 'Segoe UI', Arial, sans-serif !important;\n",
       "        }\n",
       "        .mljar-indicator-value {\n",
       "            font-size: 2.7em;\n",
       "            color: var(--value, #222);\n",
       "            font-family: 'Menlo', 'Consolas', monospace;\n",
       "            margin-bottom: 12px;\n",
       "            letter-spacing: 1px;\n",
       "        }\n",
       "        .mljar-indicator-delta {\n",
       "            display: inline-block;\n",
       "            padding: 0.28em 1.1em 0.28em 1.1em;\n",
       "            font-size: 1em;\n",
       "            border-radius: 2em;\n",
       "            margin-bottom: 4px;\n",
       "            font-family: 'Menlo', monospace;\n",
       "            font-weight: bold;\n",
       "        }\n",
       "        .mljar-indicator-delta.up {\n",
       "            background: var(--bg-green, rgba(0,178,117,0.12));\n",
       "            color: var(--green, #00B275);\n",
       "        }\n",
       "        .mljar-indicator-delta.down {\n",
       "            background: var(--bg-red, rgba(255,99,132,0.13));\n",
       "            color: var(--red, #FF6384);\n",
       "        }\n",
       "        </style>\n",
       "        \n",
       "<div class=\"mljar-indicator-card\"\n",
       "     style=\"--bg:#fff;--border:#ebebeb;--value:#222;--label:#555;--green:#00B275;--bg-green:rgba(0, 178, 117, 0.12);--red:#FF6384;--bg-red:rgba(255, 99, 132, 0.13)\">\n",
       "    <div class='mljar-indicator-title'>select</div>\n",
       "    <div class='mljar-indicator-value'>B</div>\n",
       "    \n",
       "</div>\n"
      ],
      "text/plain": [
       "<widgets.indicator.Indicator at 0x7ee74f11d790>"
      ]
     },
     "execution_count": 333,
     "metadata": {},
     "output_type": "execute_result"
    }
   ],
   "source": [
    "Indicator(select.value, 'select')"
   ]
  },
  {
   "cell_type": "code",
   "execution_count": 334,
   "id": "978bb3a1-4abc-4e70-99ce-62fe6b476ed9",
   "metadata": {},
   "outputs": [
    {
     "data": {
      "application/mercury+json": "{\n    \"widget\": \"MultiSelectWidget\",\n    \"model_id\": \"1a4ba313a23d47d79ada9154de0fad7e\",\n    \"position\": \"sidebar\"\n}",
      "application/vnd.jupyter.widget-view+json": {
       "model_id": "1a4ba313a23d47d79ada9154de0fad7e",
       "version_major": 2,
       "version_minor": 1
      },
      "text/plain": [
       "MultiSelectWidget(choices=['a', 'b', 'c'], label='Multi', value=['b', 'c'])"
      ]
     },
     "metadata": {},
     "output_type": "display_data"
    }
   ],
   "source": [
    "multi = MultiSelect(label=\"Multi\", choices=[\"a\", \"b\", \"c\"], value=[\"b\",\"c\"])"
   ]
  },
  {
   "cell_type": "code",
   "execution_count": 335,
   "id": "d8d1a6f2-5dd6-4331-a82c-29bf8bded442",
   "metadata": {},
   "outputs": [
    {
     "data": {
      "text/plain": [
       "['b', 'c']"
      ]
     },
     "execution_count": 335,
     "metadata": {},
     "output_type": "execute_result"
    }
   ],
   "source": [
    "multi.value"
   ]
  },
  {
   "cell_type": "code",
   "execution_count": 336,
   "id": "4dfeb2df-567d-4a2c-8ae6-a139136b6e15",
   "metadata": {},
   "outputs": [
    {
     "data": {
      "image/png": "[encoded data removed]",
      "text/plain": [
       "<Figure size 640x480 with 1 Axes>"
      ]
     },
     "metadata": {},
     "output_type": "display_data"
    }
   ],
   "source": [
    "import matplotlib.pyplot as plt\n",
    "plt.plot([1,2], [slider.value, slider2.value])\n",
    "plt.title(select.value)\n",
    "plt.show()"
   ]
  },
  {
   "cell_type": "code",
   "execution_count": 336,
   "id": "5624070b-6f79-49c4-b698-321fb9cc34fc",
   "metadata": {},
   "outputs": [],
   "source": []
  },
  {
   "cell_type": "code",
   "execution_count": 336,
   "id": "125ae586-0509-41be-a71a-74e382b24176",
   "metadata": {},
   "outputs": [],
   "source": []
  },
  {
   "cell_type": "code",
   "execution_count": 336,
   "id": "c4a610f7-db38-4699-bba7-4cbeb3741be8",
   "metadata": {},
   "outputs": [],
   "source": []
  }
 ],
 "metadata": {
  "kernelspec": {
   "display_name": "Python 3 (ipykernel)",
   "language": "python",
   "name": "python3"
  },
  "language_info": {
   "codemirror_mode": {
    "name": "ipython",
    "version": 3
   },
   "file_extension": ".py",
   "mimetype": "text/x-python",
   "name": "python",
   "nbconvert_exporter": "python",
   "pygments_lexer": "ipython3",
   "version": "3.11.5"
  },
  "widgets": {
   "application/vnd.jupyter.widget-state+json": {
    "state": {
     "132b543b7aea41a99998edb8da59758f": {
      "model_module": "anywidget",
      "model_module_version": "~0.9.*",
      "model_name": "AnyModel",
      "state": {
       "_anywidget_id": "widgets.slider.SliderWidget",
       "_css": "\n    .mljar-slider-container {\n        display: flex;\n        flex-direction: column;\n        align-items: flex-start;\n        width: 100%;\n        min-width: 120px;\n        font-family: Arial, sans-serif;\n        font-size: 12px;\n        font-weight: normal;\n        color: #222222;\n    }\n\n    .mljar-slider-top-label {\n        margin-bottom: 6px;\n        font-weight: bold;\n    }\n\n    .mljar-slider-row {\n        display: flex;\n        flex-direction: row;\n        align-items: center;\n        width: 100%;\n        overflow: hidden;\n    }\n\n    .mljar-slider-input {\n        flex: 1 1 auto;\n        min-width: 60px;\n        max-width: 100%;\n        margin-right: 16px;\n        background: transparent;\n        -webkit-appearance: none;\n        appearance: none;\n        border: none;\n        height: 24px; /* big enough for thumb */\n        padding: 0;\n    }\n\n    .mljar-slider-input:focus {\n        outline: none;\n    }\n\n    /* Track */\n    .mljar-slider-input::-webkit-slider-runnable-track {\n        height: 6px;\n        background: #e0e0e0;\n        border-radius: 16px;\n        margin: auto; /* center track in the input box */\n    }\n    .mljar-slider-input::-moz-range-track {\n        height: 6px;\n        background: #e0e0e0;\n        border-radius: 16px;\n    }\n\n    /* Thumb */\n    .mljar-slider-input::-webkit-slider-thumb {\n        -webkit-appearance: none;\n        appearance: none;\n        width: 16px;\n        height: 16px;\n        border-radius: 50%;\n        background: #007bff;\n        cursor: pointer;\n        margin-top: -5px; /* centers thumb on track */\n    }\n    .mljar-slider-input::-moz-range-thumb {\n        width: 16px;\n        height: 16px;\n        border-radius: 50%;\n        background: #007bff;\n        cursor: pointer;\n    }\n\n    .mljar-slider-value-label {\n        font-weight: bold;\n        font-size: 1.1em;\n        color: #222222;\n        margin-left: 8px;\n    }\n    ",
       "_esm": "\n    function render({ model, el }) {\n      // Container for the whole widget\n      let container = document.createElement(\"div\");\n      container.classList.add(\"mljar-slider-container\");\n\n      // Top label (left-aligned)\n      let topLabel = document.createElement(\"div\");\n      topLabel.classList.add(\"mljar-slider-top-label\");\n      topLabel.innerHTML = model.get(\"label\") || \"Select number\";\n\n      // Row: slider and value label\n      let sliderRow = document.createElement(\"div\");\n      sliderRow.classList.add(\"mljar-slider-row\");\n\n      // Slider input\n      let slider = document.createElement(\"input\");\n      slider.type = \"range\";\n      slider.min = model.get(\"min\");\n      slider.max = model.get(\"max\");\n      slider.value = model.get(\"value\");\n      slider.classList.add(\"mljar-slider-input\");\n\n      // Value label (to the right of slider)\n      let valueLabel = document.createElement(\"span\");\n      valueLabel.classList.add(\"mljar-slider-value-label\");\n      valueLabel.innerHTML = model.get(\"value\");\n\n      //slider.addEventListener(\"input\", () => {\n      //  model.set(\"value\", Number(slider.value));\n      //  model.save_changes();\n      //});\n      let debounceTimer = null;\n      slider.addEventListener(\"input\", () => {\n        model.set(\"value\", Number(slider.value));\n        if (debounceTimer) clearTimeout(debounceTimer);\n        debounceTimer = setTimeout(() => {\n            model.save_changes();\n        }, 100);\n      });\n\n      model.on(\"change:value\", () => {\n        slider.value = model.get(\"value\");\n        valueLabel.innerHTML = model.get(\"value\");\n      });\n\n      // Assemble row\n      sliderRow.appendChild(slider);\n      sliderRow.appendChild(valueLabel);\n\n      // Build structure\n      container.appendChild(topLabel);\n      container.appendChild(sliderRow);\n      el.appendChild(container);\n\n      const css = model.get(\"custom_css\");\n      if (css && css.trim().length > 0) {\n        let styleTag = document.createElement(\"style\");\n        styleTag.textContent = css;\n        el.appendChild(styleTag);\n      }\n    }\n    export default { render };\n    ",
       "_model_module": "anywidget",
       "_model_module_version": "~0.9.*",
       "_model_name": "AnyModel",
       "_view_module": "anywidget",
       "_view_module_version": "~0.9.*",
       "_view_name": "AnyView",
       "custom_css": "",
       "label": "Slider 2",
       "layout": "IPY_MODEL_8433db74ed744bfcb3e4909eff997b82",
       "max": 100,
       "min": 0,
       "position": "inline",
       "value": 2
      }
     },
     "1a4ba313a23d47d79ada9154de0fad7e": {
      "model_module": "anywidget",
      "model_module_version": "~0.9.*",
      "model_name": "AnyModel",
      "state": {
       "_anywidget_id": "widgets.multiselect.MultiSelectWidget",
       "_css": "\n    .mljar-ms-container {\n      display: flex;\n      flex-direction: column;\n      width: 100%;\n      font-family: Arial, sans-serif;\n      font-size: 12px;\n      margin-bottom: 8px;\n    }\n    .mljar-ms-label {\n      margin-bottom: 4px;\n      font-weight: bold;\n    }\n    .mljar-ms-control {\n      display: flex;\n      justify-content: space-between;\n      border: 1px solid #cccccc;\n      border-radius: 16px;\n      padding: 4px;\n      background: #fff;\n      cursor: pointer;\n    }\n    .mljar-ms-chips {\n      display: flex;\n      flex-wrap: wrap;\n      gap: 4px;\n    }\n    .mljar-ms-placeholder {\n      color: #888;\n    }\n    .mljar-ms-chip {\n      background: #e9ecef;\n      padding: 2px 6px;\n      border-radius: 10px;\n    }\n    .mljar-ms-chip-x {\n      border: none;\n      background: transparent;\n      cursor: pointer;\n    }\n    .mljar-ms-dropdown {\n      display: none;\n      border: 1px solid #cccccc;\n      border-radius: 16px;\n      margin-top: 4px;\n      background: #fff;\n    }\n    .mljar-ms-list {\n      list-style: none;\n      margin: 0;\n      padding: 0;\n      max-height: 150px;\n      overflow: auto;\n    }\n    .mljar-ms-item {\n      display: flex;\n      gap: 6px;\n      padding: 4px;\n      cursor: pointer;\n    }\n    .mljar-ms-item:hover {\n      background: #f6f6f6;\n    }\n    ",
       "_esm": "\n    function render({ model, el }) {\n      const getSelected = () => Array.isArray(model.get(\"value\")) ? [...model.get(\"value\")] : [];\n      const getChoices  = () => Array.isArray(model.get(\"choices\")) ? [...model.get(\"choices\")] : [];\n      const isDisabled  = () => !!model.get(\"disabled\");\n      const setModelValueDebounced = (() => {\n        let t = null;\n        return (val) => {\n          model.set(\"value\", val);\n          if (t) clearTimeout(t);\n          t = setTimeout(() => model.save_changes(), 100);\n        };\n      })();\n\n      const container = document.createElement(\"div\");\n      container.classList.add(\"mljar-ms-container\");\n\n      const labelText = model.get(\"label\");\n      if (labelText) {\n        const topLabel = document.createElement(\"div\");\n        topLabel.classList.add(\"mljar-ms-label\");\n        topLabel.innerHTML = labelText;\n        container.appendChild(topLabel);\n      }\n\n      const control = document.createElement(\"div\");\n      control.classList.add(\"mljar-ms-control\");\n\n      const chipsWrap = document.createElement(\"div\");\n      chipsWrap.classList.add(\"mljar-ms-chips\");\n\n      const actions = document.createElement(\"div\");\n      actions.classList.add(\"mljar-ms-actions\");\n\n      const clearBtn = document.createElement(\"button\");\n      clearBtn.classList.add(\"mljar-ms-btn\");\n      clearBtn.innerHTML = \"&times;\";\n\n      const toggleBtn = document.createElement(\"button\");\n      toggleBtn.classList.add(\"mljar-ms-btn\");\n      toggleBtn.innerHTML = \"&#9662;\";\n\n      actions.appendChild(clearBtn);\n      actions.appendChild(toggleBtn);\n\n      control.appendChild(chipsWrap);\n      control.appendChild(actions);\n\n      const dropdown = document.createElement(\"div\");\n      dropdown.classList.add(\"mljar-ms-dropdown\");\n      const list = document.createElement(\"ul\");\n      list.classList.add(\"mljar-ms-list\");\n      dropdown.appendChild(list);\n\n      container.appendChild(control);\n      container.appendChild(dropdown);\n      el.appendChild(container);\n\n      let open = false;\n\n      function renderChips() {\n        const selected = getSelected();\n        chipsWrap.innerHTML = \"\";\n        if (selected.length === 0) {\n          const ph = document.createElement(\"span\");\n          ph.classList.add(\"mljar-ms-placeholder\");\n          ph.textContent = model.get(\"placeholder\") || \"\";\n          chipsWrap.appendChild(ph);\n        } else {\n          selected.forEach(val => {\n            const chip = document.createElement(\"span\");\n            chip.classList.add(\"mljar-ms-chip\");\n            chip.textContent = val;\n            const x = document.createElement(\"button\");\n            x.classList.add(\"mljar-ms-chip-x\");\n            x.innerHTML = \"&times;\";\n            x.addEventListener(\"click\", (e) => {\n              e.stopPropagation();\n              if (isDisabled()) return;\n              const newSel = getSelected().filter(v => v !== val);\n              setModelValueDebounced(newSel);\n            });\n            chip.appendChild(x);\n            chipsWrap.appendChild(chip);\n          });\n        }\n        clearBtn.disabled = isDisabled() || getSelected().length === 0;\n      }\n\n      function renderOptions() {\n        const choices = getChoices();\n        const selected = new Set(getSelected());\n        list.innerHTML = \"\";\n        choices.forEach(val => {\n          const li = document.createElement(\"li\");\n          li.classList.add(\"mljar-ms-item\");\n          const cb = document.createElement(\"input\");\n          cb.type = \"checkbox\";\n          cb.checked = selected.has(val);\n          cb.disabled = isDisabled();\n          const lbl = document.createElement(\"span\");\n          lbl.textContent = val;\n          li.appendChild(cb);\n          li.appendChild(lbl);\n          li.addEventListener(\"click\", (e) => {\n            e.stopPropagation();\n            if (isDisabled()) return;\n            const sel = new Set(getSelected());\n            if (sel.has(val)) sel.delete(val);\n            else sel.add(val);\n            setModelValueDebounced([...sel]);\n          });\n          list.appendChild(li);\n        });\n      }\n\n      function setOpen(next) {\n        open = !!next;\n        dropdown.style.display = open ? \"block\" : \"none\";\n      }\n\n      control.addEventListener(\"click\", () => {\n        if (isDisabled()) return;\n        setOpen(!open);\n      });\n      toggleBtn.addEventListener(\"click\", (e) => {\n        e.stopPropagation();\n        if (isDisabled()) return;\n        setOpen(!open);\n      });\n      clearBtn.addEventListener(\"click\", (e) => {\n        e.stopPropagation();\n        if (isDisabled()) return;\n        setModelValueDebounced([]);\n      });\n\n      document.addEventListener(\"click\", (e) => {\n        if (!el.contains(e.target)) setOpen(false);\n      });\n\n      renderChips();\n      renderOptions();\n      setOpen(false);\n\n      model.on(\"change:value\", () => {\n        renderChips();\n        renderOptions();\n      });\n      model.on(\"change:choices\", () => {\n        renderChips();\n        renderOptions();\n      });\n      model.on(\"change:disabled\", () => {\n        clearBtn.disabled = isDisabled() || getSelected().length === 0;\n        setOpen(false);\n      });\n\n      const css = model.get(\"custom_css\");\n      if (css && css.trim().length > 0) {\n        let styleTag = document.createElement(\"style\");\n        styleTag.textContent = css;\n        el.appendChild(styleTag);\n      }\n    }\n    export default { render };\n    ",
       "_model_module": "anywidget",
       "_model_module_version": "~0.9.*",
       "_model_name": "AnyModel",
       "_view_module": "anywidget",
       "_view_module_version": "~0.9.*",
       "_view_name": "AnyView",
       "choices": [
        "a",
        "b",
        "c"
       ],
       "custom_css": "",
       "disabled": false,
       "hidden": false,
       "label": "Multi",
       "layout": "IPY_MODEL_da4798beb2a7463fa0383f3ab2c1486b",
       "placeholder": "",
       "position": "sidebar",
       "value": [
        "b",
        "c"
       ]
      }
     },
     "287cfa3022e1476e8c38f44725825921": {
      "model_module": "@jupyter-widgets/base",
      "model_module_version": "2.0.0",
      "model_name": "LayoutModel",
      "state": {}
     },
     "6f348ed1b1db4d5d92d9825a7089ddca": {
      "model_module": "anywidget",
      "model_module_version": "~0.9.*",
      "model_name": "AnyModel",
      "state": {
       "_anywidget_id": "widgets.slider.SliderWidget",
       "_css": "\n    .mljar-slider-container {\n        display: flex;\n        flex-direction: column;\n        align-items: flex-start;\n        width: 100%;\n        min-width: 120px;\n        font-family: Arial, sans-serif;\n        font-size: 12px;\n        font-weight: normal;\n        color: #222222;\n    }\n\n    .mljar-slider-top-label {\n        margin-bottom: 6px;\n        font-weight: bold;\n    }\n\n    .mljar-slider-row {\n        display: flex;\n        flex-direction: row;\n        align-items: center;\n        width: 100%;\n        overflow: hidden;\n    }\n\n    .mljar-slider-input {\n        flex: 1 1 auto;\n        min-width: 60px;\n        max-width: 100%;\n        margin-right: 16px;\n        background: transparent;\n        -webkit-appearance: none;\n        appearance: none;\n        border: none;\n        height: 24px; /* big enough for thumb */\n        padding: 0;\n    }\n\n    .mljar-slider-input:focus {\n        outline: none;\n    }\n\n    /* Track */\n    .mljar-slider-input::-webkit-slider-runnable-track {\n        height: 6px;\n        background: #e0e0e0;\n        border-radius: 16px;\n        margin: auto; /* center track in the input box */\n    }\n    .mljar-slider-input::-moz-range-track {\n        height: 6px;\n        background: #e0e0e0;\n        border-radius: 16px;\n    }\n\n    /* Thumb */\n    .mljar-slider-input::-webkit-slider-thumb {\n        -webkit-appearance: none;\n        appearance: none;\n        width: 16px;\n        height: 16px;\n        border-radius: 50%;\n        background: #007bff;\n        cursor: pointer;\n        margin-top: -5px; /* centers thumb on track */\n    }\n    .mljar-slider-input::-moz-range-thumb {\n        width: 16px;\n        height: 16px;\n        border-radius: 50%;\n        background: #007bff;\n        cursor: pointer;\n    }\n\n    .mljar-slider-value-label {\n        font-weight: bold;\n        font-size: 1.1em;\n        color: #222222;\n        margin-left: 8px;\n    }\n    ",
       "_esm": "\n    function render({ model, el }) {\n      // Container for the whole widget\n      let container = document.createElement(\"div\");\n      container.classList.add(\"mljar-slider-container\");\n\n      // Top label (left-aligned)\n      let topLabel = document.createElement(\"div\");\n      topLabel.classList.add(\"mljar-slider-top-label\");\n      topLabel.innerHTML = model.get(\"label\") || \"Select number\";\n\n      // Row: slider and value label\n      let sliderRow = document.createElement(\"div\");\n      sliderRow.classList.add(\"mljar-slider-row\");\n\n      // Slider input\n      let slider = document.createElement(\"input\");\n      slider.type = \"range\";\n      slider.min = model.get(\"min\");\n      slider.max = model.get(\"max\");\n      slider.value = model.get(\"value\");\n      slider.classList.add(\"mljar-slider-input\");\n\n      // Value label (to the right of slider)\n      let valueLabel = document.createElement(\"span\");\n      valueLabel.classList.add(\"mljar-slider-value-label\");\n      valueLabel.innerHTML = model.get(\"value\");\n\n      //slider.addEventListener(\"input\", () => {\n      //  model.set(\"value\", Number(slider.value));\n      //  model.save_changes();\n      //});\n      let debounceTimer = null;\n      slider.addEventListener(\"input\", () => {\n        model.set(\"value\", Number(slider.value));\n        if (debounceTimer) clearTimeout(debounceTimer);\n        debounceTimer = setTimeout(() => {\n            model.save_changes();\n        }, 100);\n      });\n\n      model.on(\"change:value\", () => {\n        slider.value = model.get(\"value\");\n        valueLabel.innerHTML = model.get(\"value\");\n      });\n\n      // Assemble row\n      sliderRow.appendChild(slider);\n      sliderRow.appendChild(valueLabel);\n\n      // Build structure\n      container.appendChild(topLabel);\n      container.appendChild(sliderRow);\n      el.appendChild(container);\n\n      const css = model.get(\"custom_css\");\n      if (css && css.trim().length > 0) {\n        let styleTag = document.createElement(\"style\");\n        styleTag.textContent = css;\n        el.appendChild(styleTag);\n      }\n    }\n    export default { render };\n    ",
       "_model_module": "anywidget",
       "_model_module_version": "~0.9.*",
       "_model_name": "AnyModel",
       "_view_module": "anywidget",
       "_view_module_version": "~0.9.*",
       "_view_name": "AnyView",
       "custom_css": "",
       "label": "Slider 5",
       "layout": "IPY_MODEL_e9b5e987b1c646ffa86ccd8c7bdcf0f6",
       "max": 100,
       "min": 0,
       "position": "inline",
       "value": 56
      }
     },
     "8433db74ed744bfcb3e4909eff997b82": {
      "model_module": "@jupyter-widgets/base",
      "model_module_version": "2.0.0",
      "model_name": "LayoutModel",
      "state": {}
     },
     "8af564c630de4bb28654fcef47e8f684": {
      "model_module": "anywidget",
      "model_module_version": "~0.9.*",
      "model_name": "AnyModel",
      "state": {
       "_anywidget_id": "widgets.slider.SliderWidget",
       "_css": "\n    .mljar-slider-container {\n        display: flex;\n        flex-direction: column;\n        align-items: flex-start;\n        width: 100%;\n        min-width: 120px;\n        font-family: Arial, sans-serif;\n        font-size: 12px;\n        font-weight: normal;\n        color: #222222;\n    }\n\n    .mljar-slider-top-label {\n        margin-bottom: 6px;\n        font-weight: bold;\n    }\n\n    .mljar-slider-row {\n        display: flex;\n        flex-direction: row;\n        align-items: center;\n        width: 100%;\n        overflow: hidden;\n    }\n\n    .mljar-slider-input {\n        flex: 1 1 auto;\n        min-width: 60px;\n        max-width: 100%;\n        margin-right: 16px;\n        background: transparent;\n        -webkit-appearance: none;\n        appearance: none;\n        border: none;\n        height: 24px; /* big enough for thumb */\n        padding: 0;\n    }\n\n    .mljar-slider-input:focus {\n        outline: none;\n    }\n\n    /* Track */\n    .mljar-slider-input::-webkit-slider-runnable-track {\n        height: 6px;\n        background: #e0e0e0;\n        border-radius: 16px;\n        margin: auto; /* center track in the input box */\n    }\n    .mljar-slider-input::-moz-range-track {\n        height: 6px;\n        background: #e0e0e0;\n        border-radius: 16px;\n    }\n\n    /* Thumb */\n    .mljar-slider-input::-webkit-slider-thumb {\n        -webkit-appearance: none;\n        appearance: none;\n        width: 16px;\n        height: 16px;\n        border-radius: 50%;\n        background: #007bff;\n        cursor: pointer;\n        margin-top: -5px; /* centers thumb on track */\n    }\n    .mljar-slider-input::-moz-range-thumb {\n        width: 16px;\n        height: 16px;\n        border-radius: 50%;\n        background: #007bff;\n        cursor: pointer;\n    }\n\n    .mljar-slider-value-label {\n        font-weight: bold;\n        font-size: 1.1em;\n        color: #222222;\n        margin-left: 8px;\n    }\n    ",
       "_esm": "\n    function render({ model, el }) {\n      // Container for the whole widget\n      let container = document.createElement(\"div\");\n      container.classList.add(\"mljar-slider-container\");\n\n      // Top label (left-aligned)\n      let topLabel = document.createElement(\"div\");\n      topLabel.classList.add(\"mljar-slider-top-label\");\n      topLabel.innerHTML = model.get(\"label\") || \"Select number\";\n\n      // Row: slider and value label\n      let sliderRow = document.createElement(\"div\");\n      sliderRow.classList.add(\"mljar-slider-row\");\n\n      // Slider input\n      let slider = document.createElement(\"input\");\n      slider.type = \"range\";\n      slider.min = model.get(\"min\");\n      slider.max = model.get(\"max\");\n      slider.value = model.get(\"value\");\n      slider.classList.add(\"mljar-slider-input\");\n\n      // Value label (to the right of slider)\n      let valueLabel = document.createElement(\"span\");\n      valueLabel.classList.add(\"mljar-slider-value-label\");\n      valueLabel.innerHTML = model.get(\"value\");\n\n      //slider.addEventListener(\"input\", () => {\n      //  model.set(\"value\", Number(slider.value));\n      //  model.save_changes();\n      //});\n      let debounceTimer = null;\n      slider.addEventListener(\"input\", () => {\n        model.set(\"value\", Number(slider.value));\n        if (debounceTimer) clearTimeout(debounceTimer);\n        debounceTimer = setTimeout(() => {\n            model.save_changes();\n        }, 100);\n      });\n\n      model.on(\"change:value\", () => {\n        slider.value = model.get(\"value\");\n        valueLabel.innerHTML = model.get(\"value\");\n      });\n\n      // Assemble row\n      sliderRow.appendChild(slider);\n      sliderRow.appendChild(valueLabel);\n\n      // Build structure\n      container.appendChild(topLabel);\n      container.appendChild(sliderRow);\n      el.appendChild(container);\n\n      const css = model.get(\"custom_css\");\n      if (css && css.trim().length > 0) {\n        let styleTag = document.createElement(\"style\");\n        styleTag.textContent = css;\n        el.appendChild(styleTag);\n      }\n    }\n    export default { render };\n    ",
       "_model_module": "anywidget",
       "_model_module_version": "~0.9.*",
       "_model_name": "AnyModel",
       "_view_module": "anywidget",
       "_view_module_version": "~0.9.*",
       "_view_name": "AnyView",
       "custom_css": "",
       "label": "Slider 4",
       "layout": "IPY_MODEL_f9ebcb0f9018424da1d3ddc149b99a73",
       "max": 100,
       "min": 0,
       "position": "sidebar",
       "value": 78
      }
     },
     "8b624fc60542438999da756c601e6c5f": {
      "model_module": "@jupyter-widgets/base",
      "model_module_version": "2.0.0",
      "model_name": "LayoutModel",
      "state": {}
     },
     "a9f19f052a7d4264bae7f9669ffca10d": {
      "model_module": "anywidget",
      "model_module_version": "~0.9.*",
      "model_name": "AnyModel",
      "state": {
       "_anywidget_id": "widgets.slider.SliderWidget",
       "_css": "\n    .mljar-slider-container {\n        display: flex;\n        flex-direction: column;\n        align-items: flex-start;\n        width: 100%;\n        min-width: 120px;\n        font-family: Arial, sans-serif;\n        font-size: 12px;\n        font-weight: normal;\n        color: #222222;\n    }\n\n    .mljar-slider-top-label {\n        margin-bottom: 6px;\n        font-weight: bold;\n    }\n\n    .mljar-slider-row {\n        display: flex;\n        flex-direction: row;\n        align-items: center;\n        width: 100%;\n        overflow: hidden;\n    }\n\n    .mljar-slider-input {\n        flex: 1 1 auto;\n        min-width: 60px;\n        max-width: 100%;\n        margin-right: 16px;\n        background: transparent;\n        -webkit-appearance: none;\n        appearance: none;\n        border: none;\n        height: 24px; /* big enough for thumb */\n        padding: 0;\n    }\n\n    .mljar-slider-input:focus {\n        outline: none;\n    }\n\n    /* Track */\n    .mljar-slider-input::-webkit-slider-runnable-track {\n        height: 6px;\n        background: #e0e0e0;\n        border-radius: 16px;\n        margin: auto; /* center track in the input box */\n    }\n    .mljar-slider-input::-moz-range-track {\n        height: 6px;\n        background: #e0e0e0;\n        border-radius: 16px;\n    }\n\n    /* Thumb */\n    .mljar-slider-input::-webkit-slider-thumb {\n        -webkit-appearance: none;\n        appearance: none;\n        width: 16px;\n        height: 16px;\n        border-radius: 50%;\n        background: #007bff;\n        cursor: pointer;\n        margin-top: -5px; /* centers thumb on track */\n    }\n    .mljar-slider-input::-moz-range-thumb {\n        width: 16px;\n        height: 16px;\n        border-radius: 50%;\n        background: #007bff;\n        cursor: pointer;\n    }\n\n    .mljar-slider-value-label {\n        font-weight: bold;\n        font-size: 1.1em;\n        color: #222222;\n        margin-left: 8px;\n    }\n    ",
       "_esm": "\n    function render({ model, el }) {\n      // Container for the whole widget\n      let container = document.createElement(\"div\");\n      container.classList.add(\"mljar-slider-container\");\n\n      // Top label (left-aligned)\n      let topLabel = document.createElement(\"div\");\n      topLabel.classList.add(\"mljar-slider-top-label\");\n      topLabel.innerHTML = model.get(\"label\") || \"Select number\";\n\n      // Row: slider and value label\n      let sliderRow = document.createElement(\"div\");\n      sliderRow.classList.add(\"mljar-slider-row\");\n\n      // Slider input\n      let slider = document.createElement(\"input\");\n      slider.type = \"range\";\n      slider.min = model.get(\"min\");\n      slider.max = model.get(\"max\");\n      slider.value = model.get(\"value\");\n      slider.classList.add(\"mljar-slider-input\");\n\n      // Value label (to the right of slider)\n      let valueLabel = document.createElement(\"span\");\n      valueLabel.classList.add(\"mljar-slider-value-label\");\n      valueLabel.innerHTML = model.get(\"value\");\n\n      //slider.addEventListener(\"input\", () => {\n      //  model.set(\"value\", Number(slider.value));\n      //  model.save_changes();\n      //});\n      let debounceTimer = null;\n      slider.addEventListener(\"input\", () => {\n        model.set(\"value\", Number(slider.value));\n        if (debounceTimer) clearTimeout(debounceTimer);\n        debounceTimer = setTimeout(() => {\n            model.save_changes();\n        }, 100);\n      });\n\n      model.on(\"change:value\", () => {\n        slider.value = model.get(\"value\");\n        valueLabel.innerHTML = model.get(\"value\");\n      });\n\n      // Assemble row\n      sliderRow.appendChild(slider);\n      sliderRow.appendChild(valueLabel);\n\n      // Build structure\n      container.appendChild(topLabel);\n      container.appendChild(sliderRow);\n      el.appendChild(container);\n\n      const css = model.get(\"custom_css\");\n      if (css && css.trim().length > 0) {\n        let styleTag = document.createElement(\"style\");\n        styleTag.textContent = css;\n        el.appendChild(styleTag);\n      }\n    }\n    export default { render };\n    ",
       "_model_module": "anywidget",
       "_model_module_version": "~0.9.*",
       "_model_name": "AnyModel",
       "_view_module": "anywidget",
       "_view_module_version": "~0.9.*",
       "_view_name": "AnyView",
       "custom_css": "",
       "label": "Slider",
       "layout": "IPY_MODEL_ed51266d569d4db99c6eec4588739af1",
       "max": 100,
       "min": 0,
       "position": "sidebar",
       "value": 82
      }
     },
     "b01ac795870148e2b113c1d6dd1595bc": {
      "model_module": "anywidget",
      "model_module_version": "~0.9.*",
      "model_name": "AnyModel",
      "state": {
       "_anywidget_id": "widgets.slider.SliderWidget",
       "_css": "\n    .mljar-slider-container {\n        display: flex;\n        flex-direction: column;\n        align-items: flex-start;\n        width: 100%;\n        min-width: 120px;\n        font-family: Arial, sans-serif;\n        font-size: 12px;\n        font-weight: normal;\n        color: #222222;\n    }\n\n    .mljar-slider-top-label {\n        margin-bottom: 6px;\n        font-weight: bold;\n    }\n\n    .mljar-slider-row {\n        display: flex;\n        flex-direction: row;\n        align-items: center;\n        width: 100%;\n        overflow: hidden;\n    }\n\n    .mljar-slider-input {\n        flex: 1 1 auto;\n        min-width: 60px;\n        max-width: 100%;\n        margin-right: 16px;\n        background: transparent;\n        -webkit-appearance: none;\n        appearance: none;\n        border: none;\n        height: 24px; /* big enough for thumb */\n        padding: 0;\n    }\n\n    .mljar-slider-input:focus {\n        outline: none;\n    }\n\n    /* Track */\n    .mljar-slider-input::-webkit-slider-runnable-track {\n        height: 6px;\n        background: #e0e0e0;\n        border-radius: 16px;\n        margin: auto; /* center track in the input box */\n    }\n    .mljar-slider-input::-moz-range-track {\n        height: 6px;\n        background: #e0e0e0;\n        border-radius: 16px;\n    }\n\n    /* Thumb */\n    .mljar-slider-input::-webkit-slider-thumb {\n        -webkit-appearance: none;\n        appearance: none;\n        width: 16px;\n        height: 16px;\n        border-radius: 50%;\n        background: #007bff;\n        cursor: pointer;\n        margin-top: -5px; /* centers thumb on track */\n    }\n    .mljar-slider-input::-moz-range-thumb {\n        width: 16px;\n        height: 16px;\n        border-radius: 50%;\n        background: #007bff;\n        cursor: pointer;\n    }\n\n    .mljar-slider-value-label {\n        font-weight: bold;\n        font-size: 1.1em;\n        color: #222222;\n        margin-left: 8px;\n    }\n    ",
       "_esm": "\n    function render({ model, el }) {\n      // Container for the whole widget\n      let container = document.createElement(\"div\");\n      container.classList.add(\"mljar-slider-container\");\n\n      // Top label (left-aligned)\n      let topLabel = document.createElement(\"div\");\n      topLabel.classList.add(\"mljar-slider-top-label\");\n      topLabel.innerHTML = model.get(\"label\") || \"Select number\";\n\n      // Row: slider and value label\n      let sliderRow = document.createElement(\"div\");\n      sliderRow.classList.add(\"mljar-slider-row\");\n\n      // Slider input\n      let slider = document.createElement(\"input\");\n      slider.type = \"range\";\n      slider.min = model.get(\"min\");\n      slider.max = model.get(\"max\");\n      slider.value = model.get(\"value\");\n      slider.classList.add(\"mljar-slider-input\");\n\n      // Value label (to the right of slider)\n      let valueLabel = document.createElement(\"span\");\n      valueLabel.classList.add(\"mljar-slider-value-label\");\n      valueLabel.innerHTML = model.get(\"value\");\n\n      //slider.addEventListener(\"input\", () => {\n      //  model.set(\"value\", Number(slider.value));\n      //  model.save_changes();\n      //});\n      let debounceTimer = null;\n      slider.addEventListener(\"input\", () => {\n        model.set(\"value\", Number(slider.value));\n        if (debounceTimer) clearTimeout(debounceTimer);\n        debounceTimer = setTimeout(() => {\n            model.save_changes();\n        }, 100);\n      });\n\n      model.on(\"change:value\", () => {\n        slider.value = model.get(\"value\");\n        valueLabel.innerHTML = model.get(\"value\");\n      });\n\n      // Assemble row\n      sliderRow.appendChild(slider);\n      sliderRow.appendChild(valueLabel);\n\n      // Build structure\n      container.appendChild(topLabel);\n      container.appendChild(sliderRow);\n      el.appendChild(container);\n\n      const css = model.get(\"custom_css\");\n      if (css && css.trim().length > 0) {\n        let styleTag = document.createElement(\"style\");\n        styleTag.textContent = css;\n        el.appendChild(styleTag);\n      }\n    }\n    export default { render };\n    ",
       "_model_module": "anywidget",
       "_model_module_version": "~0.9.*",
       "_model_name": "AnyModel",
       "_view_module": "anywidget",
       "_view_module_version": "~0.9.*",
       "_view_name": "AnyView",
       "custom_css": "",
       "label": "Slider22",
       "layout": "IPY_MODEL_8b624fc60542438999da756c601e6c5f",
       "max": 100,
       "min": 0,
       "position": "sidebar",
       "value": 3
      }
     },
     "c91d1c76f4f14527ac3bfeff67b4ac22": {
      "model_module": "anywidget",
      "model_module_version": "~0.9.*",
      "model_name": "AnyModel",
      "state": {
       "_anywidget_id": "widgets.slider.SliderWidget",
       "_css": "\n    .mljar-slider-container {\n        display: flex;\n        flex-direction: column;\n        align-items: flex-start;\n        width: 100%;\n        min-width: 120px;\n        font-family: Arial, sans-serif;\n        font-size: 12px;\n        font-weight: normal;\n        color: #222222;\n    }\n\n    .mljar-slider-top-label {\n        margin-bottom: 6px;\n        font-weight: bold;\n    }\n\n    .mljar-slider-row {\n        display: flex;\n        flex-direction: row;\n        align-items: center;\n        width: 100%;\n        overflow: hidden;\n    }\n\n    .mljar-slider-input {\n        flex: 1 1 auto;\n        min-width: 60px;\n        max-width: 100%;\n        margin-right: 16px;\n        background: transparent;\n        -webkit-appearance: none;\n        appearance: none;\n        border: none;\n        height: 24px; /* big enough for thumb */\n        padding: 0;\n    }\n\n    .mljar-slider-input:focus {\n        outline: none;\n    }\n\n    /* Track */\n    .mljar-slider-input::-webkit-slider-runnable-track {\n        height: 6px;\n        background: #e0e0e0;\n        border-radius: 16px;\n        margin: auto; /* center track in the input box */\n    }\n    .mljar-slider-input::-moz-range-track {\n        height: 6px;\n        background: #e0e0e0;\n        border-radius: 16px;\n    }\n\n    /* Thumb */\n    .mljar-slider-input::-webkit-slider-thumb {\n        -webkit-appearance: none;\n        appearance: none;\n        width: 16px;\n        height: 16px;\n        border-radius: 50%;\n        background: #007bff;\n        cursor: pointer;\n        margin-top: -5px; /* centers thumb on track */\n    }\n    .mljar-slider-input::-moz-range-thumb {\n        width: 16px;\n        height: 16px;\n        border-radius: 50%;\n        background: #007bff;\n        cursor: pointer;\n    }\n\n    .mljar-slider-value-label {\n        font-weight: bold;\n        font-size: 1.1em;\n        color: #222222;\n        margin-left: 8px;\n    }\n    ",
       "_esm": "\n    function render({ model, el }) {\n      // Container for the whole widget\n      let container = document.createElement(\"div\");\n      container.classList.add(\"mljar-slider-container\");\n\n      // Top label (left-aligned)\n      let topLabel = document.createElement(\"div\");\n      topLabel.classList.add(\"mljar-slider-top-label\");\n      topLabel.innerHTML = model.get(\"label\") || \"Select number\";\n\n      // Row: slider and value label\n      let sliderRow = document.createElement(\"div\");\n      sliderRow.classList.add(\"mljar-slider-row\");\n\n      // Slider input\n      let slider = document.createElement(\"input\");\n      slider.type = \"range\";\n      slider.min = model.get(\"min\");\n      slider.max = model.get(\"max\");\n      slider.value = model.get(\"value\");\n      slider.classList.add(\"mljar-slider-input\");\n\n      // Value label (to the right of slider)\n      let valueLabel = document.createElement(\"span\");\n      valueLabel.classList.add(\"mljar-slider-value-label\");\n      valueLabel.innerHTML = model.get(\"value\");\n\n      //slider.addEventListener(\"input\", () => {\n      //  model.set(\"value\", Number(slider.value));\n      //  model.save_changes();\n      //});\n      let debounceTimer = null;\n      slider.addEventListener(\"input\", () => {\n        model.set(\"value\", Number(slider.value));\n        if (debounceTimer) clearTimeout(debounceTimer);\n        debounceTimer = setTimeout(() => {\n            model.save_changes();\n        }, 100);\n      });\n\n      model.on(\"change:value\", () => {\n        slider.value = model.get(\"value\");\n        valueLabel.innerHTML = model.get(\"value\");\n      });\n\n      // Assemble row\n      sliderRow.appendChild(slider);\n      sliderRow.appendChild(valueLabel);\n\n      // Build structure\n      container.appendChild(topLabel);\n      container.appendChild(sliderRow);\n      el.appendChild(container);\n\n      const css = model.get(\"custom_css\");\n      if (css && css.trim().length > 0) {\n        let styleTag = document.createElement(\"style\");\n        styleTag.textContent = css;\n        el.appendChild(styleTag);\n      }\n    }\n    export default { render };\n    ",
       "_model_module": "anywidget",
       "_model_module_version": "~0.9.*",
       "_model_name": "AnyModel",
       "_view_module": "anywidget",
       "_view_module_version": "~0.9.*",
       "_view_name": "AnyView",
       "custom_css": "",
       "label": "Slider 3",
       "layout": "IPY_MODEL_287cfa3022e1476e8c38f44725825921",
       "max": 100,
       "min": 0,
       "position": "sidebar",
       "value": 77
      }
     },
     "d01e2a87678b47b8af013ae32a54ca93": {
      "model_module": "anywidget",
      "model_module_version": "~0.9.*",
      "model_name": "AnyModel",
      "state": {
       "_anywidget_id": "widgets.select.SelectWidget",
       "_css": "\n    .mljar-select-container {\n      display: flex;\n      flex-direction: column;\n      width: 100%;\n      font-family: Arial, sans-serif;\n      font-size: 12px;\n      color: #222222;\n      margin-bottom: 8px;\n    }\n\n    .mljar-select-label {\n      margin-bottom: 4px;\n      font-weight: 600;\n    }\n\n    .mljar-select-input {\n      width: 100%;\n      padding: 6px;\n      border: 1px solid #cccccc;\n      border-radius: 16px;\n      background: #fff;\n      box-sizing: border-box;\n    }\n\n    .mljar-select-input:disabled {\n      background: #f5f5f5;\n      color: #888;\n      cursor: not-allowed;\n    }\n    ",
       "_esm": "\n    function render({ model, el }) {\n      let container = document.createElement(\"div\");\n      container.classList.add(\"mljar-select-container\");\n\n      if (model.get(\"label\")) {\n        let topLabel = document.createElement(\"div\");\n        topLabel.classList.add(\"mljar-select-label\");\n        topLabel.innerHTML = model.get(\"label\");\n        container.appendChild(topLabel);\n      }\n\n      let select = document.createElement(\"select\");\n      select.classList.add(\"mljar-select-input\");\n\n      if (model.get(\"disabled\")) {\n        select.disabled = true;\n      }\n\n      const choices = model.get(\"choices\") || [];\n      const currentValue = model.get(\"value\");\n\n      choices.forEach(choice => {\n        let option = document.createElement(\"option\");\n        option.value = choice;\n        option.innerHTML = choice;\n        if (choice === currentValue) {\n          option.selected = true;\n        }\n        select.appendChild(option);\n      });\n\n      let debounceTimer = null;\n      select.addEventListener(\"change\", () => {\n        const val = select.value;\n        model.set(\"value\", val);\n        if (debounceTimer) clearTimeout(debounceTimer);\n        debounceTimer = setTimeout(() => {\n            model.save_changes();\n        }, 100);\n      });\n\n      model.on(\"change:value\", () => {\n        select.value = model.get(\"value\");\n      });\n\n      container.appendChild(select);\n      el.appendChild(container);\n\n      const css = model.get(\"custom_css\");\n      if (css && css.trim().length > 0) {\n        let styleTag = document.createElement(\"style\");\n        styleTag.textContent = css;\n        el.appendChild(styleTag);\n      }\n    }\n    export default { render };\n    ",
       "_model_module": "anywidget",
       "_model_module_version": "~0.9.*",
       "_model_name": "AnyModel",
       "_view_module": "anywidget",
       "_view_module_version": "~0.9.*",
       "_view_name": "AnyView",
       "choices": [
        "A",
        "B",
        "C"
       ],
       "custom_css": "",
       "disabled": false,
       "hidden": false,
       "label": "Select",
       "layout": "IPY_MODEL_d458cc31b03f459b80c81e2fa3fbe391",
       "position": "sidebar",
       "value": "B"
      }
     },
     "d458cc31b03f459b80c81e2fa3fbe391": {
      "model_module": "@jupyter-widgets/base",
      "model_module_version": "2.0.0",
      "model_name": "LayoutModel",
      "state": {}
     },
     "da4798beb2a7463fa0383f3ab2c1486b": {
      "model_module": "@jupyter-widgets/base",
      "model_module_version": "2.0.0",
      "model_name": "LayoutModel",
      "state": {}
     },
     "e9b5e987b1c646ffa86ccd8c7bdcf0f6": {
      "model_module": "@jupyter-widgets/base",
      "model_module_version": "2.0.0",
      "model_name": "LayoutModel",
      "state": {}
     },
     "ed51266d569d4db99c6eec4588739af1": {
      "model_module": "@jupyter-widgets/base",
      "model_module_version": "2.0.0",
      "model_name": "LayoutModel",
      "state": {}
     },
     "f9ebcb0f9018424da1d3ddc149b99a73": {
      "model_module": "@jupyter-widgets/base",
      "model_module_version": "2.0.0",
      "model_name": "LayoutModel",
      "state": {}
     }
    },
    "version_major": 2,
    "version_minor": 0
   }
  }
 },
 "nbformat": 4,
 "nbformat_minor": 5
}
